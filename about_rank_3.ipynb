{
 "cells": [
  {
   "cell_type": "markdown",
   "metadata": {},
   "source": [
    "# MD Simultaion "
   ]
  },
  {
   "cell_type": "code",
   "execution_count": 1,
   "metadata": {},
   "outputs": [],
   "source": [
    "import copy\n",
    "from pathlib import Path\n",
    "import sys\n",
    "\n",
    "import requests\n",
    "from IPython.display import display\n",
    "import numpy as np\n",
    "from rdkit import Chem\n",
    "from rdkit.Chem import Draw\n",
    "from rdkit.Chem import AllChem\n",
    "import mdtraj as md\n",
    "import pdbfixer\n",
    "import openmm as mm\n",
    "import openmm.app as app\n",
    "from openmm import unit\n",
    "from openff.toolkit.topology import Molecule, Topology\n",
    "from openmmforcefields.generators import GAFFTemplateGenerator"
   ]
  },
  {
   "cell_type": "code",
   "execution_count": 2,
   "metadata": {},
   "outputs": [],
   "source": [
    "#import warnings\n",
    "\n",
    "# 경고를 무시하도록 설정합니다.\n",
    "#warnings.filterwarnings(\"ignore\", message=\"PDB file is missing resid information.\")\n",
    "#warnings.filterwarnings(\"ignore\", message=\"Reload offsets from trajectory\")\n",
    "#warnings.filterwarnings(\"ignore\", message=\"duplicate atom\")\n",
    "\n",
    "# 나머지 코드 실행"
   ]
  },
  {
   "cell_type": "code",
   "execution_count": 3,
   "metadata": {},
   "outputs": [],
   "source": [
    "import warnings\n",
    "warnings.filterwarnings(\"ignore\")"
   ]
  },
  {
   "cell_type": "code",
   "execution_count": 4,
   "metadata": {},
   "outputs": [],
   "source": [
    "def prepare_protein(\n",
    "    pdb_file, ignore_missing_residues=True, ignore_terminal_missing_residues=True, ph=7.0\n",
    "):\n",
    "    \"\"\"\n",
    "    Use pdbfixer to prepare the protein from a PDB file. Hetero atoms such as ligands are\n",
    "    removed and non-standard residues replaced. Missing atoms to existing residues are added.\n",
    "    Missing residues are ignored by default, but can be included.\n",
    "\n",
    "    Parameters\n",
    "    ----------\n",
    "    pdb_file: pathlib.Path or str\n",
    "        PDB file containing the system to simulate.\n",
    "    ignore_missing_residues: bool, optional\n",
    "        If missing residues should be ignored or built.\n",
    "    ignore_terminal_missing_residues: bool, optional\n",
    "        If missing residues at the beginning and the end of a chain should be ignored or built.\n",
    "    ph: float, optional\n",
    "        pH value used to determine protonation state of residues\n",
    "\n",
    "    Returns\n",
    "    -------\n",
    "    fixer: pdbfixer.pdbfixer.PDBFixer\n",
    "        Prepared protein system.\n",
    "    \"\"\"\n",
    "    fixer = pdbfixer.PDBFixer(str(pdb_file))\n",
    "    fixer.removeHeterogens()  # co-crystallized ligands are unknown to PDBFixer\n",
    "    fixer.findMissingResidues()  # identify missing residues, needed for identification of missing atoms\n",
    "\n",
    "    # if missing terminal residues shall be ignored, remove them from the dictionary\n",
    "    if ignore_terminal_missing_residues:\n",
    "        chains = list(fixer.topology.chains())\n",
    "        keys = fixer.missingResidues.keys()\n",
    "        for key in list(keys):\n",
    "            chain = chains[key[0]]\n",
    "            if key[1] == 0 or key[1] == len(list(chain.residues())):\n",
    "                del fixer.missingResidues[key]\n",
    "\n",
    "    # if all missing residues shall be ignored ignored, clear the dictionary\n",
    "    if ignore_missing_residues:\n",
    "        fixer.missingResidues = {}\n",
    "\n",
    "    fixer.findNonstandardResidues()  # find non-standard residue\n",
    "    fixer.replaceNonstandardResidues()  # replace non-standard residues with standard one\n",
    "    fixer.findMissingAtoms()  # find missing heavy atoms\n",
    "    fixer.addMissingAtoms()  # add missing atoms and residues\n",
    "    fixer.addMissingHydrogens(ph)  # add missing hydrogens\n",
    "    return fixer"
   ]
  },
  {
   "cell_type": "code",
   "execution_count": 5,
   "metadata": {},
   "outputs": [],
   "source": [
    "prepare_protein = prepare_protein(\"./protein_rank_3_ligand_complex.pdb\", ignore_missing_residues=False)"
   ]
  },
  {
   "cell_type": "code",
   "execution_count": 6,
   "metadata": {},
   "outputs": [],
   "source": [
    "def prepare_ligand(pdb_file, resname, smiles, depict=True):\n",
    "    \"\"\"\n",
    "    Prepare a ligand from a PDB file via adding hydrogens and assigning bond orders. A depiction\n",
    "    of the ligand before and after preparation is rendered in 2D to allow an inspection of the\n",
    "    results. Huge thanks to @j-wags for the suggestion.\n",
    "\n",
    "    Parameters\n",
    "    ----------\n",
    "    pdb_file: pathlib.PosixPath\n",
    "       PDB file containing the ligand of interest.\n",
    "    resname: str\n",
    "        Three character residue name of the ligand.\n",
    "    smiles : str\n",
    "        SMILES string of the ligand informing about correct protonation and bond orders.\n",
    "    depict: bool, optional\n",
    "        show a 2D representation of the ligand\n",
    "\n",
    "    Returns\n",
    "    -------\n",
    "    prepared_ligand: rdkit.Chem.rdchem.Mol\n",
    "        Prepared ligand.\n",
    "    \"\"\"\n",
    "    # split molecule\n",
    "    rdkit_mol = Chem.MolFromPDBFile(str(pdb_file), proximityBonding=True, sanitize=False)\n",
    "    print(rdkit_mol)\n",
    "    rdkit_mol_split = Chem.rdmolops.SplitMolByPDBResidues(rdkit_mol)\n",
    "\n",
    "    # extract the ligand and remove any already present hydrogens\n",
    "    ligand = rdkit_mol_split[resname]\n",
    "    ligand = Chem.RemoveHs(ligand)\n",
    "\n",
    "    # assign bond orders from template\n",
    "    reference_mol = Chem.MolFromSmiles(smiles)\n",
    "    prepared_ligand = AllChem.AssignBondOrdersFromTemplate(reference_mol, ligand)\n",
    "    prepared_ligand.AddConformer(ligand.GetConformer(0))\n",
    "\n",
    "    # protonate ligand\n",
    "    prepared_ligand = Chem.rdmolops.AddHs(prepared_ligand, addCoords=True)\n",
    "    prepared_ligand = Chem.MolFromMolBlock(Chem.MolToMolBlock(prepared_ligand))\n",
    "\n",
    "    # 2D depiction\n",
    "    if depict:\n",
    "        ligand_2d = copy.deepcopy(ligand)\n",
    "        prepared_ligand_2d = copy.deepcopy(prepared_ligand)\n",
    "        AllChem.Compute2DCoords(ligand_2d)\n",
    "        AllChem.Compute2DCoords(prepared_ligand_2d)\n",
    "        display(\n",
    "            Draw.MolsToGridImage(\n",
    "                [ligand_2d, prepared_ligand_2d], molsPerRow=2, legends=[\"original\", \"prepared\"]\n",
    "            )\n",
    "        )\n",
    "\n",
    "    # return ligand\n",
    "    return prepared_ligand"
   ]
  },
  {
   "cell_type": "code",
   "execution_count": 7,
   "metadata": {},
   "outputs": [],
   "source": [
    "pdb_path = \"./protein_rank_3_ligand_complex.pdb\"\n",
    "ligand_name = \"UNL\"\n",
    "smiles = \"CCCOCCN1CCN(C(=O)Nc2ccc(OC)cc2F)CC1\""
   ]
  },
  {
   "cell_type": "code",
   "execution_count": 8,
   "metadata": {},
   "outputs": [
    {
     "name": "stdout",
     "output_type": "stream",
     "text": [
      "<rdkit.Chem.rdchem.Mol object at 0x7f1f7f98c270>\n"
     ]
    },
    {
     "name": "stderr",
     "output_type": "stream",
     "text": [
      "[09:55:06] WARNING: More than one matching pattern found - picking one\n",
      "\n"
     ]
    },
    {
     "data": {
      "image/png": "[encoded data removed]",
      "text/plain": [
       "<IPython.core.display.Image object>"
      ]
     },
     "metadata": {},
     "output_type": "display_data"
    }
   ],
   "source": [
    "rdkit_ligand = prepare_ligand(pdb_path, ligand_name, smiles)"
   ]
  },
  {
   "cell_type": "code",
   "execution_count": 9,
   "metadata": {},
   "outputs": [],
   "source": [
    "def rdkit_to_openmm(rdkit_mol, name=\"LIG\"):\n",
    "    \"\"\"\n",
    "    Convert an RDKit molecule to an OpenMM molecule.\n",
    "    Inspired by @hannahbrucemcdonald and @glass-w.\n",
    "\n",
    "    Parameters\n",
    "    ----------\n",
    "    rdkit_mol: rdkit.Chem.rdchem.Mol\n",
    "        RDKit molecule to convert.\n",
    "    name: str\n",
    "        Molecule name.\n",
    "\n",
    "    Returns\n",
    "    -------\n",
    "    omm_molecule: openmm.app.Modeller\n",
    "        OpenMM modeller object holding the molecule of interest.\n",
    "    \"\"\"\n",
    "    # convert RDKit to OpenFF\n",
    "    off_mol = Molecule.from_rdkit(rdkit_mol)\n",
    "    #print(off_mol)\n",
    "\n",
    "    # add name for molecule\n",
    "    off_mol.name = name\n",
    "    #print(off_mol.name)\n",
    "\n",
    "    # add names for atoms\n",
    "    element_counter_dict = {}\n",
    "    for off_atom, rdkit_atom in zip(off_mol.atoms, rdkit_mol.GetAtoms()):\n",
    "        element = rdkit_atom.GetSymbol()\n",
    "        if element in element_counter_dict.keys():\n",
    "            element_counter_dict[element] += 1\n",
    "        else:\n",
    "            element_counter_dict[element] = 1\n",
    "        off_atom.name = element + str(element_counter_dict[element])\n",
    "    #print(element_counter_dict)\n",
    "\n",
    "    # convert from OpenFF to OpenMM\n",
    "    off_mol_topology = off_mol.to_topology()\n",
    "    mol_topology = off_mol_topology.to_openmm()\n",
    "    #print(mol_topology)\n",
    "    mol_positions = off_mol.conformers[0]\n",
    "    #print(mol_positions)\n",
    "\n",
    "    # convert units from Ångström to nanometers\n",
    "    # since OpenMM works in nm\n",
    "    mol_positions = mol_positions.to(\"nanometers\")\n",
    "    #print(mol_positions)\n",
    "\n",
    "    # combine topology and positions in modeller object\n",
    "    omm_mol = app.Modeller(mol_topology, mol_positions)\n",
    "\n",
    "    return omm_mol"
   ]
  },
  {
   "cell_type": "code",
   "execution_count": 10,
   "metadata": {},
   "outputs": [],
   "source": [
    "omm_ligand = rdkit_to_openmm(rdkit_ligand, ligand_name)"
   ]
  },
  {
   "cell_type": "code",
   "execution_count": 11,
   "metadata": {},
   "outputs": [],
   "source": [
    "def merge_protein_and_ligand(protein, ligand):\n",
    "    \"\"\"\n",
    "    Merge two OpenMM objects.\n",
    "\n",
    "    Parameters\n",
    "    ----------\n",
    "    protein: pdbfixer.pdbfixer.PDBFixer\n",
    "        Protein to merge.\n",
    "    ligand: openmm.app.Modeller\n",
    "        Ligand to merge.\n",
    "\n",
    "    Returns\n",
    "    -------\n",
    "    complex_topology: openmm.app.topology.Topology\n",
    "        The merged topology.\n",
    "    complex_positions: openmm.unit.quantity.Quantity\n",
    "        The merged positions.\n",
    "    \"\"\"\n",
    "    # combine topologies\n",
    "    md_protein_topology = md.Topology.from_openmm(protein.topology)  # using mdtraj for protein top\n",
    "    #print(md_protein_topology)\n",
    "    md_ligand_topology = md.Topology.from_openmm(ligand.topology)  # using mdtraj for ligand top\n",
    "    #print(md_ligand_topology)\n",
    "    md_complex_topology = md_protein_topology.join(md_ligand_topology)  # add them together\n",
    "    #print(md_complex_topology)\n",
    "    complex_topology = md_complex_topology.to_openmm()\n",
    "    #print(complex_topology)\n",
    "\n",
    "    # combine positions\n",
    "    total_atoms = len(protein.positions) + len(ligand.positions)\n",
    "\n",
    "    # create an array for storing all atom positions as tupels containing a value and a unit\n",
    "    # called OpenMM Quantities\n",
    "    complex_positions = unit.Quantity(np.zeros([total_atoms, 3]), unit=unit.nanometers)\n",
    "    complex_positions[: len(protein.positions)] = protein.positions  # add protein positions\n",
    "    complex_positions[len(protein.positions) :] = ligand.positions  # add ligand positions\n",
    "\n",
    "    return complex_topology, complex_positions"
   ]
  },
  {
   "cell_type": "code",
   "execution_count": 12,
   "metadata": {},
   "outputs": [],
   "source": [
    "complex_topology, complex_positions = merge_protein_and_ligand(prepare_protein, omm_ligand)"
   ]
  },
  {
   "cell_type": "code",
   "execution_count": 13,
   "metadata": {},
   "outputs": [
    {
     "name": "stdout",
     "output_type": "stream",
     "text": [
      "Complex topology has 4194 atoms.\n"
     ]
    }
   ],
   "source": [
    "print(\"Complex topology has\", complex_topology.getNumAtoms(), \"atoms.\")\n",
    "# NBVAL_CHECK_OUTPUT"
   ]
  },
  {
   "cell_type": "code",
   "execution_count": 14,
   "metadata": {},
   "outputs": [],
   "source": [
    "def generate_forcefield(\n",
    "    rdkit_mol=None, protein_ff=\"amber14-all.xml\", solvent_ff=\"amber14/tip3pfb.xml\"\n",
    "):\n",
    "    \"\"\"\n",
    "    Generate an OpenMM Forcefield object and register a small molecule.\n",
    "\n",
    "    Parameters\n",
    "    ----------\n",
    "    rdkit_mol: rdkit.Chem.rdchem.Mol\n",
    "        Small molecule to register in the force field.\n",
    "    protein_ff: string\n",
    "        Name of the force field.\n",
    "    solvent_ff: string\n",
    "        Name of the solvent force field.\n",
    "\n",
    "    Returns\n",
    "    -------\n",
    "    forcefield: openmm.app.Forcefield\n",
    "        Forcefield with registered small molecule.\n",
    "    \"\"\"\n",
    "    forcefield = app.ForceField(protein_ff, solvent_ff)\n",
    "\n",
    "    if rdkit_mol is not None:\n",
    "        gaff = GAFFTemplateGenerator(\n",
    "            molecules=Molecule.from_rdkit(rdkit_mol, allow_undefined_stereo=True)\n",
    "        )\n",
    "        forcefield.registerTemplateGenerator(gaff.generator)\n",
    "\n",
    "    return forcefield"
   ]
  },
  {
   "cell_type": "code",
   "execution_count": 15,
   "metadata": {},
   "outputs": [],
   "source": [
    "forcefield = generate_forcefield(rdkit_ligand)"
   ]
  },
  {
   "cell_type": "code",
   "execution_count": 16,
   "metadata": {},
   "outputs": [
    {
     "name": "stderr",
     "output_type": "stream",
     "text": [
      "/bin/bash: /home/media/data2/user_home/dbsejrgus226/miniconda3/envs/MD/lib/libtinfo.so.6: no version information available (required by /bin/bash)\n",
      "/bin/bash: /home/media/data2/user_home/dbsejrgus226/miniconda3/envs/MD/lib/libtinfo.so.6: no version information available (required by /bin/bash)\n",
      "/bin/bash: /home/media/data2/user_home/dbsejrgus226/miniconda3/envs/MD/lib/libtinfo.so.6: no version information available (required by /bin/bash)\n",
      "/bin/bash: /home/media/data2/user_home/dbsejrgus226/miniconda3/envs/MD/lib/libtinfo.so.6: no version information available (required by /bin/bash)\n",
      "/bin/bash: /home/media/data2/user_home/dbsejrgus226/miniconda3/envs/MD/lib/libtinfo.so.6: no version information available (required by /bin/bash)\n",
      "/bin/bash: /home/media/data2/user_home/dbsejrgus226/miniconda3/envs/MD/lib/libtinfo.so.6: no version information available (required by /bin/bash)\n"
     ]
    }
   ],
   "source": [
    "modeller = app.Modeller(complex_topology, complex_positions)\n",
    "modeller.addSolvent(forcefield, padding=1.0 * unit.nanometers, ionicStrength=0.15 * unit.molar)"
   ]
  },
  {
   "cell_type": "code",
   "execution_count": 17,
   "metadata": {},
   "outputs": [],
   "source": [
    "system = forcefield.createSystem(modeller.topology, nonbondedMethod=app.PME)\n",
    "integrator = mm.LangevinIntegrator(\n",
    "    300 * unit.kelvin, 1.0 / unit.picoseconds, 2.0 * unit.femtoseconds\n",
    ")\n",
    "simulation = app.Simulation(modeller.topology, system, integrator)\n",
    "simulation.context.setPositions(modeller.positions)"
   ]
  },
  {
   "cell_type": "code",
   "execution_count": 18,
   "metadata": {},
   "outputs": [],
   "source": [
    "simulation.minimizeEnergy()\n",
    "with open(\"topology_3.pdb\", \"w\") as pdb_file:\n",
    "    app.PDBFile.writeFile(\n",
    "        simulation.topology,\n",
    "        simulation.context.getState(getPositions=True, enforcePeriodicBox=True).getPositions(),\n",
    "        file=pdb_file,\n",
    "        keepIds=True,\n",
    "    )"
   ]
  },
  {
   "cell_type": "code",
   "execution_count": 19,
   "metadata": {},
   "outputs": [],
   "source": [
    "# output settings\n",
    "\n",
    "steps = 50000  # corresponds to 100 fs\n",
    "write_interval = 500  # write every 10 fs\n",
    "log_interval = 250  # log progress to stdout every 5 fs\n",
    "simulation.reporters.append(\n",
    "    md.reporters.XTCReporter(file=str(\"trajectory_3.xtc\"), reportInterval=write_interval)\n",
    ")\n",
    "simulation.reporters.append(\n",
    "    app.StateDataReporter(\n",
    "        sys.stdout,\n",
    "        log_interval,\n",
    "        step=True,\n",
    "        potentialEnergy=True,\n",
    "        temperature=True,\n",
    "        progress=True,\n",
    "        remainingTime=True,\n",
    "        speed=True,\n",
    "        totalSteps=steps,\n",
    "        separator=\"\\t\",\n",
    "    )\n",
    ")"
   ]
  },
  {
   "cell_type": "code",
   "execution_count": 20,
   "metadata": {},
   "outputs": [
    {
     "name": "stdout",
     "output_type": "stream",
     "text": [
      "#\"Progress (%)\"\t\"Step\"\t\"Potential Energy (kJ/mole)\"\t\"Temperature (K)\"\t\"Speed (ns/day)\"\t\"Time Remaining\"\n",
      "0.5%\t250\t-868136.4761515916\t205.1498418801439\t0\t--\n",
      "1.0%\t500\t-851128.4546672166\t242.1339629058735\t100\t1:25\n",
      "1.5%\t750\t-839867.6480265916\t264.22700792744087\t100\t1:25\n",
      "2.0%\t1000\t-831594.4312297166\t276.4050866999125\t99.2\t1:25\n",
      "2.5%\t1250\t-826522.4546672166\t284.4435883981715\t98.7\t1:25\n",
      "3.0%\t1500\t-823170.8628703416\t288.7766847226716\t97.9\t1:25\n",
      "3.5%\t1750\t-820258.0640422166\t293.28525807889304\t98\t1:25\n",
      "4.0%\t2000\t-817585.0034953416\t295.17992182957283\t97.2\t1:25\n",
      "4.5%\t2250\t-816171.5972453416\t297.5418735759555\t96.8\t1:25\n",
      "5.0%\t2500\t-814702.6831828416\t299.28519301175027\t96.5\t1:25\n",
      "5.5%\t2750\t-813946.7339640916\t298.74913716250853\t96.3\t1:24\n",
      "6.0%\t3000\t-813587.7300578416\t299.88852588396924\t96\t1:24\n",
      "6.5%\t3250\t-811740.3745890916\t300.93095646486796\t95.7\t1:24\n",
      "7.0%\t3500\t-811380.9195109666\t298.6364906957908\t95.3\t1:24\n",
      "7.5%\t3750\t-810919.2652140916\t300.81000994724457\t95.3\t1:23\n",
      "8.0%\t4000\t-811218.7085734666\t300.3339512454489\t95.1\t1:23\n",
      "8.5%\t4250\t-810988.0210734666\t298.83353141654914\t95.1\t1:23\n",
      "9.0%\t4500\t-811177.9331828416\t297.7076851522902\t95.1\t1:22\n",
      "9.5%\t4750\t-810313.4605265916\t298.63154391472466\t95\t1:22\n",
      "10.0%\t5000\t-811079.8023234666\t300.2265530034246\t94.8\t1:21\n",
      "10.5%\t5250\t-812354.4273234666\t302.3310576386986\t94.9\t1:21\n",
      "11.0%\t5500\t-811501.4839640916\t298.9600017783484\t94.8\t1:21\n",
      "11.5%\t5750\t-811946.0230265916\t301.67721377450243\t94.8\t1:20\n",
      "12.0%\t6000\t-812329.7144328416\t301.90121759305447\t94.7\t1:20\n",
      "12.5%\t6250\t-812168.3804484666\t302.2582673027674\t94.8\t1:19\n",
      "13.0%\t6500\t-812025.8745890916\t299.8523508615512\t94.7\t1:19\n",
      "13.5%\t6750\t-813755.1909953416\t301.1827656401669\t94.7\t1:18\n",
      "14.0%\t7000\t-813655.1441203416\t301.86304231283015\t94.7\t1:18\n",
      "14.5%\t7250\t-813563.5757609666\t300.33119384091395\t94.7\t1:18\n",
      "15.0%\t7500\t-812852.6616984666\t298.97959060232176\t94.7\t1:17\n",
      "15.5%\t7750\t-812382.7359172166\t299.7184302399068\t94.8\t1:17\n",
      "16.0%\t8000\t-813073.3589640916\t301.2624864050388\t94.7\t1:16\n",
      "16.5%\t8250\t-812414.3159953416\t299.3704744974238\t94.7\t1:16\n",
      "17.0%\t8500\t-812853.9546672166\t300.7645032312041\t94.6\t1:15\n",
      "17.5%\t8750\t-812705.2007609666\t299.64318035886834\t94.5\t1:15\n",
      "18.0%\t9000\t-812221.4507609666\t299.6813838766188\t94.5\t1:14\n",
      "18.5%\t9250\t-813549.4136515916\t301.5529710094991\t94.5\t1:14\n",
      "19.0%\t9500\t-813276.3784953416\t298.1856671177588\t94.4\t1:14\n",
      "19.5%\t9750\t-813827.5484172166\t300.42041673296586\t94.4\t1:13\n",
      "20.0%\t10000\t-812571.8824015916\t299.41484447943907\t94.3\t1:13\n",
      "20.5%\t10250\t-814092.7691203416\t301.9973082477059\t94.3\t1:12\n",
      "21.0%\t10500\t-815044.0015422166\t301.5154788289184\t94.2\t1:12\n",
      "21.5%\t10750\t-815002.7046672166\t299.7602148720002\t94.2\t1:11\n",
      "22.0%\t11000\t-814697.5249797166\t300.5801532852807\t94.2\t1:11\n",
      "22.5%\t11250\t-813474.7788859666\t299.6466391713356\t94.2\t1:11\n",
      "23.0%\t11500\t-813442.9585734666\t298.9931668595809\t94.2\t1:10\n",
      "23.5%\t11750\t-813481.0288859666\t299.5532855723935\t94.2\t1:10\n",
      "24.0%\t12000\t-813515.8843547166\t299.10920855992794\t94.1\t1:09\n",
      "24.5%\t12250\t-814143.3784953416\t299.8668977872099\t94.1\t1:09\n",
      "25.0%\t12500\t-812726.7730265916\t298.05202797868\t94.1\t1:08\n",
      "25.5%\t12750\t-813436.0347453416\t301.0056104266277\t94.1\t1:08\n",
      "26.0%\t13000\t-813193.1909953416\t299.4795437693646\t94.1\t1:07\n",
      "26.5%\t13250\t-813373.2788859666\t298.320212499498\t94.1\t1:07\n",
      "27.0%\t13500\t-812615.1128703416\t298.24382181505945\t94\t1:07\n",
      "27.5%\t13750\t-813137.9644328416\t301.81628210722835\t94\t1:06\n",
      "28.0%\t14000\t-813080.8335734666\t300.8495293093412\t94\t1:06\n",
      "28.5%\t14250\t-813159.5542765916\t300.2817231180817\t94\t1:05\n",
      "29.0%\t14500\t-812423.7632609666\t299.2455875041318\t93.9\t1:05\n",
      "29.5%\t14750\t-812822.1792765916\t298.7145142365622\t93.9\t1:04\n",
      "30.0%\t15000\t-813104.0445109666\t299.78661452949143\t93.9\t1:04\n",
      "30.5%\t15250\t-813846.0874797166\t300.62687093442145\t93.9\t1:03\n",
      "31.0%\t15500\t-813538.8452922166\t298.4130446244334\t93.9\t1:03\n",
      "31.5%\t15750\t-813195.2163859666\t299.93267111488944\t93.9\t1:03\n",
      "32.0%\t16000\t-811999.1499797166\t301.77924101419853\t93.8\t1:02\n",
      "32.5%\t16250\t-813047.0503703416\t299.8125378252053\t93.9\t1:02\n",
      "33.0%\t16500\t-811787.2886515916\t299.07600340152743\t93.9\t1:01\n",
      "33.5%\t16750\t-812215.0991984666\t301.2820276395001\t93.9\t1:01\n",
      "34.0%\t17000\t-812838.0913859666\t304.5776406883001\t93.8\t1:00\n",
      "34.5%\t17250\t-812559.0601359666\t300.810292397292\t93.9\t1:00\n",
      "35.0%\t17500\t-812522.1226359666\t301.81514288369476\t93.8\t0:59\n",
      "35.5%\t17750\t-812827.0425578416\t302.16812545276787\t93.8\t0:59\n",
      "36.0%\t18000\t-812469.4839640916\t300.84414145393384\t93.8\t0:58\n",
      "36.5%\t18250\t-812641.0933390916\t298.2147634047382\t93.9\t0:58\n",
      "37.0%\t18500\t-812600.8921672166\t299.7284320416654\t93.8\t0:58\n",
      "37.5%\t18750\t-812573.3452922166\t300.53744419592726\t93.8\t0:57\n",
      "38.0%\t19000\t-812295.4800578416\t300.54131715990866\t93.8\t0:57\n",
      "38.5%\t19250\t-813556.6089640916\t300.26291445663344\t93.8\t0:56\n",
      "39.0%\t19500\t-813164.5152140916\t300.06572125224267\t93.7\t0:56\n",
      "39.5%\t19750\t-813738.6734172166\t300.74031091038904\t93.7\t0:55\n",
      "40.0%\t20000\t-814531.5015422166\t302.6274758050157\t93.7\t0:55\n",
      "40.5%\t20250\t-812630.4488078416\t300.49466561752047\t93.6\t0:54\n",
      "41.0%\t20500\t-813163.9663859666\t300.487054710396\t93.5\t0:54\n",
      "41.5%\t20750\t-813585.2007609666\t298.3476955834665\t93.4\t0:54\n",
      "42.0%\t21000\t-813357.5132609666\t298.70481186734065\t93.3\t0:53\n",
      "42.5%\t21250\t-812860.1167765916\t299.21909279994134\t93.3\t0:53\n",
      "43.0%\t21500\t-813445.0738078416\t300.19885727702314\t93.2\t0:52\n",
      "43.5%\t21750\t-813575.6304484666\t300.8149712779609\t93.2\t0:52\n",
      "44.0%\t22000\t-813735.7515422166\t300.3678729562218\t93.1\t0:51\n",
      "44.5%\t22250\t-812981.7769328416\t299.89798016001737\t93.2\t0:51\n",
      "45.0%\t22500\t-812276.9507609666\t298.76215193476224\t93.1\t0:51\n",
      "45.5%\t22750\t-812948.5777140916\t301.25297688937974\t93.2\t0:50\n",
      "46.0%\t23000\t-812714.7007609666\t299.95469297283773\t93.1\t0:50\n",
      "46.5%\t23250\t-813131.1324015916\t301.87453865613986\t93.1\t0:49\n",
      "47.0%\t23500\t-813385.2632609666\t303.0639233793381\t93.1\t0:49\n",
      "47.5%\t23750\t-812352.7437297166\t302.339019434446\t93.1\t0:48\n",
      "48.0%\t24000\t-813036.4429484666\t302.94877792599965\t93.1\t0:48\n",
      "48.5%\t24250\t-813035.9136515916\t302.2230411639505\t93.1\t0:47\n",
      "49.0%\t24500\t-813292.2359172166\t301.7823319156325\t93.1\t0:47\n",
      "49.5%\t24750\t-814129.8726359666\t301.84582068901494\t93\t0:46\n",
      "50.0%\t25000\t-813661.5269328416\t300.35289226917195\t92.9\t0:46\n",
      "50.5%\t25250\t-814680.3784953416\t301.31964197661136\t92.9\t0:46\n",
      "51.0%\t25500\t-814213.3277140916\t298.37777276607056\t92.8\t0:45\n",
      "51.5%\t25750\t-815397.1480265916\t303.7317342559971\t92.7\t0:45\n",
      "52.0%\t26000\t-815147.6773234666\t301.9157911260949\t92.5\t0:44\n",
      "52.5%\t26250\t-814733.1284953416\t300.44448075080123\t92.5\t0:44\n",
      "53.0%\t26500\t-815109.2652140916\t299.47266645126217\t92.3\t0:43\n",
      "53.5%\t26750\t-813926.6089640916\t299.762054398201\t92.2\t0:43\n",
      "54.0%\t27000\t-814810.5288859666\t301.9249737924976\t92.1\t0:43\n",
      "54.5%\t27250\t-814104.0152140916\t301.1410172339985\t92.1\t0:42\n",
      "55.0%\t27500\t-815125.7515422166\t300.3048839515139\t92\t0:42\n",
      "55.5%\t27750\t-815379.8804484666\t300.94135668748964\t91.9\t0:41\n",
      "56.0%\t28000\t-814567.7769328416\t299.02001783555113\t91.9\t0:41\n",
      "56.5%\t28250\t-814614.8726359666\t298.9712086047977\t91.8\t0:40\n",
      "57.0%\t28500\t-814986.4038859666\t300.1755938290729\t91.8\t0:40\n",
      "57.5%\t28750\t-814517.9058390916\t298.631253828367\t91.7\t0:40\n",
      "58.0%\t29000\t-814497.7339640916\t299.69893232057706\t91.6\t0:39\n",
      "58.5%\t29250\t-814191.2124797166\t298.39732707496967\t91.6\t0:39\n",
      "59.0%\t29500\t-814206.2261515916\t301.08422250141126\t91.5\t0:38\n",
      "59.5%\t29750\t-813644.1695109666\t299.4447168740192\t91.4\t0:38\n",
      "60.0%\t30000\t-814387.4331828416\t301.5802830122235\t91.4\t0:37\n",
      "60.5%\t30250\t-814333.8023234666\t302.22226984168077\t91.3\t0:37\n",
      "61.0%\t30500\t-812741.1636515916\t300.7998962448829\t91.3\t0:36\n",
      "61.5%\t30750\t-812023.3706828416\t301.0221530116316\t91.3\t0:36\n",
      "62.0%\t31000\t-813208.4273234666\t302.1093054225152\t91.2\t0:35\n",
      "62.5%\t31250\t-813251.0874797166\t301.9626711770619\t91.2\t0:35\n",
      "63.0%\t31500\t-812721.6851359666\t301.8091991218558\t91.1\t0:35\n",
      "63.5%\t31750\t-812337.9644328416\t299.7793461585303\t91.1\t0:34\n",
      "64.0%\t32000\t-813040.0288859666\t301.09469932487326\t91.1\t0:34\n",
      "64.5%\t32250\t-812670.1167765916\t299.1141301850289\t91.1\t0:33\n",
      "65.0%\t32500\t-814772.5972453416\t302.5766252013492\t91\t0:33\n",
      "65.5%\t32750\t-813126.4253703416\t299.4577099544121\t91\t0:32\n",
      "66.0%\t33000\t-813249.2632609666\t300.45515608141585\t91\t0:32\n",
      "66.5%\t33250\t-813398.6128703416\t299.8802522734026\t90.9\t0:31\n",
      "67.0%\t33500\t-814247.7710734666\t302.0097774718156\t90.9\t0:31\n",
      "67.5%\t33750\t-813401.5484172166\t302.61104261757436\t90.9\t0:30\n",
      "68.0%\t34000\t-812761.6421672166\t300.86883993499106\t90.9\t0:30\n",
      "68.5%\t34250\t-814531.4156047166\t301.8604113633963\t90.9\t0:29\n",
      "69.0%\t34500\t-813728.3706828416\t299.5092318858185\t90.8\t0:29\n",
      "69.5%\t34750\t-813087.0640422166\t301.54216994193854\t90.8\t0:29\n",
      "70.0%\t35000\t-813677.1714640916\t299.0520416572403\t90.8\t0:28\n",
      "70.5%\t35250\t-814908.3570109666\t301.2180316558722\t90.7\t0:28\n",
      "71.0%\t35500\t-815079.3042765916\t301.4237508377031\t90.7\t0:27\n",
      "71.5%\t35750\t-814904.0132609666\t299.066874397607\t90.7\t0:27\n",
      "72.0%\t36000\t-815395.2359172166\t299.7676738534993\t90.6\t0:26\n",
      "72.5%\t36250\t-812784.8804484666\t299.9657281241392\t90.6\t0:26\n",
      "73.0%\t36500\t-811898.1011515916\t300.61273766851747\t90.6\t0:25\n",
      "73.5%\t36750\t-812953.8042765916\t299.85644879640955\t90.5\t0:25\n",
      "74.0%\t37000\t-812639.2261515916\t299.56747016611433\t90.5\t0:24\n",
      "74.5%\t37250\t-813751.6070109666\t298.2838637492005\t90.5\t0:24\n",
      "75.0%\t37500\t-813240.6245890916\t298.9249010149464\t90.4\t0:23\n",
      "75.5%\t37750\t-813324.4253703416\t299.9541464500034\t90.4\t0:23\n",
      "76.0%\t38000\t-812745.9878703416\t298.8850028510926\t90.4\t0:22\n",
      "76.5%\t38250\t-813502.6304484666\t300.5419297333598\t90.4\t0:22\n",
      "77.0%\t38500\t-813337.5679484666\t300.9384585205842\t90.4\t0:21\n",
      "77.5%\t38750\t-812617.9683390916\t300.3536144416545\t90.3\t0:21\n",
      "78.0%\t39000\t-812429.1577922166\t300.3659743303044\t90.3\t0:21\n",
      "78.5%\t39250\t-813229.6343547166\t299.7418125611053\t90.3\t0:20\n",
      "79.0%\t39500\t-813997.3628703416\t300.7956347263459\t90.3\t0:20\n",
      "79.5%\t39750\t-814441.4976359666\t300.4386485019397\t90.3\t0:19\n",
      "80.0%\t40000\t-813330.1519328416\t297.7856479203631\t90.2\t0:19\n",
      "80.5%\t40250\t-813527.6734172166\t299.5484864840102\t90.2\t0:18\n",
      "81.0%\t40500\t-814176.5054484666\t299.77849099941307\t90.2\t0:18\n",
      "81.5%\t40750\t-814567.9370890916\t300.41428356320546\t90.1\t0:17\n",
      "82.0%\t41000\t-815192.4390422166\t302.7844539686395\t90.1\t0:17\n",
      "82.5%\t41250\t-813083.1480265916\t300.0464039115268\t90.1\t0:16\n",
      "83.0%\t41500\t-813815.2906047166\t301.0189066004323\t90.1\t0:16\n",
      "83.5%\t41750\t-814546.2906047166\t301.17157915755087\t90\t0:15\n",
      "84.0%\t42000\t-814140.0034953416\t300.7225150523804\t90\t0:15\n",
      "84.5%\t42250\t-813687.4956828416\t300.7256889137092\t90\t0:14\n",
      "85.0%\t42500\t-813946.8843547166\t299.55728948752375\t89.9\t0:14\n",
      "85.5%\t42750\t-814337.3531047166\t298.3877957892131\t89.9\t0:13\n",
      "86.0%\t43000\t-814272.0874797166\t300.0353748478935\t89.9\t0:13\n",
      "86.5%\t43250\t-814254.6851359666\t300.13236777228235\t89.9\t0:12\n",
      "87.0%\t43500\t-813485.2788859666\t300.2941171174277\t89.8\t0:12\n",
      "87.5%\t43750\t-813660.4195109666\t301.22150883269035\t89.8\t0:12\n",
      "88.0%\t44000\t-812686.1226359666\t298.47305282319115\t89.8\t0:11\n",
      "88.5%\t44250\t-813641.3609172166\t302.1346529827806\t89.8\t0:11\n",
      "89.0%\t44500\t-813488.5562297166\t300.82663802278324\t89.8\t0:10\n",
      "89.5%\t44750\t-813240.5913859666\t300.5040577563586\t89.8\t0:10\n",
      "90.0%\t45000\t-812958.1226359666\t300.0921983953405\t89.7\t0:09\n",
      "90.5%\t45250\t-813754.8550578416\t301.1090756726171\t90\t0:09\n",
      "91.0%\t45500\t-813795.9351359666\t299.50658186188156\t90.2\t0:08\n",
      "91.5%\t45750\t-813191.6441203416\t299.2467361028335\t90.5\t0:08\n",
      "92.0%\t46000\t-813716.5191203416\t301.47878441379646\t90.7\t0:07\n",
      "92.5%\t46250\t-812610.9175578416\t300.7867723757697\t91\t0:07\n",
      "93.0%\t46500\t-812073.9839640916\t301.48618865440613\t91.2\t0:06\n",
      "93.5%\t46750\t-813125.0855265916\t299.43353216404535\t91.4\t0:06\n",
      "94.0%\t47000\t-813335.1949015916\t299.3901433146527\t91.7\t0:05\n",
      "94.5%\t47250\t-813481.3179484666\t300.8711686249774\t91.9\t0:05\n",
      "95.0%\t47500\t-813010.2769328416\t299.0671904375041\t92.1\t0:04\n",
      "95.5%\t47750\t-812860.6460734666\t301.05321442011757\t92.3\t0:04\n",
      "96.0%\t48000\t-812933.4956828416\t299.4603545499387\t92.5\t0:03\n",
      "96.5%\t48250\t-813175.3745890916\t299.29764042034685\t92.7\t0:03\n",
      "97.0%\t48500\t-812802.7027140916\t298.207253196565\t92.9\t0:02\n",
      "97.5%\t48750\t-813649.5523234666\t301.5321272487977\t93\t0:02\n",
      "98.0%\t49000\t-814125.0991984666\t302.3020242813113\t93.3\t0:01\n",
      "98.5%\t49250\t-812668.2534953416\t299.3897150080096\t93.5\t0:01\n",
      "99.0%\t49500\t-813715.8570109666\t301.054501242943\t93.7\t0:00\n",
      "99.5%\t49750\t-812216.7222453416\t300.0264241386123\t93.9\t0:00\n",
      "100.0%\t50000\t-812689.3374797166\t300.4143412967718\t94.1\t0:00\n"
     ]
    }
   ],
   "source": [
    "simulation.context.setVelocitiesToTemperature(300 * unit.kelvin)\n",
    "simulation.step(steps)  # perform the simulation"
   ]
  },
  {
   "cell_type": "code",
   "execution_count": 21,
   "metadata": {},
   "outputs": [
    {
     "name": "stdout",
     "output_type": "stream",
     "text": [
      "os.stat_result(st_mode=33204, st_ino=235276817, st_dev=2080, st_nlink=1, st_uid=1002, st_gid=1002, st_size=19049052, st_atime=1716166655, st_mtime=1716166748, st_ctime=1716166748)\n"
     ]
    }
   ],
   "source": [
    "# Check the trajectory exists and is not empty\n",
    "import os \n",
    "result = \"./trajectory_3.xtc\"\n",
    "file_info = os.stat(result)\n",
    "print(file_info)\n",
    "#result.stat().st_size > 0\n",
    "# NBVAL_CHECK_OUTPUT"
   ]
  },
  {
   "cell_type": "markdown",
   "metadata": {},
   "source": [
    "# Analysis MD Simulation results"
   ]
  },
  {
   "cell_type": "code",
   "execution_count": 22,
   "metadata": {},
   "outputs": [
    {
     "data": {
      "application/vnd.jupyter.widget-view+json": {
       "model_id": "c0b77f2418874ac192650d8407d16ace",
       "version_major": 2,
       "version_minor": 0
      },
      "text/plain": []
     },
     "metadata": {},
     "output_type": "display_data"
    }
   ],
   "source": [
    "from pathlib import Path\n",
    "\n",
    "import pandas as pd\n",
    "import numpy as np\n",
    "import matplotlib.pyplot as plt\n",
    "import nglview as nv\n",
    "import MDAnalysis as mda\n",
    "from MDAnalysis.analysis import rms, diffusionmap, align\n",
    "from MDAnalysis.analysis.distances import dist\n",
    "from MDAnalysis.analysis.hydrogenbonds.hbond_analysis import HydrogenBondAnalysis as HBA\n"
   ]
  },
  {
   "cell_type": "code",
   "execution_count": 23,
   "metadata": {},
   "outputs": [],
   "source": [
    "md_universe = mda.Universe(str(\"./topology_3.pdb\"), str(\"./trajectory_3.xtc\"))"
   ]
  },
  {
   "cell_type": "code",
   "execution_count": 24,
   "metadata": {},
   "outputs": [
    {
     "data": {
      "text/plain": [
       "<MDAnalysis.analysis.align.AlignTraj at 0x7f1fa07e12e0>"
      ]
     },
     "execution_count": 24,
     "metadata": {},
     "output_type": "execute_result"
    }
   ],
   "source": [
    "# Set trajectory pointer to first frame as reference\n",
    "md_universe.trajectory[0]\n",
    "\n",
    "# in_memory=True is needed to actually modify the loaded trajectory\n",
    "# if the trajectory is too big for memory, one can write out the aligned trajectory and reload it into a new universe\n",
    "alignment = align.AlignTraj(\n",
    "    mobile=md_universe, reference=md_universe, select=\"protein\", in_memory=True\n",
    ")\n",
    "alignment.run()"
   ]
  },
  {
   "cell_type": "code",
   "execution_count": 25,
   "metadata": {},
   "outputs": [],
   "source": [
    "def rmsd_for_atomgroups(universe, selection1, selection2=None):\n",
    "    \"\"\"Calulate the RMSD for selected atom groups.\n",
    "\n",
    "    Parameters\n",
    "    ----------\n",
    "    universe: MDAnalysis.core.universe.Universe\n",
    "        MDAnalysis universe.\n",
    "    selection1: str\n",
    "        Selection string for main atom group, also used during alignment.\n",
    "    selection2: list of str, optional\n",
    "        Selection strings for additional atom groups.\n",
    "\n",
    "    Returns\n",
    "    -------\n",
    "    rmsd_df: pandas.core.frame.DataFrame\n",
    "        DataFrame containing RMSD of the selected atom groups over time.\n",
    "    \"\"\"\n",
    "\n",
    "    universe.trajectory\n",
    "    ref = universe\n",
    "    rmsd_analysis = rms.RMSD(universe, ref, select=selection1, groupselections=selection2)\n",
    "    rmsd_analysis.run()\n",
    "\n",
    "    columns = [selection1, *selection2] if selection2 else [selection1]\n",
    "    #print(rmsd_analysis.results)\n",
    "    #print(rmsd_analysis)\n",
    "    rmsd_df = pd.DataFrame(np.round(rmsd_analysis.results.rmsd[:, 2:], 2), columns=columns)\n",
    "    rmsd_df.index.name = \"time\"\n",
    "    return rmsd_df"
   ]
  },
  {
   "cell_type": "code",
   "execution_count": 26,
   "metadata": {},
   "outputs": [],
   "source": [
    "rmsd = rmsd_for_atomgroups(md_universe, \"backbone\", [\"protein\", \"resname UNK\"])\n",
    "#rmsd[:20]"
   ]
  },
  {
   "cell_type": "code",
   "execution_count": 27,
   "metadata": {},
   "outputs": [
    {
     "data": {
      "text/html": [
       "<div>\n",
       "<style scoped>\n",
       "    .dataframe tbody tr th:only-of-type {\n",
       "        vertical-align: middle;\n",
       "    }\n",
       "\n",
       "    .dataframe tbody tr th {\n",
       "        vertical-align: top;\n",
       "    }\n",
       "\n",
       "    .dataframe thead th {\n",
       "        text-align: right;\n",
       "    }\n",
       "</style>\n",
       "<table border=\"1\" class=\"dataframe\">\n",
       "  <thead>\n",
       "    <tr style=\"text-align: right;\">\n",
       "      <th></th>\n",
       "      <th>backbone</th>\n",
       "      <th>protein</th>\n",
       "      <th>rank_2_ligand</th>\n",
       "    </tr>\n",
       "    <tr>\n",
       "      <th>time</th>\n",
       "      <th></th>\n",
       "      <th></th>\n",
       "      <th></th>\n",
       "    </tr>\n",
       "  </thead>\n",
       "  <tbody>\n",
       "    <tr>\n",
       "      <th>0</th>\n",
       "      <td>0.00</td>\n",
       "      <td>0.00</td>\n",
       "      <td>0.00</td>\n",
       "    </tr>\n",
       "    <tr>\n",
       "      <th>1</th>\n",
       "      <td>0.63</td>\n",
       "      <td>0.85</td>\n",
       "      <td>0.94</td>\n",
       "    </tr>\n",
       "    <tr>\n",
       "      <th>2</th>\n",
       "      <td>0.77</td>\n",
       "      <td>1.01</td>\n",
       "      <td>1.48</td>\n",
       "    </tr>\n",
       "    <tr>\n",
       "      <th>3</th>\n",
       "      <td>0.85</td>\n",
       "      <td>1.09</td>\n",
       "      <td>1.42</td>\n",
       "    </tr>\n",
       "    <tr>\n",
       "      <th>4</th>\n",
       "      <td>0.95</td>\n",
       "      <td>1.19</td>\n",
       "      <td>1.52</td>\n",
       "    </tr>\n",
       "  </tbody>\n",
       "</table>\n",
       "</div>"
      ],
      "text/plain": [
       "      backbone  protein  rank_2_ligand\n",
       "time                                  \n",
       "0         0.00     0.00           0.00\n",
       "1         0.63     0.85           0.94\n",
       "2         0.77     1.01           1.48\n",
       "3         0.85     1.09           1.42\n",
       "4         0.95     1.19           1.52"
      ]
     },
     "execution_count": 27,
     "metadata": {},
     "output_type": "execute_result"
    }
   ],
   "source": [
    "rmsd.rename(columns={\"resname UNK\": \"rank_3_ligand\"}, inplace=True)\n",
    "rmsd.head()"
   ]
  },
  {
   "cell_type": "code",
   "execution_count": 28,
   "metadata": {},
   "outputs": [
    {
     "data": {
      "image/png": "[encoded data removed]",
      "text/plain": [
       "<Figure size 640x480 with 1 Axes>"
      ]
     },
     "metadata": {},
     "output_type": "display_data"
    }
   ],
   "source": [
    "rmsd.plot(title=\"RMSD of protein and ligand\")\n",
    "plt.ylabel(\"RMSD (Å)\");"
   ]
  },
  {
   "cell_type": "code",
   "execution_count": 31,
   "metadata": {},
   "outputs": [],
   "source": [
    "#rmsd.to_csv(\"rank_3_rmsd_results.csv\")"
   ]
  },
  {
   "cell_type": "code",
   "execution_count": 1,
   "metadata": {},
   "outputs": [
    {
     "data": {
      "text/html": [
       "<div>\n",
       "<style scoped>\n",
       "    .dataframe tbody tr th:only-of-type {\n",
       "        vertical-align: middle;\n",
       "    }\n",
       "\n",
       "    .dataframe tbody tr th {\n",
       "        vertical-align: top;\n",
       "    }\n",
       "\n",
       "    .dataframe thead th {\n",
       "        text-align: right;\n",
       "    }\n",
       "</style>\n",
       "<table border=\"1\" class=\"dataframe\">\n",
       "  <thead>\n",
       "    <tr style=\"text-align: right;\">\n",
       "      <th></th>\n",
       "      <th>time</th>\n",
       "      <th>backbone</th>\n",
       "      <th>protein</th>\n",
       "      <th>rank_2_ligand</th>\n",
       "    </tr>\n",
       "  </thead>\n",
       "  <tbody>\n",
       "    <tr>\n",
       "      <th>0</th>\n",
       "      <td>0</td>\n",
       "      <td>0.00</td>\n",
       "      <td>0.00</td>\n",
       "      <td>0.00</td>\n",
       "    </tr>\n",
       "    <tr>\n",
       "      <th>1</th>\n",
       "      <td>1</td>\n",
       "      <td>0.63</td>\n",
       "      <td>0.85</td>\n",
       "      <td>0.94</td>\n",
       "    </tr>\n",
       "    <tr>\n",
       "      <th>2</th>\n",
       "      <td>2</td>\n",
       "      <td>0.77</td>\n",
       "      <td>1.01</td>\n",
       "      <td>1.48</td>\n",
       "    </tr>\n",
       "    <tr>\n",
       "      <th>3</th>\n",
       "      <td>3</td>\n",
       "      <td>0.85</td>\n",
       "      <td>1.09</td>\n",
       "      <td>1.42</td>\n",
       "    </tr>\n",
       "    <tr>\n",
       "      <th>4</th>\n",
       "      <td>4</td>\n",
       "      <td>0.95</td>\n",
       "      <td>1.19</td>\n",
       "      <td>1.52</td>\n",
       "    </tr>\n",
       "  </tbody>\n",
       "</table>\n",
       "</div>"
      ],
      "text/plain": [
       "   time  backbone  protein  rank_2_ligand\n",
       "0     0      0.00     0.00           0.00\n",
       "1     1      0.63     0.85           0.94\n",
       "2     2      0.77     1.01           1.48\n",
       "3     3      0.85     1.09           1.42\n",
       "4     4      0.95     1.19           1.52"
      ]
     },
     "execution_count": 1,
     "metadata": {},
     "output_type": "execute_result"
    }
   ],
   "source": [
    "import pandas as pd\n",
    "amend = pd.read_csv(\"./rank_3_rmsd_results.csv\")\n",
    "amend.head()"
   ]
  },
  {
   "cell_type": "code",
   "execution_count": 2,
   "metadata": {},
   "outputs": [
    {
     "data": {
      "text/html": [
       "<div>\n",
       "<style scoped>\n",
       "    .dataframe tbody tr th:only-of-type {\n",
       "        vertical-align: middle;\n",
       "    }\n",
       "\n",
       "    .dataframe tbody tr th {\n",
       "        vertical-align: top;\n",
       "    }\n",
       "\n",
       "    .dataframe thead th {\n",
       "        text-align: right;\n",
       "    }\n",
       "</style>\n",
       "<table border=\"1\" class=\"dataframe\">\n",
       "  <thead>\n",
       "    <tr style=\"text-align: right;\">\n",
       "      <th></th>\n",
       "      <th>time</th>\n",
       "      <th>backbone</th>\n",
       "      <th>protein</th>\n",
       "      <th>rank_3_ligand</th>\n",
       "    </tr>\n",
       "  </thead>\n",
       "  <tbody>\n",
       "    <tr>\n",
       "      <th>0</th>\n",
       "      <td>0</td>\n",
       "      <td>0.00</td>\n",
       "      <td>0.00</td>\n",
       "      <td>0.00</td>\n",
       "    </tr>\n",
       "    <tr>\n",
       "      <th>1</th>\n",
       "      <td>1</td>\n",
       "      <td>0.63</td>\n",
       "      <td>0.85</td>\n",
       "      <td>0.94</td>\n",
       "    </tr>\n",
       "    <tr>\n",
       "      <th>2</th>\n",
       "      <td>2</td>\n",
       "      <td>0.77</td>\n",
       "      <td>1.01</td>\n",
       "      <td>1.48</td>\n",
       "    </tr>\n",
       "    <tr>\n",
       "      <th>3</th>\n",
       "      <td>3</td>\n",
       "      <td>0.85</td>\n",
       "      <td>1.09</td>\n",
       "      <td>1.42</td>\n",
       "    </tr>\n",
       "    <tr>\n",
       "      <th>4</th>\n",
       "      <td>4</td>\n",
       "      <td>0.95</td>\n",
       "      <td>1.19</td>\n",
       "      <td>1.52</td>\n",
       "    </tr>\n",
       "  </tbody>\n",
       "</table>\n",
       "</div>"
      ],
      "text/plain": [
       "   time  backbone  protein  rank_3_ligand\n",
       "0     0      0.00     0.00           0.00\n",
       "1     1      0.63     0.85           0.94\n",
       "2     2      0.77     1.01           1.48\n",
       "3     3      0.85     1.09           1.42\n",
       "4     4      0.95     1.19           1.52"
      ]
     },
     "execution_count": 2,
     "metadata": {},
     "output_type": "execute_result"
    }
   ],
   "source": [
    "amend.rename(columns={\"rank_2_ligand\": \"rank_3_ligand\"}, inplace=True)\n",
    "amend.head()"
   ]
  },
  {
   "cell_type": "code",
   "execution_count": 3,
   "metadata": {},
   "outputs": [],
   "source": [
    "amend.to_csv(\"./rank_3_rmsd_results.csv\")"
   ]
  },
  {
   "cell_type": "code",
   "execution_count": null,
   "metadata": {},
   "outputs": [],
   "source": []
  }
 ],
 "metadata": {
  "kernelspec": {
   "display_name": "Python 3",
   "language": "python",
   "name": "python3"
  },
  "language_info": {
   "codemirror_mode": {
    "name": "ipython",
    "version": 3
   },
   "file_extension": ".py",
   "mimetype": "text/x-python",
   "name": "python",
   "nbconvert_exporter": "python",
   "pygments_lexer": "ipython3",
   "version": "3.8.19"
  }
 },
 "nbformat": 4,
 "nbformat_minor": 2
}
