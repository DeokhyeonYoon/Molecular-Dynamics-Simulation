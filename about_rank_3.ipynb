{
 "cells": [
  {
   "cell_type": "markdown",
   "metadata": {},
   "source": [
    "# MD Simultaion "
   ]
  },
  {
   "cell_type": "code",
   "execution_count": 1,
   "metadata": {},
   "outputs": [],
   "source": [
    "import copy\n",
    "from pathlib import Path\n",
    "import sys\n",
    "\n",
    "import requests\n",
    "from IPython.display import display\n",
    "import numpy as np\n",
    "from rdkit import Chem\n",
    "from rdkit.Chem import Draw\n",
    "from rdkit.Chem import AllChem\n",
    "import mdtraj as md\n",
    "import pdbfixer\n",
    "import openmm as mm\n",
    "import openmm.app as app\n",
    "from openmm import unit\n",
    "from openff.toolkit.topology import Molecule, Topology\n",
    "from openmmforcefields.generators import GAFFTemplateGenerator"
   ]
  },
  {
   "cell_type": "code",
   "execution_count": 2,
   "metadata": {},
   "outputs": [],
   "source": [
    "#import warnings\n",
    "\n",
    "# 경고를 무시하도록 설정합니다.\n",
    "#warnings.filterwarnings(\"ignore\", message=\"PDB file is missing resid information.\")\n",
    "#warnings.filterwarnings(\"ignore\", message=\"Reload offsets from trajectory\")\n",
    "#warnings.filterwarnings(\"ignore\", message=\"duplicate atom\")\n",
    "\n",
    "# 나머지 코드 실행"
   ]
  },
  {
   "cell_type": "code",
   "execution_count": 3,
   "metadata": {},
   "outputs": [],
   "source": [
    "import warnings\n",
    "warnings.filterwarnings(\"ignore\")"
   ]
  },
  {
   "cell_type": "code",
   "execution_count": 4,
   "metadata": {},
   "outputs": [],
   "source": [
    "def prepare_protein(\n",
    "    pdb_file, ignore_missing_residues=True, ignore_terminal_missing_residues=True, ph=7.0\n",
    "):\n",
    "    \"\"\"\n",
    "    Use pdbfixer to prepare the protein from a PDB file. Hetero atoms such as ligands are\n",
    "    removed and non-standard residues replaced. Missing atoms to existing residues are added.\n",
    "    Missing residues are ignored by default, but can be included.\n",
    "\n",
    "    Parameters\n",
    "    ----------\n",
    "    pdb_file: pathlib.Path or str\n",
    "        PDB file containing the system to simulate.\n",
    "    ignore_missing_residues: bool, optional\n",
    "        If missing residues should be ignored or built.\n",
    "    ignore_terminal_missing_residues: bool, optional\n",
    "        If missing residues at the beginning and the end of a chain should be ignored or built.\n",
    "    ph: float, optional\n",
    "        pH value used to determine protonation state of residues\n",
    "\n",
    "    Returns\n",
    "    -------\n",
    "    fixer: pdbfixer.pdbfixer.PDBFixer\n",
    "        Prepared protein system.\n",
    "    \"\"\"\n",
    "    fixer = pdbfixer.PDBFixer(str(pdb_file))\n",
    "    fixer.removeHeterogens()  # co-crystallized ligands are unknown to PDBFixer\n",
    "    fixer.findMissingResidues()  # identify missing residues, needed for identification of missing atoms\n",
    "\n",
    "    # if missing terminal residues shall be ignored, remove them from the dictionary\n",
    "    if ignore_terminal_missing_residues:\n",
    "        chains = list(fixer.topology.chains())\n",
    "        keys = fixer.missingResidues.keys()\n",
    "        for key in list(keys):\n",
    "            chain = chains[key[0]]\n",
    "            if key[1] == 0 or key[1] == len(list(chain.residues())):\n",
    "                del fixer.missingResidues[key]\n",
    "\n",
    "    # if all missing residues shall be ignored ignored, clear the dictionary\n",
    "    if ignore_missing_residues:\n",
    "        fixer.missingResidues = {}\n",
    "\n",
    "    fixer.findNonstandardResidues()  # find non-standard residue\n",
    "    fixer.replaceNonstandardResidues()  # replace non-standard residues with standard one\n",
    "    fixer.findMissingAtoms()  # find missing heavy atoms\n",
    "    fixer.addMissingAtoms()  # add missing atoms and residues\n",
    "    fixer.addMissingHydrogens(ph)  # add missing hydrogens\n",
    "    return fixer"
   ]
  },
  {
   "cell_type": "code",
   "execution_count": 5,
   "metadata": {},
   "outputs": [],
   "source": [
    "prepare_protein = prepare_protein(\"./protein_rank_3_complex.pdb\", ignore_missing_residues=False)"
   ]
  },
  {
   "cell_type": "code",
   "execution_count": 6,
   "metadata": {},
   "outputs": [],
   "source": [
    "def prepare_ligand(pdb_file, resname, smiles, depict=True):\n",
    "    \"\"\"\n",
    "    Prepare a ligand from a PDB file via adding hydrogens and assigning bond orders. A depiction\n",
    "    of the ligand before and after preparation is rendered in 2D to allow an inspection of the\n",
    "    results. Huge thanks to @j-wags for the suggestion.\n",
    "\n",
    "    Parameters\n",
    "    ----------\n",
    "    pdb_file: pathlib.PosixPath\n",
    "       PDB file containing the ligand of interest.\n",
    "    resname: str\n",
    "        Three character residue name of the ligand.\n",
    "    smiles : str\n",
    "        SMILES string of the ligand informing about correct protonation and bond orders.\n",
    "    depict: bool, optional\n",
    "        show a 2D representation of the ligand\n",
    "\n",
    "    Returns\n",
    "    -------\n",
    "    prepared_ligand: rdkit.Chem.rdchem.Mol\n",
    "        Prepared ligand.\n",
    "    \"\"\"\n",
    "    # split molecule\n",
    "    rdkit_mol = Chem.MolFromPDBFile(str(pdb_file), proximityBonding=True, sanitize=False)\n",
    "    print(rdkit_mol)\n",
    "    rdkit_mol_split = Chem.rdmolops.SplitMolByPDBResidues(rdkit_mol)\n",
    "\n",
    "    # extract the ligand and remove any already present hydrogens\n",
    "    ligand = rdkit_mol_split[resname]\n",
    "    ligand = Chem.RemoveHs(ligand)\n",
    "\n",
    "    # assign bond orders from template\n",
    "    reference_mol = Chem.MolFromSmiles(smiles)\n",
    "    prepared_ligand = AllChem.AssignBondOrdersFromTemplate(reference_mol, ligand)\n",
    "    prepared_ligand.AddConformer(ligand.GetConformer(0))\n",
    "\n",
    "    # protonate ligand\n",
    "    prepared_ligand = Chem.rdmolops.AddHs(prepared_ligand, addCoords=True)\n",
    "    prepared_ligand = Chem.MolFromMolBlock(Chem.MolToMolBlock(prepared_ligand))\n",
    "\n",
    "    # 2D depiction\n",
    "    if depict:\n",
    "        ligand_2d = copy.deepcopy(ligand)\n",
    "        prepared_ligand_2d = copy.deepcopy(prepared_ligand)\n",
    "        AllChem.Compute2DCoords(ligand_2d)\n",
    "        AllChem.Compute2DCoords(prepared_ligand_2d)\n",
    "        display(\n",
    "            Draw.MolsToGridImage(\n",
    "                [ligand_2d, prepared_ligand_2d], molsPerRow=2, legends=[\"original\", \"prepared\"]\n",
    "            )\n",
    "        )\n",
    "\n",
    "    # return ligand\n",
    "    return prepared_ligand"
   ]
  },
  {
   "cell_type": "code",
   "execution_count": 7,
   "metadata": {},
   "outputs": [],
   "source": [
    "pdb_path = \"./protein_rank_3_complex.pdb\"\n",
    "ligand_name = \"UNL\"\n",
    "smiles = \"COc1ccccc1NC(=O)N1CCN(Cc2ccccc2)CC1\""
   ]
  },
  {
   "cell_type": "code",
   "execution_count": 8,
   "metadata": {},
   "outputs": [
    {
     "name": "stdout",
     "output_type": "stream",
     "text": [
      "<rdkit.Chem.rdchem.Mol object at 0x7ff52e13c4c0>\n"
     ]
    },
    {
     "name": "stderr",
     "output_type": "stream",
     "text": [
      "[11:42:26] WARNING: More than one matching pattern found - picking one\n",
      "\n"
     ]
    },
    {
     "data": {
      "image/png": "[encoded data removed]",
      "text/plain": [
       "<IPython.core.display.Image object>"
      ]
     },
     "metadata": {},
     "output_type": "display_data"
    }
   ],
   "source": [
    "rdkit_ligand = prepare_ligand(pdb_path, ligand_name, smiles)"
   ]
  },
  {
   "cell_type": "code",
   "execution_count": 9,
   "metadata": {},
   "outputs": [],
   "source": [
    "def rdkit_to_openmm(rdkit_mol, name=\"LIG\"):\n",
    "    \"\"\"\n",
    "    Convert an RDKit molecule to an OpenMM molecule.\n",
    "    Inspired by @hannahbrucemcdonald and @glass-w.\n",
    "\n",
    "    Parameters\n",
    "    ----------\n",
    "    rdkit_mol: rdkit.Chem.rdchem.Mol\n",
    "        RDKit molecule to convert.\n",
    "    name: str\n",
    "        Molecule name.\n",
    "\n",
    "    Returns\n",
    "    -------\n",
    "    omm_molecule: openmm.app.Modeller\n",
    "        OpenMM modeller object holding the molecule of interest.\n",
    "    \"\"\"\n",
    "    # convert RDKit to OpenFF\n",
    "    off_mol = Molecule.from_rdkit(rdkit_mol)\n",
    "    #print(off_mol)\n",
    "\n",
    "    # add name for molecule\n",
    "    off_mol.name = name\n",
    "    #print(off_mol.name)\n",
    "\n",
    "    # add names for atoms\n",
    "    element_counter_dict = {}\n",
    "    for off_atom, rdkit_atom in zip(off_mol.atoms, rdkit_mol.GetAtoms()):\n",
    "        element = rdkit_atom.GetSymbol()\n",
    "        if element in element_counter_dict.keys():\n",
    "            element_counter_dict[element] += 1\n",
    "        else:\n",
    "            element_counter_dict[element] = 1\n",
    "        off_atom.name = element + str(element_counter_dict[element])\n",
    "    #print(element_counter_dict)\n",
    "\n",
    "    # convert from OpenFF to OpenMM\n",
    "    off_mol_topology = off_mol.to_topology()\n",
    "    mol_topology = off_mol_topology.to_openmm()\n",
    "    #print(mol_topology)\n",
    "    mol_positions = off_mol.conformers[0]\n",
    "    #print(mol_positions)\n",
    "\n",
    "    # convert units from Ångström to nanometers\n",
    "    # since OpenMM works in nm\n",
    "    mol_positions = mol_positions.to(\"nanometers\")\n",
    "    #print(mol_positions)\n",
    "\n",
    "    # combine topology and positions in modeller object\n",
    "    omm_mol = app.Modeller(mol_topology, mol_positions)\n",
    "\n",
    "    return omm_mol"
   ]
  },
  {
   "cell_type": "code",
   "execution_count": 10,
   "metadata": {},
   "outputs": [],
   "source": [
    "omm_ligand = rdkit_to_openmm(rdkit_ligand, ligand_name)"
   ]
  },
  {
   "cell_type": "code",
   "execution_count": 11,
   "metadata": {},
   "outputs": [],
   "source": [
    "def merge_protein_and_ligand(protein, ligand):\n",
    "    \"\"\"\n",
    "    Merge two OpenMM objects.\n",
    "\n",
    "    Parameters\n",
    "    ----------\n",
    "    protein: pdbfixer.pdbfixer.PDBFixer\n",
    "        Protein to merge.\n",
    "    ligand: openmm.app.Modeller\n",
    "        Ligand to merge.\n",
    "\n",
    "    Returns\n",
    "    -------\n",
    "    complex_topology: openmm.app.topology.Topology\n",
    "        The merged topology.\n",
    "    complex_positions: openmm.unit.quantity.Quantity\n",
    "        The merged positions.\n",
    "    \"\"\"\n",
    "    # combine topologies\n",
    "    md_protein_topology = md.Topology.from_openmm(protein.topology)  # using mdtraj for protein top\n",
    "    #print(md_protein_topology)\n",
    "    md_ligand_topology = md.Topology.from_openmm(ligand.topology)  # using mdtraj for ligand top\n",
    "    #print(md_ligand_topology)\n",
    "    md_complex_topology = md_protein_topology.join(md_ligand_topology)  # add them together\n",
    "    #print(md_complex_topology)\n",
    "    complex_topology = md_complex_topology.to_openmm()\n",
    "    #print(complex_topology)\n",
    "\n",
    "    # combine positions\n",
    "    total_atoms = len(protein.positions) + len(ligand.positions)\n",
    "\n",
    "    # create an array for storing all atom positions as tupels containing a value and a unit\n",
    "    # called OpenMM Quantities\n",
    "    complex_positions = unit.Quantity(np.zeros([total_atoms, 3]), unit=unit.nanometers)\n",
    "    complex_positions[: len(protein.positions)] = protein.positions  # add protein positions\n",
    "    complex_positions[len(protein.positions) :] = ligand.positions  # add ligand positions\n",
    "\n",
    "    return complex_topology, complex_positions"
   ]
  },
  {
   "cell_type": "code",
   "execution_count": 12,
   "metadata": {},
   "outputs": [],
   "source": [
    "complex_topology, complex_positions = merge_protein_and_ligand(prepare_protein, omm_ligand)"
   ]
  },
  {
   "cell_type": "code",
   "execution_count": 13,
   "metadata": {},
   "outputs": [
    {
     "name": "stdout",
     "output_type": "stream",
     "text": [
      "Complex topology has 4208 atoms.\n"
     ]
    }
   ],
   "source": [
    "print(\"Complex topology has\", complex_topology.getNumAtoms(), \"atoms.\")\n",
    "# NBVAL_CHECK_OUTPUT"
   ]
  },
  {
   "cell_type": "code",
   "execution_count": 14,
   "metadata": {},
   "outputs": [],
   "source": [
    "def generate_forcefield(\n",
    "    rdkit_mol=None, protein_ff=\"amber14-all.xml\", solvent_ff=\"amber14/tip3pfb.xml\"\n",
    "):\n",
    "    \"\"\"\n",
    "    Generate an OpenMM Forcefield object and register a small molecule.\n",
    "\n",
    "    Parameters\n",
    "    ----------\n",
    "    rdkit_mol: rdkit.Chem.rdchem.Mol\n",
    "        Small molecule to register in the force field.\n",
    "    protein_ff: string\n",
    "        Name of the force field.\n",
    "    solvent_ff: string\n",
    "        Name of the solvent force field.\n",
    "\n",
    "    Returns\n",
    "    -------\n",
    "    forcefield: openmm.app.Forcefield\n",
    "        Forcefield with registered small molecule.\n",
    "    \"\"\"\n",
    "    forcefield = app.ForceField(protein_ff, solvent_ff)\n",
    "\n",
    "    if rdkit_mol is not None:\n",
    "        gaff = GAFFTemplateGenerator(\n",
    "            molecules=Molecule.from_rdkit(rdkit_mol, allow_undefined_stereo=True)\n",
    "        )\n",
    "        forcefield.registerTemplateGenerator(gaff.generator)\n",
    "\n",
    "    return forcefield"
   ]
  },
  {
   "cell_type": "code",
   "execution_count": 15,
   "metadata": {},
   "outputs": [],
   "source": [
    "forcefield = generate_forcefield(rdkit_ligand)"
   ]
  },
  {
   "cell_type": "code",
   "execution_count": 16,
   "metadata": {},
   "outputs": [
    {
     "name": "stderr",
     "output_type": "stream",
     "text": [
      "/bin/bash: /home/media/data2/user_home/dbsejrgus226/miniconda3/envs/MD/lib/libtinfo.so.6: no version information available (required by /bin/bash)\n",
      "/bin/bash: /home/media/data2/user_home/dbsejrgus226/miniconda3/envs/MD/lib/libtinfo.so.6: no version information available (required by /bin/bash)\n",
      "/bin/bash: /home/media/data2/user_home/dbsejrgus226/miniconda3/envs/MD/lib/libtinfo.so.6: no version information available (required by /bin/bash)\n",
      "/bin/bash: /home/media/data2/user_home/dbsejrgus226/miniconda3/envs/MD/lib/libtinfo.so.6: no version information available (required by /bin/bash)\n",
      "/bin/bash: /home/media/data2/user_home/dbsejrgus226/miniconda3/envs/MD/lib/libtinfo.so.6: no version information available (required by /bin/bash)\n",
      "/bin/bash: /home/media/data2/user_home/dbsejrgus226/miniconda3/envs/MD/lib/libtinfo.so.6: no version information available (required by /bin/bash)\n",
      "Warning: importing 'simtk.openmm' is deprecated.  Import 'openmm' instead.\n"
     ]
    }
   ],
   "source": [
    "modeller = app.Modeller(complex_topology, complex_positions)\n",
    "modeller.addSolvent(forcefield, padding=1.5 * unit.nanometers, ionicStrength=0.15 * unit.molar)"
   ]
  },
  {
   "cell_type": "code",
   "execution_count": 17,
   "metadata": {},
   "outputs": [],
   "source": [
    "system = forcefield.createSystem(modeller.topology, nonbondedMethod=app.NoCutoff)\n",
    "integrator = mm.LangevinIntegrator(\n",
    "    309.65 * unit.kelvin, 1.0 / unit.picoseconds, 2.0 * unit.femtoseconds\n",
    ")\n",
    "simulation = app.Simulation(modeller.topology, system, integrator)\n",
    "simulation.context.setPositions(modeller.positions)"
   ]
  },
  {
   "cell_type": "code",
   "execution_count": 18,
   "metadata": {},
   "outputs": [],
   "source": [
    "simulation.minimizeEnergy()\n",
    "with open(\"topology_3.pdb\", \"w\") as pdb_file:\n",
    "    app.PDBFile.writeFile(\n",
    "        simulation.topology,\n",
    "        simulation.context.getState(getPositions=True, enforcePeriodicBox=True).getPositions(),\n",
    "        file=pdb_file,\n",
    "        keepIds=True,\n",
    "    )"
   ]
  },
  {
   "cell_type": "code",
   "execution_count": 19,
   "metadata": {},
   "outputs": [],
   "source": [
    "# output settings\n",
    "\n",
    "steps = 50000  # corresponds to 100 fs\n",
    "write_interval = 500  # write every 10 fs\n",
    "log_interval = 250  # log progress to stdout every 5 fs\n",
    "simulation.reporters.append(\n",
    "    md.reporters.XTCReporter(file=str(\"trajectory_3.xtc\"), reportInterval=write_interval)\n",
    ")\n",
    "simulation.reporters.append(\n",
    "    app.StateDataReporter(\n",
    "        sys.stdout,\n",
    "        log_interval,\n",
    "        step=True,\n",
    "        potentialEnergy=True,\n",
    "        temperature=True,\n",
    "        progress=True,\n",
    "        remainingTime=True,\n",
    "        speed=True,\n",
    "        totalSteps=steps,\n",
    "        separator=\"\\t\",\n",
    "    )\n",
    ")"
   ]
  },
  {
   "cell_type": "code",
   "execution_count": 20,
   "metadata": {},
   "outputs": [
    {
     "name": "stdout",
     "output_type": "stream",
     "text": [
      "#\"Progress (%)\"\t\"Step\"\t\"Potential Energy (kJ/mole)\"\t\"Temperature (K)\"\t\"Speed (ns/day)\"\t\"Time Remaining\"\n",
      "0.5%\t250\t-1024200.375\t210.62065428296214\t0\t--\n",
      "1.0%\t500\t-1003039.4375\t247.05774926927333\t1.05\t2:16:22\n",
      "1.5%\t750\t-987823.125\t271.70181434800577\t1.04\t2:16:01\n",
      "2.0%\t1000\t-976461.875\t281.46919532297454\t1.04\t2:15:27\n",
      "2.5%\t1250\t-969662.375\t292.27997806671834\t1.04\t2:14:45\n",
      "3.0%\t1500\t-964944.5\t297.88663757693433\t1.04\t2:14:22\n",
      "3.5%\t1750\t-960892.375\t301.6129373827162\t1.04\t2:14:06\n",
      "4.0%\t2000\t-958940.875\t302.10470563287424\t1.03\t2:13:49\n",
      "4.5%\t2250\t-957310.25\t304.67276796861694\t1.03\t2:13:25\n",
      "5.0%\t2500\t-954923.4375\t304.8253846863282\t1.03\t2:12:58\n",
      "5.5%\t2750\t-954524.75\t306.6410470713488\t1.03\t2:12:27\n",
      "6.0%\t3000\t-954593.5\t308.7174143915957\t1.03\t2:11:54\n",
      "6.5%\t3250\t-953406.4375\t308.6126058422797\t1.03\t2:11:20\n",
      "7.0%\t3500\t-951764.6875\t308.3382247125914\t1.02\t2:10:44\n",
      "7.5%\t3750\t-951654.625\t310.3884107009278\t1.02\t2:10:17\n",
      "8.0%\t4000\t-951453.5\t309.8853315667773\t1.02\t2:09:50\n",
      "8.5%\t4250\t-951984.875\t310.69097217797133\t1.02\t2:09:23\n",
      "9.0%\t4500\t-951962.75\t310.1451463413262\t1.02\t2:08:54\n",
      "9.5%\t4750\t-951452.125\t309.0650117399967\t1.02\t2:08:23\n",
      "10.0%\t5000\t-949618.875\t308.81106537926314\t1.01\t2:07:51\n",
      "10.5%\t5250\t-950759.625\t309.7844546247092\t1.01\t2:07:17\n",
      "11.0%\t5500\t-951776.875\t310.1201465054479\t1.01\t2:06:43\n",
      "11.5%\t5750\t-952212.625\t312.26882856431575\t1.01\t2:06:08\n",
      "12.0%\t6000\t-951908.5\t310.00805601589695\t1.01\t2:05:33\n",
      "12.5%\t6250\t-951417.6875\t309.7727089521854\t1.01\t2:04:56\n",
      "13.0%\t6500\t-950609.25\t310.75769859122096\t1.01\t2:04:19\n",
      "13.5%\t6750\t-952560.9375\t310.36532416987797\t1.01\t2:03:42\n",
      "14.0%\t7000\t-951478.5625\t308.3082053875338\t1.01\t2:03:04\n",
      "14.5%\t7250\t-952152.5\t311.97565386885265\t1.01\t2:02:25\n",
      "15.0%\t7500\t-951436.375\t309.70366580535904\t1.01\t2:01:47\n",
      "15.5%\t7750\t-951285.0625\t309.88952116831166\t1\t2:01:08\n",
      "16.0%\t8000\t-950342.1875\t309.42612104344545\t1\t2:00:28\n",
      "16.5%\t8250\t-951177.125\t309.4340123690478\t1\t1:59:49\n",
      "17.0%\t8500\t-951624.3125\t310.2016492604216\t1\t1:59:09\n",
      "17.5%\t8750\t-951556.6875\t308.59142692383523\t1\t1:58:28\n",
      "18.0%\t9000\t-950888.8125\t307.96704697298276\t1\t1:57:48\n",
      "18.5%\t9250\t-952581.875\t308.7944684297423\t1\t1:57:08\n",
      "19.0%\t9500\t-952233.375\t310.3013189628408\t1\t1:56:27\n",
      "19.5%\t9750\t-951369.375\t308.2033742703432\t1\t1:55:47\n",
      "20.0%\t10000\t-950116.375\t308.29716378385376\t1\t1:55:06\n",
      "20.5%\t10250\t-952485.0625\t311.44966025600723\t1\t1:54:25\n",
      "21.0%\t10500\t-952124.125\t311.66742180083213\t1\t1:53:44\n",
      "21.5%\t10750\t-950841.375\t309.1088128019163\t1\t1:53:02\n",
      "22.0%\t11000\t-951613.125\t310.2870165374396\t1\t1:52:21\n",
      "22.5%\t11250\t-952079.875\t310.2705815670125\t0.999\t1:51:39\n",
      "23.0%\t11500\t-952371.5\t310.5380574654063\t0.999\t1:50:58\n",
      "23.5%\t11750\t-952579.875\t310.70684809808137\t0.999\t1:50:16\n",
      "24.0%\t12000\t-952962.9375\t311.427467991847\t0.999\t1:49:34\n",
      "24.5%\t12250\t-953740.3125\t311.4085540047258\t0.999\t1:48:52\n",
      "25.0%\t12500\t-952948.5\t309.39592878490396\t0.998\t1:48:10\n",
      "25.5%\t12750\t-952181.75\t310.612459108568\t0.998\t1:47:28\n",
      "26.0%\t13000\t-953295.625\t310.7100309312577\t0.998\t1:46:46\n",
      "26.5%\t13250\t-953805.75\t308.3198555964918\t0.998\t1:46:03\n",
      "27.0%\t13500\t-954506.125\t309.52831562712777\t0.998\t1:45:21\n",
      "27.5%\t13750\t-953823.75\t308.9841610340231\t0.998\t1:44:39\n",
      "28.0%\t14000\t-952572.375\t309.48456065820176\t0.997\t1:43:57\n",
      "28.5%\t14250\t-951149.6875\t308.00065075345475\t0.997\t1:43:14\n",
      "29.0%\t14500\t-951832.5\t308.3837480603074\t0.997\t1:42:32\n",
      "29.5%\t14750\t-951785.125\t309.70597589159814\t0.997\t1:41:49\n",
      "30.0%\t15000\t-950819.1875\t309.143094679815\t0.997\t1:41:05\n",
      "30.5%\t15250\t-950886.75\t307.87031398801463\t1\t1:40:01\n",
      "31.0%\t15500\t-951700.75\t309.5894580916771\t1\t1:38:57\n",
      "31.5%\t15750\t-952378.1875\t310.97809510246566\t1.01\t1:37:54\n",
      "32.0%\t16000\t-951964.125\t311.49840060802023\t1.01\t1:36:52\n",
      "32.5%\t16250\t-951351.0\t308.56562064012246\t1.01\t1:35:50\n",
      "33.0%\t16500\t-950944.6875\t309.2018131183333\t1.02\t1:34:50\n",
      "33.5%\t16750\t-952436.75\t310.4986172559996\t1.02\t1:33:50\n",
      "34.0%\t17000\t-952969.5625\t309.9353931846408\t1.02\t1:32:51\n",
      "34.5%\t17250\t-952718.375\t310.6341825798488\t1.03\t1:31:53\n",
      "35.0%\t17500\t-953459.75\t312.6991448226278\t1.03\t1:30:56\n",
      "35.5%\t17750\t-954092.25\t310.6771754897537\t1.03\t1:29:59\n",
      "36.0%\t18000\t-953513.0625\t309.8086594746985\t1.03\t1:29:03\n",
      "36.5%\t18250\t-952222.375\t309.2654311608779\t1.04\t1:28:07\n",
      "37.0%\t18500\t-951842.9375\t309.9856910474052\t1.04\t1:27:12\n",
      "37.5%\t18750\t-953250.25\t309.57619501113055\t1.04\t1:26:18\n",
      "38.0%\t19000\t-954248.875\t310.6547695212555\t1.05\t1:25:24\n",
      "38.5%\t19250\t-953283.75\t309.75982385092885\t1.05\t1:24:31\n",
      "39.0%\t19500\t-954540.75\t311.64137931244386\t1.05\t1:23:38\n",
      "39.5%\t19750\t-954679.875\t312.1698010482834\t1.05\t1:22:46\n",
      "40.0%\t20000\t-952508.125\t308.4757301778946\t1.05\t1:21:54\n",
      "40.5%\t20250\t-953789.25\t308.91628219926054\t1.06\t1:21:03\n",
      "41.0%\t20500\t-952808.0\t306.2063654158163\t1.06\t1:20:12\n",
      "41.5%\t20750\t-954463.5\t311.5772129020456\t1.06\t1:19:21\n",
      "42.0%\t21000\t-954070.25\t311.06298352957594\t1.06\t1:18:31\n",
      "42.5%\t21250\t-953996.9375\t309.07847895312864\t1.07\t1:17:41\n",
      "43.0%\t21500\t-954119.5\t309.8393684982354\t1.07\t1:16:52\n",
      "43.5%\t21750\t-953009.25\t308.56451603258597\t1.07\t1:16:03\n",
      "44.0%\t22000\t-953994.3125\t308.53837802415086\t1.07\t1:15:14\n",
      "44.5%\t22250\t-953836.375\t311.4963907440321\t1.07\t1:14:26\n",
      "45.0%\t22500\t-952691.8125\t309.8194810621539\t1.08\t1:13:38\n",
      "45.5%\t22750\t-954425.9375\t311.4088531464552\t1.08\t1:12:50\n",
      "46.0%\t23000\t-952281.75\t307.420657987863\t1.08\t1:12:03\n",
      "46.5%\t23250\t-953153.625\t310.2049368927086\t1.08\t1:11:16\n",
      "47.0%\t23500\t-954363.375\t312.991581403547\t1.08\t1:10:29\n",
      "47.5%\t23750\t-953564.25\t309.89676515348214\t1.08\t1:09:42\n",
      "48.0%\t24000\t-953988.625\t309.6644236130657\t1.09\t1:08:56\n",
      "48.5%\t24250\t-953246.625\t310.17707184972096\t1.09\t1:08:10\n",
      "49.0%\t24500\t-954243.25\t311.22223676191845\t1.09\t1:07:24\n",
      "49.5%\t24750\t-954385.9375\t310.4060143945315\t1.09\t1:06:38\n",
      "50.0%\t25000\t-952914.0\t308.99915136092716\t1.09\t1:05:53\n",
      "50.5%\t25250\t-955357.1875\t310.0738677650885\t1.09\t1:05:08\n",
      "51.0%\t25500\t-953975.0\t309.5464423672309\t1.1\t1:04:23\n",
      "51.5%\t25750\t-954318.375\t312.4072463718773\t1.1\t1:03:39\n",
      "52.0%\t26000\t-953655.125\t310.578873327469\t1.1\t1:02:54\n",
      "52.5%\t26250\t-954401.0\t308.41645980224047\t1.1\t1:02:10\n",
      "53.0%\t26500\t-954156.5625\t310.5912891778048\t1.1\t1:01:26\n",
      "53.5%\t26750\t-954640.625\t312.8358136975757\t1.1\t1:00:42\n",
      "54.0%\t27000\t-951922.875\t308.2840672055161\t1.1\t59:58\n",
      "54.5%\t27250\t-955679.375\t309.92557284479483\t1.11\t59:15\n",
      "55.0%\t27500\t-955075.125\t309.8614629145883\t1.11\t58:32\n",
      "55.5%\t27750\t-955253.0625\t309.86427094826723\t1.11\t57:48\n",
      "56.0%\t28000\t-954535.1875\t311.1227009977665\t1.11\t57:05\n",
      "56.5%\t28250\t-953106.5625\t309.1452002020519\t1.11\t56:23\n",
      "57.0%\t28500\t-955152.5\t312.4558049016134\t1.11\t55:40\n",
      "57.5%\t28750\t-955291.0\t310.5834951428966\t1.11\t54:57\n",
      "58.0%\t29000\t-955678.375\t309.5663242979576\t1.11\t54:15\n",
      "58.5%\t29250\t-955407.0\t307.43926195697384\t1.12\t53:33\n",
      "59.0%\t29500\t-956598.8125\t307.16201254020757\t1.12\t52:51\n",
      "59.5%\t29750\t-956030.625\t307.0743819940801\t1.12\t52:09\n",
      "60.0%\t30000\t-955925.375\t308.4914981256129\t1.12\t51:27\n",
      "60.5%\t30250\t-956386.0\t309.7511625163611\t1.12\t50:45\n",
      "61.0%\t30500\t-956604.125\t308.76586762212213\t1.12\t50:04\n",
      "61.5%\t30750\t-955552.25\t306.7646482833689\t1.12\t49:22\n",
      "62.0%\t31000\t-957014.5\t309.4182233866104\t1.12\t48:41\n",
      "62.5%\t31250\t-956571.8125\t309.13055416438385\t1.12\t48:00\n",
      "63.0%\t31500\t-956486.125\t309.00161502954353\t1.13\t47:19\n",
      "63.5%\t31750\t-956582.9375\t308.67299997979285\t1.13\t46:38\n",
      "64.0%\t32000\t-956639.25\t309.13536399992495\t1.13\t45:57\n",
      "64.5%\t32250\t-955940.1875\t310.4361458733531\t1.13\t45:16\n",
      "65.0%\t32500\t-956306.25\t309.73101658445876\t1.13\t44:36\n",
      "65.5%\t32750\t-955767.9375\t310.13650826042254\t1.13\t43:55\n",
      "66.0%\t33000\t-955198.0\t310.13147393589963\t1.13\t43:15\n",
      "66.5%\t33250\t-955032.4375\t308.79729796157113\t1.13\t42:34\n",
      "67.0%\t33500\t-955279.1875\t308.87463521322223\t1.13\t41:54\n",
      "67.5%\t33750\t-955473.0625\t309.1327813169056\t1.13\t41:14\n",
      "68.0%\t34000\t-954868.25\t308.3702756470731\t1.14\t40:34\n",
      "68.5%\t34250\t-954818.75\t309.4816961909222\t1.14\t39:54\n",
      "69.0%\t34500\t-955057.6875\t308.32205946016114\t1.14\t39:14\n",
      "69.5%\t34750\t-955561.0\t310.5468747837718\t1.14\t38:34\n",
      "70.0%\t35000\t-955803.9375\t310.7964377920344\t1.14\t37:55\n",
      "70.5%\t35250\t-955188.875\t309.652430677335\t1.14\t37:15\n",
      "71.0%\t35500\t-955308.25\t310.0773379999091\t1.14\t36:36\n",
      "71.5%\t35750\t-955971.25\t311.0789385028627\t1.14\t35:56\n",
      "72.0%\t36000\t-956243.875\t308.5216727819369\t1.14\t35:17\n",
      "72.5%\t36250\t-956390.8125\t310.00978990055114\t1.14\t34:38\n",
      "73.0%\t36500\t-955926.25\t309.51752576163454\t1.14\t33:58\n",
      "73.5%\t36750\t-955143.5\t308.83123153809686\t1.14\t33:19\n",
      "74.0%\t37000\t-955469.125\t310.75222674450976\t1.15\t32:40\n",
      "74.5%\t37250\t-954844.125\t309.36084013080165\t1.15\t32:01\n",
      "75.0%\t37500\t-954718.1875\t308.5353724315155\t1.15\t31:22\n",
      "75.5%\t37750\t-957169.375\t310.49547827073695\t1.15\t30:43\n",
      "76.0%\t38000\t-957025.125\t307.0808957470009\t1.15\t30:04\n",
      "76.5%\t38250\t-957492.75\t309.538393753891\t1.15\t29:26\n",
      "77.0%\t38500\t-955639.375\t309.16252111243926\t1.15\t28:47\n",
      "77.5%\t38750\t-955134.875\t310.11177698665665\t1.15\t28:08\n",
      "78.0%\t39000\t-956219.0\t311.5532495856064\t1.15\t27:30\n",
      "78.5%\t39250\t-956061.3125\t310.15790038569276\t1.15\t26:51\n",
      "79.0%\t39500\t-954602.25\t307.07648917254267\t1.15\t26:13\n",
      "79.5%\t39750\t-955198.6875\t309.78056380064567\t1.15\t25:35\n",
      "80.0%\t40000\t-955315.9375\t310.2674999381154\t1.15\t24:56\n",
      "80.5%\t40250\t-955145.5\t308.88675067598194\t1.16\t24:18\n",
      "81.0%\t40500\t-955563.875\t309.9867208368482\t1.16\t23:40\n",
      "81.5%\t40750\t-955369.4375\t309.76020122283006\t1.16\t23:02\n",
      "82.0%\t41000\t-955175.625\t306.87151094033277\t1.16\t22:24\n",
      "82.5%\t41250\t-956018.25\t308.6061377910229\t1.16\t21:45\n",
      "83.0%\t41500\t-955310.75\t308.13387643904406\t1.16\t21:07\n",
      "83.5%\t41750\t-955837.75\t310.4512625923081\t1.16\t20:29\n",
      "84.0%\t42000\t-956385.375\t308.9354846667816\t1.16\t19:52\n",
      "84.5%\t42250\t-955738.0625\t308.93565052729645\t1.16\t19:14\n",
      "85.0%\t42500\t-954924.625\t307.43963548386375\t1.16\t18:36\n",
      "85.5%\t42750\t-955096.25\t310.56587142697094\t1.16\t17:58\n",
      "86.0%\t43000\t-954869.0625\t309.2512510057498\t1.16\t17:20\n",
      "86.5%\t43250\t-956021.25\t312.00077693551947\t1.16\t16:43\n",
      "87.0%\t43500\t-953578.875\t308.2059125233872\t1.16\t16:05\n",
      "87.5%\t43750\t-952801.75\t308.84899914431634\t1.16\t15:27\n",
      "88.0%\t44000\t-952654.375\t310.7499511195911\t1.16\t14:50\n",
      "88.5%\t44250\t-952966.0\t310.12591458552384\t1.16\t14:12\n",
      "89.0%\t44500\t-952953.5\t310.34921221675205\t1.17\t13:35\n",
      "89.5%\t44750\t-953132.8125\t309.08668907200916\t1.17\t12:57\n",
      "90.0%\t45000\t-953933.875\t309.2866327396616\t1.17\t12:20\n",
      "90.5%\t45250\t-953286.875\t309.4754324330103\t1.17\t11:43\n",
      "91.0%\t45500\t-954916.5\t311.45785050633486\t1.17\t11:05\n",
      "91.5%\t45750\t-954320.875\t310.3838494236176\t1.17\t10:28\n",
      "92.0%\t46000\t-955378.375\t310.1192096086862\t1.17\t9:51\n",
      "92.5%\t46250\t-956587.75\t309.09470292044085\t1.17\t9:14\n",
      "93.0%\t46500\t-955077.9375\t307.99988117645285\t1.17\t8:36\n",
      "93.5%\t46750\t-956166.8125\t309.414333112546\t1.17\t7:59\n",
      "94.0%\t47000\t-956336.875\t310.02308381555497\t1.17\t7:22\n",
      "94.5%\t47250\t-954982.375\t309.7577973292358\t1.17\t6:45\n",
      "95.0%\t47500\t-954697.9375\t309.46847641152164\t1.17\t6:08\n",
      "95.5%\t47750\t-954799.6875\t310.5698116798716\t1.17\t5:31\n",
      "96.0%\t48000\t-953354.0625\t310.49225528377065\t1.17\t4:54\n",
      "96.5%\t48250\t-954280.0625\t310.0965370653728\t1.17\t4:18\n",
      "97.0%\t48500\t-955912.0\t309.79544721565765\t1.17\t3:41\n",
      "97.5%\t48750\t-956389.9375\t310.1514757563727\t1.17\t3:04\n",
      "98.0%\t49000\t-954552.625\t309.0729997856113\t1.17\t2:27\n",
      "98.5%\t49250\t-954464.75\t308.960315798908\t1.17\t1:50\n",
      "99.0%\t49500\t-955120.5\t309.0925941097313\t1.17\t1:13\n",
      "99.5%\t49750\t-955879.125\t310.80120586931173\t1.17\t0:36\n",
      "100.0%\t50000\t-955765.625\t310.68305845092647\t1.17\t0:00\n"
     ]
    }
   ],
   "source": [
    "simulation.context.setVelocitiesToTemperature(309.65 * unit.kelvin)\n",
    "simulation.step(steps)  # perform the simulation"
   ]
  },
  {
   "cell_type": "code",
   "execution_count": 21,
   "metadata": {},
   "outputs": [
    {
     "name": "stdout",
     "output_type": "stream",
     "text": [
      "os.stat_result(st_mode=33204, st_ino=235276804, st_dev=2080, st_nlink=1, st_uid=1002, st_gid=1002, st_size=22663232, st_atime=1717123942, st_mtime=1717131313, st_ctime=1717131313)\n"
     ]
    }
   ],
   "source": [
    "# Check the trajectory exists and is not empty\n",
    "import os \n",
    "result = \"./trajectory_3.xtc\"\n",
    "file_info = os.stat(result)\n",
    "print(file_info)\n",
    "#result.stat().st_size > 0\n",
    "# NBVAL_CHECK_OUTPUT"
   ]
  },
  {
   "cell_type": "markdown",
   "metadata": {},
   "source": [
    "# Analysis MD Simulation results"
   ]
  },
  {
   "cell_type": "code",
   "execution_count": 22,
   "metadata": {},
   "outputs": [
    {
     "data": {
      "application/vnd.jupyter.widget-view+json": {
       "model_id": "2f53aa2945534156b5b78f4175c2f86f",
       "version_major": 2,
       "version_minor": 0
      },
      "text/plain": []
     },
     "metadata": {},
     "output_type": "display_data"
    }
   ],
   "source": [
    "from pathlib import Path\n",
    "\n",
    "import pandas as pd\n",
    "import numpy as np\n",
    "import matplotlib.pyplot as plt\n",
    "import nglview as nv\n",
    "import MDAnalysis as mda\n",
    "from MDAnalysis.analysis import rms, diffusionmap, align\n",
    "from MDAnalysis.analysis.distances import dist\n",
    "from MDAnalysis.analysis.hydrogenbonds.hbond_analysis import HydrogenBondAnalysis as HBA\n"
   ]
  },
  {
   "cell_type": "code",
   "execution_count": 23,
   "metadata": {},
   "outputs": [],
   "source": [
    "md_universe = mda.Universe(str(\"./topology_3.pdb\"), str(\"./trajectory_3.xtc\"))"
   ]
  },
  {
   "cell_type": "code",
   "execution_count": 24,
   "metadata": {},
   "outputs": [
    {
     "data": {
      "text/plain": [
       "<MDAnalysis.analysis.align.AlignTraj at 0x7ff52b544df0>"
      ]
     },
     "execution_count": 24,
     "metadata": {},
     "output_type": "execute_result"
    }
   ],
   "source": [
    "# Set trajectory pointer to first frame as reference\n",
    "md_universe.trajectory[0]\n",
    "\n",
    "# in_memory=True is needed to actually modify the loaded trajectory\n",
    "# if the trajectory is too big for memory, one can write out the aligned trajectory and reload it into a new universe\n",
    "alignment = align.AlignTraj(\n",
    "    mobile=md_universe, reference=md_universe, select=\"protein\", in_memory=True\n",
    ")\n",
    "alignment.run()"
   ]
  },
  {
   "cell_type": "code",
   "execution_count": 25,
   "metadata": {},
   "outputs": [],
   "source": [
    "def rmsd_for_atomgroups(universe, selection1, selection2=None):\n",
    "    \"\"\"Calulate the RMSD for selected atom groups.\n",
    "\n",
    "    Parameters\n",
    "    ----------\n",
    "    universe: MDAnalysis.core.universe.Universe\n",
    "        MDAnalysis universe.\n",
    "    selection1: str\n",
    "        Selection string for main atom group, also used during alignment.\n",
    "    selection2: list of str, optional\n",
    "        Selection strings for additional atom groups.\n",
    "\n",
    "    Returns\n",
    "    -------\n",
    "    rmsd_df: pandas.core.frame.DataFrame\n",
    "        DataFrame containing RMSD of the selected atom groups over time.\n",
    "    \"\"\"\n",
    "\n",
    "    universe.trajectory\n",
    "    ref = universe\n",
    "    rmsd_analysis = rms.RMSD(universe, ref, select=selection1, groupselections=selection2)\n",
    "    rmsd_analysis.run()\n",
    "\n",
    "    columns = [selection1, *selection2] if selection2 else [selection1]\n",
    "    #print(rmsd_analysis.results)\n",
    "    #print(rmsd_analysis)\n",
    "    rmsd_df = pd.DataFrame(np.round(rmsd_analysis.results.rmsd[:, 2:], 2), columns=columns)\n",
    "    rmsd_df.index.name = \"time\"\n",
    "    return rmsd_df"
   ]
  },
  {
   "cell_type": "code",
   "execution_count": 26,
   "metadata": {},
   "outputs": [],
   "source": [
    "rmsd = rmsd_for_atomgroups(md_universe, \"backbone\", [\"protein\", \"resname UNK\"])\n",
    "#rmsd[:20]"
   ]
  },
  {
   "cell_type": "code",
   "execution_count": 27,
   "metadata": {},
   "outputs": [
    {
     "data": {
      "text/html": [
       "<div>\n",
       "<style scoped>\n",
       "    .dataframe tbody tr th:only-of-type {\n",
       "        vertical-align: middle;\n",
       "    }\n",
       "\n",
       "    .dataframe tbody tr th {\n",
       "        vertical-align: top;\n",
       "    }\n",
       "\n",
       "    .dataframe thead th {\n",
       "        text-align: right;\n",
       "    }\n",
       "</style>\n",
       "<table border=\"1\" class=\"dataframe\">\n",
       "  <thead>\n",
       "    <tr style=\"text-align: right;\">\n",
       "      <th></th>\n",
       "      <th>backbone</th>\n",
       "      <th>protein</th>\n",
       "      <th>rank_3_ligand</th>\n",
       "    </tr>\n",
       "    <tr>\n",
       "      <th>time</th>\n",
       "      <th></th>\n",
       "      <th></th>\n",
       "      <th></th>\n",
       "    </tr>\n",
       "  </thead>\n",
       "  <tbody>\n",
       "    <tr>\n",
       "      <th>0</th>\n",
       "      <td>0.00</td>\n",
       "      <td>0.00</td>\n",
       "      <td>0.00</td>\n",
       "    </tr>\n",
       "    <tr>\n",
       "      <th>1</th>\n",
       "      <td>0.67</td>\n",
       "      <td>0.89</td>\n",
       "      <td>1.28</td>\n",
       "    </tr>\n",
       "    <tr>\n",
       "      <th>2</th>\n",
       "      <td>0.70</td>\n",
       "      <td>0.93</td>\n",
       "      <td>1.65</td>\n",
       "    </tr>\n",
       "    <tr>\n",
       "      <th>3</th>\n",
       "      <td>0.81</td>\n",
       "      <td>1.05</td>\n",
       "      <td>2.18</td>\n",
       "    </tr>\n",
       "    <tr>\n",
       "      <th>4</th>\n",
       "      <td>0.83</td>\n",
       "      <td>1.13</td>\n",
       "      <td>1.88</td>\n",
       "    </tr>\n",
       "  </tbody>\n",
       "</table>\n",
       "</div>"
      ],
      "text/plain": [
       "      backbone  protein  rank_3_ligand\n",
       "time                                  \n",
       "0         0.00     0.00           0.00\n",
       "1         0.67     0.89           1.28\n",
       "2         0.70     0.93           1.65\n",
       "3         0.81     1.05           2.18\n",
       "4         0.83     1.13           1.88"
      ]
     },
     "execution_count": 27,
     "metadata": {},
     "output_type": "execute_result"
    }
   ],
   "source": [
    "rmsd.rename(columns={\"resname UNK\": \"rank_3_ligand\"}, inplace=True)\n",
    "rmsd.head()"
   ]
  },
  {
   "cell_type": "code",
   "execution_count": 28,
   "metadata": {},
   "outputs": [
    {
     "data": {
      "image/png": "[encoded data removed]",
      "text/plain": [
       "<Figure size 640x480 with 1 Axes>"
      ]
     },
     "metadata": {},
     "output_type": "display_data"
    }
   ],
   "source": [
    "rmsd.plot(title=\"RMSD of protein and ligand\")\n",
    "plt.ylabel(\"RMSD (Å)\");"
   ]
  },
  {
   "cell_type": "code",
   "execution_count": 30,
   "metadata": {},
   "outputs": [],
   "source": [
    "rmsd.to_csv(\"rank_3_rmsd_results.csv\")"
   ]
  },
  {
   "cell_type": "markdown",
   "metadata": {},
   "source": [
    "## RMSF Analysis"
   ]
  },
  {
   "cell_type": "code",
   "execution_count": 1,
   "metadata": {},
   "outputs": [],
   "source": [
    "import MDAnalysis as mda\n",
    "from MDAnalysis.analysis import align\n",
    "import MDAnalysis.transformations as trans\n",
    "from MDAnalysis.analysis.rms import RMSF\n",
    "\n",
    "import matplotlib.pyplot as plt"
   ]
  },
  {
   "cell_type": "code",
   "execution_count": 2,
   "metadata": {},
   "outputs": [
    {
     "name": "stderr",
     "output_type": "stream",
     "text": [
      "Warning: importing 'simtk.openmm' is deprecated.  Import 'openmm' instead.\n",
      "/home/media/data2/user_home/dbsejrgus226/miniconda3/envs/MD/lib/python3.8/site-packages/MDAnalysis/topology/PDBParser.py:276: UserWarning: PDB file is missing resid information.  Defaulted to '1'\n",
      "  warnings.warn(\"PDB file is missing resid information.  \"\n"
     ]
    }
   ],
   "source": [
    "md_universe = mda.Universe(str(\"./topology_3.pdb\"), str(\"./trajectory_3.xtc\"))\n",
    "protein = md_universe.select_atoms(\"protein\")\n",
    "\n",
    "# 1) the current trajectory contains a protein split across\n",
    "#    periodic boundaries, so we first make the protein whole and\n",
    "#    center it in the box using on-the-fly transformations\n",
    "not_protein = md_universe.select_atoms(\"not protein\")\n",
    "transforms = [trans.unwrap(protein),\n",
    "              trans.center_in_box(protein, wrap=True),\n",
    "              trans.wrap(not_protein)]\n",
    "md_universe.trajectory.add_transformations(*transforms)\n",
    "\n",
    "# 2) fit to the initial frame to get a better average structure\n",
    "#    (the trajectory is changed in memory)\n",
    "prealigner = align.AlignTraj(md_universe, md_universe, select=\"protein and name CA\",\n",
    "                             in_memory=True).run()\n",
    "\n",
    "# 3) reference = average structure\n",
    "reference_coordinates = md_universe.trajectory.timeseries(asel=protein).mean(axis=1)\n",
    "# make a reference structure (need to reshape into a 1-frame \"trajectory\")\n",
    "reference = mda.Merge(protein).load_new(\n",
    "    reference_coordinates[:, None, :], order=\"afc\")\n",
    "\n",
    "# We created a new universe reference that contains a single frame with the averaged coordinates of the protein.\n",
    "# Now we need to fit the whole trajectory to the reference by minimizing the RMSD. \n",
    "# We use MDAnalysis.analysis.align.AlignTraj:\n",
    "aligner = align.AlignTraj(md_universe, reference, select=\"protein and name CA\", in_memory=True).run()\n"
   ]
  },
  {
   "cell_type": "code",
   "execution_count": 3,
   "metadata": {},
   "outputs": [],
   "source": [
    "# The trajectory is now fitted to the reference (the RMSD is stored as aligner.rmsd for further inspection). \n",
    "# Now we can calculate the RMSF:\n",
    "calphas = protein.select_atoms(\"name CA\")\n",
    "rmsfer = RMSF(calphas, verbose=False).run()"
   ]
  },
  {
   "cell_type": "code",
   "execution_count": 5,
   "metadata": {},
   "outputs": [
    {
     "data": {
      "image/png": "[encoded data removed]",
      "text/plain": [
       "<Figure size 640x480 with 1 Axes>"
      ]
     },
     "metadata": {},
     "output_type": "display_data"
    }
   ],
   "source": [
    "plt.plot(calphas.resnums, rmsfer.rmsf)\n",
    "plt.xlabel(\"Residue number\")\n",
    "plt.ylabel(\"RMSD (Å)\")\n",
    "plt.savefig(\"rank3_rmsf_results.png\")"
   ]
  },
  {
   "cell_type": "code",
   "execution_count": null,
   "metadata": {},
   "outputs": [],
   "source": []
  }
 ],
 "metadata": {
  "kernelspec": {
   "display_name": "Python 3",
   "language": "python",
   "name": "python3"
  },
  "language_info": {
   "codemirror_mode": {
    "name": "ipython",
    "version": 3
   },
   "file_extension": ".py",
   "mimetype": "text/x-python",
   "name": "python",
   "nbconvert_exporter": "python",
   "pygments_lexer": "ipython3",
   "version": "3.8.12"
  }
 },
 "nbformat": 4,
 "nbformat_minor": 2
}
