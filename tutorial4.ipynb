{
 "cells": [
  {
   "cell_type": "code",
   "execution_count": 2,
   "metadata": {},
   "outputs": [],
   "source": [
    "import pandas as pd\n",
    "import matplotlib.pyplot as plt\n",
    "import numpy as np\n",
    "\n",
    "import numpy as np\n",
    "import matplotlib.pyplot as plt\n",
    "from matplotlib import animation\n",
    "\n",
    "from IPython.display import HTML\n",
    "from IPython.display import display\n",
    "\n",
    "from openmm import *\n",
    "from simtk.unit import *\n",
    "import MDAnalysis as md\n",
    "import nglview as ng\n",
    "from sys import stdout"
   ]
  },
  {
   "cell_type": "code",
   "execution_count": 17,
   "metadata": {},
   "outputs": [],
   "source": [
    "# These files are already preloaded to your ``data`` folder\n",
    "\n",
    "pdb0_file = \"data/villin_water.pdb\"\n",
    "pdb1_file = \"data/polyALA.pdb\"\n",
    "pdb2_file = \"data/polyGLY.pdb\"\n",
    "pdb3_file = \"data/polyGV.pdb\""
   ]
  },
  {
   "cell_type": "code",
   "execution_count": 18,
   "metadata": {},
   "outputs": [],
   "source": [
    "# 1. loading initial coordinates\n",
    "pdb = PDBFile(pdb1_file)"
   ]
  },
  {
   "cell_type": "code",
   "execution_count": 19,
   "metadata": {},
   "outputs": [],
   "source": [
    "# 2.  choosing a forcefield parameters\n",
    "ff = ForceField(\"amber10.xml\")\n",
    "system = ff.createSystem(pdb.topology, nonbondedMethod=CutoffNonPeriodic)"
   ]
  },
  {
   "cell_type": "code",
   "execution_count": 21,
   "metadata": {},
   "outputs": [],
   "source": [
    "# 3. Choose parameters of the experiment: temperature, pressure, box size, solvation, boundary conditions, etc...\n",
    "temperature = 300*kelvin\n",
    "frictionCoeff = 1/picosecond\n",
    "time_step = 0.002*picoseconds\n",
    "total_steps = 400*picoseconds / time_step"
   ]
  },
  {
   "cell_type": "code",
   "execution_count": 23,
   "metadata": {},
   "outputs": [],
   "source": [
    "# 4. Choose an algorithm (integrator)\n",
    "integrator = LangevinIntegrator(temperature, frictionCoeff, time_step)"
   ]
  },
  {
   "cell_type": "code",
   "execution_count": 24,
   "metadata": {},
   "outputs": [],
   "source": [
    "# 5. Run simulation, saving coordinates time to time\n",
    "## 5a. Create a simulation object\n",
    "simulation = Simulation(pdb.topology, system, integrator)\n",
    "simulation.context.setPositions(pdb.positions)"
   ]
  },
  {
   "cell_type": "code",
   "execution_count": 25,
   "metadata": {},
   "outputs": [],
   "source": [
    "## 5b. Minimize energy\n",
    "simulation.minimizeEnergy()"
   ]
  },
  {
   "cell_type": "code",
   "execution_count": 30,
   "metadata": {},
   "outputs": [],
   "source": [
    "## 5c. Save coordinates to dcd file and energies to a standard output console\n",
    "simulation.reporters.append(DCDReporter(\"data/polyALA_traj.dcd\", 1000))\n",
    "simulation.reporters.append(StateDataReporter(stdout, 5000, step=True, potentialEnergy=True,\n",
    "                                              temperature=True, progress=True, totalSteps=total_steps))"
   ]
  },
  {
   "cell_type": "code",
   "execution_count": 31,
   "metadata": {},
   "outputs": [
    {
     "name": "stdout",
     "output_type": "stream",
     "text": [
      "102.5%,205000,4755.770090162754,278.0802779306465\n",
      "#\"Progress (%)\",\"Step\",\"Potential Energy (kJ/mole)\",\"Temperature (K)\"\n",
      "102.5%,205000,4755.770090162754,278.0802779306465\n",
      "105.0%,210000,4709.634234428406,282.43120932624356\n",
      "105.0%,210000,4709.634234428406,282.43120932624356\n",
      "107.5%,215000,4706.4244492948055,292.05316412261095\n",
      "107.5%,215000,4706.4244492948055,292.05316412261095\n",
      "110.0%,220000,4651.131392072886,310.87189244326083\n",
      "110.0%,220000,4651.131392072886,310.87189244326083\n",
      "112.5%,225000,4737.088874101639,296.0999097785986\n",
      "112.5%,225000,4737.088874101639,296.0999097785986\n",
      "115.0%,230000,4852.0043251514435,314.1053850304492\n",
      "115.0%,230000,4852.0043251514435,314.1053850304492\n",
      "117.5%,235000,4805.76481795311,299.3131168125324\n",
      "117.5%,235000,4805.76481795311,299.3131168125324\n",
      "120.0%,240000,4753.625875711441,312.32641815934505\n",
      "120.0%,240000,4753.625875711441,312.32641815934505\n",
      "122.5%,245000,4716.6938898563385,336.1210520975588\n",
      "122.5%,245000,4716.6938898563385,336.1210520975588\n",
      "125.0%,250000,4681.786416772753,290.20982564983314\n",
      "125.0%,250000,4681.786416772753,290.20982564983314\n",
      "127.5%,255000,4743.497304618359,276.6726132731738\n",
      "127.5%,255000,4743.497304618359,276.6726132731738\n",
      "130.0%,260000,4766.5176884531975,294.91095669239917\n",
      "130.0%,260000,4766.5176884531975,294.91095669239917\n",
      "132.5%,265000,4805.813955545425,300.88151936806565\n",
      "132.5%,265000,4805.813955545425,300.88151936806565\n",
      "135.0%,270000,4700.9956574216485,310.85526617436136\n",
      "135.0%,270000,4700.9956574216485,310.85526617436136\n",
      "137.5%,275000,4748.630296044052,286.0269492998129\n",
      "137.5%,275000,4748.630296044052,286.0269492998129\n",
      "140.0%,280000,4794.380115330219,297.09900907381706\n",
      "140.0%,280000,4794.380115330219,297.09900907381706\n",
      "142.5%,285000,4678.260320037603,294.4961029912576\n",
      "142.5%,285000,4678.260320037603,294.4961029912576\n",
      "145.0%,290000,4680.1255848407745,302.63546678639545\n",
      "145.0%,290000,4680.1255848407745,302.63546678639545\n",
      "147.5%,295000,4661.262405753136,311.0905233680061\n",
      "147.5%,295000,4661.262405753136,311.0905233680061\n",
      "150.0%,300000,4780.4405299425125,299.62393746675144\n",
      "150.0%,300000,4780.4405299425125,299.62393746675144\n",
      "152.5%,305000,4730.987947106361,303.3425139273331\n",
      "152.5%,305000,4730.987947106361,303.3425139273331\n",
      "155.0%,310000,4762.782542467117,317.2875943146348\n",
      "155.0%,310000,4762.782542467117,317.2875943146348\n",
      "157.5%,315000,4784.2520043849945,279.06074723483937\n",
      "157.5%,315000,4784.2520043849945,279.06074723483937\n",
      "160.0%,320000,4704.552616033703,279.69534132299515\n",
      "160.0%,320000,4704.552616033703,279.69534132299515\n",
      "162.5%,325000,4776.35742251575,297.6464314712225\n",
      "162.5%,325000,4776.35742251575,297.6464314712225\n",
      "165.0%,330000,4832.155798435211,319.0123051511719\n",
      "165.0%,330000,4832.155798435211,319.0123051511719\n",
      "167.5%,335000,4708.340609669685,306.52496017277593\n",
      "167.5%,335000,4708.340609669685,306.52496017277593\n",
      "170.0%,340000,4795.384134054184,304.22497355618026\n",
      "170.0%,340000,4795.384134054184,304.22497355618026\n",
      "172.5%,345000,4752.315843497403,294.8798118004895\n",
      "172.5%,345000,4752.315843497403,294.8798118004895\n",
      "175.0%,350000,4794.307914406061,314.460238181697\n",
      "175.0%,350000,4794.307914406061,314.460238181697\n",
      "177.5%,355000,4621.580078467727,303.27238084134933\n",
      "177.5%,355000,4621.580078467727,303.27238084134933\n",
      "180.0%,360000,4757.013800621033,302.25306551017644\n",
      "180.0%,360000,4757.013800621033,302.25306551017644\n",
      "182.5%,365000,4786.797605216503,311.4892343979042\n",
      "182.5%,365000,4786.797605216503,311.4892343979042\n",
      "185.0%,370000,4855.355088755488,259.9864368402842\n",
      "185.0%,370000,4855.355088755488,259.9864368402842\n",
      "187.5%,375000,4736.247692346573,299.1336650095947\n",
      "187.5%,375000,4736.247692346573,299.1336650095947\n",
      "190.0%,380000,4780.088154613972,307.80902919458356\n",
      "190.0%,380000,4780.088154613972,307.80902919458356\n",
      "192.5%,385000,4719.145532118157,324.79086841955626\n",
      "192.5%,385000,4719.145532118157,324.79086841955626\n",
      "195.0%,390000,4785.938576430082,289.504133109324\n",
      "195.0%,390000,4785.938576430082,289.504133109324\n",
      "197.5%,395000,4764.858192741871,323.05153081029806\n",
      "197.5%,395000,4764.858192741871,323.05153081029806\n",
      "200.0%,400000,4825.784624911845,294.37964059303863\n",
      "200.0%,400000,4825.784624911845,294.37964059303863\n"
     ]
    }
   ],
   "source": [
    "## 5d. Run\n",
    "simulation.step(total_steps)"
   ]
  },
  {
   "cell_type": "code",
   "execution_count": 32,
   "metadata": {},
   "outputs": [
    {
     "name": "stderr",
     "output_type": "stream",
     "text": [
      "/home/dbsejrgus226/miniconda3/envs/MD/lib/python3.12/site-packages/MDAnalysis/coordinates/DCD.py:165: DeprecationWarning: DCDReader currently makes independent timesteps by copying self.ts while other readers update self.ts inplace. This behavior will be changed in 3.0 to be the same as other readers. Read more at https://github.com/MDAnalysis/mdanalysis/issues/3889 to learn if this change in behavior might affect you.\n",
      "  warnings.warn(\"DCDReader currently makes independent timesteps\"\n"
     ]
    },
    {
     "data": {
      "application/vnd.jupyter.widget-view+json": {
       "model_id": "a7c23e18dc4947eb878079018840f95c",
       "version_major": 2,
       "version_minor": 0
      },
      "text/plain": [
       "NGLWidget(max_frame=199)"
      ]
     },
     "metadata": {},
     "output_type": "display_data"
    },
    {
     "data": {
      "application/vnd.jupyter.widget-view+json": {
       "model_id": "21f05dd5be114991b93645e873af9960",
       "version_major": 2,
       "version_minor": 0
      },
      "text/plain": [
       "Tab(children=(Box(children=(Box(children=(Box(children=(Label(value='step'), IntSlider(value=1, min=-100)), la…"
      ]
     },
     "metadata": {},
     "output_type": "display_data"
    }
   ],
   "source": [
    "## Visualization\n",
    "# Let's look at the trajectory\n",
    "#6. Visualization\n",
    "sys = md.Universe(pdb1_file, \"data/polyALA_traj.dcd\")\n",
    "ng.show_mdanalysis(sys, gui=True)"
   ]
  },
  {
   "cell_type": "code",
   "execution_count": 34,
   "metadata": {},
   "outputs": [],
   "source": [
    "# End-to-end distance\n",
    "# analysis of end-to-end distance\n",
    "#choose terminal atoms\n",
    "\n",
    "N_terminus = sys.select_atoms(\"resid 1 and name N\")\n",
    "C_terminus = sys.select_atoms(\"resid 25 and name C\")\n",
    "\n",
    "# go through the whole trajectory and compute distance between them for every frame\n",
    "dist = []\n",
    "for frame in sys.trajectory:\n",
    "    dist.append(np.linalg.norm(N_terminus.positions - C_terminus.positions))\n",
    "\n",
    "# the result is in the dist array\n",
    "dist = np.array(dist)"
   ]
  },
  {
   "cell_type": "code",
   "execution_count": 49,
   "metadata": {},
   "outputs": [
    {
     "ename": "NoDataError",
     "evalue": "This Universe does not contain charge information",
     "output_type": "error",
     "traceback": [
      "\u001b[0;31m---------------------------------------------------------------------------\u001b[0m",
      "\u001b[0;31mNoDataError\u001b[0m                               Traceback (most recent call last)",
      "Cell \u001b[0;32mIn[49], line 6\u001b[0m\n\u001b[1;32m      4\u001b[0m \u001b[38;5;66;03m## compute information about hbonds and write it to the 'hb.timeseries'\u001b[39;00m\n\u001b[1;32m      5\u001b[0m hb \u001b[38;5;241m=\u001b[39m HydrogenBondAnalysis(sys)\n\u001b[0;32m----> 6\u001b[0m hb\u001b[38;5;241m.\u001b[39mrun()\n\u001b[1;32m      8\u001b[0m \u001b[38;5;66;03m## print information for the first 10 frames\u001b[39;00m\n\u001b[1;32m      9\u001b[0m \u001b[38;5;28;01mfor\u001b[39;00m frame \u001b[38;5;129;01min\u001b[39;00m hb\u001b[38;5;241m.\u001b[39mtimeseries[:\u001b[38;5;241m10\u001b[39m]:\n",
      "File \u001b[0;32m~/miniconda3/envs/MD/lib/python3.12/site-packages/MDAnalysis/analysis/base.py:436\u001b[0m, in \u001b[0;36mAnalysisBase.run\u001b[0;34m(self, start, stop, step, frames, verbose, progressbar_kwargs)\u001b[0m\n\u001b[1;32m    433\u001b[0m \u001b[38;5;28mself\u001b[39m\u001b[38;5;241m.\u001b[39m_setup_frames(\u001b[38;5;28mself\u001b[39m\u001b[38;5;241m.\u001b[39m_trajectory, start\u001b[38;5;241m=\u001b[39mstart, stop\u001b[38;5;241m=\u001b[39mstop,\n\u001b[1;32m    434\u001b[0m                    step\u001b[38;5;241m=\u001b[39mstep, frames\u001b[38;5;241m=\u001b[39mframes)\n\u001b[1;32m    435\u001b[0m logger\u001b[38;5;241m.\u001b[39minfo(\u001b[38;5;124m\"\u001b[39m\u001b[38;5;124mStarting preparation\u001b[39m\u001b[38;5;124m\"\u001b[39m)\n\u001b[0;32m--> 436\u001b[0m \u001b[38;5;28mself\u001b[39m\u001b[38;5;241m.\u001b[39m_prepare()\n\u001b[1;32m    437\u001b[0m logger\u001b[38;5;241m.\u001b[39minfo(\u001b[38;5;124m\"\u001b[39m\u001b[38;5;124mStarting analysis loop over \u001b[39m\u001b[38;5;132;01m%d\u001b[39;00m\u001b[38;5;124m trajectory frames\u001b[39m\u001b[38;5;124m\"\u001b[39m,\n\u001b[1;32m    438\u001b[0m             \u001b[38;5;28mself\u001b[39m\u001b[38;5;241m.\u001b[39mn_frames)\n\u001b[1;32m    440\u001b[0m \u001b[38;5;28;01mfor\u001b[39;00m i, ts \u001b[38;5;129;01min\u001b[39;00m \u001b[38;5;28menumerate\u001b[39m(ProgressBar(\n\u001b[1;32m    441\u001b[0m         \u001b[38;5;28mself\u001b[39m\u001b[38;5;241m.\u001b[39m_sliced_trajectory,\n\u001b[1;32m    442\u001b[0m         verbose\u001b[38;5;241m=\u001b[39mverbose,\n\u001b[1;32m    443\u001b[0m         \u001b[38;5;241m*\u001b[39m\u001b[38;5;241m*\u001b[39mprogressbar_kwargs)):\n",
      "File \u001b[0;32m~/miniconda3/envs/MD/lib/python3.12/site-packages/MDAnalysis/analysis/hydrogenbonds/hbond_analysis.py:704\u001b[0m, in \u001b[0;36mHydrogenBondAnalysis._prepare\u001b[0;34m(self)\u001b[0m\n\u001b[1;32m    702\u001b[0m \u001b[38;5;66;03m# Set atom selections if they have not been provided\u001b[39;00m\n\u001b[1;32m    703\u001b[0m \u001b[38;5;28;01mif\u001b[39;00m \u001b[38;5;28mself\u001b[39m\u001b[38;5;241m.\u001b[39macceptors_sel \u001b[38;5;129;01mis\u001b[39;00m \u001b[38;5;28;01mNone\u001b[39;00m:\n\u001b[0;32m--> 704\u001b[0m     \u001b[38;5;28mself\u001b[39m\u001b[38;5;241m.\u001b[39macceptors_sel \u001b[38;5;241m=\u001b[39m \u001b[38;5;28mself\u001b[39m\u001b[38;5;241m.\u001b[39mguess_acceptors()\n\u001b[1;32m    705\u001b[0m \u001b[38;5;28;01mif\u001b[39;00m \u001b[38;5;28mself\u001b[39m\u001b[38;5;241m.\u001b[39mhydrogens_sel \u001b[38;5;129;01mis\u001b[39;00m \u001b[38;5;28;01mNone\u001b[39;00m:\n\u001b[1;32m    706\u001b[0m     \u001b[38;5;28mself\u001b[39m\u001b[38;5;241m.\u001b[39mhydrogens_sel \u001b[38;5;241m=\u001b[39m \u001b[38;5;28mself\u001b[39m\u001b[38;5;241m.\u001b[39mguess_hydrogens()\n",
      "File \u001b[0;32m~/miniconda3/envs/MD/lib/python3.12/site-packages/MDAnalysis/analysis/hydrogenbonds/hbond_analysis.py:574\u001b[0m, in \u001b[0;36mHydrogenBondAnalysis.guess_acceptors\u001b[0;34m(self, select, max_charge)\u001b[0m\n\u001b[1;32m    529\u001b[0m \u001b[38;5;250m\u001b[39m\u001b[38;5;124;03m\"\"\"Guesses which atoms could be considered acceptors in the analysis.\u001b[39;00m\n\u001b[1;32m    530\u001b[0m \n\u001b[1;32m    531\u001b[0m \u001b[38;5;124;03mAcceptor selections may be achieved with either a resname, atom \u001b[39;00m\n\u001b[0;32m   (...)\u001b[0m\n\u001b[1;32m    570\u001b[0m \n\u001b[1;32m    571\u001b[0m \u001b[38;5;124;03m\"\"\"\u001b[39;00m\n\u001b[1;32m    573\u001b[0m ag \u001b[38;5;241m=\u001b[39m \u001b[38;5;28mself\u001b[39m\u001b[38;5;241m.\u001b[39mu\u001b[38;5;241m.\u001b[39mselect_atoms(select)\n\u001b[0;32m--> 574\u001b[0m acceptors_ag \u001b[38;5;241m=\u001b[39m ag[ag\u001b[38;5;241m.\u001b[39mcharges \u001b[38;5;241m<\u001b[39m max_charge]\n\u001b[1;32m    576\u001b[0m \u001b[38;5;28;01mreturn\u001b[39;00m \u001b[38;5;28mself\u001b[39m\u001b[38;5;241m.\u001b[39m_group_categories(acceptors_ag)\n",
      "File \u001b[0;32m~/miniconda3/envs/MD/lib/python3.12/site-packages/MDAnalysis/core/groups.py:2539\u001b[0m, in \u001b[0;36mAtomGroup.__getattr__\u001b[0;34m(self, attr)\u001b[0m\n\u001b[1;32m   2537\u001b[0m \u001b[38;5;28;01melif\u001b[39;00m attr \u001b[38;5;241m==\u001b[39m \u001b[38;5;124m'\u001b[39m\u001b[38;5;124mpositions\u001b[39m\u001b[38;5;124m'\u001b[39m:\n\u001b[1;32m   2538\u001b[0m     \u001b[38;5;28;01mraise\u001b[39;00m NoDataError(\u001b[38;5;124m'\u001b[39m\u001b[38;5;124mThis Universe has no coordinates\u001b[39m\u001b[38;5;124m'\u001b[39m)\n\u001b[0;32m-> 2539\u001b[0m \u001b[38;5;28;01mreturn\u001b[39;00m \u001b[38;5;28msuper\u001b[39m(AtomGroup, \u001b[38;5;28mself\u001b[39m)\u001b[38;5;241m.\u001b[39m\u001b[38;5;21m__getattr__\u001b[39m(attr)\n",
      "File \u001b[0;32m~/miniconda3/envs/MD/lib/python3.12/site-packages/MDAnalysis/core/groups.py:614\u001b[0m, in \u001b[0;36mGroupBase.__getattr__\u001b[0;34m(self, attr)\u001b[0m\n\u001b[1;32m    612\u001b[0m     \u001b[38;5;28;01melse\u001b[39;00m:\n\u001b[1;32m    613\u001b[0m         err \u001b[38;5;241m=\u001b[39m \u001b[38;5;124m'\u001b[39m\u001b[38;5;124mThis Universe does not contain \u001b[39m\u001b[38;5;132;01m{singular}\u001b[39;00m\u001b[38;5;124m information\u001b[39m\u001b[38;5;124m'\u001b[39m\n\u001b[0;32m--> 614\u001b[0m         \u001b[38;5;28;01mraise\u001b[39;00m NoDataError(err\u001b[38;5;241m.\u001b[39mformat(singular\u001b[38;5;241m=\u001b[39m\u001b[38;5;28mcls\u001b[39m\u001b[38;5;241m.\u001b[39msingular))\n\u001b[1;32m    615\u001b[0m \u001b[38;5;28;01melse\u001b[39;00m:\n\u001b[1;32m    616\u001b[0m     \u001b[38;5;28;01mreturn\u001b[39;00m \u001b[38;5;28msuper\u001b[39m(GroupBase, \u001b[38;5;28mself\u001b[39m)\u001b[38;5;241m.\u001b[39m\u001b[38;5;21m__getattr__\u001b[39m(attr)\n",
      "\u001b[0;31mNoDataError\u001b[0m: This Universe does not contain charge information"
     ]
    }
   ],
   "source": [
    "# Number of hydrogen bonds\n",
    "from MDAnalysis.analysis.hydrogenbonds import HydrogenBondAnalysis ## module for analysis of hydrogen bonds\n",
    "\n",
    "## compute information about hbonds and write it to the 'hb.timeseries'\n",
    "hb = HydrogenBondAnalysis(sys)\n",
    "hb.run()\n",
    "\n",
    "## print information for the first 10 frames\n",
    "for frame in hb.timeseries[:10]:\n",
    "    print(frame)"
   ]
  },
  {
   "cell_type": "code",
   "execution_count": null,
   "metadata": {},
   "outputs": [],
   "source": []
  }
 ],
 "metadata": {
  "kernelspec": {
   "display_name": "MD",
   "language": "python",
   "name": "python3"
  },
  "language_info": {
   "codemirror_mode": {
    "name": "ipython",
    "version": 3
   },
   "file_extension": ".py",
   "mimetype": "text/x-python",
   "name": "python",
   "nbconvert_exporter": "python",
   "pygments_lexer": "ipython3",
   "version": "3.12.2"
  }
 },
 "nbformat": 4,
 "nbformat_minor": 2
}
