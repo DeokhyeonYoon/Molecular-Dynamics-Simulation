{
 "cells": [
  {
   "cell_type": "code",
   "execution_count": 1,
   "metadata": {},
   "outputs": [
    {
     "data": {
      "application/vnd.jupyter.widget-view+json": {
       "model_id": "d7338078b3fc470a8d0e4db6d08eed2c",
       "version_major": 2,
       "version_minor": 0
      },
      "text/plain": []
     },
     "metadata": {},
     "output_type": "display_data"
    }
   ],
   "source": [
    "import pandas as pd\n",
    "import matplotlib.pyplot as plt\n",
    "import numpy as np\n",
    "\n",
    "import numpy as np\n",
    "import matplotlib.pyplot as plt\n",
    "from matplotlib import animation\n",
    "\n",
    "from IPython.display import HTML\n",
    "from IPython.display import display\n",
    "\n",
    "from openmm import *\n",
    "from simtk.unit import *\n",
    "import MDAnalysis as md\n",
    "import nglview as ng\n",
    "from sys import stdout"
   ]
  },
  {
   "cell_type": "code",
   "execution_count": 4,
   "metadata": {},
   "outputs": [
    {
     "name": "stderr",
     "output_type": "stream",
     "text": [
      "Warning: importing 'simtk.openmm' is deprecated.  Import 'openmm' instead.\n"
     ]
    }
   ],
   "source": [
    "from simtk.openmm.app import *\n",
    "from simtk.openmm import *\n",
    "from simtk.unit import *\n",
    "import MDAnalysis as md\n",
    "import nglview as ng\n",
    "from sys import stdout"
   ]
  },
  {
   "cell_type": "code",
   "execution_count": 8,
   "metadata": {},
   "outputs": [],
   "source": [
    "# These files are already preloaded to your ``data`` folder\n",
    "\n",
    "pdb0_file = \"data/villin_water.pdb\"\n",
    "pdb1_file = \"data/polyALA.pdb\"\n",
    "pdb2_file = \"data/polyGLY.pdb\"\n",
    "pdb3_file = \"./polyGV.pdb\""
   ]
  },
  {
   "cell_type": "code",
   "execution_count": 10,
   "metadata": {},
   "outputs": [],
   "source": [
    "# 1. loading initial coordinates\n",
    "pdb = PDBFile(pdb3_file)"
   ]
  },
  {
   "cell_type": "code",
   "execution_count": 11,
   "metadata": {},
   "outputs": [],
   "source": [
    "# 2.  choosing a forcefield parameters\n",
    "ff = ForceField(\"amber10.xml\")\n",
    "system = ff.createSystem(pdb.topology, nonbondedMethod=CutoffNonPeriodic)"
   ]
  },
  {
   "cell_type": "code",
   "execution_count": 12,
   "metadata": {},
   "outputs": [],
   "source": [
    "# 3. Choose parameters of the experiment: temperature, pressure, box size, solvation, boundary conditions, etc...\n",
    "temperature = 300*kelvin\n",
    "frictionCoeff = 1/picosecond\n",
    "time_step = 0.002*picoseconds\n",
    "total_steps = 400*picoseconds / time_step"
   ]
  },
  {
   "cell_type": "code",
   "execution_count": 13,
   "metadata": {},
   "outputs": [],
   "source": [
    "# 4. Choose an algorithm (integrator)\n",
    "integrator = LangevinIntegrator(temperature, frictionCoeff, time_step)"
   ]
  },
  {
   "cell_type": "code",
   "execution_count": 14,
   "metadata": {},
   "outputs": [],
   "source": [
    "# 5. Run simulation, saving coordinates time to time\n",
    "## 5a. Create a simulation object\n",
    "simulation = Simulation(pdb.topology, system, integrator)\n",
    "simulation.context.setPositions(pdb.positions)"
   ]
  },
  {
   "cell_type": "code",
   "execution_count": 15,
   "metadata": {},
   "outputs": [],
   "source": [
    "## 5b. Minimize energy\n",
    "simulation.minimizeEnergy()"
   ]
  },
  {
   "cell_type": "code",
   "execution_count": 17,
   "metadata": {},
   "outputs": [],
   "source": [
    "## 5c. Save coordinates to dcd file and energies to a standard output console\n",
    "simulation.reporters.append(DCDReporter(\"./polyGV_traj.dcd\", 1000))\n",
    "simulation.reporters.append(StateDataReporter(stdout, 5000, step=True, potentialEnergy=True,\n",
    "                                              temperature=True, progress=True, totalSteps=total_steps))"
   ]
  },
  {
   "cell_type": "code",
   "execution_count": 18,
   "metadata": {},
   "outputs": [
    {
     "name": "stdout",
     "output_type": "stream",
     "text": [
      "#\"Progress (%)\",\"Step\",\"Potential Energy (kJ/mole)\",\"Temperature (K)\"\n",
      "2.5%,5000,3829.4159507751465,294.08636427982566\n",
      "5.0%,10000,3802.703638523817,297.03404969540327\n",
      "7.5%,15000,3512.748431161046,314.96779693449565\n",
      "10.0%,20000,3701.0789977796376,296.5762193748673\n",
      "12.5%,25000,3584.767472870648,309.4853840579445\n",
      "15.0%,30000,3490.185280010104,315.9398873243975\n",
      "17.5%,35000,3521.8836820051074,307.8527137311294\n",
      "20.0%,40000,3562.424770478159,319.0299744571546\n",
      "22.5%,45000,3590.708060803823,286.91851800585135\n",
      "25.0%,50000,3599.541151098907,303.9113385289278\n",
      "27.5%,55000,3525.222045958042,293.56321394764626\n",
      "30.0%,60000,3529.8517248928547,298.9462395148083\n",
      "32.5%,65000,3464.23014562577,314.7979061552405\n",
      "35.0%,70000,3511.2270562574267,317.0457306443005\n",
      "37.5%,75000,3524.2890021651983,305.7365386453871\n",
      "40.0%,80000,3479.6729863397777,324.39871069674746\n",
      "42.5%,85000,3474.8231246620417,314.73366408737434\n",
      "45.0%,90000,3438.1747557148337,298.2237036964964\n",
      "47.5%,95000,3526.193709731102,293.71715830089624\n",
      "50.0%,100000,3413.197951197624,314.8657222363123\n",
      "52.5%,105000,3482.1507511287928,273.5188265954454\n",
      "55.0%,110000,3293.0922484993935,312.7850165646595\n",
      "57.5%,115000,3213.085436731577,278.6629688959167\n",
      "60.0%,120000,3301.106874540448,320.56929326857323\n",
      "62.5%,125000,3218.0905256308615,310.62169155519194\n",
      "65.0%,130000,3277.080563619733,282.6177928384686\n",
      "67.5%,135000,3155.216570551973,304.2785033259218\n",
      "70.0%,140000,3056.5819701701403,289.6773257626128\n",
      "72.5%,145000,3085.3977968022227,288.53559508287105\n",
      "75.0%,150000,2994.3791295588017,304.73023215885195\n",
      "77.5%,155000,3028.16380622983,315.4892762800601\n",
      "80.0%,160000,3110.3524440973997,309.09145809827623\n",
      "82.5%,165000,3058.1436224877834,311.90300653355166\n",
      "85.0%,170000,3031.5854607224464,280.1041924710019\n",
      "87.5%,175000,3023.1938134133816,307.8397407353571\n",
      "90.0%,180000,3034.137918576598,298.29234894245945\n",
      "92.5%,185000,2979.5794911384583,310.18348899930425\n",
      "95.0%,190000,2852.6237658262253,280.21193950619625\n",
      "97.5%,195000,2924.9158633947372,304.76228979108237\n",
      "100.0%,200000,3026.145829439163,288.8919864720343\n"
     ]
    }
   ],
   "source": [
    "## 5d. Run\n",
    "simulation.step(total_steps)"
   ]
  },
  {
   "cell_type": "code",
   "execution_count": 20,
   "metadata": {},
   "outputs": [
    {
     "name": "stderr",
     "output_type": "stream",
     "text": [
      "/home/media/data2/user_home/dbsejrgus226/miniconda3/envs/MD/lib/python3.8/site-packages/MDAnalysis/coordinates/DCD.py:165: DeprecationWarning: DCDReader currently makes independent timesteps by copying self.ts while other readers update self.ts inplace. This behavior will be changed in 3.0 to be the same as other readers. Read more at https://github.com/MDAnalysis/mdanalysis/issues/3889 to learn if this change in behavior might affect you.\n",
      "  warnings.warn(\"DCDReader currently makes independent timesteps\"\n"
     ]
    },
    {
     "data": {
      "application/vnd.jupyter.widget-view+json": {
       "model_id": "19421efd2b704f749a298aa0ec142730",
       "version_major": 2,
       "version_minor": 0
      },
      "text/plain": [
       "NGLWidget(max_frame=199)"
      ]
     },
     "metadata": {},
     "output_type": "display_data"
    },
    {
     "data": {
      "application/vnd.jupyter.widget-view+json": {
       "model_id": "5e80ae4fa9574d76a5ac9c2b3c063637",
       "version_major": 2,
       "version_minor": 0
      },
      "text/plain": [
       "Tab(children=(Box(children=(Box(children=(Box(children=(Label(value='step'), IntSlider(value=1, min=-100)), la…"
      ]
     },
     "metadata": {},
     "output_type": "display_data"
    }
   ],
   "source": [
    "## Visualization\n",
    "# Let's look at the trajectory\n",
    "#6. Visualization\n",
    "sys = md.Universe(pdb3_file, \"./polyGV_traj.dcd\")\n",
    "ng.show_mdanalysis(sys, gui=True)"
   ]
  },
  {
   "cell_type": "code",
   "execution_count": 21,
   "metadata": {},
   "outputs": [],
   "source": [
    "# End-to-end distance\n",
    "# analysis of end-to-end distance\n",
    "#choose terminal atoms\n",
    "\n",
    "N_terminus = sys.select_atoms(\"resid 1 and name N\")\n",
    "C_terminus = sys.select_atoms(\"resid 25 and name C\")\n",
    "\n",
    "# go through the whole trajectory and compute distance between them for every frame\n",
    "dist = []\n",
    "for frame in sys.trajectory:\n",
    "    dist.append(np.linalg.norm(N_terminus.positions - C_terminus.positions))\n",
    "\n",
    "# the result is in the dist array\n",
    "dist = np.array(dist)"
   ]
  },
  {
   "cell_type": "code",
   "execution_count": 23,
   "metadata": {},
   "outputs": [
    {
     "ename": "NoDataError",
     "evalue": "This Universe does not contain charge information",
     "output_type": "error",
     "traceback": [
      "\u001b[0;31m---------------------------------------------------------------------------\u001b[0m",
      "\u001b[0;31mNoDataError\u001b[0m                               Traceback (most recent call last)",
      "Cell \u001b[0;32mIn[23], line 6\u001b[0m\n\u001b[1;32m      4\u001b[0m \u001b[38;5;66;03m## compute information about hbonds and write it to the 'hb.timeseries'\u001b[39;00m\n\u001b[1;32m      5\u001b[0m hb \u001b[38;5;241m=\u001b[39m HydrogenBondAnalysis(sys)\n\u001b[0;32m----> 6\u001b[0m \u001b[43mhb\u001b[49m\u001b[38;5;241;43m.\u001b[39;49m\u001b[43mrun\u001b[49m\u001b[43m(\u001b[49m\u001b[43m)\u001b[49m\n\u001b[1;32m      8\u001b[0m \u001b[38;5;66;03m## print information for the first 10 frames\u001b[39;00m\n\u001b[1;32m      9\u001b[0m \u001b[38;5;28;01mfor\u001b[39;00m frame \u001b[38;5;129;01min\u001b[39;00m hb\u001b[38;5;241m.\u001b[39mtimeseries[:\u001b[38;5;241m10\u001b[39m]:\n",
      "File \u001b[0;32m~/miniconda3/envs/MD/lib/python3.8/site-packages/MDAnalysis/analysis/base.py:429\u001b[0m, in \u001b[0;36mAnalysisBase.run\u001b[0;34m(self, start, stop, step, frames, verbose)\u001b[0m\n\u001b[1;32m    426\u001b[0m \u001b[38;5;28mself\u001b[39m\u001b[38;5;241m.\u001b[39m_setup_frames(\u001b[38;5;28mself\u001b[39m\u001b[38;5;241m.\u001b[39m_trajectory, start\u001b[38;5;241m=\u001b[39mstart, stop\u001b[38;5;241m=\u001b[39mstop,\n\u001b[1;32m    427\u001b[0m                    step\u001b[38;5;241m=\u001b[39mstep, frames\u001b[38;5;241m=\u001b[39mframes)\n\u001b[1;32m    428\u001b[0m logger\u001b[38;5;241m.\u001b[39minfo(\u001b[38;5;124m\"\u001b[39m\u001b[38;5;124mStarting preparation\u001b[39m\u001b[38;5;124m\"\u001b[39m)\n\u001b[0;32m--> 429\u001b[0m \u001b[38;5;28;43mself\u001b[39;49m\u001b[38;5;241;43m.\u001b[39;49m\u001b[43m_prepare\u001b[49m\u001b[43m(\u001b[49m\u001b[43m)\u001b[49m\n\u001b[1;32m    430\u001b[0m logger\u001b[38;5;241m.\u001b[39minfo(\u001b[38;5;124m\"\u001b[39m\u001b[38;5;124mStarting analysis loop over \u001b[39m\u001b[38;5;132;01m%d\u001b[39;00m\u001b[38;5;124m trajectory frames\u001b[39m\u001b[38;5;124m\"\u001b[39m,\n\u001b[1;32m    431\u001b[0m             \u001b[38;5;28mself\u001b[39m\u001b[38;5;241m.\u001b[39mn_frames)\n\u001b[1;32m    432\u001b[0m \u001b[38;5;28;01mfor\u001b[39;00m i, ts \u001b[38;5;129;01min\u001b[39;00m \u001b[38;5;28menumerate\u001b[39m(ProgressBar(\n\u001b[1;32m    433\u001b[0m         \u001b[38;5;28mself\u001b[39m\u001b[38;5;241m.\u001b[39m_sliced_trajectory,\n\u001b[1;32m    434\u001b[0m         verbose\u001b[38;5;241m=\u001b[39mverbose)):\n",
      "File \u001b[0;32m~/miniconda3/envs/MD/lib/python3.8/site-packages/MDAnalysis/analysis/hydrogenbonds/hbond_analysis.py:693\u001b[0m, in \u001b[0;36mHydrogenBondAnalysis._prepare\u001b[0;34m(self)\u001b[0m\n\u001b[1;32m    691\u001b[0m \u001b[38;5;66;03m# Set atom selections if they have not been provided\u001b[39;00m\n\u001b[1;32m    692\u001b[0m \u001b[38;5;28;01mif\u001b[39;00m \u001b[38;5;28mself\u001b[39m\u001b[38;5;241m.\u001b[39macceptors_sel \u001b[38;5;129;01mis\u001b[39;00m \u001b[38;5;28;01mNone\u001b[39;00m:\n\u001b[0;32m--> 693\u001b[0m     \u001b[38;5;28mself\u001b[39m\u001b[38;5;241m.\u001b[39macceptors_sel \u001b[38;5;241m=\u001b[39m \u001b[38;5;28;43mself\u001b[39;49m\u001b[38;5;241;43m.\u001b[39;49m\u001b[43mguess_acceptors\u001b[49m\u001b[43m(\u001b[49m\u001b[43m)\u001b[49m\n\u001b[1;32m    694\u001b[0m \u001b[38;5;28;01mif\u001b[39;00m \u001b[38;5;28mself\u001b[39m\u001b[38;5;241m.\u001b[39mhydrogens_sel \u001b[38;5;129;01mis\u001b[39;00m \u001b[38;5;28;01mNone\u001b[39;00m:\n\u001b[1;32m    695\u001b[0m     \u001b[38;5;28mself\u001b[39m\u001b[38;5;241m.\u001b[39mhydrogens_sel \u001b[38;5;241m=\u001b[39m \u001b[38;5;28mself\u001b[39m\u001b[38;5;241m.\u001b[39mguess_hydrogens()\n",
      "File \u001b[0;32m~/miniconda3/envs/MD/lib/python3.8/site-packages/MDAnalysis/analysis/hydrogenbonds/hbond_analysis.py:570\u001b[0m, in \u001b[0;36mHydrogenBondAnalysis.guess_acceptors\u001b[0;34m(self, select, max_charge)\u001b[0m\n\u001b[1;32m    525\u001b[0m \u001b[38;5;250m\u001b[39m\u001b[38;5;124;03m\"\"\"Guesses which atoms could be considered acceptors in the analysis.\u001b[39;00m\n\u001b[1;32m    526\u001b[0m \n\u001b[1;32m    527\u001b[0m \u001b[38;5;124;03mAcceptor selections may be achieved with either a resname, atom \u001b[39;00m\n\u001b[0;32m   (...)\u001b[0m\n\u001b[1;32m    566\u001b[0m \n\u001b[1;32m    567\u001b[0m \u001b[38;5;124;03m\"\"\"\u001b[39;00m\n\u001b[1;32m    569\u001b[0m ag \u001b[38;5;241m=\u001b[39m \u001b[38;5;28mself\u001b[39m\u001b[38;5;241m.\u001b[39mu\u001b[38;5;241m.\u001b[39mselect_atoms(select)\n\u001b[0;32m--> 570\u001b[0m acceptors_ag \u001b[38;5;241m=\u001b[39m ag[\u001b[43mag\u001b[49m\u001b[38;5;241;43m.\u001b[39;49m\u001b[43mcharges\u001b[49m \u001b[38;5;241m<\u001b[39m max_charge]\n\u001b[1;32m    572\u001b[0m \u001b[38;5;28;01mreturn\u001b[39;00m \u001b[38;5;28mself\u001b[39m\u001b[38;5;241m.\u001b[39m_group_categories(acceptors_ag)\n",
      "File \u001b[0;32m~/miniconda3/envs/MD/lib/python3.8/site-packages/MDAnalysis/core/groups.py:2537\u001b[0m, in \u001b[0;36mAtomGroup.__getattr__\u001b[0;34m(self, attr)\u001b[0m\n\u001b[1;32m   2535\u001b[0m \u001b[38;5;28;01melif\u001b[39;00m attr \u001b[38;5;241m==\u001b[39m \u001b[38;5;124m'\u001b[39m\u001b[38;5;124mpositions\u001b[39m\u001b[38;5;124m'\u001b[39m:\n\u001b[1;32m   2536\u001b[0m     \u001b[38;5;28;01mraise\u001b[39;00m NoDataError(\u001b[38;5;124m'\u001b[39m\u001b[38;5;124mThis Universe has no coordinates\u001b[39m\u001b[38;5;124m'\u001b[39m)\n\u001b[0;32m-> 2537\u001b[0m \u001b[38;5;28;01mreturn\u001b[39;00m \u001b[38;5;28;43msuper\u001b[39;49m\u001b[43m(\u001b[49m\u001b[43mAtomGroup\u001b[49m\u001b[43m,\u001b[49m\u001b[43m \u001b[49m\u001b[38;5;28;43mself\u001b[39;49m\u001b[43m)\u001b[49m\u001b[38;5;241;43m.\u001b[39;49m\u001b[38;5;21;43m__getattr__\u001b[39;49m\u001b[43m(\u001b[49m\u001b[43mattr\u001b[49m\u001b[43m)\u001b[49m\n",
      "File \u001b[0;32m~/miniconda3/envs/MD/lib/python3.8/site-packages/MDAnalysis/core/groups.py:609\u001b[0m, in \u001b[0;36mGroupBase.__getattr__\u001b[0;34m(self, attr)\u001b[0m\n\u001b[1;32m    607\u001b[0m     \u001b[38;5;28;01melse\u001b[39;00m:\n\u001b[1;32m    608\u001b[0m         err \u001b[38;5;241m=\u001b[39m \u001b[38;5;124m'\u001b[39m\u001b[38;5;124mThis Universe does not contain \u001b[39m\u001b[38;5;132;01m{singular}\u001b[39;00m\u001b[38;5;124m information\u001b[39m\u001b[38;5;124m'\u001b[39m\n\u001b[0;32m--> 609\u001b[0m         \u001b[38;5;28;01mraise\u001b[39;00m NoDataError(err\u001b[38;5;241m.\u001b[39mformat(singular\u001b[38;5;241m=\u001b[39m\u001b[38;5;28mcls\u001b[39m\u001b[38;5;241m.\u001b[39msingular))\n\u001b[1;32m    610\u001b[0m \u001b[38;5;28;01melse\u001b[39;00m:\n\u001b[1;32m    611\u001b[0m     \u001b[38;5;28;01mreturn\u001b[39;00m \u001b[38;5;28msuper\u001b[39m(GroupBase, \u001b[38;5;28mself\u001b[39m)\u001b[38;5;241m.\u001b[39m\u001b[38;5;21m__getattr__\u001b[39m(attr)\n",
      "\u001b[0;31mNoDataError\u001b[0m: This Universe does not contain charge information"
     ]
    }
   ],
   "source": [
    "# Number of hydrogen bonds\n",
    "from MDAnalysis.analysis.hydrogenbonds import HydrogenBondAnalysis ## module for analysis of hydrogen bonds\n",
    "\n",
    "## compute information about hbonds and write it to the 'hb.timeseries'\n",
    "hb = HydrogenBondAnalysis(sys)\n",
    "hb.run()\n",
    "\n",
    "## print information for the first 10 frames\n",
    "for frame in hb.timeseries[:10]:\n",
    "    print(frame)"
   ]
  },
  {
   "cell_type": "code",
   "execution_count": null,
   "metadata": {},
   "outputs": [],
   "source": []
  }
 ],
 "metadata": {
  "kernelspec": {
   "display_name": "MD",
   "language": "python",
   "name": "python3"
  },
  "language_info": {
   "codemirror_mode": {
    "name": "ipython",
    "version": 3
   },
   "file_extension": ".py",
   "mimetype": "text/x-python",
   "name": "python",
   "nbconvert_exporter": "python",
   "pygments_lexer": "ipython3",
   "version": "3.8.19"
  }
 },
 "nbformat": 4,
 "nbformat_minor": 2
}
