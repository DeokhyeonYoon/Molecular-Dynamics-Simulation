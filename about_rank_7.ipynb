{
 "cells": [
  {
   "cell_type": "markdown",
   "metadata": {},
   "source": [
    "# MD Simultaion "
   ]
  },
  {
   "cell_type": "code",
   "execution_count": 1,
   "metadata": {},
   "outputs": [],
   "source": [
    "import copy\n",
    "from pathlib import Path\n",
    "import sys\n",
    "\n",
    "import requests\n",
    "from IPython.display import display\n",
    "import numpy as np\n",
    "from rdkit import Chem\n",
    "from rdkit.Chem import Draw\n",
    "from rdkit.Chem import AllChem\n",
    "import mdtraj as md\n",
    "import pdbfixer\n",
    "import openmm as mm\n",
    "import openmm.app as app\n",
    "from openmm import unit\n",
    "from openff.toolkit.topology import Molecule, Topology\n",
    "from openmmforcefields.generators import GAFFTemplateGenerator"
   ]
  },
  {
   "cell_type": "code",
   "execution_count": 2,
   "metadata": {},
   "outputs": [],
   "source": [
    "#import warnings\n",
    "\n",
    "# 경고를 무시하도록 설정합니다.\n",
    "#warnings.filterwarnings(\"ignore\", message=\"PDB file is missing resid information.\")\n",
    "#warnings.filterwarnings(\"ignore\", message=\"Reload offsets from trajectory\")\n",
    "#warnings.filterwarnings(\"ignore\", message=\"duplicate atom\")\n",
    "\n",
    "# 나머지 코드 실행"
   ]
  },
  {
   "cell_type": "code",
   "execution_count": 3,
   "metadata": {},
   "outputs": [],
   "source": [
    "import warnings\n",
    "warnings.filterwarnings(\"ignore\")"
   ]
  },
  {
   "cell_type": "code",
   "execution_count": 4,
   "metadata": {},
   "outputs": [],
   "source": [
    "def prepare_protein(\n",
    "    pdb_file, ignore_missing_residues=True, ignore_terminal_missing_residues=True, ph=7.0\n",
    "):\n",
    "    \"\"\"\n",
    "    Use pdbfixer to prepare the protein from a PDB file. Hetero atoms such as ligands are\n",
    "    removed and non-standard residues replaced. Missing atoms to existing residues are added.\n",
    "    Missing residues are ignored by default, but can be included.\n",
    "\n",
    "    Parameters\n",
    "    ----------\n",
    "    pdb_file: pathlib.Path or str\n",
    "        PDB file containing the system to simulate.\n",
    "    ignore_missing_residues: bool, optional\n",
    "        If missing residues should be ignored or built.\n",
    "    ignore_terminal_missing_residues: bool, optional\n",
    "        If missing residues at the beginning and the end of a chain should be ignored or built.\n",
    "    ph: float, optional\n",
    "        pH value used to determine protonation state of residues\n",
    "\n",
    "    Returns\n",
    "    -------\n",
    "    fixer: pdbfixer.pdbfixer.PDBFixer\n",
    "        Prepared protein system.\n",
    "    \"\"\"\n",
    "    fixer = pdbfixer.PDBFixer(str(pdb_file))\n",
    "    fixer.removeHeterogens()  # co-crystallized ligands are unknown to PDBFixer\n",
    "    fixer.findMissingResidues()  # identify missing residues, needed for identification of missing atoms\n",
    "\n",
    "    # if missing terminal residues shall be ignored, remove them from the dictionary\n",
    "    if ignore_terminal_missing_residues:\n",
    "        chains = list(fixer.topology.chains())\n",
    "        keys = fixer.missingResidues.keys()\n",
    "        for key in list(keys):\n",
    "            chain = chains[key[0]]\n",
    "            if key[1] == 0 or key[1] == len(list(chain.residues())):\n",
    "                del fixer.missingResidues[key]\n",
    "\n",
    "    # if all missing residues shall be ignored ignored, clear the dictionary\n",
    "    if ignore_missing_residues:\n",
    "        fixer.missingResidues = {}\n",
    "\n",
    "    fixer.findNonstandardResidues()  # find non-standard residue\n",
    "    fixer.replaceNonstandardResidues()  # replace non-standard residues with standard one\n",
    "    fixer.findMissingAtoms()  # find missing heavy atoms\n",
    "    fixer.addMissingAtoms()  # add missing atoms and residues\n",
    "    fixer.addMissingHydrogens(ph)  # add missing hydrogens\n",
    "    return fixer"
   ]
  },
  {
   "cell_type": "code",
   "execution_count": 5,
   "metadata": {},
   "outputs": [],
   "source": [
    "prepare_protein = prepare_protein(\"./protein_rank_7_ligand_complex.pdb\", ignore_missing_residues=False)"
   ]
  },
  {
   "cell_type": "code",
   "execution_count": 6,
   "metadata": {},
   "outputs": [],
   "source": [
    "def prepare_ligand(pdb_file, resname, smiles, depict=True):\n",
    "    \"\"\"\n",
    "    Prepare a ligand from a PDB file via adding hydrogens and assigning bond orders. A depiction\n",
    "    of the ligand before and after preparation is rendered in 2D to allow an inspection of the\n",
    "    results. Huge thanks to @j-wags for the suggestion.\n",
    "\n",
    "    Parameters\n",
    "    ----------\n",
    "    pdb_file: pathlib.PosixPath\n",
    "       PDB file containing the ligand of interest.\n",
    "    resname: str\n",
    "        Three character residue name of the ligand.\n",
    "    smiles : str\n",
    "        SMILES string of the ligand informing about correct protonation and bond orders.\n",
    "    depict: bool, optional\n",
    "        show a 2D representation of the ligand\n",
    "\n",
    "    Returns\n",
    "    -------\n",
    "    prepared_ligand: rdkit.Chem.rdchem.Mol\n",
    "        Prepared ligand.\n",
    "    \"\"\"\n",
    "    # split molecule\n",
    "    rdkit_mol = Chem.MolFromPDBFile(str(pdb_file), proximityBonding=True, sanitize=False)\n",
    "    print(rdkit_mol)\n",
    "    rdkit_mol_split = Chem.rdmolops.SplitMolByPDBResidues(rdkit_mol)\n",
    "\n",
    "    # extract the ligand and remove any already present hydrogens\n",
    "    ligand = rdkit_mol_split[resname]\n",
    "    ligand = Chem.RemoveHs(ligand)\n",
    "\n",
    "    # assign bond orders from template\n",
    "    reference_mol = Chem.MolFromSmiles(smiles)\n",
    "    prepared_ligand = AllChem.AssignBondOrdersFromTemplate(reference_mol, ligand)\n",
    "    prepared_ligand.AddConformer(ligand.GetConformer(0))\n",
    "\n",
    "    # protonate ligand\n",
    "    prepared_ligand = Chem.rdmolops.AddHs(prepared_ligand, addCoords=True)\n",
    "    prepared_ligand = Chem.MolFromMolBlock(Chem.MolToMolBlock(prepared_ligand))\n",
    "\n",
    "    # 2D depiction\n",
    "    if depict:\n",
    "        ligand_2d = copy.deepcopy(ligand)\n",
    "        prepared_ligand_2d = copy.deepcopy(prepared_ligand)\n",
    "        AllChem.Compute2DCoords(ligand_2d)\n",
    "        AllChem.Compute2DCoords(prepared_ligand_2d)\n",
    "        display(\n",
    "            Draw.MolsToGridImage(\n",
    "                [ligand_2d, prepared_ligand_2d], molsPerRow=2, legends=[\"original\", \"prepared\"]\n",
    "            )\n",
    "        )\n",
    "\n",
    "    # return ligand\n",
    "    return prepared_ligand"
   ]
  },
  {
   "cell_type": "code",
   "execution_count": 7,
   "metadata": {},
   "outputs": [],
   "source": [
    "pdb_path = \"./protein_rank_7_ligand_complex.pdb\"\n",
    "ligand_name = \"UNL\"\n",
    "smiles = \"COc1ccc(S(=O)(=O)NCCCN2CCCCCC2)cc1C(=O)N1CCCCCC1\""
   ]
  },
  {
   "cell_type": "code",
   "execution_count": 8,
   "metadata": {},
   "outputs": [
    {
     "name": "stdout",
     "output_type": "stream",
     "text": [
      "<rdkit.Chem.rdchem.Mol object at 0x7f556ff4ddd0>\n"
     ]
    },
    {
     "name": "stderr",
     "output_type": "stream",
     "text": [
      "[14:26:11] WARNING: More than one matching pattern found - picking one\n",
      "\n"
     ]
    },
    {
     "data": {
      "image/png": "[encoded data removed]",
      "text/plain": [
       "<IPython.core.display.Image object>"
      ]
     },
     "metadata": {},
     "output_type": "display_data"
    }
   ],
   "source": [
    "rdkit_ligand = prepare_ligand(pdb_path, ligand_name, smiles)"
   ]
  },
  {
   "cell_type": "code",
   "execution_count": 9,
   "metadata": {},
   "outputs": [],
   "source": [
    "def rdkit_to_openmm(rdkit_mol, name=\"LIG\"):\n",
    "    \"\"\"\n",
    "    Convert an RDKit molecule to an OpenMM molecule.\n",
    "    Inspired by @hannahbrucemcdonald and @glass-w.\n",
    "\n",
    "    Parameters\n",
    "    ----------\n",
    "    rdkit_mol: rdkit.Chem.rdchem.Mol\n",
    "        RDKit molecule to convert.\n",
    "    name: str\n",
    "        Molecule name.\n",
    "\n",
    "    Returns\n",
    "    -------\n",
    "    omm_molecule: openmm.app.Modeller\n",
    "        OpenMM modeller object holding the molecule of interest.\n",
    "    \"\"\"\n",
    "    # convert RDKit to OpenFF\n",
    "    off_mol = Molecule.from_rdkit(rdkit_mol)\n",
    "    #print(off_mol)\n",
    "\n",
    "    # add name for molecule\n",
    "    off_mol.name = name\n",
    "    #print(off_mol.name)\n",
    "\n",
    "    # add names for atoms\n",
    "    element_counter_dict = {}\n",
    "    for off_atom, rdkit_atom in zip(off_mol.atoms, rdkit_mol.GetAtoms()):\n",
    "        element = rdkit_atom.GetSymbol()\n",
    "        if element in element_counter_dict.keys():\n",
    "            element_counter_dict[element] += 1\n",
    "        else:\n",
    "            element_counter_dict[element] = 1\n",
    "        off_atom.name = element + str(element_counter_dict[element])\n",
    "    #print(element_counter_dict)\n",
    "\n",
    "    # convert from OpenFF to OpenMM\n",
    "    off_mol_topology = off_mol.to_topology()\n",
    "    mol_topology = off_mol_topology.to_openmm()\n",
    "    #print(mol_topology)\n",
    "    mol_positions = off_mol.conformers[0]\n",
    "    #print(mol_positions)\n",
    "\n",
    "    # convert units from Ångström to nanometers\n",
    "    # since OpenMM works in nm\n",
    "    mol_positions = mol_positions.to(\"nanometers\")\n",
    "    #print(mol_positions)\n",
    "\n",
    "    # combine topology and positions in modeller object\n",
    "    omm_mol = app.Modeller(mol_topology, mol_positions)\n",
    "\n",
    "    return omm_mol"
   ]
  },
  {
   "cell_type": "code",
   "execution_count": 10,
   "metadata": {},
   "outputs": [],
   "source": [
    "omm_ligand = rdkit_to_openmm(rdkit_ligand, ligand_name)"
   ]
  },
  {
   "cell_type": "code",
   "execution_count": 11,
   "metadata": {},
   "outputs": [],
   "source": [
    "def merge_protein_and_ligand(protein, ligand):\n",
    "    \"\"\"\n",
    "    Merge two OpenMM objects.\n",
    "\n",
    "    Parameters\n",
    "    ----------\n",
    "    protein: pdbfixer.pdbfixer.PDBFixer\n",
    "        Protein to merge.\n",
    "    ligand: openmm.app.Modeller\n",
    "        Ligand to merge.\n",
    "\n",
    "    Returns\n",
    "    -------\n",
    "    complex_topology: openmm.app.topology.Topology\n",
    "        The merged topology.\n",
    "    complex_positions: openmm.unit.quantity.Quantity\n",
    "        The merged positions.\n",
    "    \"\"\"\n",
    "    # combine topologies\n",
    "    md_protein_topology = md.Topology.from_openmm(protein.topology)  # using mdtraj for protein top\n",
    "    #print(md_protein_topology)\n",
    "    md_ligand_topology = md.Topology.from_openmm(ligand.topology)  # using mdtraj for ligand top\n",
    "    #print(md_ligand_topology)\n",
    "    md_complex_topology = md_protein_topology.join(md_ligand_topology)  # add them together\n",
    "    #print(md_complex_topology)\n",
    "    complex_topology = md_complex_topology.to_openmm()\n",
    "    #print(complex_topology)\n",
    "\n",
    "    # combine positions\n",
    "    total_atoms = len(protein.positions) + len(ligand.positions)\n",
    "\n",
    "    # create an array for storing all atom positions as tupels containing a value and a unit\n",
    "    # called OpenMM Quantities\n",
    "    complex_positions = unit.Quantity(np.zeros([total_atoms, 3]), unit=unit.nanometers)\n",
    "    complex_positions[: len(protein.positions)] = protein.positions  # add protein positions\n",
    "    complex_positions[len(protein.positions) :] = ligand.positions  # add ligand positions\n",
    "\n",
    "    return complex_topology, complex_positions"
   ]
  },
  {
   "cell_type": "code",
   "execution_count": 12,
   "metadata": {},
   "outputs": [],
   "source": [
    "complex_topology, complex_positions = merge_protein_and_ligand(prepare_protein, omm_ligand)"
   ]
  },
  {
   "cell_type": "code",
   "execution_count": 13,
   "metadata": {},
   "outputs": [
    {
     "name": "stdout",
     "output_type": "stream",
     "text": [
      "Complex topology has 4209 atoms.\n"
     ]
    }
   ],
   "source": [
    "print(\"Complex topology has\", complex_topology.getNumAtoms(), \"atoms.\")\n",
    "# NBVAL_CHECK_OUTPUT"
   ]
  },
  {
   "cell_type": "code",
   "execution_count": 14,
   "metadata": {},
   "outputs": [],
   "source": [
    "def generate_forcefield(\n",
    "    rdkit_mol=None, protein_ff=\"amber14-all.xml\", solvent_ff=\"amber14/tip3pfb.xml\"\n",
    "):\n",
    "    \"\"\"\n",
    "    Generate an OpenMM Forcefield object and register a small molecule.\n",
    "\n",
    "    Parameters\n",
    "    ----------\n",
    "    rdkit_mol: rdkit.Chem.rdchem.Mol\n",
    "        Small molecule to register in the force field.\n",
    "    protein_ff: string\n",
    "        Name of the force field.\n",
    "    solvent_ff: string\n",
    "        Name of the solvent force field.\n",
    "\n",
    "    Returns\n",
    "    -------\n",
    "    forcefield: openmm.app.Forcefield\n",
    "        Forcefield with registered small molecule.\n",
    "    \"\"\"\n",
    "    forcefield = app.ForceField(protein_ff, solvent_ff)\n",
    "\n",
    "    if rdkit_mol is not None:\n",
    "        gaff = GAFFTemplateGenerator(\n",
    "            molecules=Molecule.from_rdkit(rdkit_mol, allow_undefined_stereo=True)\n",
    "        )\n",
    "        forcefield.registerTemplateGenerator(gaff.generator)\n",
    "\n",
    "    return forcefield"
   ]
  },
  {
   "cell_type": "code",
   "execution_count": 15,
   "metadata": {},
   "outputs": [],
   "source": [
    "forcefield = generate_forcefield(rdkit_ligand)"
   ]
  },
  {
   "cell_type": "code",
   "execution_count": 16,
   "metadata": {},
   "outputs": [
    {
     "name": "stderr",
     "output_type": "stream",
     "text": [
      "/bin/bash: /home/media/data2/user_home/dbsejrgus226/miniconda3/envs/MD/lib/libtinfo.so.6: no version information available (required by /bin/bash)\n",
      "/bin/bash: /home/media/data2/user_home/dbsejrgus226/miniconda3/envs/MD/lib/libtinfo.so.6: no version information available (required by /bin/bash)\n",
      "/bin/bash: /home/media/data2/user_home/dbsejrgus226/miniconda3/envs/MD/lib/libtinfo.so.6: no version information available (required by /bin/bash)\n",
      "/bin/bash: /home/media/data2/user_home/dbsejrgus226/miniconda3/envs/MD/lib/libtinfo.so.6: no version information available (required by /bin/bash)\n",
      "/bin/bash: /home/media/data2/user_home/dbsejrgus226/miniconda3/envs/MD/lib/libtinfo.so.6: no version information available (required by /bin/bash)\n",
      "/bin/bash: /home/media/data2/user_home/dbsejrgus226/miniconda3/envs/MD/lib/libtinfo.so.6: no version information available (required by /bin/bash)\n"
     ]
    }
   ],
   "source": [
    "modeller = app.Modeller(complex_topology, complex_positions)\n",
    "modeller.addSolvent(forcefield, padding=1.0 * unit.nanometers, ionicStrength=0.15 * unit.molar)"
   ]
  },
  {
   "cell_type": "code",
   "execution_count": 17,
   "metadata": {},
   "outputs": [],
   "source": [
    "system = forcefield.createSystem(modeller.topology, nonbondedMethod=app.PME)\n",
    "integrator = mm.LangevinIntegrator(\n",
    "    300 * unit.kelvin, 1.0 / unit.picoseconds, 2.0 * unit.femtoseconds\n",
    ")\n",
    "simulation = app.Simulation(modeller.topology, system, integrator)\n",
    "simulation.context.setPositions(modeller.positions)"
   ]
  },
  {
   "cell_type": "code",
   "execution_count": 18,
   "metadata": {},
   "outputs": [],
   "source": [
    "simulation.minimizeEnergy()\n",
    "with open(\"topology_7.pdb\", \"w\") as pdb_file:\n",
    "    app.PDBFile.writeFile(\n",
    "        simulation.topology,\n",
    "        simulation.context.getState(getPositions=True, enforcePeriodicBox=True).getPositions(),\n",
    "        file=pdb_file,\n",
    "        keepIds=True,\n",
    "    )"
   ]
  },
  {
   "cell_type": "code",
   "execution_count": 19,
   "metadata": {},
   "outputs": [],
   "source": [
    "# output settings\n",
    "\n",
    "steps = 50000  # corresponds to 100 fs\n",
    "write_interval = 500  # write every 10 fs\n",
    "log_interval = 250  # log progress to stdout every 5 fs\n",
    "simulation.reporters.append(\n",
    "    md.reporters.XTCReporter(file=str(\"trajectory_7.xtc\"), reportInterval=write_interval)\n",
    ")\n",
    "simulation.reporters.append(\n",
    "    app.StateDataReporter(\n",
    "        sys.stdout,\n",
    "        log_interval,\n",
    "        step=True,\n",
    "        potentialEnergy=True,\n",
    "        temperature=True,\n",
    "        progress=True,\n",
    "        remainingTime=True,\n",
    "        speed=True,\n",
    "        totalSteps=steps,\n",
    "        separator=\"\\t\",\n",
    "    )\n",
    ")"
   ]
  },
  {
   "cell_type": "code",
   "execution_count": 20,
   "metadata": {},
   "outputs": [
    {
     "name": "stdout",
     "output_type": "stream",
     "text": [
      "#\"Progress (%)\"\t\"Step\"\t\"Potential Energy (kJ/mole)\"\t\"Temperature (K)\"\t\"Speed (ns/day)\"\t\"Time Remaining\"\n",
      "0.5%\t250\t-869286.0671987389\t206.79375089224914\t0\t--\n",
      "1.0%\t500\t-851934.1668081139\t242.85367434774304\t60\t2:22\n",
      "1.5%\t750\t-840171.2781362389\t262.54648199123704\t60.3\t2:21\n",
      "2.0%\t1000\t-833020.3250112389\t276.925528230331\t59.1\t2:23\n",
      "2.5%\t1250\t-827043.6199331139\t284.99256453681227\t58\t2:25\n",
      "3.0%\t1500\t-824263.3269643639\t290.24179617285483\t57.6\t2:25\n",
      "3.5%\t1750\t-821159.1648549889\t290.92700789141713\t56.9\t2:26\n",
      "4.0%\t2000\t-819552.3308706139\t293.1842010251596\t56.2\t2:27\n",
      "4.5%\t2250\t-817628.0261831139\t294.4872548250079\t55.8\t2:27\n",
      "5.0%\t2500\t-816952.5593862389\t297.5023361079169\t55.5\t2:27\n",
      "5.5%\t2750\t-816548.5027456139\t298.60436771936537\t55.3\t2:27\n",
      "6.0%\t3000\t-815600.7195424889\t301.93023786120716\t54.9\t2:27\n",
      "6.5%\t3250\t-814715.6550893639\t298.4198274994173\t54.9\t2:27\n",
      "7.0%\t3500\t-815086.0437612389\t299.72058405002554\t54.7\t2:26\n",
      "7.5%\t3750\t-814597.0105581139\t300.6029956650086\t54.6\t2:26\n",
      "8.0%\t4000\t-814394.9187612389\t299.27021171249515\t54.6\t2:25\n",
      "8.5%\t4250\t-813734.6941518639\t298.56597244114107\t54.5\t2:25\n",
      "9.0%\t4500\t-814548.0457143639\t300.8927559507248\t54.4\t2:24\n",
      "9.5%\t4750\t-814183.8796987389\t301.3539300397165\t54.3\t2:23\n",
      "10.0%\t5000\t-814045.4812612389\t298.627583431043\t54.2\t2:23\n",
      "10.5%\t5250\t-815691.0046987389\t302.4258953301392\t54.1\t2:22\n",
      "11.0%\t5500\t-815934.1179799889\t301.30931038732916\t54.1\t2:22\n",
      "11.5%\t5750\t-815616.3406362389\t299.211007245884\t53.9\t2:21\n",
      "12.0%\t6000\t-816495.1785268639\t300.51220895498005\t53.9\t2:20\n",
      "12.5%\t6250\t-815140.4656362389\t299.88272148494144\t53.9\t2:20\n",
      "13.0%\t6500\t-814791.9129018639\t301.4387712177803\t53.8\t2:19\n",
      "13.5%\t6750\t-814787.9285268639\t299.0803789595206\t53.9\t2:18\n",
      "14.0%\t7000\t-815382.0789174889\t301.126203693832\t53.8\t2:18\n",
      "14.5%\t7250\t-816277.8816518639\t301.50177965434136\t53.8\t2:17\n",
      "15.0%\t7500\t-815385.1668081139\t300.0827759971483\t53.7\t2:16\n",
      "15.5%\t7750\t-814910.6804799889\t299.53343132530597\t53.7\t2:16\n",
      "16.0%\t8000\t-813893.5066518639\t301.39554391907944\t53.6\t2:15\n",
      "16.5%\t8250\t-814550.8933706139\t299.3295722873368\t53.5\t2:14\n",
      "17.0%\t8500\t-814694.5925893639\t299.51924702248584\t53.5\t2:14\n",
      "17.5%\t8750\t-815724.4421987389\t300.3847630013424\t53.5\t2:13\n",
      "18.0%\t9000\t-815768.3933706139\t300.54881832069816\t53.4\t2:12\n",
      "18.5%\t9250\t-814798.9421987389\t298.2142462471265\t53.5\t2:11\n",
      "19.0%\t9500\t-815262.4382924889\t300.5295495508996\t53.5\t2:10\n",
      "19.5%\t9750\t-815488.3406362389\t299.2531759989833\t53.5\t2:10\n",
      "20.0%\t10000\t-814736.6511831139\t300.0685868505423\t53.4\t2:09\n",
      "20.5%\t10250\t-815177.9812612389\t300.9724950563105\t53.4\t2:08\n",
      "21.0%\t10500\t-815608.1336049889\t301.5291156122437\t53.3\t2:08\n",
      "21.5%\t10750\t-815393.3543081139\t297.72281067240505\t53.3\t2:07\n",
      "22.0%\t11000\t-817041.8757924889\t301.31913268384625\t53.3\t2:06\n",
      "22.5%\t11250\t-816356.4597768639\t301.0139673503636\t53.3\t2:05\n",
      "23.0%\t11500\t-816885.7918081139\t303.08033421982236\t53.3\t2:04\n",
      "23.5%\t11750\t-817096.3836049889\t301.82002681501405\t53.4\t2:03\n",
      "24.0%\t12000\t-815306.3523549889\t298.6885659596382\t53.3\t2:03\n",
      "24.5%\t12250\t-815915.8406362389\t298.91719598771056\t53.3\t2:02\n",
      "25.0%\t12500\t-815712.6277456139\t296.2672226867974\t53.2\t2:01\n",
      "25.5%\t12750\t-816895.9793081139\t300.63832777503785\t53.2\t2:01\n",
      "26.0%\t13000\t-816555.3933706139\t299.80912532826704\t53.1\t2:00\n",
      "26.5%\t13250\t-816367.1043081139\t298.43899963163574\t53.1\t1:59\n",
      "27.0%\t13500\t-815415.1472768639\t298.2714876952688\t52.9\t1:59\n",
      "27.5%\t13750\t-816612.0769643639\t298.3662614318317\t52.7\t1:58\n",
      "28.0%\t14000\t-815079.7937612389\t298.91800412659455\t52.5\t1:58\n",
      "28.5%\t14250\t-814792.2000112389\t298.3902153995871\t52.2\t1:58\n",
      "29.0%\t14500\t-814849.5515737389\t298.2667638587645\t51.9\t1:58\n",
      "29.5%\t14750\t-814869.8406362389\t299.3045838968774\t51.7\t1:57\n",
      "30.0%\t15000\t-814868.8152456139\t299.08571026866684\t51.5\t1:57\n",
      "30.5%\t15250\t-815064.6804799889\t299.9474051043775\t51.3\t1:56\n",
      "31.0%\t15500\t-814926.1492299889\t300.1902439886423\t51.1\t1:56\n",
      "31.5%\t15750\t-814981.1843862389\t300.19747783758294\t50.9\t1:56\n",
      "32.0%\t16000\t-814687.7703237389\t300.76673003894126\t50.8\t1:55\n",
      "32.5%\t16250\t-814063.1824331139\t300.2214812928338\t50.6\t1:55\n",
      "33.0%\t16500\t-814608.6980581139\t301.28744324797975\t50.4\t1:54\n",
      "33.5%\t16750\t-813839.5437612389\t298.3815095787439\t50.2\t1:54\n",
      "34.0%\t17000\t-814913.4500112389\t301.37699476281125\t50.1\t1:53\n",
      "34.5%\t17250\t-815411.7703237389\t301.6787694525656\t49.9\t1:53\n",
      "35.0%\t17500\t-814127.3211049889\t299.93177385147806\t49.7\t1:52\n",
      "35.5%\t17750\t-814501.3875112389\t301.0591634900577\t49.6\t1:52\n",
      "36.0%\t18000\t-814087.5300893639\t300.4049601354623\t49.4\t1:51\n",
      "36.5%\t18250\t-814289.9636831139\t301.9475270543414\t49.2\t1:51\n",
      "37.0%\t18500\t-814552.9929799889\t301.53058485694675\t49.1\t1:50\n",
      "37.5%\t18750\t-815143.9089956139\t300.6265435102115\t49\t1:50\n",
      "38.0%\t19000\t-814797.1726674889\t298.7119523149773\t48.9\t1:49\n",
      "38.5%\t19250\t-815976.8738393639\t300.0129627098256\t48.8\t1:48\n",
      "39.0%\t19500\t-815834.2293081139\t299.2523857234069\t48.6\t1:48\n",
      "39.5%\t19750\t-816166.5261831139\t302.0557593782806\t48.5\t1:47\n",
      "40.0%\t20000\t-815560.6453237389\t301.4031083232851\t48.5\t1:46\n",
      "40.5%\t20250\t-815847.2644643639\t300.59850305536327\t48.4\t1:46\n",
      "41.0%\t20500\t-815009.6257924889\t299.16731759320413\t48.3\t1:45\n",
      "41.5%\t20750\t-814791.8621206139\t299.37662344423876\t48.1\t1:45\n",
      "42.0%\t21000\t-815595.1707143639\t300.3612603218812\t48\t1:44\n",
      "42.5%\t21250\t-814783.4793081139\t299.4365407385835\t48\t1:43\n",
      "43.0%\t21500\t-813380.0554799889\t298.17591437427984\t47.9\t1:42\n",
      "43.5%\t21750\t-813994.2234487389\t300.2868308639758\t47.8\t1:42\n",
      "44.0%\t22000\t-814514.4929799889\t299.5853835514098\t47.7\t1:41\n",
      "44.5%\t22250\t-815556.6453237389\t300.5289846270759\t47.6\t1:40\n",
      "45.0%\t22500\t-815543.0242299889\t298.7002839672327\t47.5\t1:40\n",
      "45.5%\t22750\t-816984.9343862389\t299.5659307772441\t47.4\t1:39\n",
      "46.0%\t23000\t-815579.6375112389\t299.58844210676847\t47.3\t1:38\n",
      "46.5%\t23250\t-817182.7234487389\t300.57008171631253\t47.3\t1:37\n",
      "47.0%\t23500\t-816743.2214956139\t300.01547125471205\t47.2\t1:37\n",
      "47.5%\t23750\t-815901.8328237389\t297.48024637775205\t47.1\t1:36\n",
      "48.0%\t24000\t-817861.1687612389\t299.87360794642274\t47.1\t1:35\n",
      "48.5%\t24250\t-816200.9402456139\t299.3451132224412\t47\t1:34\n",
      "49.0%\t24500\t-815955.2664174889\t299.6851065265799\t46.9\t1:33\n",
      "49.5%\t24750\t-814883.4324331139\t299.91718673402147\t46.9\t1:33\n",
      "50.0%\t25000\t-815015.7937612389\t300.226433928483\t46.8\t1:32\n",
      "50.5%\t25250\t-816955.3816518639\t301.88378247603595\t46.8\t1:31\n",
      "51.0%\t25500\t-816854.3484487389\t301.3668691766723\t46.7\t1:30\n",
      "51.5%\t25750\t-817576.1961049889\t300.82215950337377\t46.7\t1:29\n",
      "52.0%\t26000\t-816730.3171987389\t301.0504760993921\t46.6\t1:29\n",
      "52.5%\t26250\t-816402.9519643639\t299.9428915195901\t46.5\t1:28\n",
      "53.0%\t26500\t-816820.9734487389\t298.78907739716044\t46.4\t1:27\n",
      "53.5%\t26750\t-815819.2879018639\t299.0290616980782\t46.4\t1:26\n",
      "54.0%\t27000\t-815233.1746206139\t299.2636353523949\t46.3\t1:25\n",
      "54.5%\t27250\t-815550.7254018639\t301.1400668458617\t46.3\t1:24\n",
      "55.0%\t27500\t-815674.8504018639\t299.9280144374717\t46.3\t1:24\n",
      "55.5%\t27750\t-816251.2644643639\t302.38807412216977\t46.2\t1:23\n",
      "56.0%\t28000\t-814982.7781362389\t300.1758169569298\t46.2\t1:22\n",
      "56.5%\t28250\t-815439.8836049889\t299.22696940309254\t46.1\t1:21\n",
      "57.0%\t28500\t-815240.6336049889\t300.1828003410688\t46.1\t1:20\n",
      "57.5%\t28750\t-815296.5750112389\t299.86624936387904\t46\t1:19\n",
      "58.0%\t29000\t-816851.3230581139\t301.32634856554\t45.9\t1:18\n",
      "58.5%\t29250\t-814524.0261831139\t298.55665781088055\t45.9\t1:18\n",
      "59.0%\t29500\t-816730.7898549889\t301.90228587855404\t45.9\t1:17\n",
      "59.5%\t29750\t-815835.5535268639\t299.9522466206574\t45.8\t1:16\n",
      "60.0%\t30000\t-816183.1101674889\t302.41339683279676\t45.8\t1:15\n",
      "60.5%\t30250\t-815828.7058706139\t299.8924743371342\t45.7\t1:14\n",
      "61.0%\t30500\t-815911.1707143639\t301.47786912394093\t45.7\t1:13\n",
      "61.5%\t30750\t-814721.7371206139\t300.6431762256672\t45.6\t1:12\n",
      "62.0%\t31000\t-814068.9148549889\t302.53784332829673\t45.6\t1:11\n",
      "62.5%\t31250\t-814926.9089956139\t302.4674643443483\t45.6\t1:11\n",
      "63.0%\t31500\t-815183.3738393639\t302.38993842098694\t45.5\t1:10\n",
      "63.5%\t31750\t-815669.1492299889\t300.8464744966607\t45.5\t1:09\n",
      "64.0%\t32000\t-815020.8191518639\t298.0123109614365\t45.5\t1:08\n",
      "64.5%\t32250\t-816025.8621206139\t298.54917015475337\t45.4\t1:07\n",
      "65.0%\t32500\t-815877.2293081139\t300.68843786735874\t45.4\t1:06\n",
      "65.5%\t32750\t-815972.5242299889\t300.3114092579249\t45.4\t1:05\n",
      "66.0%\t33000\t-815729.7429799889\t300.0818831323782\t45.3\t1:04\n",
      "66.5%\t33250\t-815966.2625112389\t300.77629988691814\t45.3\t1:03\n",
      "67.0%\t33500\t-816988.4285268639\t298.4409779674502\t45.3\t1:02\n",
      "67.5%\t33750\t-816417.5535268639\t299.4407048498591\t45.2\t1:02\n",
      "68.0%\t34000\t-816517.7859487389\t300.4999345344194\t45.2\t1:01\n",
      "68.5%\t34250\t-816176.3093862389\t300.6533392377487\t45.2\t1:00\n",
      "69.0%\t34500\t-815758.9910268639\t298.1819313636239\t45.1\t0:59\n",
      "69.5%\t34750\t-816674.0867299889\t301.01372689791293\t45.1\t0:58\n",
      "70.0%\t35000\t-815032.1589956139\t299.1039916882129\t45.1\t0:57\n",
      "70.5%\t35250\t-816743.0203237389\t301.3834389687798\t45\t0:56\n",
      "71.0%\t35500\t-816043.2273549889\t298.94019442581003\t45\t0:55\n",
      "71.5%\t35750\t-814944.7976674889\t298.9257375693009\t45\t0:54\n",
      "72.0%\t36000\t-815748.1843862389\t299.2979128462344\t44.9\t0:53\n",
      "72.5%\t36250\t-816174.3640737389\t300.18324255213633\t44.9\t0:52\n",
      "73.0%\t36500\t-815024.3093862389\t300.5366396881217\t44.9\t0:51\n",
      "73.5%\t36750\t-815962.2332143639\t299.9695153418109\t44.9\t0:51\n",
      "74.0%\t37000\t-816267.9695424889\t300.0757580865871\t44.8\t0:50\n",
      "74.5%\t37250\t-816286.6843862389\t300.81511950236563\t44.8\t0:49\n",
      "75.0%\t37500\t-815729.1004018639\t298.37142785869236\t44.8\t0:48\n",
      "75.5%\t37750\t-816818.7019643639\t301.43716156650373\t44.7\t0:47\n",
      "76.0%\t38000\t-816582.9714956139\t300.1002435093014\t44.7\t0:46\n",
      "76.5%\t38250\t-816582.7761831139\t298.7935761627997\t44.7\t0:45\n",
      "77.0%\t38500\t-817752.2605581139\t298.15986717436215\t44.7\t0:44\n",
      "77.5%\t38750\t-818173.2078237389\t299.531403498964\t44.7\t0:43\n",
      "78.0%\t39000\t-817005.7410268639\t300.05996248228774\t44.7\t0:42\n",
      "78.5%\t39250\t-815832.3406362389\t300.2798436409314\t44.8\t0:41\n",
      "79.0%\t39500\t-816368.7234487389\t302.18882480621085\t44.8\t0:40\n",
      "79.5%\t39750\t-816026.0886831139\t301.3686838163399\t44.9\t0:39\n",
      "80.0%\t40000\t-814404.5554799889\t300.0040197587768\t45\t0:38\n",
      "80.5%\t40250\t-816213.0046987389\t302.87956502118493\t45.1\t0:37\n",
      "81.0%\t40500\t-815902.3250112389\t301.0310365747014\t45.2\t0:36\n",
      "81.5%\t40750\t-815779.2546987389\t301.8616563996047\t45.4\t0:35\n",
      "82.0%\t41000\t-814362.2742299889\t301.0240250560796\t45.5\t0:34\n",
      "82.5%\t41250\t-813972.3484487389\t300.2140406754645\t45.6\t0:33\n",
      "83.0%\t41500\t-815472.3074331139\t299.71809544966777\t45.7\t0:32\n",
      "83.5%\t41750\t-815345.0867299889\t300.576458224183\t45.9\t0:31\n",
      "84.0%\t42000\t-815447.0242299889\t301.6178029346872\t46\t0:30\n",
      "84.5%\t42250\t-815873.1609487389\t300.567563838682\t46.1\t0:29\n",
      "85.0%\t42500\t-815255.2078237389\t300.0583731119784\t46.2\t0:28\n",
      "85.5%\t42750\t-816095.4441518639\t299.7224969068145\t46.3\t0:27\n",
      "86.0%\t43000\t-816307.3464956139\t300.7713128995145\t46.5\t0:26\n",
      "86.5%\t43250\t-816663.1726674889\t300.4235469242893\t46.6\t0:25\n",
      "87.0%\t43500\t-817019.6746206139\t299.997728553623\t46.7\t0:24\n",
      "87.5%\t43750\t-815127.5886831139\t297.54438424288765\t46.8\t0:23\n",
      "88.0%\t44000\t-815330.1511831139\t301.12729911507756\t46.9\t0:22\n",
      "88.5%\t44250\t-816213.6765737389\t301.92953761184043\t47.1\t0:21\n",
      "89.0%\t44500\t-815694.5691518639\t300.2919154808969\t47.2\t0:20\n",
      "89.5%\t44750\t-815829.5261831139\t300.3993422058051\t47.3\t0:19\n",
      "90.0%\t45000\t-815067.8777456139\t301.174466194348\t47.4\t0:18\n",
      "90.5%\t45250\t-815698.0906362389\t300.2635422907119\t47.5\t0:17\n",
      "91.0%\t45500\t-815448.4363393639\t300.91193997558156\t47.6\t0:16\n",
      "91.5%\t45750\t-814675.0711049889\t302.2710175337444\t47.7\t0:15\n",
      "92.0%\t46000\t-814990.5007924889\t301.0761493109878\t47.8\t0:14\n",
      "92.5%\t46250\t-814447.6238393639\t302.1370404913296\t48\t0:13\n",
      "93.0%\t46500\t-814392.2293081139\t302.2763307301576\t48.1\t0:12\n",
      "93.5%\t46750\t-812989.9304799889\t300.63733504787285\t48.2\t0:11\n",
      "94.0%\t47000\t-814522.8484487389\t302.4579112380028\t48.3\t0:10\n",
      "94.5%\t47250\t-813487.4519643639\t299.1326132402874\t48.4\t0:09\n",
      "95.0%\t47500\t-815591.7898549889\t301.58115155160556\t48.5\t0:08\n",
      "95.5%\t47750\t-814761.2136831139\t300.195896871376\t48.6\t0:08\n",
      "96.0%\t48000\t-815352.3464956139\t301.73975893852196\t48.7\t0:07\n",
      "96.5%\t48250\t-814976.1472768639\t301.0964225764489\t48.8\t0:06\n",
      "97.0%\t48500\t-814801.1746206139\t299.94523710137844\t48.9\t0:05\n",
      "97.5%\t48750\t-814663.8796987389\t300.5945289605038\t49\t0:04\n",
      "98.0%\t49000\t-814857.7800893639\t300.154465783246\t49.1\t0:03\n",
      "98.5%\t49250\t-814140.5281362389\t300.56090099843647\t49.2\t0:02\n",
      "99.0%\t49500\t-814079.6414174889\t299.99794576704335\t49.3\t0:01\n",
      "99.5%\t49750\t-814728.6746206139\t301.50697902252745\t49.4\t0:00\n",
      "100.0%\t50000\t-814851.4324331139\t297.7587503719002\t49.5\t0:00\n"
     ]
    }
   ],
   "source": [
    "simulation.context.setVelocitiesToTemperature(300 * unit.kelvin)\n",
    "simulation.step(steps)  # perform the simulation"
   ]
  },
  {
   "cell_type": "code",
   "execution_count": 21,
   "metadata": {},
   "outputs": [
    {
     "name": "stdout",
     "output_type": "stream",
     "text": [
      "os.stat_result(st_mode=33204, st_ino=235276845, st_dev=2080, st_nlink=1, st_uid=1002, st_gid=1002, st_size=19018476, st_atime=1716182984, st_mtime=1716183159, st_ctime=1716183159)\n"
     ]
    }
   ],
   "source": [
    "# Check the trajectory exists and is not empty\n",
    "import os \n",
    "result = \"./trajectory_7.xtc\"\n",
    "file_info = os.stat(result)\n",
    "print(file_info)\n",
    "#result.stat().st_size > 0\n",
    "# NBVAL_CHECK_OUTPUT"
   ]
  },
  {
   "cell_type": "markdown",
   "metadata": {},
   "source": [
    "# Analysis MD Simulation results"
   ]
  },
  {
   "cell_type": "code",
   "execution_count": 22,
   "metadata": {},
   "outputs": [
    {
     "data": {
      "application/vnd.jupyter.widget-view+json": {
       "model_id": "1ec2de9f321544709d149a6c6263549d",
       "version_major": 2,
       "version_minor": 0
      },
      "text/plain": []
     },
     "metadata": {},
     "output_type": "display_data"
    }
   ],
   "source": [
    "from pathlib import Path\n",
    "\n",
    "import pandas as pd\n",
    "import numpy as np\n",
    "import matplotlib.pyplot as plt\n",
    "import nglview as nv\n",
    "import MDAnalysis as mda\n",
    "from MDAnalysis.analysis import rms, diffusionmap, align\n",
    "from MDAnalysis.analysis.distances import dist\n",
    "from MDAnalysis.analysis.hydrogenbonds.hbond_analysis import HydrogenBondAnalysis as HBA\n"
   ]
  },
  {
   "cell_type": "code",
   "execution_count": 23,
   "metadata": {},
   "outputs": [],
   "source": [
    "md_universe = mda.Universe(str(\"./topology_7.pdb\"), str(\"./trajectory_7.xtc\"))"
   ]
  },
  {
   "cell_type": "code",
   "execution_count": 24,
   "metadata": {},
   "outputs": [
    {
     "data": {
      "text/plain": [
       "<MDAnalysis.analysis.align.AlignTraj at 0x7f5565a6a8e0>"
      ]
     },
     "execution_count": 24,
     "metadata": {},
     "output_type": "execute_result"
    }
   ],
   "source": [
    "# Set trajectory pointer to first frame as reference\n",
    "md_universe.trajectory[0]\n",
    "\n",
    "# in_memory=True is needed to actually modify the loaded trajectory\n",
    "# if the trajectory is too big for memory, one can write out the aligned trajectory and reload it into a new universe\n",
    "alignment = align.AlignTraj(\n",
    "    mobile=md_universe, reference=md_universe, select=\"protein\", in_memory=True\n",
    ")\n",
    "alignment.run()"
   ]
  },
  {
   "cell_type": "code",
   "execution_count": 25,
   "metadata": {},
   "outputs": [],
   "source": [
    "def rmsd_for_atomgroups(universe, selection1, selection2=None):\n",
    "    \"\"\"Calulate the RMSD for selected atom groups.\n",
    "\n",
    "    Parameters\n",
    "    ----------\n",
    "    universe: MDAnalysis.core.universe.Universe\n",
    "        MDAnalysis universe.\n",
    "    selection1: str\n",
    "        Selection string for main atom group, also used during alignment.\n",
    "    selection2: list of str, optional\n",
    "        Selection strings for additional atom groups.\n",
    "\n",
    "    Returns\n",
    "    -------\n",
    "    rmsd_df: pandas.core.frame.DataFrame\n",
    "        DataFrame containing RMSD of the selected atom groups over time.\n",
    "    \"\"\"\n",
    "\n",
    "    universe.trajectory\n",
    "    ref = universe\n",
    "    rmsd_analysis = rms.RMSD(universe, ref, select=selection1, groupselections=selection2)\n",
    "    rmsd_analysis.run()\n",
    "\n",
    "    columns = [selection1, *selection2] if selection2 else [selection1]\n",
    "    #print(rmsd_analysis.results)\n",
    "    #print(rmsd_analysis)\n",
    "    rmsd_df = pd.DataFrame(np.round(rmsd_analysis.results.rmsd[:, 2:], 2), columns=columns)\n",
    "    rmsd_df.index.name = \"time\"\n",
    "    return rmsd_df"
   ]
  },
  {
   "cell_type": "code",
   "execution_count": 26,
   "metadata": {},
   "outputs": [],
   "source": [
    "rmsd = rmsd_for_atomgroups(md_universe, \"backbone\", [\"protein\", \"resname UNK\"])\n",
    "#rmsd[:20]"
   ]
  },
  {
   "cell_type": "code",
   "execution_count": 27,
   "metadata": {},
   "outputs": [
    {
     "data": {
      "text/html": [
       "<div>\n",
       "<style scoped>\n",
       "    .dataframe tbody tr th:only-of-type {\n",
       "        vertical-align: middle;\n",
       "    }\n",
       "\n",
       "    .dataframe tbody tr th {\n",
       "        vertical-align: top;\n",
       "    }\n",
       "\n",
       "    .dataframe thead th {\n",
       "        text-align: right;\n",
       "    }\n",
       "</style>\n",
       "<table border=\"1\" class=\"dataframe\">\n",
       "  <thead>\n",
       "    <tr style=\"text-align: right;\">\n",
       "      <th></th>\n",
       "      <th>backbone</th>\n",
       "      <th>protein</th>\n",
       "      <th>rank_7_ligand</th>\n",
       "    </tr>\n",
       "    <tr>\n",
       "      <th>time</th>\n",
       "      <th></th>\n",
       "      <th></th>\n",
       "      <th></th>\n",
       "    </tr>\n",
       "  </thead>\n",
       "  <tbody>\n",
       "    <tr>\n",
       "      <th>0</th>\n",
       "      <td>0.00</td>\n",
       "      <td>0.00</td>\n",
       "      <td>0.00</td>\n",
       "    </tr>\n",
       "    <tr>\n",
       "      <th>1</th>\n",
       "      <td>0.60</td>\n",
       "      <td>0.86</td>\n",
       "      <td>1.14</td>\n",
       "    </tr>\n",
       "    <tr>\n",
       "      <th>2</th>\n",
       "      <td>0.70</td>\n",
       "      <td>0.94</td>\n",
       "      <td>1.78</td>\n",
       "    </tr>\n",
       "    <tr>\n",
       "      <th>3</th>\n",
       "      <td>0.72</td>\n",
       "      <td>1.00</td>\n",
       "      <td>1.59</td>\n",
       "    </tr>\n",
       "    <tr>\n",
       "      <th>4</th>\n",
       "      <td>0.81</td>\n",
       "      <td>1.10</td>\n",
       "      <td>1.38</td>\n",
       "    </tr>\n",
       "  </tbody>\n",
       "</table>\n",
       "</div>"
      ],
      "text/plain": [
       "      backbone  protein  rank_7_ligand\n",
       "time                                  \n",
       "0         0.00     0.00           0.00\n",
       "1         0.60     0.86           1.14\n",
       "2         0.70     0.94           1.78\n",
       "3         0.72     1.00           1.59\n",
       "4         0.81     1.10           1.38"
      ]
     },
     "execution_count": 27,
     "metadata": {},
     "output_type": "execute_result"
    }
   ],
   "source": [
    "rmsd.rename(columns={\"resname UNK\": \"rank_7_ligand\"}, inplace=True)\n",
    "rmsd.head()"
   ]
  },
  {
   "cell_type": "code",
   "execution_count": 28,
   "metadata": {},
   "outputs": [
    {
     "data": {
      "image/png": "[encoded data removed]",
      "text/plain": [
       "<Figure size 640x480 with 1 Axes>"
      ]
     },
     "metadata": {},
     "output_type": "display_data"
    }
   ],
   "source": [
    "rmsd.plot(title=\"RMSD of protein and ligand\")\n",
    "plt.ylabel(\"RMSD (Å)\");"
   ]
  },
  {
   "cell_type": "code",
   "execution_count": 29,
   "metadata": {},
   "outputs": [],
   "source": [
    "#rmsd.to_csv(\"rank_7_rmsd_results.csv\")"
   ]
  },
  {
   "cell_type": "code",
   "execution_count": null,
   "metadata": {},
   "outputs": [],
   "source": []
  }
 ],
 "metadata": {
  "kernelspec": {
   "display_name": "Python 3",
   "language": "python",
   "name": "python3"
  },
  "language_info": {
   "codemirror_mode": {
    "name": "ipython",
    "version": 3
   },
   "file_extension": ".py",
   "mimetype": "text/x-python",
   "name": "python",
   "nbconvert_exporter": "python",
   "pygments_lexer": "ipython3",
   "version": "3.8.19"
  }
 },
 "nbformat": 4,
 "nbformat_minor": 2
}
