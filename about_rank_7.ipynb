{
 "cells": [
  {
   "cell_type": "markdown",
   "metadata": {},
   "source": [
    "# MD Simultaion "
   ]
  },
  {
   "cell_type": "code",
   "execution_count": 1,
   "metadata": {},
   "outputs": [],
   "source": [
    "import copy\n",
    "from pathlib import Path\n",
    "import sys\n",
    "\n",
    "import requests\n",
    "from IPython.display import display\n",
    "import numpy as np\n",
    "from rdkit import Chem\n",
    "from rdkit.Chem import Draw\n",
    "from rdkit.Chem import AllChem\n",
    "import mdtraj as md\n",
    "import pdbfixer\n",
    "import openmm as mm\n",
    "import openmm.app as app\n",
    "from openmm import unit\n",
    "from openff.toolkit.topology import Molecule, Topology\n",
    "from openmmforcefields.generators import GAFFTemplateGenerator"
   ]
  },
  {
   "cell_type": "code",
   "execution_count": 2,
   "metadata": {},
   "outputs": [],
   "source": [
    "#import warnings\n",
    "\n",
    "# 경고를 무시하도록 설정합니다.\n",
    "#warnings.filterwarnings(\"ignore\", message=\"PDB file is missing resid information.\")\n",
    "#warnings.filterwarnings(\"ignore\", message=\"Reload offsets from trajectory\")\n",
    "#warnings.filterwarnings(\"ignore\", message=\"duplicate atom\")\n",
    "\n",
    "# 나머지 코드 실행"
   ]
  },
  {
   "cell_type": "code",
   "execution_count": 3,
   "metadata": {},
   "outputs": [],
   "source": [
    "import warnings\n",
    "warnings.filterwarnings(\"ignore\")"
   ]
  },
  {
   "cell_type": "code",
   "execution_count": 4,
   "metadata": {},
   "outputs": [],
   "source": [
    "def prepare_protein(\n",
    "    pdb_file, ignore_missing_residues=True, ignore_terminal_missing_residues=True, ph=7.0\n",
    "):\n",
    "    \"\"\"\n",
    "    Use pdbfixer to prepare the protein from a PDB file. Hetero atoms such as ligands are\n",
    "    removed and non-standard residues replaced. Missing atoms to existing residues are added.\n",
    "    Missing residues are ignored by default, but can be included.\n",
    "\n",
    "    Parameters\n",
    "    ----------\n",
    "    pdb_file: pathlib.Path or str\n",
    "        PDB file containing the system to simulate.\n",
    "    ignore_missing_residues: bool, optional\n",
    "        If missing residues should be ignored or built.\n",
    "    ignore_terminal_missing_residues: bool, optional\n",
    "        If missing residues at the beginning and the end of a chain should be ignored or built.\n",
    "    ph: float, optional\n",
    "        pH value used to determine protonation state of residues\n",
    "\n",
    "    Returns\n",
    "    -------\n",
    "    fixer: pdbfixer.pdbfixer.PDBFixer\n",
    "        Prepared protein system.\n",
    "    \"\"\"\n",
    "    fixer = pdbfixer.PDBFixer(str(pdb_file))\n",
    "    fixer.removeHeterogens()  # co-crystallized ligands are unknown to PDBFixer\n",
    "    fixer.findMissingResidues()  # identify missing residues, needed for identification of missing atoms\n",
    "\n",
    "    # if missing terminal residues shall be ignored, remove them from the dictionary\n",
    "    if ignore_terminal_missing_residues:\n",
    "        chains = list(fixer.topology.chains())\n",
    "        keys = fixer.missingResidues.keys()\n",
    "        for key in list(keys):\n",
    "            chain = chains[key[0]]\n",
    "            if key[1] == 0 or key[1] == len(list(chain.residues())):\n",
    "                del fixer.missingResidues[key]\n",
    "\n",
    "    # if all missing residues shall be ignored ignored, clear the dictionary\n",
    "    if ignore_missing_residues:\n",
    "        fixer.missingResidues = {}\n",
    "\n",
    "    fixer.findNonstandardResidues()  # find non-standard residue\n",
    "    fixer.replaceNonstandardResidues()  # replace non-standard residues with standard one\n",
    "    fixer.findMissingAtoms()  # find missing heavy atoms\n",
    "    fixer.addMissingAtoms()  # add missing atoms and residues\n",
    "    fixer.addMissingHydrogens(ph)  # add missing hydrogens\n",
    "    return fixer"
   ]
  },
  {
   "cell_type": "code",
   "execution_count": 5,
   "metadata": {},
   "outputs": [],
   "source": [
    "prepare_protein = prepare_protein(\"./protein_rank_7_complex.pdb\", ignore_missing_residues=False)"
   ]
  },
  {
   "cell_type": "code",
   "execution_count": 6,
   "metadata": {},
   "outputs": [],
   "source": [
    "def prepare_ligand(pdb_file, resname, smiles, depict=True):\n",
    "    \"\"\"\n",
    "    Prepare a ligand from a PDB file via adding hydrogens and assigning bond orders. A depiction\n",
    "    of the ligand before and after preparation is rendered in 2D to allow an inspection of the\n",
    "    results. Huge thanks to @j-wags for the suggestion.\n",
    "\n",
    "    Parameters\n",
    "    ----------\n",
    "    pdb_file: pathlib.PosixPath\n",
    "       PDB file containing the ligand of interest.\n",
    "    resname: str\n",
    "        Three character residue name of the ligand.\n",
    "    smiles : str\n",
    "        SMILES string of the ligand informing about correct protonation and bond orders.\n",
    "    depict: bool, optional\n",
    "        show a 2D representation of the ligand\n",
    "\n",
    "    Returns\n",
    "    -------\n",
    "    prepared_ligand: rdkit.Chem.rdchem.Mol\n",
    "        Prepared ligand.\n",
    "    \"\"\"\n",
    "    # split molecule\n",
    "    rdkit_mol = Chem.MolFromPDBFile(str(pdb_file), proximityBonding=True, sanitize=False)\n",
    "    print(rdkit_mol)\n",
    "    rdkit_mol_split = Chem.rdmolops.SplitMolByPDBResidues(rdkit_mol)\n",
    "\n",
    "    # extract the ligand and remove any already present hydrogens\n",
    "    ligand = rdkit_mol_split[resname]\n",
    "    ligand = Chem.RemoveHs(ligand)\n",
    "\n",
    "    # assign bond orders from template\n",
    "    reference_mol = Chem.MolFromSmiles(smiles)\n",
    "    prepared_ligand = AllChem.AssignBondOrdersFromTemplate(reference_mol, ligand)\n",
    "    prepared_ligand.AddConformer(ligand.GetConformer(0))\n",
    "\n",
    "    # protonate ligand\n",
    "    prepared_ligand = Chem.rdmolops.AddHs(prepared_ligand, addCoords=True)\n",
    "    prepared_ligand = Chem.MolFromMolBlock(Chem.MolToMolBlock(prepared_ligand))\n",
    "\n",
    "    # 2D depiction\n",
    "    if depict:\n",
    "        ligand_2d = copy.deepcopy(ligand)\n",
    "        prepared_ligand_2d = copy.deepcopy(prepared_ligand)\n",
    "        AllChem.Compute2DCoords(ligand_2d)\n",
    "        AllChem.Compute2DCoords(prepared_ligand_2d)\n",
    "        display(\n",
    "            Draw.MolsToGridImage(\n",
    "                [ligand_2d, prepared_ligand_2d], molsPerRow=2, legends=[\"original\", \"prepared\"]\n",
    "            )\n",
    "        )\n",
    "\n",
    "    # return ligand\n",
    "    return prepared_ligand"
   ]
  },
  {
   "cell_type": "code",
   "execution_count": 7,
   "metadata": {},
   "outputs": [],
   "source": [
    "pdb_path = \"./protein_rank_7_complex.pdb\"\n",
    "ligand_name = \"UNL\"\n",
    "smiles = \"COc1ccc(NC(=O)N2CCN(c3ccc(F)cc3)CC2)cc1\""
   ]
  },
  {
   "cell_type": "code",
   "execution_count": 8,
   "metadata": {},
   "outputs": [
    {
     "name": "stdout",
     "output_type": "stream",
     "text": [
      "<rdkit.Chem.rdchem.Mol object at 0x7f9d00e60b20>\n"
     ]
    },
    {
     "name": "stderr",
     "output_type": "stream",
     "text": [
      "[14:30:33] WARNING: More than one matching pattern found - picking one\n",
      "\n"
     ]
    },
    {
     "data": {
      "image/png": "[encoded data removed]",
      "text/plain": [
       "<IPython.core.display.Image object>"
      ]
     },
     "metadata": {},
     "output_type": "display_data"
    }
   ],
   "source": [
    "rdkit_ligand = prepare_ligand(pdb_path, ligand_name, smiles)"
   ]
  },
  {
   "cell_type": "code",
   "execution_count": 9,
   "metadata": {},
   "outputs": [],
   "source": [
    "def rdkit_to_openmm(rdkit_mol, name=\"LIG\"):\n",
    "    \"\"\"\n",
    "    Convert an RDKit molecule to an OpenMM molecule.\n",
    "    Inspired by @hannahbrucemcdonald and @glass-w.\n",
    "\n",
    "    Parameters\n",
    "    ----------\n",
    "    rdkit_mol: rdkit.Chem.rdchem.Mol\n",
    "        RDKit molecule to convert.\n",
    "    name: str\n",
    "        Molecule name.\n",
    "\n",
    "    Returns\n",
    "    -------\n",
    "    omm_molecule: openmm.app.Modeller\n",
    "        OpenMM modeller object holding the molecule of interest.\n",
    "    \"\"\"\n",
    "    # convert RDKit to OpenFF\n",
    "    off_mol = Molecule.from_rdkit(rdkit_mol)\n",
    "    #print(off_mol)\n",
    "\n",
    "    # add name for molecule\n",
    "    off_mol.name = name\n",
    "    #print(off_mol.name)\n",
    "\n",
    "    # add names for atoms\n",
    "    element_counter_dict = {}\n",
    "    for off_atom, rdkit_atom in zip(off_mol.atoms, rdkit_mol.GetAtoms()):\n",
    "        element = rdkit_atom.GetSymbol()\n",
    "        if element in element_counter_dict.keys():\n",
    "            element_counter_dict[element] += 1\n",
    "        else:\n",
    "            element_counter_dict[element] = 1\n",
    "        off_atom.name = element + str(element_counter_dict[element])\n",
    "    #print(element_counter_dict)\n",
    "\n",
    "    # convert from OpenFF to OpenMM\n",
    "    off_mol_topology = off_mol.to_topology()\n",
    "    mol_topology = off_mol_topology.to_openmm()\n",
    "    #print(mol_topology)\n",
    "    mol_positions = off_mol.conformers[0]\n",
    "    #print(mol_positions)\n",
    "\n",
    "    # convert units from Ångström to nanometers\n",
    "    # since OpenMM works in nm\n",
    "    mol_positions = mol_positions.to(\"nanometers\")\n",
    "    #print(mol_positions)\n",
    "\n",
    "    # combine topology and positions in modeller object\n",
    "    omm_mol = app.Modeller(mol_topology, mol_positions)\n",
    "\n",
    "    return omm_mol"
   ]
  },
  {
   "cell_type": "code",
   "execution_count": 10,
   "metadata": {},
   "outputs": [],
   "source": [
    "omm_ligand = rdkit_to_openmm(rdkit_ligand, ligand_name)"
   ]
  },
  {
   "cell_type": "code",
   "execution_count": 11,
   "metadata": {},
   "outputs": [],
   "source": [
    "def merge_protein_and_ligand(protein, ligand):\n",
    "    \"\"\"\n",
    "    Merge two OpenMM objects.\n",
    "\n",
    "    Parameters\n",
    "    ----------\n",
    "    protein: pdbfixer.pdbfixer.PDBFixer\n",
    "        Protein to merge.\n",
    "    ligand: openmm.app.Modeller\n",
    "        Ligand to merge.\n",
    "\n",
    "    Returns\n",
    "    -------\n",
    "    complex_topology: openmm.app.topology.Topology\n",
    "        The merged topology.\n",
    "    complex_positions: openmm.unit.quantity.Quantity\n",
    "        The merged positions.\n",
    "    \"\"\"\n",
    "    # combine topologies\n",
    "    md_protein_topology = md.Topology.from_openmm(protein.topology)  # using mdtraj for protein top\n",
    "    #print(md_protein_topology)\n",
    "    md_ligand_topology = md.Topology.from_openmm(ligand.topology)  # using mdtraj for ligand top\n",
    "    #print(md_ligand_topology)\n",
    "    md_complex_topology = md_protein_topology.join(md_ligand_topology)  # add them together\n",
    "    #print(md_complex_topology)\n",
    "    complex_topology = md_complex_topology.to_openmm()\n",
    "    #print(complex_topology)\n",
    "\n",
    "    # combine positions\n",
    "    total_atoms = len(protein.positions) + len(ligand.positions)\n",
    "\n",
    "    # create an array for storing all atom positions as tupels containing a value and a unit\n",
    "    # called OpenMM Quantities\n",
    "    complex_positions = unit.Quantity(np.zeros([total_atoms, 3]), unit=unit.nanometers)\n",
    "    complex_positions[: len(protein.positions)] = protein.positions  # add protein positions\n",
    "    complex_positions[len(protein.positions) :] = ligand.positions  # add ligand positions\n",
    "\n",
    "    return complex_topology, complex_positions"
   ]
  },
  {
   "cell_type": "code",
   "execution_count": 12,
   "metadata": {},
   "outputs": [],
   "source": [
    "complex_topology, complex_positions = merge_protein_and_ligand(prepare_protein, omm_ligand)"
   ]
  },
  {
   "cell_type": "code",
   "execution_count": 13,
   "metadata": {},
   "outputs": [
    {
     "name": "stdout",
     "output_type": "stream",
     "text": [
      "Complex topology has 4205 atoms.\n"
     ]
    }
   ],
   "source": [
    "print(\"Complex topology has\", complex_topology.getNumAtoms(), \"atoms.\")\n",
    "# NBVAL_CHECK_OUTPUT"
   ]
  },
  {
   "cell_type": "code",
   "execution_count": 14,
   "metadata": {},
   "outputs": [],
   "source": [
    "def generate_forcefield(\n",
    "    rdkit_mol=None, protein_ff=\"amber14-all.xml\", solvent_ff=\"amber14/tip3pfb.xml\"\n",
    "):\n",
    "    \"\"\"\n",
    "    Generate an OpenMM Forcefield object and register a small molecule.\n",
    "\n",
    "    Parameters\n",
    "    ----------\n",
    "    rdkit_mol: rdkit.Chem.rdchem.Mol\n",
    "        Small molecule to register in the force field.\n",
    "    protein_ff: string\n",
    "        Name of the force field.\n",
    "    solvent_ff: string\n",
    "        Name of the solvent force field.\n",
    "\n",
    "    Returns\n",
    "    -------\n",
    "    forcefield: openmm.app.Forcefield\n",
    "        Forcefield with registered small molecule.\n",
    "    \"\"\"\n",
    "    forcefield = app.ForceField(protein_ff, solvent_ff)\n",
    "\n",
    "    if rdkit_mol is not None:\n",
    "        gaff = GAFFTemplateGenerator(\n",
    "            molecules=Molecule.from_rdkit(rdkit_mol, allow_undefined_stereo=True)\n",
    "        )\n",
    "        forcefield.registerTemplateGenerator(gaff.generator)\n",
    "\n",
    "    return forcefield"
   ]
  },
  {
   "cell_type": "code",
   "execution_count": 15,
   "metadata": {},
   "outputs": [],
   "source": [
    "forcefield = generate_forcefield(rdkit_ligand)"
   ]
  },
  {
   "cell_type": "code",
   "execution_count": 16,
   "metadata": {},
   "outputs": [
    {
     "name": "stderr",
     "output_type": "stream",
     "text": [
      "/bin/bash: /home/media/data2/user_home/dbsejrgus226/miniconda3/envs/MD/lib/libtinfo.so.6: no version information available (required by /bin/bash)\n",
      "/bin/bash: /home/media/data2/user_home/dbsejrgus226/miniconda3/envs/MD/lib/libtinfo.so.6: no version information available (required by /bin/bash)\n",
      "/bin/bash: /home/media/data2/user_home/dbsejrgus226/miniconda3/envs/MD/lib/libtinfo.so.6: no version information available (required by /bin/bash)\n",
      "/bin/bash: /home/media/data2/user_home/dbsejrgus226/miniconda3/envs/MD/lib/libtinfo.so.6: no version information available (required by /bin/bash)\n",
      "/bin/bash: /home/media/data2/user_home/dbsejrgus226/miniconda3/envs/MD/lib/libtinfo.so.6: no version information available (required by /bin/bash)\n",
      "/bin/bash: /home/media/data2/user_home/dbsejrgus226/miniconda3/envs/MD/lib/libtinfo.so.6: no version information available (required by /bin/bash)\n",
      "Warning: importing 'simtk.openmm' is deprecated.  Import 'openmm' instead.\n"
     ]
    }
   ],
   "source": [
    "modeller = app.Modeller(complex_topology, complex_positions)\n",
    "modeller.addSolvent(forcefield, padding=1.5 * unit.nanometers, ionicStrength=0.15 * unit.molar)"
   ]
  },
  {
   "cell_type": "code",
   "execution_count": 17,
   "metadata": {},
   "outputs": [],
   "source": [
    "system = forcefield.createSystem(modeller.topology, nonbondedMethod=app.NoCutoff)\n",
    "integrator = mm.LangevinIntegrator(\n",
    "    309.65 * unit.kelvin, 1.0 / unit.picoseconds, 2.0 * unit.femtoseconds\n",
    ")\n",
    "simulation = app.Simulation(modeller.topology, system, integrator)\n",
    "simulation.context.setPositions(modeller.positions)"
   ]
  },
  {
   "cell_type": "code",
   "execution_count": 18,
   "metadata": {},
   "outputs": [],
   "source": [
    "simulation.minimizeEnergy()\n",
    "with open(\"topology_7.pdb\", \"w\") as pdb_file:\n",
    "    app.PDBFile.writeFile(\n",
    "        simulation.topology,\n",
    "        simulation.context.getState(getPositions=True, enforcePeriodicBox=True).getPositions(),\n",
    "        file=pdb_file,\n",
    "        keepIds=True,\n",
    "    )"
   ]
  },
  {
   "cell_type": "code",
   "execution_count": 19,
   "metadata": {},
   "outputs": [],
   "source": [
    "# output settings\n",
    "\n",
    "steps = 50000  # corresponds to 100 fs\n",
    "write_interval = 500  # write every 10 fs\n",
    "log_interval = 250  # log progress to stdout every 5 fs\n",
    "simulation.reporters.append(\n",
    "    md.reporters.XTCReporter(file=str(\"trajectory_7.xtc\"), reportInterval=write_interval)\n",
    ")\n",
    "simulation.reporters.append(\n",
    "    app.StateDataReporter(\n",
    "        sys.stdout,\n",
    "        log_interval,\n",
    "        step=True,\n",
    "        potentialEnergy=True,\n",
    "        temperature=True,\n",
    "        progress=True,\n",
    "        remainingTime=True,\n",
    "        speed=True,\n",
    "        totalSteps=steps,\n",
    "        separator=\"\\t\",\n",
    "    )\n",
    ")"
   ]
  },
  {
   "cell_type": "code",
   "execution_count": 20,
   "metadata": {},
   "outputs": [
    {
     "name": "stdout",
     "output_type": "stream",
     "text": [
      "#\"Progress (%)\"\t\"Step\"\t\"Potential Energy (kJ/mole)\"\t\"Temperature (K)\"\t\"Speed (ns/day)\"\t\"Time Remaining\"\n",
      "0.5%\t250\t-1075548.75\t209.57684572583796\t0\t--\n",
      "1.0%\t500\t-1052722.5\t247.29252216114685\t1.06\t2:14:32\n",
      "1.5%\t750\t-1037150.8125\t269.17116866028476\t1.02\t2:19:04\n",
      "2.0%\t1000\t-1026301.0625\t282.92662249524136\t0.999\t2:21:14\n",
      "2.5%\t1250\t-1019040.125\t293.2835623575871\t0.988\t2:22:08\n",
      "3.0%\t1500\t-1012210.875\t297.4866086655593\t0.981\t2:22:22\n",
      "3.5%\t1750\t-1010222.9375\t303.6208375140691\t0.977\t2:22:14\n",
      "4.0%\t2000\t-1006187.1875\t302.6200127330566\t0.971\t2:22:23\n",
      "4.5%\t2250\t-1006003.125\t305.49117897681185\t0.966\t2:22:23\n",
      "5.0%\t2500\t-1003224.375\t305.0541419499596\t0.962\t2:22:13\n",
      "5.5%\t2750\t-1003227.25\t306.10927318270666\t0.959\t2:21:55\n",
      "6.0%\t3000\t-1002377.625\t307.04789280248514\t0.956\t2:21:32\n",
      "6.5%\t3250\t-1001895.625\t308.46552094021774\t0.954\t2:21:05\n",
      "7.0%\t3500\t-1000650.875\t307.1834811670776\t0.953\t2:20:35\n",
      "7.5%\t3750\t-999491.8125\t307.30485842050297\t0.951\t2:20:02\n",
      "8.0%\t4000\t-999848.125\t308.4330424050084\t0.948\t2:19:40\n",
      "8.5%\t4250\t-999433.8125\t309.4567472165\t0.946\t2:19:17\n",
      "9.0%\t4500\t-999431.6875\t311.7617938700733\t0.944\t2:18:52\n",
      "9.5%\t4750\t-998095.6875\t310.28533675686765\t0.942\t2:18:23\n",
      "10.0%\t5000\t-998050.0625\t309.8482896009565\t0.94\t2:17:53\n",
      "10.5%\t5250\t-998015.5625\t309.82575535717024\t0.938\t2:17:21\n",
      "11.0%\t5500\t-998150.75\t309.73745734505695\t0.937\t2:16:48\n",
      "11.5%\t5750\t-998600.75\t309.83557020608157\t0.936\t2:16:13\n",
      "12.0%\t6000\t-999601.625\t310.05827025969575\t0.934\t2:15:37\n",
      "12.5%\t6250\t-998597.5\t309.2059647758129\t0.933\t2:15:00\n",
      "13.0%\t6500\t-999969.125\t309.13680132400816\t0.932\t2:14:23\n",
      "13.5%\t6750\t-999812.875\t310.0975179869758\t0.931\t2:13:44\n",
      "14.0%\t7000\t-1000403.4375\t309.5976921856416\t0.93\t2:13:05\n",
      "14.5%\t7250\t-1000985.875\t310.3061799288903\t0.93\t2:12:25\n",
      "15.0%\t7500\t-1000929.5625\t309.8816465933642\t0.929\t2:11:45\n",
      "15.5%\t7750\t-1000084.75\t308.9779981411166\t0.928\t2:11:05\n",
      "16.0%\t8000\t-1000301.75\t311.0658178187824\t0.928\t2:10:24\n",
      "16.5%\t8250\t-1000878.875\t311.25324184230226\t0.927\t2:09:42\n",
      "17.0%\t8500\t-999445.625\t308.1622055696817\t0.926\t2:09:00\n",
      "17.5%\t8750\t-1000529.875\t311.30175234205615\t0.926\t2:08:18\n",
      "18.0%\t9000\t-999596.0\t307.23237553210873\t0.925\t2:07:36\n",
      "18.5%\t9250\t-1000337.9375\t310.14614481206684\t0.925\t2:06:53\n",
      "19.0%\t9500\t-1000494.125\t310.5618094008392\t0.924\t2:06:10\n",
      "19.5%\t9750\t-1000294.25\t309.5371794226673\t0.924\t2:05:27\n",
      "20.0%\t10000\t-1002377.75\t309.99843622611957\t0.924\t2:04:44\n",
      "20.5%\t10250\t-1000209.6875\t309.7197980080701\t0.923\t2:04:00\n",
      "21.0%\t10500\t-1000889.1875\t309.2594872774357\t0.923\t2:03:16\n",
      "21.5%\t10750\t-1002124.625\t310.80000726629856\t0.922\t2:02:32\n",
      "22.0%\t11000\t-1001176.6875\t309.1747610661469\t0.922\t2:01:48\n",
      "22.5%\t11250\t-1001580.375\t308.7159774989403\t0.922\t2:01:03\n",
      "23.0%\t11500\t-1000593.25\t307.614150141844\t0.922\t2:00:19\n",
      "23.5%\t11750\t-1000334.6875\t308.61076462487756\t0.921\t1:59:34\n",
      "24.0%\t12000\t-1002765.75\t310.2662959405227\t0.921\t1:58:49\n",
      "24.5%\t12250\t-1001651.625\t309.4068533381466\t0.921\t1:58:04\n",
      "25.0%\t12500\t-1000354.375\t309.8614576092281\t0.92\t1:57:19\n",
      "25.5%\t12750\t-1000985.3125\t310.9534550576199\t0.92\t1:56:34\n",
      "26.0%\t13000\t-1000809.375\t310.29041751963445\t0.92\t1:55:49\n",
      "26.5%\t13250\t-1001926.0625\t308.66258250931\t0.92\t1:55:04\n",
      "27.0%\t13500\t-1001080.875\t306.86861560094496\t0.92\t1:54:18\n",
      "27.5%\t13750\t-1001381.0625\t305.8851751325936\t0.919\t1:53:33\n",
      "28.0%\t14000\t-1002895.8125\t310.3468347991463\t0.919\t1:52:48\n",
      "28.5%\t14250\t-1001325.5\t309.4941798926819\t0.919\t1:52:00\n",
      "29.0%\t14500\t-1001506.25\t308.27450460331147\t0.923\t1:50:49\n",
      "29.5%\t14750\t-1001895.625\t308.77494493757933\t0.926\t1:49:38\n",
      "30.0%\t15000\t-1001424.8125\t306.6684390734175\t0.929\t1:48:28\n",
      "30.5%\t15250\t-1001437.5625\t307.9686798098464\t0.932\t1:47:20\n",
      "31.0%\t15500\t-1002264.8125\t310.21446181774934\t0.935\t1:46:12\n",
      "31.5%\t15750\t-1001826.625\t309.82720674887264\t0.938\t1:45:06\n",
      "32.0%\t16000\t-1002674.375\t310.86008079370447\t0.941\t1:44:00\n",
      "32.5%\t16250\t-1001455.25\t309.82335052973224\t0.944\t1:42:55\n",
      "33.0%\t16500\t-1000881.375\t310.43543948751795\t0.947\t1:41:52\n",
      "33.5%\t16750\t-1000604.0625\t310.4711956171362\t0.95\t1:40:48\n",
      "34.0%\t17000\t-1001496.5\t310.66775781657645\t0.953\t1:39:46\n",
      "34.5%\t17250\t-1000935.125\t310.0860179612551\t0.955\t1:38:45\n",
      "35.0%\t17500\t-999750.4375\t308.3218644350241\t0.958\t1:37:44\n",
      "35.5%\t17750\t-1000932.3125\t310.48153121066315\t0.96\t1:36:44\n",
      "36.0%\t18000\t-1001128.375\t307.5405172161979\t0.963\t1:35:44\n",
      "36.5%\t18250\t-1000500.625\t308.7290911242836\t0.965\t1:34:45\n",
      "37.0%\t18500\t-1001889.625\t308.8373509847451\t0.967\t1:33:47\n",
      "37.5%\t18750\t-1001070.125\t307.6229286142895\t0.97\t1:32:49\n",
      "38.0%\t19000\t-1002198.0\t307.8248963675413\t0.972\t1:31:52\n",
      "38.5%\t19250\t-1001617.0\t311.02686391991193\t0.974\t1:30:55\n",
      "39.0%\t19500\t-1002310.3125\t310.7865948160188\t0.976\t1:29:59\n",
      "39.5%\t19750\t-1001782.0625\t310.9215353125996\t0.978\t1:29:04\n",
      "40.0%\t20000\t-1000615.0\t308.69983952010614\t0.98\t1:28:08\n",
      "40.5%\t20250\t-1000783.25\t310.63175191255607\t0.982\t1:27:14\n",
      "41.0%\t20500\t-998925.375\t309.2587209479719\t0.984\t1:26:19\n",
      "41.5%\t20750\t-1000112.3125\t310.9092900676923\t0.986\t1:25:25\n",
      "42.0%\t21000\t-1001301.625\t310.7812044762552\t0.988\t1:24:32\n",
      "42.5%\t21250\t-1000726.6875\t310.2590518371388\t0.99\t1:23:39\n",
      "43.0%\t21500\t-1000810.6875\t309.323455722805\t0.992\t1:22:46\n",
      "43.5%\t21750\t-1001462.375\t308.85605802658966\t0.993\t1:21:54\n",
      "44.0%\t22000\t-1001064.875\t309.44196090286266\t0.995\t1:21:02\n",
      "44.5%\t22250\t-1001160.25\t310.28612133994244\t0.997\t1:20:11\n",
      "45.0%\t22500\t-1002123.5\t311.10894215558653\t0.998\t1:19:19\n",
      "45.5%\t22750\t-1002650.875\t310.0599980707688\t1\t1:18:28\n",
      "46.0%\t23000\t-1000825.5\t308.9241484416649\t1\t1:17:38\n",
      "46.5%\t23250\t-1001233.6875\t311.2149779309075\t1\t1:16:47\n",
      "47.0%\t23500\t-1000191.8125\t308.3952481489673\t1\t1:15:57\n",
      "47.5%\t23750\t-1001990.25\t310.65311248362144\t1.01\t1:15:08\n",
      "48.0%\t24000\t-1001367.75\t310.3423706453233\t1.01\t1:14:18\n",
      "48.5%\t24250\t-1000431.75\t309.41458716609674\t1.01\t1:13:29\n",
      "49.0%\t24500\t-1001255.375\t310.39653990677834\t1.01\t1:12:40\n",
      "49.5%\t24750\t-1000626.5\t310.45679499445487\t1.01\t1:11:51\n",
      "50.0%\t25000\t-1001375.6875\t311.4354040352623\t1.01\t1:11:03\n",
      "50.5%\t25250\t-1000856.75\t311.65666962472136\t1.01\t1:10:14\n",
      "51.0%\t25500\t-1002355.5\t311.72522874680027\t1.02\t1:09:26\n",
      "51.5%\t25750\t-1001698.25\t310.2554213242952\t1.02\t1:08:38\n",
      "52.0%\t26000\t-1001584.5625\t310.03177652507776\t1.02\t1:07:51\n",
      "52.5%\t26250\t-1001962.0625\t310.2441652026619\t1.02\t1:07:03\n",
      "53.0%\t26500\t-1003159.5\t312.0584350116478\t1.02\t1:06:16\n",
      "53.5%\t26750\t-1002394.875\t310.08610194357067\t1.02\t1:05:29\n",
      "54.0%\t27000\t-1002513.0\t311.2557999898347\t1.02\t1:04:42\n",
      "54.5%\t27250\t-1001681.5\t308.27167539414364\t1.02\t1:03:56\n",
      "55.0%\t27500\t-1001333.875\t309.4569491207929\t1.03\t1:03:09\n",
      "55.5%\t27750\t-1001815.0\t309.7676834928922\t1.03\t1:02:23\n",
      "56.0%\t28000\t-1000015.1875\t310.32005581431025\t1.03\t1:01:37\n",
      "56.5%\t28250\t-1000542.8125\t311.8485412401466\t1.03\t1:00:51\n",
      "57.0%\t28500\t-1000603.875\t313.7217778112364\t1.03\t1:00:05\n",
      "57.5%\t28750\t-999989.9375\t311.16918821934894\t1.03\t59:19\n",
      "58.0%\t29000\t-1000166.0\t309.07985291273417\t1.03\t58:34\n",
      "58.5%\t29250\t-1001873.25\t309.74845787406014\t1.03\t57:48\n",
      "59.0%\t29500\t-1001902.5\t309.6061474057225\t1.03\t57:03\n",
      "59.5%\t29750\t-1003457.125\t312.65790324604717\t1.04\t56:18\n",
      "60.0%\t30000\t-1002498.375\t310.5846562146659\t1.04\t55:33\n",
      "60.5%\t30250\t-1001266.625\t309.2299625741491\t1.04\t54:48\n",
      "61.0%\t30500\t-1000913.5625\t306.52121407343054\t1.04\t54:04\n",
      "61.5%\t30750\t-1002941.125\t310.49824886960795\t1.04\t53:19\n",
      "62.0%\t31000\t-1001648.0625\t308.79494003871827\t1.04\t52:35\n",
      "62.5%\t31250\t-1003784.9375\t311.17254434426883\t1.04\t51:50\n",
      "63.0%\t31500\t-1002263.75\t310.89150745305244\t1.04\t51:06\n",
      "63.5%\t31750\t-1002806.625\t309.7012108455529\t1.04\t50:22\n",
      "64.0%\t32000\t-1002954.125\t309.04686343351847\t1.04\t49:38\n",
      "64.5%\t32250\t-1003050.375\t309.7594336474142\t1.05\t48:54\n",
      "65.0%\t32500\t-1001726.125\t309.0450442933708\t1.05\t48:11\n",
      "65.5%\t32750\t-1002443.125\t309.3248221600757\t1.05\t47:27\n",
      "66.0%\t33000\t-1002182.875\t308.1782388635421\t1.05\t46:43\n",
      "66.5%\t33250\t-1001742.375\t306.7590215617078\t1.05\t46:00\n",
      "67.0%\t33500\t-1002427.375\t309.75833471005245\t1.05\t45:17\n",
      "67.5%\t33750\t-1002244.3125\t311.0570612494799\t1.05\t44:33\n",
      "68.0%\t34000\t-1001728.8125\t310.4113138786658\t1.05\t43:50\n",
      "68.5%\t34250\t-1002321.5\t309.5162806400614\t1.05\t43:07\n",
      "69.0%\t34500\t-1003730.0\t311.4615058990254\t1.05\t42:24\n",
      "69.5%\t34750\t-1002928.1875\t310.28947491323567\t1.05\t41:41\n",
      "70.0%\t35000\t-1003196.1875\t309.7696831630371\t1.05\t40:59\n",
      "70.5%\t35250\t-1002859.9375\t310.5592057919587\t1.05\t40:16\n",
      "71.0%\t35500\t-1001385.375\t311.05097653978027\t1.06\t39:33\n",
      "71.5%\t35750\t-1000658.5\t308.1804944037817\t1.06\t38:51\n",
      "72.0%\t36000\t-1002776.375\t311.2885484911603\t1.06\t38:08\n",
      "72.5%\t36250\t-1000802.875\t310.6116233816699\t1.06\t37:26\n",
      "73.0%\t36500\t-1001058.4375\t310.45002753151755\t1.06\t36:44\n",
      "73.5%\t36750\t-1001865.25\t309.6218951389849\t1.06\t36:01\n",
      "74.0%\t37000\t-1002660.9375\t310.8057258851872\t1.06\t35:19\n",
      "74.5%\t37250\t-1001600.8125\t311.249653397236\t1.06\t34:37\n",
      "75.0%\t37500\t-1002894.6875\t310.37572170446043\t1.06\t33:55\n",
      "75.5%\t37750\t-1002499.125\t309.8798893383582\t1.06\t33:13\n",
      "76.0%\t38000\t-1002138.875\t309.8461243738847\t1.06\t32:31\n",
      "76.5%\t38250\t-1001861.25\t309.1338968765858\t1.06\t31:49\n",
      "77.0%\t38500\t-1000713.125\t307.923764516535\t1.06\t31:08\n",
      "77.5%\t38750\t-1002126.4375\t309.7305481010999\t1.06\t30:26\n",
      "78.0%\t39000\t-1001325.6875\t310.28492477062906\t1.06\t29:44\n",
      "78.5%\t39250\t-1003239.75\t310.906242713421\t1.07\t29:03\n",
      "79.0%\t39500\t-1001973.625\t308.59395779677163\t1.07\t28:21\n",
      "79.5%\t39750\t-1001559.75\t308.53875074277926\t1.07\t27:40\n",
      "80.0%\t40000\t-1001756.125\t311.10933558400274\t1.07\t26:59\n",
      "80.5%\t40250\t-1002477.5625\t310.3642126798624\t1.07\t26:17\n",
      "81.0%\t40500\t-1001557.125\t309.11648893819785\t1.07\t25:36\n",
      "81.5%\t40750\t-1002990.8125\t309.8742539300925\t1.07\t24:55\n",
      "82.0%\t41000\t-1003127.3125\t311.27984817217697\t1.07\t24:13\n",
      "82.5%\t41250\t-1001797.5625\t310.8566014300633\t1.07\t23:32\n",
      "83.0%\t41500\t-1001414.25\t310.9061410123363\t1.07\t22:51\n",
      "83.5%\t41750\t-1001061.5\t309.53787598417057\t1.07\t22:10\n",
      "84.0%\t42000\t-1002056.0\t309.9821323928536\t1.07\t21:29\n",
      "84.5%\t42250\t-1002026.25\t310.3970944556442\t1.07\t20:48\n",
      "85.0%\t42500\t-1001531.4375\t309.72327860175363\t1.07\t20:07\n",
      "85.5%\t42750\t-1001563.5\t309.18727188953346\t1.07\t19:27\n",
      "86.0%\t43000\t-1002420.125\t309.35565128013485\t1.07\t18:46\n",
      "86.5%\t43250\t-1003689.0\t310.36153595487707\t1.07\t18:05\n",
      "87.0%\t43500\t-1003467.875\t311.2127740680407\t1.07\t17:24\n",
      "87.5%\t43750\t-1004115.875\t309.74350905507583\t1.08\t16:44\n",
      "88.0%\t44000\t-1002903.75\t308.9899271113829\t1.08\t16:03\n",
      "88.5%\t44250\t-1002994.0625\t309.36654240481613\t1.08\t15:23\n",
      "89.0%\t44500\t-1003507.625\t309.4589758311861\t1.08\t14:42\n",
      "89.5%\t44750\t-1001814.625\t306.95442037153947\t1.08\t14:02\n",
      "90.0%\t45000\t-1004000.875\t310.74784023812214\t1.08\t13:22\n",
      "90.5%\t45250\t-1001966.5625\t307.0966250916608\t1.08\t12:42\n",
      "91.0%\t45500\t-1003019.125\t309.3202615542074\t1.08\t12:02\n",
      "91.5%\t45750\t-1002566.5625\t308.11712825816164\t1.08\t11:22\n",
      "92.0%\t46000\t-1002935.25\t310.9826419415351\t1.08\t10:42\n",
      "92.5%\t46250\t-1001337.6875\t306.23224281051824\t1.08\t10:01\n",
      "93.0%\t46500\t-1002193.25\t309.2110048692141\t1.08\t9:21\n",
      "93.5%\t46750\t-1001881.6875\t309.2449061911242\t1.08\t8:40\n",
      "94.0%\t47000\t-1002321.4375\t310.8857211945559\t1.08\t7:59\n",
      "94.5%\t47250\t-1002538.0\t311.0323139894614\t1.08\t7:19\n",
      "95.0%\t47500\t-1000412.375\t308.8050105481948\t1.08\t6:38\n",
      "95.5%\t47750\t-1001019.5\t310.0753990548952\t1.09\t5:58\n",
      "96.0%\t48000\t-1001761.25\t312.05564514031016\t1.09\t5:17\n",
      "96.5%\t48250\t-1001077.1875\t309.85067197497335\t1.09\t4:36\n",
      "97.0%\t48500\t-1001177.1875\t308.7456907517943\t1.1\t3:56\n",
      "97.5%\t48750\t-999756.5625\t306.8676364621318\t1.1\t3:16\n",
      "98.0%\t49000\t-1002664.0625\t310.1549586878087\t1.1\t2:36\n",
      "98.5%\t49250\t-1002102.75\t311.0885615972701\t1.11\t1:57\n",
      "99.0%\t49500\t-1003132.125\t310.0463731316797\t1.11\t1:17\n",
      "99.5%\t49750\t-1003718.3125\t309.15082741804787\t1.11\t0:38\n",
      "100.0%\t50000\t-1004249.875\t309.8283542740668\t1.12\t0:00\n"
     ]
    }
   ],
   "source": [
    "simulation.context.setVelocitiesToTemperature(309.65 * unit.kelvin)\n",
    "simulation.step(steps)  # perform the simulation"
   ]
  },
  {
   "cell_type": "code",
   "execution_count": 21,
   "metadata": {},
   "outputs": [
    {
     "name": "stdout",
     "output_type": "stream",
     "text": [
      "os.stat_result(st_mode=33204, st_ino=235276808, st_dev=2080, st_nlink=1, st_uid=1002, st_gid=1002, st_size=23803060, st_atime=1717123866, st_mtime=1717131607, st_ctime=1717131607)\n"
     ]
    }
   ],
   "source": [
    "# Check the trajectory exists and is not empty\n",
    "import os \n",
    "result = \"./trajectory_7.xtc\"\n",
    "file_info = os.stat(result)\n",
    "print(file_info)\n",
    "#result.stat().st_size > 0\n",
    "# NBVAL_CHECK_OUTPUT"
   ]
  },
  {
   "cell_type": "markdown",
   "metadata": {},
   "source": [
    "# Analysis MD Simulation results"
   ]
  },
  {
   "cell_type": "code",
   "execution_count": 22,
   "metadata": {},
   "outputs": [
    {
     "data": {
      "application/vnd.jupyter.widget-view+json": {
       "model_id": "de983b62330f49c2931e6bd4ef1adb42",
       "version_major": 2,
       "version_minor": 0
      },
      "text/plain": []
     },
     "metadata": {},
     "output_type": "display_data"
    }
   ],
   "source": [
    "from pathlib import Path\n",
    "\n",
    "import pandas as pd\n",
    "import numpy as np\n",
    "import matplotlib.pyplot as plt\n",
    "import nglview as nv\n",
    "import MDAnalysis as mda\n",
    "from MDAnalysis.analysis import rms, diffusionmap, align\n",
    "from MDAnalysis.analysis.distances import dist\n",
    "from MDAnalysis.analysis.hydrogenbonds.hbond_analysis import HydrogenBondAnalysis as HBA\n"
   ]
  },
  {
   "cell_type": "code",
   "execution_count": 23,
   "metadata": {},
   "outputs": [],
   "source": [
    "md_universe = mda.Universe(str(\"./topology_7.pdb\"), str(\"./trajectory_7.xtc\"))"
   ]
  },
  {
   "cell_type": "code",
   "execution_count": 24,
   "metadata": {},
   "outputs": [
    {
     "data": {
      "text/plain": [
       "<MDAnalysis.analysis.align.AlignTraj at 0x7f53f47a8fd0>"
      ]
     },
     "execution_count": 24,
     "metadata": {},
     "output_type": "execute_result"
    }
   ],
   "source": [
    "# Set trajectory pointer to first frame as reference\n",
    "md_universe.trajectory[0]\n",
    "\n",
    "# in_memory=True is needed to actually modify the loaded trajectory\n",
    "# if the trajectory is too big for memory, one can write out the aligned trajectory and reload it into a new universe\n",
    "alignment = align.AlignTraj(\n",
    "    mobile=md_universe, reference=md_universe, select=\"protein\", in_memory=True\n",
    ")\n",
    "alignment.run()"
   ]
  },
  {
   "cell_type": "code",
   "execution_count": 25,
   "metadata": {},
   "outputs": [],
   "source": [
    "def rmsd_for_atomgroups(universe, selection1, selection2=None):\n",
    "    \"\"\"Calulate the RMSD for selected atom groups.\n",
    "\n",
    "    Parameters\n",
    "    ----------\n",
    "    universe: MDAnalysis.core.universe.Universe\n",
    "        MDAnalysis universe.\n",
    "    selection1: str\n",
    "        Selection string for main atom group, also used during alignment.\n",
    "    selection2: list of str, optional\n",
    "        Selection strings for additional atom groups.\n",
    "\n",
    "    Returns\n",
    "    -------\n",
    "    rmsd_df: pandas.core.frame.DataFrame\n",
    "        DataFrame containing RMSD of the selected atom groups over time.\n",
    "    \"\"\"\n",
    "\n",
    "    universe.trajectory\n",
    "    ref = universe\n",
    "    rmsd_analysis = rms.RMSD(universe, ref, select=selection1, groupselections=selection2)\n",
    "    rmsd_analysis.run()\n",
    "\n",
    "    columns = [selection1, *selection2] if selection2 else [selection1]\n",
    "    #print(rmsd_analysis.results)\n",
    "    #print(rmsd_analysis)\n",
    "    rmsd_df = pd.DataFrame(np.round(rmsd_analysis.results.rmsd[:, 2:], 2), columns=columns)\n",
    "    rmsd_df.index.name = \"time\"\n",
    "    return rmsd_df"
   ]
  },
  {
   "cell_type": "code",
   "execution_count": 26,
   "metadata": {},
   "outputs": [],
   "source": [
    "rmsd = rmsd_for_atomgroups(md_universe, \"backbone\", [\"protein\", \"resname UNK\"])\n",
    "#rmsd[:20]"
   ]
  },
  {
   "cell_type": "code",
   "execution_count": 27,
   "metadata": {},
   "outputs": [
    {
     "data": {
      "text/html": [
       "<div>\n",
       "<style scoped>\n",
       "    .dataframe tbody tr th:only-of-type {\n",
       "        vertical-align: middle;\n",
       "    }\n",
       "\n",
       "    .dataframe tbody tr th {\n",
       "        vertical-align: top;\n",
       "    }\n",
       "\n",
       "    .dataframe thead th {\n",
       "        text-align: right;\n",
       "    }\n",
       "</style>\n",
       "<table border=\"1\" class=\"dataframe\">\n",
       "  <thead>\n",
       "    <tr style=\"text-align: right;\">\n",
       "      <th></th>\n",
       "      <th>backbone</th>\n",
       "      <th>protein</th>\n",
       "      <th>rank_7_ligand</th>\n",
       "    </tr>\n",
       "    <tr>\n",
       "      <th>time</th>\n",
       "      <th></th>\n",
       "      <th></th>\n",
       "      <th></th>\n",
       "    </tr>\n",
       "  </thead>\n",
       "  <tbody>\n",
       "    <tr>\n",
       "      <th>0</th>\n",
       "      <td>0.00</td>\n",
       "      <td>0.00</td>\n",
       "      <td>0.00</td>\n",
       "    </tr>\n",
       "    <tr>\n",
       "      <th>1</th>\n",
       "      <td>0.60</td>\n",
       "      <td>0.82</td>\n",
       "      <td>1.54</td>\n",
       "    </tr>\n",
       "    <tr>\n",
       "      <th>2</th>\n",
       "      <td>0.69</td>\n",
       "      <td>0.94</td>\n",
       "      <td>2.62</td>\n",
       "    </tr>\n",
       "    <tr>\n",
       "      <th>3</th>\n",
       "      <td>0.78</td>\n",
       "      <td>1.05</td>\n",
       "      <td>2.76</td>\n",
       "    </tr>\n",
       "    <tr>\n",
       "      <th>4</th>\n",
       "      <td>0.84</td>\n",
       "      <td>1.09</td>\n",
       "      <td>2.80</td>\n",
       "    </tr>\n",
       "  </tbody>\n",
       "</table>\n",
       "</div>"
      ],
      "text/plain": [
       "      backbone  protein  rank_7_ligand\n",
       "time                                  \n",
       "0         0.00     0.00           0.00\n",
       "1         0.60     0.82           1.54\n",
       "2         0.69     0.94           2.62\n",
       "3         0.78     1.05           2.76\n",
       "4         0.84     1.09           2.80"
      ]
     },
     "execution_count": 27,
     "metadata": {},
     "output_type": "execute_result"
    }
   ],
   "source": [
    "rmsd.rename(columns={\"resname UNK\": \"rank_7_ligand\"}, inplace=True)\n",
    "rmsd.head()"
   ]
  },
  {
   "cell_type": "code",
   "execution_count": 28,
   "metadata": {},
   "outputs": [
    {
     "data": {
      "image/png": "[encoded data removed]",
      "text/plain": [
       "<Figure size 640x480 with 1 Axes>"
      ]
     },
     "metadata": {},
     "output_type": "display_data"
    }
   ],
   "source": [
    "rmsd.plot(title=\"RMSD of protein and ligand\")\n",
    "plt.xlabel(\"time (ps)\")\n",
    "plt.ylabel(\"RMSD (Å)\");\n",
    "plt.savefig(\"rank7_rmsd_results\")"
   ]
  },
  {
   "cell_type": "code",
   "execution_count": 30,
   "metadata": {},
   "outputs": [],
   "source": [
    "rmsd.to_csv(\"rank_7_rmsd_results.csv\")"
   ]
  },
  {
   "cell_type": "code",
   "execution_count": 1,
   "metadata": {},
   "outputs": [],
   "source": [
    "import MDAnalysis as mda\n",
    "from MDAnalysis.analysis import align\n",
    "import MDAnalysis.transformations as trans\n",
    "from MDAnalysis.analysis.rms import RMSF\n",
    "\n",
    "import matplotlib.pyplot as plt"
   ]
  },
  {
   "cell_type": "code",
   "execution_count": 2,
   "metadata": {},
   "outputs": [
    {
     "name": "stderr",
     "output_type": "stream",
     "text": [
      "Warning: importing 'simtk.openmm' is deprecated.  Import 'openmm' instead.\n",
      "/home/media/data2/user_home/dbsejrgus226/miniconda3/envs/MD/lib/python3.8/site-packages/MDAnalysis/topology/PDBParser.py:276: UserWarning: PDB file is missing resid information.  Defaulted to '1'\n",
      "  warnings.warn(\"PDB file is missing resid information.  \"\n"
     ]
    }
   ],
   "source": [
    "md_universe = mda.Universe(str(\"./topology_7.pdb\"), str(\"./trajectory_7.xtc\"))\n",
    "protein = md_universe.select_atoms(\"protein\")\n",
    "\n",
    "# 1) the current trajectory contains a protein split across\n",
    "#    periodic boundaries, so we first make the protein whole and\n",
    "#    center it in the box using on-the-fly transformations\n",
    "not_protein = md_universe.select_atoms(\"not protein\")\n",
    "transforms = [trans.unwrap(protein),\n",
    "              trans.center_in_box(protein, wrap=True),\n",
    "              trans.wrap(not_protein)]\n",
    "md_universe.trajectory.add_transformations(*transforms)\n",
    "\n",
    "# 2) fit to the initial frame to get a better average structure\n",
    "#    (the trajectory is changed in memory)\n",
    "prealigner = align.AlignTraj(md_universe, md_universe, select=\"protein and name CA\",\n",
    "                             in_memory=True).run()\n",
    "\n",
    "# 3) reference = average structure\n",
    "reference_coordinates = md_universe.trajectory.timeseries(asel=protein).mean(axis=1)\n",
    "# make a reference structure (need to reshape into a 1-frame \"trajectory\")\n",
    "reference = mda.Merge(protein).load_new(\n",
    "    reference_coordinates[:, None, :], order=\"afc\")\n",
    "\n",
    "# We created a new universe reference that contains a single frame with the averaged coordinates of the protein.\n",
    "# Now we need to fit the whole trajectory to the reference by minimizing the RMSD. \n",
    "# We use MDAnalysis.analysis.align.AlignTraj:\n",
    "aligner = align.AlignTraj(md_universe, reference, select=\"protein and name CA\", in_memory=True).run()\n"
   ]
  },
  {
   "cell_type": "code",
   "execution_count": 3,
   "metadata": {},
   "outputs": [],
   "source": [
    "# The trajectory is now fitted to the reference (the RMSD is stored as aligner.rmsd for further inspection). \n",
    "# Now we can calculate the RMSF:\n",
    "calphas = protein.select_atoms(\"name CA\")\n",
    "rmsfer = RMSF(calphas, verbose=False).run()"
   ]
  },
  {
   "cell_type": "code",
   "execution_count": 4,
   "metadata": {},
   "outputs": [
    {
     "name": "stderr",
     "output_type": "stream",
     "text": [
      "/home/media/data2/user_home/dbsejrgus226/miniconda3/envs/MD/lib/python3.8/site-packages/MDAnalysis/analysis/rms.py:877: DeprecationWarning: The `rmsf` attribute was deprecated in MDAnalysis 2.0.0 and will be removed in MDAnalysis 3.0.0. Please use `results.rmsd` instead.\n",
      "  warnings.warn(wmsg, DeprecationWarning)\n"
     ]
    },
    {
     "data": {
      "image/png": "[encoded data removed]",
      "text/plain": [
       "<Figure size 640x480 with 1 Axes>"
      ]
     },
     "metadata": {},
     "output_type": "display_data"
    }
   ],
   "source": [
    "plt.plot(calphas.resnums, rmsfer.rmsf)\n",
    "plt.xlabel(\"Residue number\")\n",
    "plt.ylabel(\"RMSF (nm)\")\n",
    "plt.savefig(\"rank7_rmsf_results.png\")"
   ]
  },
  {
   "cell_type": "code",
   "execution_count": 5,
   "metadata": {},
   "outputs": [
    {
     "name": "stdout",
     "output_type": "stream",
     "text": [
      "258\n",
      "258\n"
     ]
    }
   ],
   "source": [
    "print(len(calphas.resnums))\n",
    "print(len(rmsfer.rmsf))"
   ]
  },
  {
   "cell_type": "code",
   "execution_count": 6,
   "metadata": {},
   "outputs": [
    {
     "data": {
      "text/html": [
       "<div>\n",
       "<style scoped>\n",
       "    .dataframe tbody tr th:only-of-type {\n",
       "        vertical-align: middle;\n",
       "    }\n",
       "\n",
       "    .dataframe tbody tr th {\n",
       "        vertical-align: top;\n",
       "    }\n",
       "\n",
       "    .dataframe thead th {\n",
       "        text-align: right;\n",
       "    }\n",
       "</style>\n",
       "<table border=\"1\" class=\"dataframe\">\n",
       "  <thead>\n",
       "    <tr style=\"text-align: right;\">\n",
       "      <th></th>\n",
       "      <th>residue</th>\n",
       "      <th>rmsf</th>\n",
       "    </tr>\n",
       "  </thead>\n",
       "  <tbody>\n",
       "    <tr>\n",
       "      <th>0</th>\n",
       "      <td>414</td>\n",
       "      <td>1.238036</td>\n",
       "    </tr>\n",
       "    <tr>\n",
       "      <th>1</th>\n",
       "      <td>415</td>\n",
       "      <td>0.759923</td>\n",
       "    </tr>\n",
       "    <tr>\n",
       "      <th>2</th>\n",
       "      <td>416</td>\n",
       "      <td>0.758464</td>\n",
       "    </tr>\n",
       "    <tr>\n",
       "      <th>3</th>\n",
       "      <td>417</td>\n",
       "      <td>0.695123</td>\n",
       "    </tr>\n",
       "    <tr>\n",
       "      <th>4</th>\n",
       "      <td>418</td>\n",
       "      <td>0.922423</td>\n",
       "    </tr>\n",
       "  </tbody>\n",
       "</table>\n",
       "</div>"
      ],
      "text/plain": [
       "   residue      rmsf\n",
       "0      414  1.238036\n",
       "1      415  0.759923\n",
       "2      416  0.758464\n",
       "3      417  0.695123\n",
       "4      418  0.922423"
      ]
     },
     "execution_count": 6,
     "metadata": {},
     "output_type": "execute_result"
    }
   ],
   "source": [
    "import pandas as pd\n",
    "rank7_rmsf_df = pd.DataFrame({\"residue\": calphas.resnums, \"rmsf\": rmsfer.rmsf})\n",
    "rank7_rmsf_df.to_csv(\"rank7_rmsf_results.csv\")\n",
    "rank7_rmsf_df.head()"
   ]
  },
  {
   "cell_type": "code",
   "execution_count": null,
   "metadata": {},
   "outputs": [],
   "source": []
  }
 ],
 "metadata": {
  "kernelspec": {
   "display_name": "Python 3",
   "language": "python",
   "name": "python3"
  },
  "language_info": {
   "codemirror_mode": {
    "name": "ipython",
    "version": 3
   },
   "file_extension": ".py",
   "mimetype": "text/x-python",
   "name": "python",
   "nbconvert_exporter": "python",
   "pygments_lexer": "ipython3",
   "version": "3.8.12"
  }
 },
 "nbformat": 4,
 "nbformat_minor": 2
}
