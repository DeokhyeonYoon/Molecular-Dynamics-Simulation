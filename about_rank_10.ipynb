{
 "cells": [
  {
   "cell_type": "markdown",
   "metadata": {},
   "source": [
    "# MD Simultaion "
   ]
  },
  {
   "cell_type": "code",
   "execution_count": 1,
   "metadata": {},
   "outputs": [],
   "source": [
    "import copy\n",
    "from pathlib import Path\n",
    "import sys\n",
    "\n",
    "import requests\n",
    "from IPython.display import display\n",
    "import numpy as np\n",
    "from rdkit import Chem\n",
    "from rdkit.Chem import Draw\n",
    "from rdkit.Chem import AllChem\n",
    "import mdtraj as md\n",
    "import pdbfixer\n",
    "import openmm as mm\n",
    "import openmm.app as app\n",
    "from openmm import unit\n",
    "from openff.toolkit.topology import Molecule, Topology\n",
    "from openmmforcefields.generators import GAFFTemplateGenerator"
   ]
  },
  {
   "cell_type": "code",
   "execution_count": 2,
   "metadata": {},
   "outputs": [],
   "source": [
    "#import warnings\n",
    "\n",
    "# 경고를 무시하도록 설정합니다.\n",
    "#warnings.filterwarnings(\"ignore\", message=\"PDB file is missing resid information.\")\n",
    "#warnings.filterwarnings(\"ignore\", message=\"Reload offsets from trajectory\")\n",
    "#warnings.filterwarnings(\"ignore\", message=\"duplicate atom\")\n",
    "\n",
    "# 나머지 코드 실행"
   ]
  },
  {
   "cell_type": "code",
   "execution_count": 3,
   "metadata": {},
   "outputs": [],
   "source": [
    "import warnings\n",
    "warnings.filterwarnings(\"ignore\")"
   ]
  },
  {
   "cell_type": "code",
   "execution_count": 4,
   "metadata": {},
   "outputs": [],
   "source": [
    "def prepare_protein(\n",
    "    pdb_file, ignore_missing_residues=True, ignore_terminal_missing_residues=True, ph=7.0\n",
    "):\n",
    "    \"\"\"\n",
    "    Use pdbfixer to prepare the protein from a PDB file. Hetero atoms such as ligands are\n",
    "    removed and non-standard residues replaced. Missing atoms to existing residues are added.\n",
    "    Missing residues are ignored by default, but can be included.\n",
    "\n",
    "    Parameters\n",
    "    ----------\n",
    "    pdb_file: pathlib.Path or str\n",
    "        PDB file containing the system to simulate.\n",
    "    ignore_missing_residues: bool, optional\n",
    "        If missing residues should be ignored or built.\n",
    "    ignore_terminal_missing_residues: bool, optional\n",
    "        If missing residues at the beginning and the end of a chain should be ignored or built.\n",
    "    ph: float, optional\n",
    "        pH value used to determine protonation state of residues\n",
    "\n",
    "    Returns\n",
    "    -------\n",
    "    fixer: pdbfixer.pdbfixer.PDBFixer\n",
    "        Prepared protein system.\n",
    "    \"\"\"\n",
    "    fixer = pdbfixer.PDBFixer(str(pdb_file))\n",
    "    fixer.removeHeterogens()  # co-crystallized ligands are unknown to PDBFixer\n",
    "    fixer.findMissingResidues()  # identify missing residues, needed for identification of missing atoms\n",
    "\n",
    "    # if missing terminal residues shall be ignored, remove them from the dictionary\n",
    "    if ignore_terminal_missing_residues:\n",
    "        chains = list(fixer.topology.chains())\n",
    "        keys = fixer.missingResidues.keys()\n",
    "        for key in list(keys):\n",
    "            chain = chains[key[0]]\n",
    "            if key[1] == 0 or key[1] == len(list(chain.residues())):\n",
    "                del fixer.missingResidues[key]\n",
    "\n",
    "    # if all missing residues shall be ignored ignored, clear the dictionary\n",
    "    if ignore_missing_residues:\n",
    "        fixer.missingResidues = {}\n",
    "\n",
    "    fixer.findNonstandardResidues()  # find non-standard residue\n",
    "    fixer.replaceNonstandardResidues()  # replace non-standard residues with standard one\n",
    "    fixer.findMissingAtoms()  # find missing heavy atoms\n",
    "    fixer.addMissingAtoms()  # add missing atoms and residues\n",
    "    fixer.addMissingHydrogens(ph)  # add missing hydrogens\n",
    "    return fixer"
   ]
  },
  {
   "cell_type": "code",
   "execution_count": 5,
   "metadata": {},
   "outputs": [],
   "source": [
    "prepare_protein = prepare_protein(\"./protein_rank_10_ligand_complex.pdb\", ignore_missing_residues=False)"
   ]
  },
  {
   "cell_type": "code",
   "execution_count": 6,
   "metadata": {},
   "outputs": [],
   "source": [
    "def prepare_ligand(pdb_file, resname, smiles, depict=True):\n",
    "    \"\"\"\n",
    "    Prepare a ligand from a PDB file via adding hydrogens and assigning bond orders. A depiction\n",
    "    of the ligand before and after preparation is rendered in 2D to allow an inspection of the\n",
    "    results. Huge thanks to @j-wags for the suggestion.\n",
    "\n",
    "    Parameters\n",
    "    ----------\n",
    "    pdb_file: pathlib.PosixPath\n",
    "       PDB file containing the ligand of interest.\n",
    "    resname: str\n",
    "        Three character residue name of the ligand.\n",
    "    smiles : str\n",
    "        SMILES string of the ligand informing about correct protonation and bond orders.\n",
    "    depict: bool, optional\n",
    "        show a 2D representation of the ligand\n",
    "\n",
    "    Returns\n",
    "    -------\n",
    "    prepared_ligand: rdkit.Chem.rdchem.Mol\n",
    "        Prepared ligand.\n",
    "    \"\"\"\n",
    "    # split molecule\n",
    "    rdkit_mol = Chem.MolFromPDBFile(str(pdb_file), proximityBonding=True, sanitize=False)\n",
    "    print(rdkit_mol)\n",
    "    rdkit_mol_split = Chem.rdmolops.SplitMolByPDBResidues(rdkit_mol)\n",
    "\n",
    "    # extract the ligand and remove any already present hydrogens\n",
    "    ligand = rdkit_mol_split[resname]\n",
    "    ligand = Chem.RemoveHs(ligand)\n",
    "\n",
    "    # assign bond orders from template\n",
    "    reference_mol = Chem.MolFromSmiles(smiles)\n",
    "    prepared_ligand = AllChem.AssignBondOrdersFromTemplate(reference_mol, ligand)\n",
    "    prepared_ligand.AddConformer(ligand.GetConformer(0))\n",
    "\n",
    "    # protonate ligand\n",
    "    prepared_ligand = Chem.rdmolops.AddHs(prepared_ligand, addCoords=True)\n",
    "    prepared_ligand = Chem.MolFromMolBlock(Chem.MolToMolBlock(prepared_ligand))\n",
    "\n",
    "    # 2D depiction\n",
    "    if depict:\n",
    "        ligand_2d = copy.deepcopy(ligand)\n",
    "        prepared_ligand_2d = copy.deepcopy(prepared_ligand)\n",
    "        AllChem.Compute2DCoords(ligand_2d)\n",
    "        AllChem.Compute2DCoords(prepared_ligand_2d)\n",
    "        display(\n",
    "            Draw.MolsToGridImage(\n",
    "                [ligand_2d, prepared_ligand_2d], molsPerRow=2, legends=[\"original\", \"prepared\"]\n",
    "            )\n",
    "        )\n",
    "\n",
    "    # return ligand\n",
    "    return prepared_ligand"
   ]
  },
  {
   "cell_type": "code",
   "execution_count": 7,
   "metadata": {},
   "outputs": [],
   "source": [
    "pdb_path = \"./protein_rank_10_ligand_complex.pdb\"\n",
    "ligand_name = \"UNL\"\n",
    "smiles = \"Cc1cc(NC(=O)N2CCN(CCOc3ccccc3)CC2)ccc1Br\""
   ]
  },
  {
   "cell_type": "code",
   "execution_count": 8,
   "metadata": {},
   "outputs": [
    {
     "name": "stdout",
     "output_type": "stream",
     "text": [
      "<rdkit.Chem.rdchem.Mol object at 0x7fdf4963de40>\n"
     ]
    },
    {
     "name": "stderr",
     "output_type": "stream",
     "text": [
      "[13:39:23] WARNING: More than one matching pattern found - picking one\n",
      "\n"
     ]
    },
    {
     "data": {
      "image/png": "[encoded data removed]",
      "text/plain": [
       "<IPython.core.display.Image object>"
      ]
     },
     "metadata": {},
     "output_type": "display_data"
    }
   ],
   "source": [
    "rdkit_ligand = prepare_ligand(pdb_path, ligand_name, smiles)"
   ]
  },
  {
   "cell_type": "code",
   "execution_count": 9,
   "metadata": {},
   "outputs": [],
   "source": [
    "def rdkit_to_openmm(rdkit_mol, name=\"LIG\"):\n",
    "    \"\"\"\n",
    "    Convert an RDKit molecule to an OpenMM molecule.\n",
    "    Inspired by @hannahbrucemcdonald and @glass-w.\n",
    "\n",
    "    Parameters\n",
    "    ----------\n",
    "    rdkit_mol: rdkit.Chem.rdchem.Mol\n",
    "        RDKit molecule to convert.\n",
    "    name: str\n",
    "        Molecule name.\n",
    "\n",
    "    Returns\n",
    "    -------\n",
    "    omm_molecule: openmm.app.Modeller\n",
    "        OpenMM modeller object holding the molecule of interest.\n",
    "    \"\"\"\n",
    "    # convert RDKit to OpenFF\n",
    "    off_mol = Molecule.from_rdkit(rdkit_mol)\n",
    "    #print(off_mol)\n",
    "\n",
    "    # add name for molecule\n",
    "    off_mol.name = name\n",
    "    #print(off_mol.name)\n",
    "\n",
    "    # add names for atoms\n",
    "    element_counter_dict = {}\n",
    "    for off_atom, rdkit_atom in zip(off_mol.atoms, rdkit_mol.GetAtoms()):\n",
    "        element = rdkit_atom.GetSymbol()\n",
    "        if element in element_counter_dict.keys():\n",
    "            element_counter_dict[element] += 1\n",
    "        else:\n",
    "            element_counter_dict[element] = 1\n",
    "        off_atom.name = element + str(element_counter_dict[element])\n",
    "    #print(element_counter_dict)\n",
    "\n",
    "    # convert from OpenFF to OpenMM\n",
    "    off_mol_topology = off_mol.to_topology()\n",
    "    mol_topology = off_mol_topology.to_openmm()\n",
    "    #print(mol_topology)\n",
    "    mol_positions = off_mol.conformers[0]\n",
    "    #print(mol_positions)\n",
    "\n",
    "    # convert units from Ångström to nanometers\n",
    "    # since OpenMM works in nm\n",
    "    mol_positions = mol_positions.to(\"nanometers\")\n",
    "    #print(mol_positions)\n",
    "\n",
    "    # combine topology and positions in modeller object\n",
    "    omm_mol = app.Modeller(mol_topology, mol_positions)\n",
    "\n",
    "    return omm_mol"
   ]
  },
  {
   "cell_type": "code",
   "execution_count": 10,
   "metadata": {},
   "outputs": [],
   "source": [
    "omm_ligand = rdkit_to_openmm(rdkit_ligand, ligand_name)"
   ]
  },
  {
   "cell_type": "code",
   "execution_count": 11,
   "metadata": {},
   "outputs": [],
   "source": [
    "def merge_protein_and_ligand(protein, ligand):\n",
    "    \"\"\"\n",
    "    Merge two OpenMM objects.\n",
    "\n",
    "    Parameters\n",
    "    ----------\n",
    "    protein: pdbfixer.pdbfixer.PDBFixer\n",
    "        Protein to merge.\n",
    "    ligand: openmm.app.Modeller\n",
    "        Ligand to merge.\n",
    "\n",
    "    Returns\n",
    "    -------\n",
    "    complex_topology: openmm.app.topology.Topology\n",
    "        The merged topology.\n",
    "    complex_positions: openmm.unit.quantity.Quantity\n",
    "        The merged positions.\n",
    "    \"\"\"\n",
    "    # combine topologies\n",
    "    md_protein_topology = md.Topology.from_openmm(protein.topology)  # using mdtraj for protein top\n",
    "    #print(md_protein_topology)\n",
    "    md_ligand_topology = md.Topology.from_openmm(ligand.topology)  # using mdtraj for ligand top\n",
    "    #print(md_ligand_topology)\n",
    "    md_complex_topology = md_protein_topology.join(md_ligand_topology)  # add them together\n",
    "    #print(md_complex_topology)\n",
    "    complex_topology = md_complex_topology.to_openmm()\n",
    "    #print(complex_topology)\n",
    "\n",
    "    # combine positions\n",
    "    total_atoms = len(protein.positions) + len(ligand.positions)\n",
    "\n",
    "    # create an array for storing all atom positions as tupels containing a value and a unit\n",
    "    # called OpenMM Quantities\n",
    "    complex_positions = unit.Quantity(np.zeros([total_atoms, 3]), unit=unit.nanometers)\n",
    "    complex_positions[: len(protein.positions)] = protein.positions  # add protein positions\n",
    "    complex_positions[len(protein.positions) :] = ligand.positions  # add ligand positions\n",
    "\n",
    "    return complex_topology, complex_positions"
   ]
  },
  {
   "cell_type": "code",
   "execution_count": 12,
   "metadata": {},
   "outputs": [],
   "source": [
    "complex_topology, complex_positions = merge_protein_and_ligand(prepare_protein, omm_ligand)"
   ]
  },
  {
   "cell_type": "code",
   "execution_count": 13,
   "metadata": {},
   "outputs": [
    {
     "name": "stdout",
     "output_type": "stream",
     "text": [
      "Complex topology has 4211 atoms.\n"
     ]
    }
   ],
   "source": [
    "print(\"Complex topology has\", complex_topology.getNumAtoms(), \"atoms.\")\n",
    "# NBVAL_CHECK_OUTPUT"
   ]
  },
  {
   "cell_type": "code",
   "execution_count": 14,
   "metadata": {},
   "outputs": [],
   "source": [
    "def generate_forcefield(\n",
    "    rdkit_mol=None, protein_ff=\"amber14-all.xml\", solvent_ff=\"amber14/tip3pfb.xml\"\n",
    "):\n",
    "    \"\"\"\n",
    "    Generate an OpenMM Forcefield object and register a small molecule.\n",
    "\n",
    "    Parameters\n",
    "    ----------\n",
    "    rdkit_mol: rdkit.Chem.rdchem.Mol\n",
    "        Small molecule to register in the force field.\n",
    "    protein_ff: string\n",
    "        Name of the force field.\n",
    "    solvent_ff: string\n",
    "        Name of the solvent force field.\n",
    "\n",
    "    Returns\n",
    "    -------\n",
    "    forcefield: openmm.app.Forcefield\n",
    "        Forcefield with registered small molecule.\n",
    "    \"\"\"\n",
    "    forcefield = app.ForceField(protein_ff, solvent_ff)\n",
    "\n",
    "    if rdkit_mol is not None:\n",
    "        gaff = GAFFTemplateGenerator(\n",
    "            molecules=Molecule.from_rdkit(rdkit_mol, allow_undefined_stereo=True)\n",
    "        )\n",
    "        forcefield.registerTemplateGenerator(gaff.generator)\n",
    "\n",
    "    return forcefield"
   ]
  },
  {
   "cell_type": "code",
   "execution_count": 15,
   "metadata": {},
   "outputs": [],
   "source": [
    "forcefield = generate_forcefield(rdkit_ligand)"
   ]
  },
  {
   "cell_type": "code",
   "execution_count": 16,
   "metadata": {},
   "outputs": [
    {
     "name": "stderr",
     "output_type": "stream",
     "text": [
      "/bin/bash: /home/media/data2/user_home/dbsejrgus226/miniconda3/envs/MD/lib/libtinfo.so.6: no version information available (required by /bin/bash)\n",
      "/bin/bash: /home/media/data2/user_home/dbsejrgus226/miniconda3/envs/MD/lib/libtinfo.so.6: no version information available (required by /bin/bash)\n",
      "/bin/bash: /home/media/data2/user_home/dbsejrgus226/miniconda3/envs/MD/lib/libtinfo.so.6: no version information available (required by /bin/bash)\n",
      "/bin/bash: /home/media/data2/user_home/dbsejrgus226/miniconda3/envs/MD/lib/libtinfo.so.6: no version information available (required by /bin/bash)\n",
      "/bin/bash: /home/media/data2/user_home/dbsejrgus226/miniconda3/envs/MD/lib/libtinfo.so.6: no version information available (required by /bin/bash)\n",
      "/bin/bash: /home/media/data2/user_home/dbsejrgus226/miniconda3/envs/MD/lib/libtinfo.so.6: no version information available (required by /bin/bash)\n"
     ]
    }
   ],
   "source": [
    "modeller = app.Modeller(complex_topology, complex_positions)\n",
    "modeller.addSolvent(forcefield, padding=1.0 * unit.nanometers, ionicStrength=0.15 * unit.molar)"
   ]
  },
  {
   "cell_type": "code",
   "execution_count": 17,
   "metadata": {},
   "outputs": [],
   "source": [
    "system = forcefield.createSystem(modeller.topology, nonbondedMethod=app.PME)\n",
    "integrator = mm.LangevinIntegrator(\n",
    "    300 * unit.kelvin, 1.0 / unit.picoseconds, 2.0 * unit.femtoseconds\n",
    ")\n",
    "simulation = app.Simulation(modeller.topology, system, integrator)\n",
    "simulation.context.setPositions(modeller.positions)"
   ]
  },
  {
   "cell_type": "code",
   "execution_count": 18,
   "metadata": {},
   "outputs": [],
   "source": [
    "simulation.minimizeEnergy()\n",
    "with open(\"topology_10.pdb\", \"w\") as pdb_file:\n",
    "    app.PDBFile.writeFile(\n",
    "        simulation.topology,\n",
    "        simulation.context.getState(getPositions=True, enforcePeriodicBox=True).getPositions(),\n",
    "        file=pdb_file,\n",
    "        keepIds=True,\n",
    "    )"
   ]
  },
  {
   "cell_type": "code",
   "execution_count": 19,
   "metadata": {},
   "outputs": [],
   "source": [
    "# output settings\n",
    "\n",
    "steps = 50000  # corresponds to 100 fs\n",
    "write_interval = 500  # write every 10 fs\n",
    "log_interval = 250  # log progress to stdout every 5 fs\n",
    "simulation.reporters.append(\n",
    "    md.reporters.XTCReporter(file=str(\"trajectory_10.xtc\"), reportInterval=write_interval)\n",
    ")\n",
    "simulation.reporters.append(\n",
    "    app.StateDataReporter(\n",
    "        sys.stdout,\n",
    "        log_interval,\n",
    "        step=True,\n",
    "        potentialEnergy=True,\n",
    "        temperature=True,\n",
    "        progress=True,\n",
    "        remainingTime=True,\n",
    "        speed=True,\n",
    "        totalSteps=steps,\n",
    "        separator=\"\\t\",\n",
    "    )\n",
    ")"
   ]
  },
  {
   "cell_type": "code",
   "execution_count": 20,
   "metadata": {},
   "outputs": [
    {
     "name": "stdout",
     "output_type": "stream",
     "text": [
      "#\"Progress (%)\"\t\"Step\"\t\"Potential Energy (kJ/mole)\"\t\"Temperature (K)\"\t\"Speed (ns/day)\"\t\"Time Remaining\"\n",
      "0.5%\t250\t-866005.799062591\t208.47961061499475\t0\t--\n",
      "1.0%\t500\t-849186.748281341\t242.79003679616363\t142\t1:00\n",
      "1.5%\t750\t-837320.652578216\t265.3011596778641\t144\t0:59\n",
      "2.0%\t1000\t-829660.695546966\t277.93100310306903\t144\t0:58\n",
      "2.5%\t1250\t-824323.285390716\t285.0607272722762\t144\t0:58\n",
      "3.0%\t1500\t-820050.918203216\t290.2086527653236\t144\t0:58\n",
      "3.5%\t1750\t-816980.855703216\t291.4340947372339\t144\t0:57\n",
      "4.0%\t2000\t-816247.974843841\t294.8534088265925\t144\t0:57\n",
      "4.5%\t2250\t-814527.777578216\t295.3813542665599\t144\t0:57\n",
      "5.0%\t2500\t-814035.375234466\t297.8321615808354\t144\t0:57\n",
      "5.5%\t2750\t-814327.449453216\t298.966779014689\t144\t0:56\n",
      "6.0%\t3000\t-813686.541250091\t299.56393612865924\t144\t0:56\n",
      "6.5%\t3250\t-812503.013906341\t298.6879246892924\t144\t0:56\n",
      "7.0%\t3500\t-811803.597890716\t297.78414955923927\t144\t0:55\n",
      "7.5%\t3750\t-813687.322500091\t299.74868800123954\t144\t0:55\n",
      "8.0%\t4000\t-811799.064687591\t300.66114789320284\t144\t0:55\n",
      "8.5%\t4250\t-812207.972890716\t300.1775865264478\t144\t0:54\n",
      "9.0%\t4500\t-811357.859609466\t299.18857787141275\t144\t0:54\n",
      "9.5%\t4750\t-812303.390859466\t300.18806031468023\t144\t0:54\n",
      "10.0%\t5000\t-811520.330312591\t298.2348353581518\t144\t0:54\n",
      "10.5%\t5250\t-811623.031484466\t299.10608113021254\t144\t0:53\n",
      "11.0%\t5500\t-811275.584218841\t298.54875817298364\t144\t0:53\n",
      "11.5%\t5750\t-810083.777578216\t298.17422519471353\t144\t0:53\n",
      "12.0%\t6000\t-811718.996328216\t301.2770939966078\t144\t0:52\n",
      "12.5%\t6250\t-811786.635000091\t301.6372159102106\t144\t0:52\n",
      "13.0%\t6500\t-811751.752187591\t300.5639583671981\t144\t0:52\n",
      "13.5%\t6750\t-812545.201406341\t301.5473434527618\t144\t0:51\n",
      "14.0%\t7000\t-811585.320546966\t299.43865253237243\t144\t0:51\n",
      "14.5%\t7250\t-811966.988515716\t301.3627839704669\t144\t0:51\n",
      "15.0%\t7500\t-812180.010000091\t302.12857581449657\t144\t0:51\n",
      "15.5%\t7750\t-811930.086171966\t300.89802932379973\t144\t0:50\n",
      "16.0%\t8000\t-812124.355703216\t297.6964957515649\t144\t0:50\n",
      "16.5%\t8250\t-812109.677968841\t298.5038101266739\t144\t0:50\n",
      "17.0%\t8500\t-813543.045156341\t301.19499328396466\t144\t0:49\n",
      "17.5%\t8750\t-812658.705312591\t299.6326333131854\t144\t0:49\n",
      "18.0%\t9000\t-811408.631093841\t298.98008979719816\t144\t0:49\n",
      "18.5%\t9250\t-812262.552968841\t299.28422390740496\t144\t0:49\n",
      "19.0%\t9500\t-812924.369375091\t297.75282283636886\t144\t0:48\n",
      "19.5%\t9750\t-813166.269765716\t301.4420175584761\t144\t0:48\n",
      "20.0%\t10000\t-812935.240468841\t299.4345699407195\t144\t0:48\n",
      "20.5%\t10250\t-812669.215078216\t300.52171515643096\t144\t0:47\n",
      "21.0%\t10500\t-812527.795156341\t297.01493375305853\t144\t0:47\n",
      "21.5%\t10750\t-813493.402578216\t300.442761618423\t144\t0:47\n",
      "22.0%\t11000\t-812905.552968841\t300.40695061185124\t144\t0:46\n",
      "22.5%\t11250\t-812145.666250091\t300.1345313175053\t144\t0:46\n",
      "23.0%\t11500\t-811960.328359466\t300.20306337029325\t143\t0:46\n",
      "23.5%\t11750\t-810648.267812591\t300.1317426873186\t144\t0:46\n",
      "24.0%\t12000\t-811386.220937591\t301.4429540973964\t144\t0:45\n",
      "24.5%\t12250\t-811407.326406341\t300.4005991872206\t144\t0:45\n",
      "25.0%\t12500\t-812052.152578216\t301.1478275757187\t144\t0:45\n",
      "25.5%\t12750\t-812434.556875091\t302.362155744785\t144\t0:44\n",
      "26.0%\t13000\t-810798.293203216\t299.2703499277768\t144\t0:44\n",
      "26.5%\t13250\t-810657.398671966\t299.42154757741235\t144\t0:44\n",
      "27.0%\t13500\t-812278.953359466\t301.97751485862193\t144\t0:43\n",
      "27.5%\t13750\t-812320.517812591\t301.17459587758765\t144\t0:43\n",
      "28.0%\t14000\t-812619.138906341\t301.56051190144944\t144\t0:43\n",
      "28.5%\t14250\t-810988.394765716\t300.6559305504686\t143\t0:43\n",
      "29.0%\t14500\t-811411.201406341\t301.216722809938\t143\t0:42\n",
      "29.5%\t14750\t-812040.756093841\t299.1144184083298\t143\t0:42\n",
      "30.0%\t15000\t-811977.521718841\t300.2966172253771\t143\t0:42\n",
      "30.5%\t15250\t-811655.650625091\t302.9420086076974\t143\t0:41\n",
      "31.0%\t15500\t-811556.941640716\t301.2807621260135\t143\t0:41\n",
      "31.5%\t15750\t-810878.201406341\t299.1776390574591\t143\t0:41\n",
      "32.0%\t16000\t-811638.441640716\t301.0650274870447\t143\t0:40\n",
      "32.5%\t16250\t-811777.345937591\t301.56845765607767\t143\t0:40\n",
      "33.0%\t16500\t-811365.896718841\t301.2418594734906\t143\t0:40\n",
      "33.5%\t16750\t-811146.961171966\t299.06953045455293\t143\t0:40\n",
      "34.0%\t17000\t-811723.097890716\t300.5428314695595\t143\t0:39\n",
      "34.5%\t17250\t-811260.867421966\t299.88156906821825\t143\t0:39\n",
      "35.0%\t17500\t-812500.304921966\t301.6386792890398\t143\t0:39\n",
      "35.5%\t17750\t-810903.818593841\t298.985564394917\t143\t0:38\n",
      "36.0%\t18000\t-810780.017812591\t299.3625558819779\t143\t0:38\n",
      "36.5%\t18250\t-810644.978750091\t299.68296919755824\t143\t0:38\n",
      "37.0%\t18500\t-811194.357656341\t298.1737084003174\t143\t0:37\n",
      "37.5%\t18750\t-812412.416250091\t300.1030329237329\t143\t0:37\n",
      "38.0%\t19000\t-812302.367421966\t301.38247030984576\t143\t0:37\n",
      "38.5%\t19250\t-811507.271718841\t301.0798709164216\t143\t0:37\n",
      "39.0%\t19500\t-812612.685781341\t300.5130975870863\t143\t0:36\n",
      "39.5%\t19750\t-812098.129140716\t299.4807228815376\t143\t0:36\n",
      "40.0%\t20000\t-812176.701406341\t301.26867557819696\t143\t0:36\n",
      "40.5%\t20250\t-813127.732656341\t302.54367910582266\t143\t0:35\n",
      "41.0%\t20500\t-811995.515859466\t300.05709746356484\t143\t0:35\n",
      "41.5%\t20750\t-811850.052968841\t299.4304488321595\t143\t0:35\n",
      "42.0%\t21000\t-812015.703359466\t299.30893235342546\t143\t0:34\n",
      "42.5%\t21250\t-812866.937734466\t299.9796384903568\t143\t0:34\n",
      "43.0%\t21500\t-813866.472890716\t302.19368278025985\t143\t0:34\n",
      "43.5%\t21750\t-812478.322500091\t299.9859142034222\t143\t0:34\n",
      "44.0%\t22000\t-813249.396718841\t300.9473256099706\t143\t0:33\n",
      "44.5%\t22250\t-812712.709218841\t299.33045866006034\t143\t0:33\n",
      "45.0%\t22500\t-813322.080312591\t301.185382037877\t143\t0:33\n",
      "45.5%\t22750\t-810991.338125091\t299.55963739455086\t143\t0:32\n",
      "46.0%\t23000\t-810419.213125091\t298.0859052796236\t143\t0:32\n",
      "46.5%\t23250\t-813036.043203216\t301.4632702558245\t143\t0:32\n",
      "47.0%\t23500\t-811786.986562591\t301.23543711319365\t143\t0:31\n",
      "47.5%\t23750\t-811769.093984466\t301.053797244144\t143\t0:31\n",
      "48.0%\t24000\t-810998.558828216\t301.1047231545279\t143\t0:31\n",
      "48.5%\t24250\t-810663.185781341\t299.51879656421465\t143\t0:31\n",
      "49.0%\t24500\t-811086.986562591\t297.7034164260268\t143\t0:30\n",
      "49.5%\t24750\t-811004.437734466\t298.8913745720817\t143\t0:30\n",
      "50.0%\t25000\t-811583.662343841\t301.25172090662005\t143\t0:30\n",
      "50.5%\t25250\t-812077.881093841\t301.8854719712817\t142\t0:30\n",
      "51.0%\t25500\t-813009.816640716\t300.6371147963795\t143\t0:29\n",
      "51.5%\t25750\t-813226.818593841\t301.6954501644571\t141\t0:29\n",
      "52.0%\t26000\t-811761.896718841\t299.3868082214847\t140\t0:29\n",
      "52.5%\t26250\t-812607.879140716\t300.1853709577979\t139\t0:29\n",
      "53.0%\t26500\t-812109.830312591\t301.12797663850745\t138\t0:29\n",
      "53.5%\t26750\t-812919.402578216\t299.9633716944813\t137\t0:29\n",
      "54.0%\t27000\t-813791.619375091\t299.27166066459546\t136\t0:29\n",
      "54.5%\t27250\t-813253.047109466\t299.14084315285373\t134\t0:29\n",
      "55.0%\t27500\t-812799.201406341\t298.6071396038005\t133\t0:29\n",
      "55.5%\t27750\t-814106.408437591\t300.23504151643823\t131\t0:29\n",
      "56.0%\t28000\t-813425.345937591\t297.60109488567934\t129\t0:29\n",
      "56.5%\t28250\t-813811.426015716\t299.7475478483962\t128\t0:29\n",
      "57.0%\t28500\t-813292.418203216\t301.20054926768154\t127\t0:29\n",
      "57.5%\t28750\t-813764.136953216\t302.6888762794736\t125\t0:29\n",
      "58.0%\t29000\t-813643.467031341\t300.9521971116736\t124\t0:29\n",
      "58.5%\t29250\t-813685.498281341\t303.27686798197146\t122\t0:29\n",
      "59.0%\t29500\t-812466.888906341\t299.70652436628717\t121\t0:29\n",
      "59.5%\t29750\t-813705.056875091\t301.9977939239644\t120\t0:29\n",
      "60.0%\t30000\t-812814.140859466\t299.39964471299834\t119\t0:29\n",
      "60.5%\t30250\t-812985.248281341\t300.14849896657495\t118\t0:28\n",
      "61.0%\t30500\t-813202.672109466\t299.2025637099326\t117\t0:28\n",
      "61.5%\t30750\t-813434.646718841\t299.494497804872\t116\t0:28\n",
      "62.0%\t31000\t-814080.662343841\t302.1294567496705\t115\t0:28\n",
      "62.5%\t31250\t-813230.824453216\t299.34832740267075\t114\t0:28\n",
      "63.0%\t31500\t-812780.535390716\t298.8667968929754\t113\t0:28\n",
      "63.5%\t31750\t-811947.726796966\t298.7066309431109\t112\t0:28\n",
      "64.0%\t32000\t-812463.529531341\t301.8291665237788\t111\t0:28\n",
      "64.5%\t32250\t-811802.107656341\t301.3704867464241\t110\t0:27\n",
      "65.0%\t32500\t-811164.508046966\t300.2876843485481\t109\t0:27\n",
      "65.5%\t32750\t-812440.285390716\t301.6474884553116\t108\t0:27\n",
      "66.0%\t33000\t-812418.115468841\t299.5708628680701\t107\t0:27\n",
      "66.5%\t33250\t-812657.035390716\t300.03114524222445\t107\t0:27\n",
      "67.0%\t33500\t-812634.345937591\t300.0909138375419\t106\t0:26\n",
      "67.5%\t33750\t-811523.187734466\t300.3355302488871\t105\t0:26\n",
      "68.0%\t34000\t-810499.291250091\t299.5865974538138\t104\t0:26\n",
      "68.5%\t34250\t-811734.049062591\t298.45895228258263\t104\t0:26\n",
      "69.0%\t34500\t-812316.549062591\t298.33986387226827\t103\t0:25\n",
      "69.5%\t34750\t-811923.385000091\t299.00374485771215\t102\t0:25\n",
      "70.0%\t35000\t-812052.459218841\t301.43253717080796\t102\t0:25\n",
      "70.5%\t35250\t-812624.486562591\t301.1854591515834\t101\t0:25\n",
      "71.0%\t35500\t-812752.576406341\t301.5326532912203\t101\t0:24\n",
      "71.5%\t35750\t-812069.117421966\t302.01998115928217\t99.9\t0:24\n",
      "72.0%\t36000\t-812140.984609466\t299.5811034823219\t99.3\t0:24\n",
      "72.5%\t36250\t-812109.773671966\t301.3428051605402\t98.7\t0:24\n",
      "73.0%\t36500\t-812256.896718841\t300.159113013347\t98.2\t0:23\n",
      "73.5%\t36750\t-811741.347890716\t299.2705724032244\t97.6\t0:23\n",
      "74.0%\t37000\t-813134.168203216\t300.5502186190483\t97.1\t0:23\n",
      "74.5%\t37250\t-812376.676015716\t297.292236409431\t96.6\t0:22\n",
      "75.0%\t37500\t-812645.945546966\t300.93558746002975\t96\t0:22\n",
      "75.5%\t37750\t-812762.086171966\t300.00168976190866\t95.5\t0:22\n",
      "76.0%\t38000\t-812968.443593841\t299.97004860359334\t95\t0:21\n",
      "76.5%\t38250\t-811802.658437591\t299.09952759755936\t94.5\t0:21\n",
      "77.0%\t38500\t-811566.049062591\t302.1714716756449\t94.1\t0:21\n",
      "77.5%\t38750\t-812025.912343841\t302.35520865081037\t93.7\t0:20\n",
      "78.0%\t39000\t-813229.785390716\t302.82830715514564\t93.2\t0:20\n",
      "78.5%\t39250\t-812099.269765716\t299.16640561357514\t92.8\t0:20\n",
      "79.0%\t39500\t-812405.093984466\t300.1374346860648\t92.3\t0:19\n",
      "79.5%\t39750\t-811823.490468841\t300.515442181014\t92\t0:19\n",
      "80.0%\t40000\t-811068.517812591\t299.7666508502388\t91.6\t0:18\n",
      "80.5%\t40250\t-811406.906484466\t298.74075976018764\t91.2\t0:18\n",
      "81.0%\t40500\t-811970.638906341\t299.36024983223183\t90.7\t0:18\n",
      "81.5%\t40750\t-813270.703359466\t301.056610478658\t90.2\t0:17\n",
      "82.0%\t41000\t-812353.146718841\t299.68572592191856\t89.6\t0:17\n",
      "82.5%\t41250\t-811517.744375091\t298.4014941974872\t88.9\t0:17\n",
      "83.0%\t41500\t-812575.088125091\t300.6957558421649\t88.3\t0:16\n",
      "83.5%\t41750\t-812616.031484466\t300.6805479749779\t87.7\t0:16\n",
      "84.0%\t42000\t-813099.935781341\t300.1473675425394\t87.2\t0:15\n",
      "84.5%\t42250\t-812715.853750091\t300.2857863753806\t86.6\t0:15\n",
      "85.0%\t42500\t-813245.574453216\t301.05172410470766\t86\t0:15\n",
      "85.5%\t42750\t-813657.722890716\t302.00065357287696\t85.5\t0:14\n",
      "86.0%\t43000\t-812734.554921966\t299.0100417248601\t85\t0:14\n",
      "86.5%\t43250\t-813681.400625091\t299.6081330671214\t84.5\t0:13\n",
      "87.0%\t43500\t-813294.584218841\t301.1113364833656\t84.1\t0:13\n",
      "87.5%\t43750\t-813252.980703216\t301.1394022913617\t83.6\t0:12\n",
      "88.0%\t44000\t-812533.545156341\t299.5505640959753\t83.1\t0:12\n",
      "88.5%\t44250\t-812616.976796966\t301.54432335743894\t82.7\t0:12\n",
      "89.0%\t44500\t-812335.734609466\t298.09492075423395\t82.3\t0:11\n",
      "89.5%\t44750\t-814290.572500091\t298.14368711372435\t81.8\t0:11\n",
      "90.0%\t45000\t-815028.019765716\t300.81960458081653\t81.4\t0:10\n",
      "90.5%\t45250\t-814914.158437591\t299.86149791581425\t81\t0:10\n",
      "91.0%\t45500\t-814648.431875091\t302.3886249533107\t80.6\t0:09\n",
      "91.5%\t45750\t-814020.883046966\t299.97617806939036\t80.2\t0:09\n",
      "92.0%\t46000\t-813608.252187591\t301.46789447379257\t79.8\t0:08\n",
      "92.5%\t46250\t-812474.709218841\t297.7160152838227\t79.5\t0:08\n",
      "93.0%\t46500\t-814351.636953216\t301.6320803166519\t79.1\t0:07\n",
      "93.5%\t46750\t-812829.148671966\t298.87815226480865\t78.7\t0:07\n",
      "94.0%\t47000\t-813881.386953216\t300.49387664890105\t78.4\t0:06\n",
      "94.5%\t47250\t-813115.070546966\t300.99905177629023\t78\t0:06\n",
      "95.0%\t47500\t-812521.306875091\t299.61512534742\t77.7\t0:05\n",
      "95.5%\t47750\t-813485.986562591\t301.3962987151547\t77.3\t0:05\n",
      "96.0%\t48000\t-813145.092031341\t301.0692050262147\t77\t0:04\n",
      "96.5%\t48250\t-811907.506093841\t299.5717035711565\t76.7\t0:03\n",
      "97.0%\t48500\t-812156.078359466\t302.3285446188693\t76.3\t0:03\n",
      "97.5%\t48750\t-811745.433828216\t300.4872787972001\t76\t0:02\n",
      "98.0%\t49000\t-810944.158437591\t298.24713398276873\t75.7\t0:02\n",
      "98.5%\t49250\t-811781.990468841\t299.74527936103624\t75.4\t0:01\n",
      "99.0%\t49500\t-812026.867421966\t300.79010675839544\t75.2\t0:01\n",
      "99.5%\t49750\t-813179.713125091\t302.75499262884847\t74.9\t0:00\n",
      "100.0%\t50000\t-812279.595937591\t301.1064871701807\t74.6\t0:00\n"
     ]
    }
   ],
   "source": [
    "simulation.context.setVelocitiesToTemperature(300 * unit.kelvin)\n",
    "simulation.step(steps)  # perform the simulation"
   ]
  },
  {
   "cell_type": "code",
   "execution_count": 21,
   "metadata": {},
   "outputs": [
    {
     "name": "stdout",
     "output_type": "stream",
     "text": [
      "os.stat_result(st_mode=33204, st_ino=235276843, st_dev=2080, st_nlink=1, st_uid=1002, st_gid=1002, st_size=18934264, st_atime=1716180161, st_mtime=1716180277, st_ctime=1716180277)\n"
     ]
    }
   ],
   "source": [
    "# Check the trajectory exists and is not empty\n",
    "import os \n",
    "result = \"./trajectory_10.xtc\"\n",
    "file_info = os.stat(result)\n",
    "print(file_info)\n",
    "#result.stat().st_size > 0\n",
    "# NBVAL_CHECK_OUTPUT"
   ]
  },
  {
   "cell_type": "markdown",
   "metadata": {},
   "source": [
    "# Analysis MD Simulation results"
   ]
  },
  {
   "cell_type": "code",
   "execution_count": 22,
   "metadata": {},
   "outputs": [
    {
     "data": {
      "application/vnd.jupyter.widget-view+json": {
       "model_id": "0ff8d6de9a5a40639980cef0205ab561",
       "version_major": 2,
       "version_minor": 0
      },
      "text/plain": []
     },
     "metadata": {},
     "output_type": "display_data"
    }
   ],
   "source": [
    "from pathlib import Path\n",
    "\n",
    "import pandas as pd\n",
    "import numpy as np\n",
    "import matplotlib.pyplot as plt\n",
    "import nglview as nv\n",
    "import MDAnalysis as mda\n",
    "from MDAnalysis.analysis import rms, diffusionmap, align\n",
    "from MDAnalysis.analysis.distances import dist\n",
    "from MDAnalysis.analysis.hydrogenbonds.hbond_analysis import HydrogenBondAnalysis as HBA\n"
   ]
  },
  {
   "cell_type": "code",
   "execution_count": 23,
   "metadata": {},
   "outputs": [],
   "source": [
    "md_universe = mda.Universe(str(\"./topology_10.pdb\"), str(\"./trajectory_10.xtc\"))"
   ]
  },
  {
   "cell_type": "code",
   "execution_count": 24,
   "metadata": {},
   "outputs": [
    {
     "data": {
      "text/plain": [
       "<MDAnalysis.analysis.align.AlignTraj at 0x7fdea3e3e100>"
      ]
     },
     "execution_count": 24,
     "metadata": {},
     "output_type": "execute_result"
    }
   ],
   "source": [
    "# Set trajectory pointer to first frame as reference\n",
    "md_universe.trajectory[0]\n",
    "\n",
    "# in_memory=True is needed to actually modify the loaded trajectory\n",
    "# if the trajectory is too big for memory, one can write out the aligned trajectory and reload it into a new universe\n",
    "alignment = align.AlignTraj(\n",
    "    mobile=md_universe, reference=md_universe, select=\"protein\", in_memory=True\n",
    ")\n",
    "alignment.run()"
   ]
  },
  {
   "cell_type": "code",
   "execution_count": 25,
   "metadata": {},
   "outputs": [],
   "source": [
    "def rmsd_for_atomgroups(universe, selection1, selection2=None):\n",
    "    \"\"\"Calulate the RMSD for selected atom groups.\n",
    "\n",
    "    Parameters\n",
    "    ----------\n",
    "    universe: MDAnalysis.core.universe.Universe\n",
    "        MDAnalysis universe.\n",
    "    selection1: str\n",
    "        Selection string for main atom group, also used during alignment.\n",
    "    selection2: list of str, optional\n",
    "        Selection strings for additional atom groups.\n",
    "\n",
    "    Returns\n",
    "    -------\n",
    "    rmsd_df: pandas.core.frame.DataFrame\n",
    "        DataFrame containing RMSD of the selected atom groups over time.\n",
    "    \"\"\"\n",
    "\n",
    "    universe.trajectory\n",
    "    ref = universe\n",
    "    rmsd_analysis = rms.RMSD(universe, ref, select=selection1, groupselections=selection2)\n",
    "    rmsd_analysis.run()\n",
    "\n",
    "    columns = [selection1, *selection2] if selection2 else [selection1]\n",
    "    #print(rmsd_analysis.results)\n",
    "    #print(rmsd_analysis)\n",
    "    rmsd_df = pd.DataFrame(np.round(rmsd_analysis.results.rmsd[:, 2:], 2), columns=columns)\n",
    "    rmsd_df.index.name = \"time\"\n",
    "    return rmsd_df"
   ]
  },
  {
   "cell_type": "code",
   "execution_count": 26,
   "metadata": {},
   "outputs": [],
   "source": [
    "rmsd = rmsd_for_atomgroups(md_universe, \"backbone\", [\"protein\", \"resname UNK\"])\n",
    "#rmsd[:20]"
   ]
  },
  {
   "cell_type": "code",
   "execution_count": 27,
   "metadata": {},
   "outputs": [
    {
     "data": {
      "text/html": [
       "<div>\n",
       "<style scoped>\n",
       "    .dataframe tbody tr th:only-of-type {\n",
       "        vertical-align: middle;\n",
       "    }\n",
       "\n",
       "    .dataframe tbody tr th {\n",
       "        vertical-align: top;\n",
       "    }\n",
       "\n",
       "    .dataframe thead th {\n",
       "        text-align: right;\n",
       "    }\n",
       "</style>\n",
       "<table border=\"1\" class=\"dataframe\">\n",
       "  <thead>\n",
       "    <tr style=\"text-align: right;\">\n",
       "      <th></th>\n",
       "      <th>backbone</th>\n",
       "      <th>protein</th>\n",
       "      <th>rank_10_ligand</th>\n",
       "    </tr>\n",
       "    <tr>\n",
       "      <th>time</th>\n",
       "      <th></th>\n",
       "      <th></th>\n",
       "      <th></th>\n",
       "    </tr>\n",
       "  </thead>\n",
       "  <tbody>\n",
       "    <tr>\n",
       "      <th>0</th>\n",
       "      <td>0.00</td>\n",
       "      <td>0.00</td>\n",
       "      <td>0.00</td>\n",
       "    </tr>\n",
       "    <tr>\n",
       "      <th>1</th>\n",
       "      <td>0.67</td>\n",
       "      <td>0.90</td>\n",
       "      <td>1.47</td>\n",
       "    </tr>\n",
       "    <tr>\n",
       "      <th>2</th>\n",
       "      <td>0.74</td>\n",
       "      <td>1.05</td>\n",
       "      <td>2.14</td>\n",
       "    </tr>\n",
       "    <tr>\n",
       "      <th>3</th>\n",
       "      <td>0.88</td>\n",
       "      <td>1.19</td>\n",
       "      <td>2.76</td>\n",
       "    </tr>\n",
       "    <tr>\n",
       "      <th>4</th>\n",
       "      <td>0.96</td>\n",
       "      <td>1.27</td>\n",
       "      <td>2.39</td>\n",
       "    </tr>\n",
       "  </tbody>\n",
       "</table>\n",
       "</div>"
      ],
      "text/plain": [
       "      backbone  protein  rank_10_ligand\n",
       "time                                   \n",
       "0         0.00     0.00            0.00\n",
       "1         0.67     0.90            1.47\n",
       "2         0.74     1.05            2.14\n",
       "3         0.88     1.19            2.76\n",
       "4         0.96     1.27            2.39"
      ]
     },
     "execution_count": 27,
     "metadata": {},
     "output_type": "execute_result"
    }
   ],
   "source": [
    "rmsd.rename(columns={\"resname UNK\": \"rank_10_ligand\"}, inplace=True)\n",
    "rmsd.head()"
   ]
  },
  {
   "cell_type": "code",
   "execution_count": 28,
   "metadata": {},
   "outputs": [
    {
     "data": {
      "image/png": "[encoded data removed]",
      "text/plain": [
       "<Figure size 640x480 with 1 Axes>"
      ]
     },
     "metadata": {},
     "output_type": "display_data"
    }
   ],
   "source": [
    "rmsd.plot(title=\"RMSD of protein and ligand\")\n",
    "plt.ylabel(\"RMSD (Å)\");"
   ]
  },
  {
   "cell_type": "code",
   "execution_count": 29,
   "metadata": {},
   "outputs": [],
   "source": [
    "#rmsd.to_csv(\"rank_10_rmsd_results.csv\")"
   ]
  },
  {
   "cell_type": "code",
   "execution_count": null,
   "metadata": {},
   "outputs": [],
   "source": []
  }
 ],
 "metadata": {
  "kernelspec": {
   "display_name": "Python 3",
   "language": "python",
   "name": "python3"
  },
  "language_info": {
   "codemirror_mode": {
    "name": "ipython",
    "version": 3
   },
   "file_extension": ".py",
   "mimetype": "text/x-python",
   "name": "python",
   "nbconvert_exporter": "python",
   "pygments_lexer": "ipython3",
   "version": "3.8.19"
  }
 },
 "nbformat": 4,
 "nbformat_minor": 2
}
