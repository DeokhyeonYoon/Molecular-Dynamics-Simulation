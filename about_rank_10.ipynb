{
 "cells": [
  {
   "cell_type": "markdown",
   "metadata": {},
   "source": [
    "# MD Simultaion "
   ]
  },
  {
   "cell_type": "code",
   "execution_count": 1,
   "metadata": {},
   "outputs": [],
   "source": [
    "import copy\n",
    "from pathlib import Path\n",
    "import sys\n",
    "\n",
    "import requests\n",
    "from IPython.display import display\n",
    "import numpy as np\n",
    "from rdkit import Chem\n",
    "from rdkit.Chem import Draw\n",
    "from rdkit.Chem import AllChem\n",
    "import mdtraj as md\n",
    "import pdbfixer\n",
    "import openmm as mm\n",
    "import openmm.app as app\n",
    "from openmm import unit\n",
    "from openff.toolkit.topology import Molecule, Topology\n",
    "from openmmforcefields.generators import GAFFTemplateGenerator"
   ]
  },
  {
   "cell_type": "code",
   "execution_count": 2,
   "metadata": {},
   "outputs": [],
   "source": [
    "#import warnings\n",
    "\n",
    "# 경고를 무시하도록 설정합니다.\n",
    "#warnings.filterwarnings(\"ignore\", message=\"PDB file is missing resid information.\")\n",
    "#warnings.filterwarnings(\"ignore\", message=\"Reload offsets from trajectory\")\n",
    "#warnings.filterwarnings(\"ignore\", message=\"duplicate atom\")\n",
    "\n",
    "# 나머지 코드 실행"
   ]
  },
  {
   "cell_type": "code",
   "execution_count": 3,
   "metadata": {},
   "outputs": [],
   "source": [
    "import warnings\n",
    "warnings.filterwarnings(\"ignore\")"
   ]
  },
  {
   "cell_type": "code",
   "execution_count": 4,
   "metadata": {},
   "outputs": [],
   "source": [
    "def prepare_protein(\n",
    "    pdb_file, ignore_missing_residues=True, ignore_terminal_missing_residues=True, ph=7.0\n",
    "):\n",
    "    \"\"\"\n",
    "    Use pdbfixer to prepare the protein from a PDB file. Hetero atoms such as ligands are\n",
    "    removed and non-standard residues replaced. Missing atoms to existing residues are added.\n",
    "    Missing residues are ignored by default, but can be included.\n",
    "\n",
    "    Parameters\n",
    "    ----------\n",
    "    pdb_file: pathlib.Path or str\n",
    "        PDB file containing the system to simulate.\n",
    "    ignore_missing_residues: bool, optional\n",
    "        If missing residues should be ignored or built.\n",
    "    ignore_terminal_missing_residues: bool, optional\n",
    "        If missing residues at the beginning and the end of a chain should be ignored or built.\n",
    "    ph: float, optional\n",
    "        pH value used to determine protonation state of residues\n",
    "\n",
    "    Returns\n",
    "    -------\n",
    "    fixer: pdbfixer.pdbfixer.PDBFixer\n",
    "        Prepared protein system.\n",
    "    \"\"\"\n",
    "    fixer = pdbfixer.PDBFixer(str(pdb_file))\n",
    "    fixer.removeHeterogens()  # co-crystallized ligands are unknown to PDBFixer\n",
    "    fixer.findMissingResidues()  # identify missing residues, needed for identification of missing atoms\n",
    "\n",
    "    # if missing terminal residues shall be ignored, remove them from the dictionary\n",
    "    if ignore_terminal_missing_residues:\n",
    "        chains = list(fixer.topology.chains())\n",
    "        keys = fixer.missingResidues.keys()\n",
    "        for key in list(keys):\n",
    "            chain = chains[key[0]]\n",
    "            if key[1] == 0 or key[1] == len(list(chain.residues())):\n",
    "                del fixer.missingResidues[key]\n",
    "\n",
    "    # if all missing residues shall be ignored ignored, clear the dictionary\n",
    "    if ignore_missing_residues:\n",
    "        fixer.missingResidues = {}\n",
    "\n",
    "    fixer.findNonstandardResidues()  # find non-standard residue\n",
    "    fixer.replaceNonstandardResidues()  # replace non-standard residues with standard one\n",
    "    fixer.findMissingAtoms()  # find missing heavy atoms\n",
    "    fixer.addMissingAtoms()  # add missing atoms and residues\n",
    "    fixer.addMissingHydrogens(ph)  # add missing hydrogens\n",
    "    return fixer"
   ]
  },
  {
   "cell_type": "code",
   "execution_count": 5,
   "metadata": {},
   "outputs": [],
   "source": [
    "prepare_protein = prepare_protein(\"./protein_rank_10_complex.pdb\", ignore_missing_residues=False)"
   ]
  },
  {
   "cell_type": "code",
   "execution_count": 6,
   "metadata": {},
   "outputs": [],
   "source": [
    "def prepare_ligand(pdb_file, resname, smiles, depict=True):\n",
    "    \"\"\"\n",
    "    Prepare a ligand from a PDB file via adding hydrogens and assigning bond orders. A depiction\n",
    "    of the ligand before and after preparation is rendered in 2D to allow an inspection of the\n",
    "    results. Huge thanks to @j-wags for the suggestion.\n",
    "\n",
    "    Parameters\n",
    "    ----------\n",
    "    pdb_file: pathlib.PosixPath\n",
    "       PDB file containing the ligand of interest.\n",
    "    resname: str\n",
    "        Three character residue name of the ligand.\n",
    "    smiles : str\n",
    "        SMILES string of the ligand informing about correct protonation and bond orders.\n",
    "    depict: bool, optional\n",
    "        show a 2D representation of the ligand\n",
    "\n",
    "    Returns\n",
    "    -------\n",
    "    prepared_ligand: rdkit.Chem.rdchem.Mol\n",
    "        Prepared ligand.\n",
    "    \"\"\"\n",
    "    # split molecule\n",
    "    rdkit_mol = Chem.MolFromPDBFile(str(pdb_file), proximityBonding=True, sanitize=False)\n",
    "    print(rdkit_mol)\n",
    "    rdkit_mol_split = Chem.rdmolops.SplitMolByPDBResidues(rdkit_mol)\n",
    "\n",
    "    # extract the ligand and remove any already present hydrogens\n",
    "    ligand = rdkit_mol_split[resname]\n",
    "    ligand = Chem.RemoveHs(ligand)\n",
    "\n",
    "    # assign bond orders from template\n",
    "    reference_mol = Chem.MolFromSmiles(smiles)\n",
    "    prepared_ligand = AllChem.AssignBondOrdersFromTemplate(reference_mol, ligand)\n",
    "    prepared_ligand.AddConformer(ligand.GetConformer(0))\n",
    "\n",
    "    # protonate ligand\n",
    "    prepared_ligand = Chem.rdmolops.AddHs(prepared_ligand, addCoords=True)\n",
    "    prepared_ligand = Chem.MolFromMolBlock(Chem.MolToMolBlock(prepared_ligand))\n",
    "\n",
    "    # 2D depiction\n",
    "    if depict:\n",
    "        ligand_2d = copy.deepcopy(ligand)\n",
    "        prepared_ligand_2d = copy.deepcopy(prepared_ligand)\n",
    "        AllChem.Compute2DCoords(ligand_2d)\n",
    "        AllChem.Compute2DCoords(prepared_ligand_2d)\n",
    "        display(\n",
    "            Draw.MolsToGridImage(\n",
    "                [ligand_2d, prepared_ligand_2d], molsPerRow=2, legends=[\"original\", \"prepared\"]\n",
    "            )\n",
    "        )\n",
    "\n",
    "    # return ligand\n",
    "    return prepared_ligand"
   ]
  },
  {
   "cell_type": "code",
   "execution_count": 7,
   "metadata": {},
   "outputs": [],
   "source": [
    "pdb_path = \"./protein_rank_10_complex.pdb\"\n",
    "ligand_name = \"UNL\"\n",
    "smiles = \"COc1ccc(NC(=O)N2CCOCC2)cc1Cl\""
   ]
  },
  {
   "cell_type": "code",
   "execution_count": 8,
   "metadata": {},
   "outputs": [
    {
     "name": "stdout",
     "output_type": "stream",
     "text": [
      "<rdkit.Chem.rdchem.Mol object at 0x7f8fd7fb5c40>\n"
     ]
    },
    {
     "name": "stderr",
     "output_type": "stream",
     "text": [
      "[14:31:28] WARNING: More than one matching pattern found - picking one\n",
      "\n"
     ]
    },
    {
     "data": {
      "image/png": "[encoded data removed]",
      "text/plain": [
       "<IPython.core.display.Image object>"
      ]
     },
     "metadata": {},
     "output_type": "display_data"
    }
   ],
   "source": [
    "rdkit_ligand = prepare_ligand(pdb_path, ligand_name, smiles)"
   ]
  },
  {
   "cell_type": "code",
   "execution_count": 9,
   "metadata": {},
   "outputs": [],
   "source": [
    "def rdkit_to_openmm(rdkit_mol, name=\"LIG\"):\n",
    "    \"\"\"\n",
    "    Convert an RDKit molecule to an OpenMM molecule.\n",
    "    Inspired by @hannahbrucemcdonald and @glass-w.\n",
    "\n",
    "    Parameters\n",
    "    ----------\n",
    "    rdkit_mol: rdkit.Chem.rdchem.Mol\n",
    "        RDKit molecule to convert.\n",
    "    name: str\n",
    "        Molecule name.\n",
    "\n",
    "    Returns\n",
    "    -------\n",
    "    omm_molecule: openmm.app.Modeller\n",
    "        OpenMM modeller object holding the molecule of interest.\n",
    "    \"\"\"\n",
    "    # convert RDKit to OpenFF\n",
    "    off_mol = Molecule.from_rdkit(rdkit_mol)\n",
    "    #print(off_mol)\n",
    "\n",
    "    # add name for molecule\n",
    "    off_mol.name = name\n",
    "    #print(off_mol.name)\n",
    "\n",
    "    # add names for atoms\n",
    "    element_counter_dict = {}\n",
    "    for off_atom, rdkit_atom in zip(off_mol.atoms, rdkit_mol.GetAtoms()):\n",
    "        element = rdkit_atom.GetSymbol()\n",
    "        if element in element_counter_dict.keys():\n",
    "            element_counter_dict[element] += 1\n",
    "        else:\n",
    "            element_counter_dict[element] = 1\n",
    "        off_atom.name = element + str(element_counter_dict[element])\n",
    "    #print(element_counter_dict)\n",
    "\n",
    "    # convert from OpenFF to OpenMM\n",
    "    off_mol_topology = off_mol.to_topology()\n",
    "    mol_topology = off_mol_topology.to_openmm()\n",
    "    #print(mol_topology)\n",
    "    mol_positions = off_mol.conformers[0]\n",
    "    #print(mol_positions)\n",
    "\n",
    "    # convert units from Ångström to nanometers\n",
    "    # since OpenMM works in nm\n",
    "    mol_positions = mol_positions.to(\"nanometers\")\n",
    "    #print(mol_positions)\n",
    "\n",
    "    # combine topology and positions in modeller object\n",
    "    omm_mol = app.Modeller(mol_topology, mol_positions)\n",
    "\n",
    "    return omm_mol"
   ]
  },
  {
   "cell_type": "code",
   "execution_count": 10,
   "metadata": {},
   "outputs": [],
   "source": [
    "omm_ligand = rdkit_to_openmm(rdkit_ligand, ligand_name)"
   ]
  },
  {
   "cell_type": "code",
   "execution_count": 11,
   "metadata": {},
   "outputs": [],
   "source": [
    "def merge_protein_and_ligand(protein, ligand):\n",
    "    \"\"\"\n",
    "    Merge two OpenMM objects.\n",
    "\n",
    "    Parameters\n",
    "    ----------\n",
    "    protein: pdbfixer.pdbfixer.PDBFixer\n",
    "        Protein to merge.\n",
    "    ligand: openmm.app.Modeller\n",
    "        Ligand to merge.\n",
    "\n",
    "    Returns\n",
    "    -------\n",
    "    complex_topology: openmm.app.topology.Topology\n",
    "        The merged topology.\n",
    "    complex_positions: openmm.unit.quantity.Quantity\n",
    "        The merged positions.\n",
    "    \"\"\"\n",
    "    # combine topologies\n",
    "    md_protein_topology = md.Topology.from_openmm(protein.topology)  # using mdtraj for protein top\n",
    "    #print(md_protein_topology)\n",
    "    md_ligand_topology = md.Topology.from_openmm(ligand.topology)  # using mdtraj for ligand top\n",
    "    #print(md_ligand_topology)\n",
    "    md_complex_topology = md_protein_topology.join(md_ligand_topology)  # add them together\n",
    "    #print(md_complex_topology)\n",
    "    complex_topology = md_complex_topology.to_openmm()\n",
    "    #print(complex_topology)\n",
    "\n",
    "    # combine positions\n",
    "    total_atoms = len(protein.positions) + len(ligand.positions)\n",
    "\n",
    "    # create an array for storing all atom positions as tupels containing a value and a unit\n",
    "    # called OpenMM Quantities\n",
    "    complex_positions = unit.Quantity(np.zeros([total_atoms, 3]), unit=unit.nanometers)\n",
    "    complex_positions[: len(protein.positions)] = protein.positions  # add protein positions\n",
    "    complex_positions[len(protein.positions) :] = ligand.positions  # add ligand positions\n",
    "\n",
    "    return complex_topology, complex_positions"
   ]
  },
  {
   "cell_type": "code",
   "execution_count": 12,
   "metadata": {},
   "outputs": [],
   "source": [
    "complex_topology, complex_positions = merge_protein_and_ligand(prepare_protein, omm_ligand)"
   ]
  },
  {
   "cell_type": "code",
   "execution_count": 13,
   "metadata": {},
   "outputs": [
    {
     "name": "stdout",
     "output_type": "stream",
     "text": [
      "Complex topology has 4194 atoms.\n"
     ]
    }
   ],
   "source": [
    "print(\"Complex topology has\", complex_topology.getNumAtoms(), \"atoms.\")\n",
    "# NBVAL_CHECK_OUTPUT"
   ]
  },
  {
   "cell_type": "code",
   "execution_count": 14,
   "metadata": {},
   "outputs": [],
   "source": [
    "def generate_forcefield(\n",
    "    rdkit_mol=None, protein_ff=\"amber14-all.xml\", solvent_ff=\"amber14/tip3pfb.xml\"\n",
    "):\n",
    "    \"\"\"\n",
    "    Generate an OpenMM Forcefield object and register a small molecule.\n",
    "\n",
    "    Parameters\n",
    "    ----------\n",
    "    rdkit_mol: rdkit.Chem.rdchem.Mol\n",
    "        Small molecule to register in the force field.\n",
    "    protein_ff: string\n",
    "        Name of the force field.\n",
    "    solvent_ff: string\n",
    "        Name of the solvent force field.\n",
    "\n",
    "    Returns\n",
    "    -------\n",
    "    forcefield: openmm.app.Forcefield\n",
    "        Forcefield with registered small molecule.\n",
    "    \"\"\"\n",
    "    forcefield = app.ForceField(protein_ff, solvent_ff)\n",
    "\n",
    "    if rdkit_mol is not None:\n",
    "        gaff = GAFFTemplateGenerator(\n",
    "            molecules=Molecule.from_rdkit(rdkit_mol, allow_undefined_stereo=True)\n",
    "        )\n",
    "        forcefield.registerTemplateGenerator(gaff.generator)\n",
    "\n",
    "    return forcefield"
   ]
  },
  {
   "cell_type": "code",
   "execution_count": 15,
   "metadata": {},
   "outputs": [],
   "source": [
    "forcefield = generate_forcefield(rdkit_ligand)"
   ]
  },
  {
   "cell_type": "code",
   "execution_count": 16,
   "metadata": {},
   "outputs": [
    {
     "name": "stderr",
     "output_type": "stream",
     "text": [
      "/bin/bash: /home/media/data2/user_home/dbsejrgus226/miniconda3/envs/MD/lib/libtinfo.so.6: no version information available (required by /bin/bash)\n",
      "/bin/bash: /home/media/data2/user_home/dbsejrgus226/miniconda3/envs/MD/lib/libtinfo.so.6: no version information available (required by /bin/bash)\n",
      "/bin/bash: /home/media/data2/user_home/dbsejrgus226/miniconda3/envs/MD/lib/libtinfo.so.6: no version information available (required by /bin/bash)\n",
      "/bin/bash: /home/media/data2/user_home/dbsejrgus226/miniconda3/envs/MD/lib/libtinfo.so.6: no version information available (required by /bin/bash)\n",
      "/bin/bash: /home/media/data2/user_home/dbsejrgus226/miniconda3/envs/MD/lib/libtinfo.so.6: no version information available (required by /bin/bash)\n",
      "/bin/bash: /home/media/data2/user_home/dbsejrgus226/miniconda3/envs/MD/lib/libtinfo.so.6: no version information available (required by /bin/bash)\n",
      "Warning: importing 'simtk.openmm' is deprecated.  Import 'openmm' instead.\n"
     ]
    }
   ],
   "source": [
    "modeller = app.Modeller(complex_topology, complex_positions)\n",
    "modeller.addSolvent(forcefield, padding=1.5 * unit.nanometers, ionicStrength=0.15 * unit.molar)"
   ]
  },
  {
   "cell_type": "code",
   "execution_count": 17,
   "metadata": {},
   "outputs": [],
   "source": [
    "system = forcefield.createSystem(modeller.topology, nonbondedMethod=app.NoCutoff)\n",
    "integrator = mm.LangevinIntegrator(\n",
    "    309.65 * unit.kelvin, 1.0 / unit.picoseconds, 2.0 * unit.femtoseconds\n",
    ")\n",
    "simulation = app.Simulation(modeller.topology, system, integrator)\n",
    "simulation.context.setPositions(modeller.positions)"
   ]
  },
  {
   "cell_type": "code",
   "execution_count": 18,
   "metadata": {},
   "outputs": [],
   "source": [
    "simulation.minimizeEnergy()\n",
    "with open(\"topology_10.pdb\", \"w\") as pdb_file:\n",
    "    app.PDBFile.writeFile(\n",
    "        simulation.topology,\n",
    "        simulation.context.getState(getPositions=True, enforcePeriodicBox=True).getPositions(),\n",
    "        file=pdb_file,\n",
    "        keepIds=True,\n",
    "    )"
   ]
  },
  {
   "cell_type": "code",
   "execution_count": 19,
   "metadata": {},
   "outputs": [],
   "source": [
    "# output settings\n",
    "\n",
    "steps = 50000  # corresponds to 100 fs\n",
    "write_interval = 500  # write every 10 fs\n",
    "log_interval = 250  # log progress to stdout every 5 fs\n",
    "simulation.reporters.append(\n",
    "    md.reporters.XTCReporter(file=str(\"trajectory_10.xtc\"), reportInterval=write_interval)\n",
    ")\n",
    "simulation.reporters.append(\n",
    "    app.StateDataReporter(\n",
    "        sys.stdout,\n",
    "        log_interval,\n",
    "        step=True,\n",
    "        potentialEnergy=True,\n",
    "        temperature=True,\n",
    "        progress=True,\n",
    "        remainingTime=True,\n",
    "        speed=True,\n",
    "        totalSteps=steps,\n",
    "        separator=\"\\t\",\n",
    "    )\n",
    ")"
   ]
  },
  {
   "cell_type": "code",
   "execution_count": 20,
   "metadata": {},
   "outputs": [
    {
     "name": "stdout",
     "output_type": "stream",
     "text": [
      "#\"Progress (%)\"\t\"Step\"\t\"Potential Energy (kJ/mole)\"\t\"Temperature (K)\"\t\"Speed (ns/day)\"\t\"Time Remaining\"\n",
      "0.5%\t250\t-1038764.25\t210.37716338387267\t0\t--\n",
      "1.0%\t500\t-1016732.125\t248.23999046354248\t2.88\t49:29\n",
      "1.5%\t750\t-1001513.875\t269.68355619443304\t3.22\t44:01\n",
      "2.0%\t1000\t-991948.1875\t283.28663843251525\t3.33\t42:19\n",
      "2.5%\t1250\t-984965.8125\t290.95983783702707\t3.38\t41:33\n",
      "3.0%\t1500\t-979729.25\t295.52086823396394\t3.4\t41:05\n",
      "3.5%\t1750\t-976254.375\t301.55281660019955\t3.42\t40:37\n",
      "4.0%\t2000\t-973875.75\t303.1447125581502\t3.36\t41:10\n",
      "4.5%\t2250\t-972552.25\t305.5676848896048\t3.25\t42:17\n",
      "5.0%\t2500\t-970373.875\t307.7501956718973\t3.14\t43:33\n",
      "5.5%\t2750\t-968365.625\t305.68585375973674\t3.06\t44:32\n",
      "6.0%\t3000\t-966707.25\t306.45674054172605\t2.99\t45:18\n",
      "6.5%\t3250\t-967387.75\t305.2910090478361\t2.91\t46:17\n",
      "7.0%\t3500\t-966690.9375\t306.93812826522236\t2.8\t47:52\n",
      "7.5%\t3750\t-966804.25\t307.994594474188\t2.69\t49:33\n",
      "8.0%\t4000\t-965341.75\t308.39601198551884\t2.58\t51:18\n",
      "8.5%\t4250\t-965508.875\t310.0613625012519\t2.44\t53:53\n",
      "9.0%\t4500\t-965225.375\t309.4491252016258\t2.32\t56:28\n",
      "9.5%\t4750\t-965126.375\t309.9214385121398\t2.22\t58:39\n",
      "10.0%\t5000\t-964506.6875\t310.3021213225875\t2.14\t1:00:37\n",
      "10.5%\t5250\t-964423.625\t308.6177735927416\t2.06\t1:02:32\n",
      "11.0%\t5500\t-963564.125\t306.5291345945353\t1.99\t1:04:15\n",
      "11.5%\t5750\t-965568.1875\t310.9219346287442\t1.94\t1:05:43\n",
      "12.0%\t6000\t-965278.625\t308.9799359292571\t1.89\t1:07:11\n",
      "12.5%\t6250\t-964909.625\t310.5151445646734\t1.84\t1:08:28\n",
      "13.0%\t6500\t-963405.25\t309.7375610146631\t1.8\t1:09:37\n",
      "13.5%\t6750\t-964650.5625\t311.146320349288\t1.76\t1:10:37\n",
      "14.0%\t7000\t-965087.25\t308.869935916758\t1.73\t1:11:37\n",
      "14.5%\t7250\t-965487.5\t310.91206240384173\t1.7\t1:12:31\n",
      "15.0%\t7500\t-965524.3125\t311.6327129300994\t1.67\t1:13:24\n",
      "15.5%\t7750\t-965604.625\t309.3406225180939\t1.64\t1:14:11\n",
      "16.0%\t8000\t-965611.875\t311.0133747030169\t1.62\t1:14:53\n",
      "16.5%\t8250\t-965274.0\t310.77550634724014\t1.59\t1:15:30\n",
      "17.0%\t8500\t-965056.25\t311.1625563332769\t1.57\t1:16:02\n",
      "17.5%\t8750\t-964074.4375\t310.4179380177621\t1.55\t1:16:33\n",
      "18.0%\t9000\t-964734.0\t310.1041314974249\t1.53\t1:17:01\n",
      "18.5%\t9250\t-964344.5625\t309.1471064636384\t1.52\t1:17:23\n",
      "19.0%\t9500\t-963830.4375\t310.7272082537199\t1.5\t1:17:44\n",
      "19.5%\t9750\t-964945.5\t310.9520146274064\t1.49\t1:18:00\n",
      "20.0%\t10000\t-964009.875\t308.80920714714165\t1.47\t1:18:15\n",
      "20.5%\t10250\t-963773.5\t310.3818691930877\t1.46\t1:18:26\n",
      "21.0%\t10500\t-964515.5625\t309.68013091770933\t1.45\t1:18:35\n",
      "21.5%\t10750\t-966092.625\t309.9132912536311\t1.44\t1:18:42\n",
      "22.0%\t11000\t-966304.125\t308.6158831234755\t1.43\t1:18:46\n",
      "22.5%\t11250\t-967639.4375\t309.9837016365399\t1.42\t1:18:48\n",
      "23.0%\t11500\t-967233.6875\t309.26990876237915\t1.41\t1:18:49\n",
      "23.5%\t11750\t-967777.5\t310.2272714165\t1.4\t1:18:47\n",
      "24.0%\t12000\t-966835.8125\t308.6490289941192\t1.39\t1:18:45\n",
      "24.5%\t12250\t-967233.25\t308.6095135366662\t1.38\t1:18:40\n",
      "25.0%\t12500\t-965659.6875\t306.7465531882374\t1.37\t1:18:34\n",
      "25.5%\t12750\t-967353.0\t308.7552622209731\t1.37\t1:18:27\n",
      "26.0%\t13000\t-966516.25\t308.4620168814749\t1.36\t1:18:19\n",
      "26.5%\t13250\t-966553.625\t309.8105924334158\t1.35\t1:18:09\n",
      "27.0%\t13500\t-967641.4375\t308.58920619555\t1.35\t1:17:59\n",
      "27.5%\t13750\t-966978.1875\t308.9348696541912\t1.34\t1:17:47\n",
      "28.0%\t14000\t-968773.3125\t309.39743038628694\t1.34\t1:17:34\n",
      "28.5%\t14250\t-968297.4375\t307.69732407976363\t1.33\t1:17:20\n",
      "29.0%\t14500\t-967133.0\t307.83053187250124\t1.33\t1:17:06\n",
      "29.5%\t14750\t-968398.75\t309.50024064534256\t1.32\t1:16:50\n",
      "30.0%\t15000\t-968402.4375\t311.04544094712764\t1.32\t1:16:34\n",
      "30.5%\t15250\t-967362.0\t309.91227749221537\t1.31\t1:16:16\n",
      "31.0%\t15500\t-964817.625\t307.69338658260375\t1.31\t1:15:42\n",
      "31.5%\t15750\t-966266.625\t309.8280426433734\t1.32\t1:14:29\n",
      "32.0%\t16000\t-966961.625\t312.3683146468444\t1.34\t1:13:18\n",
      "32.5%\t16250\t-965285.1875\t310.5797116097063\t1.35\t1:12:09\n",
      "33.0%\t16500\t-966551.125\t310.6936522319523\t1.36\t1:11:01\n",
      "33.5%\t16750\t-964941.0625\t309.5146202339431\t1.37\t1:09:55\n",
      "34.0%\t17000\t-966478.25\t310.47793826525094\t1.38\t1:08:51\n",
      "34.5%\t17250\t-965883.5\t310.6185633679684\t1.39\t1:07:48\n",
      "35.0%\t17500\t-965367.9375\t310.131212266386\t1.4\t1:06:46\n",
      "35.5%\t17750\t-965930.3125\t308.7802204926044\t1.41\t1:05:46\n",
      "36.0%\t18000\t-966805.25\t308.7713013982675\t1.42\t1:04:46\n",
      "36.5%\t18250\t-968024.0\t309.74751474966047\t1.43\t1:03:49\n",
      "37.0%\t18500\t-968066.6875\t310.7620128608713\t1.44\t1:02:52\n",
      "37.5%\t18750\t-967884.5625\t309.3737628166807\t1.45\t1:01:56\n",
      "38.0%\t19000\t-968215.8125\t310.81771749326623\t1.46\t1:01:02\n",
      "38.5%\t19250\t-967411.125\t309.01612376036474\t1.47\t1:00:09\n",
      "39.0%\t19500\t-966946.5\t309.70468551491143\t1.48\t59:16\n",
      "39.5%\t19750\t-967895.0625\t311.1345644268996\t1.49\t58:25\n",
      "40.0%\t20000\t-966904.625\t309.2842760421064\t1.5\t57:34\n",
      "40.5%\t20250\t-966623.125\t310.0133206712775\t1.51\t56:45\n",
      "41.0%\t20500\t-967578.4375\t308.6694695015273\t1.52\t55:56\n",
      "41.5%\t20750\t-970309.75\t310.2861737141736\t1.53\t55:08\n",
      "42.0%\t21000\t-969281.25\t307.28229024178\t1.54\t54:21\n",
      "42.5%\t21250\t-969333.1875\t308.40158736007277\t1.55\t53:35\n",
      "43.0%\t21500\t-968969.0625\t310.5199638505753\t1.55\t52:49\n",
      "43.5%\t21750\t-968909.0625\t310.3481983404955\t1.56\t52:04\n",
      "44.0%\t22000\t-967983.375\t309.7388118988096\t1.57\t51:20\n",
      "44.5%\t22250\t-967192.25\t309.2366145290261\t1.58\t50:37\n",
      "45.0%\t22500\t-968160.0\t310.19550983551267\t1.59\t49:54\n",
      "45.5%\t22750\t-968435.0625\t309.9474829391177\t1.6\t49:11\n",
      "46.0%\t23000\t-967461.875\t308.8777047227112\t1.6\t48:30\n",
      "46.5%\t23250\t-968342.75\t309.98664583614135\t1.61\t47:49\n",
      "47.0%\t23500\t-968083.625\t309.4337947994884\t1.62\t47:08\n",
      "47.5%\t23750\t-967365.875\t310.9660606048124\t1.63\t46:28\n",
      "48.0%\t24000\t-967648.625\t311.2011531680121\t1.63\t45:49\n",
      "48.5%\t24250\t-967410.0\t310.5163892827301\t1.64\t45:10\n",
      "49.0%\t24500\t-967501.875\t307.37415570472365\t1.65\t44:31\n",
      "49.5%\t24750\t-969319.3125\t308.57661393910064\t1.66\t43:53\n",
      "50.0%\t25000\t-968443.0625\t306.6860208898379\t1.66\t43:16\n",
      "50.5%\t25250\t-968675.4375\t309.21267849366114\t1.67\t42:39\n",
      "51.0%\t25500\t-970346.0625\t308.33437449451\t1.68\t42:02\n",
      "51.5%\t25750\t-969711.75\t310.4274477872733\t1.69\t41:26\n",
      "52.0%\t26000\t-968960.5\t309.3539418724507\t1.69\t40:51\n",
      "52.5%\t26250\t-969646.5625\t310.55539455846116\t1.7\t40:15\n",
      "53.0%\t26500\t-968077.0\t310.0246652669559\t1.71\t39:40\n",
      "53.5%\t26750\t-966322.875\t309.588834456648\t1.71\t39:06\n",
      "54.0%\t27000\t-967273.125\t311.72895465811524\t1.72\t38:32\n",
      "54.5%\t27250\t-967425.125\t310.79194804478624\t1.73\t37:57\n",
      "55.0%\t27500\t-966524.0625\t311.2920107857228\t1.74\t37:19\n",
      "55.5%\t27750\t-967556.625\t312.9494054287345\t1.75\t36:42\n",
      "56.0%\t28000\t-967157.5\t311.9469296865992\t1.76\t36:06\n",
      "56.5%\t28250\t-966534.5\t309.3672066084219\t1.76\t35:29\n",
      "57.0%\t28500\t-966111.875\t309.51133774317884\t1.77\t34:54\n",
      "57.5%\t28750\t-965716.5\t310.5289148355415\t1.78\t34:19\n",
      "58.0%\t29000\t-965994.75\t310.6654224244452\t1.79\t33:44\n",
      "58.5%\t29250\t-967883.875\t312.85868166482237\t1.8\t33:10\n",
      "59.0%\t29500\t-967934.1875\t310.2294807939251\t1.81\t32:36\n",
      "59.5%\t29750\t-967830.875\t309.68610124156675\t1.82\t32:02\n",
      "60.0%\t30000\t-967509.9375\t308.59395356847745\t1.83\t31:29\n",
      "60.5%\t30250\t-967108.125\t310.4813780612471\t1.84\t30:57\n",
      "61.0%\t30500\t-968152.75\t309.0231034482733\t1.85\t30:25\n",
      "61.5%\t30750\t-967814.6875\t310.1048391949749\t1.86\t29:53\n",
      "62.0%\t31000\t-966926.875\t309.34531015193164\t1.86\t29:21\n",
      "62.5%\t31250\t-967271.5\t309.5551220273299\t1.87\t28:50\n",
      "63.0%\t31500\t-965932.8125\t308.50340719092753\t1.88\t28:19\n",
      "63.5%\t31750\t-967554.75\t312.1072483521751\t1.89\t27:49\n",
      "64.0%\t32000\t-967168.625\t311.9553135845514\t1.89\t27:21\n",
      "64.5%\t32250\t-966957.5\t310.0064794949378\t1.9\t26:56\n",
      "65.0%\t32500\t-967974.625\t309.991638241922\t1.9\t26:32\n",
      "65.5%\t32750\t-968023.75\t311.9328485885204\t1.9\t26:10\n",
      "66.0%\t33000\t-968215.0\t311.14526604347714\t1.9\t25:49\n",
      "66.5%\t33250\t-966659.6875\t309.10456610961654\t1.89\t25:28\n",
      "67.0%\t33500\t-967800.4375\t311.74996001901025\t1.89\t25:07\n",
      "67.5%\t33750\t-968754.25\t312.0255162047734\t1.89\t24:45\n",
      "68.0%\t34000\t-969281.875\t309.0943248066683\t1.89\t24:24\n",
      "68.5%\t34250\t-968711.9375\t308.16342355027086\t1.89\t24:02\n",
      "69.0%\t34500\t-969284.5625\t310.7102241955181\t1.88\t23:42\n",
      "69.5%\t34750\t-969345.0\t310.44073286068027\t1.88\t23:24\n",
      "70.0%\t35000\t-969766.25\t308.785497857708\t1.87\t23:07\n",
      "70.5%\t35250\t-971585.9375\t308.0671894240973\t1.86\t22:50\n",
      "71.0%\t35500\t-971485.75\t311.3500336958799\t1.85\t22:34\n",
      "71.5%\t35750\t-968992.125\t310.1196683571062\t1.84\t22:18\n",
      "72.0%\t36000\t-969060.5\t308.9488739922143\t1.83\t22:02\n",
      "72.5%\t36250\t-968110.625\t308.96552618522423\t1.82\t21:45\n",
      "73.0%\t36500\t-968000.8125\t309.27116286920386\t1.81\t21:29\n",
      "73.5%\t36750\t-967445.5625\t308.04264865052284\t1.8\t21:12\n",
      "74.0%\t37000\t-968902.625\t309.5985913049835\t1.79\t20:54\n",
      "74.5%\t37250\t-969394.375\t310.85305734509467\t1.78\t20:37\n",
      "75.0%\t37500\t-968356.0\t309.5981750910478\t1.77\t20:19\n",
      "75.5%\t37750\t-967626.1875\t309.74705913263125\t1.76\t20:01\n",
      "76.0%\t38000\t-968201.625\t310.18965971145343\t1.75\t19:42\n",
      "76.5%\t38250\t-968543.25\t310.3904510631167\t1.74\t19:24\n",
      "77.0%\t38500\t-968169.5625\t311.3488946794219\t1.74\t19:05\n",
      "77.5%\t38750\t-969048.75\t311.02002721528066\t1.73\t18:45\n",
      "78.0%\t39000\t-968385.0\t308.3246771862794\t1.72\t18:26\n",
      "78.5%\t39250\t-968834.75\t308.61487199274916\t1.71\t18:06\n",
      "79.0%\t39500\t-968549.5\t310.0471632241429\t1.7\t17:46\n",
      "79.5%\t39750\t-968574.1875\t309.40098652764465\t1.69\t17:25\n",
      "80.0%\t40000\t-968469.5\t308.056004012522\t1.69\t17:05\n",
      "80.5%\t40250\t-968977.625\t308.3045542812031\t1.68\t16:43\n",
      "81.0%\t40500\t-970503.875\t309.1873485559604\t1.67\t16:22\n",
      "81.5%\t40750\t-969160.0625\t307.2157909626082\t1.66\t16:01\n",
      "82.0%\t41000\t-969451.875\t308.95622361415076\t1.66\t15:39\n",
      "82.5%\t41250\t-968130.625\t307.5159364027618\t1.65\t15:17\n",
      "83.0%\t41500\t-967715.125\t308.8569440371304\t1.64\t14:54\n",
      "83.5%\t41750\t-969736.25\t309.9296928908199\t1.63\t14:32\n",
      "84.0%\t42000\t-968490.5625\t309.81231796108665\t1.63\t14:09\n",
      "84.5%\t42250\t-967938.5\t308.841829779429\t1.62\t13:45\n",
      "85.0%\t42500\t-967825.125\t309.84200575723906\t1.62\t13:22\n",
      "85.5%\t42750\t-967948.125\t310.84289360674524\t1.61\t12:58\n",
      "86.0%\t43000\t-969050.375\t310.67866808496314\t1.6\t12:34\n",
      "86.5%\t43250\t-968706.375\t310.86539529189946\t1.6\t12:10\n",
      "87.0%\t43500\t-968524.4375\t310.6976754053642\t1.59\t11:46\n",
      "87.5%\t43750\t-969297.5625\t309.280065561705\t1.58\t11:21\n",
      "88.0%\t44000\t-969278.0\t309.9470817376826\t1.58\t10:56\n",
      "88.5%\t44250\t-968290.875\t309.2760778994972\t1.57\t10:31\n",
      "89.0%\t44500\t-968426.125\t309.29882256227194\t1.57\t10:06\n",
      "89.5%\t44750\t-968751.25\t308.9781723496592\t1.56\t9:40\n",
      "90.0%\t45000\t-969046.75\t308.6966527543749\t1.56\t9:14\n",
      "90.5%\t45250\t-969138.1875\t309.58733871765963\t1.55\t8:48\n",
      "91.0%\t45500\t-969475.125\t309.22200081121815\t1.55\t8:22\n",
      "91.5%\t45750\t-969898.375\t309.563508106488\t1.54\t7:56\n",
      "92.0%\t46000\t-969177.75\t309.04365435827606\t1.54\t7:29\n",
      "92.5%\t46250\t-968534.875\t309.86278328596524\t1.53\t7:03\n",
      "93.0%\t46500\t-968697.25\t308.15290336962755\t1.53\t6:36\n",
      "93.5%\t46750\t-968655.5\t311.4128135144465\t1.52\t6:08\n",
      "94.0%\t47000\t-968449.75\t311.91353644909117\t1.52\t5:41\n",
      "94.5%\t47250\t-966588.125\t309.9772843088167\t1.51\t5:14\n",
      "95.0%\t47500\t-968074.375\t309.92793107158684\t1.51\t4:46\n",
      "95.5%\t47750\t-968324.9375\t310.17555187224036\t1.5\t4:18\n",
      "96.0%\t48000\t-969829.75\t311.8259869039793\t1.5\t3:50\n",
      "96.5%\t48250\t-967437.5\t308.215173663767\t1.5\t3:22\n",
      "97.0%\t48500\t-969558.375\t310.3066999050449\t1.49\t2:53\n",
      "97.5%\t48750\t-968764.5\t308.81885698138746\t1.49\t2:25\n",
      "98.0%\t49000\t-968961.8125\t307.9230303603208\t1.48\t1:56\n",
      "98.5%\t49250\t-970546.9375\t312.5967530970745\t1.48\t1:27\n",
      "99.0%\t49500\t-968394.375\t308.61884223579807\t1.48\t0:58\n",
      "99.5%\t49750\t-970010.0\t312.2105534099001\t1.47\t0:29\n",
      "100.0%\t50000\t-968452.375\t311.0636749510289\t1.47\t0:00\n"
     ]
    }
   ],
   "source": [
    "simulation.context.setVelocitiesToTemperature(309.65 * unit.kelvin)\n",
    "simulation.step(steps)  # perform the simulation"
   ]
  },
  {
   "cell_type": "code",
   "execution_count": 21,
   "metadata": {},
   "outputs": [
    {
     "name": "stdout",
     "output_type": "stream",
     "text": [
      "os.stat_result(st_mode=33204, st_ino=235276802, st_dev=2080, st_nlink=1, st_uid=1002, st_gid=1002, st_size=23091796, st_atime=1717120668, st_mtime=1717126542, st_ctime=1717126542)\n"
     ]
    }
   ],
   "source": [
    "# Check the trajectory exists and is not empty\n",
    "import os \n",
    "result = \"./trajectory_10.xtc\"\n",
    "file_info = os.stat(result)\n",
    "print(file_info)\n",
    "#result.stat().st_size > 0\n",
    "# NBVAL_CHECK_OUTPUT"
   ]
  },
  {
   "cell_type": "markdown",
   "metadata": {},
   "source": [
    "# Analysis MD Simulation results"
   ]
  },
  {
   "cell_type": "code",
   "execution_count": 22,
   "metadata": {},
   "outputs": [
    {
     "data": {
      "application/vnd.jupyter.widget-view+json": {
       "model_id": "10efc1b5ce6f473e94619ea4ab1f9a2c",
       "version_major": 2,
       "version_minor": 0
      },
      "text/plain": []
     },
     "metadata": {},
     "output_type": "display_data"
    }
   ],
   "source": [
    "from pathlib import Path\n",
    "\n",
    "import pandas as pd\n",
    "import numpy as np\n",
    "import matplotlib.pyplot as plt\n",
    "import nglview as nv\n",
    "import MDAnalysis as mda\n",
    "from MDAnalysis.analysis import rms, diffusionmap, align\n",
    "from MDAnalysis.analysis.distances import dist\n",
    "from MDAnalysis.analysis.hydrogenbonds.hbond_analysis import HydrogenBondAnalysis as HBA\n"
   ]
  },
  {
   "cell_type": "code",
   "execution_count": 23,
   "metadata": {},
   "outputs": [],
   "source": [
    "md_universe = mda.Universe(str(\"./topology_10.pdb\"), str(\"./trajectory_10.xtc\"))"
   ]
  },
  {
   "cell_type": "code",
   "execution_count": 24,
   "metadata": {},
   "outputs": [
    {
     "data": {
      "text/plain": [
       "<MDAnalysis.analysis.align.AlignTraj at 0x7f295c2abbe0>"
      ]
     },
     "execution_count": 24,
     "metadata": {},
     "output_type": "execute_result"
    }
   ],
   "source": [
    "# Set trajectory pointer to first frame as reference\n",
    "md_universe.trajectory[0]\n",
    "\n",
    "# in_memory=True is needed to actually modify the loaded trajectory\n",
    "# if the trajectory is too big for memory, one can write out the aligned trajectory and reload it into a new universe\n",
    "alignment = align.AlignTraj(\n",
    "    mobile=md_universe, reference=md_universe, select=\"protein\", in_memory=True\n",
    ")\n",
    "alignment.run()"
   ]
  },
  {
   "cell_type": "code",
   "execution_count": 25,
   "metadata": {},
   "outputs": [],
   "source": [
    "def rmsd_for_atomgroups(universe, selection1, selection2=None):\n",
    "    \"\"\"Calulate the RMSD for selected atom groups.\n",
    "\n",
    "    Parameters\n",
    "    ----------\n",
    "    universe: MDAnalysis.core.universe.Universe\n",
    "        MDAnalysis universe.\n",
    "    selection1: str\n",
    "        Selection string for main atom group, also used during alignment.\n",
    "    selection2: list of str, optional\n",
    "        Selection strings for additional atom groups.\n",
    "\n",
    "    Returns\n",
    "    -------\n",
    "    rmsd_df: pandas.core.frame.DataFrame\n",
    "        DataFrame containing RMSD of the selected atom groups over time.\n",
    "    \"\"\"\n",
    "\n",
    "    universe.trajectory\n",
    "    ref = universe\n",
    "    rmsd_analysis = rms.RMSD(universe, ref, select=selection1, groupselections=selection2)\n",
    "    rmsd_analysis.run()\n",
    "\n",
    "    columns = [selection1, *selection2] if selection2 else [selection1]\n",
    "    #print(rmsd_analysis.results)\n",
    "    #print(rmsd_analysis)\n",
    "    rmsd_df = pd.DataFrame(np.round(rmsd_analysis.results.rmsd[:, 2:], 2), columns=columns)\n",
    "    rmsd_df.index.name = \"time\"\n",
    "    return rmsd_df"
   ]
  },
  {
   "cell_type": "code",
   "execution_count": 26,
   "metadata": {},
   "outputs": [],
   "source": [
    "rmsd = rmsd_for_atomgroups(md_universe, \"backbone\", [\"protein\", \"resname UNK\"])\n",
    "#rmsd[:20]"
   ]
  },
  {
   "cell_type": "code",
   "execution_count": 27,
   "metadata": {},
   "outputs": [
    {
     "data": {
      "text/html": [
       "<div>\n",
       "<style scoped>\n",
       "    .dataframe tbody tr th:only-of-type {\n",
       "        vertical-align: middle;\n",
       "    }\n",
       "\n",
       "    .dataframe tbody tr th {\n",
       "        vertical-align: top;\n",
       "    }\n",
       "\n",
       "    .dataframe thead th {\n",
       "        text-align: right;\n",
       "    }\n",
       "</style>\n",
       "<table border=\"1\" class=\"dataframe\">\n",
       "  <thead>\n",
       "    <tr style=\"text-align: right;\">\n",
       "      <th></th>\n",
       "      <th>backbone</th>\n",
       "      <th>protein</th>\n",
       "      <th>rank_10_ligand</th>\n",
       "    </tr>\n",
       "    <tr>\n",
       "      <th>time</th>\n",
       "      <th></th>\n",
       "      <th></th>\n",
       "      <th></th>\n",
       "    </tr>\n",
       "  </thead>\n",
       "  <tbody>\n",
       "    <tr>\n",
       "      <th>0</th>\n",
       "      <td>0.00</td>\n",
       "      <td>0.00</td>\n",
       "      <td>0.00</td>\n",
       "    </tr>\n",
       "    <tr>\n",
       "      <th>1</th>\n",
       "      <td>0.57</td>\n",
       "      <td>0.77</td>\n",
       "      <td>0.60</td>\n",
       "    </tr>\n",
       "    <tr>\n",
       "      <th>2</th>\n",
       "      <td>0.73</td>\n",
       "      <td>1.00</td>\n",
       "      <td>1.15</td>\n",
       "    </tr>\n",
       "    <tr>\n",
       "      <th>3</th>\n",
       "      <td>0.74</td>\n",
       "      <td>1.02</td>\n",
       "      <td>1.43</td>\n",
       "    </tr>\n",
       "    <tr>\n",
       "      <th>4</th>\n",
       "      <td>0.83</td>\n",
       "      <td>1.15</td>\n",
       "      <td>1.28</td>\n",
       "    </tr>\n",
       "  </tbody>\n",
       "</table>\n",
       "</div>"
      ],
      "text/plain": [
       "      backbone  protein  rank_10_ligand\n",
       "time                                   \n",
       "0         0.00     0.00            0.00\n",
       "1         0.57     0.77            0.60\n",
       "2         0.73     1.00            1.15\n",
       "3         0.74     1.02            1.43\n",
       "4         0.83     1.15            1.28"
      ]
     },
     "execution_count": 27,
     "metadata": {},
     "output_type": "execute_result"
    }
   ],
   "source": [
    "rmsd.rename(columns={\"resname UNK\": \"rank_10_ligand\"}, inplace=True)\n",
    "rmsd.head()"
   ]
  },
  {
   "cell_type": "code",
   "execution_count": 28,
   "metadata": {},
   "outputs": [
    {
     "data": {
      "image/png": "[encoded data removed]",
      "text/plain": [
       "<Figure size 640x480 with 1 Axes>"
      ]
     },
     "metadata": {},
     "output_type": "display_data"
    }
   ],
   "source": [
    "rmsd.plot(title=\"RMSD of protein and ligand\")\n",
    "plt.xlabel(\"time (ps)\")\n",
    "plt.ylabel(\"RMSD (Å)\");\n",
    "plt.savefig(\"rank10_rmsd_results\")"
   ]
  },
  {
   "cell_type": "code",
   "execution_count": 30,
   "metadata": {},
   "outputs": [],
   "source": [
    "rmsd.to_csv(\"rank_10_rmsd_results.csv\")"
   ]
  },
  {
   "cell_type": "code",
   "execution_count": 1,
   "metadata": {},
   "outputs": [],
   "source": [
    "import MDAnalysis as mda\n",
    "from MDAnalysis.analysis import align\n",
    "import MDAnalysis.transformations as trans\n",
    "from MDAnalysis.analysis.rms import RMSF\n",
    "\n",
    "import matplotlib.pyplot as plt"
   ]
  },
  {
   "cell_type": "code",
   "execution_count": 2,
   "metadata": {},
   "outputs": [
    {
     "name": "stderr",
     "output_type": "stream",
     "text": [
      "Warning: importing 'simtk.openmm' is deprecated.  Import 'openmm' instead.\n",
      "/home/media/data2/user_home/dbsejrgus226/miniconda3/envs/MD/lib/python3.8/site-packages/MDAnalysis/topology/PDBParser.py:276: UserWarning: PDB file is missing resid information.  Defaulted to '1'\n",
      "  warnings.warn(\"PDB file is missing resid information.  \"\n"
     ]
    }
   ],
   "source": [
    "md_universe = mda.Universe(str(\"./topology_10.pdb\"), str(\"./trajectory_10.xtc\"))\n",
    "protein = md_universe.select_atoms(\"protein\")\n",
    "\n",
    "# 1) the current trajectory contains a protein split across\n",
    "#    periodic boundaries, so we first make the protein whole and\n",
    "#    center it in the box using on-the-fly transformations\n",
    "not_protein = md_universe.select_atoms(\"not protein\")\n",
    "transforms = [trans.unwrap(protein),\n",
    "              trans.center_in_box(protein, wrap=True),\n",
    "              trans.wrap(not_protein)]\n",
    "md_universe.trajectory.add_transformations(*transforms)\n",
    "\n",
    "# 2) fit to the initial frame to get a better average structure\n",
    "#    (the trajectory is changed in memory)\n",
    "prealigner = align.AlignTraj(md_universe, md_universe, select=\"protein and name CA\",\n",
    "                             in_memory=True).run()\n",
    "\n",
    "# 3) reference = average structure\n",
    "reference_coordinates = md_universe.trajectory.timeseries(asel=protein).mean(axis=1)\n",
    "# make a reference structure (need to reshape into a 1-frame \"trajectory\")\n",
    "reference = mda.Merge(protein).load_new(\n",
    "    reference_coordinates[:, None, :], order=\"afc\")\n",
    "\n",
    "# We created a new universe reference that contains a single frame with the averaged coordinates of the protein.\n",
    "# Now we need to fit the whole trajectory to the reference by minimizing the RMSD. \n",
    "# We use MDAnalysis.analysis.align.AlignTraj:\n",
    "aligner = align.AlignTraj(md_universe, reference, select=\"protein and name CA\", in_memory=True).run()\n"
   ]
  },
  {
   "cell_type": "code",
   "execution_count": 3,
   "metadata": {},
   "outputs": [],
   "source": [
    "# The trajectory is now fitted to the reference (the RMSD is stored as aligner.rmsd for further inspection). \n",
    "# Now we can calculate the RMSF:\n",
    "calphas = protein.select_atoms(\"name CA\")\n",
    "rmsfer = RMSF(calphas, verbose=False).run()"
   ]
  },
  {
   "cell_type": "code",
   "execution_count": 4,
   "metadata": {},
   "outputs": [
    {
     "name": "stderr",
     "output_type": "stream",
     "text": [
      "/home/media/data2/user_home/dbsejrgus226/miniconda3/envs/MD/lib/python3.8/site-packages/MDAnalysis/analysis/rms.py:877: DeprecationWarning: The `rmsf` attribute was deprecated in MDAnalysis 2.0.0 and will be removed in MDAnalysis 3.0.0. Please use `results.rmsd` instead.\n",
      "  warnings.warn(wmsg, DeprecationWarning)\n"
     ]
    },
    {
     "data": {
      "image/png": "[encoded data removed]",
      "text/plain": [
       "<Figure size 640x480 with 1 Axes>"
      ]
     },
     "metadata": {},
     "output_type": "display_data"
    }
   ],
   "source": [
    "plt.plot(calphas.resnums, rmsfer.rmsf)\n",
    "plt.xlabel(\"Residue number\")\n",
    "plt.ylabel(\"RMSF (nm)\")\n",
    "plt.savefig(\"rank10_rmsf_results.png\")"
   ]
  },
  {
   "cell_type": "code",
   "execution_count": 5,
   "metadata": {},
   "outputs": [
    {
     "name": "stdout",
     "output_type": "stream",
     "text": [
      "258\n",
      "258\n"
     ]
    }
   ],
   "source": [
    "print(len(calphas.resnums))\n",
    "print(len(rmsfer.rmsf))"
   ]
  },
  {
   "cell_type": "code",
   "execution_count": 6,
   "metadata": {},
   "outputs": [
    {
     "data": {
      "text/html": [
       "<div>\n",
       "<style scoped>\n",
       "    .dataframe tbody tr th:only-of-type {\n",
       "        vertical-align: middle;\n",
       "    }\n",
       "\n",
       "    .dataframe tbody tr th {\n",
       "        vertical-align: top;\n",
       "    }\n",
       "\n",
       "    .dataframe thead th {\n",
       "        text-align: right;\n",
       "    }\n",
       "</style>\n",
       "<table border=\"1\" class=\"dataframe\">\n",
       "  <thead>\n",
       "    <tr style=\"text-align: right;\">\n",
       "      <th></th>\n",
       "      <th>residue</th>\n",
       "      <th>rmsf</th>\n",
       "    </tr>\n",
       "  </thead>\n",
       "  <tbody>\n",
       "    <tr>\n",
       "      <th>0</th>\n",
       "      <td>414</td>\n",
       "      <td>1.644806</td>\n",
       "    </tr>\n",
       "    <tr>\n",
       "      <th>1</th>\n",
       "      <td>415</td>\n",
       "      <td>0.689326</td>\n",
       "    </tr>\n",
       "    <tr>\n",
       "      <th>2</th>\n",
       "      <td>416</td>\n",
       "      <td>0.615736</td>\n",
       "    </tr>\n",
       "    <tr>\n",
       "      <th>3</th>\n",
       "      <td>417</td>\n",
       "      <td>0.520653</td>\n",
       "    </tr>\n",
       "    <tr>\n",
       "      <th>4</th>\n",
       "      <td>418</td>\n",
       "      <td>0.611360</td>\n",
       "    </tr>\n",
       "  </tbody>\n",
       "</table>\n",
       "</div>"
      ],
      "text/plain": [
       "   residue      rmsf\n",
       "0      414  1.644806\n",
       "1      415  0.689326\n",
       "2      416  0.615736\n",
       "3      417  0.520653\n",
       "4      418  0.611360"
      ]
     },
     "execution_count": 6,
     "metadata": {},
     "output_type": "execute_result"
    }
   ],
   "source": [
    "import pandas as pd\n",
    "rank10_rmsf_df = pd.DataFrame({\"residue\": calphas.resnums, \"rmsf\": rmsfer.rmsf})\n",
    "rank10_rmsf_df.to_csv(\"rank10_rmsf_results.csv\")\n",
    "rank10_rmsf_df.head()"
   ]
  },
  {
   "cell_type": "code",
   "execution_count": null,
   "metadata": {},
   "outputs": [],
   "source": []
  }
 ],
 "metadata": {
  "kernelspec": {
   "display_name": "Python 3",
   "language": "python",
   "name": "python3"
  },
  "language_info": {
   "codemirror_mode": {
    "name": "ipython",
    "version": 3
   },
   "file_extension": ".py",
   "mimetype": "text/x-python",
   "name": "python",
   "nbconvert_exporter": "python",
   "pygments_lexer": "ipython3",
   "version": "3.8.12"
  }
 },
 "nbformat": 4,
 "nbformat_minor": 2
}
