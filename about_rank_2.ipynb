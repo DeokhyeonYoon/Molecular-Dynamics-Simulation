{
 "cells": [
  {
   "cell_type": "markdown",
   "metadata": {},
   "source": [
    "# MD Simultaion "
   ]
  },
  {
   "cell_type": "code",
   "execution_count": 1,
   "metadata": {},
   "outputs": [],
   "source": [
    "import copy\n",
    "from pathlib import Path\n",
    "import sys\n",
    "\n",
    "import requests\n",
    "from IPython.display import display\n",
    "import numpy as np\n",
    "from rdkit import Chem\n",
    "from rdkit.Chem import Draw\n",
    "from rdkit.Chem import AllChem\n",
    "import mdtraj as md\n",
    "import pdbfixer\n",
    "import openmm as mm\n",
    "import openmm.app as app\n",
    "from openmm import unit\n",
    "from openff.toolkit.topology import Molecule, Topology\n",
    "from openmmforcefields.generators import GAFFTemplateGenerator"
   ]
  },
  {
   "cell_type": "code",
   "execution_count": 2,
   "metadata": {},
   "outputs": [],
   "source": [
    "def prepare_protein(\n",
    "    pdb_file, ignore_missing_residues=True, ignore_terminal_missing_residues=True, ph=7.0\n",
    "):\n",
    "    \"\"\"\n",
    "    Use pdbfixer to prepare the protein from a PDB file. Hetero atoms such as ligands are\n",
    "    removed and non-standard residues replaced. Missing atoms to existing residues are added.\n",
    "    Missing residues are ignored by default, but can be included.\n",
    "\n",
    "    Parameters\n",
    "    ----------\n",
    "    pdb_file: pathlib.Path or str\n",
    "        PDB file containing the system to simulate.\n",
    "    ignore_missing_residues: bool, optional\n",
    "        If missing residues should be ignored or built.\n",
    "    ignore_terminal_missing_residues: bool, optional\n",
    "        If missing residues at the beginning and the end of a chain should be ignored or built.\n",
    "    ph: float, optional\n",
    "        pH value used to determine protonation state of residues\n",
    "\n",
    "    Returns\n",
    "    -------\n",
    "    fixer: pdbfixer.pdbfixer.PDBFixer\n",
    "        Prepared protein system.\n",
    "    \"\"\"\n",
    "    fixer = pdbfixer.PDBFixer(str(pdb_file))\n",
    "    fixer.removeHeterogens()  # co-crystallized ligands are unknown to PDBFixer\n",
    "    fixer.findMissingResidues()  # identify missing residues, needed for identification of missing atoms\n",
    "\n",
    "    # if missing terminal residues shall be ignored, remove them from the dictionary\n",
    "    if ignore_terminal_missing_residues:\n",
    "        chains = list(fixer.topology.chains())\n",
    "        keys = fixer.missingResidues.keys()\n",
    "        for key in list(keys):\n",
    "            chain = chains[key[0]]\n",
    "            if key[1] == 0 or key[1] == len(list(chain.residues())):\n",
    "                del fixer.missingResidues[key]\n",
    "\n",
    "    # if all missing residues shall be ignored ignored, clear the dictionary\n",
    "    if ignore_missing_residues:\n",
    "        fixer.missingResidues = {}\n",
    "\n",
    "    fixer.findNonstandardResidues()  # find non-standard residue\n",
    "    fixer.replaceNonstandardResidues()  # replace non-standard residues with standard one\n",
    "    fixer.findMissingAtoms()  # find missing heavy atoms\n",
    "    fixer.addMissingAtoms()  # add missing atoms and residues\n",
    "    fixer.addMissingHydrogens(ph)  # add missing hydrogens\n",
    "    return fixer"
   ]
  },
  {
   "cell_type": "code",
   "execution_count": 3,
   "metadata": {},
   "outputs": [],
   "source": [
    "import warnings\n",
    "\n",
    "warnings.filterwarnings(\"ignore\")"
   ]
  },
  {
   "cell_type": "code",
   "execution_count": 4,
   "metadata": {},
   "outputs": [],
   "source": [
    "prepare_protein = prepare_protein(\"./protein_rank_2_ligand_complex.pdb\", ignore_missing_residues=False)"
   ]
  },
  {
   "cell_type": "code",
   "execution_count": 5,
   "metadata": {},
   "outputs": [],
   "source": [
    "def prepare_ligand(pdb_file, resname, smiles, depict=True):\n",
    "    \"\"\"\n",
    "    Prepare a ligand from a PDB file via adding hydrogens and assigning bond orders. A depiction\n",
    "    of the ligand before and after preparation is rendered in 2D to allow an inspection of the\n",
    "    results. Huge thanks to @j-wags for the suggestion.\n",
    "\n",
    "    Parameters\n",
    "    ----------\n",
    "    pdb_file: pathlib.PosixPath\n",
    "       PDB file containing the ligand of interest.\n",
    "    resname: str\n",
    "        Three character residue name of the ligand.\n",
    "    smiles : str\n",
    "        SMILES string of the ligand informing about correct protonation and bond orders.\n",
    "    depict: bool, optional\n",
    "        show a 2D representation of the ligand\n",
    "\n",
    "    Returns\n",
    "    -------\n",
    "    prepared_ligand: rdkit.Chem.rdchem.Mol\n",
    "        Prepared ligand.\n",
    "    \"\"\"\n",
    "    # split molecule\n",
    "    rdkit_mol = Chem.MolFromPDBFile(str(pdb_file), proximityBonding=True, sanitize=False)\n",
    "    print(rdkit_mol)\n",
    "    rdkit_mol_split = Chem.rdmolops.SplitMolByPDBResidues(rdkit_mol)\n",
    "\n",
    "    # extract the ligand and remove any already present hydrogens\n",
    "    ligand = rdkit_mol_split[resname]\n",
    "    ligand = Chem.RemoveHs(ligand)\n",
    "\n",
    "    # assign bond orders from template\n",
    "    reference_mol = Chem.MolFromSmiles(smiles)\n",
    "    prepared_ligand = AllChem.AssignBondOrdersFromTemplate(reference_mol, ligand)\n",
    "    prepared_ligand.AddConformer(ligand.GetConformer(0))\n",
    "\n",
    "    # protonate ligand\n",
    "    prepared_ligand = Chem.rdmolops.AddHs(prepared_ligand, addCoords=True)\n",
    "    prepared_ligand = Chem.MolFromMolBlock(Chem.MolToMolBlock(prepared_ligand))\n",
    "\n",
    "    # 2D depiction\n",
    "    if depict:\n",
    "        ligand_2d = copy.deepcopy(ligand)\n",
    "        prepared_ligand_2d = copy.deepcopy(prepared_ligand)\n",
    "        AllChem.Compute2DCoords(ligand_2d)\n",
    "        AllChem.Compute2DCoords(prepared_ligand_2d)\n",
    "        display(\n",
    "            Draw.MolsToGridImage(\n",
    "                [ligand_2d, prepared_ligand_2d], molsPerRow=2, legends=[\"original\", \"prepared\"]\n",
    "            )\n",
    "        )\n",
    "\n",
    "    # return ligand\n",
    "    return prepared_ligand"
   ]
  },
  {
   "cell_type": "code",
   "execution_count": 6,
   "metadata": {},
   "outputs": [],
   "source": [
    "pdb_path = \"./protein_rank_2_ligand_complex.pdb\"\n",
    "ligand_name = \"UNL\"\n",
    "smiles = \"Cc1ccc(S(=O)(=O)N2CCN(S(=O)(=O)c3ccc(C(F)(F)F)cc3)CC2)cc1\""
   ]
  },
  {
   "cell_type": "code",
   "execution_count": 7,
   "metadata": {},
   "outputs": [
    {
     "name": "stdout",
     "output_type": "stream",
     "text": [
      "<rdkit.Chem.rdchem.Mol object at 0x7f7f7bf4db30>\n"
     ]
    },
    {
     "name": "stderr",
     "output_type": "stream",
     "text": [
      "[16:16:34] WARNING: More than one matching pattern found - picking one\n",
      "\n"
     ]
    },
    {
     "data": {
      "image/png": "[encoded data removed]",
      "text/plain": [
       "<IPython.core.display.Image object>"
      ]
     },
     "metadata": {},
     "output_type": "display_data"
    }
   ],
   "source": [
    "rdkit_ligand = prepare_ligand(pdb_path, ligand_name, smiles)"
   ]
  },
  {
   "cell_type": "code",
   "execution_count": 8,
   "metadata": {},
   "outputs": [],
   "source": [
    "def rdkit_to_openmm(rdkit_mol, name=\"LIG\"):\n",
    "    \"\"\"\n",
    "    Convert an RDKit molecule to an OpenMM molecule.\n",
    "    Inspired by @hannahbrucemcdonald and @glass-w.\n",
    "\n",
    "    Parameters\n",
    "    ----------\n",
    "    rdkit_mol: rdkit.Chem.rdchem.Mol\n",
    "        RDKit molecule to convert.\n",
    "    name: str\n",
    "        Molecule name.\n",
    "\n",
    "    Returns\n",
    "    -------\n",
    "    omm_molecule: openmm.app.Modeller\n",
    "        OpenMM modeller object holding the molecule of interest.\n",
    "    \"\"\"\n",
    "    # convert RDKit to OpenFF\n",
    "    off_mol = Molecule.from_rdkit(rdkit_mol)\n",
    "    #print(off_mol)\n",
    "\n",
    "    # add name for molecule\n",
    "    off_mol.name = name\n",
    "    #print(off_mol.name)\n",
    "\n",
    "    # add names for atoms\n",
    "    element_counter_dict = {}\n",
    "    for off_atom, rdkit_atom in zip(off_mol.atoms, rdkit_mol.GetAtoms()):\n",
    "        element = rdkit_atom.GetSymbol()\n",
    "        if element in element_counter_dict.keys():\n",
    "            element_counter_dict[element] += 1\n",
    "        else:\n",
    "            element_counter_dict[element] = 1\n",
    "        off_atom.name = element + str(element_counter_dict[element])\n",
    "    #print(element_counter_dict)\n",
    "\n",
    "    # convert from OpenFF to OpenMM\n",
    "    off_mol_topology = off_mol.to_topology()\n",
    "    mol_topology = off_mol_topology.to_openmm()\n",
    "    #print(mol_topology)\n",
    "    mol_positions = off_mol.conformers[0]\n",
    "    #print(mol_positions)\n",
    "\n",
    "    # convert units from Ångström to nanometers\n",
    "    # since OpenMM works in nm\n",
    "    mol_positions = mol_positions.to(\"nanometers\")\n",
    "    #print(mol_positions)\n",
    "\n",
    "    # combine topology and positions in modeller object\n",
    "    omm_mol = app.Modeller(mol_topology, mol_positions)\n",
    "\n",
    "    return omm_mol"
   ]
  },
  {
   "cell_type": "code",
   "execution_count": 9,
   "metadata": {},
   "outputs": [],
   "source": [
    "omm_ligand = rdkit_to_openmm(rdkit_ligand, ligand_name)"
   ]
  },
  {
   "cell_type": "code",
   "execution_count": 10,
   "metadata": {},
   "outputs": [],
   "source": [
    "def merge_protein_and_ligand(protein, ligand):\n",
    "    \"\"\"\n",
    "    Merge two OpenMM objects.\n",
    "\n",
    "    Parameters\n",
    "    ----------\n",
    "    protein: pdbfixer.pdbfixer.PDBFixer\n",
    "        Protein to merge.\n",
    "    ligand: openmm.app.Modeller\n",
    "        Ligand to merge.\n",
    "\n",
    "    Returns\n",
    "    -------\n",
    "    complex_topology: openmm.app.topology.Topology\n",
    "        The merged topology.\n",
    "    complex_positions: openmm.unit.quantity.Quantity\n",
    "        The merged positions.\n",
    "    \"\"\"\n",
    "    # combine topologies\n",
    "    md_protein_topology = md.Topology.from_openmm(protein.topology)  # using mdtraj for protein top\n",
    "    #print(md_protein_topology)\n",
    "    md_ligand_topology = md.Topology.from_openmm(ligand.topology)  # using mdtraj for ligand top\n",
    "    #print(md_ligand_topology)\n",
    "    md_complex_topology = md_protein_topology.join(md_ligand_topology)  # add them together\n",
    "    #print(md_complex_topology)\n",
    "    complex_topology = md_complex_topology.to_openmm()\n",
    "    #print(complex_topology)\n",
    "\n",
    "    # combine positions\n",
    "    total_atoms = len(protein.positions) + len(ligand.positions)\n",
    "\n",
    "    # create an array for storing all atom positions as tupels containing a value and a unit\n",
    "    # called OpenMM Quantities\n",
    "    complex_positions = unit.Quantity(np.zeros([total_atoms, 3]), unit=unit.nanometers)\n",
    "    complex_positions[: len(protein.positions)] = protein.positions  # add protein positions\n",
    "    complex_positions[len(protein.positions) :] = ligand.positions  # add ligand positions\n",
    "\n",
    "    return complex_topology, complex_positions"
   ]
  },
  {
   "cell_type": "code",
   "execution_count": 11,
   "metadata": {},
   "outputs": [],
   "source": [
    "complex_topology, complex_positions = merge_protein_and_ligand(prepare_protein, omm_ligand)"
   ]
  },
  {
   "cell_type": "code",
   "execution_count": 12,
   "metadata": {},
   "outputs": [
    {
     "name": "stdout",
     "output_type": "stream",
     "text": [
      "Complex topology has 4194 atoms.\n"
     ]
    }
   ],
   "source": [
    "print(\"Complex topology has\", complex_topology.getNumAtoms(), \"atoms.\")\n",
    "# NBVAL_CHECK_OUTPUT"
   ]
  },
  {
   "cell_type": "code",
   "execution_count": 13,
   "metadata": {},
   "outputs": [],
   "source": [
    "def generate_forcefield(\n",
    "    rdkit_mol=None, protein_ff=\"amber14-all.xml\", solvent_ff=\"amber14/tip3pfb.xml\"\n",
    "):\n",
    "    \"\"\"\n",
    "    Generate an OpenMM Forcefield object and register a small molecule.\n",
    "\n",
    "    Parameters\n",
    "    ----------\n",
    "    rdkit_mol: rdkit.Chem.rdchem.Mol\n",
    "        Small molecule to register in the force field.\n",
    "    protein_ff: string\n",
    "        Name of the force field.\n",
    "    solvent_ff: string\n",
    "        Name of the solvent force field.\n",
    "\n",
    "    Returns\n",
    "    -------\n",
    "    forcefield: openmm.app.Forcefield\n",
    "        Forcefield with registered small molecule.\n",
    "    \"\"\"\n",
    "    forcefield = app.ForceField(protein_ff, solvent_ff)\n",
    "\n",
    "    if rdkit_mol is not None:\n",
    "        gaff = GAFFTemplateGenerator(\n",
    "            molecules=Molecule.from_rdkit(rdkit_mol, allow_undefined_stereo=True)\n",
    "        )\n",
    "        forcefield.registerTemplateGenerator(gaff.generator)\n",
    "\n",
    "    return forcefield"
   ]
  },
  {
   "cell_type": "code",
   "execution_count": 14,
   "metadata": {},
   "outputs": [],
   "source": [
    "forcefield = generate_forcefield(rdkit_ligand)"
   ]
  },
  {
   "cell_type": "code",
   "execution_count": 15,
   "metadata": {},
   "outputs": [
    {
     "name": "stderr",
     "output_type": "stream",
     "text": [
      "/bin/bash: /home/media/data2/user_home/dbsejrgus226/miniconda3/envs/MD/lib/libtinfo.so.6: no version information available (required by /bin/bash)\n",
      "/bin/bash: /home/media/data2/user_home/dbsejrgus226/miniconda3/envs/MD/lib/libtinfo.so.6: no version information available (required by /bin/bash)\n",
      "/bin/bash: /home/media/data2/user_home/dbsejrgus226/miniconda3/envs/MD/lib/libtinfo.so.6: no version information available (required by /bin/bash)\n",
      "/bin/bash: /home/media/data2/user_home/dbsejrgus226/miniconda3/envs/MD/lib/libtinfo.so.6: no version information available (required by /bin/bash)\n",
      "/bin/bash: /home/media/data2/user_home/dbsejrgus226/miniconda3/envs/MD/lib/libtinfo.so.6: no version information available (required by /bin/bash)\n",
      "/bin/bash: /home/media/data2/user_home/dbsejrgus226/miniconda3/envs/MD/lib/libtinfo.so.6: no version information available (required by /bin/bash)\n"
     ]
    }
   ],
   "source": [
    "modeller = app.Modeller(complex_topology, complex_positions)\n",
    "modeller.addSolvent(forcefield, padding=1.0 * unit.nanometers, ionicStrength=0.15 * unit.molar)"
   ]
  },
  {
   "cell_type": "code",
   "execution_count": 16,
   "metadata": {},
   "outputs": [],
   "source": [
    "system = forcefield.createSystem(modeller.topology, nonbondedMethod=app.PME)\n",
    "integrator = mm.LangevinIntegrator(\n",
    "    300 * unit.kelvin, 1.0 / unit.picoseconds, 2.0 * unit.femtoseconds\n",
    ")\n",
    "simulation = app.Simulation(modeller.topology, system, integrator)\n",
    "simulation.context.setPositions(modeller.positions)"
   ]
  },
  {
   "cell_type": "code",
   "execution_count": 17,
   "metadata": {},
   "outputs": [],
   "source": [
    "simulation.minimizeEnergy()\n",
    "with open(\"topology_2.pdb\", \"w\") as pdb_file:\n",
    "    app.PDBFile.writeFile(\n",
    "        simulation.topology,\n",
    "        simulation.context.getState(getPositions=True, enforcePeriodicBox=True).getPositions(),\n",
    "        file=pdb_file,\n",
    "        keepIds=True,\n",
    "    )"
   ]
  },
  {
   "cell_type": "code",
   "execution_count": 18,
   "metadata": {},
   "outputs": [],
   "source": [
    "# output settings\n",
    "\n",
    "steps = 50000  # corresponds to 100 fs\n",
    "write_interval = 500  # write every 10 fs\n",
    "log_interval = 250  # log progress to stdout every 5 fs\n",
    "simulation.reporters.append(\n",
    "    md.reporters.XTCReporter(file=str(\"trajectory_2.xtc\"), reportInterval=write_interval)\n",
    ")\n",
    "simulation.reporters.append(\n",
    "    app.StateDataReporter(\n",
    "        sys.stdout,\n",
    "        log_interval,\n",
    "        step=True,\n",
    "        potentialEnergy=True,\n",
    "        temperature=True,\n",
    "        progress=True,\n",
    "        remainingTime=True,\n",
    "        speed=True,\n",
    "        totalSteps=steps,\n",
    "        separator=\"\\t\",\n",
    "    )\n",
    ")"
   ]
  },
  {
   "cell_type": "code",
   "execution_count": 19,
   "metadata": {},
   "outputs": [
    {
     "name": "stdout",
     "output_type": "stream",
     "text": [
      "#\"Progress (%)\"\t\"Step\"\t\"Potential Energy (kJ/mole)\"\t\"Temperature (K)\"\t\"Speed (ns/day)\"\t\"Time Remaining\"\n",
      "0.5%\t250\t-873947.4891308337\t205.32433280968226\t0\t--\n",
      "1.0%\t500\t-855804.4637402087\t240.7052306050228\t57.7\t2:28\n",
      "1.5%\t750\t-844093.1375683337\t261.68620324119075\t58\t2:26\n",
      "2.0%\t1000\t-836327.0906933337\t277.1071653762388\t58\t2:25\n",
      "2.5%\t1250\t-830480.4598339587\t284.8571737155065\t57.6\t2:26\n",
      "3.0%\t1500\t-827776.4774120837\t291.11751877547846\t57.1\t2:26\n",
      "3.5%\t1750\t-824997.6883495837\t292.89563293016545\t57.3\t2:25\n",
      "4.0%\t2000\t-822134.7000683337\t293.7780591828707\t55.1\t2:30\n",
      "4.5%\t2250\t-821619.5692089587\t296.00722492161697\t54.2\t2:32\n",
      "5.0%\t2500\t-821931.4461620837\t296.54601919152645\t52.4\t2:36\n",
      "5.5%\t2750\t-822431.1180370837\t297.14762002543466\t51.1\t2:39\n",
      "6.0%\t3000\t-821403.5711620837\t295.96060800084905\t50.2\t2:41\n",
      "6.5%\t3250\t-819542.2449902087\t298.2806247259501\t49.3\t2:43\n",
      "7.0%\t3500\t-818590.9559277087\t297.3823048660829\t48.8\t2:44\n",
      "7.5%\t3750\t-818408.1629589587\t297.3634715285599\t48.3\t2:45\n",
      "8.0%\t4000\t-818461.8641308337\t299.28663013462415\t47.8\t2:46\n",
      "8.5%\t4250\t-818545.6903027087\t300.865448061575\t47.4\t2:46\n",
      "9.0%\t4500\t-818331.3660839587\t301.6108663707938\t47\t2:47\n",
      "9.5%\t4750\t-818241.5028027087\t300.32806014903815\t46.6\t2:47\n",
      "10.0%\t5000\t-818490.6121777087\t300.56828532403443\t46.4\t2:47\n",
      "10.5%\t5250\t-819078.2528027087\t299.5959740188924\t46.3\t2:47\n",
      "11.0%\t5500\t-819129.1961620837\t301.45673025889386\t46.2\t2:46\n",
      "11.5%\t5750\t-818487.1766308337\t299.1031831655508\t46.1\t2:45\n",
      "12.0%\t6000\t-818309.8602245837\t301.1371492607593\t45.8\t2:45\n",
      "12.5%\t6250\t-818082.6102245837\t299.48438777504214\t45.7\t2:45\n",
      "13.0%\t6500\t-818349.0828808337\t300.6740226331974\t45.5\t2:45\n",
      "13.5%\t6750\t-818591.3875683337\t299.200926018342\t45.4\t2:44\n",
      "14.0%\t7000\t-819576.0125683337\t299.6454830961326\t45.3\t2:44\n",
      "14.5%\t7250\t-819188.6219433337\t298.6382848028894\t45.1\t2:43\n",
      "15.0%\t7500\t-819565.3836620837\t301.24609678444256\t45\t2:43\n",
      "15.5%\t7750\t-817760.6727245837\t299.09925025560534\t44.9\t2:42\n",
      "16.0%\t8000\t-818027.8953808337\t300.2519513733028\t44.8\t2:42\n",
      "16.5%\t8250\t-817652.0379589587\t300.5434050274609\t44.7\t2:41\n",
      "17.0%\t8500\t-818063.7957714587\t300.3891592054979\t44.6\t2:40\n",
      "17.5%\t8750\t-818504.7606152087\t300.2411562441115\t44.6\t2:39\n",
      "18.0%\t9000\t-819015.0086620837\t300.4667140052948\t44.6\t2:39\n",
      "18.5%\t9250\t-819672.4012402087\t299.00830814945465\t44.5\t2:38\n",
      "19.0%\t9500\t-818173.3738964587\t297.52455844833986\t44.4\t2:37\n",
      "19.5%\t9750\t-818627.3797558337\t297.52627739743605\t44.4\t2:36\n",
      "20.0%\t10000\t-818635.0067089587\t300.1311889726059\t44.3\t2:35\n",
      "20.5%\t10250\t-818442.6160839587\t300.78327842166294\t44.3\t2:35\n",
      "21.0%\t10500\t-818633.0399120837\t302.1139775964711\t44.4\t2:33\n",
      "21.5%\t10750\t-818411.4442089587\t300.5368528550713\t44.6\t2:32\n",
      "22.0%\t11000\t-818093.6707714587\t299.65634742502255\t44.8\t2:30\n",
      "22.5%\t11250\t-818586.7235058337\t298.6292410113554\t45\t2:28\n",
      "23.0%\t11500\t-819539.8953808337\t300.31050883690773\t45.1\t2:27\n",
      "23.5%\t11750\t-819787.0184277087\t298.649202313482\t45.3\t2:25\n",
      "24.0%\t12000\t-818790.5750683337\t299.6741881168343\t45.5\t2:24\n",
      "24.5%\t12250\t-819372.5418652087\t301.2166047610343\t45.7\t2:22\n",
      "25.0%\t12500\t-818450.0555370837\t303.04576762421146\t45.9\t2:21\n",
      "25.5%\t12750\t-818473.3953808337\t301.00853539898554\t46\t2:19\n",
      "26.0%\t13000\t-818469.4422558337\t298.3491148679617\t46.2\t2:18\n",
      "26.5%\t13250\t-819267.6727245837\t299.9142437183462\t46.3\t2:17\n",
      "27.0%\t13500\t-818777.2957714587\t301.302226975981\t46.5\t2:15\n",
      "27.5%\t13750\t-818106.7528027087\t299.12474270434524\t46.6\t2:14\n",
      "28.0%\t14000\t-819238.0145214587\t300.5030331105827\t46.8\t2:13\n",
      "28.5%\t14250\t-819915.2391308337\t300.08760003834004\t46.9\t2:11\n",
      "29.0%\t14500\t-820017.8875683337\t299.5304620196703\t47\t2:10\n",
      "29.5%\t14750\t-818709.0926464587\t299.0494589036652\t47.2\t2:09\n",
      "30.0%\t15000\t-819032.0086620837\t299.6727168516825\t47.3\t2:07\n",
      "30.5%\t15250\t-818633.6942089587\t301.5428758544481\t47.4\t2:06\n",
      "31.0%\t15500\t-818596.3602245837\t300.8473241067311\t47.6\t2:05\n",
      "31.5%\t15750\t-819151.4500683337\t298.3380819841645\t47.7\t2:04\n",
      "32.0%\t16000\t-821323.3231152087\t302.634958901668\t47.8\t2:03\n",
      "32.5%\t16250\t-820205.4149120837\t302.2556238741939\t47.9\t2:01\n",
      "33.0%\t16500\t-818820.0965527087\t298.89193650254475\t48\t2:00\n",
      "33.5%\t16750\t-818347.4578808337\t299.59110041920724\t48.1\t1:59\n",
      "34.0%\t17000\t-818740.8992870837\t302.2114574097264\t48.2\t1:58\n",
      "34.5%\t17250\t-817770.2723339587\t299.5036914013873\t48.3\t1:57\n",
      "35.0%\t17500\t-818363.9656933337\t299.3280889510095\t48.4\t1:56\n",
      "35.5%\t17750\t-819555.6903027087\t298.2621540432881\t48.5\t1:54\n",
      "36.0%\t18000\t-819601.4227245837\t299.88864496851875\t48.6\t1:53\n",
      "36.5%\t18250\t-819591.8289745837\t300.6391734481749\t48.7\t1:52\n",
      "37.0%\t18500\t-819348.3992870837\t299.1800884125212\t48.8\t1:51\n",
      "37.5%\t18750\t-819214.9110058337\t297.96447136132343\t48.9\t1:50\n",
      "38.0%\t19000\t-820568.2508495837\t301.3482423102504\t49\t1:49\n",
      "38.5%\t19250\t-820366.6727245837\t300.2092521177877\t49.1\t1:48\n",
      "39.0%\t19500\t-820187.5809277087\t300.59075702674926\t49.2\t1:47\n",
      "39.5%\t19750\t-819420.1981152087\t298.752180743164\t49.2\t1:46\n",
      "40.0%\t20000\t-819349.5457714587\t298.3872363878561\t49.3\t1:45\n",
      "40.5%\t20250\t-820344.1141308337\t298.9291091497241\t49.4\t1:44\n",
      "41.0%\t20500\t-820028.8797558337\t299.7577857852933\t49.5\t1:43\n",
      "41.5%\t20750\t-818950.2938183337\t299.0533138521992\t49.5\t1:42\n",
      "42.0%\t21000\t-817983.6082714587\t299.29533834670525\t49.6\t1:41\n",
      "42.5%\t21250\t-819865.7684277087\t301.98874108763425\t49.7\t1:40\n",
      "43.0%\t21500\t-819365.3445995837\t299.6502660397476\t49.7\t1:39\n",
      "43.5%\t21750\t-819793.0594433337\t298.9898007123944\t49.8\t1:37\n",
      "44.0%\t22000\t-819783.0047558337\t299.56325630977256\t49.9\t1:37\n",
      "44.5%\t22250\t-819653.2137402087\t300.54110559428943\t49.9\t1:36\n",
      "45.0%\t22500\t-818896.6180370837\t301.3844430659365\t50\t1:35\n",
      "45.5%\t22750\t-819191.6102245837\t300.7065657527973\t50\t1:34\n",
      "46.0%\t23000\t-819711.5828808337\t300.0306917488255\t50.1\t1:33\n",
      "46.5%\t23250\t-819589.5379589587\t299.1475847039409\t50.1\t1:32\n",
      "47.0%\t23500\t-818950.5516308337\t298.6063828961251\t50.2\t1:31\n",
      "47.5%\t23750\t-818770.1863964587\t298.8611984086909\t50.3\t1:30\n",
      "48.0%\t24000\t-818861.3153027087\t302.0179724613049\t50.3\t1:29\n",
      "48.5%\t24250\t-818495.1805370837\t301.35363786778834\t50.4\t1:28\n",
      "49.0%\t24500\t-819062.9383495837\t301.270916197743\t50.4\t1:27\n",
      "49.5%\t24750\t-818898.7059277087\t301.28112876966367\t50.5\t1:26\n",
      "50.0%\t25000\t-818407.8699902087\t300.9497076933406\t50.5\t1:25\n",
      "50.5%\t25250\t-818164.5809277087\t300.5469152143934\t50.6\t1:24\n",
      "51.0%\t25500\t-818398.5340527087\t300.11492757211596\t50.6\t1:23\n",
      "51.5%\t25750\t-817890.4559277087\t300.43101182994076\t50.7\t1:22\n",
      "52.0%\t26000\t-818032.5555370837\t299.96103944482167\t50.7\t1:21\n",
      "52.5%\t26250\t-817479.8289745837\t298.144434629488\t50.7\t1:20\n",
      "53.0%\t26500\t-818521.4481152087\t300.5656361172052\t50.8\t1:19\n",
      "53.5%\t26750\t-818120.2059277087\t300.3090462052663\t50.8\t1:19\n",
      "54.0%\t27000\t-817710.1746777087\t301.9911516832029\t50.8\t1:18\n",
      "54.5%\t27250\t-818787.3035839587\t301.9201326507966\t50.9\t1:17\n",
      "55.0%\t27500\t-819819.9422558337\t302.80140628256316\t50.9\t1:16\n",
      "55.5%\t27750\t-818884.1453808337\t300.2053743578929\t51\t1:15\n",
      "56.0%\t28000\t-818105.6688183337\t300.572586533779\t51\t1:14\n",
      "56.5%\t28250\t-817417.6903027087\t299.0893535887586\t51\t1:13\n",
      "57.0%\t28500\t-817472.9344433337\t300.236574660999\t51.1\t1:12\n",
      "57.5%\t28750\t-816951.0535839587\t301.0011109746651\t51.1\t1:11\n",
      "58.0%\t29000\t-816868.6766308337\t302.23521040330314\t51.2\t1:10\n",
      "58.5%\t29250\t-817073.5379589587\t301.11200715126427\t51.2\t1:10\n",
      "59.0%\t29500\t-816982.4188183337\t301.287163713266\t51.2\t1:09\n",
      "59.5%\t29750\t-817785.9344433337\t301.4646340652752\t51.3\t1:08\n",
      "60.0%\t30000\t-817066.9871777087\t299.501956367565\t51.3\t1:07\n",
      "60.5%\t30250\t-818380.9481152087\t300.4800937538046\t51.3\t1:06\n",
      "61.0%\t30500\t-818430.0965527087\t302.0149859475398\t51.4\t1:05\n",
      "61.5%\t30750\t-817941.1141308337\t300.2200678510635\t51.4\t1:04\n",
      "62.0%\t31000\t-818836.4715527087\t300.74697460938063\t51.4\t1:03\n",
      "62.5%\t31250\t-819775.2020214587\t301.0095454494008\t51.5\t1:02\n",
      "63.0%\t31500\t-820389.7567089587\t301.80740511824547\t51.5\t1:02\n",
      "63.5%\t31750\t-819559.4149120837\t300.38229669776945\t51.5\t1:01\n",
      "64.0%\t32000\t-818870.5223339587\t300.09726657813036\t51.6\t1:00\n",
      "64.5%\t32250\t-818753.6961620837\t298.9856326222481\t51.6\t0:59\n",
      "65.0%\t32500\t-819209.3133495837\t301.5549708043616\t51.6\t0:58\n",
      "65.5%\t32750\t-818826.7703808337\t301.70253782637496\t51.6\t0:57\n",
      "66.0%\t33000\t-818605.4676464587\t299.71459185452295\t51.7\t0:56\n",
      "66.5%\t33250\t-819101.8602245837\t303.78554472723556\t51.7\t0:55\n",
      "67.0%\t33500\t-820550.5418652087\t302.92952604694466\t51.7\t0:55\n",
      "67.5%\t33750\t-818133.7332714587\t298.8128101930576\t51.8\t0:54\n",
      "68.0%\t34000\t-818655.6180370837\t300.7763141392598\t51.8\t0:53\n",
      "68.5%\t34250\t-819046.0828808337\t298.37499122729884\t51.8\t0:52\n",
      "69.0%\t34500\t-819103.9227245837\t299.718660438813\t51.8\t0:51\n",
      "69.5%\t34750\t-818785.5750683337\t300.9567601279468\t51.9\t0:50\n",
      "70.0%\t35000\t-819290.8778027087\t299.91104244654156\t51.9\t0:49\n",
      "70.5%\t35250\t-819081.2645214587\t298.0074394027276\t51.9\t0:49\n",
      "71.0%\t35500\t-819224.6024120837\t298.8200440155921\t51.9\t0:48\n",
      "71.5%\t35750\t-819655.6805370837\t299.9724282515555\t52\t0:47\n",
      "72.0%\t36000\t-819969.4227245837\t300.9084409480815\t52\t0:46\n",
      "72.5%\t36250\t-820948.1961620837\t302.22010315896193\t52\t0:45\n",
      "73.0%\t36500\t-820112.2391308337\t300.5397914976519\t52.1\t0:44\n",
      "73.5%\t36750\t-819413.2723339587\t300.0182202388214\t52.1\t0:43\n",
      "74.0%\t37000\t-818877.4676464587\t298.9120627559972\t52.1\t0:43\n",
      "74.5%\t37250\t-819687.1551464587\t300.3538494509486\t52.1\t0:42\n",
      "75.0%\t37500\t-819931.2059277087\t299.32705386372265\t52.2\t0:41\n",
      "75.5%\t37750\t-819947.4168652087\t298.479827467961\t52.2\t0:40\n",
      "76.0%\t38000\t-820403.5145214587\t298.8779044006026\t52.2\t0:39\n",
      "76.5%\t38250\t-818924.9676464587\t298.9498230994808\t52.2\t0:38\n",
      "77.0%\t38500\t-820606.8953808337\t300.7611970384986\t52.2\t0:38\n",
      "77.5%\t38750\t-819646.2137402087\t299.84526869970085\t52.3\t0:37\n",
      "78.0%\t39000\t-819700.7098339587\t299.26111371879057\t52.3\t0:36\n",
      "78.5%\t39250\t-818926.6414745837\t300.6394160856235\t52.3\t0:35\n",
      "79.0%\t39500\t-818565.1766308337\t302.10503473280727\t52.4\t0:34\n",
      "79.5%\t39750\t-818796.1512402087\t300.519829208975\t52.5\t0:33\n",
      "80.0%\t40000\t-818628.1688183337\t300.2977950260503\t52.6\t0:32\n",
      "80.5%\t40250\t-818515.3934277087\t299.4356590595609\t52.7\t0:31\n",
      "81.0%\t40500\t-819792.0360058337\t301.3245364353907\t52.8\t0:31\n",
      "81.5%\t40750\t-819522.5867870837\t299.7858728190283\t53\t0:30\n",
      "82.0%\t41000\t-819082.6649120837\t301.03939559058585\t53.1\t0:29\n",
      "82.5%\t41250\t-819510.3328808337\t300.2259400746423\t53.2\t0:28\n",
      "83.0%\t41500\t-819097.6297558337\t298.6269320888445\t53.3\t0:27\n",
      "83.5%\t41750\t-820400.9578808337\t301.18203559546345\t53.4\t0:26\n",
      "84.0%\t42000\t-820520.1121777087\t301.44304275806854\t53.6\t0:25\n",
      "84.5%\t42250\t-820575.4656933337\t300.1406438964643\t53.7\t0:24\n",
      "85.0%\t42500\t-819475.0008495837\t299.1806853182988\t53.8\t0:24\n",
      "85.5%\t42750\t-818327.5477245837\t300.42996473469145\t53.9\t0:23\n",
      "86.0%\t43000\t-818305.0340527087\t300.69730669580946\t54\t0:22\n",
      "86.5%\t43250\t-818697.9383495837\t300.2834289046408\t54.1\t0:21\n",
      "87.0%\t43500\t-819393.5223339587\t301.42409440327793\t54.2\t0:20\n",
      "87.5%\t43750\t-819395.5750683337\t300.8715676218835\t54.3\t0:19\n",
      "88.0%\t44000\t-818772.9305370837\t298.7090772156947\t54.4\t0:19\n",
      "88.5%\t44250\t-818339.1395214587\t298.18557474096275\t54.6\t0:18\n",
      "89.0%\t44500\t-819723.4070995837\t300.15754795274154\t54.7\t0:17\n",
      "89.5%\t44750\t-820047.1063183337\t301.95742841576043\t54.8\t0:16\n",
      "90.0%\t45000\t-819044.2645214587\t298.9117156441578\t54.9\t0:15\n",
      "90.5%\t45250\t-818838.7977245837\t299.6318717616941\t55\t0:14\n",
      "91.0%\t45500\t-820133.9461620837\t302.3825788549433\t55.1\t0:14\n",
      "91.5%\t45750\t-818985.0613964587\t300.56436774447104\t55.2\t0:13\n",
      "92.0%\t46000\t-819535.3231152087\t302.9522971262432\t55.3\t0:12\n",
      "92.5%\t46250\t-819152.5086620837\t300.84803426830604\t55.4\t0:11\n",
      "93.0%\t46500\t-819176.8621777087\t300.666155183533\t55.5\t0:10\n",
      "93.5%\t46750\t-818308.4656933337\t297.932036810343\t55.6\t0:10\n",
      "94.0%\t47000\t-819202.7254589587\t300.20638393919404\t55.7\t0:09\n",
      "94.5%\t47250\t-818465.4988964587\t301.0184263573782\t55.8\t0:08\n",
      "95.0%\t47500\t-818459.1375683337\t300.8536108689995\t55.9\t0:07\n",
      "95.5%\t47750\t-819247.5281933337\t301.08145918445507\t56\t0:06\n",
      "96.0%\t48000\t-818596.3074902087\t301.85028570219595\t56.1\t0:06\n",
      "96.5%\t48250\t-817596.2762402087\t300.82735479434166\t56.2\t0:05\n",
      "97.0%\t48500\t-817619.4539745837\t299.36833901529354\t56.2\t0:04\n",
      "97.5%\t48750\t-818696.4422558337\t300.4848164980663\t56.3\t0:03\n",
      "98.0%\t49000\t-819145.7391308337\t302.32512952383183\t56.4\t0:03\n",
      "98.5%\t49250\t-819177.3660839587\t301.7500727136745\t56.5\t0:02\n",
      "99.0%\t49500\t-818633.3680370837\t301.8109077954881\t56.6\t0:01\n",
      "99.5%\t49750\t-817700.1551464587\t299.8089824571477\t56.7\t0:00\n",
      "100.0%\t50000\t-817730.0496777087\t302.81651585264285\t56.8\t0:00\n"
     ]
    }
   ],
   "source": [
    "simulation.context.setVelocitiesToTemperature(300 * unit.kelvin)\n",
    "simulation.step(steps)  # perform the simulation"
   ]
  },
  {
   "cell_type": "code",
   "execution_count": 20,
   "metadata": {},
   "outputs": [
    {
     "name": "stdout",
     "output_type": "stream",
     "text": [
      "os.stat_result(st_mode=33204, st_ino=235276809, st_dev=2080, st_nlink=1, st_uid=1002, st_gid=1002, st_size=19061204, st_atime=1716189504, st_mtime=1716189657, st_ctime=1716189657)\n"
     ]
    }
   ],
   "source": [
    "# Check the trajectory exists and is not empty\n",
    "import os \n",
    "result = \"./trajectory_2.xtc\"\n",
    "file_info = os.stat(result)\n",
    "print(file_info)\n",
    "#result.stat().st_size > 0\n",
    "# NBVAL_CHECK_OUTPUT"
   ]
  },
  {
   "cell_type": "markdown",
   "metadata": {},
   "source": [
    "# Analysis MD Simulation results"
   ]
  },
  {
   "cell_type": "code",
   "execution_count": 21,
   "metadata": {},
   "outputs": [
    {
     "data": {
      "application/vnd.jupyter.widget-view+json": {
       "model_id": "91339e6ccfc646a2806aef07b37f846d",
       "version_major": 2,
       "version_minor": 0
      },
      "text/plain": []
     },
     "metadata": {},
     "output_type": "display_data"
    }
   ],
   "source": [
    "from pathlib import Path\n",
    "\n",
    "import pandas as pd\n",
    "import numpy as np\n",
    "import matplotlib.pyplot as plt\n",
    "import nglview as nv\n",
    "import MDAnalysis as mda\n",
    "from MDAnalysis.analysis import rms, diffusionmap, align\n",
    "from MDAnalysis.analysis.distances import dist\n",
    "from MDAnalysis.analysis.hydrogenbonds.hbond_analysis import HydrogenBondAnalysis as HBA\n"
   ]
  },
  {
   "cell_type": "code",
   "execution_count": 22,
   "metadata": {},
   "outputs": [],
   "source": [
    "#import warnings\n",
    "\n",
    "# 경고를 무시하도록 설정합니다.\n",
    "#warnings.filterwarnings(\"ignore\", message=\"PDB file is missing resid information.\")\n",
    "#warnings.filterwarnings(\"ignore\", message=\"Reload offsets from trajectory\")\n",
    "\n",
    "# 나머지 코드 실행\n"
   ]
  },
  {
   "cell_type": "code",
   "execution_count": 23,
   "metadata": {},
   "outputs": [],
   "source": [
    "md_universe = mda.Universe(str(\"./topology_2.pdb\"), str(\"./trajectory_2.xtc\"))"
   ]
  },
  {
   "cell_type": "code",
   "execution_count": 24,
   "metadata": {},
   "outputs": [
    {
     "data": {
      "text/plain": [
       "<MDAnalysis.analysis.align.AlignTraj at 0x7f7f7b44ac70>"
      ]
     },
     "execution_count": 24,
     "metadata": {},
     "output_type": "execute_result"
    }
   ],
   "source": [
    "# Set trajectory pointer to first frame as reference\n",
    "md_universe.trajectory[0]\n",
    "\n",
    "# in_memory=True is needed to actually modify the loaded trajectory\n",
    "# if the trajectory is too big for memory, one can write out the aligned trajectory and reload it into a new universe\n",
    "alignment = align.AlignTraj(\n",
    "    mobile=md_universe, reference=md_universe, select=\"protein\", in_memory=True\n",
    ")\n",
    "alignment.run()"
   ]
  },
  {
   "cell_type": "code",
   "execution_count": 25,
   "metadata": {},
   "outputs": [],
   "source": [
    "def rmsd_for_atomgroups(universe, selection1, selection2=None):\n",
    "    \"\"\"Calulate the RMSD for selected atom groups.\n",
    "\n",
    "    Parameters\n",
    "    ----------\n",
    "    universe: MDAnalysis.core.universe.Universe\n",
    "        MDAnalysis universe.\n",
    "    selection1: str\n",
    "        Selection string for main atom group, also used during alignment.\n",
    "    selection2: list of str, optional\n",
    "        Selection strings for additional atom groups.\n",
    "\n",
    "    Returns\n",
    "    -------\n",
    "    rmsd_df: pandas.core.frame.DataFrame\n",
    "        DataFrame containing RMSD of the selected atom groups over time.\n",
    "    \"\"\"\n",
    "\n",
    "    universe.trajectory\n",
    "    ref = universe\n",
    "    rmsd_analysis = rms.RMSD(universe, ref, select=selection1, groupselections=selection2)\n",
    "    rmsd_analysis.run()\n",
    "\n",
    "    columns = [selection1, *selection2] if selection2 else [selection1]\n",
    "    #print(rmsd_analysis.results)\n",
    "    #print(rmsd_analysis)\n",
    "    rmsd_df = pd.DataFrame(np.round(rmsd_analysis.results.rmsd[:, 2:], 2), columns=columns)\n",
    "    rmsd_df.index.name = \"time\"\n",
    "    return rmsd_df"
   ]
  },
  {
   "cell_type": "code",
   "execution_count": 26,
   "metadata": {},
   "outputs": [],
   "source": [
    "rmsd = rmsd_for_atomgroups(md_universe, \"backbone\", [\"protein\", \"resname UNK\"])\n",
    "#rmsd[:20]"
   ]
  },
  {
   "cell_type": "code",
   "execution_count": 27,
   "metadata": {},
   "outputs": [
    {
     "data": {
      "text/html": [
       "<div>\n",
       "<style scoped>\n",
       "    .dataframe tbody tr th:only-of-type {\n",
       "        vertical-align: middle;\n",
       "    }\n",
       "\n",
       "    .dataframe tbody tr th {\n",
       "        vertical-align: top;\n",
       "    }\n",
       "\n",
       "    .dataframe thead th {\n",
       "        text-align: right;\n",
       "    }\n",
       "</style>\n",
       "<table border=\"1\" class=\"dataframe\">\n",
       "  <thead>\n",
       "    <tr style=\"text-align: right;\">\n",
       "      <th></th>\n",
       "      <th>backbone</th>\n",
       "      <th>protein</th>\n",
       "      <th>rank_2_ligand</th>\n",
       "    </tr>\n",
       "    <tr>\n",
       "      <th>time</th>\n",
       "      <th></th>\n",
       "      <th></th>\n",
       "      <th></th>\n",
       "    </tr>\n",
       "  </thead>\n",
       "  <tbody>\n",
       "    <tr>\n",
       "      <th>0</th>\n",
       "      <td>0.00</td>\n",
       "      <td>0.00</td>\n",
       "      <td>0.00</td>\n",
       "    </tr>\n",
       "    <tr>\n",
       "      <th>1</th>\n",
       "      <td>0.66</td>\n",
       "      <td>0.88</td>\n",
       "      <td>1.83</td>\n",
       "    </tr>\n",
       "    <tr>\n",
       "      <th>2</th>\n",
       "      <td>0.71</td>\n",
       "      <td>0.97</td>\n",
       "      <td>1.93</td>\n",
       "    </tr>\n",
       "    <tr>\n",
       "      <th>3</th>\n",
       "      <td>0.75</td>\n",
       "      <td>1.03</td>\n",
       "      <td>2.63</td>\n",
       "    </tr>\n",
       "    <tr>\n",
       "      <th>4</th>\n",
       "      <td>0.74</td>\n",
       "      <td>1.03</td>\n",
       "      <td>2.61</td>\n",
       "    </tr>\n",
       "  </tbody>\n",
       "</table>\n",
       "</div>"
      ],
      "text/plain": [
       "      backbone  protein  rank_2_ligand\n",
       "time                                  \n",
       "0         0.00     0.00           0.00\n",
       "1         0.66     0.88           1.83\n",
       "2         0.71     0.97           1.93\n",
       "3         0.75     1.03           2.63\n",
       "4         0.74     1.03           2.61"
      ]
     },
     "execution_count": 27,
     "metadata": {},
     "output_type": "execute_result"
    }
   ],
   "source": [
    "rmsd.rename(columns={\"resname UNK\": \"rank_2_ligand\"}, inplace=True)\n",
    "rmsd.head()"
   ]
  },
  {
   "cell_type": "code",
   "execution_count": 28,
   "metadata": {},
   "outputs": [
    {
     "data": {
      "image/png": "[encoded data removed]",
      "text/plain": [
       "<Figure size 640x480 with 1 Axes>"
      ]
     },
     "metadata": {},
     "output_type": "display_data"
    }
   ],
   "source": [
    "rmsd.plot(title=\"RMSD of protein and ligand\")\n",
    "plt.ylabel(\"RMSD (Å)\");"
   ]
  },
  {
   "cell_type": "code",
   "execution_count": 29,
   "metadata": {},
   "outputs": [],
   "source": [
    "#rmsd.to_csv(\"rank_2_rmsd_results.csv\")"
   ]
  },
  {
   "cell_type": "code",
   "execution_count": null,
   "metadata": {},
   "outputs": [],
   "source": []
  }
 ],
 "metadata": {
  "kernelspec": {
   "display_name": "Python 3",
   "language": "python",
   "name": "python3"
  },
  "language_info": {
   "codemirror_mode": {
    "name": "ipython",
    "version": 3
   },
   "file_extension": ".py",
   "mimetype": "text/x-python",
   "name": "python",
   "nbconvert_exporter": "python",
   "pygments_lexer": "ipython3",
   "version": "3.8.19"
  }
 },
 "nbformat": 4,
 "nbformat_minor": 2
}
