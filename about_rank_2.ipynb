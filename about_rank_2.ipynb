{
 "cells": [
  {
   "cell_type": "markdown",
   "metadata": {},
   "source": [
    "# MD Simultaion "
   ]
  },
  {
   "cell_type": "code",
   "execution_count": 1,
   "metadata": {},
   "outputs": [],
   "source": [
    "import copy\n",
    "from pathlib import Path\n",
    "import sys\n",
    "\n",
    "import requests\n",
    "from IPython.display import display\n",
    "import numpy as np\n",
    "from rdkit import Chem\n",
    "from rdkit.Chem import Draw\n",
    "from rdkit.Chem import AllChem\n",
    "import mdtraj as md\n",
    "import pdbfixer\n",
    "import openmm as mm\n",
    "import openmm.app as app\n",
    "from openmm import unit\n",
    "from openff.toolkit.topology import Molecule, Topology\n",
    "from openmmforcefields.generators import GAFFTemplateGenerator"
   ]
  },
  {
   "cell_type": "code",
   "execution_count": 2,
   "metadata": {},
   "outputs": [],
   "source": [
    "def prepare_protein(\n",
    "    pdb_file, ignore_missing_residues=True, ignore_terminal_missing_residues=True, ph=7.0\n",
    "):\n",
    "    \"\"\"\n",
    "    Use pdbfixer to prepare the protein from a PDB file. Hetero atoms such as ligands are\n",
    "    removed and non-standard residues replaced. Missing atoms to existing residues are added.\n",
    "    Missing residues are ignored by default, but can be included.\n",
    "\n",
    "    Parameters\n",
    "    ----------\n",
    "    pdb_file: pathlib.Path or str\n",
    "        PDB file containing the system to simulate.\n",
    "    ignore_missing_residues: bool, optional\n",
    "        If missing residues should be ignored or built.\n",
    "    ignore_terminal_missing_residues: bool, optional\n",
    "        If missing residues at the beginning and the end of a chain should be ignored or built.\n",
    "    ph: float, optional\n",
    "        pH value used to determine protonation state of residues\n",
    "\n",
    "    Returns\n",
    "    -------\n",
    "    fixer: pdbfixer.pdbfixer.PDBFixer\n",
    "        Prepared protein system.\n",
    "    \"\"\"\n",
    "    fixer = pdbfixer.PDBFixer(str(pdb_file))\n",
    "    fixer.removeHeterogens()  # co-crystallized ligands are unknown to PDBFixer\n",
    "    fixer.findMissingResidues()  # identify missing residues, needed for identification of missing atoms\n",
    "\n",
    "    # if missing terminal residues shall be ignored, remove them from the dictionary\n",
    "    if ignore_terminal_missing_residues:\n",
    "        chains = list(fixer.topology.chains())\n",
    "        keys = fixer.missingResidues.keys()\n",
    "        for key in list(keys):\n",
    "            chain = chains[key[0]]\n",
    "            if key[1] == 0 or key[1] == len(list(chain.residues())):\n",
    "                del fixer.missingResidues[key]\n",
    "\n",
    "    # if all missing residues shall be ignored ignored, clear the dictionary\n",
    "    if ignore_missing_residues:\n",
    "        fixer.missingResidues = {}\n",
    "\n",
    "    fixer.findNonstandardResidues()  # find non-standard residue\n",
    "    fixer.replaceNonstandardResidues()  # replace non-standard residues with standard one\n",
    "    fixer.findMissingAtoms()  # find missing heavy atoms\n",
    "    fixer.addMissingAtoms()  # add missing atoms and residues\n",
    "    fixer.addMissingHydrogens(ph)  # add missing hydrogens\n",
    "    return fixer"
   ]
  },
  {
   "cell_type": "code",
   "execution_count": 3,
   "metadata": {},
   "outputs": [],
   "source": [
    "import warnings\n",
    "\n",
    "warnings.filterwarnings(\"ignore\")"
   ]
  },
  {
   "cell_type": "code",
   "execution_count": 4,
   "metadata": {},
   "outputs": [],
   "source": [
    "prepare_protein = prepare_protein(\"./protein_rank_2_complex.pdb\", ignore_missing_residues=False)"
   ]
  },
  {
   "cell_type": "code",
   "execution_count": 5,
   "metadata": {},
   "outputs": [],
   "source": [
    "def prepare_ligand(pdb_file, resname, smiles, depict=True):\n",
    "    \"\"\"\n",
    "    Prepare a ligand from a PDB file via adding hydrogens and assigning bond orders. A depiction\n",
    "    of the ligand before and after preparation is rendered in 2D to allow an inspection of the\n",
    "    results. Huge thanks to @j-wags for the suggestion.\n",
    "\n",
    "    Parameters\n",
    "    ----------\n",
    "    pdb_file: pathlib.PosixPath\n",
    "       PDB file containing the ligand of interest.\n",
    "    resname: str\n",
    "        Three character residue name of the ligand.\n",
    "    smiles : str\n",
    "        SMILES string of the ligand informing about correct protonation and bond orders.\n",
    "    depict: bool, optional\n",
    "        show a 2D representation of the ligand\n",
    "\n",
    "    Returns\n",
    "    -------\n",
    "    prepared_ligand: rdkit.Chem.rdchem.Mol\n",
    "        Prepared ligand.\n",
    "    \"\"\"\n",
    "    # split molecule\n",
    "    rdkit_mol = Chem.MolFromPDBFile(str(pdb_file), proximityBonding=True, sanitize=False)\n",
    "    print(rdkit_mol)\n",
    "    rdkit_mol_split = Chem.rdmolops.SplitMolByPDBResidues(rdkit_mol)\n",
    "\n",
    "    # extract the ligand and remove any already present hydrogens\n",
    "    ligand = rdkit_mol_split[resname]\n",
    "    ligand = Chem.RemoveHs(ligand)\n",
    "\n",
    "    # assign bond orders from template\n",
    "    reference_mol = Chem.MolFromSmiles(smiles)\n",
    "    prepared_ligand = AllChem.AssignBondOrdersFromTemplate(reference_mol, ligand)\n",
    "    prepared_ligand.AddConformer(ligand.GetConformer(0))\n",
    "\n",
    "    # protonate ligand\n",
    "    prepared_ligand = Chem.rdmolops.AddHs(prepared_ligand, addCoords=True)\n",
    "    prepared_ligand = Chem.MolFromMolBlock(Chem.MolToMolBlock(prepared_ligand))\n",
    "\n",
    "    # 2D depiction\n",
    "    if depict:\n",
    "        ligand_2d = copy.deepcopy(ligand)\n",
    "        prepared_ligand_2d = copy.deepcopy(prepared_ligand)\n",
    "        AllChem.Compute2DCoords(ligand_2d)\n",
    "        AllChem.Compute2DCoords(prepared_ligand_2d)\n",
    "        display(\n",
    "            Draw.MolsToGridImage(\n",
    "                [ligand_2d, prepared_ligand_2d], molsPerRow=2, legends=[\"original\", \"prepared\"]\n",
    "            )\n",
    "        )\n",
    "\n",
    "    # return ligand\n",
    "    return prepared_ligand"
   ]
  },
  {
   "cell_type": "code",
   "execution_count": 6,
   "metadata": {},
   "outputs": [],
   "source": [
    "pdb_path = \"./protein_rank_2_complex.pdb\"\n",
    "ligand_name = \"UNL\"\n",
    "smiles = \"COc1ccccc1N1CCN(C(=O)Nc2ccccc2F)CC1\""
   ]
  },
  {
   "cell_type": "code",
   "execution_count": 7,
   "metadata": {},
   "outputs": [
    {
     "name": "stdout",
     "output_type": "stream",
     "text": [
      "<rdkit.Chem.rdchem.Mol object at 0x7fe7145884c0>\n"
     ]
    },
    {
     "name": "stderr",
     "output_type": "stream",
     "text": [
      "[11:42:23] WARNING: More than one matching pattern found - picking one\n",
      "\n"
     ]
    },
    {
     "data": {
      "image/png": "[encoded data removed]",
      "text/plain": [
       "<IPython.core.display.Image object>"
      ]
     },
     "metadata": {},
     "output_type": "display_data"
    }
   ],
   "source": [
    "rdkit_ligand = prepare_ligand(pdb_path, ligand_name, smiles)"
   ]
  },
  {
   "cell_type": "code",
   "execution_count": 8,
   "metadata": {},
   "outputs": [],
   "source": [
    "def rdkit_to_openmm(rdkit_mol, name=\"LIG\"):\n",
    "    \"\"\"\n",
    "    Convert an RDKit molecule to an OpenMM molecule.\n",
    "    Inspired by @hannahbrucemcdonald and @glass-w.\n",
    "\n",
    "    Parameters\n",
    "    ----------\n",
    "    rdkit_mol: rdkit.Chem.rdchem.Mol\n",
    "        RDKit molecule to convert.\n",
    "    name: str\n",
    "        Molecule name.\n",
    "\n",
    "    Returns\n",
    "    -------\n",
    "    omm_molecule: openmm.app.Modeller\n",
    "        OpenMM modeller object holding the molecule of interest.\n",
    "    \"\"\"\n",
    "    # convert RDKit to OpenFF\n",
    "    off_mol = Molecule.from_rdkit(rdkit_mol)\n",
    "    #print(off_mol)\n",
    "\n",
    "    # add name for molecule\n",
    "    off_mol.name = name\n",
    "    #print(off_mol.name)\n",
    "\n",
    "    # add names for atoms\n",
    "    element_counter_dict = {}\n",
    "    for off_atom, rdkit_atom in zip(off_mol.atoms, rdkit_mol.GetAtoms()):\n",
    "        element = rdkit_atom.GetSymbol()\n",
    "        if element in element_counter_dict.keys():\n",
    "            element_counter_dict[element] += 1\n",
    "        else:\n",
    "            element_counter_dict[element] = 1\n",
    "        off_atom.name = element + str(element_counter_dict[element])\n",
    "    #print(element_counter_dict)\n",
    "\n",
    "    # convert from OpenFF to OpenMM\n",
    "    off_mol_topology = off_mol.to_topology()\n",
    "    mol_topology = off_mol_topology.to_openmm()\n",
    "    #print(mol_topology)\n",
    "    mol_positions = off_mol.conformers[0]\n",
    "    #print(mol_positions)\n",
    "\n",
    "    # convert units from Ångström to nanometers\n",
    "    # since OpenMM works in nm\n",
    "    mol_positions = mol_positions.to(\"nanometers\")\n",
    "    #print(mol_positions)\n",
    "\n",
    "    # combine topology and positions in modeller object\n",
    "    omm_mol = app.Modeller(mol_topology, mol_positions)\n",
    "\n",
    "    return omm_mol"
   ]
  },
  {
   "cell_type": "code",
   "execution_count": 9,
   "metadata": {},
   "outputs": [],
   "source": [
    "omm_ligand = rdkit_to_openmm(rdkit_ligand, ligand_name)"
   ]
  },
  {
   "cell_type": "code",
   "execution_count": 10,
   "metadata": {},
   "outputs": [],
   "source": [
    "def merge_protein_and_ligand(protein, ligand):\n",
    "    \"\"\"\n",
    "    Merge two OpenMM objects.\n",
    "\n",
    "    Parameters\n",
    "    ----------\n",
    "    protein: pdbfixer.pdbfixer.PDBFixer\n",
    "        Protein to merge.\n",
    "    ligand: openmm.app.Modeller\n",
    "        Ligand to merge.\n",
    "\n",
    "    Returns\n",
    "    -------\n",
    "    complex_topology: openmm.app.topology.Topology\n",
    "        The merged topology.\n",
    "    complex_positions: openmm.unit.quantity.Quantity\n",
    "        The merged positions.\n",
    "    \"\"\"\n",
    "    # combine topologies\n",
    "    md_protein_topology = md.Topology.from_openmm(protein.topology)  # using mdtraj for protein top\n",
    "    #print(md_protein_topology)\n",
    "    md_ligand_topology = md.Topology.from_openmm(ligand.topology)  # using mdtraj for ligand top\n",
    "    #print(md_ligand_topology)\n",
    "    md_complex_topology = md_protein_topology.join(md_ligand_topology)  # add them together\n",
    "    #print(md_complex_topology)\n",
    "    complex_topology = md_complex_topology.to_openmm()\n",
    "    #print(complex_topology)\n",
    "\n",
    "    # combine positions\n",
    "    total_atoms = len(protein.positions) + len(ligand.positions)\n",
    "\n",
    "    # create an array for storing all atom positions as tupels containing a value and a unit\n",
    "    # called OpenMM Quantities\n",
    "    complex_positions = unit.Quantity(np.zeros([total_atoms, 3]), unit=unit.nanometers)\n",
    "    complex_positions[: len(protein.positions)] = protein.positions  # add protein positions\n",
    "    complex_positions[len(protein.positions) :] = ligand.positions  # add ligand positions\n",
    "\n",
    "    return complex_topology, complex_positions"
   ]
  },
  {
   "cell_type": "code",
   "execution_count": 11,
   "metadata": {},
   "outputs": [],
   "source": [
    "complex_topology, complex_positions = merge_protein_and_ligand(prepare_protein, omm_ligand)"
   ]
  },
  {
   "cell_type": "code",
   "execution_count": 12,
   "metadata": {},
   "outputs": [
    {
     "name": "stdout",
     "output_type": "stream",
     "text": [
      "Complex topology has 4205 atoms.\n"
     ]
    }
   ],
   "source": [
    "print(\"Complex topology has\", complex_topology.getNumAtoms(), \"atoms.\")\n",
    "# NBVAL_CHECK_OUTPUT"
   ]
  },
  {
   "cell_type": "code",
   "execution_count": 13,
   "metadata": {},
   "outputs": [],
   "source": [
    "def generate_forcefield(\n",
    "    rdkit_mol=None, protein_ff=\"amber14-all.xml\", solvent_ff=\"amber14/tip3pfb.xml\"\n",
    "):\n",
    "    \"\"\"\n",
    "    Generate an OpenMM Forcefield object and register a small molecule.\n",
    "\n",
    "    Parameters\n",
    "    ----------\n",
    "    rdkit_mol: rdkit.Chem.rdchem.Mol\n",
    "        Small molecule to register in the force field.\n",
    "    protein_ff: string\n",
    "        Name of the force field.\n",
    "    solvent_ff: string\n",
    "        Name of the solvent force field.\n",
    "\n",
    "    Returns\n",
    "    -------\n",
    "    forcefield: openmm.app.Forcefield\n",
    "        Forcefield with registered small molecule.\n",
    "    \"\"\"\n",
    "    forcefield = app.ForceField(protein_ff, solvent_ff)\n",
    "\n",
    "    if rdkit_mol is not None:\n",
    "        gaff = GAFFTemplateGenerator(\n",
    "            molecules=Molecule.from_rdkit(rdkit_mol, allow_undefined_stereo=True)\n",
    "        )\n",
    "        forcefield.registerTemplateGenerator(gaff.generator)\n",
    "\n",
    "    return forcefield"
   ]
  },
  {
   "cell_type": "code",
   "execution_count": 14,
   "metadata": {},
   "outputs": [],
   "source": [
    "forcefield = generate_forcefield(rdkit_ligand)"
   ]
  },
  {
   "cell_type": "code",
   "execution_count": 15,
   "metadata": {},
   "outputs": [
    {
     "name": "stderr",
     "output_type": "stream",
     "text": [
      "/bin/bash: /home/media/data2/user_home/dbsejrgus226/miniconda3/envs/MD/lib/libtinfo.so.6: no version information available (required by /bin/bash)\n",
      "/bin/bash: /home/media/data2/user_home/dbsejrgus226/miniconda3/envs/MD/lib/libtinfo.so.6: no version information available (required by /bin/bash)\n",
      "/bin/bash: /home/media/data2/user_home/dbsejrgus226/miniconda3/envs/MD/lib/libtinfo.so.6: no version information available (required by /bin/bash)\n",
      "/bin/bash: /home/media/data2/user_home/dbsejrgus226/miniconda3/envs/MD/lib/libtinfo.so.6: no version information available (required by /bin/bash)\n",
      "/bin/bash: /home/media/data2/user_home/dbsejrgus226/miniconda3/envs/MD/lib/libtinfo.so.6: no version information available (required by /bin/bash)\n",
      "/bin/bash: /home/media/data2/user_home/dbsejrgus226/miniconda3/envs/MD/lib/libtinfo.so.6: no version information available (required by /bin/bash)\n",
      "Warning: importing 'simtk.openmm' is deprecated.  Import 'openmm' instead.\n"
     ]
    }
   ],
   "source": [
    "modeller = app.Modeller(complex_topology, complex_positions)\n",
    "modeller.addSolvent(forcefield, padding=1.5 * unit.nanometers, ionicStrength=0.15 * unit.molar)"
   ]
  },
  {
   "cell_type": "code",
   "execution_count": 16,
   "metadata": {},
   "outputs": [],
   "source": [
    "system = forcefield.createSystem(modeller.topology, nonbondedMethod=app.NoCutoff)\n",
    "integrator = mm.LangevinIntegrator(\n",
    "    309.65 * unit.kelvin, 1.0 / unit.picoseconds, 2.0 * unit.femtoseconds\n",
    ")\n",
    "simulation = app.Simulation(modeller.topology, system, integrator)\n",
    "simulation.context.setPositions(modeller.positions)"
   ]
  },
  {
   "cell_type": "code",
   "execution_count": 17,
   "metadata": {},
   "outputs": [],
   "source": [
    "simulation.minimizeEnergy()\n",
    "with open(\"topology_2.pdb\", \"w\") as pdb_file:\n",
    "    app.PDBFile.writeFile(\n",
    "        simulation.topology,\n",
    "        simulation.context.getState(getPositions=True, enforcePeriodicBox=True).getPositions(),\n",
    "        file=pdb_file,\n",
    "        keepIds=True,\n",
    "    )"
   ]
  },
  {
   "cell_type": "code",
   "execution_count": 18,
   "metadata": {},
   "outputs": [],
   "source": [
    "# output settings\n",
    "\n",
    "steps = 50000  # corresponds to 100 fs\n",
    "write_interval = 500  # write every 10 fs\n",
    "log_interval = 250  # log progress to stdout every 5 fs\n",
    "simulation.reporters.append(\n",
    "    md.reporters.XTCReporter(file=str(\"trajectory_2.xtc\"), reportInterval=write_interval)\n",
    ")\n",
    "simulation.reporters.append(\n",
    "    app.StateDataReporter(\n",
    "        sys.stdout,\n",
    "        log_interval,\n",
    "        step=True,\n",
    "        potentialEnergy=True,\n",
    "        temperature=True,\n",
    "        progress=True,\n",
    "        remainingTime=True,\n",
    "        speed=True,\n",
    "        totalSteps=steps,\n",
    "        separator=\"\\t\",\n",
    "    )\n",
    ")"
   ]
  },
  {
   "cell_type": "code",
   "execution_count": 19,
   "metadata": {},
   "outputs": [
    {
     "name": "stdout",
     "output_type": "stream",
     "text": [
      "#\"Progress (%)\"\t\"Step\"\t\"Potential Energy (kJ/mole)\"\t\"Temperature (K)\"\t\"Speed (ns/day)\"\t\"Time Remaining\"\n",
      "0.5%\t250\t-1021835.5625\t211.8888302110409\t0\t--\n",
      "1.0%\t500\t-1000013.0\t248.5362087470398\t1.15\t2:03:52\n",
      "1.5%\t750\t-985274.6875\t270.9911419678757\t1.11\t2:07:45\n",
      "2.0%\t1000\t-975100.875\t283.95755760878427\t1.09\t2:09:24\n",
      "2.5%\t1250\t-968252.125\t291.8384602445758\t1.08\t2:10:04\n",
      "3.0%\t1500\t-962411.125\t294.94172033763147\t1.07\t2:10:10\n",
      "3.5%\t1750\t-959419.6875\t300.8658346514813\t1.07\t2:10:00\n",
      "4.0%\t2000\t-956994.25\t303.189117764919\t1.06\t2:10:01\n",
      "4.5%\t2250\t-955323.625\t303.5586332590103\t1.06\t2:09:54\n",
      "5.0%\t2500\t-953292.1875\t305.4754455957635\t1.05\t2:09:45\n",
      "5.5%\t2750\t-952728.375\t305.3620603531071\t1.05\t2:09:28\n",
      "6.0%\t3000\t-952430.375\t305.17985285036934\t1.05\t2:09:07\n",
      "6.5%\t3250\t-951598.625\t305.86942892034585\t1.05\t2:08:42\n",
      "7.0%\t3500\t-951808.125\t306.9746736958918\t1.04\t2:08:14\n",
      "7.5%\t3750\t-950634.5\t307.7705005836202\t1.04\t2:07:45\n",
      "8.0%\t4000\t-949074.125\t308.3222196868261\t1.04\t2:07:13\n",
      "8.5%\t4250\t-948662.375\t309.32579184758396\t1.04\t2:06:52\n",
      "9.0%\t4500\t-948451.0625\t309.96476047016006\t1.04\t2:06:27\n",
      "9.5%\t4750\t-948659.4375\t310.57208669807665\t1.03\t2:06:02\n",
      "10.0%\t5000\t-948679.0\t311.76227993550225\t1.03\t2:05:35\n",
      "10.5%\t5250\t-948150.5625\t310.56201835982364\t1.03\t2:05:06\n",
      "11.0%\t5500\t-948367.375\t310.25387641778127\t1.03\t2:04:36\n",
      "11.5%\t5750\t-948597.25\t309.7773168320766\t1.03\t2:04:05\n",
      "12.0%\t6000\t-948520.875\t309.0759961502308\t1.03\t2:03:33\n",
      "12.5%\t6250\t-950147.75\t310.9821404227644\t1.02\t2:03:00\n",
      "13.0%\t6500\t-949609.25\t310.17685949799176\t1.02\t2:02:26\n",
      "13.5%\t6750\t-950432.75\t307.74354472597247\t1.02\t2:01:51\n",
      "14.0%\t7000\t-950204.125\t309.6313629767616\t1.02\t2:01:16\n",
      "14.5%\t7250\t-950153.875\t308.6448033865419\t1.02\t2:00:40\n",
      "15.0%\t7500\t-950302.1875\t308.5254026000309\t1.02\t2:00:03\n",
      "15.5%\t7750\t-952171.1875\t309.0353183834004\t1.02\t1:59:27\n",
      "16.0%\t8000\t-951739.625\t308.3008110491326\t1.02\t1:58:49\n",
      "16.5%\t8250\t-951904.375\t310.99788396904535\t1.02\t1:58:12\n",
      "17.0%\t8500\t-951696.75\t307.3755406528763\t1.02\t1:57:34\n",
      "17.5%\t8750\t-952745.5\t307.87371259132107\t1.02\t1:56:55\n",
      "18.0%\t9000\t-952199.5625\t307.2969561491488\t1.02\t1:56:17\n",
      "18.5%\t9250\t-951888.125\t308.1901701880395\t1.01\t1:55:38\n",
      "19.0%\t9500\t-951721.25\t309.20804243412454\t1.01\t1:54:59\n",
      "19.5%\t9750\t-951103.25\t309.8240850753121\t1.01\t1:54:19\n",
      "20.0%\t10000\t-950897.125\t308.9879674326151\t1.01\t1:53:40\n",
      "20.5%\t10250\t-950358.25\t308.34048900746654\t1.01\t1:53:00\n",
      "21.0%\t10500\t-951473.625\t309.9419063589414\t1.01\t1:52:21\n",
      "21.5%\t10750\t-952856.4375\t310.3102752526643\t1.01\t1:51:41\n",
      "22.0%\t11000\t-951874.375\t309.4320943876901\t1.01\t1:51:00\n",
      "22.5%\t11250\t-951032.625\t309.1532808739285\t1.01\t1:50:20\n",
      "23.0%\t11500\t-951033.375\t309.4117838743057\t1.01\t1:49:40\n",
      "23.5%\t11750\t-951193.9375\t307.91861740954374\t1.01\t1:48:59\n",
      "24.0%\t12000\t-951511.0\t309.4042460631365\t1.01\t1:48:18\n",
      "24.5%\t12250\t-952738.8125\t310.32625346983946\t1.01\t1:47:37\n",
      "25.0%\t12500\t-952311.875\t308.8211984713981\t1.01\t1:46:56\n",
      "25.5%\t12750\t-952011.125\t309.0151665648246\t1.01\t1:46:15\n",
      "26.0%\t13000\t-952017.25\t308.8144118550919\t1.01\t1:45:34\n",
      "26.5%\t13250\t-951072.0\t308.4844316904998\t1.01\t1:44:53\n",
      "27.0%\t13500\t-950744.625\t309.33962934226304\t1.01\t1:44:12\n",
      "27.5%\t13750\t-952078.5\t309.6962501126357\t1.01\t1:43:30\n",
      "28.0%\t14000\t-950563.375\t310.5467501251612\t1.01\t1:42:49\n",
      "28.5%\t14250\t-951657.0\t310.46957486611\t1.01\t1:42:07\n",
      "29.0%\t14500\t-952256.25\t310.31357604952535\t1.01\t1:41:26\n",
      "29.5%\t14750\t-952703.875\t310.48533734086493\t1.01\t1:40:44\n",
      "30.0%\t15000\t-951669.1875\t307.55673980819097\t1.01\t1:40:02\n",
      "30.5%\t15250\t-952369.4375\t308.4007048198086\t1.01\t1:39:21\n",
      "31.0%\t15500\t-951787.0\t309.32582335952793\t1.01\t1:38:39\n",
      "31.5%\t15750\t-950449.0\t309.0386841096599\t1.01\t1:37:38\n",
      "32.0%\t16000\t-950404.125\t311.1558388235644\t1.01\t1:36:35\n",
      "32.5%\t16250\t-949958.75\t310.00670529099693\t1.02\t1:35:34\n",
      "33.0%\t16500\t-950920.25\t310.5486337938347\t1.02\t1:34:34\n",
      "33.5%\t16750\t-951683.5625\t312.2829781783311\t1.02\t1:33:34\n",
      "34.0%\t17000\t-951438.25\t311.92689631845815\t1.03\t1:32:35\n",
      "34.5%\t17250\t-949255.875\t307.283963044729\t1.03\t1:31:37\n",
      "35.0%\t17500\t-951211.9375\t311.10297801993823\t1.03\t1:30:39\n",
      "35.5%\t17750\t-950255.0\t309.2468820908702\t1.04\t1:29:42\n",
      "36.0%\t18000\t-951046.1875\t309.2688068102342\t1.04\t1:28:46\n",
      "36.5%\t18250\t-951793.0\t311.21108550892217\t1.04\t1:27:51\n",
      "37.0%\t18500\t-951637.75\t311.7891749354283\t1.04\t1:26:56\n",
      "37.5%\t18750\t-950982.875\t312.1982333194898\t1.05\t1:26:01\n",
      "38.0%\t19000\t-951802.1875\t311.08077335123716\t1.05\t1:25:07\n",
      "38.5%\t19250\t-951238.9375\t311.49942092258067\t1.05\t1:24:14\n",
      "39.0%\t19500\t-951516.875\t310.2771068475936\t1.05\t1:23:21\n",
      "39.5%\t19750\t-950609.75\t310.5042587687617\t1.06\t1:22:29\n",
      "40.0%\t20000\t-951920.0625\t311.0022218753364\t1.06\t1:21:37\n",
      "40.5%\t20250\t-951186.875\t309.69753032604217\t1.06\t1:20:46\n",
      "41.0%\t20500\t-951084.125\t310.08593908408864\t1.06\t1:19:55\n",
      "41.5%\t20750\t-949994.125\t309.8956642230479\t1.07\t1:19:04\n",
      "42.0%\t21000\t-951192.0\t311.06852598525455\t1.07\t1:18:14\n",
      "42.5%\t21250\t-953102.375\t311.9499659194787\t1.07\t1:17:24\n",
      "43.0%\t21500\t-952910.3125\t312.4241586651291\t1.07\t1:16:35\n",
      "43.5%\t21750\t-952083.75\t310.1223398456121\t1.07\t1:15:46\n",
      "44.0%\t22000\t-951942.5\t308.8731794933792\t1.08\t1:14:57\n",
      "44.5%\t22250\t-952187.125\t310.6506276468341\t1.08\t1:14:09\n",
      "45.0%\t22500\t-952538.6875\t310.2675518792765\t1.08\t1:13:21\n",
      "45.5%\t22750\t-952938.0\t312.3469750443057\t1.08\t1:12:33\n",
      "46.0%\t23000\t-952142.75\t308.3844689251266\t1.08\t1:11:46\n",
      "46.5%\t23250\t-954778.8125\t309.99827852876746\t1.09\t1:10:59\n",
      "47.0%\t23500\t-953038.375\t309.3744568696083\t1.09\t1:10:12\n",
      "47.5%\t23750\t-952826.125\t310.0043198256669\t1.09\t1:09:26\n",
      "48.0%\t24000\t-952186.25\t307.79929135349647\t1.09\t1:08:40\n",
      "48.5%\t24250\t-950973.9375\t309.26577303141534\t1.09\t1:07:54\n",
      "49.0%\t24500\t-952193.0\t311.31692803376507\t1.09\t1:07:08\n",
      "49.5%\t24750\t-952289.625\t309.3635047525787\t1.1\t1:06:22\n",
      "50.0%\t25000\t-952911.125\t309.02399730406785\t1.1\t1:05:37\n",
      "50.5%\t25250\t-952818.5625\t310.52222130987604\t1.1\t1:04:52\n",
      "51.0%\t25500\t-952209.9375\t310.1673709766803\t1.1\t1:04:07\n",
      "51.5%\t25750\t-951734.3125\t310.41543305611344\t1.1\t1:03:23\n",
      "52.0%\t26000\t-951406.25\t309.0610194318877\t1.1\t1:02:38\n",
      "52.5%\t26250\t-952198.3125\t309.3454554376087\t1.1\t1:01:54\n",
      "53.0%\t26500\t-952815.25\t309.36602160679524\t1.11\t1:01:10\n",
      "53.5%\t26750\t-953647.0625\t309.4872416796792\t1.11\t1:00:27\n",
      "54.0%\t27000\t-954051.1875\t311.007126664771\t1.11\t59:43\n",
      "54.5%\t27250\t-954428.0\t311.3240614820275\t1.11\t59:00\n",
      "55.0%\t27500\t-953295.125\t309.78761695903114\t1.11\t58:16\n",
      "55.5%\t27750\t-953379.75\t311.43354749905285\t1.11\t57:33\n",
      "56.0%\t28000\t-952345.125\t308.8535361080762\t1.11\t56:51\n",
      "56.5%\t28250\t-953046.1875\t310.8570445484796\t1.12\t56:08\n",
      "57.0%\t28500\t-952679.0\t308.67446936914774\t1.12\t55:25\n",
      "57.5%\t28750\t-951610.625\t307.6500068379199\t1.12\t54:43\n",
      "58.0%\t29000\t-952550.25\t311.66958944003534\t1.12\t54:01\n",
      "58.5%\t29250\t-951520.875\t308.8656693416575\t1.12\t53:19\n",
      "59.0%\t29500\t-952119.75\t309.5522715021077\t1.12\t52:37\n",
      "59.5%\t29750\t-951983.0\t310.92241527786496\t1.12\t51:55\n",
      "60.0%\t30000\t-952031.3125\t310.6422944885023\t1.12\t51:13\n",
      "60.5%\t30250\t-950710.375\t309.95512537024865\t1.13\t50:32\n",
      "61.0%\t30500\t-953077.0\t312.68364989410793\t1.13\t49:50\n",
      "61.5%\t30750\t-952786.875\t310.9862583299381\t1.13\t49:09\n",
      "62.0%\t31000\t-952718.75\t311.3523030514536\t1.13\t48:28\n",
      "62.5%\t31250\t-952033.125\t308.2320571906225\t1.13\t47:47\n",
      "63.0%\t31500\t-952162.75\t310.5790445712112\t1.13\t47:06\n",
      "63.5%\t31750\t-953696.0625\t310.3860427281195\t1.13\t46:25\n",
      "64.0%\t32000\t-952781.1875\t308.8013034122728\t1.13\t45:44\n",
      "64.5%\t32250\t-952326.125\t307.78357244064443\t1.13\t45:04\n",
      "65.0%\t32500\t-952598.125\t308.914329280739\t1.14\t44:23\n",
      "65.5%\t32750\t-952528.375\t309.31030692395126\t1.14\t43:43\n",
      "66.0%\t33000\t-953207.75\t308.70889452636317\t1.14\t43:03\n",
      "66.5%\t33250\t-952198.375\t307.7447299093026\t1.14\t42:22\n",
      "67.0%\t33500\t-953628.9375\t311.1398468219949\t1.14\t41:42\n",
      "67.5%\t33750\t-953237.875\t309.85814014422334\t1.14\t41:02\n",
      "68.0%\t34000\t-952760.125\t308.4200270915231\t1.14\t40:23\n",
      "68.5%\t34250\t-952243.75\t309.30743204314285\t1.14\t39:43\n",
      "69.0%\t34500\t-953912.5\t309.2990338069235\t1.14\t39:03\n",
      "69.5%\t34750\t-953408.9375\t310.01843615537746\t1.14\t38:23\n",
      "70.0%\t35000\t-953149.5\t308.4484297782476\t1.14\t37:44\n",
      "70.5%\t35250\t-953618.25\t309.39577674820845\t1.15\t37:04\n",
      "71.0%\t35500\t-954390.625\t308.59011959970536\t1.15\t36:25\n",
      "71.5%\t35750\t-953832.5\t309.04516528851053\t1.15\t35:46\n",
      "72.0%\t36000\t-954584.875\t310.06518344124754\t1.15\t35:07\n",
      "72.5%\t36250\t-954265.3125\t310.9056971290111\t1.15\t34:27\n",
      "73.0%\t36500\t-954560.5625\t312.0752711018341\t1.15\t33:48\n",
      "73.5%\t36750\t-953844.5\t309.5505049876761\t1.15\t33:09\n",
      "74.0%\t37000\t-953744.0625\t310.41404606603294\t1.15\t32:30\n",
      "74.5%\t37250\t-953411.0\t311.185928140399\t1.15\t31:52\n",
      "75.0%\t37500\t-952086.5625\t308.83247839124664\t1.15\t31:13\n",
      "75.5%\t37750\t-954469.0\t313.2387521485243\t1.15\t30:34\n",
      "76.0%\t38000\t-953487.5\t309.20372787595727\t1.15\t29:56\n",
      "76.5%\t38250\t-954426.8125\t312.01075073455513\t1.16\t29:17\n",
      "77.0%\t38500\t-953494.9375\t309.69672293473707\t1.16\t28:38\n",
      "77.5%\t38750\t-953169.9375\t309.87483539316946\t1.16\t28:00\n",
      "78.0%\t39000\t-952711.25\t308.0278436264907\t1.16\t27:22\n",
      "78.5%\t39250\t-953709.0625\t309.34416792734817\t1.16\t26:43\n",
      "79.0%\t39500\t-953440.3125\t311.0800407539007\t1.16\t26:05\n",
      "79.5%\t39750\t-952579.75\t308.91147145297003\t1.16\t25:27\n",
      "80.0%\t40000\t-952912.3125\t309.87956410610246\t1.16\t24:49\n",
      "80.5%\t40250\t-952657.75\t308.46138605516336\t1.16\t24:11\n",
      "81.0%\t40500\t-953779.125\t309.97584370466205\t1.16\t23:33\n",
      "81.5%\t40750\t-953736.625\t310.19486567955926\t1.16\t22:55\n",
      "82.0%\t41000\t-953422.6875\t310.4674614664642\t1.16\t22:17\n",
      "82.5%\t41250\t-953159.375\t310.3579773119464\t1.16\t21:39\n",
      "83.0%\t41500\t-952885.25\t309.9792729412098\t1.16\t21:01\n",
      "83.5%\t41750\t-952944.625\t311.0002228845799\t1.17\t20:23\n",
      "84.0%\t42000\t-953164.75\t310.7118410924326\t1.17\t19:45\n",
      "84.5%\t42250\t-953094.8125\t310.4886246006276\t1.17\t19:08\n",
      "85.0%\t42500\t-953686.0625\t308.3180485946315\t1.17\t18:30\n",
      "85.5%\t42750\t-953015.0\t308.717969508672\t1.17\t17:53\n",
      "86.0%\t43000\t-952937.4375\t309.63796582926017\t1.17\t17:15\n",
      "86.5%\t43250\t-952285.125\t308.77886587217523\t1.17\t16:38\n",
      "87.0%\t43500\t-952596.5\t310.2059807638985\t1.17\t16:00\n",
      "87.5%\t43750\t-953207.25\t309.6381724498323\t1.17\t15:23\n",
      "88.0%\t44000\t-953625.625\t311.30954404440337\t1.17\t14:45\n",
      "88.5%\t44250\t-952405.875\t310.1021186333006\t1.17\t14:08\n",
      "89.0%\t44500\t-952638.125\t309.4860131969683\t1.17\t13:31\n",
      "89.5%\t44750\t-953701.75\t312.12201831931026\t1.17\t12:53\n",
      "90.0%\t45000\t-952136.375\t310.38614434972\t1.17\t12:16\n",
      "90.5%\t45250\t-953219.3125\t308.20587208523665\t1.17\t11:39\n",
      "91.0%\t45500\t-953842.0\t310.56646088126723\t1.17\t11:02\n",
      "91.5%\t45750\t-951794.5\t309.6680184511201\t1.17\t10:25\n",
      "92.0%\t46000\t-954127.375\t311.7263861786539\t1.17\t9:48\n",
      "92.5%\t46250\t-953559.5\t309.10903145193674\t1.18\t9:11\n",
      "93.0%\t46500\t-954041.125\t310.8198679740289\t1.18\t8:34\n",
      "93.5%\t46750\t-953804.0625\t311.36566173936404\t1.18\t7:57\n",
      "94.0%\t47000\t-953428.5\t309.8892067217909\t1.18\t7:20\n",
      "94.5%\t47250\t-952850.5625\t309.2584075414886\t1.18\t6:43\n",
      "95.0%\t47500\t-953165.4375\t307.8907034995464\t1.18\t6:06\n",
      "95.5%\t47750\t-953909.625\t310.43200041939036\t1.18\t5:29\n",
      "96.0%\t48000\t-952692.375\t309.0659529523764\t1.18\t4:53\n",
      "96.5%\t48250\t-953566.875\t311.9125694875383\t1.18\t4:16\n",
      "97.0%\t48500\t-952078.5\t311.76003709351454\t1.18\t3:39\n",
      "97.5%\t48750\t-952168.0625\t312.0254113420404\t1.18\t3:03\n",
      "98.0%\t49000\t-951629.75\t311.33262872285974\t1.18\t2:26\n",
      "98.5%\t49250\t-950972.0625\t311.2434021664267\t1.18\t1:49\n",
      "99.0%\t49500\t-951839.625\t311.3870086859718\t1.18\t1:13\n",
      "99.5%\t49750\t-952328.5625\t312.6066284697687\t1.18\t0:36\n",
      "100.0%\t50000\t-951406.9375\t309.391988230767\t1.18\t0:00\n"
     ]
    }
   ],
   "source": [
    "simulation.context.setVelocitiesToTemperature(309.65 * unit.kelvin)\n",
    "simulation.step(steps)  # perform the simulation"
   ]
  },
  {
   "cell_type": "code",
   "execution_count": 20,
   "metadata": {},
   "outputs": [
    {
     "name": "stdout",
     "output_type": "stream",
     "text": [
      "os.stat_result(st_mode=33204, st_ino=235276794, st_dev=2080, st_nlink=1, st_uid=1002, st_gid=1002, st_size=22645332, st_atime=1717123879, st_mtime=1717131211, st_ctime=1717131211)\n"
     ]
    }
   ],
   "source": [
    "# Check the trajectory exists and is not empty\n",
    "import os \n",
    "result = \"./trajectory_2.xtc\"\n",
    "file_info = os.stat(result)\n",
    "print(file_info)\n",
    "#result.stat().st_size > 0\n",
    "# NBVAL_CHECK_OUTPUT"
   ]
  },
  {
   "cell_type": "markdown",
   "metadata": {},
   "source": [
    "# Analysis MD Simulation results"
   ]
  },
  {
   "cell_type": "code",
   "execution_count": 21,
   "metadata": {},
   "outputs": [
    {
     "data": {
      "application/vnd.jupyter.widget-view+json": {
       "model_id": "876887236db24e74881f311e10e1c676",
       "version_major": 2,
       "version_minor": 0
      },
      "text/plain": []
     },
     "metadata": {},
     "output_type": "display_data"
    }
   ],
   "source": [
    "from pathlib import Path\n",
    "\n",
    "import pandas as pd\n",
    "import numpy as np\n",
    "import matplotlib.pyplot as plt\n",
    "import nglview as nv\n",
    "import MDAnalysis as mda\n",
    "from MDAnalysis.analysis import rms, diffusionmap, align\n",
    "from MDAnalysis.analysis.distances import dist\n",
    "from MDAnalysis.analysis.hydrogenbonds.hbond_analysis import HydrogenBondAnalysis as HBA\n"
   ]
  },
  {
   "cell_type": "code",
   "execution_count": 22,
   "metadata": {},
   "outputs": [],
   "source": [
    "#import warnings\n",
    "\n",
    "# 경고를 무시하도록 설정합니다.\n",
    "#warnings.filterwarnings(\"ignore\", message=\"PDB file is missing resid information.\")\n",
    "#warnings.filterwarnings(\"ignore\", message=\"Reload offsets from trajectory\")\n",
    "\n",
    "# 나머지 코드 실행\n"
   ]
  },
  {
   "cell_type": "code",
   "execution_count": 23,
   "metadata": {},
   "outputs": [],
   "source": [
    "md_universe = mda.Universe(str(\"./topology_2.pdb\"), str(\"./trajectory_2.xtc\"))"
   ]
  },
  {
   "cell_type": "code",
   "execution_count": 24,
   "metadata": {},
   "outputs": [
    {
     "data": {
      "text/plain": [
       "<MDAnalysis.analysis.align.AlignTraj at 0x7fe6f0f18130>"
      ]
     },
     "execution_count": 24,
     "metadata": {},
     "output_type": "execute_result"
    }
   ],
   "source": [
    "# Set trajectory pointer to first frame as reference\n",
    "md_universe.trajectory[0]\n",
    "\n",
    "# in_memory=True is needed to actually modify the loaded trajectory\n",
    "# if the trajectory is too big for memory, one can write out the aligned trajectory and reload it into a new universe\n",
    "alignment = align.AlignTraj(\n",
    "    mobile=md_universe, reference=md_universe, select=\"protein\", in_memory=True\n",
    ")\n",
    "alignment.run()"
   ]
  },
  {
   "cell_type": "code",
   "execution_count": 25,
   "metadata": {},
   "outputs": [],
   "source": [
    "def rmsd_for_atomgroups(universe, selection1, selection2=None):\n",
    "    \"\"\"Calulate the RMSD for selected atom groups.\n",
    "\n",
    "    Parameters\n",
    "    ----------\n",
    "    universe: MDAnalysis.core.universe.Universe\n",
    "        MDAnalysis universe.\n",
    "    selection1: str\n",
    "        Selection string for main atom group, also used during alignment.\n",
    "    selection2: list of str, optional\n",
    "        Selection strings for additional atom groups.\n",
    "\n",
    "    Returns\n",
    "    -------\n",
    "    rmsd_df: pandas.core.frame.DataFrame\n",
    "        DataFrame containing RMSD of the selected atom groups over time.\n",
    "    \"\"\"\n",
    "\n",
    "    universe.trajectory\n",
    "    ref = universe\n",
    "    rmsd_analysis = rms.RMSD(universe, ref, select=selection1, groupselections=selection2)\n",
    "    rmsd_analysis.run()\n",
    "\n",
    "    columns = [selection1, *selection2] if selection2 else [selection1]\n",
    "    #print(rmsd_analysis.results)\n",
    "    #print(rmsd_analysis)\n",
    "    rmsd_df = pd.DataFrame(np.round(rmsd_analysis.results.rmsd[:, 2:], 2), columns=columns)\n",
    "    rmsd_df.index.name = \"time\"\n",
    "    return rmsd_df"
   ]
  },
  {
   "cell_type": "code",
   "execution_count": 26,
   "metadata": {},
   "outputs": [],
   "source": [
    "rmsd = rmsd_for_atomgroups(md_universe, \"backbone\", [\"protein\", \"resname UNK\"])\n",
    "#rmsd[:20]"
   ]
  },
  {
   "cell_type": "code",
   "execution_count": 27,
   "metadata": {},
   "outputs": [
    {
     "data": {
      "text/html": [
       "<div>\n",
       "<style scoped>\n",
       "    .dataframe tbody tr th:only-of-type {\n",
       "        vertical-align: middle;\n",
       "    }\n",
       "\n",
       "    .dataframe tbody tr th {\n",
       "        vertical-align: top;\n",
       "    }\n",
       "\n",
       "    .dataframe thead th {\n",
       "        text-align: right;\n",
       "    }\n",
       "</style>\n",
       "<table border=\"1\" class=\"dataframe\">\n",
       "  <thead>\n",
       "    <tr style=\"text-align: right;\">\n",
       "      <th></th>\n",
       "      <th>backbone</th>\n",
       "      <th>protein</th>\n",
       "      <th>rank_2_ligand</th>\n",
       "    </tr>\n",
       "    <tr>\n",
       "      <th>time</th>\n",
       "      <th></th>\n",
       "      <th></th>\n",
       "      <th></th>\n",
       "    </tr>\n",
       "  </thead>\n",
       "  <tbody>\n",
       "    <tr>\n",
       "      <th>0</th>\n",
       "      <td>0.00</td>\n",
       "      <td>0.00</td>\n",
       "      <td>0.00</td>\n",
       "    </tr>\n",
       "    <tr>\n",
       "      <th>1</th>\n",
       "      <td>0.60</td>\n",
       "      <td>0.83</td>\n",
       "      <td>0.77</td>\n",
       "    </tr>\n",
       "    <tr>\n",
       "      <th>2</th>\n",
       "      <td>0.69</td>\n",
       "      <td>0.92</td>\n",
       "      <td>0.84</td>\n",
       "    </tr>\n",
       "    <tr>\n",
       "      <th>3</th>\n",
       "      <td>0.76</td>\n",
       "      <td>1.02</td>\n",
       "      <td>0.99</td>\n",
       "    </tr>\n",
       "    <tr>\n",
       "      <th>4</th>\n",
       "      <td>0.86</td>\n",
       "      <td>1.11</td>\n",
       "      <td>0.92</td>\n",
       "    </tr>\n",
       "  </tbody>\n",
       "</table>\n",
       "</div>"
      ],
      "text/plain": [
       "      backbone  protein  rank_2_ligand\n",
       "time                                  \n",
       "0         0.00     0.00           0.00\n",
       "1         0.60     0.83           0.77\n",
       "2         0.69     0.92           0.84\n",
       "3         0.76     1.02           0.99\n",
       "4         0.86     1.11           0.92"
      ]
     },
     "execution_count": 27,
     "metadata": {},
     "output_type": "execute_result"
    }
   ],
   "source": [
    "rmsd.rename(columns={\"resname UNK\": \"rank_2_ligand\"}, inplace=True)\n",
    "rmsd.head()"
   ]
  },
  {
   "cell_type": "code",
   "execution_count": 28,
   "metadata": {},
   "outputs": [
    {
     "data": {
      "image/png": "[encoded data removed]",
      "text/plain": [
       "<Figure size 640x480 with 1 Axes>"
      ]
     },
     "metadata": {},
     "output_type": "display_data"
    }
   ],
   "source": [
    "rmsd.plot(title=\"RMSD of protein and ligand\")\n",
    "plt.ylabel(\"RMSD (Å)\");"
   ]
  },
  {
   "cell_type": "code",
   "execution_count": 29,
   "metadata": {},
   "outputs": [],
   "source": [
    "rmsd.to_csv(\"rank_2_rmsd_results.csv\")"
   ]
  },
  {
   "cell_type": "markdown",
   "metadata": {},
   "source": [
    "## RMSF Analysis"
   ]
  },
  {
   "cell_type": "code",
   "execution_count": 1,
   "metadata": {},
   "outputs": [],
   "source": [
    "import MDAnalysis as mda\n",
    "from MDAnalysis.analysis import align\n",
    "import MDAnalysis.transformations as trans\n",
    "from MDAnalysis.analysis.rms import RMSF\n",
    "\n",
    "import matplotlib.pyplot as plt"
   ]
  },
  {
   "cell_type": "code",
   "execution_count": 3,
   "metadata": {},
   "outputs": [],
   "source": [
    "md_universe = mda.Universe(str(\"./topology_2.pdb\"), str(\"./trajectory_2.xtc\"))\n",
    "protein = md_universe.select_atoms(\"protein\")\n",
    "\n",
    "# 1) the current trajectory contains a protein split across\n",
    "#    periodic boundaries, so we first make the protein whole and\n",
    "#    center it in the box using on-the-fly transformations\n",
    "not_protein = md_universe.select_atoms(\"not protein\")\n",
    "transforms = [trans.unwrap(protein),\n",
    "              trans.center_in_box(protein, wrap=True),\n",
    "              trans.wrap(not_protein)]\n",
    "md_universe.trajectory.add_transformations(*transforms)\n",
    "\n",
    "# 2) fit to the initial frame to get a better average structure\n",
    "#    (the trajectory is changed in memory)\n",
    "prealigner = align.AlignTraj(md_universe, md_universe, select=\"protein and name CA\",\n",
    "                             in_memory=True).run()\n",
    "\n",
    "# 3) reference = average structure\n",
    "reference_coordinates = md_universe.trajectory.timeseries(asel=protein).mean(axis=1)\n",
    "# make a reference structure (need to reshape into a 1-frame \"trajectory\")\n",
    "reference = mda.Merge(protein).load_new(\n",
    "    reference_coordinates[:, None, :], order=\"afc\")\n",
    "\n",
    "# We created a new universe reference that contains a single frame with the averaged coordinates of the protein.\n",
    "# Now we need to fit the whole trajectory to the reference by minimizing the RMSD. \n",
    "# We use MDAnalysis.analysis.align.AlignTraj:\n",
    "aligner = align.AlignTraj(md_universe, reference, select=\"protein and name CA\", in_memory=True).run()\n"
   ]
  },
  {
   "cell_type": "code",
   "execution_count": 5,
   "metadata": {},
   "outputs": [],
   "source": [
    "# The trajectory is now fitted to the reference (the RMSD is stored as aligner.rmsd for further inspection). \n",
    "# Now we can calculate the RMSF:\n",
    "calphas = protein.select_atoms(\"name CA\")\n",
    "rmsfer = RMSF(calphas, verbose=False).run()"
   ]
  },
  {
   "cell_type": "code",
   "execution_count": 6,
   "metadata": {},
   "outputs": [
    {
     "name": "stderr",
     "output_type": "stream",
     "text": [
      "/home/media/data2/user_home/dbsejrgus226/miniconda3/envs/MD/lib/python3.8/site-packages/MDAnalysis/analysis/rms.py:877: DeprecationWarning: The `rmsf` attribute was deprecated in MDAnalysis 2.0.0 and will be removed in MDAnalysis 3.0.0. Please use `results.rmsd` instead.\n",
      "  warnings.warn(wmsg, DeprecationWarning)\n"
     ]
    },
    {
     "data": {
      "text/plain": [
       "[<matplotlib.lines.Line2D at 0x7f20490b94f0>]"
      ]
     },
     "execution_count": 6,
     "metadata": {},
     "output_type": "execute_result"
    },
    {
     "data": {
      "image/png": "[encoded data removed]",
      "text/plain": [
       "<Figure size 640x480 with 1 Axes>"
      ]
     },
     "metadata": {},
     "output_type": "display_data"
    }
   ],
   "source": [
    "plt.plot(calphas.resnums, rmsfer.rmsf)"
   ]
  },
  {
   "cell_type": "code",
   "execution_count": null,
   "metadata": {},
   "outputs": [],
   "source": []
  }
 ],
 "metadata": {
  "kernelspec": {
   "display_name": "Python 3",
   "language": "python",
   "name": "python3"
  },
  "language_info": {
   "codemirror_mode": {
    "name": "ipython",
    "version": 3
   },
   "file_extension": ".py",
   "mimetype": "text/x-python",
   "name": "python",
   "nbconvert_exporter": "python",
   "pygments_lexer": "ipython3",
   "version": "3.8.12"
  }
 },
 "nbformat": 4,
 "nbformat_minor": 2
}
