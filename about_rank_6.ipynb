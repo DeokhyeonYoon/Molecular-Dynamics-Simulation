{
 "cells": [
  {
   "cell_type": "markdown",
   "metadata": {},
   "source": [
    "# MD Simultaion "
   ]
  },
  {
   "cell_type": "code",
   "execution_count": 1,
   "metadata": {},
   "outputs": [],
   "source": [
    "import copy\n",
    "from pathlib import Path\n",
    "import sys\n",
    "\n",
    "import requests\n",
    "from IPython.display import display\n",
    "import numpy as np\n",
    "from rdkit import Chem\n",
    "from rdkit.Chem import Draw\n",
    "from rdkit.Chem import AllChem\n",
    "import mdtraj as md\n",
    "import pdbfixer\n",
    "import openmm as mm\n",
    "import openmm.app as app\n",
    "from openmm import unit\n",
    "from openff.toolkit.topology import Molecule, Topology\n",
    "from openmmforcefields.generators import GAFFTemplateGenerator"
   ]
  },
  {
   "cell_type": "code",
   "execution_count": 2,
   "metadata": {},
   "outputs": [],
   "source": [
    "#import warnings\n",
    "\n",
    "# 경고를 무시하도록 설정합니다.\n",
    "#warnings.filterwarnings(\"ignore\", message=\"PDB file is missing resid information.\")\n",
    "#warnings.filterwarnings(\"ignore\", message=\"Reload offsets from trajectory\")\n",
    "#warnings.filterwarnings(\"ignore\", message=\"duplicate atom\")\n",
    "\n",
    "# 나머지 코드 실행"
   ]
  },
  {
   "cell_type": "code",
   "execution_count": 3,
   "metadata": {},
   "outputs": [],
   "source": [
    "import warnings\n",
    "warnings.filterwarnings(\"ignore\")"
   ]
  },
  {
   "cell_type": "code",
   "execution_count": 4,
   "metadata": {},
   "outputs": [],
   "source": [
    "def prepare_protein(\n",
    "    pdb_file, ignore_missing_residues=True, ignore_terminal_missing_residues=True, ph=7.0\n",
    "):\n",
    "    \"\"\"\n",
    "    Use pdbfixer to prepare the protein from a PDB file. Hetero atoms such as ligands are\n",
    "    removed and non-standard residues replaced. Missing atoms to existing residues are added.\n",
    "    Missing residues are ignored by default, but can be included.\n",
    "\n",
    "    Parameters\n",
    "    ----------\n",
    "    pdb_file: pathlib.Path or str\n",
    "        PDB file containing the system to simulate.\n",
    "    ignore_missing_residues: bool, optional\n",
    "        If missing residues should be ignored or built.\n",
    "    ignore_terminal_missing_residues: bool, optional\n",
    "        If missing residues at the beginning and the end of a chain should be ignored or built.\n",
    "    ph: float, optional\n",
    "        pH value used to determine protonation state of residues\n",
    "\n",
    "    Returns\n",
    "    -------\n",
    "    fixer: pdbfixer.pdbfixer.PDBFixer\n",
    "        Prepared protein system.\n",
    "    \"\"\"\n",
    "    fixer = pdbfixer.PDBFixer(str(pdb_file))\n",
    "    fixer.removeHeterogens()  # co-crystallized ligands are unknown to PDBFixer\n",
    "    fixer.findMissingResidues()  # identify missing residues, needed for identification of missing atoms\n",
    "\n",
    "    # if missing terminal residues shall be ignored, remove them from the dictionary\n",
    "    if ignore_terminal_missing_residues:\n",
    "        chains = list(fixer.topology.chains())\n",
    "        keys = fixer.missingResidues.keys()\n",
    "        for key in list(keys):\n",
    "            chain = chains[key[0]]\n",
    "            if key[1] == 0 or key[1] == len(list(chain.residues())):\n",
    "                del fixer.missingResidues[key]\n",
    "\n",
    "    # if all missing residues shall be ignored ignored, clear the dictionary\n",
    "    if ignore_missing_residues:\n",
    "        fixer.missingResidues = {}\n",
    "\n",
    "    fixer.findNonstandardResidues()  # find non-standard residue\n",
    "    fixer.replaceNonstandardResidues()  # replace non-standard residues with standard one\n",
    "    fixer.findMissingAtoms()  # find missing heavy atoms\n",
    "    fixer.addMissingAtoms()  # add missing atoms and residues\n",
    "    fixer.addMissingHydrogens(ph)  # add missing hydrogens\n",
    "    return fixer"
   ]
  },
  {
   "cell_type": "code",
   "execution_count": 5,
   "metadata": {},
   "outputs": [],
   "source": [
    "prepare_protein = prepare_protein(\"./protein_rank_6_complex.pdb\", ignore_missing_residues=False)"
   ]
  },
  {
   "cell_type": "code",
   "execution_count": 6,
   "metadata": {},
   "outputs": [],
   "source": [
    "def prepare_ligand(pdb_file, resname, smiles, depict=True):\n",
    "    \"\"\"\n",
    "    Prepare a ligand from a PDB file via adding hydrogens and assigning bond orders. A depiction\n",
    "    of the ligand before and after preparation is rendered in 2D to allow an inspection of the\n",
    "    results. Huge thanks to @j-wags for the suggestion.\n",
    "\n",
    "    Parameters\n",
    "    ----------\n",
    "    pdb_file: pathlib.PosixPath\n",
    "       PDB file containing the ligand of interest.\n",
    "    resname: str\n",
    "        Three character residue name of the ligand.\n",
    "    smiles : str\n",
    "        SMILES string of the ligand informing about correct protonation and bond orders.\n",
    "    depict: bool, optional\n",
    "        show a 2D representation of the ligand\n",
    "\n",
    "    Returns\n",
    "    -------\n",
    "    prepared_ligand: rdkit.Chem.rdchem.Mol\n",
    "        Prepared ligand.\n",
    "    \"\"\"\n",
    "    # split molecule\n",
    "    rdkit_mol = Chem.MolFromPDBFile(str(pdb_file), proximityBonding=True, sanitize=False)\n",
    "    print(rdkit_mol)\n",
    "    rdkit_mol_split = Chem.rdmolops.SplitMolByPDBResidues(rdkit_mol)\n",
    "\n",
    "    # extract the ligand and remove any already present hydrogens\n",
    "    ligand = rdkit_mol_split[resname]\n",
    "    ligand = Chem.RemoveHs(ligand)\n",
    "\n",
    "    # assign bond orders from template\n",
    "    reference_mol = Chem.MolFromSmiles(smiles)\n",
    "    prepared_ligand = AllChem.AssignBondOrdersFromTemplate(reference_mol, ligand)\n",
    "    prepared_ligand.AddConformer(ligand.GetConformer(0))\n",
    "\n",
    "    # protonate ligand\n",
    "    prepared_ligand = Chem.rdmolops.AddHs(prepared_ligand, addCoords=True)\n",
    "    prepared_ligand = Chem.MolFromMolBlock(Chem.MolToMolBlock(prepared_ligand))\n",
    "\n",
    "    # 2D depiction\n",
    "    if depict:\n",
    "        ligand_2d = copy.deepcopy(ligand)\n",
    "        prepared_ligand_2d = copy.deepcopy(prepared_ligand)\n",
    "        AllChem.Compute2DCoords(ligand_2d)\n",
    "        AllChem.Compute2DCoords(prepared_ligand_2d)\n",
    "        display(\n",
    "            Draw.MolsToGridImage(\n",
    "                [ligand_2d, prepared_ligand_2d], molsPerRow=2, legends=[\"original\", \"prepared\"]\n",
    "            )\n",
    "        )\n",
    "\n",
    "    # return ligand\n",
    "    return prepared_ligand"
   ]
  },
  {
   "cell_type": "code",
   "execution_count": 7,
   "metadata": {},
   "outputs": [],
   "source": [
    "pdb_path = \"./protein_rank_6_complex.pdb\"\n",
    "ligand_name = \"UNL\"\n",
    "smiles = \"COc1cccc(NC(=O)N2CCOCC2)c1\""
   ]
  },
  {
   "cell_type": "code",
   "execution_count": 8,
   "metadata": {},
   "outputs": [
    {
     "name": "stdout",
     "output_type": "stream",
     "text": [
      "<rdkit.Chem.rdchem.Mol object at 0x7f9b10de61c0>\n"
     ]
    },
    {
     "name": "stderr",
     "output_type": "stream",
     "text": [
      "[10:52:23] WARNING: More than one matching pattern found - picking one\n",
      "\n"
     ]
    },
    {
     "data": {
      "image/png": "[encoded data removed]",
      "text/plain": [
       "<IPython.core.display.Image object>"
      ]
     },
     "metadata": {},
     "output_type": "display_data"
    }
   ],
   "source": [
    "rdkit_ligand = prepare_ligand(pdb_path, ligand_name, smiles)"
   ]
  },
  {
   "cell_type": "code",
   "execution_count": 9,
   "metadata": {},
   "outputs": [],
   "source": [
    "def rdkit_to_openmm(rdkit_mol, name=\"LIG\"):\n",
    "    \"\"\"\n",
    "    Convert an RDKit molecule to an OpenMM molecule.\n",
    "    Inspired by @hannahbrucemcdonald and @glass-w.\n",
    "\n",
    "    Parameters\n",
    "    ----------\n",
    "    rdkit_mol: rdkit.Chem.rdchem.Mol\n",
    "        RDKit molecule to convert.\n",
    "    name: str\n",
    "        Molecule name.\n",
    "\n",
    "    Returns\n",
    "    -------\n",
    "    omm_molecule: openmm.app.Modeller\n",
    "        OpenMM modeller object holding the molecule of interest.\n",
    "    \"\"\"\n",
    "    # convert RDKit to OpenFF\n",
    "    off_mol = Molecule.from_rdkit(rdkit_mol)\n",
    "    #print(off_mol)\n",
    "\n",
    "    # add name for molecule\n",
    "    off_mol.name = name\n",
    "    #print(off_mol.name)\n",
    "\n",
    "    # add names for atoms\n",
    "    element_counter_dict = {}\n",
    "    for off_atom, rdkit_atom in zip(off_mol.atoms, rdkit_mol.GetAtoms()):\n",
    "        element = rdkit_atom.GetSymbol()\n",
    "        if element in element_counter_dict.keys():\n",
    "            element_counter_dict[element] += 1\n",
    "        else:\n",
    "            element_counter_dict[element] = 1\n",
    "        off_atom.name = element + str(element_counter_dict[element])\n",
    "    #print(element_counter_dict)\n",
    "\n",
    "    # convert from OpenFF to OpenMM\n",
    "    off_mol_topology = off_mol.to_topology()\n",
    "    mol_topology = off_mol_topology.to_openmm()\n",
    "    #print(mol_topology)\n",
    "    mol_positions = off_mol.conformers[0]\n",
    "    #print(mol_positions)\n",
    "\n",
    "    # convert units from Ångström to nanometers\n",
    "    # since OpenMM works in nm\n",
    "    mol_positions = mol_positions.to(\"nanometers\")\n",
    "    #print(mol_positions)\n",
    "\n",
    "    # combine topology and positions in modeller object\n",
    "    omm_mol = app.Modeller(mol_topology, mol_positions)\n",
    "\n",
    "    return omm_mol"
   ]
  },
  {
   "cell_type": "code",
   "execution_count": 10,
   "metadata": {},
   "outputs": [],
   "source": [
    "omm_ligand = rdkit_to_openmm(rdkit_ligand, ligand_name)"
   ]
  },
  {
   "cell_type": "code",
   "execution_count": 11,
   "metadata": {},
   "outputs": [],
   "source": [
    "def merge_protein_and_ligand(protein, ligand):\n",
    "    \"\"\"\n",
    "    Merge two OpenMM objects.\n",
    "\n",
    "    Parameters\n",
    "    ----------\n",
    "    protein: pdbfixer.pdbfixer.PDBFixer\n",
    "        Protein to merge.\n",
    "    ligand: openmm.app.Modeller\n",
    "        Ligand to merge.\n",
    "\n",
    "    Returns\n",
    "    -------\n",
    "    complex_topology: openmm.app.topology.Topology\n",
    "        The merged topology.\n",
    "    complex_positions: openmm.unit.quantity.Quantity\n",
    "        The merged positions.\n",
    "    \"\"\"\n",
    "    # combine topologies\n",
    "    md_protein_topology = md.Topology.from_openmm(protein.topology)  # using mdtraj for protein top\n",
    "    #print(md_protein_topology)\n",
    "    md_ligand_topology = md.Topology.from_openmm(ligand.topology)  # using mdtraj for ligand top\n",
    "    #print(md_ligand_topology)\n",
    "    md_complex_topology = md_protein_topology.join(md_ligand_topology)  # add them together\n",
    "    #print(md_complex_topology)\n",
    "    complex_topology = md_complex_topology.to_openmm()\n",
    "    #print(complex_topology)\n",
    "\n",
    "    # combine positions\n",
    "    total_atoms = len(protein.positions) + len(ligand.positions)\n",
    "\n",
    "    # create an array for storing all atom positions as tupels containing a value and a unit\n",
    "    # called OpenMM Quantities\n",
    "    complex_positions = unit.Quantity(np.zeros([total_atoms, 3]), unit=unit.nanometers)\n",
    "    complex_positions[: len(protein.positions)] = protein.positions  # add protein positions\n",
    "    complex_positions[len(protein.positions) :] = ligand.positions  # add ligand positions\n",
    "\n",
    "    return complex_topology, complex_positions"
   ]
  },
  {
   "cell_type": "code",
   "execution_count": 12,
   "metadata": {},
   "outputs": [],
   "source": [
    "complex_topology, complex_positions = merge_protein_and_ligand(prepare_protein, omm_ligand)"
   ]
  },
  {
   "cell_type": "code",
   "execution_count": 13,
   "metadata": {},
   "outputs": [
    {
     "name": "stdout",
     "output_type": "stream",
     "text": [
      "Complex topology has 4194 atoms.\n"
     ]
    }
   ],
   "source": [
    "print(\"Complex topology has\", complex_topology.getNumAtoms(), \"atoms.\")\n",
    "# NBVAL_CHECK_OUTPUT"
   ]
  },
  {
   "cell_type": "code",
   "execution_count": 14,
   "metadata": {},
   "outputs": [],
   "source": [
    "def generate_forcefield(\n",
    "    rdkit_mol=None, protein_ff=\"amber14-all.xml\", solvent_ff=\"amber14/tip3pfb.xml\"\n",
    "):\n",
    "    \"\"\"\n",
    "    Generate an OpenMM Forcefield object and register a small molecule.\n",
    "\n",
    "    Parameters\n",
    "    ----------\n",
    "    rdkit_mol: rdkit.Chem.rdchem.Mol\n",
    "        Small molecule to register in the force field.\n",
    "    protein_ff: string\n",
    "        Name of the force field.\n",
    "    solvent_ff: string\n",
    "        Name of the solvent force field.\n",
    "\n",
    "    Returns\n",
    "    -------\n",
    "    forcefield: openmm.app.Forcefield\n",
    "        Forcefield with registered small molecule.\n",
    "    \"\"\"\n",
    "    forcefield = app.ForceField(protein_ff, solvent_ff)\n",
    "\n",
    "    if rdkit_mol is not None:\n",
    "        gaff = GAFFTemplateGenerator(\n",
    "            molecules=Molecule.from_rdkit(rdkit_mol, allow_undefined_stereo=True)\n",
    "        )\n",
    "        forcefield.registerTemplateGenerator(gaff.generator)\n",
    "\n",
    "    return forcefield"
   ]
  },
  {
   "cell_type": "code",
   "execution_count": 15,
   "metadata": {},
   "outputs": [],
   "source": [
    "forcefield = generate_forcefield(rdkit_ligand)"
   ]
  },
  {
   "cell_type": "code",
   "execution_count": 16,
   "metadata": {},
   "outputs": [
    {
     "name": "stderr",
     "output_type": "stream",
     "text": [
      "/bin/bash: /home/media/data2/user_home/dbsejrgus226/miniconda3/envs/MD/lib/libtinfo.so.6: no version information available (required by /bin/bash)\n",
      "/bin/bash: /home/media/data2/user_home/dbsejrgus226/miniconda3/envs/MD/lib/libtinfo.so.6: no version information available (required by /bin/bash)\n",
      "/bin/bash: /home/media/data2/user_home/dbsejrgus226/miniconda3/envs/MD/lib/libtinfo.so.6: no version information available (required by /bin/bash)\n",
      "/bin/bash: /home/media/data2/user_home/dbsejrgus226/miniconda3/envs/MD/lib/libtinfo.so.6: no version information available (required by /bin/bash)\n",
      "/bin/bash: /home/media/data2/user_home/dbsejrgus226/miniconda3/envs/MD/lib/libtinfo.so.6: no version information available (required by /bin/bash)\n",
      "/bin/bash: /home/media/data2/user_home/dbsejrgus226/miniconda3/envs/MD/lib/libtinfo.so.6: no version information available (required by /bin/bash)\n",
      "Warning: importing 'simtk.openmm' is deprecated.  Import 'openmm' instead.\n"
     ]
    }
   ],
   "source": [
    "modeller = app.Modeller(complex_topology, complex_positions)\n",
    "modeller.addSolvent(forcefield, padding=1.5 * unit.nanometers, ionicStrength=0.15 * unit.molar)"
   ]
  },
  {
   "cell_type": "code",
   "execution_count": 17,
   "metadata": {},
   "outputs": [],
   "source": [
    "system = forcefield.createSystem(modeller.topology, nonbondedMethod=app.NoCutoff)\n",
    "integrator = mm.LangevinIntegrator(\n",
    "    309.65 * unit.kelvin, 1.0 / unit.picoseconds, 2.0 * unit.femtoseconds\n",
    ")\n",
    "simulation = app.Simulation(modeller.topology, system, integrator)\n",
    "simulation.context.setPositions(modeller.positions)"
   ]
  },
  {
   "cell_type": "code",
   "execution_count": 18,
   "metadata": {},
   "outputs": [],
   "source": [
    "simulation.minimizeEnergy()\n",
    "with open(\"topology_6.pdb\", \"w\") as pdb_file:\n",
    "    app.PDBFile.writeFile(\n",
    "        simulation.topology,\n",
    "        simulation.context.getState(getPositions=True, enforcePeriodicBox=True).getPositions(),\n",
    "        file=pdb_file,\n",
    "        keepIds=True,\n",
    "    )"
   ]
  },
  {
   "cell_type": "code",
   "execution_count": 19,
   "metadata": {},
   "outputs": [],
   "source": [
    "# output settings\n",
    "\n",
    "steps = 50000  # corresponds to 100 fs\n",
    "write_interval = 500  # write every 10 fs\n",
    "log_interval = 250  # log progress to stdout every 5 fs\n",
    "simulation.reporters.append(\n",
    "    md.reporters.XTCReporter(file=str(\"trajectory_6.xtc\"), reportInterval=write_interval)\n",
    ")\n",
    "simulation.reporters.append(\n",
    "    app.StateDataReporter(\n",
    "        sys.stdout,\n",
    "        log_interval,\n",
    "        step=True,\n",
    "        potentialEnergy=True,\n",
    "        temperature=True,\n",
    "        progress=True,\n",
    "        remainingTime=True,\n",
    "        speed=True,\n",
    "        totalSteps=steps,\n",
    "        separator=\"\\t\",\n",
    "    )\n",
    ")"
   ]
  },
  {
   "cell_type": "code",
   "execution_count": 20,
   "metadata": {},
   "outputs": [
    {
     "name": "stdout",
     "output_type": "stream",
     "text": [
      "#\"Progress (%)\"\t\"Step\"\t\"Potential Energy (kJ/mole)\"\t\"Temperature (K)\"\t\"Speed (ns/day)\"\t\"Time Remaining\"\n",
      "0.5%\t250\t-1033211.3125\t210.4175074374763\t0\t--\n",
      "1.0%\t500\t-1009885.1875\t245.92635714855018\t3.64\t39:11\n",
      "1.5%\t750\t-997495.625\t269.53522812737685\t3.63\t39:02\n",
      "2.0%\t1000\t-987103.625\t283.6215729202178\t3.6\t39:08\n",
      "2.5%\t1250\t-980177.625\t292.678164094255\t3.58\t39:15\n",
      "3.0%\t1500\t-974043.375\t295.07786172938415\t3.57\t39:06\n",
      "3.5%\t1750\t-970795.875\t297.30790759580685\t3.49\t39:48\n",
      "4.0%\t2000\t-969045.9375\t302.5647745646862\t3.35\t41:14\n",
      "4.5%\t2250\t-966598.0\t304.3264351647143\t3.21\t42:50\n",
      "5.0%\t2500\t-965457.125\t306.9155343592267\t3.11\t44:01\n",
      "5.5%\t2750\t-963224.5\t306.8531558730879\t3.03\t44:55\n",
      "6.0%\t3000\t-961986.125\t308.6583321119347\t2.94\t46:02\n",
      "6.5%\t3250\t-961672.8125\t310.3397763773654\t2.83\t47:36\n",
      "7.0%\t3500\t-960621.25\t309.70437634780654\t2.71\t49:23\n",
      "7.5%\t3750\t-959789.25\t309.08690109734994\t2.6\t51:09\n",
      "8.0%\t4000\t-960591.5625\t310.82999451653154\t2.46\t53:50\n",
      "8.5%\t4250\t-959150.25\t310.1208227126382\t2.33\t56:31\n",
      "9.0%\t4500\t-958774.625\t309.4614748136157\t2.23\t58:51\n",
      "9.5%\t4750\t-959259.4375\t309.33749304907656\t2.14\t1:00:55\n",
      "10.0%\t5000\t-960373.375\t310.341436585738\t2.06\t1:02:57\n",
      "10.5%\t5250\t-961260.0625\t310.27559324219385\t1.99\t1:04:42\n",
      "11.0%\t5500\t-961244.0625\t308.3328047174104\t1.93\t1:06:16\n",
      "11.5%\t5750\t-961748.125\t308.472834133338\t1.88\t1:07:45\n",
      "12.0%\t6000\t-961854.0\t311.0139434173274\t1.83\t1:09:05\n",
      "12.5%\t6250\t-961098.0625\t310.06838658013936\t1.79\t1:10:16\n",
      "13.0%\t6500\t-961156.0\t309.3706207052889\t1.76\t1:11:18\n",
      "13.5%\t6750\t-960478.875\t309.85835194549657\t1.72\t1:12:19\n",
      "14.0%\t7000\t-959582.1875\t308.31110794829783\t1.69\t1:13:12\n",
      "14.5%\t7250\t-959907.9375\t309.53150840360246\t1.66\t1:14:06\n",
      "15.0%\t7500\t-959988.75\t309.8791654990871\t1.63\t1:14:55\n",
      "15.5%\t7750\t-961077.25\t310.6839465799695\t1.61\t1:15:37\n",
      "16.0%\t8000\t-961859.0625\t309.33094488911934\t1.59\t1:16:15\n",
      "16.5%\t8250\t-961262.9375\t309.5654820203921\t1.57\t1:16:47\n",
      "17.0%\t8500\t-961229.75\t310.65346317647146\t1.55\t1:17:18\n",
      "17.5%\t8750\t-960793.125\t310.3471283017532\t1.53\t1:17:46\n",
      "18.0%\t9000\t-961321.0625\t308.92709885467497\t1.51\t1:18:08\n",
      "18.5%\t9250\t-961780.625\t309.38100359262427\t1.5\t1:18:28\n",
      "19.0%\t9500\t-961681.8125\t308.92665826758633\t1.48\t1:18:45\n",
      "19.5%\t9750\t-961914.8125\t309.3682147325264\t1.47\t1:18:59\n",
      "20.0%\t10000\t-960313.3125\t307.33716797539546\t1.45\t1:19:11\n",
      "20.5%\t10250\t-961613.6875\t308.7985220057604\t1.44\t1:19:19\n",
      "21.0%\t10500\t-961643.25\t310.8443717515298\t1.43\t1:19:26\n",
      "21.5%\t10750\t-960364.5\t310.0983685894622\t1.42\t1:19:30\n",
      "22.0%\t11000\t-960645.125\t309.91032315800885\t1.41\t1:19:32\n",
      "22.5%\t11250\t-961984.25\t309.49377866474015\t1.4\t1:19:32\n",
      "23.0%\t11500\t-961673.8125\t310.5236848594387\t1.39\t1:19:31\n",
      "23.5%\t11750\t-961850.125\t309.48883110935986\t1.39\t1:19:28\n",
      "24.0%\t12000\t-962034.625\t307.98051475989536\t1.38\t1:19:23\n",
      "24.5%\t12250\t-963349.5\t309.2058886138685\t1.37\t1:19:17\n",
      "25.0%\t12500\t-964539.375\t310.1561017468334\t1.36\t1:19:09\n",
      "25.5%\t12750\t-964145.25\t308.71438989958074\t1.36\t1:19:00\n",
      "26.0%\t13000\t-965054.25\t309.43241162974306\t1.35\t1:18:51\n",
      "26.5%\t13250\t-962651.0\t308.66535819765915\t1.35\t1:18:39\n",
      "27.0%\t13500\t-963389.125\t310.75507351962074\t1.34\t1:18:27\n",
      "27.5%\t13750\t-962377.6875\t309.19415817034474\t1.33\t1:18:14\n",
      "28.0%\t14000\t-961838.125\t310.20969852553026\t1.33\t1:18:00\n",
      "28.5%\t14250\t-961984.875\t311.7656876927791\t1.32\t1:17:45\n",
      "29.0%\t14500\t-961293.375\t310.0688958414718\t1.32\t1:17:29\n",
      "29.5%\t14750\t-961117.125\t308.14917395600304\t1.31\t1:17:13\n",
      "30.0%\t15000\t-963375.25\t313.08908938003555\t1.31\t1:16:55\n",
      "30.5%\t15250\t-961944.25\t308.9792288559485\t1.31\t1:16:37\n",
      "31.0%\t15500\t-963551.5\t312.2735865876255\t1.32\t1:15:30\n",
      "31.5%\t15750\t-962590.0625\t310.3879158711659\t1.33\t1:14:17\n",
      "32.0%\t16000\t-961271.0\t310.3143038729723\t1.34\t1:13:06\n",
      "32.5%\t16250\t-962204.0\t310.7720186222374\t1.35\t1:11:57\n",
      "33.0%\t16500\t-962712.0\t310.0755653785375\t1.36\t1:10:49\n",
      "33.5%\t16750\t-964661.8125\t310.48170416160315\t1.37\t1:09:43\n",
      "34.0%\t17000\t-964167.625\t309.1995971093629\t1.38\t1:08:39\n",
      "34.5%\t17250\t-963128.625\t308.46904006755335\t1.4\t1:07:36\n",
      "35.0%\t17500\t-963853.125\t311.1658972822991\t1.41\t1:06:34\n",
      "35.5%\t17750\t-962809.25\t309.09023818223733\t1.42\t1:05:34\n",
      "36.0%\t18000\t-963517.75\t311.4792135377535\t1.43\t1:04:35\n",
      "36.5%\t18250\t-962703.0\t310.4909904184862\t1.44\t1:03:37\n",
      "37.0%\t18500\t-963070.375\t311.3395660891219\t1.45\t1:02:41\n",
      "37.5%\t18750\t-962467.375\t308.8357365578509\t1.46\t1:01:46\n",
      "38.0%\t19000\t-962397.5625\t309.07818309428524\t1.47\t1:00:51\n",
      "38.5%\t19250\t-963778.4375\t311.8767334392345\t1.48\t59:58\n",
      "39.0%\t19500\t-962838.25\t310.54681727961866\t1.49\t59:06\n",
      "39.5%\t19750\t-964492.125\t310.9831015100018\t1.5\t58:14\n",
      "40.0%\t20000\t-962613.0\t311.01273593309963\t1.51\t57:24\n",
      "40.5%\t20250\t-962652.375\t309.92961067538266\t1.51\t56:34\n",
      "41.0%\t20500\t-963215.25\t310.103315951847\t1.52\t55:46\n",
      "41.5%\t20750\t-962348.75\t307.95360651235694\t1.53\t54:58\n",
      "42.0%\t21000\t-962400.4375\t310.2131315105008\t1.54\t54:11\n",
      "42.5%\t21250\t-962636.375\t310.67995940121614\t1.55\t53:25\n",
      "43.0%\t21500\t-962896.3125\t310.56219951875005\t1.56\t52:39\n",
      "43.5%\t21750\t-962099.5\t309.35479895644244\t1.57\t51:54\n",
      "44.0%\t22000\t-962823.25\t310.40486381516354\t1.58\t51:10\n",
      "44.5%\t22250\t-962706.0\t310.50605762988306\t1.58\t50:27\n",
      "45.0%\t22500\t-963231.625\t312.06058658704103\t1.59\t49:44\n",
      "45.5%\t22750\t-963363.875\t309.1738656450269\t1.6\t49:02\n",
      "46.0%\t23000\t-963353.875\t309.53779058630596\t1.61\t48:20\n",
      "46.5%\t23250\t-963198.875\t309.1502885393918\t1.62\t47:39\n",
      "47.0%\t23500\t-963556.3125\t311.6953729959411\t1.62\t46:59\n",
      "47.5%\t23750\t-962668.75\t310.30775175509547\t1.63\t46:19\n",
      "48.0%\t24000\t-962685.375\t309.51978614772366\t1.64\t45:40\n",
      "48.5%\t24250\t-963478.4375\t312.2362771900884\t1.65\t45:01\n",
      "49.0%\t24500\t-963067.5625\t308.58205112085517\t1.65\t44:23\n",
      "49.5%\t24750\t-963807.875\t311.7636426760631\t1.66\t43:45\n",
      "50.0%\t25000\t-961010.9375\t309.63408867994366\t1.67\t43:07\n",
      "50.5%\t25250\t-962256.3125\t311.418379314671\t1.68\t42:31\n",
      "51.0%\t25500\t-963685.25\t311.2618362915063\t1.68\t41:54\n",
      "51.5%\t25750\t-962978.5\t310.933167332184\t1.69\t41:18\n",
      "52.0%\t26000\t-962724.9375\t310.3988353200542\t1.7\t40:42\n",
      "52.5%\t26250\t-964522.3125\t312.96060195885417\t1.7\t40:07\n",
      "53.0%\t26500\t-964078.8125\t311.4662803568634\t1.71\t39:32\n",
      "53.5%\t26750\t-964661.4375\t311.908859088649\t1.72\t38:58\n",
      "54.0%\t27000\t-963755.25\t308.7737574581153\t1.72\t38:24\n",
      "54.5%\t27250\t-965592.0\t309.8046723755424\t1.73\t37:47\n",
      "55.0%\t27500\t-965282.3125\t309.83946744635506\t1.74\t37:10\n",
      "55.5%\t27750\t-963748.125\t311.6297221971741\t1.75\t36:33\n",
      "56.0%\t28000\t-962629.0\t311.8353726694111\t1.76\t35:57\n",
      "56.5%\t28250\t-963483.75\t311.06541835522955\t1.77\t35:21\n",
      "57.0%\t28500\t-964178.0\t311.1295804538636\t1.78\t34:45\n",
      "57.5%\t28750\t-963459.375\t309.44557457382933\t1.79\t34:10\n",
      "58.0%\t29000\t-963605.25\t310.57216648489947\t1.8\t33:36\n",
      "58.5%\t29250\t-963642.0625\t309.79689207850237\t1.81\t33:02\n",
      "59.0%\t29500\t-965378.5\t310.73979360338717\t1.82\t32:28\n",
      "59.5%\t29750\t-964371.4375\t309.11259465912315\t1.83\t31:55\n",
      "60.0%\t30000\t-965356.5625\t310.19109259660615\t1.84\t31:22\n",
      "60.5%\t30250\t-965684.25\t308.34823527383116\t1.84\t30:49\n",
      "61.0%\t30500\t-965405.375\t309.91798411692923\t1.85\t30:17\n",
      "61.5%\t30750\t-966438.0625\t307.7000395943252\t1.86\t29:45\n",
      "62.0%\t31000\t-965120.375\t308.4015275966772\t1.87\t29:14\n",
      "62.5%\t31250\t-964731.125\t309.7941951169854\t1.88\t28:43\n",
      "63.0%\t31500\t-964557.875\t309.6885376061679\t1.89\t28:12\n",
      "63.5%\t31750\t-964298.25\t309.6393268127343\t1.9\t27:43\n",
      "64.0%\t32000\t-964827.3125\t309.0503244878853\t1.9\t27:16\n",
      "64.5%\t32250\t-965353.3125\t308.6240690632358\t1.9\t26:51\n",
      "65.0%\t32500\t-965071.1875\t308.33594724086635\t1.9\t26:27\n",
      "65.5%\t32750\t-964950.8125\t309.44206894928914\t1.9\t26:06\n",
      "66.0%\t33000\t-965047.75\t310.05444155830367\t1.9\t25:44\n",
      "66.5%\t33250\t-964518.875\t308.5022293019079\t1.9\t25:23\n",
      "67.0%\t33500\t-965445.125\t311.43542972797513\t1.9\t25:02\n",
      "67.5%\t33750\t-963912.4375\t309.1052341625275\t1.9\t24:41\n",
      "68.0%\t34000\t-964210.6875\t308.7674417520861\t1.89\t24:19\n",
      "68.5%\t34250\t-964125.5\t309.5229192693492\t1.89\t23:58\n",
      "69.0%\t34500\t-965098.0625\t309.04256298064837\t1.89\t23:38\n",
      "69.5%\t34750\t-967623.0\t311.45475999376066\t1.88\t23:21\n",
      "70.0%\t35000\t-966779.0\t308.9442443217341\t1.87\t23:04\n",
      "70.5%\t35250\t-965966.5625\t311.0093531422142\t1.86\t22:47\n",
      "71.0%\t35500\t-964543.4375\t309.40987117277507\t1.85\t22:31\n",
      "71.5%\t35750\t-965285.75\t309.2667623642929\t1.84\t22:15\n",
      "72.0%\t36000\t-964984.125\t310.2502176219102\t1.83\t21:59\n",
      "72.5%\t36250\t-965743.625\t309.3714515061367\t1.82\t21:42\n",
      "73.0%\t36500\t-964923.625\t309.73283128948384\t1.81\t21:25\n",
      "73.5%\t36750\t-964123.625\t310.2282953854762\t1.8\t21:08\n",
      "74.0%\t37000\t-964726.75\t311.4389430805006\t1.79\t20:51\n",
      "74.5%\t37250\t-964646.625\t311.13411510923834\t1.78\t20:34\n",
      "75.0%\t37500\t-964751.5\t309.8143207861393\t1.78\t20:16\n",
      "75.5%\t37750\t-964262.625\t310.51991036955116\t1.77\t19:58\n",
      "76.0%\t38000\t-964220.0\t309.8495786374042\t1.76\t19:39\n",
      "76.5%\t38250\t-963184.625\t308.20367574823365\t1.75\t19:21\n",
      "77.0%\t38500\t-964319.6875\t308.2327279204575\t1.74\t19:01\n",
      "77.5%\t38750\t-965926.875\t309.9843629406555\t1.73\t18:42\n",
      "78.0%\t39000\t-965554.3125\t310.3021248132698\t1.72\t18:22\n",
      "78.5%\t39250\t-964812.125\t310.0409598169577\t1.71\t18:03\n",
      "79.0%\t39500\t-964292.25\t310.91206884352164\t1.71\t17:43\n",
      "79.5%\t39750\t-965100.5625\t310.6956167651982\t1.7\t17:22\n",
      "80.0%\t40000\t-964284.75\t310.06153556577925\t1.69\t17:02\n",
      "80.5%\t40250\t-963625.5625\t309.21153759869804\t1.68\t16:41\n",
      "81.0%\t40500\t-964697.875\t312.1205899515221\t1.68\t16:19\n",
      "81.5%\t40750\t-964269.125\t309.3494836633075\t1.67\t15:58\n",
      "82.0%\t41000\t-965464.125\t311.32930267785343\t1.66\t15:36\n",
      "82.5%\t41250\t-965468.25\t310.62853434887427\t1.65\t15:14\n",
      "83.0%\t41500\t-966113.0\t308.7953861641587\t1.65\t14:51\n",
      "83.5%\t41750\t-966017.875\t307.5747755490766\t1.64\t14:29\n",
      "84.0%\t42000\t-967153.125\t310.6925663442329\t1.63\t14:06\n",
      "84.5%\t42250\t-964669.625\t308.7745761556274\t1.63\t13:43\n",
      "85.0%\t42500\t-964065.0\t307.66482281758823\t1.62\t13:19\n",
      "85.5%\t42750\t-963672.0\t308.4168417534438\t1.61\t12:56\n",
      "86.0%\t43000\t-962985.125\t309.58249982051075\t1.61\t12:32\n",
      "86.5%\t43250\t-962898.0\t310.5554609045402\t1.6\t12:08\n",
      "87.0%\t43500\t-963450.375\t309.42391578946473\t1.6\t11:43\n",
      "87.5%\t43750\t-963515.75\t310.1561342258149\t1.59\t11:19\n",
      "88.0%\t44000\t-962337.875\t309.7604294072511\t1.58\t10:54\n",
      "88.5%\t44250\t-964284.125\t309.9652905637358\t1.58\t10:29\n",
      "89.0%\t44500\t-964875.9375\t309.7739569424389\t1.57\t10:04\n",
      "89.5%\t44750\t-964163.3125\t310.23736780152655\t1.57\t9:38\n",
      "90.0%\t45000\t-963818.375\t308.95827039696775\t1.56\t9:12\n",
      "90.5%\t45250\t-964297.375\t312.18375625652595\t1.56\t8:47\n",
      "91.0%\t45500\t-963781.6875\t308.9171255695025\t1.55\t8:21\n",
      "91.5%\t45750\t-964844.3125\t309.43733237628305\t1.55\t7:54\n",
      "92.0%\t46000\t-964443.375\t309.575124392696\t1.54\t7:28\n",
      "92.5%\t46250\t-964206.5\t308.03350087709106\t1.54\t7:01\n",
      "93.0%\t46500\t-963911.9375\t307.62199507223534\t1.53\t6:34\n",
      "93.5%\t46750\t-965228.125\t309.0018979180712\t1.53\t6:07\n",
      "94.0%\t47000\t-965540.125\t308.4487172034848\t1.52\t5:40\n",
      "94.5%\t47250\t-965096.75\t308.61927479652\t1.52\t5:12\n",
      "95.0%\t47500\t-964241.875\t307.37669517987683\t1.51\t4:45\n",
      "95.5%\t47750\t-964786.25\t308.02031767962836\t1.51\t4:17\n",
      "96.0%\t48000\t-964735.875\t308.656755637699\t1.51\t3:49\n",
      "96.5%\t48250\t-965628.8125\t309.907706909212\t1.5\t3:21\n",
      "97.0%\t48500\t-966080.0\t309.7407181361698\t1.5\t2:53\n",
      "97.5%\t48750\t-966174.875\t309.39065588953906\t1.49\t2:24\n",
      "98.0%\t49000\t-964422.8125\t307.785654983678\t1.49\t1:56\n",
      "98.5%\t49250\t-964571.5\t310.21036625994276\t1.48\t1:27\n",
      "99.0%\t49500\t-964392.0\t309.4954968771658\t1.48\t0:58\n",
      "99.5%\t49750\t-964983.3125\t311.1833030665316\t1.48\t0:29\n",
      "100.0%\t50000\t-964299.4375\t311.0674123701113\t1.47\t0:00\n"
     ]
    }
   ],
   "source": [
    "simulation.context.setVelocitiesToTemperature(309.65 * unit.kelvin)\n",
    "simulation.step(steps)  # perform the simulation"
   ]
  },
  {
   "cell_type": "code",
   "execution_count": 21,
   "metadata": {},
   "outputs": [
    {
     "name": "stdout",
     "output_type": "stream",
     "text": [
      "os.stat_result(st_mode=33204, st_ino=235276797, st_dev=2080, st_nlink=1, st_uid=1002, st_gid=1002, st_size=22982656, st_atime=1717120678, st_mtime=1717126535, st_ctime=1717126535)\n"
     ]
    }
   ],
   "source": [
    "# Check the trajectory exists and is not empty\n",
    "import os \n",
    "result = \"./trajectory_6.xtc\"\n",
    "file_info = os.stat(result)\n",
    "print(file_info)\n",
    "#result.stat().st_size > 0\n",
    "# NBVAL_CHECK_OUTPUT"
   ]
  },
  {
   "cell_type": "markdown",
   "metadata": {},
   "source": [
    "# Analysis MD Simulation results"
   ]
  },
  {
   "cell_type": "code",
   "execution_count": 22,
   "metadata": {},
   "outputs": [
    {
     "data": {
      "application/vnd.jupyter.widget-view+json": {
       "model_id": "0d2e4863861144a78593449e7c493975",
       "version_major": 2,
       "version_minor": 0
      },
      "text/plain": []
     },
     "metadata": {},
     "output_type": "display_data"
    }
   ],
   "source": [
    "from pathlib import Path\n",
    "\n",
    "import pandas as pd\n",
    "import numpy as np\n",
    "import matplotlib.pyplot as plt\n",
    "import nglview as nv\n",
    "import MDAnalysis as mda\n",
    "from MDAnalysis.analysis import rms, diffusionmap, align\n",
    "from MDAnalysis.analysis.distances import dist\n",
    "from MDAnalysis.analysis.hydrogenbonds.hbond_analysis import HydrogenBondAnalysis as HBA\n"
   ]
  },
  {
   "cell_type": "code",
   "execution_count": 23,
   "metadata": {},
   "outputs": [],
   "source": [
    "md_universe = mda.Universe(str(\"./topology_6.pdb\"), str(\"./trajectory_6.xtc\"))"
   ]
  },
  {
   "cell_type": "code",
   "execution_count": 24,
   "metadata": {},
   "outputs": [
    {
     "data": {
      "text/plain": [
       "<MDAnalysis.analysis.align.AlignTraj at 0x7f9afa160040>"
      ]
     },
     "execution_count": 24,
     "metadata": {},
     "output_type": "execute_result"
    }
   ],
   "source": [
    "# Set trajectory pointer to first frame as reference\n",
    "md_universe.trajectory[0]\n",
    "\n",
    "# in_memory=True is needed to actually modify the loaded trajectory\n",
    "# if the trajectory is too big for memory, one can write out the aligned trajectory and reload it into a new universe\n",
    "alignment = align.AlignTraj(\n",
    "    mobile=md_universe, reference=md_universe, select=\"protein\", in_memory=True\n",
    ")\n",
    "alignment.run()"
   ]
  },
  {
   "cell_type": "code",
   "execution_count": 25,
   "metadata": {},
   "outputs": [],
   "source": [
    "def rmsd_for_atomgroups(universe, selection1, selection2=None):\n",
    "    \"\"\"Calulate the RMSD for selected atom groups.\n",
    "\n",
    "    Parameters\n",
    "    ----------\n",
    "    universe: MDAnalysis.core.universe.Universe\n",
    "        MDAnalysis universe.\n",
    "    selection1: str\n",
    "        Selection string for main atom group, also used during alignment.\n",
    "    selection2: list of str, optional\n",
    "        Selection strings for additional atom groups.\n",
    "\n",
    "    Returns\n",
    "    -------\n",
    "    rmsd_df: pandas.core.frame.DataFrame\n",
    "        DataFrame containing RMSD of the selected atom groups over time.\n",
    "    \"\"\"\n",
    "\n",
    "    universe.trajectory\n",
    "    ref = universe\n",
    "    rmsd_analysis = rms.RMSD(universe, ref, select=selection1, groupselections=selection2)\n",
    "    rmsd_analysis.run()\n",
    "\n",
    "    columns = [selection1, *selection2] if selection2 else [selection1]\n",
    "    #print(rmsd_analysis.results)\n",
    "    #print(rmsd_analysis)\n",
    "    rmsd_df = pd.DataFrame(np.round(rmsd_analysis.results.rmsd[:, 2:], 2), columns=columns)\n",
    "    rmsd_df.index.name = \"time\"\n",
    "    return rmsd_df"
   ]
  },
  {
   "cell_type": "code",
   "execution_count": 26,
   "metadata": {},
   "outputs": [],
   "source": [
    "rmsd = rmsd_for_atomgroups(md_universe, \"backbone\", [\"protein\", \"resname UNK\"])\n",
    "#rmsd[:20]"
   ]
  },
  {
   "cell_type": "code",
   "execution_count": 27,
   "metadata": {},
   "outputs": [
    {
     "data": {
      "text/html": [
       "<div>\n",
       "<style scoped>\n",
       "    .dataframe tbody tr th:only-of-type {\n",
       "        vertical-align: middle;\n",
       "    }\n",
       "\n",
       "    .dataframe tbody tr th {\n",
       "        vertical-align: top;\n",
       "    }\n",
       "\n",
       "    .dataframe thead th {\n",
       "        text-align: right;\n",
       "    }\n",
       "</style>\n",
       "<table border=\"1\" class=\"dataframe\">\n",
       "  <thead>\n",
       "    <tr style=\"text-align: right;\">\n",
       "      <th></th>\n",
       "      <th>backbone</th>\n",
       "      <th>protein</th>\n",
       "      <th>rank_6_ligand</th>\n",
       "    </tr>\n",
       "    <tr>\n",
       "      <th>time</th>\n",
       "      <th></th>\n",
       "      <th></th>\n",
       "      <th></th>\n",
       "    </tr>\n",
       "  </thead>\n",
       "  <tbody>\n",
       "    <tr>\n",
       "      <th>0</th>\n",
       "      <td>0.00</td>\n",
       "      <td>0.00</td>\n",
       "      <td>0.00</td>\n",
       "    </tr>\n",
       "    <tr>\n",
       "      <th>1</th>\n",
       "      <td>0.56</td>\n",
       "      <td>0.79</td>\n",
       "      <td>0.42</td>\n",
       "    </tr>\n",
       "    <tr>\n",
       "      <th>2</th>\n",
       "      <td>0.65</td>\n",
       "      <td>0.90</td>\n",
       "      <td>0.68</td>\n",
       "    </tr>\n",
       "    <tr>\n",
       "      <th>3</th>\n",
       "      <td>0.70</td>\n",
       "      <td>0.96</td>\n",
       "      <td>0.61</td>\n",
       "    </tr>\n",
       "    <tr>\n",
       "      <th>4</th>\n",
       "      <td>0.77</td>\n",
       "      <td>1.08</td>\n",
       "      <td>0.74</td>\n",
       "    </tr>\n",
       "  </tbody>\n",
       "</table>\n",
       "</div>"
      ],
      "text/plain": [
       "      backbone  protein  rank_6_ligand\n",
       "time                                  \n",
       "0         0.00     0.00           0.00\n",
       "1         0.56     0.79           0.42\n",
       "2         0.65     0.90           0.68\n",
       "3         0.70     0.96           0.61\n",
       "4         0.77     1.08           0.74"
      ]
     },
     "execution_count": 27,
     "metadata": {},
     "output_type": "execute_result"
    }
   ],
   "source": [
    "rmsd.rename(columns={\"resname UNK\": \"rank_6_ligand\"}, inplace=True)\n",
    "rmsd.head()"
   ]
  },
  {
   "cell_type": "code",
   "execution_count": 28,
   "metadata": {},
   "outputs": [
    {
     "data": {
      "image/png": "[encoded data removed]",
      "text/plain": [
       "<Figure size 640x480 with 1 Axes>"
      ]
     },
     "metadata": {},
     "output_type": "display_data"
    }
   ],
   "source": [
    "rmsd.plot(title=\"RMSD of protein and ligand\")\n",
    "plt.ylabel(\"RMSD (Å)\");"
   ]
  },
  {
   "cell_type": "code",
   "execution_count": 30,
   "metadata": {},
   "outputs": [],
   "source": [
    "rmsd.to_csv(\"rank_6_rmsd_results.csv\")"
   ]
  },
  {
   "cell_type": "code",
   "execution_count": 1,
   "metadata": {},
   "outputs": [],
   "source": [
    "import MDAnalysis as mda\n",
    "from MDAnalysis.analysis import align\n",
    "import MDAnalysis.transformations as trans\n",
    "from MDAnalysis.analysis.rms import RMSF\n",
    "\n",
    "import matplotlib.pyplot as plt"
   ]
  },
  {
   "cell_type": "code",
   "execution_count": 2,
   "metadata": {},
   "outputs": [
    {
     "name": "stderr",
     "output_type": "stream",
     "text": [
      "Warning: importing 'simtk.openmm' is deprecated.  Import 'openmm' instead.\n",
      "/home/media/data2/user_home/dbsejrgus226/miniconda3/envs/MD/lib/python3.8/site-packages/MDAnalysis/topology/PDBParser.py:276: UserWarning: PDB file is missing resid information.  Defaulted to '1'\n",
      "  warnings.warn(\"PDB file is missing resid information.  \"\n"
     ]
    }
   ],
   "source": [
    "md_universe = mda.Universe(str(\"./topology_6.pdb\"), str(\"./trajectory_6.xtc\"))\n",
    "protein = md_universe.select_atoms(\"protein\")\n",
    "\n",
    "# 1) the current trajectory contains a protein split across\n",
    "#    periodic boundaries, so we first make the protein whole and\n",
    "#    center it in the box using on-the-fly transformations\n",
    "not_protein = md_universe.select_atoms(\"not protein\")\n",
    "transforms = [trans.unwrap(protein),\n",
    "              trans.center_in_box(protein, wrap=True),\n",
    "              trans.wrap(not_protein)]\n",
    "md_universe.trajectory.add_transformations(*transforms)\n",
    "\n",
    "# 2) fit to the initial frame to get a better average structure\n",
    "#    (the trajectory is changed in memory)\n",
    "prealigner = align.AlignTraj(md_universe, md_universe, select=\"protein and name CA\",\n",
    "                             in_memory=True).run()\n",
    "\n",
    "# 3) reference = average structure\n",
    "reference_coordinates = md_universe.trajectory.timeseries(asel=protein).mean(axis=1)\n",
    "# make a reference structure (need to reshape into a 1-frame \"trajectory\")\n",
    "reference = mda.Merge(protein).load_new(\n",
    "    reference_coordinates[:, None, :], order=\"afc\")\n",
    "\n",
    "# We created a new universe reference that contains a single frame with the averaged coordinates of the protein.\n",
    "# Now we need to fit the whole trajectory to the reference by minimizing the RMSD. \n",
    "# We use MDAnalysis.analysis.align.AlignTraj:\n",
    "aligner = align.AlignTraj(md_universe, reference, select=\"protein and name CA\", in_memory=True).run()\n"
   ]
  },
  {
   "cell_type": "code",
   "execution_count": 3,
   "metadata": {},
   "outputs": [],
   "source": [
    "# The trajectory is now fitted to the reference (the RMSD is stored as aligner.rmsd for further inspection). \n",
    "# Now we can calculate the RMSF:\n",
    "calphas = protein.select_atoms(\"name CA\")\n",
    "rmsfer = RMSF(calphas, verbose=False).run()"
   ]
  },
  {
   "cell_type": "code",
   "execution_count": 4,
   "metadata": {},
   "outputs": [
    {
     "name": "stderr",
     "output_type": "stream",
     "text": [
      "/home/media/data2/user_home/dbsejrgus226/miniconda3/envs/MD/lib/python3.8/site-packages/MDAnalysis/analysis/rms.py:877: DeprecationWarning: The `rmsf` attribute was deprecated in MDAnalysis 2.0.0 and will be removed in MDAnalysis 3.0.0. Please use `results.rmsd` instead.\n",
      "  warnings.warn(wmsg, DeprecationWarning)\n"
     ]
    },
    {
     "data": {
      "image/png": "[encoded data removed]",
      "text/plain": [
       "<Figure size 640x480 with 1 Axes>"
      ]
     },
     "metadata": {},
     "output_type": "display_data"
    }
   ],
   "source": [
    "plt.plot(calphas.resnums, rmsfer.rmsf)\n",
    "plt.xlabel(\"Residue number\")\n",
    "plt.ylabel(\"RMSD (Å)\")\n",
    "plt.savefig(\"rank6_rmsf_results.png\")"
   ]
  },
  {
   "cell_type": "code",
   "execution_count": null,
   "metadata": {},
   "outputs": [],
   "source": []
  }
 ],
 "metadata": {
  "kernelspec": {
   "display_name": "Python 3",
   "language": "python",
   "name": "python3"
  },
  "language_info": {
   "codemirror_mode": {
    "name": "ipython",
    "version": 3
   },
   "file_extension": ".py",
   "mimetype": "text/x-python",
   "name": "python",
   "nbconvert_exporter": "python",
   "pygments_lexer": "ipython3",
   "version": "3.8.12"
  }
 },
 "nbformat": 4,
 "nbformat_minor": 2
}
