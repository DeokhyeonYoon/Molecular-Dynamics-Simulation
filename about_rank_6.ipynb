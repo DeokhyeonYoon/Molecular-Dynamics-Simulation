{
 "cells": [
  {
   "cell_type": "markdown",
   "metadata": {},
   "source": [
    "# MD Simultaion "
   ]
  },
  {
   "cell_type": "code",
   "execution_count": 1,
   "metadata": {},
   "outputs": [],
   "source": [
    "import copy\n",
    "from pathlib import Path\n",
    "import sys\n",
    "\n",
    "import requests\n",
    "from IPython.display import display\n",
    "import numpy as np\n",
    "from rdkit import Chem\n",
    "from rdkit.Chem import Draw\n",
    "from rdkit.Chem import AllChem\n",
    "import mdtraj as md\n",
    "import pdbfixer\n",
    "import openmm as mm\n",
    "import openmm.app as app\n",
    "from openmm import unit\n",
    "from openff.toolkit.topology import Molecule, Topology\n",
    "from openmmforcefields.generators import GAFFTemplateGenerator"
   ]
  },
  {
   "cell_type": "code",
   "execution_count": 2,
   "metadata": {},
   "outputs": [],
   "source": [
    "#import warnings\n",
    "\n",
    "# 경고를 무시하도록 설정합니다.\n",
    "#warnings.filterwarnings(\"ignore\", message=\"PDB file is missing resid information.\")\n",
    "#warnings.filterwarnings(\"ignore\", message=\"Reload offsets from trajectory\")\n",
    "#warnings.filterwarnings(\"ignore\", message=\"duplicate atom\")\n",
    "\n",
    "# 나머지 코드 실행"
   ]
  },
  {
   "cell_type": "code",
   "execution_count": 3,
   "metadata": {},
   "outputs": [],
   "source": [
    "import warnings\n",
    "warnings.filterwarnings(\"ignore\")"
   ]
  },
  {
   "cell_type": "code",
   "execution_count": 4,
   "metadata": {},
   "outputs": [],
   "source": [
    "def prepare_protein(\n",
    "    pdb_file, ignore_missing_residues=True, ignore_terminal_missing_residues=True, ph=7.0\n",
    "):\n",
    "    \"\"\"\n",
    "    Use pdbfixer to prepare the protein from a PDB file. Hetero atoms such as ligands are\n",
    "    removed and non-standard residues replaced. Missing atoms to existing residues are added.\n",
    "    Missing residues are ignored by default, but can be included.\n",
    "\n",
    "    Parameters\n",
    "    ----------\n",
    "    pdb_file: pathlib.Path or str\n",
    "        PDB file containing the system to simulate.\n",
    "    ignore_missing_residues: bool, optional\n",
    "        If missing residues should be ignored or built.\n",
    "    ignore_terminal_missing_residues: bool, optional\n",
    "        If missing residues at the beginning and the end of a chain should be ignored or built.\n",
    "    ph: float, optional\n",
    "        pH value used to determine protonation state of residues\n",
    "\n",
    "    Returns\n",
    "    -------\n",
    "    fixer: pdbfixer.pdbfixer.PDBFixer\n",
    "        Prepared protein system.\n",
    "    \"\"\"\n",
    "    fixer = pdbfixer.PDBFixer(str(pdb_file))\n",
    "    fixer.removeHeterogens()  # co-crystallized ligands are unknown to PDBFixer\n",
    "    fixer.findMissingResidues()  # identify missing residues, needed for identification of missing atoms\n",
    "\n",
    "    # if missing terminal residues shall be ignored, remove them from the dictionary\n",
    "    if ignore_terminal_missing_residues:\n",
    "        chains = list(fixer.topology.chains())\n",
    "        keys = fixer.missingResidues.keys()\n",
    "        for key in list(keys):\n",
    "            chain = chains[key[0]]\n",
    "            if key[1] == 0 or key[1] == len(list(chain.residues())):\n",
    "                del fixer.missingResidues[key]\n",
    "\n",
    "    # if all missing residues shall be ignored ignored, clear the dictionary\n",
    "    if ignore_missing_residues:\n",
    "        fixer.missingResidues = {}\n",
    "\n",
    "    fixer.findNonstandardResidues()  # find non-standard residue\n",
    "    fixer.replaceNonstandardResidues()  # replace non-standard residues with standard one\n",
    "    fixer.findMissingAtoms()  # find missing heavy atoms\n",
    "    fixer.addMissingAtoms()  # add missing atoms and residues\n",
    "    fixer.addMissingHydrogens(ph)  # add missing hydrogens\n",
    "    return fixer"
   ]
  },
  {
   "cell_type": "code",
   "execution_count": 5,
   "metadata": {},
   "outputs": [],
   "source": [
    "prepare_protein = prepare_protein(\"./protein_rank_6_ligand_complex.pdb\", ignore_missing_residues=False)"
   ]
  },
  {
   "cell_type": "code",
   "execution_count": 6,
   "metadata": {},
   "outputs": [],
   "source": [
    "def prepare_ligand(pdb_file, resname, smiles, depict=True):\n",
    "    \"\"\"\n",
    "    Prepare a ligand from a PDB file via adding hydrogens and assigning bond orders. A depiction\n",
    "    of the ligand before and after preparation is rendered in 2D to allow an inspection of the\n",
    "    results. Huge thanks to @j-wags for the suggestion.\n",
    "\n",
    "    Parameters\n",
    "    ----------\n",
    "    pdb_file: pathlib.PosixPath\n",
    "       PDB file containing the ligand of interest.\n",
    "    resname: str\n",
    "        Three character residue name of the ligand.\n",
    "    smiles : str\n",
    "        SMILES string of the ligand informing about correct protonation and bond orders.\n",
    "    depict: bool, optional\n",
    "        show a 2D representation of the ligand\n",
    "\n",
    "    Returns\n",
    "    -------\n",
    "    prepared_ligand: rdkit.Chem.rdchem.Mol\n",
    "        Prepared ligand.\n",
    "    \"\"\"\n",
    "    # split molecule\n",
    "    rdkit_mol = Chem.MolFromPDBFile(str(pdb_file), proximityBonding=True, sanitize=False)\n",
    "    print(rdkit_mol)\n",
    "    rdkit_mol_split = Chem.rdmolops.SplitMolByPDBResidues(rdkit_mol)\n",
    "\n",
    "    # extract the ligand and remove any already present hydrogens\n",
    "    ligand = rdkit_mol_split[resname]\n",
    "    ligand = Chem.RemoveHs(ligand)\n",
    "\n",
    "    # assign bond orders from template\n",
    "    reference_mol = Chem.MolFromSmiles(smiles)\n",
    "    prepared_ligand = AllChem.AssignBondOrdersFromTemplate(reference_mol, ligand)\n",
    "    prepared_ligand.AddConformer(ligand.GetConformer(0))\n",
    "\n",
    "    # protonate ligand\n",
    "    prepared_ligand = Chem.rdmolops.AddHs(prepared_ligand, addCoords=True)\n",
    "    prepared_ligand = Chem.MolFromMolBlock(Chem.MolToMolBlock(prepared_ligand))\n",
    "\n",
    "    # 2D depiction\n",
    "    if depict:\n",
    "        ligand_2d = copy.deepcopy(ligand)\n",
    "        prepared_ligand_2d = copy.deepcopy(prepared_ligand)\n",
    "        AllChem.Compute2DCoords(ligand_2d)\n",
    "        AllChem.Compute2DCoords(prepared_ligand_2d)\n",
    "        display(\n",
    "            Draw.MolsToGridImage(\n",
    "                [ligand_2d, prepared_ligand_2d], molsPerRow=2, legends=[\"original\", \"prepared\"]\n",
    "            )\n",
    "        )\n",
    "\n",
    "    # return ligand\n",
    "    return prepared_ligand"
   ]
  },
  {
   "cell_type": "code",
   "execution_count": 7,
   "metadata": {},
   "outputs": [],
   "source": [
    "pdb_path = \"./protein_rank_6_ligand_complex.pdb\"\n",
    "ligand_name = \"UNL\"\n",
    "smiles = \"COc1ccc(S(=O)(=O)NCCCN2CCCCCC2)cc1C(=O)N1CCC(C)CC1\""
   ]
  },
  {
   "cell_type": "code",
   "execution_count": 8,
   "metadata": {},
   "outputs": [
    {
     "name": "stdout",
     "output_type": "stream",
     "text": [
      "<rdkit.Chem.rdchem.Mol object at 0x7fa3b5fb42e0>\n"
     ]
    },
    {
     "name": "stderr",
     "output_type": "stream",
     "text": [
      "[16:32:58] WARNING: More than one matching pattern found - picking one\n",
      "\n"
     ]
    },
    {
     "data": {
      "image/png": "[encoded data removed]",
      "text/plain": [
       "<IPython.core.display.Image object>"
      ]
     },
     "metadata": {},
     "output_type": "display_data"
    }
   ],
   "source": [
    "rdkit_ligand = prepare_ligand(pdb_path, ligand_name, smiles)"
   ]
  },
  {
   "cell_type": "code",
   "execution_count": 9,
   "metadata": {},
   "outputs": [],
   "source": [
    "def rdkit_to_openmm(rdkit_mol, name=\"LIG\"):\n",
    "    \"\"\"\n",
    "    Convert an RDKit molecule to an OpenMM molecule.\n",
    "    Inspired by @hannahbrucemcdonald and @glass-w.\n",
    "\n",
    "    Parameters\n",
    "    ----------\n",
    "    rdkit_mol: rdkit.Chem.rdchem.Mol\n",
    "        RDKit molecule to convert.\n",
    "    name: str\n",
    "        Molecule name.\n",
    "\n",
    "    Returns\n",
    "    -------\n",
    "    omm_molecule: openmm.app.Modeller\n",
    "        OpenMM modeller object holding the molecule of interest.\n",
    "    \"\"\"\n",
    "    # convert RDKit to OpenFF\n",
    "    off_mol = Molecule.from_rdkit(rdkit_mol)\n",
    "    #print(off_mol)\n",
    "\n",
    "    # add name for molecule\n",
    "    off_mol.name = name\n",
    "    #print(off_mol.name)\n",
    "\n",
    "    # add names for atoms\n",
    "    element_counter_dict = {}\n",
    "    for off_atom, rdkit_atom in zip(off_mol.atoms, rdkit_mol.GetAtoms()):\n",
    "        element = rdkit_atom.GetSymbol()\n",
    "        if element in element_counter_dict.keys():\n",
    "            element_counter_dict[element] += 1\n",
    "        else:\n",
    "            element_counter_dict[element] = 1\n",
    "        off_atom.name = element + str(element_counter_dict[element])\n",
    "    #print(element_counter_dict)\n",
    "\n",
    "    # convert from OpenFF to OpenMM\n",
    "    off_mol_topology = off_mol.to_topology()\n",
    "    mol_topology = off_mol_topology.to_openmm()\n",
    "    #print(mol_topology)\n",
    "    mol_positions = off_mol.conformers[0]\n",
    "    #print(mol_positions)\n",
    "\n",
    "    # convert units from Ångström to nanometers\n",
    "    # since OpenMM works in nm\n",
    "    mol_positions = mol_positions.to(\"nanometers\")\n",
    "    #print(mol_positions)\n",
    "\n",
    "    # combine topology and positions in modeller object\n",
    "    omm_mol = app.Modeller(mol_topology, mol_positions)\n",
    "\n",
    "    return omm_mol"
   ]
  },
  {
   "cell_type": "code",
   "execution_count": 10,
   "metadata": {},
   "outputs": [],
   "source": [
    "omm_ligand = rdkit_to_openmm(rdkit_ligand, ligand_name)"
   ]
  },
  {
   "cell_type": "code",
   "execution_count": 11,
   "metadata": {},
   "outputs": [],
   "source": [
    "def merge_protein_and_ligand(protein, ligand):\n",
    "    \"\"\"\n",
    "    Merge two OpenMM objects.\n",
    "\n",
    "    Parameters\n",
    "    ----------\n",
    "    protein: pdbfixer.pdbfixer.PDBFixer\n",
    "        Protein to merge.\n",
    "    ligand: openmm.app.Modeller\n",
    "        Ligand to merge.\n",
    "\n",
    "    Returns\n",
    "    -------\n",
    "    complex_topology: openmm.app.topology.Topology\n",
    "        The merged topology.\n",
    "    complex_positions: openmm.unit.quantity.Quantity\n",
    "        The merged positions.\n",
    "    \"\"\"\n",
    "    # combine topologies\n",
    "    md_protein_topology = md.Topology.from_openmm(protein.topology)  # using mdtraj for protein top\n",
    "    #print(md_protein_topology)\n",
    "    md_ligand_topology = md.Topology.from_openmm(ligand.topology)  # using mdtraj for ligand top\n",
    "    #print(md_ligand_topology)\n",
    "    md_complex_topology = md_protein_topology.join(md_ligand_topology)  # add them together\n",
    "    #print(md_complex_topology)\n",
    "    complex_topology = md_complex_topology.to_openmm()\n",
    "    #print(complex_topology)\n",
    "\n",
    "    # combine positions\n",
    "    total_atoms = len(protein.positions) + len(ligand.positions)\n",
    "\n",
    "    # create an array for storing all atom positions as tupels containing a value and a unit\n",
    "    # called OpenMM Quantities\n",
    "    complex_positions = unit.Quantity(np.zeros([total_atoms, 3]), unit=unit.nanometers)\n",
    "    complex_positions[: len(protein.positions)] = protein.positions  # add protein positions\n",
    "    complex_positions[len(protein.positions) :] = ligand.positions  # add ligand positions\n",
    "\n",
    "    return complex_topology, complex_positions"
   ]
  },
  {
   "cell_type": "code",
   "execution_count": 12,
   "metadata": {},
   "outputs": [],
   "source": [
    "complex_topology, complex_positions = merge_protein_and_ligand(prepare_protein, omm_ligand)"
   ]
  },
  {
   "cell_type": "code",
   "execution_count": 13,
   "metadata": {},
   "outputs": [
    {
     "name": "stdout",
     "output_type": "stream",
     "text": [
      "Complex topology has 4210 atoms.\n"
     ]
    }
   ],
   "source": [
    "print(\"Complex topology has\", complex_topology.getNumAtoms(), \"atoms.\")\n",
    "# NBVAL_CHECK_OUTPUT"
   ]
  },
  {
   "cell_type": "code",
   "execution_count": 14,
   "metadata": {},
   "outputs": [],
   "source": [
    "def generate_forcefield(\n",
    "    rdkit_mol=None, protein_ff=\"amber14-all.xml\", solvent_ff=\"amber14/tip3pfb.xml\"\n",
    "):\n",
    "    \"\"\"\n",
    "    Generate an OpenMM Forcefield object and register a small molecule.\n",
    "\n",
    "    Parameters\n",
    "    ----------\n",
    "    rdkit_mol: rdkit.Chem.rdchem.Mol\n",
    "        Small molecule to register in the force field.\n",
    "    protein_ff: string\n",
    "        Name of the force field.\n",
    "    solvent_ff: string\n",
    "        Name of the solvent force field.\n",
    "\n",
    "    Returns\n",
    "    -------\n",
    "    forcefield: openmm.app.Forcefield\n",
    "        Forcefield with registered small molecule.\n",
    "    \"\"\"\n",
    "    forcefield = app.ForceField(protein_ff, solvent_ff)\n",
    "\n",
    "    if rdkit_mol is not None:\n",
    "        gaff = GAFFTemplateGenerator(\n",
    "            molecules=Molecule.from_rdkit(rdkit_mol, allow_undefined_stereo=True)\n",
    "        )\n",
    "        forcefield.registerTemplateGenerator(gaff.generator)\n",
    "\n",
    "    return forcefield"
   ]
  },
  {
   "cell_type": "code",
   "execution_count": 15,
   "metadata": {},
   "outputs": [],
   "source": [
    "forcefield = generate_forcefield(rdkit_ligand)"
   ]
  },
  {
   "cell_type": "code",
   "execution_count": 16,
   "metadata": {},
   "outputs": [
    {
     "name": "stderr",
     "output_type": "stream",
     "text": [
      "/bin/bash: /home/media/data2/user_home/dbsejrgus226/miniconda3/envs/MD/lib/libtinfo.so.6: no version information available (required by /bin/bash)\n",
      "/bin/bash: /home/media/data2/user_home/dbsejrgus226/miniconda3/envs/MD/lib/libtinfo.so.6: no version information available (required by /bin/bash)\n",
      "/bin/bash: /home/media/data2/user_home/dbsejrgus226/miniconda3/envs/MD/lib/libtinfo.so.6: no version information available (required by /bin/bash)\n",
      "/bin/bash: /home/media/data2/user_home/dbsejrgus226/miniconda3/envs/MD/lib/libtinfo.so.6: no version information available (required by /bin/bash)\n",
      "/bin/bash: /home/media/data2/user_home/dbsejrgus226/miniconda3/envs/MD/lib/libtinfo.so.6: no version information available (required by /bin/bash)\n",
      "/bin/bash: /home/media/data2/user_home/dbsejrgus226/miniconda3/envs/MD/lib/libtinfo.so.6: no version information available (required by /bin/bash)\n"
     ]
    }
   ],
   "source": [
    "modeller = app.Modeller(complex_topology, complex_positions)\n",
    "modeller.addSolvent(forcefield, padding=1.0 * unit.nanometers, ionicStrength=0.15 * unit.molar)"
   ]
  },
  {
   "cell_type": "code",
   "execution_count": 17,
   "metadata": {},
   "outputs": [],
   "source": [
    "system = forcefield.createSystem(modeller.topology, nonbondedMethod=app.PME)\n",
    "integrator = mm.LangevinIntegrator(\n",
    "    300 * unit.kelvin, 1.0 / unit.picoseconds, 2.0 * unit.femtoseconds\n",
    ")\n",
    "simulation = app.Simulation(modeller.topology, system, integrator)\n",
    "simulation.context.setPositions(modeller.positions)"
   ]
  },
  {
   "cell_type": "code",
   "execution_count": 18,
   "metadata": {},
   "outputs": [],
   "source": [
    "simulation.minimizeEnergy()\n",
    "with open(\"topology_6.pdb\", \"w\") as pdb_file:\n",
    "    app.PDBFile.writeFile(\n",
    "        simulation.topology,\n",
    "        simulation.context.getState(getPositions=True, enforcePeriodicBox=True).getPositions(),\n",
    "        file=pdb_file,\n",
    "        keepIds=True,\n",
    "    )"
   ]
  },
  {
   "cell_type": "code",
   "execution_count": 19,
   "metadata": {},
   "outputs": [],
   "source": [
    "# output settings\n",
    "\n",
    "steps = 50000  # corresponds to 100 fs\n",
    "write_interval = 500  # write every 10 fs\n",
    "log_interval = 250  # log progress to stdout every 5 fs\n",
    "simulation.reporters.append(\n",
    "    md.reporters.XTCReporter(file=str(\"trajectory_6.xtc\"), reportInterval=write_interval)\n",
    ")\n",
    "simulation.reporters.append(\n",
    "    app.StateDataReporter(\n",
    "        sys.stdout,\n",
    "        log_interval,\n",
    "        step=True,\n",
    "        potentialEnergy=True,\n",
    "        temperature=True,\n",
    "        progress=True,\n",
    "        remainingTime=True,\n",
    "        speed=True,\n",
    "        totalSteps=steps,\n",
    "        separator=\"\\t\",\n",
    "    )\n",
    ")"
   ]
  },
  {
   "cell_type": "code",
   "execution_count": 20,
   "metadata": {},
   "outputs": [
    {
     "name": "stdout",
     "output_type": "stream",
     "text": [
      "#\"Progress (%)\"\t\"Step\"\t\"Potential Energy (kJ/mole)\"\t\"Temperature (K)\"\t\"Speed (ns/day)\"\t\"Time Remaining\"\n",
      "0.5%\t250\t-865755.8459233274\t205.6835774605137\t0\t--\n",
      "1.0%\t500\t-848446.1545170774\t241.0034823081995\t187\t0:45\n",
      "1.5%\t750\t-837952.0236577024\t262.1963380312836\t189\t0:44\n",
      "2.0%\t1000\t-830307.7697514524\t275.9089318638231\t189\t0:44\n",
      "2.5%\t1250\t-824784.3068608274\t283.9987921383163\t190\t0:44\n",
      "3.0%\t1500\t-821106.0666264524\t288.5299838377715\t190\t0:44\n",
      "3.5%\t1750\t-817410.4103764524\t290.6173398067029\t190\t0:43\n",
      "4.0%\t2000\t-815764.3615483274\t294.9978483539839\t189\t0:43\n",
      "4.5%\t2250\t-814740.5666264524\t295.592753060583\t190\t0:43\n",
      "5.0%\t2500\t-813539.8283452024\t297.1769568591175\t189\t0:43\n",
      "5.5%\t2750\t-812136.9982670774\t296.5478808903511\t189\t0:43\n",
      "6.0%\t3000\t-812528.2638920774\t296.55526024588124\t189\t0:42\n",
      "6.5%\t3250\t-811984.1369389524\t297.48373445407924\t189\t0:42\n",
      "7.0%\t3500\t-810967.0920170774\t298.6750153126414\t189\t0:42\n",
      "7.5%\t3750\t-811326.0978764524\t298.83848633627144\t189\t0:42\n",
      "8.0%\t4000\t-812358.6408452024\t300.1654928403948\t189\t0:42\n",
      "8.5%\t4250\t-811766.6447514524\t297.82322435243367\t189\t0:41\n",
      "9.0%\t4500\t-810811.2385014524\t296.1747377945579\t189\t0:41\n",
      "9.5%\t4750\t-811392.7658452024\t299.2865245493702\t189\t0:41\n",
      "10.0%\t5000\t-810604.4455327024\t301.48834201226055\t189\t0:41\n",
      "10.5%\t5250\t-810297.9767827024\t300.7119099841497\t189\t0:40\n",
      "11.0%\t5500\t-808762.9865483274\t299.02061765977913\t189\t0:40\n",
      "11.5%\t5750\t-810369.1369389524\t301.1278381838186\t189\t0:40\n",
      "12.0%\t6000\t-809604.2033452024\t297.7208151203417\t189\t0:40\n",
      "12.5%\t6250\t-809435.3361577024\t298.4184610268179\t189\t0:40\n",
      "13.0%\t6500\t-810457.1681889524\t300.8962990939577\t189\t0:39\n",
      "13.5%\t6750\t-810376.9728764524\t298.8620976138702\t189\t0:39\n",
      "14.0%\t7000\t-810289.4045170774\t297.47860100357053\t189\t0:39\n",
      "14.5%\t7250\t-811248.5900639524\t300.7506253387151\t189\t0:39\n",
      "15.0%\t7500\t-810492.8146733274\t299.59868266553076\t188\t0:38\n",
      "15.5%\t7750\t-810175.1935795774\t298.82485890150474\t189\t0:38\n",
      "16.0%\t8000\t-810431.2658452024\t297.02456973033384\t188\t0:38\n",
      "16.5%\t8250\t-811287.9416264524\t300.82172405495334\t189\t0:38\n",
      "17.0%\t8500\t-810858.3127202024\t298.56535201119584\t188\t0:38\n",
      "17.5%\t8750\t-810757.4045170774\t300.46245113586576\t189\t0:37\n",
      "18.0%\t9000\t-810929.0451420774\t299.4072217022375\t188\t0:37\n",
      "18.5%\t9250\t-810787.7580327024\t298.8723966805948\t188\t0:37\n",
      "19.0%\t9500\t-809604.2111577024\t299.01424845780434\t188\t0:37\n",
      "19.5%\t9750\t-810771.2482670774\t298.81281328824565\t188\t0:36\n",
      "20.0%\t10000\t-810169.6017827024\t298.69490150949275\t188\t0:36\n",
      "20.5%\t10250\t-810778.1603764524\t298.68247714472574\t188\t0:36\n",
      "21.0%\t10500\t-810804.5627202024\t299.3565157623484\t188\t0:36\n",
      "21.5%\t10750\t-810422.6779545774\t300.29318389444285\t188\t0:36\n",
      "22.0%\t11000\t-810253.4767827024\t299.74103452939283\t188\t0:35\n",
      "22.5%\t11250\t-809472.2970952024\t298.7806558857902\t188\t0:35\n",
      "23.0%\t11500\t-809765.1291264524\t297.67161910107103\t188\t0:35\n",
      "23.5%\t11750\t-809640.8810795774\t298.60852888497965\t188\t0:35\n",
      "24.0%\t12000\t-810004.0959233274\t299.93028230488864\t188\t0:34\n",
      "24.5%\t12250\t-810289.6623295774\t300.0753016715524\t188\t0:34\n",
      "25.0%\t12500\t-809622.8322514524\t300.371443311463\t188\t0:34\n",
      "25.5%\t12750\t-810037.4260014524\t299.4564432999707\t188\t0:34\n",
      "26.0%\t13000\t-809969.8771733274\t301.2480210113965\t188\t0:34\n",
      "26.5%\t13250\t-810201.4220952024\t298.79910265019504\t188\t0:33\n",
      "27.0%\t13500\t-810707.4513920774\t299.5244235386203\t188\t0:33\n",
      "27.5%\t13750\t-810252.5373295774\t299.6472277337526\t188\t0:33\n",
      "28.0%\t14000\t-810187.5510014524\t298.9421818989129\t188\t0:33\n",
      "28.5%\t14250\t-809898.8439702024\t297.750152478593\t188\t0:32\n",
      "29.0%\t14500\t-810013.1252202024\t301.44592964019165\t188\t0:32\n",
      "29.5%\t14750\t-810001.7385014524\t299.76605748814967\t188\t0:32\n",
      "30.0%\t15000\t-810457.9299077024\t299.63958075356885\t188\t0:32\n",
      "30.5%\t15250\t-811453.0412358274\t299.3212990466662\t188\t0:31\n",
      "31.0%\t15500\t-809858.6115483274\t299.42382295021787\t188\t0:31\n",
      "31.5%\t15750\t-810003.7736577024\t298.3099409614249\t188\t0:31\n",
      "32.0%\t16000\t-810616.7990483274\t298.9983875912204\t188\t0:31\n",
      "32.5%\t16250\t-809087.5549077024\t298.31030576095094\t188\t0:31\n",
      "33.0%\t16500\t-811053.2306889524\t299.64042769420803\t188\t0:30\n",
      "33.5%\t16750\t-810775.5998295774\t302.1176088420542\t188\t0:30\n",
      "34.0%\t17000\t-809406.1037358274\t299.8933017376859\t188\t0:30\n",
      "34.5%\t17250\t-809118.7326420774\t300.4060437983753\t188\t0:30\n",
      "35.0%\t17500\t-808372.1369389524\t300.17030817931186\t188\t0:29\n",
      "35.5%\t17750\t-809118.2599858274\t300.1201855811667\t188\t0:29\n",
      "36.0%\t18000\t-809512.6662358274\t298.92583279892625\t187\t0:29\n",
      "36.5%\t18250\t-809976.1115483274\t301.0580438095097\t187\t0:29\n",
      "37.0%\t18500\t-809965.2756108274\t302.2504175196985\t187\t0:29\n",
      "37.5%\t18750\t-809790.9416264524\t300.3497617267435\t187\t0:28\n",
      "38.0%\t19000\t-809534.7052983274\t300.24144970246016\t187\t0:28\n",
      "38.5%\t19250\t-809985.3439702024\t301.14984292633187\t187\t0:28\n",
      "39.0%\t19500\t-810696.0568608274\t301.44438958502207\t187\t0:28\n",
      "39.5%\t19750\t-810360.5470952024\t301.8849041632151\t187\t0:27\n",
      "40.0%\t20000\t-810449.8986577024\t299.986055653474\t187\t0:27\n",
      "40.5%\t20250\t-810126.4123295774\t297.9066887266511\t187\t0:27\n",
      "41.0%\t20500\t-811367.1701420774\t301.01033424383166\t187\t0:27\n",
      "41.5%\t20750\t-810304.2248295774\t298.9711249861339\t187\t0:26\n",
      "42.0%\t21000\t-810776.3459233274\t300.04908825196435\t187\t0:26\n",
      "42.5%\t21250\t-809707.1642827024\t298.3303645201774\t187\t0:26\n",
      "43.0%\t21500\t-810028.7677983274\t299.49381593304156\t187\t0:26\n",
      "43.5%\t21750\t-810846.0549077024\t300.2844110559786\t187\t0:26\n",
      "44.0%\t22000\t-810755.9924077024\t300.6419085188373\t187\t0:25\n",
      "44.5%\t22250\t-809174.2150639524\t299.88177740292826\t187\t0:25\n",
      "45.0%\t22500\t-808759.9748295774\t302.0932298695219\t187\t0:25\n",
      "45.5%\t22750\t-809286.4670170774\t302.6231433965538\t187\t0:25\n",
      "46.0%\t23000\t-808633.8693608274\t303.01260125543064\t187\t0:24\n",
      "46.5%\t23250\t-809297.8381108274\t302.97457686126984\t187\t0:24\n",
      "47.0%\t23500\t-808907.5373295774\t300.9962707773556\t187\t0:24\n",
      "47.5%\t23750\t-809547.1232670774\t299.1941494332447\t187\t0:24\n",
      "48.0%\t24000\t-809261.5861577024\t297.24712383159624\t187\t0:24\n",
      "48.5%\t24250\t-810041.6447514524\t299.5124983696268\t187\t0:23\n",
      "49.0%\t24500\t-810556.8283452024\t302.4739876792103\t187\t0:23\n",
      "49.5%\t24750\t-810811.8967045774\t302.12067779986705\t187\t0:23\n",
      "50.0%\t25000\t-810533.1760014524\t300.855272078284\t187\t0:23\n",
      "50.5%\t25250\t-810280.3361577024\t300.59840486876027\t187\t0:22\n",
      "51.0%\t25500\t-810521.8927983274\t301.2402042744232\t187\t0:22\n",
      "51.5%\t25750\t-810244.9338139524\t300.5542220429758\t187\t0:22\n",
      "52.0%\t26000\t-811025.7326420774\t301.03552727661395\t187\t0:22\n",
      "52.5%\t26250\t-810843.5900639524\t300.1506171656834\t187\t0:21\n",
      "53.0%\t26500\t-811748.5217045774\t300.3026958654788\t187\t0:21\n",
      "53.5%\t26750\t-811283.6916264524\t299.98104241657956\t187\t0:21\n",
      "54.0%\t27000\t-810214.1017827024\t299.5991064797523\t187\t0:21\n",
      "54.5%\t27250\t-811017.9552983274\t302.1683586702282\t187\t0:21\n",
      "55.0%\t27500\t-810166.0920170774\t300.04452577479293\t187\t0:20\n",
      "55.5%\t27750\t-811681.6681889524\t301.6299064313409\t187\t0:20\n",
      "56.0%\t28000\t-811412.3205327024\t300.0127480232437\t187\t0:20\n",
      "56.5%\t28250\t-810513.5783452024\t298.3594494640942\t187\t0:20\n",
      "57.0%\t28500\t-811855.4181889524\t300.072813346506\t187\t0:19\n",
      "57.5%\t28750\t-810357.2013920774\t298.36037333564417\t187\t0:19\n",
      "58.0%\t29000\t-811727.7697514524\t301.0045266488383\t187\t0:19\n",
      "58.5%\t29250\t-810929.4455327024\t301.2555446415705\t187\t0:19\n",
      "59.0%\t29500\t-810473.4142827024\t301.0635986129493\t187\t0:18\n",
      "59.5%\t29750\t-811572.7892827024\t302.192652110044\t187\t0:18\n",
      "60.0%\t30000\t-811349.0568608274\t298.91390058743616\t187\t0:18\n",
      "60.5%\t30250\t-811553.9045170774\t299.64922018266583\t187\t0:18\n",
      "61.0%\t30500\t-811271.6232670774\t299.32423397280314\t187\t0:18\n",
      "61.5%\t30750\t-810195.8205327024\t297.2605272231856\t187\t0:17\n",
      "62.0%\t31000\t-811279.0217045774\t300.00603286627404\t187\t0:17\n",
      "62.5%\t31250\t-810226.5685795774\t299.43107280135973\t187\t0:17\n",
      "63.0%\t31500\t-811322.8459233274\t301.38764527451843\t187\t0:17\n",
      "63.5%\t31750\t-810420.4767827024\t301.01934625993096\t187\t0:16\n",
      "64.0%\t32000\t-811106.1271733274\t301.6242638426709\t187\t0:16\n",
      "64.5%\t32250\t-810386.3127202024\t299.1453958918963\t187\t0:16\n",
      "65.0%\t32500\t-810169.2677983274\t298.35296380265123\t187\t0:16\n",
      "65.5%\t32750\t-810498.2912358274\t299.7567124606958\t187\t0:15\n",
      "66.0%\t33000\t-810858.3439702024\t299.22757327227373\t187\t0:15\n",
      "66.5%\t33250\t-811474.4513920774\t300.3854616813085\t187\t0:15\n",
      "67.0%\t33500\t-811071.8752202024\t298.88837527219187\t187\t0:15\n",
      "67.5%\t33750\t-812025.9748295774\t298.6174621966244\t187\t0:15\n",
      "68.0%\t34000\t-811901.6994389524\t301.3314023510549\t187\t0:14\n",
      "68.5%\t34250\t-812405.1447514524\t300.0920926615696\t187\t0:14\n",
      "69.0%\t34500\t-811669.3107670774\t297.9169641456956\t187\t0:14\n",
      "69.5%\t34750\t-812011.0861577024\t298.6712957400571\t187\t0:14\n",
      "70.0%\t35000\t-811259.8478764524\t297.87323530750604\t186\t0:13\n",
      "70.5%\t35250\t-811288.7267827024\t300.9053512397439\t186\t0:13\n",
      "71.0%\t35500\t-810412.8888920774\t301.23525374528515\t186\t0:13\n",
      "71.5%\t35750\t-809585.1252202024\t300.3887836166626\t186\t0:13\n",
      "72.0%\t36000\t-810379.5314702024\t298.7336842624796\t186\t0:12\n",
      "72.5%\t36250\t-811087.1525639524\t299.6225391090763\t186\t0:12\n",
      "73.0%\t36500\t-810883.4142827024\t299.24833548868764\t186\t0:12\n",
      "73.5%\t36750\t-810933.5158452024\t300.60705650524517\t186\t0:12\n",
      "74.0%\t37000\t-810919.9885014524\t302.0253972005182\t186\t0:12\n",
      "74.5%\t37250\t-810304.6623295774\t300.1371952428862\t186\t0:11\n",
      "75.0%\t37500\t-810256.0881108274\t299.98382935379493\t186\t0:11\n",
      "75.5%\t37750\t-810471.8849858274\t300.07670161528097\t186\t0:11\n",
      "76.0%\t38000\t-810324.3498295774\t300.5620616126897\t186\t0:11\n",
      "76.5%\t38250\t-810564.5256108274\t300.3428746925995\t186\t0:10\n",
      "77.0%\t38500\t-809919.6623295774\t300.4730531544364\t186\t0:10\n",
      "77.5%\t38750\t-809688.5802983274\t300.86575209957755\t186\t0:10\n",
      "78.0%\t39000\t-809458.3283452024\t300.6846079879668\t186\t0:10\n",
      "78.5%\t39250\t-809590.6760014524\t300.03311747073263\t186\t0:09\n",
      "79.0%\t39500\t-809954.2463139524\t301.1710386866022\t186\t0:09\n",
      "79.5%\t39750\t-810658.2189702024\t301.994535617103\t186\t0:09\n",
      "80.0%\t40000\t-809147.7248295774\t299.37366621422274\t186\t0:09\n",
      "80.5%\t40250\t-810782.0510014524\t302.43188920058105\t186\t0:09\n",
      "81.0%\t40500\t-809637.6916264524\t300.0985775376082\t186\t0:08\n",
      "81.5%\t40750\t-810202.1427983274\t301.8872736403868\t186\t0:08\n",
      "82.0%\t41000\t-810447.5744389524\t302.3247112347891\t186\t0:08\n",
      "82.5%\t41250\t-810670.7677983274\t303.53821231313225\t186\t0:08\n",
      "83.0%\t41500\t-809998.9103764524\t301.53349748504905\t186\t0:07\n",
      "83.5%\t41750\t-809272.1974858274\t299.6092035333358\t186\t0:07\n",
      "84.0%\t42000\t-810024.3986577024\t301.3797311028615\t186\t0:07\n",
      "84.5%\t42250\t-809216.0314702024\t299.83685940284056\t185\t0:07\n",
      "85.0%\t42500\t-810240.3674077024\t300.5723258481186\t185\t0:06\n",
      "85.5%\t42750\t-810265.1916264524\t300.73876105435033\t185\t0:06\n",
      "86.0%\t43000\t-810410.7092045774\t300.2825301399087\t185\t0:06\n",
      "86.5%\t43250\t-810233.0607670774\t299.1217224717278\t185\t0:06\n",
      "87.0%\t43500\t-810942.5744389524\t300.791566645982\t185\t0:06\n",
      "87.5%\t43750\t-811948.9416264524\t298.88907319084717\t185\t0:05\n",
      "88.0%\t44000\t-812396.4963139524\t299.77639112894275\t184\t0:05\n",
      "88.5%\t44250\t-811423.9181889524\t299.5012388738288\t184\t0:05\n",
      "89.0%\t44500\t-811098.2209233274\t300.99413795807556\t184\t0:05\n",
      "89.5%\t44750\t-811823.0861577024\t302.44175068351234\t184\t0:04\n",
      "90.0%\t45000\t-811415.7228764524\t300.3674172916588\t184\t0:04\n",
      "90.5%\t45250\t-810523.6916264524\t300.80275762892023\t184\t0:04\n",
      "91.0%\t45500\t-811235.9240483274\t301.5768935306368\t184\t0:04\n",
      "91.5%\t45750\t-810974.7345952024\t302.1829994667425\t184\t0:04\n",
      "92.0%\t46000\t-810807.9924077024\t299.4218346630644\t183\t0:03\n",
      "92.5%\t46250\t-809138.5822514524\t300.2918623882954\t183\t0:03\n",
      "93.0%\t46500\t-809098.4552983274\t300.3970545217011\t183\t0:03\n",
      "93.5%\t46750\t-810463.2560795774\t300.8779899703325\t183\t0:03\n",
      "94.0%\t47000\t-810676.2931889524\t300.4243351246947\t183\t0:02\n",
      "94.5%\t47250\t-809607.0842045774\t298.980298860994\t183\t0:02\n",
      "95.0%\t47500\t-810423.9455327024\t300.16801557140525\t183\t0:02\n",
      "95.5%\t47750\t-811105.5353764524\t299.9892896271183\t183\t0:02\n",
      "96.0%\t48000\t-810602.0412358274\t298.57739951516555\t183\t0:01\n",
      "96.5%\t48250\t-811387.6662358274\t296.36346803838796\t183\t0:01\n",
      "97.0%\t48500\t-811973.2267827024\t298.08399727785326\t183\t0:01\n",
      "97.5%\t48750\t-812007.0119389524\t300.67604870048257\t183\t0:01\n",
      "98.0%\t49000\t-811976.3244389524\t301.29594006098904\t183\t0:00\n",
      "98.5%\t49250\t-811354.6779545774\t299.00071815770605\t183\t0:00\n",
      "99.0%\t49500\t-812308.5158452024\t299.85026529478023\t183\t0:00\n",
      "99.5%\t49750\t-812030.7131108274\t299.60269224533573\t183\t0:00\n",
      "100.0%\t50000\t-811687.0724858274\t299.18596314104747\t183\t0:00\n"
     ]
    }
   ],
   "source": [
    "simulation.context.setVelocitiesToTemperature(300 * unit.kelvin)\n",
    "simulation.step(steps)  # perform the simulation"
   ]
  },
  {
   "cell_type": "code",
   "execution_count": 21,
   "metadata": {},
   "outputs": [
    {
     "name": "stdout",
     "output_type": "stream",
     "text": [
      "os.stat_result(st_mode=33204, st_ino=235276841, st_dev=2080, st_nlink=1, st_uid=1002, st_gid=1002, st_size=18894896, st_atime=1716190557, st_mtime=1716190605, st_ctime=1716190605)\n"
     ]
    }
   ],
   "source": [
    "# Check the trajectory exists and is not empty\n",
    "import os \n",
    "result = \"./trajectory_6.xtc\"\n",
    "file_info = os.stat(result)\n",
    "print(file_info)\n",
    "#result.stat().st_size > 0\n",
    "# NBVAL_CHECK_OUTPUT"
   ]
  },
  {
   "cell_type": "markdown",
   "metadata": {},
   "source": [
    "# Analysis MD Simulation results"
   ]
  },
  {
   "cell_type": "code",
   "execution_count": 22,
   "metadata": {},
   "outputs": [
    {
     "data": {
      "application/vnd.jupyter.widget-view+json": {
       "model_id": "2e428609cd2c4f32ab4f6e0b4d9abcaa",
       "version_major": 2,
       "version_minor": 0
      },
      "text/plain": []
     },
     "metadata": {},
     "output_type": "display_data"
    }
   ],
   "source": [
    "from pathlib import Path\n",
    "\n",
    "import pandas as pd\n",
    "import numpy as np\n",
    "import matplotlib.pyplot as plt\n",
    "import nglview as nv\n",
    "import MDAnalysis as mda\n",
    "from MDAnalysis.analysis import rms, diffusionmap, align\n",
    "from MDAnalysis.analysis.distances import dist\n",
    "from MDAnalysis.analysis.hydrogenbonds.hbond_analysis import HydrogenBondAnalysis as HBA\n"
   ]
  },
  {
   "cell_type": "code",
   "execution_count": 23,
   "metadata": {},
   "outputs": [],
   "source": [
    "md_universe = mda.Universe(str(\"./topology_6.pdb\"), str(\"./trajectory_6.xtc\"))"
   ]
  },
  {
   "cell_type": "code",
   "execution_count": 24,
   "metadata": {},
   "outputs": [
    {
     "data": {
      "text/plain": [
       "<MDAnalysis.analysis.align.AlignTraj at 0x7fa3252f2be0>"
      ]
     },
     "execution_count": 24,
     "metadata": {},
     "output_type": "execute_result"
    }
   ],
   "source": [
    "# Set trajectory pointer to first frame as reference\n",
    "md_universe.trajectory[0]\n",
    "\n",
    "# in_memory=True is needed to actually modify the loaded trajectory\n",
    "# if the trajectory is too big for memory, one can write out the aligned trajectory and reload it into a new universe\n",
    "alignment = align.AlignTraj(\n",
    "    mobile=md_universe, reference=md_universe, select=\"protein\", in_memory=True\n",
    ")\n",
    "alignment.run()"
   ]
  },
  {
   "cell_type": "code",
   "execution_count": 25,
   "metadata": {},
   "outputs": [],
   "source": [
    "def rmsd_for_atomgroups(universe, selection1, selection2=None):\n",
    "    \"\"\"Calulate the RMSD for selected atom groups.\n",
    "\n",
    "    Parameters\n",
    "    ----------\n",
    "    universe: MDAnalysis.core.universe.Universe\n",
    "        MDAnalysis universe.\n",
    "    selection1: str\n",
    "        Selection string for main atom group, also used during alignment.\n",
    "    selection2: list of str, optional\n",
    "        Selection strings for additional atom groups.\n",
    "\n",
    "    Returns\n",
    "    -------\n",
    "    rmsd_df: pandas.core.frame.DataFrame\n",
    "        DataFrame containing RMSD of the selected atom groups over time.\n",
    "    \"\"\"\n",
    "\n",
    "    universe.trajectory\n",
    "    ref = universe\n",
    "    rmsd_analysis = rms.RMSD(universe, ref, select=selection1, groupselections=selection2)\n",
    "    rmsd_analysis.run()\n",
    "\n",
    "    columns = [selection1, *selection2] if selection2 else [selection1]\n",
    "    #print(rmsd_analysis.results)\n",
    "    #print(rmsd_analysis)\n",
    "    rmsd_df = pd.DataFrame(np.round(rmsd_analysis.results.rmsd[:, 2:], 2), columns=columns)\n",
    "    rmsd_df.index.name = \"time\"\n",
    "    return rmsd_df"
   ]
  },
  {
   "cell_type": "code",
   "execution_count": 26,
   "metadata": {},
   "outputs": [],
   "source": [
    "rmsd = rmsd_for_atomgroups(md_universe, \"backbone\", [\"protein\", \"resname UNK\"])\n",
    "#rmsd[:20]"
   ]
  },
  {
   "cell_type": "code",
   "execution_count": 27,
   "metadata": {},
   "outputs": [
    {
     "data": {
      "text/html": [
       "<div>\n",
       "<style scoped>\n",
       "    .dataframe tbody tr th:only-of-type {\n",
       "        vertical-align: middle;\n",
       "    }\n",
       "\n",
       "    .dataframe tbody tr th {\n",
       "        vertical-align: top;\n",
       "    }\n",
       "\n",
       "    .dataframe thead th {\n",
       "        text-align: right;\n",
       "    }\n",
       "</style>\n",
       "<table border=\"1\" class=\"dataframe\">\n",
       "  <thead>\n",
       "    <tr style=\"text-align: right;\">\n",
       "      <th></th>\n",
       "      <th>backbone</th>\n",
       "      <th>protein</th>\n",
       "      <th>rank_6_ligand</th>\n",
       "    </tr>\n",
       "    <tr>\n",
       "      <th>time</th>\n",
       "      <th></th>\n",
       "      <th></th>\n",
       "      <th></th>\n",
       "    </tr>\n",
       "  </thead>\n",
       "  <tbody>\n",
       "    <tr>\n",
       "      <th>0</th>\n",
       "      <td>0.00</td>\n",
       "      <td>0.00</td>\n",
       "      <td>0.00</td>\n",
       "    </tr>\n",
       "    <tr>\n",
       "      <th>1</th>\n",
       "      <td>0.59</td>\n",
       "      <td>0.79</td>\n",
       "      <td>1.17</td>\n",
       "    </tr>\n",
       "    <tr>\n",
       "      <th>2</th>\n",
       "      <td>0.71</td>\n",
       "      <td>0.96</td>\n",
       "      <td>2.09</td>\n",
       "    </tr>\n",
       "    <tr>\n",
       "      <th>3</th>\n",
       "      <td>0.82</td>\n",
       "      <td>1.07</td>\n",
       "      <td>1.92</td>\n",
       "    </tr>\n",
       "    <tr>\n",
       "      <th>4</th>\n",
       "      <td>0.80</td>\n",
       "      <td>1.03</td>\n",
       "      <td>1.81</td>\n",
       "    </tr>\n",
       "  </tbody>\n",
       "</table>\n",
       "</div>"
      ],
      "text/plain": [
       "      backbone  protein  rank_6_ligand\n",
       "time                                  \n",
       "0         0.00     0.00           0.00\n",
       "1         0.59     0.79           1.17\n",
       "2         0.71     0.96           2.09\n",
       "3         0.82     1.07           1.92\n",
       "4         0.80     1.03           1.81"
      ]
     },
     "execution_count": 27,
     "metadata": {},
     "output_type": "execute_result"
    }
   ],
   "source": [
    "rmsd.rename(columns={\"resname UNK\": \"rank_6_ligand\"}, inplace=True)\n",
    "rmsd.head()"
   ]
  },
  {
   "cell_type": "code",
   "execution_count": 28,
   "metadata": {},
   "outputs": [
    {
     "data": {
      "image/png": "[encoded data removed]",
      "text/plain": [
       "<Figure size 640x480 with 1 Axes>"
      ]
     },
     "metadata": {},
     "output_type": "display_data"
    }
   ],
   "source": [
    "rmsd.plot(title=\"RMSD of protein and ligand\")\n",
    "plt.ylabel(\"RMSD (Å)\");"
   ]
  },
  {
   "cell_type": "code",
   "execution_count": 29,
   "metadata": {},
   "outputs": [],
   "source": [
    "#rmsd.to_csv(\"rank_6_rmsd_results.csv\")"
   ]
  },
  {
   "cell_type": "code",
   "execution_count": null,
   "metadata": {},
   "outputs": [],
   "source": []
  }
 ],
 "metadata": {
  "kernelspec": {
   "display_name": "Python 3",
   "language": "python",
   "name": "python3"
  },
  "language_info": {
   "codemirror_mode": {
    "name": "ipython",
    "version": 3
   },
   "file_extension": ".py",
   "mimetype": "text/x-python",
   "name": "python",
   "nbconvert_exporter": "python",
   "pygments_lexer": "ipython3",
   "version": "3.8.19"
  }
 },
 "nbformat": 4,
 "nbformat_minor": 2
}
