{
 "cells": [
  {
   "cell_type": "markdown",
   "metadata": {},
   "source": [
    "# MD Simultaion "
   ]
  },
  {
   "cell_type": "code",
   "execution_count": 1,
   "metadata": {},
   "outputs": [],
   "source": [
    "import copy\n",
    "from pathlib import Path\n",
    "import sys\n",
    "\n",
    "import requests\n",
    "from IPython.display import display\n",
    "import numpy as np\n",
    "from rdkit import Chem\n",
    "from rdkit.Chem import Draw\n",
    "from rdkit.Chem import AllChem\n",
    "import mdtraj as md\n",
    "import pdbfixer\n",
    "import openmm as mm\n",
    "import openmm.app as app\n",
    "from openmm import unit\n",
    "from openff.toolkit.topology import Molecule, Topology\n",
    "from openmmforcefields.generators import GAFFTemplateGenerator"
   ]
  },
  {
   "cell_type": "code",
   "execution_count": 2,
   "metadata": {},
   "outputs": [],
   "source": [
    "import warnings\n",
    "\n",
    "# 경고를 무시하도록 설정합니다.\n",
    "#warnings.filterwarnings(\"ignore\", message=\"PDB file is missing resid information.\")\n",
    "#warnings.filterwarnings(\"ignore\", message=\"Reload offsets from trajectory\")\n",
    "#warnings.filterwarnings(\"ignore\", message=\"duplicate atom\")\n",
    "\n",
    "warnings.filterwarnings(\"ignore\")"
   ]
  },
  {
   "cell_type": "code",
   "execution_count": 3,
   "metadata": {},
   "outputs": [],
   "source": [
    "def prepare_protein(\n",
    "    pdb_file, ignore_missing_residues=True, ignore_terminal_missing_residues=True, ph=7.0\n",
    "):\n",
    "    \"\"\"\n",
    "    Use pdbfixer to prepare the protein from a PDB file. Hetero atoms such as ligands are\n",
    "    removed and non-standard residues replaced. Missing atoms to existing residues are added.\n",
    "    Missing residues are ignored by default, but can be included.\n",
    "\n",
    "    Parameters\n",
    "    ----------\n",
    "    pdb_file: pathlib.Path or str\n",
    "        PDB file containing the system to simulate.\n",
    "    ignore_missing_residues: bool, optional\n",
    "        If missing residues should be ignored or built.\n",
    "    ignore_terminal_missing_residues: bool, optional\n",
    "        If missing residues at the beginning and the end of a chain should be ignored or built.\n",
    "    ph: float, optional\n",
    "        pH value used to determine protonation state of residues\n",
    "\n",
    "    Returns\n",
    "    -------\n",
    "    fixer: pdbfixer.pdbfixer.PDBFixer\n",
    "        Prepared protein system.\n",
    "    \"\"\"\n",
    "    fixer = pdbfixer.PDBFixer(str(pdb_file))\n",
    "    fixer.removeHeterogens()  # co-crystallized ligands are unknown to PDBFixer\n",
    "    fixer.findMissingResidues()  # identify missing residues, needed for identification of missing atoms\n",
    "\n",
    "    # if missing terminal residues shall be ignored, remove them from the dictionary\n",
    "    if ignore_terminal_missing_residues:\n",
    "        chains = list(fixer.topology.chains())\n",
    "        keys = fixer.missingResidues.keys()\n",
    "        for key in list(keys):\n",
    "            chain = chains[key[0]]\n",
    "            if key[1] == 0 or key[1] == len(list(chain.residues())):\n",
    "                del fixer.missingResidues[key]\n",
    "\n",
    "    # if all missing residues shall be ignored ignored, clear the dictionary\n",
    "    if ignore_missing_residues:\n",
    "        fixer.missingResidues = {}\n",
    "\n",
    "    fixer.findNonstandardResidues()  # find non-standard residue\n",
    "    fixer.replaceNonstandardResidues()  # replace non-standard residues with standard one\n",
    "    fixer.findMissingAtoms()  # find missing heavy atoms\n",
    "    fixer.addMissingAtoms()  # add missing atoms and residues\n",
    "    fixer.addMissingHydrogens(ph)  # add missing hydrogens\n",
    "    return fixer"
   ]
  },
  {
   "cell_type": "code",
   "execution_count": 4,
   "metadata": {},
   "outputs": [],
   "source": [
    "prepare_protein = prepare_protein(\"./protein_rank_1_complex.pdb\", ignore_missing_residues=False)"
   ]
  },
  {
   "cell_type": "code",
   "execution_count": 5,
   "metadata": {},
   "outputs": [],
   "source": [
    "def prepare_ligand(pdb_file, resname, smiles, depict=True):\n",
    "    \"\"\"\n",
    "    Prepare a ligand from a PDB file via adding hydrogens and assigning bond orders. A depiction\n",
    "    of the ligand before and after preparation is rendered in 2D to allow an inspection of the\n",
    "    results. Huge thanks to @j-wags for the suggestion.\n",
    "\n",
    "    Parameters\n",
    "    ----------\n",
    "    pdb_file: pathlib.PosixPath\n",
    "       PDB file containing the ligand of interest.\n",
    "    resname: str\n",
    "        Three character residue name of the ligand.\n",
    "    smiles : str\n",
    "        SMILES string of the ligand informing about correct protonation and bond orders.\n",
    "    depict: bool, optional\n",
    "        show a 2D representation of the ligand\n",
    "\n",
    "    Returns\n",
    "    -------\n",
    "    prepared_ligand: rdkit.Chem.rdchem.Mol\n",
    "        Prepared ligand.\n",
    "    \"\"\"\n",
    "    # split molecule\n",
    "    rdkit_mol = Chem.MolFromPDBFile(str(pdb_file), proximityBonding=True, sanitize=False)\n",
    "    print(rdkit_mol)\n",
    "    rdkit_mol_split = Chem.rdmolops.SplitMolByPDBResidues(rdkit_mol)\n",
    "\n",
    "    # extract the ligand and remove any already present hydrogens\n",
    "    ligand = rdkit_mol_split[resname]\n",
    "    ligand = Chem.RemoveHs(ligand)\n",
    "\n",
    "    # assign bond orders from template\n",
    "    reference_mol = Chem.MolFromSmiles(smiles)\n",
    "    prepared_ligand = AllChem.AssignBondOrdersFromTemplate(reference_mol, ligand)\n",
    "    prepared_ligand.AddConformer(ligand.GetConformer(0))\n",
    "\n",
    "    # protonate ligand\n",
    "    prepared_ligand = Chem.rdmolops.AddHs(prepared_ligand, addCoords=True)\n",
    "    prepared_ligand = Chem.MolFromMolBlock(Chem.MolToMolBlock(prepared_ligand))\n",
    "\n",
    "    # 2D depiction\n",
    "    if depict:\n",
    "        ligand_2d = copy.deepcopy(ligand)\n",
    "        prepared_ligand_2d = copy.deepcopy(prepared_ligand)\n",
    "        AllChem.Compute2DCoords(ligand_2d)\n",
    "        AllChem.Compute2DCoords(prepared_ligand_2d)\n",
    "        display(\n",
    "            Draw.MolsToGridImage(\n",
    "                [ligand_2d, prepared_ligand_2d], molsPerRow=2, legends=[\"original\", \"prepared\"]\n",
    "            )\n",
    "        )\n",
    "\n",
    "    # return ligand\n",
    "    return prepared_ligand"
   ]
  },
  {
   "cell_type": "code",
   "execution_count": 6,
   "metadata": {},
   "outputs": [],
   "source": [
    "pdb_path = \"./protein_rank_1_complex.pdb\"\n",
    "ligand_name = \"UNL\"\n",
    "smiles = \"COc1ccccc1N1CCN(C(=O)Nc2ccccc2C)CC1\""
   ]
  },
  {
   "cell_type": "code",
   "execution_count": 7,
   "metadata": {},
   "outputs": [
    {
     "name": "stdout",
     "output_type": "stream",
     "text": [
      "<rdkit.Chem.rdchem.Mol object at 0x7f5a250d99a0>\n"
     ]
    },
    {
     "name": "stderr",
     "output_type": "stream",
     "text": [
      "[11:42:07] WARNING: More than one matching pattern found - picking one\n",
      "\n"
     ]
    },
    {
     "data": {
      "image/png": "[encoded data removed]",
      "text/plain": [
       "<IPython.core.display.Image object>"
      ]
     },
     "metadata": {},
     "output_type": "display_data"
    }
   ],
   "source": [
    "rdkit_ligand = prepare_ligand(pdb_path, ligand_name, smiles)"
   ]
  },
  {
   "cell_type": "code",
   "execution_count": 8,
   "metadata": {},
   "outputs": [],
   "source": [
    "def rdkit_to_openmm(rdkit_mol, name=\"LIG\"):\n",
    "    \"\"\"\n",
    "    Convert an RDKit molecule to an OpenMM molecule.\n",
    "    Inspired by @hannahbrucemcdonald and @glass-w.\n",
    "\n",
    "    Parameters\n",
    "    ----------\n",
    "    rdkit_mol: rdkit.Chem.rdchem.Mol\n",
    "        RDKit molecule to convert.\n",
    "    name: str\n",
    "        Molecule name.\n",
    "\n",
    "    Returns\n",
    "    -------\n",
    "    omm_molecule: openmm.app.Modeller\n",
    "        OpenMM modeller object holding the molecule of interest.\n",
    "    \"\"\"\n",
    "    # convert RDKit to OpenFF\n",
    "    off_mol = Molecule.from_rdkit(rdkit_mol)\n",
    "    #print(off_mol)\n",
    "\n",
    "    # add name for molecule\n",
    "    off_mol.name = name\n",
    "    #print(off_mol.name)\n",
    "\n",
    "    # add names for atoms\n",
    "    element_counter_dict = {}\n",
    "    for off_atom, rdkit_atom in zip(off_mol.atoms, rdkit_mol.GetAtoms()):\n",
    "        element = rdkit_atom.GetSymbol()\n",
    "        if element in element_counter_dict.keys():\n",
    "            element_counter_dict[element] += 1\n",
    "        else:\n",
    "            element_counter_dict[element] = 1\n",
    "        off_atom.name = element + str(element_counter_dict[element])\n",
    "    #print(element_counter_dict)\n",
    "\n",
    "    # convert from OpenFF to OpenMM\n",
    "    off_mol_topology = off_mol.to_topology()\n",
    "    mol_topology = off_mol_topology.to_openmm()\n",
    "    #print(mol_topology)\n",
    "    mol_positions = off_mol.conformers[0]\n",
    "    #print(mol_positions)\n",
    "\n",
    "    # convert units from Ångström to nanometers\n",
    "    # since OpenMM works in nm\n",
    "    mol_positions = mol_positions.to(\"nanometers\")\n",
    "    #print(mol_positions)\n",
    "\n",
    "    # combine topology and positions in modeller object\n",
    "    omm_mol = app.Modeller(mol_topology, mol_positions)\n",
    "\n",
    "    return omm_mol"
   ]
  },
  {
   "cell_type": "code",
   "execution_count": 9,
   "metadata": {},
   "outputs": [],
   "source": [
    "omm_ligand = rdkit_to_openmm(rdkit_ligand, ligand_name)"
   ]
  },
  {
   "cell_type": "code",
   "execution_count": 10,
   "metadata": {},
   "outputs": [],
   "source": [
    "def merge_protein_and_ligand(protein, ligand):\n",
    "    \"\"\"\n",
    "    Merge two OpenMM objects.\n",
    "\n",
    "    Parameters\n",
    "    ----------\n",
    "    protein: pdbfixer.pdbfixer.PDBFixer\n",
    "        Protein to merge.\n",
    "    ligand: openmm.app.Modeller\n",
    "        Ligand to merge.\n",
    "\n",
    "    Returns\n",
    "    -------\n",
    "    complex_topology: openmm.app.topology.Topology\n",
    "        The merged topology.\n",
    "    complex_positions: openmm.unit.quantity.Quantity\n",
    "        The merged positions.\n",
    "    \"\"\"\n",
    "    # combine topologies\n",
    "    md_protein_topology = md.Topology.from_openmm(protein.topology)  # using mdtraj for protein top\n",
    "    #print(md_protein_topology)\n",
    "    md_ligand_topology = md.Topology.from_openmm(ligand.topology)  # using mdtraj for ligand top\n",
    "    #print(md_ligand_topology)\n",
    "    md_complex_topology = md_protein_topology.join(md_ligand_topology)  # add them together\n",
    "    #print(md_complex_topology)\n",
    "    complex_topology = md_complex_topology.to_openmm()\n",
    "    #print(complex_topology)\n",
    "\n",
    "    # combine positions\n",
    "    total_atoms = len(protein.positions) + len(ligand.positions)\n",
    "\n",
    "    # create an array for storing all atom positions as tupels containing a value and a unit\n",
    "    # called OpenMM Quantities\n",
    "    complex_positions = unit.Quantity(np.zeros([total_atoms, 3]), unit=unit.nanometers)\n",
    "    complex_positions[: len(protein.positions)] = protein.positions  # add protein positions\n",
    "    complex_positions[len(protein.positions) :] = ligand.positions  # add ligand positions\n",
    "\n",
    "    return complex_topology, complex_positions"
   ]
  },
  {
   "cell_type": "code",
   "execution_count": 11,
   "metadata": {},
   "outputs": [],
   "source": [
    "complex_topology, complex_positions = merge_protein_and_ligand(prepare_protein, omm_ligand)"
   ]
  },
  {
   "cell_type": "code",
   "execution_count": 12,
   "metadata": {},
   "outputs": [
    {
     "name": "stdout",
     "output_type": "stream",
     "text": [
      "Complex topology has 4208 atoms.\n"
     ]
    }
   ],
   "source": [
    "print(\"Complex topology has\", complex_topology.getNumAtoms(), \"atoms.\")\n",
    "# NBVAL_CHECK_OUTPUT"
   ]
  },
  {
   "cell_type": "code",
   "execution_count": 13,
   "metadata": {},
   "outputs": [],
   "source": [
    "def generate_forcefield(\n",
    "    rdkit_mol=None, protein_ff=\"amber14-all.xml\", solvent_ff=\"amber14/tip3pfb.xml\"\n",
    "):\n",
    "    \"\"\"\n",
    "    Generate an OpenMM Forcefield object and register a small molecule.\n",
    "\n",
    "    Parameters\n",
    "    ----------\n",
    "    rdkit_mol: rdkit.Chem.rdchem.Mol\n",
    "        Small molecule to register in the force field.\n",
    "    protein_ff: string\n",
    "        Name of the force field.\n",
    "    solvent_ff: string\n",
    "        Name of the solvent force field.\n",
    "\n",
    "    Returns\n",
    "    -------\n",
    "    forcefield: openmm.app.Forcefield\n",
    "        Forcefield with registered small molecule.\n",
    "    \"\"\"\n",
    "    forcefield = app.ForceField(protein_ff, solvent_ff)\n",
    "\n",
    "    if rdkit_mol is not None:\n",
    "        gaff = GAFFTemplateGenerator(\n",
    "            molecules=Molecule.from_rdkit(rdkit_mol, allow_undefined_stereo=True)\n",
    "        )\n",
    "        forcefield.registerTemplateGenerator(gaff.generator)\n",
    "\n",
    "    return forcefield"
   ]
  },
  {
   "cell_type": "code",
   "execution_count": 14,
   "metadata": {},
   "outputs": [],
   "source": [
    "forcefield = generate_forcefield(rdkit_ligand)"
   ]
  },
  {
   "cell_type": "code",
   "execution_count": 15,
   "metadata": {},
   "outputs": [
    {
     "name": "stderr",
     "output_type": "stream",
     "text": [
      "/bin/bash: /home/media/data2/user_home/dbsejrgus226/miniconda3/envs/MD/lib/libtinfo.so.6: no version information available (required by /bin/bash)\n",
      "/bin/bash: /home/media/data2/user_home/dbsejrgus226/miniconda3/envs/MD/lib/libtinfo.so.6: no version information available (required by /bin/bash)\n",
      "/bin/bash: /home/media/data2/user_home/dbsejrgus226/miniconda3/envs/MD/lib/libtinfo.so.6: no version information available (required by /bin/bash)\n",
      "/bin/bash: /home/media/data2/user_home/dbsejrgus226/miniconda3/envs/MD/lib/libtinfo.so.6: no version information available (required by /bin/bash)\n",
      "/bin/bash: /home/media/data2/user_home/dbsejrgus226/miniconda3/envs/MD/lib/libtinfo.so.6: no version information available (required by /bin/bash)\n",
      "/bin/bash: /home/media/data2/user_home/dbsejrgus226/miniconda3/envs/MD/lib/libtinfo.so.6: no version information available (required by /bin/bash)\n",
      "Warning: importing 'simtk.openmm' is deprecated.  Import 'openmm' instead.\n"
     ]
    }
   ],
   "source": [
    "modeller = app.Modeller(complex_topology, complex_positions)\n",
    "modeller.addSolvent(forcefield, padding=1.5 * unit.nanometers, ionicStrength=0.15 * unit.molar)"
   ]
  },
  {
   "cell_type": "code",
   "execution_count": 16,
   "metadata": {},
   "outputs": [],
   "source": [
    "system = forcefield.createSystem(modeller.topology, nonbondedMethod=app.NoCutoff)\n",
    "integrator = mm.LangevinIntegrator(\n",
    "    309.65 * unit.kelvin, 1.0 / unit.picoseconds, 2.0 * unit.femtoseconds\n",
    ")\n",
    "simulation = app.Simulation(modeller.topology, system, integrator)\n",
    "simulation.context.setPositions(modeller.positions)"
   ]
  },
  {
   "cell_type": "code",
   "execution_count": 17,
   "metadata": {},
   "outputs": [],
   "source": [
    "simulation.minimizeEnergy()\n",
    "with open(\"topology_1.pdb\", \"w\") as pdb_file:\n",
    "    app.PDBFile.writeFile(\n",
    "        simulation.topology,\n",
    "        simulation.context.getState(getPositions=True, enforcePeriodicBox=True).getPositions(),\n",
    "        file=pdb_file,\n",
    "        keepIds=True,\n",
    "    )"
   ]
  },
  {
   "cell_type": "code",
   "execution_count": 18,
   "metadata": {},
   "outputs": [],
   "source": [
    "# output settings\n",
    "\n",
    "steps = 50000  # corresponds to 100 fs\n",
    "write_interval = 500  # write every 10 fs\n",
    "log_interval = 250  # log progress to stdout every 5 fs\n",
    "simulation.reporters.append(\n",
    "    md.reporters.XTCReporter(file=str(\"trajectory_1.xtc\"), reportInterval=write_interval)\n",
    ")\n",
    "simulation.reporters.append(\n",
    "    app.StateDataReporter(\n",
    "        sys.stdout,\n",
    "        log_interval,\n",
    "        step=True,\n",
    "        potentialEnergy=True,\n",
    "        temperature=True,\n",
    "        progress=True,\n",
    "        remainingTime=True,\n",
    "        speed=True,\n",
    "        totalSteps=steps,\n",
    "        separator=\"\\t\",\n",
    "    )\n",
    ")"
   ]
  },
  {
   "cell_type": "code",
   "execution_count": 19,
   "metadata": {},
   "outputs": [
    {
     "name": "stdout",
     "output_type": "stream",
     "text": [
      "#\"Progress (%)\"\t\"Step\"\t\"Potential Energy (kJ/mole)\"\t\"Temperature (K)\"\t\"Speed (ns/day)\"\t\"Time Remaining\"\n",
      "0.5%\t250\t-1028846.8125\t210.4787954720059\t0\t--\n",
      "1.0%\t500\t-1007025.875\t248.48989988432635\t1.01\t2:21:50\n",
      "1.5%\t750\t-992938.875\t268.6218700922774\t1\t2:21:09\n",
      "2.0%\t1000\t-984756.875\t283.69254184703607\t1\t2:20:27\n",
      "2.5%\t1250\t-976976.75\t290.8507403610424\t1\t2:19:44\n",
      "3.0%\t1500\t-972493.25\t295.22379728671785\t1\t2:19:02\n",
      "3.5%\t1750\t-968625.5\t298.92475046395316\t1\t2:18:19\n",
      "4.0%\t2000\t-965469.125\t303.5734776042953\t1\t2:17:37\n",
      "4.5%\t2250\t-963665.75\t305.78248478214493\t1\t2:17:01\n",
      "5.0%\t2500\t-959490.0\t308.30598460622605\t1\t2:16:37\n",
      "5.5%\t2750\t-959185.75\t309.06280356744287\t0.999\t2:16:11\n",
      "6.0%\t3000\t-958628.0\t306.18924909419883\t0.997\t2:15:43\n",
      "6.5%\t3250\t-958968.4375\t306.8540019782746\t0.996\t2:15:12\n",
      "7.0%\t3500\t-958600.625\t306.52331070715815\t0.995\t2:14:39\n",
      "7.5%\t3750\t-959072.9375\t308.7215461555991\t0.994\t2:14:04\n",
      "8.0%\t4000\t-958188.9375\t308.8120026482133\t0.993\t2:13:28\n",
      "8.5%\t4250\t-958354.375\t309.15317556843553\t0.992\t2:12:51\n",
      "9.0%\t4500\t-957372.6875\t309.5164015707767\t0.991\t2:12:13\n",
      "9.5%\t4750\t-956466.25\t309.71666236803947\t0.99\t2:11:34\n",
      "10.0%\t5000\t-956787.5625\t309.41810923349027\t0.99\t2:10:55\n",
      "10.5%\t5250\t-957572.6875\t311.4634680961698\t0.989\t2:10:16\n",
      "11.0%\t5500\t-955943.0625\t309.80123303819397\t0.989\t2:09:36\n",
      "11.5%\t5750\t-955078.75\t309.4150758562604\t0.988\t2:08:56\n",
      "12.0%\t6000\t-956610.875\t312.8410130233459\t0.988\t2:08:15\n",
      "12.5%\t6250\t-956393.0\t309.57802880428056\t0.988\t2:07:34\n",
      "13.0%\t6500\t-956638.0\t310.6591734465569\t0.987\t2:06:53\n",
      "13.5%\t6750\t-955983.5625\t308.1845887143351\t0.987\t2:06:12\n",
      "14.0%\t7000\t-957049.4375\t308.9565021835405\t0.987\t2:05:30\n",
      "14.5%\t7250\t-958106.375\t309.80373979826794\t0.986\t2:04:48\n",
      "15.0%\t7500\t-958367.9375\t310.6943227340239\t0.986\t2:04:06\n",
      "15.5%\t7750\t-958536.5\t311.47861253332013\t0.986\t2:03:24\n",
      "16.0%\t8000\t-957370.0\t309.5814391564837\t0.986\t2:02:42\n",
      "16.5%\t8250\t-958054.25\t310.89900768622493\t0.986\t2:02:00\n",
      "17.0%\t8500\t-957335.9375\t310.0163228655562\t0.985\t2:01:18\n",
      "17.5%\t8750\t-957412.625\t309.28738455096027\t0.985\t2:00:35\n",
      "18.0%\t9000\t-958887.5\t310.1645137787439\t0.985\t1:59:52\n",
      "18.5%\t9250\t-958262.0\t308.2879130410039\t0.985\t1:59:10\n",
      "19.0%\t9500\t-958533.1875\t307.8319310299446\t0.985\t1:58:27\n",
      "19.5%\t9750\t-959628.625\t309.8805221297602\t0.984\t1:57:44\n",
      "20.0%\t10000\t-958827.1875\t308.5711019774535\t0.984\t1:57:01\n",
      "20.5%\t10250\t-959783.125\t308.4013783831523\t0.984\t1:56:18\n",
      "21.0%\t10500\t-960259.625\t309.73562129774416\t0.984\t1:55:35\n",
      "21.5%\t10750\t-959659.125\t309.4453764229961\t0.984\t1:54:52\n",
      "22.0%\t11000\t-960182.5\t308.75218873830704\t0.984\t1:54:09\n",
      "22.5%\t11250\t-959864.4375\t310.6116943614878\t0.984\t1:53:25\n",
      "23.0%\t11500\t-959298.75\t309.3058474414251\t0.984\t1:52:42\n",
      "23.5%\t11750\t-959726.125\t309.6102202871752\t0.984\t1:51:59\n",
      "24.0%\t12000\t-960155.625\t308.41601043749523\t0.984\t1:51:16\n",
      "24.5%\t12250\t-959683.125\t308.235469412852\t0.984\t1:50:32\n",
      "25.0%\t12500\t-960905.3125\t310.1942468319114\t0.983\t1:49:49\n",
      "25.5%\t12750\t-959017.5\t308.7013131392468\t0.983\t1:49:05\n",
      "26.0%\t13000\t-959624.25\t309.91550692089993\t0.983\t1:48:22\n",
      "26.5%\t13250\t-959196.875\t310.67989904047045\t0.983\t1:47:39\n",
      "27.0%\t13500\t-957973.625\t309.0394647650052\t0.983\t1:46:53\n",
      "27.5%\t13750\t-959020.0625\t313.1958676921541\t0.987\t1:45:43\n",
      "28.0%\t14000\t-959384.0625\t310.7469751638479\t0.991\t1:44:35\n",
      "28.5%\t14250\t-958502.5\t309.99303327510586\t0.995\t1:43:27\n",
      "29.0%\t14500\t-961005.1875\t313.1547536577345\t0.999\t1:42:21\n",
      "29.5%\t14750\t-960480.375\t311.2533048295692\t1\t1:41:16\n",
      "30.0%\t15000\t-959967.25\t308.6448545376472\t1.01\t1:40:12\n",
      "30.5%\t15250\t-960014.75\t309.98654631694967\t1.01\t1:39:09\n",
      "31.0%\t15500\t-960710.875\t311.3541925091966\t1.01\t1:38:07\n",
      "31.5%\t15750\t-959355.6875\t309.56120214584087\t1.02\t1:37:06\n",
      "32.0%\t16000\t-960432.4375\t311.75839466991476\t1.02\t1:36:06\n",
      "32.5%\t16250\t-959579.4375\t308.8547123423965\t1.02\t1:35:06\n",
      "33.0%\t16500\t-960349.875\t307.9818223971962\t1.02\t1:34:08\n",
      "33.5%\t16750\t-960253.6875\t308.9728074065767\t1.03\t1:33:10\n",
      "34.0%\t17000\t-959842.9375\t310.8233403960786\t1.03\t1:32:12\n",
      "34.5%\t17250\t-959066.875\t310.8093668889496\t1.03\t1:31:16\n",
      "35.0%\t17500\t-958532.125\t310.142533681906\t1.04\t1:30:20\n",
      "35.5%\t17750\t-959429.375\t309.65376613168786\t1.04\t1:29:24\n",
      "36.0%\t18000\t-958092.3125\t309.32043738610207\t1.04\t1:28:30\n",
      "36.5%\t18250\t-958254.375\t311.12695722466765\t1.04\t1:27:36\n",
      "37.0%\t18500\t-958896.8125\t310.0620675533311\t1.05\t1:26:42\n",
      "37.5%\t18750\t-958492.3125\t309.83505853455995\t1.05\t1:25:49\n",
      "38.0%\t19000\t-960049.625\t311.31821793337997\t1.05\t1:24:56\n",
      "38.5%\t19250\t-959306.125\t308.8435661494413\t1.05\t1:24:04\n",
      "39.0%\t19500\t-959221.375\t308.24936077832336\t1.06\t1:23:12\n",
      "39.5%\t19750\t-958840.4375\t308.7345121159405\t1.06\t1:22:21\n",
      "40.0%\t20000\t-959996.0625\t311.3224279292948\t1.06\t1:21:30\n",
      "40.5%\t20250\t-959750.625\t310.3616529169042\t1.06\t1:20:40\n",
      "41.0%\t20500\t-959450.1875\t309.76646243058156\t1.06\t1:19:50\n",
      "41.5%\t20750\t-959899.875\t309.2037569875418\t1.07\t1:19:01\n",
      "42.0%\t21000\t-958914.875\t309.55259886837905\t1.07\t1:18:11\n",
      "42.5%\t21250\t-959125.5\t309.5856019365673\t1.07\t1:17:22\n",
      "43.0%\t21500\t-959950.5625\t308.3200596668716\t1.07\t1:16:34\n",
      "43.5%\t21750\t-960756.0\t308.3049402730689\t1.07\t1:15:46\n",
      "44.0%\t22000\t-962767.875\t310.69585363387876\t1.08\t1:14:58\n",
      "44.5%\t22250\t-960895.625\t308.4879925555016\t1.08\t1:14:10\n",
      "45.0%\t22500\t-960622.9375\t306.51516755206137\t1.08\t1:13:23\n",
      "45.5%\t22750\t-959157.5\t307.49659569818687\t1.08\t1:12:36\n",
      "46.0%\t23000\t-960698.625\t310.68321658787386\t1.08\t1:11:49\n",
      "46.5%\t23250\t-959933.875\t311.1886627591799\t1.08\t1:11:03\n",
      "47.0%\t23500\t-959082.25\t310.75023710435147\t1.09\t1:10:17\n",
      "47.5%\t23750\t-960726.9375\t312.1788087312622\t1.09\t1:09:31\n",
      "48.0%\t24000\t-959727.125\t312.772221837743\t1.09\t1:08:45\n",
      "48.5%\t24250\t-960974.625\t309.8787861445092\t1.09\t1:08:00\n",
      "49.0%\t24500\t-960285.75\t308.39996728117916\t1.09\t1:07:14\n",
      "49.5%\t24750\t-960110.25\t308.4468011556095\t1.09\t1:06:29\n",
      "50.0%\t25000\t-962845.125\t309.4168259718168\t1.1\t1:05:45\n",
      "50.5%\t25250\t-960563.0\t308.8455832275217\t1.1\t1:05:00\n",
      "51.0%\t25500\t-959779.1875\t310.608086070453\t1.1\t1:04:16\n",
      "51.5%\t25750\t-959762.625\t312.4032369723573\t1.1\t1:03:32\n",
      "52.0%\t26000\t-959193.75\t310.0429123951712\t1.1\t1:02:48\n",
      "52.5%\t26250\t-958891.375\t309.7215849985511\t1.1\t1:02:04\n",
      "53.0%\t26500\t-959272.375\t309.9495771821049\t1.1\t1:01:20\n",
      "53.5%\t26750\t-960050.25\t310.5654134545135\t1.1\t1:00:37\n",
      "54.0%\t27000\t-959094.875\t310.1377386102149\t1.11\t59:53\n",
      "54.5%\t27250\t-958863.5\t311.148696180567\t1.11\t59:10\n",
      "55.0%\t27500\t-959347.0\t309.6759866071403\t1.11\t58:27\n",
      "55.5%\t27750\t-959867.125\t309.60776243808766\t1.11\t57:45\n",
      "56.0%\t28000\t-960697.5\t310.21763544101844\t1.11\t57:02\n",
      "56.5%\t28250\t-960444.375\t309.25509688657417\t1.11\t56:20\n",
      "57.0%\t28500\t-961123.1875\t309.48728714250876\t1.11\t55:37\n",
      "57.5%\t28750\t-959987.75\t308.35813780294933\t1.11\t54:55\n",
      "58.0%\t29000\t-960936.25\t311.64697630453617\t1.12\t54:13\n",
      "58.5%\t29250\t-959617.25\t309.6514789367227\t1.12\t53:31\n",
      "59.0%\t29500\t-961079.0\t309.3424362349133\t1.12\t52:49\n",
      "59.5%\t29750\t-961532.4375\t310.85626585136816\t1.12\t52:08\n",
      "60.0%\t30000\t-959585.875\t309.86427813363173\t1.12\t51:26\n",
      "60.5%\t30250\t-961004.25\t310.76916392709984\t1.12\t50:45\n",
      "61.0%\t30500\t-961091.1875\t309.8219764024083\t1.12\t50:03\n",
      "61.5%\t30750\t-961168.5\t308.7371381253982\t1.12\t49:22\n",
      "62.0%\t31000\t-960727.9375\t306.4992884449732\t1.12\t48:41\n",
      "62.5%\t31250\t-962124.0\t309.2677940304028\t1.12\t48:00\n",
      "63.0%\t31500\t-961990.375\t309.7435848467448\t1.13\t47:19\n",
      "63.5%\t31750\t-962066.5625\t308.7662966947104\t1.13\t46:38\n",
      "64.0%\t32000\t-962425.125\t308.9107366070682\t1.13\t45:58\n",
      "64.5%\t32250\t-963998.8125\t309.2554808282125\t1.13\t45:17\n",
      "65.0%\t32500\t-962071.5\t307.38127354642216\t1.13\t44:37\n",
      "65.5%\t32750\t-960594.375\t307.6803742052178\t1.13\t43:56\n",
      "66.0%\t33000\t-962283.25\t310.96163330266086\t1.13\t43:16\n",
      "66.5%\t33250\t-962073.875\t308.69417468593423\t1.13\t42:36\n",
      "67.0%\t33500\t-962855.625\t308.1425134406095\t1.13\t41:56\n",
      "67.5%\t33750\t-961732.625\t307.2747864821602\t1.13\t41:16\n",
      "68.0%\t34000\t-962713.5\t310.15608876742914\t1.13\t40:36\n",
      "68.5%\t34250\t-961752.4375\t309.05659771824355\t1.14\t39:56\n",
      "69.0%\t34500\t-961154.5\t308.97213142864723\t1.14\t39:17\n",
      "69.5%\t34750\t-961681.9375\t307.9663744836146\t1.14\t38:37\n",
      "70.0%\t35000\t-961660.1875\t309.71727153750174\t1.14\t37:57\n",
      "70.5%\t35250\t-961003.75\t309.7301335232414\t1.14\t37:18\n",
      "71.0%\t35500\t-960928.875\t308.63028989613383\t1.14\t36:38\n",
      "71.5%\t35750\t-960679.375\t307.5389345278321\t1.14\t35:59\n",
      "72.0%\t36000\t-962336.75\t310.8194508617696\t1.14\t35:20\n",
      "72.5%\t36250\t-961175.5625\t309.9828386020484\t1.14\t34:40\n",
      "73.0%\t36500\t-961518.125\t308.5054681431553\t1.14\t34:01\n",
      "73.5%\t36750\t-961353.25\t308.60851964848456\t1.14\t33:22\n",
      "74.0%\t37000\t-962347.25\t311.06535069752374\t1.14\t32:43\n",
      "74.5%\t37250\t-960359.625\t308.0634174715529\t1.14\t32:04\n",
      "75.0%\t37500\t-961213.0\t310.7749135369974\t1.15\t31:25\n",
      "75.5%\t37750\t-960124.0\t310.3441253486699\t1.15\t30:46\n",
      "76.0%\t38000\t-960723.8125\t309.81489399497525\t1.15\t30:08\n",
      "76.5%\t38250\t-960654.8125\t311.1935886313662\t1.15\t29:29\n",
      "77.0%\t38500\t-960935.5\t309.786849588253\t1.15\t28:50\n",
      "77.5%\t38750\t-961546.4375\t310.3900809431273\t1.15\t28:12\n",
      "78.0%\t39000\t-961109.875\t309.7229903758609\t1.15\t27:33\n",
      "78.5%\t39250\t-960814.75\t312.63820942413463\t1.15\t26:55\n",
      "79.0%\t39500\t-959053.4375\t310.964742735388\t1.15\t26:16\n",
      "79.5%\t39750\t-961258.0\t311.374302075113\t1.15\t25:38\n",
      "80.0%\t40000\t-959311.625\t309.71141952868896\t1.15\t25:00\n",
      "80.5%\t40250\t-959502.625\t310.99225932526815\t1.15\t24:21\n",
      "81.0%\t40500\t-958479.0\t309.3584475037938\t1.15\t23:43\n",
      "81.5%\t40750\t-959464.4375\t312.3631755613242\t1.15\t23:05\n",
      "82.0%\t41000\t-959271.25\t310.5841662491057\t1.15\t22:27\n",
      "82.5%\t41250\t-959851.75\t310.71778944161235\t1.15\t21:49\n",
      "83.0%\t41500\t-959999.0\t310.6423790322656\t1.16\t21:11\n",
      "83.5%\t41750\t-961369.6875\t312.7933990248223\t1.16\t20:33\n",
      "84.0%\t42000\t-959519.5\t308.3261721163187\t1.16\t19:55\n",
      "84.5%\t42250\t-961936.375\t311.06050171038294\t1.16\t19:17\n",
      "85.0%\t42500\t-962132.875\t309.2227552087445\t1.16\t18:39\n",
      "85.5%\t42750\t-961834.375\t309.2108995876822\t1.16\t18:01\n",
      "86.0%\t43000\t-962336.6875\t309.58816984469405\t1.16\t17:23\n",
      "86.5%\t43250\t-961077.625\t308.1093465870583\t1.16\t16:45\n",
      "87.0%\t43500\t-961358.75\t308.93568324251544\t1.16\t16:08\n",
      "87.5%\t43750\t-961381.5\t308.6980275789311\t1.16\t15:30\n",
      "88.0%\t44000\t-960836.875\t309.72914805137947\t1.16\t14:52\n",
      "88.5%\t44250\t-960782.375\t311.05512837441984\t1.16\t14:15\n",
      "89.0%\t44500\t-960433.9375\t310.4920103313594\t1.16\t13:37\n",
      "89.5%\t44750\t-959853.6875\t310.74915117578576\t1.16\t13:00\n",
      "90.0%\t45000\t-960986.125\t311.86255884308883\t1.16\t12:22\n",
      "90.5%\t45250\t-960300.625\t310.75244636012235\t1.16\t11:45\n",
      "91.0%\t45500\t-960944.625\t312.02365913856556\t1.16\t11:07\n",
      "91.5%\t45750\t-959620.875\t309.25708562475074\t1.16\t10:30\n",
      "92.0%\t46000\t-961101.125\t310.78789818767495\t1.16\t9:53\n",
      "92.5%\t46250\t-960426.625\t310.1827011243164\t1.16\t9:16\n",
      "93.0%\t46500\t-960576.9375\t309.37649602619575\t1.16\t8:39\n",
      "93.5%\t46750\t-961763.875\t310.3016673231086\t1.16\t8:02\n",
      "94.0%\t47000\t-962462.5\t311.2501223201391\t1.16\t7:25\n",
      "94.5%\t47250\t-962728.5\t310.1427217644831\t1.16\t6:48\n",
      "95.0%\t47500\t-960513.375\t307.69176191800415\t1.16\t6:11\n",
      "95.5%\t47750\t-962102.375\t310.80139910465226\t1.16\t5:33\n",
      "96.0%\t48000\t-962454.375\t309.6393626182052\t1.16\t4:56\n",
      "96.5%\t48250\t-961847.0625\t308.7680814039352\t1.17\t4:19\n",
      "97.0%\t48500\t-961818.375\t311.7622672277253\t1.17\t3:42\n",
      "97.5%\t48750\t-961842.875\t309.86398978775975\t1.17\t3:04\n",
      "98.0%\t49000\t-960520.375\t309.73131705182175\t1.17\t2:27\n",
      "98.5%\t49250\t-961469.75\t309.7834807484851\t1.17\t1:50\n",
      "99.0%\t49500\t-961854.1875\t310.980139857266\t1.17\t1:13\n",
      "99.5%\t49750\t-960776.0\t309.520909400418\t1.18\t0:36\n",
      "100.0%\t50000\t-961889.25\t310.30652628860406\t1.18\t0:00\n"
     ]
    }
   ],
   "source": [
    "simulation.context.setVelocitiesToTemperature(309.65 * unit.kelvin)\n",
    "simulation.step(steps)  # perform the simulation"
   ]
  },
  {
   "cell_type": "code",
   "execution_count": 20,
   "metadata": {},
   "outputs": [
    {
     "name": "stdout",
     "output_type": "stream",
     "text": [
      "os.stat_result(st_mode=33204, st_ino=235276793, st_dev=2080, st_nlink=1, st_uid=1002, st_gid=1002, st_size=22878668, st_atime=1717124168, st_mtime=1717131498, st_ctime=1717131498)\n"
     ]
    }
   ],
   "source": [
    "# Check the trajectory exists and is not empty\n",
    "import os \n",
    "result = \"./trajectory_1.xtc\"\n",
    "file_info = os.stat(result)\n",
    "print(file_info)\n",
    "#result.stat().st_size > 0\n",
    "# NBVAL_CHECK_OUTPUT"
   ]
  },
  {
   "cell_type": "markdown",
   "metadata": {},
   "source": [
    "# Analysis MD Simulation results"
   ]
  },
  {
   "cell_type": "markdown",
   "metadata": {},
   "source": [
    "## RMSD Analysis"
   ]
  },
  {
   "cell_type": "code",
   "execution_count": 21,
   "metadata": {},
   "outputs": [
    {
     "data": {
      "application/vnd.jupyter.widget-view+json": {
       "model_id": "034b5b688f3b4e0f9c9f59d5ee09d5f1",
       "version_major": 2,
       "version_minor": 0
      },
      "text/plain": []
     },
     "metadata": {},
     "output_type": "display_data"
    }
   ],
   "source": [
    "from pathlib import Path\n",
    "\n",
    "import pandas as pd\n",
    "import numpy as np\n",
    "import matplotlib.pyplot as plt\n",
    "import nglview as nv\n",
    "import MDAnalysis as mda\n",
    "from MDAnalysis.analysis import rms, diffusionmap, align\n",
    "from MDAnalysis.analysis.distances import dist\n",
    "from MDAnalysis.analysis.hydrogenbonds.hbond_analysis import HydrogenBondAnalysis as HBA\n"
   ]
  },
  {
   "cell_type": "code",
   "execution_count": 22,
   "metadata": {},
   "outputs": [],
   "source": [
    "md_universe = mda.Universe(str(\"./topology_1.pdb\"), str(\"./trajectory_1.xtc\"))"
   ]
  },
  {
   "cell_type": "code",
   "execution_count": 23,
   "metadata": {},
   "outputs": [
    {
     "data": {
      "text/plain": [
       "<MDAnalysis.analysis.align.AlignTraj at 0x7f5a1143db20>"
      ]
     },
     "execution_count": 23,
     "metadata": {},
     "output_type": "execute_result"
    }
   ],
   "source": [
    "# Set trajectory pointer to first frame as reference\n",
    "md_universe.trajectory[0]\n",
    "\n",
    "# in_memory=True is needed to actually modify the loaded trajectory\n",
    "# if the trajectory is too big for memory, one can write out the aligned trajectory and reload it into a new universe\n",
    "alignment = align.AlignTraj(\n",
    "    mobile=md_universe, reference=md_universe, select=\"protein\", in_memory=True\n",
    ")\n",
    "alignment.run()"
   ]
  },
  {
   "cell_type": "code",
   "execution_count": 24,
   "metadata": {},
   "outputs": [],
   "source": [
    "def rmsd_for_atomgroups(universe, selection1, selection2=None):\n",
    "    \"\"\"Calulate the RMSD for selected atom groups.\n",
    "\n",
    "    Parameters\n",
    "    ----------\n",
    "    universe: MDAnalysis.core.universe.Universe\n",
    "        MDAnalysis universe.\n",
    "    selection1: str\n",
    "        Selection string for main atom group, also used during alignment.\n",
    "    selection2: list of str, optional\n",
    "        Selection strings for additional atom groups.\n",
    "\n",
    "    Returns\n",
    "    -------\n",
    "    rmsd_df: pandas.core.frame.DataFrame\n",
    "        DataFrame containing RMSD of the selected atom groups over time.\n",
    "    \"\"\"\n",
    "\n",
    "    universe.trajectory\n",
    "    ref = universe\n",
    "    rmsd_analysis = rms.RMSD(universe, ref, select=selection1, groupselections=selection2)\n",
    "    rmsd_analysis.run()\n",
    "\n",
    "    columns = [selection1, *selection2] if selection2 else [selection1]\n",
    "    #print(rmsd_analysis.results)\n",
    "    #print(rmsd_analysis)\n",
    "    rmsd_df = pd.DataFrame(np.round(rmsd_analysis.results.rmsd[:, 2:], 2), columns=columns)\n",
    "    rmsd_df.index.name = \"time\"\n",
    "    return rmsd_df"
   ]
  },
  {
   "cell_type": "code",
   "execution_count": 25,
   "metadata": {},
   "outputs": [],
   "source": [
    "rmsd = rmsd_for_atomgroups(md_universe, \"backbone\", [\"protein\", \"resname UNK\"])\n",
    "#rmsd[:20]"
   ]
  },
  {
   "cell_type": "code",
   "execution_count": 26,
   "metadata": {},
   "outputs": [
    {
     "data": {
      "text/html": [
       "<div>\n",
       "<style scoped>\n",
       "    .dataframe tbody tr th:only-of-type {\n",
       "        vertical-align: middle;\n",
       "    }\n",
       "\n",
       "    .dataframe tbody tr th {\n",
       "        vertical-align: top;\n",
       "    }\n",
       "\n",
       "    .dataframe thead th {\n",
       "        text-align: right;\n",
       "    }\n",
       "</style>\n",
       "<table border=\"1\" class=\"dataframe\">\n",
       "  <thead>\n",
       "    <tr style=\"text-align: right;\">\n",
       "      <th></th>\n",
       "      <th>backbone</th>\n",
       "      <th>protein</th>\n",
       "      <th>rank_1_ligand</th>\n",
       "    </tr>\n",
       "    <tr>\n",
       "      <th>time</th>\n",
       "      <th></th>\n",
       "      <th></th>\n",
       "      <th></th>\n",
       "    </tr>\n",
       "  </thead>\n",
       "  <tbody>\n",
       "    <tr>\n",
       "      <th>0</th>\n",
       "      <td>0.00</td>\n",
       "      <td>0.00</td>\n",
       "      <td>0.00</td>\n",
       "    </tr>\n",
       "    <tr>\n",
       "      <th>1</th>\n",
       "      <td>0.64</td>\n",
       "      <td>0.84</td>\n",
       "      <td>1.33</td>\n",
       "    </tr>\n",
       "    <tr>\n",
       "      <th>2</th>\n",
       "      <td>0.77</td>\n",
       "      <td>0.98</td>\n",
       "      <td>1.44</td>\n",
       "    </tr>\n",
       "    <tr>\n",
       "      <th>3</th>\n",
       "      <td>0.77</td>\n",
       "      <td>1.04</td>\n",
       "      <td>2.42</td>\n",
       "    </tr>\n",
       "    <tr>\n",
       "      <th>4</th>\n",
       "      <td>0.81</td>\n",
       "      <td>1.09</td>\n",
       "      <td>2.34</td>\n",
       "    </tr>\n",
       "  </tbody>\n",
       "</table>\n",
       "</div>"
      ],
      "text/plain": [
       "      backbone  protein  rank_1_ligand\n",
       "time                                  \n",
       "0         0.00     0.00           0.00\n",
       "1         0.64     0.84           1.33\n",
       "2         0.77     0.98           1.44\n",
       "3         0.77     1.04           2.42\n",
       "4         0.81     1.09           2.34"
      ]
     },
     "execution_count": 26,
     "metadata": {},
     "output_type": "execute_result"
    }
   ],
   "source": [
    "rmsd.rename(columns={\"resname UNK\": \"rank_1_ligand\"}, inplace=True)\n",
    "rmsd.head()"
   ]
  },
  {
   "cell_type": "code",
   "execution_count": 27,
   "metadata": {},
   "outputs": [
    {
     "data": {
      "image/png": "[encoded data removed]",
      "text/plain": [
       "<Figure size 640x480 with 1 Axes>"
      ]
     },
     "metadata": {},
     "output_type": "display_data"
    }
   ],
   "source": [
    "rmsd.plot(title=\"RMSD of protein and ligand\")\n",
    "plt.ylabel(\"RMSD (Å)\");"
   ]
  },
  {
   "cell_type": "code",
   "execution_count": 28,
   "metadata": {},
   "outputs": [],
   "source": [
    "rmsd.to_csv(\"rank_1_rmsd_results.csv\")"
   ]
  },
  {
   "cell_type": "markdown",
   "metadata": {},
   "source": [
    "## RMSF Analysis"
   ]
  },
  {
   "cell_type": "code",
   "execution_count": 1,
   "metadata": {},
   "outputs": [],
   "source": [
    "import MDAnalysis as mda\n",
    "from MDAnalysis.analysis import align\n",
    "import MDAnalysis.transformations as trans\n",
    "from MDAnalysis.analysis.rms import RMSF\n",
    "\n",
    "import matplotlib.pyplot as plt\n",
    "\n",
    "import pandas as pd"
   ]
  },
  {
   "cell_type": "code",
   "execution_count": 2,
   "metadata": {},
   "outputs": [
    {
     "name": "stderr",
     "output_type": "stream",
     "text": [
      "Warning: importing 'simtk.openmm' is deprecated.  Import 'openmm' instead.\n",
      "/home/media/data2/user_home/dbsejrgus226/miniconda3/envs/MD/lib/python3.8/site-packages/MDAnalysis/topology/PDBParser.py:276: UserWarning: PDB file is missing resid information.  Defaulted to '1'\n",
      "  warnings.warn(\"PDB file is missing resid information.  \"\n"
     ]
    }
   ],
   "source": [
    "md_universe = mda.Universe(str(\"./topology_1.pdb\"), str(\"./trajectory_1.xtc\"))"
   ]
  },
  {
   "cell_type": "code",
   "execution_count": 3,
   "metadata": {},
   "outputs": [],
   "source": [
    "protein = md_universe.select_atoms(\"protein\")"
   ]
  },
  {
   "cell_type": "code",
   "execution_count": 4,
   "metadata": {},
   "outputs": [],
   "source": [
    "# 1) need a step to center and make whole: this trajectory\n",
    "#    contains the protein being split across periodic boundaries\n",
    "#\n",
    "# TODO"
   ]
  },
  {
   "cell_type": "code",
   "execution_count": 5,
   "metadata": {},
   "outputs": [],
   "source": [
    "#not_protein = md_universe.select_atoms(\"not protein\")"
   ]
  },
  {
   "cell_type": "code",
   "execution_count": 6,
   "metadata": {},
   "outputs": [],
   "source": [
    "#transforms = [trans.unwrap(protein),\n",
    "#              trans.center_in_box(protein, wrap=True),\n",
    "#              trans.wrap(not_protein)]\n",
    "#md_universe.trajectory.add_transformations(*transforms)"
   ]
  },
  {
   "cell_type": "code",
   "execution_count": 7,
   "metadata": {},
   "outputs": [],
   "source": [
    "# 2) fit to the initial frame to get a better average structure\n",
    "#    (the trajectory is changed in memory)"
   ]
  },
  {
   "cell_type": "code",
   "execution_count": 8,
   "metadata": {},
   "outputs": [],
   "source": [
    "prealigner = align.AlignTraj(md_universe, md_universe, select=\"protein and name CA\",\n",
    "                             in_memory=True).run()"
   ]
  },
  {
   "cell_type": "code",
   "execution_count": 9,
   "metadata": {},
   "outputs": [],
   "source": [
    "# 3) reference = average structure\n",
    "reference_coordinates = md_universe.trajectory.timeseries(asel=protein).mean(axis=1)\n",
    "# make a reference structure (need to reshape into a 1-frame \"trajectory\")\n",
    "reference = mda.Merge(protein).load_new(\n",
    "    reference_coordinates[:, None, :], order=\"afc\")"
   ]
  },
  {
   "cell_type": "markdown",
   "metadata": {},
   "source": [
    "- We created a new universe reference that contains a single frame with the averaged coordinates of the protein.\n",
    "- Now we need to fit the whole trajectory to the reference by minimizing the RMSD. \n",
    "- We use MDAnalysis.analysis.align.AlignTraj:"
   ]
  },
  {
   "cell_type": "code",
   "execution_count": 10,
   "metadata": {},
   "outputs": [],
   "source": [
    "aligner = align.AlignTraj(md_universe, reference, select=\"protein and name CA\", in_memory=True).run()"
   ]
  },
  {
   "cell_type": "markdown",
   "metadata": {},
   "source": [
    "- The trajectory is now fitted to the reference (the RMSD is stored as aligner.rmsd for further inspection). \n",
    "- Now we can calculate the RMSF:"
   ]
  },
  {
   "cell_type": "code",
   "execution_count": 11,
   "metadata": {},
   "outputs": [
    {
     "data": {
      "application/vnd.jupyter.widget-view+json": {
       "model_id": "2589cd4cdd1743acb0f8621760f501dd",
       "version_major": 2,
       "version_minor": 0
      },
      "text/plain": [
       "  0%|          | 0/100 [00:00<?, ?it/s]"
      ]
     },
     "metadata": {},
     "output_type": "display_data"
    }
   ],
   "source": [
    "calphas = protein.select_atoms(\"name CA\")\n",
    "rmsfer = RMSF(calphas, verbose=True).run()"
   ]
  },
  {
   "cell_type": "code",
   "execution_count": 16,
   "metadata": {},
   "outputs": [
    {
     "data": {
      "image/png": "[encoded data removed]",
      "text/plain": [
       "<Figure size 640x480 with 1 Axes>"
      ]
     },
     "metadata": {},
     "output_type": "display_data"
    }
   ],
   "source": [
    "plt.plot(calphas.resnums, rmsfer.rmsf)\n",
    "plt.xlabel(\"Residue number\")\n",
    "plt.ylabel(\"RMSD (Å)\")\n",
    "plt.savefig(\"rank1_rmsf_results.png\")"
   ]
  },
  {
   "cell_type": "code",
   "execution_count": 18,
   "metadata": {},
   "outputs": [
    {
     "data": {
      "text/plain": [
       "array([414, 415, 416, 417, 418, 419, 420, 421, 422, 423, 424, 425, 426,\n",
       "       427, 428, 429, 430, 431, 432, 433, 434, 435, 436, 437, 438, 439,\n",
       "       440, 441, 442, 443, 444, 445, 446, 447, 448, 449, 450, 451, 452,\n",
       "       453, 454, 455, 456, 457, 458, 459, 460, 461, 462, 463, 464, 465,\n",
       "       466, 467, 468, 469, 470, 471, 472, 473, 474, 475, 476, 477, 478,\n",
       "       479, 480, 481, 482, 483, 484, 485, 486, 487, 488, 489, 490, 491,\n",
       "       492, 493, 494, 495, 496, 497, 498, 499, 500, 501, 502, 503, 504,\n",
       "       505, 506, 507, 508, 509, 510, 511, 512, 513, 514, 515, 516, 517,\n",
       "       518, 519, 520, 521, 522, 523, 524, 525, 526, 527, 528, 529, 530,\n",
       "       531, 532, 533, 534, 535, 536, 537, 538, 539, 540, 541, 542, 543,\n",
       "       544, 545, 546, 547, 548, 549, 550, 551, 552, 553, 554, 555, 556,\n",
       "       557, 558, 559, 560, 561, 562, 563, 564, 565, 566, 567, 568, 584,\n",
       "       585, 586, 587, 588, 589, 590, 591, 592, 593, 594, 595, 596, 597,\n",
       "       598, 599, 600, 601, 602, 603, 604, 605, 606, 607, 608, 609, 610,\n",
       "       611, 612, 613, 614, 615, 616, 617, 618, 619, 620, 621, 622, 623,\n",
       "       624, 625, 626, 627, 628, 629, 630, 631, 632, 633, 634, 635, 636,\n",
       "       637, 638, 639, 640, 641, 642, 643, 644, 645, 646, 647, 648, 649,\n",
       "       650, 651, 652, 653, 654, 655, 656, 657, 658, 659, 660, 661, 662,\n",
       "       663, 664, 665, 666, 667, 668, 669, 670, 671, 672, 673, 674, 675,\n",
       "       676, 677, 678, 679, 680, 681, 682, 683, 684, 685, 686])"
      ]
     },
     "execution_count": 18,
     "metadata": {},
     "output_type": "execute_result"
    }
   ],
   "source": [
    "calphas.resnums"
   ]
  },
  {
   "cell_type": "code",
   "execution_count": 20,
   "metadata": {},
   "outputs": [
    {
     "data": {
      "text/plain": [
       "258"
      ]
     },
     "execution_count": 20,
     "metadata": {},
     "output_type": "execute_result"
    }
   ],
   "source": [
    "len(calphas.resnums)"
   ]
  },
  {
   "cell_type": "code",
   "execution_count": 19,
   "metadata": {},
   "outputs": [
    {
     "name": "stderr",
     "output_type": "stream",
     "text": [
      "/home/media/data2/user_home/dbsejrgus226/miniconda3/envs/MD/lib/python3.8/site-packages/MDAnalysis/analysis/rms.py:877: DeprecationWarning: The `rmsf` attribute was deprecated in MDAnalysis 2.0.0 and will be removed in MDAnalysis 3.0.0. Please use `results.rmsd` instead.\n",
      "  warnings.warn(wmsg, DeprecationWarning)\n"
     ]
    },
    {
     "data": {
      "text/plain": [
       "array([1.0921218 , 0.79192003, 0.79540092, 0.56231022, 0.48463295,\n",
       "       0.4483983 , 0.55103196, 0.56734444, 0.47901374, 0.66050914,\n",
       "       0.66295527, 0.82782201, 0.78480778, 0.60741965, 0.59564873,\n",
       "       0.72594191, 1.09916961, 1.38924537, 1.37727789, 1.05465437,\n",
       "       1.35101935, 0.79521889, 0.5126986 , 0.48440207, 0.58090405,\n",
       "       0.58094959, 0.62947707, 0.57702535, 0.58132659, 0.99103504,\n",
       "       1.21725624, 1.11684818, 1.1447365 , 1.2964011 , 0.92801557,\n",
       "       0.88109998, 0.78071712, 0.51947656, 0.47866141, 0.44579536,\n",
       "       0.41956121, 0.4673644 , 0.57019666, 1.03051812, 0.75347175,\n",
       "       0.58615264, 0.76329794, 0.91257744, 0.76148499, 0.80558204,\n",
       "       0.7047297 , 0.57659471, 0.59355412, 0.61016354, 0.52793603,\n",
       "       0.52612005, 0.63350994, 0.57622767, 0.57608438, 0.64049462,\n",
       "       0.62962482, 0.54123723, 0.62388356, 0.62600899, 0.56658548,\n",
       "       0.83436439, 0.716174  , 0.64917751, 0.50001604, 0.48872732,\n",
       "       0.41657813, 0.47113913, 0.4409516 , 0.46691097, 0.49051435,\n",
       "       0.48555513, 0.46084465, 0.51247475, 0.61925275, 0.6136283 ,\n",
       "       0.51474573, 0.41426335, 0.4014703 , 0.38260922, 0.37014623,\n",
       "       0.4316714 , 0.44255828, 0.43826349, 0.49566074, 0.62402835,\n",
       "       0.55189097, 0.61553653, 0.44644775, 0.40740276, 0.53679201,\n",
       "       0.65182023, 0.44987131, 0.44390622, 0.63700586, 0.67464469,\n",
       "       0.57866861, 0.54153113, 0.75666625, 0.70910414, 0.56391843,\n",
       "       0.52812553, 0.45425044, 0.47346234, 0.41766243, 0.41227293,\n",
       "       0.3881231 , 0.38397091, 0.40731259, 0.4670841 , 0.54891985,\n",
       "       0.49093556, 0.7003567 , 0.83120472, 0.75137484, 0.62292413,\n",
       "       0.63627187, 0.65956029, 0.55685623, 0.54175547, 0.73450179,\n",
       "       1.02267509, 0.79742207, 0.64573238, 0.49630624, 0.4888236 ,\n",
       "       0.49194717, 0.43966845, 0.54252214, 0.52643715, 0.6138858 ,\n",
       "       0.52267411, 0.43769988, 0.42407227, 0.38638405, 0.37987015,\n",
       "       0.37244794, 0.4797837 , 0.54153095, 0.56356038, 0.53803417,\n",
       "       0.44431594, 0.38427594, 0.39694155, 0.42812234, 0.47482897,\n",
       "       0.52646248, 0.77305595, 0.67014123, 1.05975725, 1.47738576,\n",
       "       0.91984409, 1.01603462, 0.58737484, 0.58132167, 0.48874494,\n",
       "       0.489367  , 0.41709537, 0.4471448 , 0.5433574 , 0.5437573 ,\n",
       "       0.65169463, 0.76776282, 0.87828713, 0.87202872, 0.64324572,\n",
       "       0.60215316, 0.58017598, 0.57200664, 0.54028208, 0.50078354,\n",
       "       0.38192828, 0.34434821, 0.35900263, 0.37318393, 0.35745612,\n",
       "       0.37631421, 0.37076057, 0.41300271, 0.36765679, 0.39050719,\n",
       "       0.4491951 , 0.42625438, 0.42398052, 0.49641855, 0.53040297,\n",
       "       0.60228495, 0.58344552, 0.64519937, 0.55025279, 0.57328063,\n",
       "       0.83463399, 1.03404399, 0.62673696, 0.64804686, 1.01841509,\n",
       "       1.12750056, 0.85414935, 0.5661151 , 0.52799746, 0.6437695 ,\n",
       "       0.56103437, 0.47994731, 0.57964239, 0.67905068, 0.6437641 ,\n",
       "       0.4866191 , 0.50508781, 0.50968603, 0.57295359, 0.57974115,\n",
       "       0.6139971 , 0.79998211, 0.88468475, 0.6138501 , 0.70570415,\n",
       "       0.59979512, 0.63803051, 0.45761986, 0.45068634, 0.51650096,\n",
       "       0.44335762, 0.40300345, 0.41444923, 0.43647076, 0.41076672,\n",
       "       0.38744345, 0.46737254, 0.48355267, 0.54655887, 0.54483867,\n",
       "       0.64717266, 0.5926102 , 0.4800279 , 0.54401074, 0.54086142,\n",
       "       0.54733173, 0.65150898, 0.61638491, 0.70421711, 0.60800786,\n",
       "       0.63789458, 0.5306405 , 0.47371013, 0.53236791, 0.50422237,\n",
       "       0.46696844, 0.49018451, 0.55827977, 0.61813045, 0.67992985,\n",
       "       0.91240742, 1.00732338, 1.077117  ])"
      ]
     },
     "execution_count": 19,
     "metadata": {},
     "output_type": "execute_result"
    }
   ],
   "source": [
    "rmsfer.rmsf"
   ]
  },
  {
   "cell_type": "code",
   "execution_count": 21,
   "metadata": {},
   "outputs": [
    {
     "name": "stderr",
     "output_type": "stream",
     "text": [
      "/home/media/data2/user_home/dbsejrgus226/miniconda3/envs/MD/lib/python3.8/site-packages/MDAnalysis/analysis/rms.py:877: DeprecationWarning: The `rmsf` attribute was deprecated in MDAnalysis 2.0.0 and will be removed in MDAnalysis 3.0.0. Please use `results.rmsd` instead.\n",
      "  warnings.warn(wmsg, DeprecationWarning)\n"
     ]
    },
    {
     "data": {
      "text/plain": [
       "258"
      ]
     },
     "execution_count": 21,
     "metadata": {},
     "output_type": "execute_result"
    }
   ],
   "source": [
    "len(rmsfer.rmsf)"
   ]
  },
  {
   "cell_type": "code",
   "execution_count": 22,
   "metadata": {},
   "outputs": [
    {
     "name": "stderr",
     "output_type": "stream",
     "text": [
      "/home/media/data2/user_home/dbsejrgus226/miniconda3/envs/MD/lib/python3.8/site-packages/MDAnalysis/analysis/rms.py:877: DeprecationWarning: The `rmsf` attribute was deprecated in MDAnalysis 2.0.0 and will be removed in MDAnalysis 3.0.0. Please use `results.rmsd` instead.\n",
      "  warnings.warn(wmsg, DeprecationWarning)\n"
     ]
    },
    {
     "ename": "ValueError",
     "evalue": "Shape of passed values is (258, 1), indices imply (258, 2)",
     "output_type": "error",
     "traceback": [
      "\u001b[0;31m---------------------------------------------------------------------------\u001b[0m",
      "\u001b[0;31mValueError\u001b[0m                                Traceback (most recent call last)",
      "Cell \u001b[0;32mIn[22], line 1\u001b[0m\n\u001b[0;32m----> 1\u001b[0m rank1_rmsf_df_results \u001b[38;5;241m=\u001b[39m \u001b[43mpd\u001b[49m\u001b[38;5;241;43m.\u001b[39;49m\u001b[43mDataFrame\u001b[49m\u001b[43m(\u001b[49m\u001b[43mcalphas\u001b[49m\u001b[38;5;241;43m.\u001b[39;49m\u001b[43mresnums\u001b[49m\u001b[43m,\u001b[49m\u001b[43m \u001b[49m\u001b[43mrmsfer\u001b[49m\u001b[38;5;241;43m.\u001b[39;49m\u001b[43mrmsf\u001b[49m\u001b[43m,\u001b[49m\u001b[43m \u001b[49m\u001b[43mcolumns\u001b[49m\u001b[38;5;241;43m=\u001b[39;49m\u001b[43m[\u001b[49m\u001b[38;5;124;43m\"\u001b[39;49m\u001b[38;5;124;43mresudue_number\u001b[39;49m\u001b[38;5;124;43m\"\u001b[39;49m\u001b[43m,\u001b[49m\u001b[43m \u001b[49m\u001b[38;5;124;43m\"\u001b[39;49m\u001b[38;5;124;43mrmsf\u001b[39;49m\u001b[38;5;124;43m\"\u001b[39;49m\u001b[43m]\u001b[49m\u001b[43m)\u001b[49m\n\u001b[1;32m      2\u001b[0m rank1_rmsf_df_results\u001b[38;5;241m.\u001b[39mhead()\n",
      "File \u001b[0;32m~/miniconda3/envs/MD/lib/python3.8/site-packages/pandas/core/frame.py:694\u001b[0m, in \u001b[0;36mDataFrame.__init__\u001b[0;34m(self, data, index, columns, dtype, copy)\u001b[0m\n\u001b[1;32m    684\u001b[0m         mgr \u001b[38;5;241m=\u001b[39m dict_to_mgr(\n\u001b[1;32m    685\u001b[0m             \u001b[38;5;66;03m# error: Item \"ndarray\" of \"Union[ndarray, Series, Index]\" has no\u001b[39;00m\n\u001b[1;32m    686\u001b[0m             \u001b[38;5;66;03m# attribute \"name\"\u001b[39;00m\n\u001b[0;32m   (...)\u001b[0m\n\u001b[1;32m    691\u001b[0m             typ\u001b[38;5;241m=\u001b[39mmanager,\n\u001b[1;32m    692\u001b[0m         )\n\u001b[1;32m    693\u001b[0m     \u001b[38;5;28;01melse\u001b[39;00m:\n\u001b[0;32m--> 694\u001b[0m         mgr \u001b[38;5;241m=\u001b[39m \u001b[43mndarray_to_mgr\u001b[49m\u001b[43m(\u001b[49m\n\u001b[1;32m    695\u001b[0m \u001b[43m            \u001b[49m\u001b[43mdata\u001b[49m\u001b[43m,\u001b[49m\n\u001b[1;32m    696\u001b[0m \u001b[43m            \u001b[49m\u001b[43mindex\u001b[49m\u001b[43m,\u001b[49m\n\u001b[1;32m    697\u001b[0m \u001b[43m            \u001b[49m\u001b[43mcolumns\u001b[49m\u001b[43m,\u001b[49m\n\u001b[1;32m    698\u001b[0m \u001b[43m            \u001b[49m\u001b[43mdtype\u001b[49m\u001b[38;5;241;43m=\u001b[39;49m\u001b[43mdtype\u001b[49m\u001b[43m,\u001b[49m\n\u001b[1;32m    699\u001b[0m \u001b[43m            \u001b[49m\u001b[43mcopy\u001b[49m\u001b[38;5;241;43m=\u001b[39;49m\u001b[43mcopy\u001b[49m\u001b[43m,\u001b[49m\n\u001b[1;32m    700\u001b[0m \u001b[43m            \u001b[49m\u001b[43mtyp\u001b[49m\u001b[38;5;241;43m=\u001b[39;49m\u001b[43mmanager\u001b[49m\u001b[43m,\u001b[49m\n\u001b[1;32m    701\u001b[0m \u001b[43m        \u001b[49m\u001b[43m)\u001b[49m\n\u001b[1;32m    703\u001b[0m \u001b[38;5;66;03m# For data is list-like, or Iterable (will consume into list)\u001b[39;00m\n\u001b[1;32m    704\u001b[0m \u001b[38;5;28;01melif\u001b[39;00m is_list_like(data):\n",
      "File \u001b[0;32m~/miniconda3/envs/MD/lib/python3.8/site-packages/pandas/core/internals/construction.py:351\u001b[0m, in \u001b[0;36mndarray_to_mgr\u001b[0;34m(values, index, columns, dtype, copy, typ)\u001b[0m\n\u001b[1;32m    346\u001b[0m \u001b[38;5;66;03m# _prep_ndarray ensures that values.ndim == 2 at this point\u001b[39;00m\n\u001b[1;32m    347\u001b[0m index, columns \u001b[38;5;241m=\u001b[39m _get_axes(\n\u001b[1;32m    348\u001b[0m     values\u001b[38;5;241m.\u001b[39mshape[\u001b[38;5;241m0\u001b[39m], values\u001b[38;5;241m.\u001b[39mshape[\u001b[38;5;241m1\u001b[39m], index\u001b[38;5;241m=\u001b[39mindex, columns\u001b[38;5;241m=\u001b[39mcolumns\n\u001b[1;32m    349\u001b[0m )\n\u001b[0;32m--> 351\u001b[0m \u001b[43m_check_values_indices_shape_match\u001b[49m\u001b[43m(\u001b[49m\u001b[43mvalues\u001b[49m\u001b[43m,\u001b[49m\u001b[43m \u001b[49m\u001b[43mindex\u001b[49m\u001b[43m,\u001b[49m\u001b[43m \u001b[49m\u001b[43mcolumns\u001b[49m\u001b[43m)\u001b[49m\n\u001b[1;32m    353\u001b[0m \u001b[38;5;28;01mif\u001b[39;00m typ \u001b[38;5;241m==\u001b[39m \u001b[38;5;124m\"\u001b[39m\u001b[38;5;124marray\u001b[39m\u001b[38;5;124m\"\u001b[39m:\n\u001b[1;32m    355\u001b[0m     \u001b[38;5;28;01mif\u001b[39;00m \u001b[38;5;28missubclass\u001b[39m(values\u001b[38;5;241m.\u001b[39mdtype\u001b[38;5;241m.\u001b[39mtype, \u001b[38;5;28mstr\u001b[39m):\n",
      "File \u001b[0;32m~/miniconda3/envs/MD/lib/python3.8/site-packages/pandas/core/internals/construction.py:422\u001b[0m, in \u001b[0;36m_check_values_indices_shape_match\u001b[0;34m(values, index, columns)\u001b[0m\n\u001b[1;32m    420\u001b[0m passed \u001b[38;5;241m=\u001b[39m values\u001b[38;5;241m.\u001b[39mshape\n\u001b[1;32m    421\u001b[0m implied \u001b[38;5;241m=\u001b[39m (\u001b[38;5;28mlen\u001b[39m(index), \u001b[38;5;28mlen\u001b[39m(columns))\n\u001b[0;32m--> 422\u001b[0m \u001b[38;5;28;01mraise\u001b[39;00m \u001b[38;5;167;01mValueError\u001b[39;00m(\u001b[38;5;124mf\u001b[39m\u001b[38;5;124m\"\u001b[39m\u001b[38;5;124mShape of passed values is \u001b[39m\u001b[38;5;132;01m{\u001b[39;00mpassed\u001b[38;5;132;01m}\u001b[39;00m\u001b[38;5;124m, indices imply \u001b[39m\u001b[38;5;132;01m{\u001b[39;00mimplied\u001b[38;5;132;01m}\u001b[39;00m\u001b[38;5;124m\"\u001b[39m)\n",
      "\u001b[0;31mValueError\u001b[0m: Shape of passed values is (258, 1), indices imply (258, 2)"
     ]
    }
   ],
   "source": [
    "rank1_rmsf_df_results = pd.DataFrame(calphas.resnums, rmsfer.rmsf, columns=[\"resudue_number\", \"rmsf\"])\n",
    "rank1_rmsf_df_results.head()"
   ]
  },
  {
   "cell_type": "code",
   "execution_count": null,
   "metadata": {},
   "outputs": [],
   "source": []
  }
 ],
 "metadata": {
  "kernelspec": {
   "display_name": "MD",
   "language": "python",
   "name": "python3"
  },
  "language_info": {
   "codemirror_mode": {
    "name": "ipython",
    "version": 3
   },
   "file_extension": ".py",
   "mimetype": "text/x-python",
   "name": "python",
   "nbconvert_exporter": "python",
   "pygments_lexer": "ipython3",
   "version": "3.8.12"
  }
 },
 "nbformat": 4,
 "nbformat_minor": 2
}
