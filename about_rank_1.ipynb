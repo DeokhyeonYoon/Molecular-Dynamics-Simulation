{
 "cells": [
  {
   "cell_type": "markdown",
   "metadata": {},
   "source": [
    "# MD Simultaion "
   ]
  },
  {
   "cell_type": "code",
   "execution_count": 1,
   "metadata": {},
   "outputs": [],
   "source": [
    "import copy\n",
    "from pathlib import Path\n",
    "import sys\n",
    "\n",
    "import requests\n",
    "from IPython.display import display\n",
    "import numpy as np\n",
    "from rdkit import Chem\n",
    "from rdkit.Chem import Draw\n",
    "from rdkit.Chem import AllChem\n",
    "import mdtraj as md\n",
    "import pdbfixer\n",
    "import openmm as mm\n",
    "import openmm.app as app\n",
    "from openmm import unit\n",
    "from openff.toolkit.topology import Molecule, Topology\n",
    "from openmmforcefields.generators import GAFFTemplateGenerator"
   ]
  },
  {
   "cell_type": "code",
   "execution_count": 2,
   "metadata": {},
   "outputs": [],
   "source": [
    "import warnings\n",
    "\n",
    "# 경고를 무시하도록 설정합니다.\n",
    "#warnings.filterwarnings(\"ignore\", message=\"PDB file is missing resid information.\")\n",
    "#warnings.filterwarnings(\"ignore\", message=\"Reload offsets from trajectory\")\n",
    "#warnings.filterwarnings(\"ignore\", message=\"duplicate atom\")\n",
    "\n",
    "warnings.filterwarnings(\"ignore\")"
   ]
  },
  {
   "cell_type": "code",
   "execution_count": 3,
   "metadata": {},
   "outputs": [],
   "source": [
    "def prepare_protein(\n",
    "    pdb_file, ignore_missing_residues=True, ignore_terminal_missing_residues=True, ph=7.0\n",
    "):\n",
    "    \"\"\"\n",
    "    Use pdbfixer to prepare the protein from a PDB file. Hetero atoms such as ligands are\n",
    "    removed and non-standard residues replaced. Missing atoms to existing residues are added.\n",
    "    Missing residues are ignored by default, but can be included.\n",
    "\n",
    "    Parameters\n",
    "    ----------\n",
    "    pdb_file: pathlib.Path or str\n",
    "        PDB file containing the system to simulate.\n",
    "    ignore_missing_residues: bool, optional\n",
    "        If missing residues should be ignored or built.\n",
    "    ignore_terminal_missing_residues: bool, optional\n",
    "        If missing residues at the beginning and the end of a chain should be ignored or built.\n",
    "    ph: float, optional\n",
    "        pH value used to determine protonation state of residues\n",
    "\n",
    "    Returns\n",
    "    -------\n",
    "    fixer: pdbfixer.pdbfixer.PDBFixer\n",
    "        Prepared protein system.\n",
    "    \"\"\"\n",
    "    fixer = pdbfixer.PDBFixer(str(pdb_file))\n",
    "    fixer.removeHeterogens()  # co-crystallized ligands are unknown to PDBFixer\n",
    "    fixer.findMissingResidues()  # identify missing residues, needed for identification of missing atoms\n",
    "\n",
    "    # if missing terminal residues shall be ignored, remove them from the dictionary\n",
    "    if ignore_terminal_missing_residues:\n",
    "        chains = list(fixer.topology.chains())\n",
    "        keys = fixer.missingResidues.keys()\n",
    "        for key in list(keys):\n",
    "            chain = chains[key[0]]\n",
    "            if key[1] == 0 or key[1] == len(list(chain.residues())):\n",
    "                del fixer.missingResidues[key]\n",
    "\n",
    "    # if all missing residues shall be ignored ignored, clear the dictionary\n",
    "    if ignore_missing_residues:\n",
    "        fixer.missingResidues = {}\n",
    "\n",
    "    fixer.findNonstandardResidues()  # find non-standard residue\n",
    "    fixer.replaceNonstandardResidues()  # replace non-standard residues with standard one\n",
    "    fixer.findMissingAtoms()  # find missing heavy atoms\n",
    "    fixer.addMissingAtoms()  # add missing atoms and residues\n",
    "    fixer.addMissingHydrogens(ph)  # add missing hydrogens\n",
    "    return fixer"
   ]
  },
  {
   "cell_type": "code",
   "execution_count": 4,
   "metadata": {},
   "outputs": [],
   "source": [
    "prepare_protein = prepare_protein(\"./protein_rank_1_ligand_complex.pdb\", ignore_missing_residues=False)"
   ]
  },
  {
   "cell_type": "code",
   "execution_count": 5,
   "metadata": {},
   "outputs": [],
   "source": [
    "def prepare_ligand(pdb_file, resname, smiles, depict=True):\n",
    "    \"\"\"\n",
    "    Prepare a ligand from a PDB file via adding hydrogens and assigning bond orders. A depiction\n",
    "    of the ligand before and after preparation is rendered in 2D to allow an inspection of the\n",
    "    results. Huge thanks to @j-wags for the suggestion.\n",
    "\n",
    "    Parameters\n",
    "    ----------\n",
    "    pdb_file: pathlib.PosixPath\n",
    "       PDB file containing the ligand of interest.\n",
    "    resname: str\n",
    "        Three character residue name of the ligand.\n",
    "    smiles : str\n",
    "        SMILES string of the ligand informing about correct protonation and bond orders.\n",
    "    depict: bool, optional\n",
    "        show a 2D representation of the ligand\n",
    "\n",
    "    Returns\n",
    "    -------\n",
    "    prepared_ligand: rdkit.Chem.rdchem.Mol\n",
    "        Prepared ligand.\n",
    "    \"\"\"\n",
    "    # split molecule\n",
    "    rdkit_mol = Chem.MolFromPDBFile(str(pdb_file), proximityBonding=True, sanitize=False)\n",
    "    print(rdkit_mol)\n",
    "    rdkit_mol_split = Chem.rdmolops.SplitMolByPDBResidues(rdkit_mol)\n",
    "\n",
    "    # extract the ligand and remove any already present hydrogens\n",
    "    ligand = rdkit_mol_split[resname]\n",
    "    ligand = Chem.RemoveHs(ligand)\n",
    "\n",
    "    # assign bond orders from template\n",
    "    reference_mol = Chem.MolFromSmiles(smiles)\n",
    "    prepared_ligand = AllChem.AssignBondOrdersFromTemplate(reference_mol, ligand)\n",
    "    prepared_ligand.AddConformer(ligand.GetConformer(0))\n",
    "\n",
    "    # protonate ligand\n",
    "    prepared_ligand = Chem.rdmolops.AddHs(prepared_ligand, addCoords=True)\n",
    "    prepared_ligand = Chem.MolFromMolBlock(Chem.MolToMolBlock(prepared_ligand))\n",
    "\n",
    "    # 2D depiction\n",
    "    if depict:\n",
    "        ligand_2d = copy.deepcopy(ligand)\n",
    "        prepared_ligand_2d = copy.deepcopy(prepared_ligand)\n",
    "        AllChem.Compute2DCoords(ligand_2d)\n",
    "        AllChem.Compute2DCoords(prepared_ligand_2d)\n",
    "        display(\n",
    "            Draw.MolsToGridImage(\n",
    "                [ligand_2d, prepared_ligand_2d], molsPerRow=2, legends=[\"original\", \"prepared\"]\n",
    "            )\n",
    "        )\n",
    "\n",
    "    # return ligand\n",
    "    return prepared_ligand"
   ]
  },
  {
   "cell_type": "code",
   "execution_count": 6,
   "metadata": {},
   "outputs": [],
   "source": [
    "pdb_path = \"./protein_rank_1_ligand_complex.pdb\"\n",
    "ligand_name = \"UNL\"\n",
    "smiles = \"COc1ccc(C)cc1NC(=O)N1CCOCC1\""
   ]
  },
  {
   "cell_type": "code",
   "execution_count": 7,
   "metadata": {},
   "outputs": [
    {
     "name": "stdout",
     "output_type": "stream",
     "text": [
      "<rdkit.Chem.rdchem.Mol object at 0x7fc695df80b0>\n"
     ]
    },
    {
     "name": "stderr",
     "output_type": "stream",
     "text": [
      "[15:48:53] WARNING: More than one matching pattern found - picking one\n",
      "\n"
     ]
    },
    {
     "data": {
      "image/png": "[encoded data removed]",
      "text/plain": [
       "<IPython.core.display.Image object>"
      ]
     },
     "metadata": {},
     "output_type": "display_data"
    }
   ],
   "source": [
    "rdkit_ligand = prepare_ligand(pdb_path, ligand_name, smiles)"
   ]
  },
  {
   "cell_type": "code",
   "execution_count": 8,
   "metadata": {},
   "outputs": [],
   "source": [
    "def rdkit_to_openmm(rdkit_mol, name=\"LIG\"):\n",
    "    \"\"\"\n",
    "    Convert an RDKit molecule to an OpenMM molecule.\n",
    "    Inspired by @hannahbrucemcdonald and @glass-w.\n",
    "\n",
    "    Parameters\n",
    "    ----------\n",
    "    rdkit_mol: rdkit.Chem.rdchem.Mol\n",
    "        RDKit molecule to convert.\n",
    "    name: str\n",
    "        Molecule name.\n",
    "\n",
    "    Returns\n",
    "    -------\n",
    "    omm_molecule: openmm.app.Modeller\n",
    "        OpenMM modeller object holding the molecule of interest.\n",
    "    \"\"\"\n",
    "    # convert RDKit to OpenFF\n",
    "    off_mol = Molecule.from_rdkit(rdkit_mol)\n",
    "    #print(off_mol)\n",
    "\n",
    "    # add name for molecule\n",
    "    off_mol.name = name\n",
    "    #print(off_mol.name)\n",
    "\n",
    "    # add names for atoms\n",
    "    element_counter_dict = {}\n",
    "    for off_atom, rdkit_atom in zip(off_mol.atoms, rdkit_mol.GetAtoms()):\n",
    "        element = rdkit_atom.GetSymbol()\n",
    "        if element in element_counter_dict.keys():\n",
    "            element_counter_dict[element] += 1\n",
    "        else:\n",
    "            element_counter_dict[element] = 1\n",
    "        off_atom.name = element + str(element_counter_dict[element])\n",
    "    #print(element_counter_dict)\n",
    "\n",
    "    # convert from OpenFF to OpenMM\n",
    "    off_mol_topology = off_mol.to_topology()\n",
    "    mol_topology = off_mol_topology.to_openmm()\n",
    "    #print(mol_topology)\n",
    "    mol_positions = off_mol.conformers[0]\n",
    "    #print(mol_positions)\n",
    "\n",
    "    # convert units from Ångström to nanometers\n",
    "    # since OpenMM works in nm\n",
    "    mol_positions = mol_positions.to(\"nanometers\")\n",
    "    #print(mol_positions)\n",
    "\n",
    "    # combine topology and positions in modeller object\n",
    "    omm_mol = app.Modeller(mol_topology, mol_positions)\n",
    "\n",
    "    return omm_mol"
   ]
  },
  {
   "cell_type": "code",
   "execution_count": 9,
   "metadata": {},
   "outputs": [],
   "source": [
    "omm_ligand = rdkit_to_openmm(rdkit_ligand, ligand_name)"
   ]
  },
  {
   "cell_type": "code",
   "execution_count": 10,
   "metadata": {},
   "outputs": [],
   "source": [
    "def merge_protein_and_ligand(protein, ligand):\n",
    "    \"\"\"\n",
    "    Merge two OpenMM objects.\n",
    "\n",
    "    Parameters\n",
    "    ----------\n",
    "    protein: pdbfixer.pdbfixer.PDBFixer\n",
    "        Protein to merge.\n",
    "    ligand: openmm.app.Modeller\n",
    "        Ligand to merge.\n",
    "\n",
    "    Returns\n",
    "    -------\n",
    "    complex_topology: openmm.app.topology.Topology\n",
    "        The merged topology.\n",
    "    complex_positions: openmm.unit.quantity.Quantity\n",
    "        The merged positions.\n",
    "    \"\"\"\n",
    "    # combine topologies\n",
    "    md_protein_topology = md.Topology.from_openmm(protein.topology)  # using mdtraj for protein top\n",
    "    #print(md_protein_topology)\n",
    "    md_ligand_topology = md.Topology.from_openmm(ligand.topology)  # using mdtraj for ligand top\n",
    "    #print(md_ligand_topology)\n",
    "    md_complex_topology = md_protein_topology.join(md_ligand_topology)  # add them together\n",
    "    #print(md_complex_topology)\n",
    "    complex_topology = md_complex_topology.to_openmm()\n",
    "    #print(complex_topology)\n",
    "\n",
    "    # combine positions\n",
    "    total_atoms = len(protein.positions) + len(ligand.positions)\n",
    "\n",
    "    # create an array for storing all atom positions as tupels containing a value and a unit\n",
    "    # called OpenMM Quantities\n",
    "    complex_positions = unit.Quantity(np.zeros([total_atoms, 3]), unit=unit.nanometers)\n",
    "    complex_positions[: len(protein.positions)] = protein.positions  # add protein positions\n",
    "    complex_positions[len(protein.positions) :] = ligand.positions  # add ligand positions\n",
    "\n",
    "    return complex_topology, complex_positions"
   ]
  },
  {
   "cell_type": "code",
   "execution_count": 11,
   "metadata": {},
   "outputs": [],
   "source": [
    "complex_topology, complex_positions = merge_protein_and_ligand(prepare_protein, omm_ligand)"
   ]
  },
  {
   "cell_type": "code",
   "execution_count": 12,
   "metadata": {},
   "outputs": [
    {
     "name": "stdout",
     "output_type": "stream",
     "text": [
      "Complex topology has 4197 atoms.\n"
     ]
    }
   ],
   "source": [
    "print(\"Complex topology has\", complex_topology.getNumAtoms(), \"atoms.\")\n",
    "# NBVAL_CHECK_OUTPUT"
   ]
  },
  {
   "cell_type": "code",
   "execution_count": 13,
   "metadata": {},
   "outputs": [],
   "source": [
    "def generate_forcefield(\n",
    "    rdkit_mol=None, protein_ff=\"amber14-all.xml\", solvent_ff=\"amber14/tip3pfb.xml\"\n",
    "):\n",
    "    \"\"\"\n",
    "    Generate an OpenMM Forcefield object and register a small molecule.\n",
    "\n",
    "    Parameters\n",
    "    ----------\n",
    "    rdkit_mol: rdkit.Chem.rdchem.Mol\n",
    "        Small molecule to register in the force field.\n",
    "    protein_ff: string\n",
    "        Name of the force field.\n",
    "    solvent_ff: string\n",
    "        Name of the solvent force field.\n",
    "\n",
    "    Returns\n",
    "    -------\n",
    "    forcefield: openmm.app.Forcefield\n",
    "        Forcefield with registered small molecule.\n",
    "    \"\"\"\n",
    "    forcefield = app.ForceField(protein_ff, solvent_ff)\n",
    "\n",
    "    if rdkit_mol is not None:\n",
    "        gaff = GAFFTemplateGenerator(\n",
    "            molecules=Molecule.from_rdkit(rdkit_mol, allow_undefined_stereo=True)\n",
    "        )\n",
    "        forcefield.registerTemplateGenerator(gaff.generator)\n",
    "\n",
    "    return forcefield"
   ]
  },
  {
   "cell_type": "code",
   "execution_count": 14,
   "metadata": {},
   "outputs": [],
   "source": [
    "forcefield = generate_forcefield(rdkit_ligand)"
   ]
  },
  {
   "cell_type": "code",
   "execution_count": 15,
   "metadata": {},
   "outputs": [
    {
     "name": "stderr",
     "output_type": "stream",
     "text": [
      "/bin/bash: /home/media/data2/user_home/dbsejrgus226/miniconda3/envs/MD/lib/libtinfo.so.6: no version information available (required by /bin/bash)\n",
      "/bin/bash: /home/media/data2/user_home/dbsejrgus226/miniconda3/envs/MD/lib/libtinfo.so.6: no version information available (required by /bin/bash)\n",
      "/bin/bash: /home/media/data2/user_home/dbsejrgus226/miniconda3/envs/MD/lib/libtinfo.so.6: no version information available (required by /bin/bash)\n",
      "/bin/bash: /home/media/data2/user_home/dbsejrgus226/miniconda3/envs/MD/lib/libtinfo.so.6: no version information available (required by /bin/bash)\n",
      "/bin/bash: /home/media/data2/user_home/dbsejrgus226/miniconda3/envs/MD/lib/libtinfo.so.6: no version information available (required by /bin/bash)\n",
      "/bin/bash: /home/media/data2/user_home/dbsejrgus226/miniconda3/envs/MD/lib/libtinfo.so.6: no version information available (required by /bin/bash)\n"
     ]
    }
   ],
   "source": [
    "modeller = app.Modeller(complex_topology, complex_positions)\n",
    "modeller.addSolvent(forcefield, padding=1.0 * unit.nanometers, ionicStrength=0.15 * unit.molar)"
   ]
  },
  {
   "cell_type": "code",
   "execution_count": 16,
   "metadata": {},
   "outputs": [],
   "source": [
    "system = forcefield.createSystem(modeller.topology, nonbondedMethod=app.PME)\n",
    "integrator = mm.LangevinIntegrator(\n",
    "    300 * unit.kelvin, 1.0 / unit.picoseconds, 2.0 * unit.femtoseconds\n",
    ")\n",
    "simulation = app.Simulation(modeller.topology, system, integrator)\n",
    "simulation.context.setPositions(modeller.positions)"
   ]
  },
  {
   "cell_type": "code",
   "execution_count": 17,
   "metadata": {},
   "outputs": [],
   "source": [
    "simulation.minimizeEnergy()\n",
    "with open(\"topology.pdb\", \"w\") as pdb_file:\n",
    "    app.PDBFile.writeFile(\n",
    "        simulation.topology,\n",
    "        simulation.context.getState(getPositions=True, enforcePeriodicBox=True).getPositions(),\n",
    "        file=pdb_file,\n",
    "        keepIds=True,\n",
    "    )"
   ]
  },
  {
   "cell_type": "code",
   "execution_count": 18,
   "metadata": {},
   "outputs": [],
   "source": [
    "# output settings\n",
    "\n",
    "steps = 50000  # corresponds to 100 fs\n",
    "write_interval = 500  # write every 10 fs\n",
    "log_interval = 250  # log progress to stdout every 5 fs\n",
    "simulation.reporters.append(\n",
    "    md.reporters.XTCReporter(file=str(\"trajectory.xtc\"), reportInterval=write_interval)\n",
    ")\n",
    "simulation.reporters.append(\n",
    "    app.StateDataReporter(\n",
    "        sys.stdout,\n",
    "        log_interval,\n",
    "        step=True,\n",
    "        potentialEnergy=True,\n",
    "        temperature=True,\n",
    "        progress=True,\n",
    "        remainingTime=True,\n",
    "        speed=True,\n",
    "        totalSteps=steps,\n",
    "        separator=\"\\t\",\n",
    "    )\n",
    ")"
   ]
  },
  {
   "cell_type": "code",
   "execution_count": 19,
   "metadata": {},
   "outputs": [
    {
     "name": "stdout",
     "output_type": "stream",
     "text": [
      "#\"Progress (%)\"\t\"Step\"\t\"Potential Energy (kJ/mole)\"\t\"Temperature (K)\"\t\"Speed (ns/day)\"\t\"Time Remaining\"\n",
      "0.5%\t250\t-869913.5547830919\t206.39985825095397\t0\t--\n",
      "1.0%\t500\t-854659.8321268419\t243.5629776080187\t186\t0:46\n",
      "1.5%\t750\t-842215.2344705919\t262.62084109437797\t188\t0:45\n",
      "2.0%\t1000\t-834991.3887674669\t278.71642533409033\t187\t0:45\n",
      "2.5%\t1250\t-829544.6329080919\t284.4225437435971\t187\t0:45\n",
      "3.0%\t1500\t-826930.0957987169\t288.03864003701307\t186\t0:44\n",
      "3.5%\t1750\t-824217.0411112169\t294.1669998134423\t187\t0:44\n",
      "4.0%\t2000\t-820971.2481424669\t293.423503748468\t186\t0:44\n",
      "4.5%\t2250\t-822618.2325174669\t299.74327642875846\t186\t0:44\n",
      "5.0%\t2500\t-820556.1270487169\t297.20056682296814\t186\t0:44\n",
      "5.5%\t2750\t-821830.3731424669\t298.8826916012148\t186\t0:43\n",
      "6.0%\t3000\t-820221.8067362169\t298.9999665964022\t186\t0:43\n",
      "6.5%\t3250\t-820154.3672830919\t298.9627119240269\t186\t0:43\n",
      "7.0%\t3500\t-818856.8790018419\t297.7141499025528\t186\t0:43\n",
      "7.5%\t3750\t-819015.8887674669\t297.27291746720516\t186\t0:42\n",
      "8.0%\t4000\t-819529.8633768419\t299.76309001947834\t186\t0:42\n",
      "8.5%\t4250\t-818470.3204080919\t297.9082242411977\t186\t0:42\n",
      "9.0%\t4500\t-818167.3887674669\t299.83122726584344\t186\t0:42\n",
      "9.5%\t4750\t-817853.5684549669\t299.79141898235906\t186\t0:42\n",
      "10.0%\t5000\t-817205.5547830919\t301.1228666274123\t186\t0:41\n",
      "10.5%\t5250\t-816575.1954080919\t298.3004815863683\t186\t0:41\n",
      "11.0%\t5500\t-817103.6211893419\t300.5487241263445\t186\t0:41\n",
      "11.5%\t5750\t-816627.4942362169\t297.91437181394406\t186\t0:41\n",
      "12.0%\t6000\t-817718.6426737169\t299.8293782733938\t185\t0:40\n",
      "12.5%\t6250\t-817535.5430643419\t300.7806034657186\t186\t0:40\n",
      "13.0%\t6500\t-817530.4688455919\t299.03455950345244\t185\t0:40\n",
      "13.5%\t6750\t-818161.0860330919\t299.5408287317765\t185\t0:40\n",
      "14.0%\t7000\t-817577.8457987169\t300.0657886982967\t185\t0:40\n",
      "14.5%\t7250\t-817478.6270487169\t300.23445065302093\t185\t0:39\n",
      "15.0%\t7500\t-818342.6602518419\t300.46964827498914\t185\t0:39\n",
      "15.5%\t7750\t-817793.3145487169\t298.40958979839365\t185\t0:39\n",
      "16.0%\t8000\t-818107.6778299669\t300.5990046291028\t185\t0:39\n",
      "16.5%\t8250\t-816919.1055643419\t298.75575315274835\t185\t0:39\n",
      "17.0%\t8500\t-817002.8360330919\t300.4506032532826\t185\t0:38\n",
      "17.5%\t8750\t-816210.0274393419\t299.6650538446403\t185\t0:38\n",
      "18.0%\t9000\t-816488.5860330919\t300.11312352883436\t185\t0:38\n",
      "18.5%\t9250\t-817332.4200174669\t300.1557205958259\t185\t0:38\n",
      "19.0%\t9500\t-817730.0098612169\t303.5812164423008\t184\t0:37\n",
      "19.5%\t9750\t-816708.9649393419\t302.1011924884745\t184\t0:37\n",
      "20.0%\t10000\t-816342.0411112169\t300.92222121239377\t184\t0:37\n",
      "20.5%\t10250\t-816400.6348612169\t300.76680723302223\t184\t0:37\n",
      "21.0%\t10500\t-816482.7207987169\t299.769752301018\t184\t0:37\n",
      "21.5%\t10750\t-816862.3594705919\t301.6332675893894\t184\t0:36\n",
      "22.0%\t11000\t-816558.7989237169\t300.99830978820927\t184\t0:36\n",
      "22.5%\t11250\t-817340.7637674669\t300.4405111371192\t184\t0:36\n",
      "23.0%\t11500\t-815221.7852518419\t299.630763728807\t184\t0:36\n",
      "23.5%\t11750\t-816343.9629862169\t301.7010012733254\t184\t0:35\n",
      "24.0%\t12000\t-816894.6485330919\t301.5417885808126\t184\t0:35\n",
      "24.5%\t12250\t-817096.5079080919\t300.3424213121631\t184\t0:35\n",
      "25.0%\t12500\t-817643.5938455919\t300.5003328552314\t184\t0:35\n",
      "25.5%\t12750\t-817369.8829080919\t301.0178271101557\t184\t0:34\n",
      "26.0%\t13000\t-816792.6915018419\t298.7631153911609\t184\t0:34\n",
      "26.5%\t13250\t-817619.0274393419\t300.7562825700501\t184\t0:34\n",
      "27.0%\t13500\t-817941.3575174669\t299.4912853044324\t184\t0:34\n",
      "27.5%\t13750\t-818286.4258768419\t300.90567895165907\t184\t0:34\n",
      "28.0%\t14000\t-817925.0157205919\t299.43046102218904\t184\t0:33\n",
      "28.5%\t14250\t-817236.5293924669\t298.14724803269735\t184\t0:33\n",
      "29.0%\t14500\t-817549.0743143419\t297.7007060612068\t183\t0:33\n",
      "29.5%\t14750\t-817512.9805643419\t299.6688218567173\t183\t0:33\n",
      "30.0%\t15000\t-817900.9219705919\t301.09143853924525\t183\t0:33\n",
      "30.5%\t15250\t-817368.2344705919\t299.9962229869164\t183\t0:32\n",
      "31.0%\t15500\t-818906.6856424669\t301.11459587293996\t182\t0:32\n",
      "31.5%\t15750\t-817403.0098612169\t298.7322513421306\t182\t0:32\n",
      "32.0%\t16000\t-818756.1504862169\t300.40419068627415\t182\t0:32\n",
      "32.5%\t16250\t-817391.0079080919\t299.73922739379685\t181\t0:32\n",
      "33.0%\t16500\t-816817.0997049669\t301.30979865536693\t181\t0:31\n",
      "33.5%\t16750\t-814995.3301737169\t299.7925151622736\t181\t0:31\n",
      "34.0%\t17000\t-817613.8985330919\t300.9411605214779\t181\t0:31\n",
      "34.5%\t17250\t-818620.2168924669\t300.3276658895512\t180\t0:31\n",
      "35.0%\t17500\t-817809.2579080919\t298.89306588722354\t180\t0:31\n",
      "35.5%\t17750\t-818538.3946268419\t299.23983318678523\t180\t0:31\n",
      "36.0%\t18000\t-818709.7579080919\t299.4160994804468\t179\t0:30\n",
      "36.5%\t18250\t-818683.7735330919\t299.5235649355654\t179\t0:30\n",
      "37.0%\t18500\t-820137.0723612169\t299.8516672578941\t179\t0:30\n",
      "37.5%\t18750\t-818859.2051737169\t296.167138135759\t179\t0:30\n",
      "38.0%\t19000\t-818949.8750955919\t297.4504398293659\t179\t0:30\n",
      "38.5%\t19250\t-817740.5293924669\t299.5064779553871\t178\t0:29\n",
      "39.0%\t19500\t-818354.1211893419\t301.21784612252975\t178\t0:29\n",
      "39.5%\t19750\t-819514.1114237169\t304.3171731084637\t178\t0:29\n",
      "40.0%\t20000\t-818642.7071268419\t301.35808385674716\t178\t0:29\n",
      "40.5%\t20250\t-817670.1700174669\t299.8549083728876\t177\t0:28\n",
      "41.0%\t20500\t-818133.9317362169\t299.95401066743136\t177\t0:28\n",
      "41.5%\t20750\t-818093.1153299669\t299.25296858312436\t177\t0:28\n",
      "42.0%\t21000\t-817763.5567362169\t302.91065932278303\t177\t0:28\n",
      "42.5%\t21250\t-817385.3418924669\t298.63403688597117\t176\t0:28\n",
      "43.0%\t21500\t-818806.1641580919\t298.9051904292168\t176\t0:27\n",
      "43.5%\t21750\t-818313.9805643419\t299.5646326935146\t176\t0:27\n",
      "44.0%\t22000\t-817688.4571268419\t298.0313558084676\t175\t0:27\n",
      "44.5%\t22250\t-817307.4551737169\t298.9503636937858\t175\t0:27\n",
      "45.0%\t22500\t-818083.8868143419\t299.5626457680686\t175\t0:27\n",
      "45.5%\t22750\t-818514.8184549669\t298.25800687146017\t175\t0:26\n",
      "46.0%\t23000\t-817850.1700174669\t300.15847164657293\t175\t0:26\n",
      "46.5%\t23250\t-817666.1172830919\t299.5957740361636\t174\t0:26\n",
      "47.0%\t23500\t-817470.2598612169\t299.8779726393171\t174\t0:26\n",
      "47.5%\t23750\t-817189.6778299669\t298.88579198918274\t174\t0:26\n",
      "48.0%\t24000\t-816816.1426737169\t299.12162890357877\t173\t0:25\n",
      "48.5%\t24250\t-818027.2403299669\t299.7941534649096\t173\t0:25\n",
      "49.0%\t24500\t-815684.6055643419\t297.1386050241179\t173\t0:25\n",
      "49.5%\t24750\t-816805.2364237169\t301.2536395268885\t172\t0:25\n",
      "50.0%\t25000\t-817431.7579080919\t301.6652574828511\t172\t0:25\n",
      "50.5%\t25250\t-816329.0235330919\t298.30548869454014\t171\t0:24\n",
      "51.0%\t25500\t-817789.8633768419\t301.28122364636863\t171\t0:24\n",
      "51.5%\t25750\t-817836.5821268419\t298.3812730522951\t171\t0:24\n",
      "52.0%\t26000\t-818303.9903299669\t299.5517759858971\t170\t0:24\n",
      "52.5%\t26250\t-818029.0899393419\t300.5064425693073\t170\t0:24\n",
      "53.0%\t26500\t-818068.0762674669\t301.86123902521314\t170\t0:23\n",
      "53.5%\t26750\t-817384.5450174669\t300.18574729587596\t169\t0:23\n",
      "54.0%\t27000\t-818010.8907205919\t301.37931615988947\t169\t0:23\n",
      "54.5%\t27250\t-817951.8985330919\t300.76239316473675\t169\t0:23\n",
      "55.0%\t27500\t-817457.2481424669\t301.85746193056355\t169\t0:23\n",
      "55.5%\t27750\t-818550.2207987169\t300.8500012763744\t169\t0:22\n",
      "56.0%\t28000\t-817902.3907205919\t299.02929065400076\t169\t0:22\n",
      "56.5%\t28250\t-818543.5274393419\t301.33165561591306\t168\t0:22\n",
      "57.0%\t28500\t-817928.1270487169\t300.7158867340446\t168\t0:22\n",
      "57.5%\t28750\t-818746.8360330919\t302.8055127614589\t168\t0:21\n",
      "58.0%\t29000\t-816503.1973612169\t301.20845353018495\t168\t0:21\n",
      "58.5%\t29250\t-816536.1875955919\t298.6114954139126\t167\t0:21\n",
      "59.0%\t29500\t-817478.3477518419\t299.9059509574009\t167\t0:21\n",
      "59.5%\t29750\t-819038.4082987169\t301.8012029063784\t167\t0:20\n",
      "60.0%\t30000\t-818333.2188455919\t298.64464325404305\t167\t0:20\n",
      "60.5%\t30250\t-818648.0879862169\t300.33470277588043\t166\t0:20\n",
      "61.0%\t30500\t-818408.5137674669\t300.2867652924918\t166\t0:20\n",
      "61.5%\t30750\t-817901.9922830919\t300.58672709972825\t166\t0:20\n",
      "62.0%\t31000\t-817563.2461893419\t299.9076103317162\t166\t0:19\n",
      "62.5%\t31250\t-817759.3926737169\t300.97092647262446\t166\t0:19\n",
      "63.0%\t31500\t-818005.5372049669\t299.95526891570745\t166\t0:19\n",
      "63.5%\t31750\t-817979.4395487169\t298.0582616365972\t166\t0:18\n",
      "64.0%\t32000\t-818086.9454080919\t300.0960960762941\t166\t0:18\n",
      "64.5%\t32250\t-818062.2754862169\t299.9168133148269\t166\t0:18\n",
      "65.0%\t32500\t-817944.4219705919\t301.3504201960447\t166\t0:18\n",
      "65.5%\t32750\t-817525.1758768419\t301.49686545259675\t166\t0:17\n",
      "66.0%\t33000\t-817383.5411112169\t300.37670575849\t166\t0:17\n",
      "66.5%\t33250\t-817737.0430643419\t298.29567773817735\t166\t0:17\n",
      "67.0%\t33500\t-818093.9532205919\t301.1892292939502\t166\t0:17\n",
      "67.5%\t33750\t-818325.3809549669\t300.1249128146548\t166\t0:16\n",
      "68.0%\t34000\t-818243.8946268419\t299.43069022855684\t166\t0:16\n",
      "68.5%\t34250\t-819079.9864237169\t301.7043642941177\t166\t0:16\n",
      "69.0%\t34500\t-817566.9082987169\t299.39526609720275\t166\t0:16\n",
      "69.5%\t34750\t-818724.1387674669\t301.1170601094731\t166\t0:15\n",
      "70.0%\t35000\t-818192.6348612169\t301.29223123923094\t166\t0:15\n",
      "70.5%\t35250\t-817583.5489237169\t301.0884736410194\t166\t0:15\n",
      "71.0%\t35500\t-819305.1426737169\t301.74245173898584\t166\t0:15\n",
      "71.5%\t35750\t-817753.8614237169\t300.028343537151\t166\t0:14\n",
      "72.0%\t36000\t-817985.9004862169\t300.8475716899225\t165\t0:14\n",
      "72.5%\t36250\t-817727.6661112169\t300.3371229232611\t165\t0:14\n",
      "73.0%\t36500\t-818222.2500955919\t300.00084377895644\t165\t0:14\n",
      "73.5%\t36750\t-819031.1973612169\t300.91997828985444\t165\t0:13\n",
      "74.0%\t37000\t-817693.0352518419\t299.4967515345953\t165\t0:13\n",
      "74.5%\t37250\t-818565.0313455919\t301.4599813044305\t165\t0:13\n",
      "75.0%\t37500\t-818526.3399393419\t301.9701418615886\t165\t0:13\n",
      "75.5%\t37750\t-817443.2188455919\t300.08639562354244\t165\t0:12\n",
      "76.0%\t38000\t-817522.0918924669\t301.1789137389574\t165\t0:12\n",
      "76.5%\t38250\t-817371.4336893419\t300.94221252019634\t165\t0:12\n",
      "77.0%\t38500\t-816329.2911112169\t300.9290455432381\t165\t0:12\n",
      "77.5%\t38750\t-816084.3887674669\t300.3071018395854\t165\t0:11\n",
      "78.0%\t39000\t-816453.7032205919\t299.6700297377207\t165\t0:11\n",
      "78.5%\t39250\t-816911.3477518419\t300.82995454900185\t165\t0:11\n",
      "79.0%\t39500\t-818138.4200174669\t300.08820441701505\t165\t0:11\n",
      "79.5%\t39750\t-817958.1758768419\t301.9075719067945\t165\t0:10\n",
      "80.0%\t40000\t-817426.9356424669\t299.7022831499684\t165\t0:10\n",
      "80.5%\t40250\t-816949.5313455919\t299.7659542258717\t165\t0:10\n",
      "81.0%\t40500\t-817745.8184549669\t300.9742678163823\t165\t0:09\n",
      "81.5%\t40750\t-818055.9981424669\t301.42576784753976\t165\t0:09\n",
      "82.0%\t41000\t-816691.3672830919\t300.6667605589025\t165\t0:09\n",
      "82.5%\t41250\t-818180.8125955919\t301.5082229956384\t165\t0:09\n",
      "83.0%\t41500\t-818198.1543924669\t299.3739121458126\t165\t0:08\n",
      "83.5%\t41750\t-817851.8653299669\t299.61690286678817\t165\t0:08\n",
      "84.0%\t42000\t-818107.3399393419\t301.8143260423316\t165\t0:08\n",
      "84.5%\t42250\t-818942.6622049669\t303.34828165862064\t165\t0:08\n",
      "85.0%\t42500\t-817948.2305643419\t300.73218430067755\t165\t0:07\n",
      "85.5%\t42750\t-817442.8184549669\t299.6289798193425\t165\t0:07\n",
      "86.0%\t43000\t-817668.6739237169\t301.64766097675533\t165\t0:07\n",
      "86.5%\t43250\t-817642.4180643419\t300.4159521821131\t165\t0:07\n",
      "87.0%\t43500\t-816707.1719705919\t300.7947351095165\t165\t0:06\n",
      "87.5%\t43750\t-818402.2911112169\t302.0555810839449\t165\t0:06\n",
      "88.0%\t44000\t-817047.3711893419\t298.84809739720043\t165\t0:06\n",
      "88.5%\t44250\t-817457.0215799669\t298.3944106295879\t165\t0:06\n",
      "89.0%\t44500\t-817715.2110330919\t299.53890213617325\t164\t0:05\n",
      "89.5%\t44750\t-818125.3985330919\t299.63180734917887\t164\t0:05\n",
      "90.0%\t45000\t-817987.8965799669\t297.14520158987915\t164\t0:05\n",
      "90.5%\t45250\t-819758.1055643419\t300.7107696436704\t164\t0:04\n",
      "91.0%\t45500\t-817827.4766580919\t298.52735315478304\t164\t0:04\n",
      "91.5%\t45750\t-818512.2012674669\t299.916202327097\t164\t0:04\n",
      "92.0%\t46000\t-818708.7969705919\t300.1845354378099\t164\t0:04\n",
      "92.5%\t46250\t-817849.4102518419\t298.83913708422364\t164\t0:03\n",
      "93.0%\t46500\t-818010.9629862169\t301.59435619787797\t164\t0:03\n",
      "93.5%\t46750\t-817385.6407205919\t300.3387900825708\t164\t0:03\n",
      "94.0%\t47000\t-817401.8985330919\t298.6234571119449\t164\t0:03\n",
      "94.5%\t47250\t-817816.5215799669\t299.18297554040566\t163\t0:02\n",
      "95.0%\t47500\t-818297.6485330919\t301.2955023244172\t163\t0:02\n",
      "95.5%\t47750\t-818765.4727518419\t299.9807093556974\t163\t0:02\n",
      "96.0%\t48000\t-818739.0918924669\t298.9809334673048\t163\t0:02\n",
      "96.5%\t48250\t-817784.4649393419\t297.0543259965651\t163\t0:01\n",
      "97.0%\t48500\t-818641.4766580919\t298.0561932277667\t163\t0:01\n",
      "97.5%\t48750\t-818786.3086893419\t299.200905678337\t163\t0:01\n",
      "98.0%\t49000\t-818379.7598612169\t299.61800727633255\t163\t0:01\n",
      "98.5%\t49250\t-818293.7657205919\t299.2385339666352\t163\t0:00\n",
      "99.0%\t49500\t-817046.2344705919\t298.55268792643363\t163\t0:00\n",
      "99.5%\t49750\t-816977.3750955919\t300.33887666285057\t163\t0:00\n",
      "100.0%\t50000\t-817499.3887674669\t302.8448409684832\t163\t0:00\n"
     ]
    }
   ],
   "source": [
    "simulation.context.setVelocitiesToTemperature(300 * unit.kelvin)\n",
    "simulation.step(steps)  # perform the simulation"
   ]
  },
  {
   "cell_type": "code",
   "execution_count": 20,
   "metadata": {},
   "outputs": [
    {
     "name": "stdout",
     "output_type": "stream",
     "text": [
      "os.stat_result(st_mode=33204, st_ino=235276792, st_dev=2080, st_nlink=1, st_uid=1002, st_gid=1002, st_size=19045672, st_atime=1716187872, st_mtime=1716187926, st_ctime=1716187926)\n"
     ]
    }
   ],
   "source": [
    "# Check the trajectory exists and is not empty\n",
    "import os \n",
    "result = \"./trajectory.xtc\"\n",
    "file_info = os.stat(result)\n",
    "print(file_info)\n",
    "#result.stat().st_size > 0\n",
    "# NBVAL_CHECK_OUTPUT"
   ]
  },
  {
   "cell_type": "markdown",
   "metadata": {},
   "source": [
    "# Analysis MD Simulation results"
   ]
  },
  {
   "cell_type": "code",
   "execution_count": 21,
   "metadata": {},
   "outputs": [
    {
     "data": {
      "application/vnd.jupyter.widget-view+json": {
       "model_id": "a76eb0241ce9442388f3471a371d151d",
       "version_major": 2,
       "version_minor": 0
      },
      "text/plain": []
     },
     "metadata": {},
     "output_type": "display_data"
    }
   ],
   "source": [
    "from pathlib import Path\n",
    "\n",
    "import pandas as pd\n",
    "import numpy as np\n",
    "import matplotlib.pyplot as plt\n",
    "import nglview as nv\n",
    "import MDAnalysis as mda\n",
    "from MDAnalysis.analysis import rms, diffusionmap, align\n",
    "from MDAnalysis.analysis.distances import dist\n",
    "from MDAnalysis.analysis.hydrogenbonds.hbond_analysis import HydrogenBondAnalysis as HBA\n"
   ]
  },
  {
   "cell_type": "code",
   "execution_count": 22,
   "metadata": {},
   "outputs": [],
   "source": [
    "md_universe = mda.Universe(str(\"./topology.pdb\"), str(\"./trajectory.xtc\"))"
   ]
  },
  {
   "cell_type": "code",
   "execution_count": 23,
   "metadata": {},
   "outputs": [
    {
     "data": {
      "text/plain": [
       "<MDAnalysis.analysis.align.AlignTraj at 0x7fc695d04c10>"
      ]
     },
     "execution_count": 23,
     "metadata": {},
     "output_type": "execute_result"
    }
   ],
   "source": [
    "# Set trajectory pointer to first frame as reference\n",
    "md_universe.trajectory[0]\n",
    "\n",
    "# in_memory=True is needed to actually modify the loaded trajectory\n",
    "# if the trajectory is too big for memory, one can write out the aligned trajectory and reload it into a new universe\n",
    "alignment = align.AlignTraj(\n",
    "    mobile=md_universe, reference=md_universe, select=\"protein\", in_memory=True\n",
    ")\n",
    "alignment.run()"
   ]
  },
  {
   "cell_type": "code",
   "execution_count": 24,
   "metadata": {},
   "outputs": [],
   "source": [
    "def rmsd_for_atomgroups(universe, selection1, selection2=None):\n",
    "    \"\"\"Calulate the RMSD for selected atom groups.\n",
    "\n",
    "    Parameters\n",
    "    ----------\n",
    "    universe: MDAnalysis.core.universe.Universe\n",
    "        MDAnalysis universe.\n",
    "    selection1: str\n",
    "        Selection string for main atom group, also used during alignment.\n",
    "    selection2: list of str, optional\n",
    "        Selection strings for additional atom groups.\n",
    "\n",
    "    Returns\n",
    "    -------\n",
    "    rmsd_df: pandas.core.frame.DataFrame\n",
    "        DataFrame containing RMSD of the selected atom groups over time.\n",
    "    \"\"\"\n",
    "\n",
    "    universe.trajectory\n",
    "    ref = universe\n",
    "    rmsd_analysis = rms.RMSD(universe, ref, select=selection1, groupselections=selection2)\n",
    "    rmsd_analysis.run()\n",
    "\n",
    "    columns = [selection1, *selection2] if selection2 else [selection1]\n",
    "    #print(rmsd_analysis.results)\n",
    "    #print(rmsd_analysis)\n",
    "    rmsd_df = pd.DataFrame(np.round(rmsd_analysis.results.rmsd[:, 2:], 2), columns=columns)\n",
    "    rmsd_df.index.name = \"time\"\n",
    "    return rmsd_df"
   ]
  },
  {
   "cell_type": "code",
   "execution_count": 25,
   "metadata": {},
   "outputs": [],
   "source": [
    "rmsd = rmsd_for_atomgroups(md_universe, \"backbone\", [\"protein\", \"resname UNK\"])\n",
    "#rmsd[:20]"
   ]
  },
  {
   "cell_type": "code",
   "execution_count": 26,
   "metadata": {},
   "outputs": [
    {
     "data": {
      "text/html": [
       "<div>\n",
       "<style scoped>\n",
       "    .dataframe tbody tr th:only-of-type {\n",
       "        vertical-align: middle;\n",
       "    }\n",
       "\n",
       "    .dataframe tbody tr th {\n",
       "        vertical-align: top;\n",
       "    }\n",
       "\n",
       "    .dataframe thead th {\n",
       "        text-align: right;\n",
       "    }\n",
       "</style>\n",
       "<table border=\"1\" class=\"dataframe\">\n",
       "  <thead>\n",
       "    <tr style=\"text-align: right;\">\n",
       "      <th></th>\n",
       "      <th>backbone</th>\n",
       "      <th>protein</th>\n",
       "      <th>rank_1_ligand</th>\n",
       "    </tr>\n",
       "    <tr>\n",
       "      <th>time</th>\n",
       "      <th></th>\n",
       "      <th></th>\n",
       "      <th></th>\n",
       "    </tr>\n",
       "  </thead>\n",
       "  <tbody>\n",
       "    <tr>\n",
       "      <th>0</th>\n",
       "      <td>0.00</td>\n",
       "      <td>0.00</td>\n",
       "      <td>0.00</td>\n",
       "    </tr>\n",
       "    <tr>\n",
       "      <th>1</th>\n",
       "      <td>0.68</td>\n",
       "      <td>0.91</td>\n",
       "      <td>1.05</td>\n",
       "    </tr>\n",
       "    <tr>\n",
       "      <th>2</th>\n",
       "      <td>0.79</td>\n",
       "      <td>1.05</td>\n",
       "      <td>1.13</td>\n",
       "    </tr>\n",
       "    <tr>\n",
       "      <th>3</th>\n",
       "      <td>0.84</td>\n",
       "      <td>1.12</td>\n",
       "      <td>1.70</td>\n",
       "    </tr>\n",
       "    <tr>\n",
       "      <th>4</th>\n",
       "      <td>0.87</td>\n",
       "      <td>1.14</td>\n",
       "      <td>1.69</td>\n",
       "    </tr>\n",
       "  </tbody>\n",
       "</table>\n",
       "</div>"
      ],
      "text/plain": [
       "      backbone  protein  rank_1_ligand\n",
       "time                                  \n",
       "0         0.00     0.00           0.00\n",
       "1         0.68     0.91           1.05\n",
       "2         0.79     1.05           1.13\n",
       "3         0.84     1.12           1.70\n",
       "4         0.87     1.14           1.69"
      ]
     },
     "execution_count": 26,
     "metadata": {},
     "output_type": "execute_result"
    }
   ],
   "source": [
    "rmsd.rename(columns={\"resname UNK\": \"rank_1_ligand\"}, inplace=True)\n",
    "rmsd.head()"
   ]
  },
  {
   "cell_type": "code",
   "execution_count": 27,
   "metadata": {},
   "outputs": [
    {
     "data": {
      "image/png": "[encoded data removed]",
      "text/plain": [
       "<Figure size 640x480 with 1 Axes>"
      ]
     },
     "metadata": {},
     "output_type": "display_data"
    }
   ],
   "source": [
    "rmsd.plot(title=\"RMSD of protein and ligand\")\n",
    "plt.ylabel(\"RMSD (Å)\");"
   ]
  },
  {
   "cell_type": "code",
   "execution_count": 28,
   "metadata": {},
   "outputs": [],
   "source": [
    "#rmsd.to_csv(\"rank_1_rmsd_results.csv\")"
   ]
  },
  {
   "cell_type": "code",
   "execution_count": null,
   "metadata": {},
   "outputs": [],
   "source": []
  }
 ],
 "metadata": {
  "kernelspec": {
   "display_name": "Python 3",
   "language": "python",
   "name": "python3"
  },
  "language_info": {
   "codemirror_mode": {
    "name": "ipython",
    "version": 3
   },
   "file_extension": ".py",
   "mimetype": "text/x-python",
   "name": "python",
   "nbconvert_exporter": "python",
   "pygments_lexer": "ipython3",
   "version": "3.8.19"
  }
 },
 "nbformat": 4,
 "nbformat_minor": 2
}
