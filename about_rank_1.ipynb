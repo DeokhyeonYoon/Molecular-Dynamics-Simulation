{
 "cells": [
  {
   "cell_type": "markdown",
   "metadata": {},
   "source": [
    "# MD Simultaion "
   ]
  },
  {
   "cell_type": "code",
   "execution_count": 1,
   "metadata": {},
   "outputs": [],
   "source": [
    "import copy\n",
    "from pathlib import Path\n",
    "import sys\n",
    "\n",
    "import requests\n",
    "from IPython.display import display\n",
    "import numpy as np\n",
    "from rdkit import Chem\n",
    "from rdkit.Chem import Draw\n",
    "from rdkit.Chem import AllChem\n",
    "import mdtraj as md\n",
    "import pdbfixer\n",
    "import openmm as mm\n",
    "import openmm.app as app\n",
    "from openmm import unit\n",
    "from openff.toolkit.topology import Molecule, Topology\n",
    "from openmmforcefields.generators import GAFFTemplateGenerator"
   ]
  },
  {
   "cell_type": "code",
   "execution_count": 2,
   "metadata": {},
   "outputs": [],
   "source": [
    "import warnings\n",
    "\n",
    "# 경고를 무시하도록 설정합니다.\n",
    "#warnings.filterwarnings(\"ignore\", message=\"PDB file is missing resid information.\")\n",
    "#warnings.filterwarnings(\"ignore\", message=\"Reload offsets from trajectory\")\n",
    "#warnings.filterwarnings(\"ignore\", message=\"duplicate atom\")\n",
    "\n",
    "warnings.filterwarnings(\"ignore\")"
   ]
  },
  {
   "cell_type": "code",
   "execution_count": 3,
   "metadata": {},
   "outputs": [],
   "source": [
    "def prepare_protein(\n",
    "    pdb_file, ignore_missing_residues=True, ignore_terminal_missing_residues=True, ph=7.0\n",
    "):\n",
    "    \"\"\"\n",
    "    Use pdbfixer to prepare the protein from a PDB file. Hetero atoms such as ligands are\n",
    "    removed and non-standard residues replaced. Missing atoms to existing residues are added.\n",
    "    Missing residues are ignored by default, but can be included.\n",
    "\n",
    "    Parameters\n",
    "    ----------\n",
    "    pdb_file: pathlib.Path or str\n",
    "        PDB file containing the system to simulate.\n",
    "    ignore_missing_residues: bool, optional\n",
    "        If missing residues should be ignored or built.\n",
    "    ignore_terminal_missing_residues: bool, optional\n",
    "        If missing residues at the beginning and the end of a chain should be ignored or built.\n",
    "    ph: float, optional\n",
    "        pH value used to determine protonation state of residues\n",
    "\n",
    "    Returns\n",
    "    -------\n",
    "    fixer: pdbfixer.pdbfixer.PDBFixer\n",
    "        Prepared protein system.\n",
    "    \"\"\"\n",
    "    fixer = pdbfixer.PDBFixer(str(pdb_file))\n",
    "    fixer.removeHeterogens()  # co-crystallized ligands are unknown to PDBFixer\n",
    "    fixer.findMissingResidues()  # identify missing residues, needed for identification of missing atoms\n",
    "\n",
    "    # if missing terminal residues shall be ignored, remove them from the dictionary\n",
    "    if ignore_terminal_missing_residues:\n",
    "        chains = list(fixer.topology.chains())\n",
    "        keys = fixer.missingResidues.keys()\n",
    "        for key in list(keys):\n",
    "            chain = chains[key[0]]\n",
    "            if key[1] == 0 or key[1] == len(list(chain.residues())):\n",
    "                del fixer.missingResidues[key]\n",
    "\n",
    "    # if all missing residues shall be ignored ignored, clear the dictionary\n",
    "    if ignore_missing_residues:\n",
    "        fixer.missingResidues = {}\n",
    "\n",
    "    fixer.findNonstandardResidues()  # find non-standard residue\n",
    "    fixer.replaceNonstandardResidues()  # replace non-standard residues with standard one\n",
    "    fixer.findMissingAtoms()  # find missing heavy atoms\n",
    "    fixer.addMissingAtoms()  # add missing atoms and residues\n",
    "    fixer.addMissingHydrogens(ph)  # add missing hydrogens\n",
    "    return fixer"
   ]
  },
  {
   "cell_type": "code",
   "execution_count": 4,
   "metadata": {},
   "outputs": [],
   "source": [
    "prepare_protein = prepare_protein(\"./protein_rank_1_complex.pdb\", ignore_missing_residues=False)"
   ]
  },
  {
   "cell_type": "code",
   "execution_count": 5,
   "metadata": {},
   "outputs": [],
   "source": [
    "def prepare_ligand(pdb_file, resname, smiles, depict=True):\n",
    "    \"\"\"\n",
    "    Prepare a ligand from a PDB file via adding hydrogens and assigning bond orders. A depiction\n",
    "    of the ligand before and after preparation is rendered in 2D to allow an inspection of the\n",
    "    results. Huge thanks to @j-wags for the suggestion.\n",
    "\n",
    "    Parameters\n",
    "    ----------\n",
    "    pdb_file: pathlib.PosixPath\n",
    "       PDB file containing the ligand of interest.\n",
    "    resname: str\n",
    "        Three character residue name of the ligand.\n",
    "    smiles : str\n",
    "        SMILES string of the ligand informing about correct protonation and bond orders.\n",
    "    depict: bool, optional\n",
    "        show a 2D representation of the ligand\n",
    "\n",
    "    Returns\n",
    "    -------\n",
    "    prepared_ligand: rdkit.Chem.rdchem.Mol\n",
    "        Prepared ligand.\n",
    "    \"\"\"\n",
    "    # split molecule\n",
    "    rdkit_mol = Chem.MolFromPDBFile(str(pdb_file), proximityBonding=True, sanitize=False)\n",
    "    print(rdkit_mol)\n",
    "    rdkit_mol_split = Chem.rdmolops.SplitMolByPDBResidues(rdkit_mol)\n",
    "\n",
    "    # extract the ligand and remove any already present hydrogens\n",
    "    ligand = rdkit_mol_split[resname]\n",
    "    ligand = Chem.RemoveHs(ligand)\n",
    "\n",
    "    # assign bond orders from template\n",
    "    reference_mol = Chem.MolFromSmiles(smiles)\n",
    "    prepared_ligand = AllChem.AssignBondOrdersFromTemplate(reference_mol, ligand)\n",
    "    prepared_ligand.AddConformer(ligand.GetConformer(0))\n",
    "\n",
    "    # protonate ligand\n",
    "    prepared_ligand = Chem.rdmolops.AddHs(prepared_ligand, addCoords=True)\n",
    "    prepared_ligand = Chem.MolFromMolBlock(Chem.MolToMolBlock(prepared_ligand))\n",
    "\n",
    "    # 2D depiction\n",
    "    if depict:\n",
    "        ligand_2d = copy.deepcopy(ligand)\n",
    "        prepared_ligand_2d = copy.deepcopy(prepared_ligand)\n",
    "        AllChem.Compute2DCoords(ligand_2d)\n",
    "        AllChem.Compute2DCoords(prepared_ligand_2d)\n",
    "        display(\n",
    "            Draw.MolsToGridImage(\n",
    "                [ligand_2d, prepared_ligand_2d], molsPerRow=2, legends=[\"original\", \"prepared\"]\n",
    "            )\n",
    "        )\n",
    "\n",
    "    # return ligand\n",
    "    return prepared_ligand"
   ]
  },
  {
   "cell_type": "code",
   "execution_count": 6,
   "metadata": {},
   "outputs": [],
   "source": [
    "pdb_path = \"./protein_rank_1_complex.pdb\"\n",
    "ligand_name = \"UNL\"\n",
    "smiles = \"COc1ccccc1N1CCN(C(=O)Nc2ccccc2C)CC1\""
   ]
  },
  {
   "cell_type": "code",
   "execution_count": 7,
   "metadata": {},
   "outputs": [
    {
     "name": "stdout",
     "output_type": "stream",
     "text": [
      "<rdkit.Chem.rdchem.Mol object at 0x7f70dcfe63a0>\n"
     ]
    },
    {
     "name": "stderr",
     "output_type": "stream",
     "text": [
      "[14:21:29] WARNING: More than one matching pattern found - picking one\n",
      "\n"
     ]
    },
    {
     "data": {
      "image/png": "[encoded data removed]",
      "text/plain": [
       "<IPython.core.display.Image object>"
      ]
     },
     "metadata": {},
     "output_type": "display_data"
    }
   ],
   "source": [
    "rdkit_ligand = prepare_ligand(pdb_path, ligand_name, smiles)"
   ]
  },
  {
   "cell_type": "code",
   "execution_count": 8,
   "metadata": {},
   "outputs": [],
   "source": [
    "def rdkit_to_openmm(rdkit_mol, name=\"LIG\"):\n",
    "    \"\"\"\n",
    "    Convert an RDKit molecule to an OpenMM molecule.\n",
    "    Inspired by @hannahbrucemcdonald and @glass-w.\n",
    "\n",
    "    Parameters\n",
    "    ----------\n",
    "    rdkit_mol: rdkit.Chem.rdchem.Mol\n",
    "        RDKit molecule to convert.\n",
    "    name: str\n",
    "        Molecule name.\n",
    "\n",
    "    Returns\n",
    "    -------\n",
    "    omm_molecule: openmm.app.Modeller\n",
    "        OpenMM modeller object holding the molecule of interest.\n",
    "    \"\"\"\n",
    "    # convert RDKit to OpenFF\n",
    "    off_mol = Molecule.from_rdkit(rdkit_mol)\n",
    "    #print(off_mol)\n",
    "\n",
    "    # add name for molecule\n",
    "    off_mol.name = name\n",
    "    #print(off_mol.name)\n",
    "\n",
    "    # add names for atoms\n",
    "    element_counter_dict = {}\n",
    "    for off_atom, rdkit_atom in zip(off_mol.atoms, rdkit_mol.GetAtoms()):\n",
    "        element = rdkit_atom.GetSymbol()\n",
    "        if element in element_counter_dict.keys():\n",
    "            element_counter_dict[element] += 1\n",
    "        else:\n",
    "            element_counter_dict[element] = 1\n",
    "        off_atom.name = element + str(element_counter_dict[element])\n",
    "    #print(element_counter_dict)\n",
    "\n",
    "    # convert from OpenFF to OpenMM\n",
    "    off_mol_topology = off_mol.to_topology()\n",
    "    mol_topology = off_mol_topology.to_openmm()\n",
    "    #print(mol_topology)\n",
    "    mol_positions = off_mol.conformers[0]\n",
    "    #print(mol_positions)\n",
    "\n",
    "    # convert units from Ångström to nanometers\n",
    "    # since OpenMM works in nm\n",
    "    mol_positions = mol_positions.to(\"nanometers\")\n",
    "    #print(mol_positions)\n",
    "\n",
    "    # combine topology and positions in modeller object\n",
    "    omm_mol = app.Modeller(mol_topology, mol_positions)\n",
    "\n",
    "    return omm_mol"
   ]
  },
  {
   "cell_type": "code",
   "execution_count": 9,
   "metadata": {},
   "outputs": [],
   "source": [
    "omm_ligand = rdkit_to_openmm(rdkit_ligand, ligand_name)"
   ]
  },
  {
   "cell_type": "code",
   "execution_count": 10,
   "metadata": {},
   "outputs": [],
   "source": [
    "def merge_protein_and_ligand(protein, ligand):\n",
    "    \"\"\"\n",
    "    Merge two OpenMM objects.\n",
    "\n",
    "    Parameters\n",
    "    ----------\n",
    "    protein: pdbfixer.pdbfixer.PDBFixer\n",
    "        Protein to merge.\n",
    "    ligand: openmm.app.Modeller\n",
    "        Ligand to merge.\n",
    "\n",
    "    Returns\n",
    "    -------\n",
    "    complex_topology: openmm.app.topology.Topology\n",
    "        The merged topology.\n",
    "    complex_positions: openmm.unit.quantity.Quantity\n",
    "        The merged positions.\n",
    "    \"\"\"\n",
    "    # combine topologies\n",
    "    md_protein_topology = md.Topology.from_openmm(protein.topology)  # using mdtraj for protein top\n",
    "    #print(md_protein_topology)\n",
    "    md_ligand_topology = md.Topology.from_openmm(ligand.topology)  # using mdtraj for ligand top\n",
    "    #print(md_ligand_topology)\n",
    "    md_complex_topology = md_protein_topology.join(md_ligand_topology)  # add them together\n",
    "    #print(md_complex_topology)\n",
    "    complex_topology = md_complex_topology.to_openmm()\n",
    "    #print(complex_topology)\n",
    "\n",
    "    # combine positions\n",
    "    total_atoms = len(protein.positions) + len(ligand.positions)\n",
    "\n",
    "    # create an array for storing all atom positions as tupels containing a value and a unit\n",
    "    # called OpenMM Quantities\n",
    "    complex_positions = unit.Quantity(np.zeros([total_atoms, 3]), unit=unit.nanometers)\n",
    "    complex_positions[: len(protein.positions)] = protein.positions  # add protein positions\n",
    "    complex_positions[len(protein.positions) :] = ligand.positions  # add ligand positions\n",
    "\n",
    "    return complex_topology, complex_positions"
   ]
  },
  {
   "cell_type": "code",
   "execution_count": 11,
   "metadata": {},
   "outputs": [],
   "source": [
    "complex_topology, complex_positions = merge_protein_and_ligand(prepare_protein, omm_ligand)"
   ]
  },
  {
   "cell_type": "code",
   "execution_count": 12,
   "metadata": {},
   "outputs": [
    {
     "name": "stdout",
     "output_type": "stream",
     "text": [
      "Complex topology has 4208 atoms.\n"
     ]
    }
   ],
   "source": [
    "print(\"Complex topology has\", complex_topology.getNumAtoms(), \"atoms.\")\n",
    "# NBVAL_CHECK_OUTPUT"
   ]
  },
  {
   "cell_type": "code",
   "execution_count": 13,
   "metadata": {},
   "outputs": [],
   "source": [
    "def generate_forcefield(\n",
    "    rdkit_mol=None, protein_ff=\"amber14-all.xml\", solvent_ff=\"amber14/tip3pfb.xml\"\n",
    "):\n",
    "    \"\"\"\n",
    "    Generate an OpenMM Forcefield object and register a small molecule.\n",
    "\n",
    "    Parameters\n",
    "    ----------\n",
    "    rdkit_mol: rdkit.Chem.rdchem.Mol\n",
    "        Small molecule to register in the force field.\n",
    "    protein_ff: string\n",
    "        Name of the force field.\n",
    "    solvent_ff: string\n",
    "        Name of the solvent force field.\n",
    "\n",
    "    Returns\n",
    "    -------\n",
    "    forcefield: openmm.app.Forcefield\n",
    "        Forcefield with registered small molecule.\n",
    "    \"\"\"\n",
    "    forcefield = app.ForceField(protein_ff, solvent_ff)\n",
    "\n",
    "    if rdkit_mol is not None:\n",
    "        gaff = GAFFTemplateGenerator(\n",
    "            molecules=Molecule.from_rdkit(rdkit_mol, allow_undefined_stereo=True)\n",
    "        )\n",
    "        forcefield.registerTemplateGenerator(gaff.generator)\n",
    "\n",
    "    return forcefield"
   ]
  },
  {
   "cell_type": "code",
   "execution_count": 14,
   "metadata": {},
   "outputs": [],
   "source": [
    "forcefield = generate_forcefield(rdkit_ligand)"
   ]
  },
  {
   "cell_type": "code",
   "execution_count": 15,
   "metadata": {},
   "outputs": [
    {
     "name": "stderr",
     "output_type": "stream",
     "text": [
      "/bin/bash: /home/media/data2/user_home/dbsejrgus226/miniconda3/envs/MD/lib/libtinfo.so.6: no version information available (required by /bin/bash)\n",
      "/bin/bash: /home/media/data2/user_home/dbsejrgus226/miniconda3/envs/MD/lib/libtinfo.so.6: no version information available (required by /bin/bash)\n",
      "/bin/bash: /home/media/data2/user_home/dbsejrgus226/miniconda3/envs/MD/lib/libtinfo.so.6: no version information available (required by /bin/bash)\n",
      "/bin/bash: /home/media/data2/user_home/dbsejrgus226/miniconda3/envs/MD/lib/libtinfo.so.6: no version information available (required by /bin/bash)\n",
      "/bin/bash: /home/media/data2/user_home/dbsejrgus226/miniconda3/envs/MD/lib/libtinfo.so.6: no version information available (required by /bin/bash)\n",
      "/bin/bash: /home/media/data2/user_home/dbsejrgus226/miniconda3/envs/MD/lib/libtinfo.so.6: no version information available (required by /bin/bash)\n",
      "Warning: importing 'simtk.openmm' is deprecated.  Import 'openmm' instead.\n"
     ]
    }
   ],
   "source": [
    "modeller = app.Modeller(complex_topology, complex_positions)\n",
    "modeller.addSolvent(forcefield, padding=1.5 * unit.nanometers, ionicStrength=0.15 * unit.molar)"
   ]
  },
  {
   "cell_type": "code",
   "execution_count": 16,
   "metadata": {},
   "outputs": [],
   "source": [
    "system = forcefield.createSystem(modeller.topology, nonbondedMethod=app.NoCutoff)\n",
    "integrator = mm.LangevinIntegrator(\n",
    "    309.65 * unit.kelvin, 1.0 / unit.picoseconds, 2.0 * unit.femtoseconds\n",
    ")\n",
    "simulation = app.Simulation(modeller.topology, system, integrator)\n",
    "simulation.context.setPositions(modeller.positions)"
   ]
  },
  {
   "cell_type": "code",
   "execution_count": 17,
   "metadata": {},
   "outputs": [],
   "source": [
    "simulation.minimizeEnergy()\n",
    "with open(\"topology_ns1_1.pdb\", \"w\") as pdb_file:\n",
    "    app.PDBFile.writeFile(\n",
    "        simulation.topology,\n",
    "        simulation.context.getState(getPositions=True, enforcePeriodicBox=True).getPositions(),\n",
    "        file=pdb_file,\n",
    "        keepIds=True,\n",
    "    )"
   ]
  },
  {
   "cell_type": "code",
   "execution_count": 18,
   "metadata": {},
   "outputs": [],
   "source": [
    "# output settings\n",
    "# during 1 ps simulation\n",
    "\n",
    "steps = 50000  # corresponds to 100 fs\n",
    "write_interval = 500  # write every 10 fs\n",
    "log_interval = 250  # log progress to stdout every 5 fs\n",
    "simulation.reporters.append(\n",
    "    md.reporters.XTCReporter(file=str(\"trajectory_1.xtc\"), reportInterval=write_interval)\n",
    ")\n",
    "simulation.reporters.append(\n",
    "    app.StateDataReporter(\n",
    "        sys.stdout,\n",
    "        log_interval,\n",
    "        step=True,\n",
    "        potentialEnergy=True,\n",
    "        temperature=True,\n",
    "        progress=True,\n",
    "        remainingTime=True,\n",
    "        speed=True,\n",
    "        totalSteps=steps,\n",
    "        separator=\"\\t\",\n",
    "    )\n",
    ")"
   ]
  },
  {
   "cell_type": "code",
   "execution_count": 18,
   "metadata": {},
   "outputs": [],
   "source": [
    "# output settings\n",
    "# during 1 ns simulation\n",
    "\n",
    "steps = 50000000  # corresponds to 100 fs\n",
    "write_interval = 500  # write every 10 fs\n",
    "log_interval = 500  # log progress to stdout every 5 fs\n",
    "simulation.reporters.append(\n",
    "    md.reporters.XTCReporter(file=str(\"trajectory_ns1_1.xtc\"), reportInterval=write_interval)\n",
    ")\n",
    "simulation.reporters.append(\n",
    "    app.StateDataReporter(\n",
    "        sys.stdout,\n",
    "        log_interval,\n",
    "        step=True,\n",
    "        potentialEnergy=True,\n",
    "        temperature=True,\n",
    "        progress=True,\n",
    "        remainingTime=True,\n",
    "        speed=True,\n",
    "        totalSteps=steps,\n",
    "        separator=\"\\t\",\n",
    "    )\n",
    ")"
   ]
  },
  {
   "cell_type": "code",
   "execution_count": 19,
   "metadata": {},
   "outputs": [
    {
     "name": "stdout",
     "output_type": "stream",
     "text": [
      "#\"Progress (%)\"\t\"Step\"\t\"Potential Energy (kJ/mole)\"\t\"Temperature (K)\"\t\"Speed (ns/day)\"\t\"Time Remaining\"\n",
      "0.0%\t500\t-1009409.3125\t246.89350764504368\t0\t--\n",
      "0.0%\t1000\t-982969.8125\t282.29330144499306\t10.6\t9:10:20:20\n",
      "0.0%\t1500\t-971614.125\t299.82176305912793\t10.6\t9:11:24:06\n",
      "0.0%\t2000\t-965182.125\t303.28377661996643\t10.5\t9:12:27:29\n",
      "0.0%\t2500\t-959880.75\t305.6838244356911\t10.4\t9:13:47:15\n",
      "0.0%\t3000\t-959739.875\t306.3593842090942\t10.3\t9:17:11:51\n",
      "0.0%\t3500\t-959543.0\t309.15025669859835\t10.2\t9:19:53:45\n",
      "0.0%\t4000\t-960157.125\t310.1409802313585\t10.1\t9:21:31:21\n",
      "0.0%\t4500\t-960151.875\t310.97885351412924\t10\t9:23:01:13\n",
      "0.0%\t5000\t-959911.125\t310.0137658063007\t9.99\t10:0:05:53\n",
      "0.0%\t5500\t-959207.25\t310.23511189153646\t9.96\t10:1:02:06\n",
      "0.0%\t6000\t-957258.625\t310.11519382519003\t9.93\t10:1:42:35\n",
      "0.0%\t6500\t-957393.5625\t310.5767264776356\t9.91\t10:2:10:37\n",
      "0.0%\t7000\t-956937.8125\t311.17117794383046\t9.88\t10:2:47:28\n",
      "0.0%\t7500\t-956658.5\t311.589345075416\t9.87\t10:3:10:08\n",
      "0.0%\t8000\t-956652.625\t310.9873187226771\t9.86\t10:3:27:39\n",
      "0.0%\t8500\t-956901.125\t309.99595528148734\t9.84\t10:3:50:42\n",
      "0.0%\t9000\t-957748.1875\t309.675747351546\t9.83\t10:4:07:11\n",
      "0.0%\t9500\t-958477.625\t310.6348772135263\t9.82\t10:4:18:13\n",
      "0.0%\t10000\t-959227.625\t308.6168265482084\t9.81\t10:4:37:56\n",
      "0.0%\t10500\t-959904.5\t309.1772286210902\t9.8\t10:4:51:30\n",
      "0.0%\t11000\t-960005.4375\t310.20751028637994\t9.79\t10:5:00:37\n",
      "0.0%\t11500\t-959476.5\t309.45547305017226\t9.79\t10:5:05:11\n",
      "0.0%\t12000\t-958799.75\t309.71853020031966\t9.78\t10:5:15:13\n",
      "0.0%\t12500\t-960192.0\t309.7651188625792\t9.78\t10:5:22:41\n",
      "0.0%\t13000\t-959935.375\t311.75485227618316\t9.77\t10:5:28:16\n",
      "0.0%\t13500\t-960273.25\t310.2789241091638\t9.77\t10:5:33:48\n",
      "0.0%\t14000\t-959300.125\t310.77726450648805\t9.77\t10:5:37:41\n",
      "0.0%\t14500\t-960064.875\t311.20042925383655\t9.76\t10:5:46:58\n",
      "0.0%\t15000\t-960070.625\t308.661673499855\t9.76\t10:5:53:46\n",
      "0.0%\t15500\t-960143.3125\t310.1986941575624\t9.76\t10:5:56:17\n",
      "0.0%\t16000\t-959663.0625\t309.61026833813565\t9.75\t10:5:59:19\n",
      "0.0%\t16500\t-959729.125\t310.4578849829869\t9.75\t10:6:02:38\n",
      "0.0%\t17000\t-958820.0625\t309.7864198597977\t9.75\t10:6:04:32\n",
      "0.0%\t17500\t-959429.25\t308.6404957699387\t9.75\t10:6:06:27\n",
      "0.0%\t18000\t-959584.125\t312.0206078873914\t9.75\t10:6:08:47\n",
      "0.0%\t18500\t-960367.25\t311.1416040500109\t9.75\t10:6:10:42\n",
      "0.0%\t19000\t-961533.4375\t308.75396651759263\t9.74\t10:6:11:39\n",
      "0.0%\t19500\t-960638.875\t308.81509397314437\t9.74\t10:6:13:22\n",
      "0.0%\t20000\t-959639.375\t308.39998395878683\t9.74\t10:6:17:02\n",
      "0.0%\t20500\t-960765.4375\t310.3969239747781\t9.74\t10:6:19:55\n",
      "0.0%\t21000\t-961151.875\t308.99949726539694\t9.74\t10:6:20:47\n",
      "0.0%\t21500\t-960800.625\t309.7407978112422\t9.74\t10:6:24:47\n",
      "0.0%\t22000\t-959405.125\t309.27643010870827\t9.74\t10:6:25:08\n",
      "0.0%\t22500\t-959219.5\t308.6553829702059\t9.73\t10:6:27:16\n",
      "0.0%\t23000\t-961031.1875\t310.8608319472385\t9.73\t10:6:28:49\n",
      "0.0%\t23500\t-959452.5\t307.79714934670255\t9.73\t10:6:28:54\n",
      "0.0%\t24000\t-960922.625\t310.68108489120965\t9.73\t10:6:31:43\n",
      "0.0%\t24500\t-960498.5\t309.0391551055345\t9.73\t10:6:32:08\n",
      "0.1%\t25000\t-961540.75\t310.73675369186776\t9.73\t10:6:35:46\n",
      "0.1%\t25500\t-960488.75\t307.6426253218545\t9.73\t10:6:37:57\n",
      "0.1%\t26000\t-959490.125\t308.9169290819495\t9.73\t10:6:38:25\n",
      "0.1%\t26500\t-960102.75\t308.78509550929675\t9.72\t10:6:41:15\n",
      "0.1%\t27000\t-960369.625\t310.8066219695165\t9.72\t10:6:41:51\n",
      "0.1%\t27500\t-960080.5625\t309.80918614827385\t9.72\t10:6:41:53\n",
      "0.1%\t28000\t-959723.3125\t309.85459925735546\t9.72\t10:6:42:15\n",
      "0.1%\t28500\t-961114.875\t314.3663937512845\t9.72\t10:6:42:48\n",
      "0.1%\t29000\t-960375.375\t311.5683246796375\t9.72\t10:6:43:31\n",
      "0.1%\t29500\t-960831.6875\t309.9540378834021\t9.72\t10:6:43:59\n",
      "0.1%\t30000\t-962138.375\t309.3120497929521\t9.72\t10:6:45:01\n",
      "0.1%\t30500\t-961617.125\t307.9094582171593\t9.72\t10:6:45:30\n",
      "0.1%\t31000\t-961852.25\t310.2981565306957\t9.72\t10:6:47:26\n",
      "0.1%\t31500\t-962521.0\t310.6303780972237\t9.72\t10:6:47:44\n",
      "0.1%\t32000\t-961655.375\t308.38904998759557\t9.72\t10:6:49:46\n",
      "0.1%\t32500\t-960637.5\t308.915759850035\t9.72\t10:6:51:51\n",
      "0.1%\t33000\t-961458.5\t312.492021052644\t9.72\t10:6:51:44\n",
      "0.1%\t33500\t-960690.3125\t310.05777975842716\t9.72\t10:6:51:46\n",
      "0.1%\t34000\t-960929.875\t309.320430398444\t9.71\t10:6:52:32\n",
      "0.1%\t34500\t-963025.75\t311.71288540711026\t9.71\t10:6:52:18\n",
      "0.1%\t35000\t-962029.1875\t309.07098453133705\t9.71\t10:6:52:09\n",
      "0.1%\t35500\t-961715.75\t309.6433141516904\t9.71\t10:6:52:08\n",
      "0.1%\t36000\t-961873.25\t310.7545741469847\t9.71\t10:6:52:06\n",
      "0.1%\t36500\t-962246.5\t311.60733451094916\t9.71\t10:6:53:36\n",
      "0.1%\t37000\t-962393.5\t309.24929697676976\t9.71\t10:6:54:03\n",
      "0.1%\t37500\t-961895.1875\t309.52616031388874\t9.71\t10:6:55:03\n",
      "0.1%\t38000\t-962229.9375\t309.27964654797603\t9.71\t10:6:56:26\n",
      "0.1%\t38500\t-963206.9375\t309.80483062883866\t9.71\t10:6:56:45\n",
      "0.1%\t39000\t-963711.125\t311.55349267274295\t9.71\t10:6:56:36\n",
      "0.1%\t39500\t-961828.875\t309.32814279814994\t9.71\t10:6:56:37\n",
      "0.1%\t40000\t-961628.0625\t311.59531945150724\t9.71\t10:6:56:07\n",
      "0.1%\t40500\t-961784.625\t311.8651809772364\t9.71\t10:6:56:16\n",
      "0.1%\t41000\t-961373.875\t308.3801719826322\t9.71\t10:6:55:46\n",
      "0.1%\t41500\t-962162.25\t308.8010750929074\t9.71\t10:6:55:16\n",
      "0.1%\t42000\t-962301.375\t309.08178301987186\t9.71\t10:6:55:41\n",
      "0.1%\t42500\t-963039.875\t310.16005185915645\t9.71\t10:6:56:25\n",
      "0.1%\t43000\t-961572.375\t309.629562884136\t9.71\t10:6:55:30\n",
      "0.1%\t43500\t-961745.3125\t310.0975038411086\t9.71\t10:6:55:29\n",
      "0.1%\t44000\t-960860.6875\t308.90782876915176\t9.71\t10:6:55:52\n",
      "0.1%\t44500\t-959993.0\t310.3835010267952\t9.71\t10:6:54:52\n",
      "0.1%\t45000\t-961701.625\t308.44272746875373\t9.71\t10:6:54:47\n",
      "0.1%\t45500\t-962507.625\t308.84938737494804\t9.71\t10:6:54:50\n",
      "0.1%\t46000\t-962883.4375\t309.541726524043\t9.71\t10:6:55:09\n",
      "0.1%\t46500\t-961618.25\t310.1254857483749\t9.71\t10:6:55:17\n",
      "0.1%\t47000\t-961730.125\t310.90725787394416\t9.71\t10:6:55:40\n",
      "0.1%\t47500\t-961716.5\t309.5595862998428\t9.71\t10:6:55:42\n",
      "0.1%\t48000\t-960916.5\t310.16053109570527\t9.71\t10:6:55:55\n",
      "0.1%\t48500\t-961529.875\t308.9189876136523\t9.71\t10:6:56:14\n",
      "0.1%\t49000\t-963033.5\t311.29320586453565\t9.71\t10:6:56:24\n",
      "0.1%\t49500\t-961334.375\t310.6828853798864\t9.71\t10:6:56:35\n",
      "0.1%\t50000\t-961776.4375\t311.44945412309636\t9.71\t10:6:56:47\n",
      "0.1%\t50500\t-960611.125\t307.1098741659975\t9.71\t10:6:57:00\n",
      "0.1%\t51000\t-961273.1875\t309.4486800945\t9.71\t10:6:57:13\n",
      "0.1%\t51500\t-960729.125\t308.30884815135045\t9.71\t10:6:57:24\n",
      "0.1%\t52000\t-960553.0\t310.85705881784713\t9.71\t10:6:57:34\n",
      "0.1%\t52500\t-961116.5\t310.5737210301044\t9.71\t10:6:57:48\n",
      "0.1%\t53000\t-960545.5\t307.86552376332156\t9.71\t10:6:57:57\n",
      "0.1%\t53500\t-962747.4375\t311.8380830410111\t9.71\t10:6:58:06\n",
      "0.1%\t54000\t-962157.3125\t309.7240346149772\t9.71\t10:6:58:15\n",
      "0.1%\t54500\t-962283.5\t310.39121521159393\t9.71\t10:6:58:23\n",
      "0.1%\t55000\t-962848.75\t310.32636915315356\t9.71\t10:6:58:20\n",
      "0.1%\t55500\t-963150.8125\t308.5196026211906\t9.71\t10:6:58:27\n",
      "0.1%\t56000\t-962672.4375\t309.1828393906467\t9.71\t10:6:58:37\n",
      "0.1%\t56500\t-961466.875\t309.80379363686416\t9.71\t10:6:58:45\n",
      "0.1%\t57000\t-961347.5\t308.28355529146086\t9.71\t10:6:58:54\n",
      "0.1%\t57500\t-961984.5\t311.78509724729565\t9.71\t10:6:58:59\n",
      "0.1%\t58000\t-962479.25\t311.769488315052\t9.71\t10:6:59:09\n",
      "0.1%\t58500\t-962152.0\t309.36131173481215\t9.71\t10:6:59:08\n",
      "0.1%\t59000\t-962678.875\t310.41793941553266\t9.71\t10:6:59:14\n",
      "0.1%\t59500\t-961434.75\t308.1777353243077\t9.71\t10:6:59:20\n",
      "0.1%\t60000\t-960913.125\t308.0155210655459\t9.71\t10:6:59:33\n",
      "0.1%\t60500\t-961600.5\t309.89192667795623\t9.71\t10:6:59:40\n",
      "0.1%\t61000\t-960336.875\t310.8087764406785\t9.7\t10:6:59:51\n",
      "0.1%\t61500\t-961583.75\t308.6830739552854\t9.7\t10:7:00:01\n",
      "0.1%\t62000\t-960529.25\t307.5925840272533\t9.7\t10:7:00:10\n",
      "0.1%\t62500\t-963062.0\t310.64704880075175\t9.7\t10:7:00:23\n",
      "0.1%\t63000\t-963149.1875\t309.1190383576161\t9.7\t10:7:00:06\n",
      "0.1%\t63500\t-962031.625\t309.3723092423423\t9.7\t10:7:00:10\n",
      "0.1%\t64000\t-964236.375\t311.57945852514536\t9.7\t10:7:00:03\n",
      "0.1%\t64500\t-962821.25\t308.80174675105013\t9.7\t10:6:59:58\n",
      "0.1%\t65000\t-963111.125\t309.3013721839159\t9.7\t10:6:59:52\n",
      "0.1%\t65500\t-961926.75\t309.4181024807234\t9.7\t10:6:59:55\n",
      "0.1%\t66000\t-962144.375\t309.80635736332835\t9.7\t10:7:00:00\n",
      "0.1%\t66500\t-961826.625\t310.2071001038835\t9.7\t10:7:00:07\n",
      "0.1%\t67000\t-962051.875\t309.28430128946155\t9.7\t10:7:00:09\n",
      "0.1%\t67500\t-962971.9375\t308.4298887849428\t9.7\t10:7:00:10\n",
      "0.1%\t68000\t-962122.5\t310.00076633098274\t9.7\t10:7:00:13\n",
      "0.1%\t68500\t-961449.1875\t309.5926638809885\t9.7\t10:7:00:16\n",
      "0.1%\t69000\t-961815.6875\t309.41419829646804\t9.7\t10:7:00:21\n",
      "0.1%\t69500\t-964161.875\t312.46400289049035\t9.7\t10:7:00:28\n",
      "0.1%\t70000\t-963487.75\t309.171632191447\t9.7\t10:7:00:32\n",
      "0.1%\t70500\t-963230.5\t311.02628109515746\t9.7\t10:7:00:32\n",
      "0.1%\t71000\t-963990.5\t310.66693926636816\t9.7\t10:7:00:37\n",
      "0.1%\t71500\t-962959.1875\t307.3641156938717\t9.7\t10:7:00:39\n",
      "0.1%\t72000\t-963530.625\t309.7288107003416\t9.7\t10:7:00:41\n",
      "0.1%\t72500\t-963883.625\t308.9472122417693\t9.7\t10:7:00:42\n",
      "0.1%\t73000\t-963269.75\t310.14966574445\t9.7\t10:7:00:44\n",
      "0.1%\t73500\t-961208.5\t309.9489388280613\t9.7\t10:7:00:39\n",
      "0.1%\t74000\t-960879.875\t306.2987287778654\t9.7\t10:7:00:42\n",
      "0.1%\t74500\t-962469.375\t307.83051518328006\t9.7\t10:7:00:44\n",
      "0.1%\t75000\t-963209.875\t309.92268998746147\t9.7\t10:7:00:44\n",
      "0.2%\t75500\t-961583.0\t311.22356127675255\t9.7\t10:7:00:46\n",
      "0.2%\t76000\t-961848.625\t310.23704513554344\t9.7\t10:7:00:47\n",
      "0.2%\t76500\t-961939.75\t309.6602400883772\t9.7\t10:7:00:49\n",
      "0.2%\t77000\t-961302.0\t307.99959022840494\t9.7\t10:7:00:50\n",
      "0.2%\t77500\t-962540.375\t310.05534060099546\t9.7\t10:7:00:50\n",
      "0.2%\t78000\t-961403.8125\t309.73998896888065\t9.7\t10:7:00:50\n",
      "0.2%\t78500\t-961973.75\t310.09711988730174\t9.7\t10:7:00:50\n",
      "0.2%\t79000\t-960271.25\t309.1481913353001\t9.7\t10:7:00:50\n",
      "0.2%\t79500\t-962376.0625\t313.49638426389214\t9.7\t10:7:00:49\n",
      "0.2%\t80000\t-960410.5\t311.6514531284168\t9.7\t10:7:00:50\n",
      "0.2%\t80500\t-960847.125\t310.8777659637553\t9.7\t10:7:00:50\n",
      "0.2%\t81000\t-958273.4375\t309.714223429889\t9.7\t10:7:00:49\n",
      "0.2%\t81500\t-962006.875\t311.7548974191484\t9.7\t10:7:00:44\n",
      "0.2%\t82000\t-960665.75\t310.4224073103432\t9.7\t10:7:00:45\n",
      "0.2%\t82500\t-961264.625\t309.74643270822867\t9.7\t10:7:00:47\n",
      "0.2%\t83000\t-963193.25\t310.1338966658106\t9.7\t10:7:00:48\n",
      "0.2%\t83500\t-964523.0\t309.99766583777216\t9.7\t10:7:00:48\n",
      "0.2%\t84000\t-963253.375\t310.5689659090547\t9.7\t10:7:00:46\n",
      "0.2%\t84500\t-962336.875\t311.2591207505448\t9.7\t10:7:00:45\n",
      "0.2%\t85000\t-961572.9375\t309.2105720097795\t9.7\t10:7:00:44\n",
      "0.2%\t85500\t-962319.4375\t311.4693063743239\t9.7\t10:7:00:40\n",
      "0.2%\t86000\t-962515.5\t311.46376986929613\t9.7\t10:7:00:34\n",
      "0.2%\t86500\t-962647.625\t309.36494057689396\t9.7\t10:7:00:31\n",
      "0.2%\t87000\t-963019.1875\t309.13709913287926\t9.7\t10:7:00:29\n",
      "0.2%\t87500\t-963108.75\t309.1006559512949\t9.7\t10:7:00:25\n",
      "0.2%\t88000\t-962908.0\t309.8060872349416\t9.7\t10:7:00:21\n",
      "0.2%\t88500\t-962357.125\t308.51684032552936\t9.7\t10:7:00:16\n",
      "0.2%\t89000\t-962185.8125\t310.93016312953597\t9.7\t10:7:00:14\n",
      "0.2%\t89500\t-961496.1875\t311.31414057484\t9.7\t10:7:00:10\n",
      "0.2%\t90000\t-962629.875\t309.59297571785606\t9.7\t10:7:00:08\n",
      "0.2%\t90500\t-961958.875\t308.8532086268052\t9.7\t10:7:00:06\n",
      "0.2%\t91000\t-960174.25\t308.97254698980765\t9.7\t10:7:00:04\n",
      "0.2%\t91500\t-963034.0\t311.23444468162586\t9.7\t10:7:00:02\n",
      "0.2%\t92000\t-962035.625\t307.4439158818334\t9.7\t10:7:00:00\n",
      "0.2%\t92500\t-963036.4375\t309.78719189132283\t9.7\t10:6:59:57\n",
      "0.2%\t93000\t-963270.625\t310.09043405618206\t9.7\t10:6:59:53\n",
      "0.2%\t93500\t-961891.25\t308.3343101576283\t9.7\t10:6:59:49\n",
      "0.2%\t94000\t-962541.375\t307.8332853545782\t9.7\t10:6:59:41\n",
      "0.2%\t94500\t-962178.375\t310.07905963624864\t9.7\t10:6:59:34\n",
      "0.2%\t95000\t-961838.75\t306.7757261217057\t9.7\t10:6:59:30\n",
      "0.2%\t95500\t-962456.75\t309.32792647028634\t9.7\t10:6:59:27\n",
      "0.2%\t96000\t-962464.5625\t308.8047827466575\t9.7\t10:6:59:24\n",
      "0.2%\t96500\t-962488.0\t309.5564246274417\t9.7\t10:6:59:16\n",
      "0.2%\t97000\t-962538.0625\t310.8683084955509\t9.7\t10:6:59:11\n",
      "0.2%\t97500\t-961971.75\t309.69820047239847\t9.7\t10:6:59:08\n",
      "0.2%\t98000\t-962897.9375\t308.98485294511875\t9.7\t10:6:59:05\n",
      "0.2%\t98500\t-962000.125\t308.95503572412923\t9.7\t10:6:59:01\n",
      "0.2%\t99000\t-964153.0\t311.1083332689227\t9.7\t10:6:58:57\n",
      "0.2%\t99500\t-963103.5\t309.1652168101756\t9.7\t10:6:58:51\n",
      "0.2%\t100000\t-962081.875\t308.03560758542113\t9.7\t10:6:58:46\n",
      "0.2%\t100500\t-962770.0625\t309.23275502787425\t9.7\t10:6:58:41\n",
      "0.2%\t101000\t-963541.625\t310.80082614120516\t9.7\t10:6:58:37\n",
      "0.2%\t101500\t-960665.5\t308.17576311505815\t9.7\t10:6:58:34\n",
      "0.2%\t102000\t-961897.0625\t309.2197242948707\t9.7\t10:6:58:28\n",
      "0.2%\t102500\t-960472.5\t309.8944884909137\t9.7\t10:6:58:27\n",
      "0.2%\t103000\t-961892.25\t310.15182573935357\t9.7\t10:6:58:24\n",
      "0.2%\t103500\t-961999.875\t309.70608946012027\t9.7\t10:6:58:21\n",
      "0.2%\t104000\t-963621.625\t309.53264458701994\t9.7\t10:6:58:18\n",
      "0.2%\t104500\t-963154.375\t310.07090567675596\t9.7\t10:6:58:19\n",
      "0.2%\t105000\t-961563.875\t310.285166882707\t9.7\t10:6:58:18\n",
      "0.2%\t105500\t-962517.0625\t309.47091625352766\t9.7\t10:6:58:16\n",
      "0.2%\t106000\t-963391.125\t311.06730974378974\t9.7\t10:6:58:12\n",
      "0.2%\t106500\t-961752.625\t308.99649288040854\t9.7\t10:6:58:10\n",
      "0.2%\t107000\t-961727.5\t307.97027822406665\t9.7\t10:6:58:06\n",
      "0.2%\t107500\t-962497.5\t309.86739435578386\t9.7\t10:6:58:01\n",
      "0.2%\t108000\t-963266.4375\t308.6665692730967\t9.7\t10:6:57:58\n",
      "0.2%\t108500\t-962689.375\t309.8858156961448\t9.7\t10:6:57:54\n",
      "0.2%\t109000\t-961560.0625\t310.8955320486727\t9.7\t10:6:57:51\n",
      "0.2%\t109500\t-962512.25\t310.3437716588601\t9.7\t10:6:57:47\n",
      "0.2%\t110000\t-961298.75\t309.9096089736262\t9.7\t10:6:57:44\n",
      "0.2%\t110500\t-960923.75\t310.7822143003306\t9.7\t10:6:57:44\n",
      "0.2%\t111000\t-963782.125\t309.2934787495401\t9.7\t10:6:57:28\n",
      "0.2%\t111500\t-961553.625\t309.0468237146918\t9.7\t10:6:57:24\n",
      "0.2%\t112000\t-962668.5625\t308.3716702969653\t9.7\t10:6:57:22\n",
      "0.2%\t112500\t-961782.1875\t310.2864100291179\t9.7\t10:6:57:11\n",
      "0.2%\t113000\t-961444.4375\t310.25631969758257\t9.7\t10:6:56:50\n",
      "0.2%\t113500\t-961624.25\t311.0528232492709\t9.7\t10:6:56:48\n",
      "0.2%\t114000\t-962522.4375\t308.79753063913495\t9.7\t10:6:56:42\n",
      "0.2%\t114500\t-962665.875\t309.06267886443845\t9.7\t10:6:56:40\n",
      "0.2%\t115000\t-961592.6875\t309.50182382950646\t9.7\t10:6:56:36\n",
      "0.2%\t115500\t-962001.0\t309.1394516742499\t9.7\t10:6:56:33\n",
      "0.2%\t116000\t-963527.375\t308.18537599242376\t9.7\t10:6:56:31\n",
      "0.2%\t116500\t-962655.125\t308.92823816287535\t9.7\t10:6:56:29\n",
      "0.2%\t117000\t-961274.5\t308.59402743349034\t9.7\t10:6:56:27\n",
      "0.2%\t117500\t-962737.5\t310.41553561640086\t9.7\t10:6:56:26\n",
      "0.2%\t118000\t-963969.375\t310.61199614396673\t9.7\t10:6:56:24\n",
      "0.2%\t118500\t-963240.625\t310.5319923194379\t9.7\t10:6:56:20\n",
      "0.2%\t119000\t-962334.25\t308.0651756090593\t9.7\t10:6:56:18\n",
      "0.2%\t119500\t-963423.125\t309.37475998954824\t9.7\t10:6:56:21\n",
      "0.2%\t120000\t-963334.4375\t310.79399565282915\t9.7\t10:6:56:09\n",
      "0.2%\t120500\t-961792.0\t307.9001921887185\t9.7\t10:6:56:06\n",
      "0.2%\t121000\t-962231.75\t308.6762040239899\t9.7\t10:6:56:04\n",
      "0.2%\t121500\t-963446.125\t308.49695877399336\t9.7\t10:6:56:01\n",
      "0.2%\t122000\t-963050.625\t308.22832842698404\t9.7\t10:6:55:58\n",
      "0.2%\t122500\t-962658.0625\t310.23055659485215\t9.7\t10:6:55:53\n",
      "0.2%\t123000\t-962122.6875\t310.11421181333947\t9.7\t10:6:55:48\n",
      "0.2%\t123500\t-961557.0\t309.0028863954635\t9.7\t10:6:55:44\n",
      "0.2%\t124000\t-961717.0\t309.73741236313646\t9.7\t10:6:55:40\n",
      "0.2%\t124500\t-963243.625\t308.94150441013414\t9.7\t10:6:55:36\n",
      "0.2%\t125000\t-964543.1875\t309.70038017112364\t9.7\t10:6:55:34\n",
      "0.3%\t125500\t-963216.5\t309.4649915808458\t9.7\t10:6:55:31\n",
      "0.3%\t126000\t-962162.25\t308.23959525146165\t9.7\t10:6:55:27\n",
      "0.3%\t126500\t-962537.5\t309.72311231328973\t9.7\t10:6:55:25\n",
      "0.3%\t127000\t-962697.9375\t309.1036141272378\t9.7\t10:6:55:10\n"
     ]
    },
    {
     "ename": "KeyboardInterrupt",
     "evalue": "",
     "output_type": "error",
     "traceback": [
      "\u001b[0;31m---------------------------------------------------------------------------\u001b[0m",
      "\u001b[0;31mKeyboardInterrupt\u001b[0m                         Traceback (most recent call last)",
      "\u001b[0;32m/tmp/ipykernel_108274/4210552786.py\u001b[0m in \u001b[0;36m?\u001b[0;34m()\u001b[0m\n\u001b[0;32m----> 2\u001b[0;31m \u001b[0msimulation\u001b[0m\u001b[0;34m.\u001b[0m\u001b[0mcontext\u001b[0m\u001b[0;34m.\u001b[0m\u001b[0msetVelocitiesToTemperature\u001b[0m\u001b[0;34m(\u001b[0m\u001b[0;36m309.65\u001b[0m \u001b[0;34m*\u001b[0m \u001b[0munit\u001b[0m\u001b[0;34m.\u001b[0m\u001b[0mkelvin\u001b[0m\u001b[0;34m)\u001b[0m\u001b[0;34m\u001b[0m\u001b[0;34m\u001b[0m\u001b[0m\n\u001b[0m\u001b[1;32m      3\u001b[0m \u001b[0msimulation\u001b[0m\u001b[0;34m.\u001b[0m\u001b[0mstep\u001b[0m\u001b[0;34m(\u001b[0m\u001b[0msteps\u001b[0m\u001b[0;34m)\u001b[0m  \u001b[0;31m# perform the simulation\u001b[0m\u001b[0;34m\u001b[0m\u001b[0;34m\u001b[0m\u001b[0m\n",
      "\u001b[0;32m~/miniconda3/envs/MD/lib/python3.8/site-packages/openmm/app/simulation.py\u001b[0m in \u001b[0;36m?\u001b[0;34m(self, steps)\u001b[0m\n\u001b[1;32m    139\u001b[0m     \u001b[0;32mdef\u001b[0m \u001b[0mstep\u001b[0m\u001b[0;34m(\u001b[0m\u001b[0mself\u001b[0m\u001b[0;34m,\u001b[0m \u001b[0msteps\u001b[0m\u001b[0;34m)\u001b[0m\u001b[0;34m:\u001b[0m\u001b[0;34m\u001b[0m\u001b[0;34m\u001b[0m\u001b[0m\n\u001b[1;32m    140\u001b[0m         \u001b[0;34m\"\"\"Advance the simulation by integrating a specified number of time steps.\"\"\"\u001b[0m\u001b[0;34m\u001b[0m\u001b[0;34m\u001b[0m\u001b[0m\n\u001b[0;32m--> 141\u001b[0;31m         \u001b[0mself\u001b[0m\u001b[0;34m.\u001b[0m\u001b[0m_simulate\u001b[0m\u001b[0;34m(\u001b[0m\u001b[0mendStep\u001b[0m\u001b[0;34m=\u001b[0m\u001b[0mself\u001b[0m\u001b[0;34m.\u001b[0m\u001b[0mcurrentStep\u001b[0m\u001b[0;34m+\u001b[0m\u001b[0msteps\u001b[0m\u001b[0;34m)\u001b[0m\u001b[0;34m\u001b[0m\u001b[0;34m\u001b[0m\u001b[0m\n\u001b[0m",
      "\u001b[0;32m~/miniconda3/envs/MD/lib/python3.8/site-packages/openmm/app/simulation.py\u001b[0m in \u001b[0;36m?\u001b[0;34m(self, endStep, endTime)\u001b[0m\n\u001b[1;32m    202\u001b[0m                     \u001b[0mnextSteps\u001b[0m \u001b[0;34m=\u001b[0m \u001b[0mnextReport\u001b[0m\u001b[0;34m[\u001b[0m\u001b[0mi\u001b[0m\u001b[0;34m]\u001b[0m\u001b[0;34m[\u001b[0m\u001b[0;36m0\u001b[0m\u001b[0;34m]\u001b[0m\u001b[0;34m\u001b[0m\u001b[0;34m\u001b[0m\u001b[0m\n\u001b[1;32m    203\u001b[0m                     \u001b[0manyReport\u001b[0m \u001b[0;34m=\u001b[0m \u001b[0;32mTrue\u001b[0m\u001b[0;34m\u001b[0m\u001b[0;34m\u001b[0m\u001b[0m\n\u001b[1;32m    204\u001b[0m             \u001b[0mstepsToGo\u001b[0m \u001b[0;34m=\u001b[0m \u001b[0mnextSteps\u001b[0m\u001b[0;34m\u001b[0m\u001b[0;34m\u001b[0m\u001b[0m\n\u001b[1;32m    205\u001b[0m             \u001b[0;32mwhile\u001b[0m \u001b[0mstepsToGo\u001b[0m \u001b[0;34m>\u001b[0m \u001b[0;36m10\u001b[0m\u001b[0;34m:\u001b[0m\u001b[0;34m\u001b[0m\u001b[0;34m\u001b[0m\u001b[0m\n\u001b[0;32m--> 206\u001b[0;31m                 \u001b[0mself\u001b[0m\u001b[0;34m.\u001b[0m\u001b[0mintegrator\u001b[0m\u001b[0;34m.\u001b[0m\u001b[0mstep\u001b[0m\u001b[0;34m(\u001b[0m\u001b[0;36m10\u001b[0m\u001b[0;34m)\u001b[0m \u001b[0;31m# Only take 10 steps at a time, to give Python more chances to respond to a control-c.\u001b[0m\u001b[0;34m\u001b[0m\u001b[0;34m\u001b[0m\u001b[0m\n\u001b[0m\u001b[1;32m    207\u001b[0m                 \u001b[0mstepsToGo\u001b[0m \u001b[0;34m-=\u001b[0m \u001b[0;36m10\u001b[0m\u001b[0;34m\u001b[0m\u001b[0;34m\u001b[0m\u001b[0m\n\u001b[1;32m    208\u001b[0m                 \u001b[0;32mif\u001b[0m \u001b[0mendTime\u001b[0m \u001b[0;32mis\u001b[0m \u001b[0;32mnot\u001b[0m \u001b[0;32mNone\u001b[0m \u001b[0;32mand\u001b[0m \u001b[0mdatetime\u001b[0m\u001b[0;34m.\u001b[0m\u001b[0mnow\u001b[0m\u001b[0;34m(\u001b[0m\u001b[0;34m)\u001b[0m \u001b[0;34m>=\u001b[0m \u001b[0mendTime\u001b[0m\u001b[0;34m:\u001b[0m\u001b[0;34m\u001b[0m\u001b[0;34m\u001b[0m\u001b[0m\n\u001b[1;32m    209\u001b[0m                     \u001b[0;32mreturn\u001b[0m\u001b[0;34m\u001b[0m\u001b[0;34m\u001b[0m\u001b[0m\n",
      "\u001b[0;32m~/miniconda3/envs/MD/lib/python3.8/site-packages/openmm/openmm.py\u001b[0m in \u001b[0;36m?\u001b[0;34m(self, steps)\u001b[0m\n\u001b[1;32m  14751\u001b[0m         \u001b[0;34m-\u001b[0m\u001b[0;34m-\u001b[0m\u001b[0;34m-\u001b[0m\u001b[0;34m-\u001b[0m\u001b[0;34m-\u001b[0m\u001b[0;34m-\u001b[0m\u001b[0;34m-\u001b[0m\u001b[0;34m-\u001b[0m\u001b[0;34m-\u001b[0m\u001b[0;34m-\u001b[0m\u001b[0;34m\u001b[0m\u001b[0;34m\u001b[0m\u001b[0m\n\u001b[1;32m  14752\u001b[0m         \u001b[0msteps\u001b[0m \u001b[0;34m:\u001b[0m \u001b[0mint\u001b[0m\u001b[0;34m\u001b[0m\u001b[0;34m\u001b[0m\u001b[0m\n\u001b[1;32m  14753\u001b[0m             \u001b[0mthe\u001b[0m \u001b[0mnumber\u001b[0m \u001b[0mof\u001b[0m \u001b[0mtime\u001b[0m \u001b[0msteps\u001b[0m \u001b[0mto\u001b[0m \u001b[0mtake\u001b[0m\u001b[0;34m\u001b[0m\u001b[0;34m\u001b[0m\u001b[0m\n\u001b[1;32m  14754\u001b[0m         \"\"\"\n\u001b[0;32m> 14755\u001b[0;31m         \u001b[0;32mreturn\u001b[0m \u001b[0m_openmm\u001b[0m\u001b[0;34m.\u001b[0m\u001b[0mLangevinIntegrator_step\u001b[0m\u001b[0;34m(\u001b[0m\u001b[0mself\u001b[0m\u001b[0;34m,\u001b[0m \u001b[0msteps\u001b[0m\u001b[0;34m)\u001b[0m\u001b[0;34m\u001b[0m\u001b[0;34m\u001b[0m\u001b[0m\n\u001b[0m",
      "\u001b[0;31mKeyboardInterrupt\u001b[0m: "
     ]
    }
   ],
   "source": [
    "simulation.context.setVelocitiesToTemperature(309.65 * unit.kelvin)\n",
    "simulation.step(steps)  # perform the simulation"
   ]
  },
  {
   "cell_type": "code",
   "execution_count": 20,
   "metadata": {},
   "outputs": [
    {
     "name": "stdout",
     "output_type": "stream",
     "text": [
      "os.stat_result(st_mode=33204, st_ino=235276793, st_dev=2080, st_nlink=1, st_uid=1002, st_gid=1002, st_size=22878668, st_atime=1717124168, st_mtime=1717131498, st_ctime=1717131498)\n"
     ]
    }
   ],
   "source": [
    "# Check the trajectory exists and is not empty\n",
    "import os \n",
    "result = \"./trajectory_ns1_1.xtc\"\n",
    "file_info = os.stat(result)\n",
    "print(file_info)\n",
    "#result.stat().st_size > 0\n",
    "# NBVAL_CHECK_OUTPUT"
   ]
  },
  {
   "cell_type": "markdown",
   "metadata": {},
   "source": [
    "# Analysis MD Simulation results"
   ]
  },
  {
   "cell_type": "markdown",
   "metadata": {},
   "source": [
    "## RMSD Analysis"
   ]
  },
  {
   "cell_type": "code",
   "execution_count": 19,
   "metadata": {},
   "outputs": [
    {
     "data": {
      "application/vnd.jupyter.widget-view+json": {
       "model_id": "b7c23229827141098b492213cfca4c36",
       "version_major": 2,
       "version_minor": 0
      },
      "text/plain": []
     },
     "metadata": {},
     "output_type": "display_data"
    }
   ],
   "source": [
    "from pathlib import Path\n",
    "\n",
    "import pandas as pd\n",
    "import numpy as np\n",
    "import matplotlib.pyplot as plt\n",
    "import nglview as nv\n",
    "import MDAnalysis as mda\n",
    "from MDAnalysis.analysis import rms, diffusionmap, align\n",
    "from MDAnalysis.analysis.distances import dist\n",
    "from MDAnalysis.analysis.hydrogenbonds.hbond_analysis import HydrogenBondAnalysis as HBA\n"
   ]
  },
  {
   "cell_type": "code",
   "execution_count": 20,
   "metadata": {},
   "outputs": [
    {
     "name": "stderr",
     "output_type": "stream",
     "text": [
      "/home/media/data2/user_home/dbsejrgus226/miniconda3/envs/MD/lib/python3.8/site-packages/MDAnalysis/topology/PDBParser.py:276: UserWarning: PDB file is missing resid information.  Defaulted to '1'\n",
      "  warnings.warn(\"PDB file is missing resid information.  \"\n"
     ]
    }
   ],
   "source": [
    "md_universe = mda.Universe(str(\"./topology_1.pdb\"), str(\"./trajectory_1.xtc\"))"
   ]
  },
  {
   "cell_type": "code",
   "execution_count": 21,
   "metadata": {},
   "outputs": [
    {
     "data": {
      "text/plain": [
       "<MDAnalysis.analysis.align.AlignTraj at 0x7fa4f5e05d90>"
      ]
     },
     "execution_count": 21,
     "metadata": {},
     "output_type": "execute_result"
    }
   ],
   "source": [
    "# Set trajectory pointer to first frame as reference\n",
    "md_universe.trajectory[0]\n",
    "\n",
    "# in_memory=True is needed to actually modify the loaded trajectory\n",
    "# if the trajectory is too big for memory, one can write out the aligned trajectory and reload it into a new universe\n",
    "alignment = align.AlignTraj(\n",
    "    mobile=md_universe, reference=md_universe, select=\"protein\", in_memory=True\n",
    ")\n",
    "alignment.run()"
   ]
  },
  {
   "cell_type": "code",
   "execution_count": 22,
   "metadata": {},
   "outputs": [],
   "source": [
    "def rmsd_for_atomgroups(universe, selection1, selection2=None):\n",
    "    \"\"\"Calulate the RMSD for selected atom groups.\n",
    "\n",
    "    Parameters\n",
    "    ----------\n",
    "    universe: MDAnalysis.core.universe.Universe\n",
    "        MDAnalysis universe.\n",
    "    selection1: str\n",
    "        Selection string for main atom group, also used during alignment.\n",
    "    selection2: list of str, optional\n",
    "        Selection strings for additional atom groups.\n",
    "\n",
    "    Returns\n",
    "    -------\n",
    "    rmsd_df: pandas.core.frame.DataFrame\n",
    "        DataFrame containing RMSD of the selected atom groups over time.\n",
    "    \"\"\"\n",
    "\n",
    "    universe.trajectory\n",
    "    ref = universe\n",
    "    rmsd_analysis = rms.RMSD(universe, ref, select=selection1, groupselections=selection2)\n",
    "    rmsd_analysis.run()\n",
    "\n",
    "    columns = [selection1, *selection2] if selection2 else [selection1]\n",
    "    #print(rmsd_analysis.results)\n",
    "    #print(rmsd_analysis)\n",
    "    rmsd_df = pd.DataFrame(np.round(rmsd_analysis.results.rmsd[:, 2:], 2), columns=columns)\n",
    "    rmsd_df.index.name = \"time\"\n",
    "    return rmsd_df"
   ]
  },
  {
   "cell_type": "code",
   "execution_count": 23,
   "metadata": {},
   "outputs": [],
   "source": [
    "rmsd = rmsd_for_atomgroups(md_universe, \"backbone\", [\"protein\", \"resname UNK\"])\n",
    "#rmsd[:20]"
   ]
  },
  {
   "cell_type": "code",
   "execution_count": 24,
   "metadata": {},
   "outputs": [
    {
     "data": {
      "text/html": [
       "<div>\n",
       "<style scoped>\n",
       "    .dataframe tbody tr th:only-of-type {\n",
       "        vertical-align: middle;\n",
       "    }\n",
       "\n",
       "    .dataframe tbody tr th {\n",
       "        vertical-align: top;\n",
       "    }\n",
       "\n",
       "    .dataframe thead th {\n",
       "        text-align: right;\n",
       "    }\n",
       "</style>\n",
       "<table border=\"1\" class=\"dataframe\">\n",
       "  <thead>\n",
       "    <tr style=\"text-align: right;\">\n",
       "      <th></th>\n",
       "      <th>backbone</th>\n",
       "      <th>protein</th>\n",
       "      <th>rank_1_ligand</th>\n",
       "    </tr>\n",
       "    <tr>\n",
       "      <th>time</th>\n",
       "      <th></th>\n",
       "      <th></th>\n",
       "      <th></th>\n",
       "    </tr>\n",
       "  </thead>\n",
       "  <tbody>\n",
       "    <tr>\n",
       "      <th>0</th>\n",
       "      <td>0.00</td>\n",
       "      <td>0.00</td>\n",
       "      <td>0.00</td>\n",
       "    </tr>\n",
       "    <tr>\n",
       "      <th>1</th>\n",
       "      <td>0.64</td>\n",
       "      <td>0.84</td>\n",
       "      <td>1.33</td>\n",
       "    </tr>\n",
       "    <tr>\n",
       "      <th>2</th>\n",
       "      <td>0.77</td>\n",
       "      <td>0.98</td>\n",
       "      <td>1.44</td>\n",
       "    </tr>\n",
       "    <tr>\n",
       "      <th>3</th>\n",
       "      <td>0.77</td>\n",
       "      <td>1.04</td>\n",
       "      <td>2.42</td>\n",
       "    </tr>\n",
       "    <tr>\n",
       "      <th>4</th>\n",
       "      <td>0.81</td>\n",
       "      <td>1.09</td>\n",
       "      <td>2.34</td>\n",
       "    </tr>\n",
       "  </tbody>\n",
       "</table>\n",
       "</div>"
      ],
      "text/plain": [
       "      backbone  protein  rank_1_ligand\n",
       "time                                  \n",
       "0         0.00     0.00           0.00\n",
       "1         0.64     0.84           1.33\n",
       "2         0.77     0.98           1.44\n",
       "3         0.77     1.04           2.42\n",
       "4         0.81     1.09           2.34"
      ]
     },
     "execution_count": 24,
     "metadata": {},
     "output_type": "execute_result"
    }
   ],
   "source": [
    "rmsd.rename(columns={\"resname UNK\": \"rank_1_ligand\"}, inplace=True)\n",
    "rmsd.head()"
   ]
  },
  {
   "cell_type": "code",
   "execution_count": 27,
   "metadata": {},
   "outputs": [
    {
     "data": {
      "image/png": "[encoded data removed]",
      "text/plain": [
       "<Figure size 640x480 with 1 Axes>"
      ]
     },
     "metadata": {},
     "output_type": "display_data"
    }
   ],
   "source": [
    "rmsd.plot(title=\"RMSD of protein and ligand\")\n",
    "plt.xlabel(\"time (ps)\")\n",
    "plt.ylabel(\"RMSD (Å)\");\n",
    "plt.savefig(\"rank1_rmsd_results\")"
   ]
  },
  {
   "cell_type": "code",
   "execution_count": 28,
   "metadata": {},
   "outputs": [],
   "source": [
    "rmsd.to_csv(\"rank_1_rmsd_results.csv\")"
   ]
  },
  {
   "cell_type": "markdown",
   "metadata": {},
   "source": [
    "## RMSF Analysis"
   ]
  },
  {
   "cell_type": "code",
   "execution_count": 2,
   "metadata": {},
   "outputs": [],
   "source": [
    "import MDAnalysis as mda\n",
    "from MDAnalysis.analysis import align\n",
    "import MDAnalysis.transformations as trans\n",
    "from MDAnalysis.analysis.rms import RMSF\n",
    "\n",
    "import matplotlib.pyplot as plt\n",
    "\n",
    "import pandas as pd"
   ]
  },
  {
   "cell_type": "code",
   "execution_count": 3,
   "metadata": {},
   "outputs": [
    {
     "name": "stderr",
     "output_type": "stream",
     "text": [
      "Warning: importing 'simtk.openmm' is deprecated.  Import 'openmm' instead.\n",
      "/home/media/data2/user_home/dbsejrgus226/miniconda3/envs/MD/lib/python3.8/site-packages/MDAnalysis/topology/PDBParser.py:276: UserWarning: PDB file is missing resid information.  Defaulted to '1'\n",
      "  warnings.warn(\"PDB file is missing resid information.  \"\n"
     ]
    }
   ],
   "source": [
    "md_universe = mda.Universe(str(\"./topology_1.pdb\"), str(\"./trajectory_1.xtc\"))"
   ]
  },
  {
   "cell_type": "code",
   "execution_count": 4,
   "metadata": {},
   "outputs": [],
   "source": [
    "protein = md_universe.select_atoms(\"protein\")"
   ]
  },
  {
   "cell_type": "code",
   "execution_count": 5,
   "metadata": {},
   "outputs": [],
   "source": [
    "# 1) need a step to center and make whole: this trajectory\n",
    "#    contains the protein being split across periodic boundaries\n",
    "#\n",
    "# TODO"
   ]
  },
  {
   "cell_type": "code",
   "execution_count": 6,
   "metadata": {},
   "outputs": [],
   "source": [
    "#not_protein = md_universe.select_atoms(\"not protein\")"
   ]
  },
  {
   "cell_type": "code",
   "execution_count": 7,
   "metadata": {},
   "outputs": [],
   "source": [
    "#transforms = [trans.unwrap(protein),\n",
    "#              trans.center_in_box(protein, wrap=True),\n",
    "#              trans.wrap(not_protein)]\n",
    "#md_universe.trajectory.add_transformations(*transforms)"
   ]
  },
  {
   "cell_type": "code",
   "execution_count": 8,
   "metadata": {},
   "outputs": [],
   "source": [
    "# 2) fit to the initial frame to get a better average structure\n",
    "#    (the trajectory is changed in memory)"
   ]
  },
  {
   "cell_type": "code",
   "execution_count": 9,
   "metadata": {},
   "outputs": [],
   "source": [
    "prealigner = align.AlignTraj(md_universe, md_universe, select=\"protein and name CA\",\n",
    "                             in_memory=True).run()"
   ]
  },
  {
   "cell_type": "code",
   "execution_count": 10,
   "metadata": {},
   "outputs": [],
   "source": [
    "# 3) reference = average structure\n",
    "reference_coordinates = md_universe.trajectory.timeseries(asel=protein).mean(axis=1)\n",
    "# make a reference structure (need to reshape into a 1-frame \"trajectory\")\n",
    "reference = mda.Merge(protein).load_new(\n",
    "    reference_coordinates[:, None, :], order=\"afc\")"
   ]
  },
  {
   "cell_type": "markdown",
   "metadata": {},
   "source": [
    "- We created a new universe reference that contains a single frame with the averaged coordinates of the protein.\n",
    "- Now we need to fit the whole trajectory to the reference by minimizing the RMSD. \n",
    "- We use MDAnalysis.analysis.align.AlignTraj:"
   ]
  },
  {
   "cell_type": "code",
   "execution_count": 11,
   "metadata": {},
   "outputs": [],
   "source": [
    "aligner = align.AlignTraj(md_universe, reference, select=\"protein and name CA\", in_memory=True).run()"
   ]
  },
  {
   "cell_type": "markdown",
   "metadata": {},
   "source": [
    "- The trajectory is now fitted to the reference (the RMSD is stored as aligner.rmsd for further inspection). \n",
    "- Now we can calculate the RMSF:"
   ]
  },
  {
   "cell_type": "code",
   "execution_count": 12,
   "metadata": {},
   "outputs": [
    {
     "data": {
      "application/vnd.jupyter.widget-view+json": {
       "model_id": "9108184910ac4d36b00f0a220f0e0a3c",
       "version_major": 2,
       "version_minor": 0
      },
      "text/plain": [
       "  0%|          | 0/100 [00:00<?, ?it/s]"
      ]
     },
     "metadata": {},
     "output_type": "display_data"
    }
   ],
   "source": [
    "calphas = protein.select_atoms(\"name CA\")\n",
    "rmsfer = RMSF(calphas, verbose=True).run()"
   ]
  },
  {
   "cell_type": "code",
   "execution_count": 13,
   "metadata": {},
   "outputs": [
    {
     "name": "stderr",
     "output_type": "stream",
     "text": [
      "/home/media/data2/user_home/dbsejrgus226/miniconda3/envs/MD/lib/python3.8/site-packages/MDAnalysis/analysis/rms.py:877: DeprecationWarning: The `rmsf` attribute was deprecated in MDAnalysis 2.0.0 and will be removed in MDAnalysis 3.0.0. Please use `results.rmsd` instead.\n",
      "  warnings.warn(wmsg, DeprecationWarning)\n"
     ]
    },
    {
     "data": {
      "image/png": "[encoded data removed]",
      "text/plain": [
       "<Figure size 640x480 with 1 Axes>"
      ]
     },
     "metadata": {},
     "output_type": "display_data"
    }
   ],
   "source": [
    "plt.plot(calphas.resnums, rmsfer.rmsf)\n",
    "plt.xlabel(\"Residue number\")\n",
    "plt.ylabel(\"RMSF (nm)\")\n",
    "plt.savefig(\"rank1_rmsf_results.png\")"
   ]
  },
  {
   "cell_type": "code",
   "execution_count": 14,
   "metadata": {},
   "outputs": [
    {
     "data": {
      "text/plain": [
       "array([414, 415, 416, 417, 418, 419, 420, 421, 422, 423, 424, 425, 426,\n",
       "       427, 428, 429, 430, 431, 432, 433, 434, 435, 436, 437, 438, 439,\n",
       "       440, 441, 442, 443, 444, 445, 446, 447, 448, 449, 450, 451, 452,\n",
       "       453, 454, 455, 456, 457, 458, 459, 460, 461, 462, 463, 464, 465,\n",
       "       466, 467, 468, 469, 470, 471, 472, 473, 474, 475, 476, 477, 478,\n",
       "       479, 480, 481, 482, 483, 484, 485, 486, 487, 488, 489, 490, 491,\n",
       "       492, 493, 494, 495, 496, 497, 498, 499, 500, 501, 502, 503, 504,\n",
       "       505, 506, 507, 508, 509, 510, 511, 512, 513, 514, 515, 516, 517,\n",
       "       518, 519, 520, 521, 522, 523, 524, 525, 526, 527, 528, 529, 530,\n",
       "       531, 532, 533, 534, 535, 536, 537, 538, 539, 540, 541, 542, 543,\n",
       "       544, 545, 546, 547, 548, 549, 550, 551, 552, 553, 554, 555, 556,\n",
       "       557, 558, 559, 560, 561, 562, 563, 564, 565, 566, 567, 568, 584,\n",
       "       585, 586, 587, 588, 589, 590, 591, 592, 593, 594, 595, 596, 597,\n",
       "       598, 599, 600, 601, 602, 603, 604, 605, 606, 607, 608, 609, 610,\n",
       "       611, 612, 613, 614, 615, 616, 617, 618, 619, 620, 621, 622, 623,\n",
       "       624, 625, 626, 627, 628, 629, 630, 631, 632, 633, 634, 635, 636,\n",
       "       637, 638, 639, 640, 641, 642, 643, 644, 645, 646, 647, 648, 649,\n",
       "       650, 651, 652, 653, 654, 655, 656, 657, 658, 659, 660, 661, 662,\n",
       "       663, 664, 665, 666, 667, 668, 669, 670, 671, 672, 673, 674, 675,\n",
       "       676, 677, 678, 679, 680, 681, 682, 683, 684, 685, 686])"
      ]
     },
     "execution_count": 14,
     "metadata": {},
     "output_type": "execute_result"
    }
   ],
   "source": [
    "calphas.resnums"
   ]
  },
  {
   "cell_type": "code",
   "execution_count": 15,
   "metadata": {},
   "outputs": [
    {
     "data": {
      "text/plain": [
       "258"
      ]
     },
     "execution_count": 15,
     "metadata": {},
     "output_type": "execute_result"
    }
   ],
   "source": [
    "len(calphas.resnums)"
   ]
  },
  {
   "cell_type": "code",
   "execution_count": 16,
   "metadata": {},
   "outputs": [
    {
     "data": {
      "text/plain": [
       "array([1.0921218 , 0.79192003, 0.79540092, 0.56231022, 0.48463295,\n",
       "       0.4483983 , 0.55103196, 0.56734444, 0.47901374, 0.66050914,\n",
       "       0.66295527, 0.82782201, 0.78480778, 0.60741965, 0.59564873,\n",
       "       0.72594191, 1.09916961, 1.38924537, 1.37727789, 1.05465437,\n",
       "       1.35101935, 0.79521889, 0.5126986 , 0.48440207, 0.58090405,\n",
       "       0.58094959, 0.62947707, 0.57702535, 0.58132659, 0.99103504,\n",
       "       1.21725624, 1.11684818, 1.1447365 , 1.2964011 , 0.92801557,\n",
       "       0.88109998, 0.78071712, 0.51947656, 0.47866141, 0.44579536,\n",
       "       0.41956121, 0.4673644 , 0.57019666, 1.03051812, 0.75347175,\n",
       "       0.58615264, 0.76329794, 0.91257744, 0.76148499, 0.80558204,\n",
       "       0.7047297 , 0.57659471, 0.59355412, 0.61016354, 0.52793603,\n",
       "       0.52612005, 0.63350994, 0.57622767, 0.57608438, 0.64049462,\n",
       "       0.62962482, 0.54123723, 0.62388356, 0.62600899, 0.56658548,\n",
       "       0.83436439, 0.716174  , 0.64917751, 0.50001604, 0.48872732,\n",
       "       0.41657813, 0.47113913, 0.4409516 , 0.46691097, 0.49051435,\n",
       "       0.48555513, 0.46084465, 0.51247475, 0.61925275, 0.6136283 ,\n",
       "       0.51474573, 0.41426335, 0.4014703 , 0.38260922, 0.37014623,\n",
       "       0.4316714 , 0.44255828, 0.43826349, 0.49566074, 0.62402835,\n",
       "       0.55189097, 0.61553653, 0.44644775, 0.40740276, 0.53679201,\n",
       "       0.65182023, 0.44987131, 0.44390622, 0.63700586, 0.67464469,\n",
       "       0.57866861, 0.54153113, 0.75666625, 0.70910414, 0.56391843,\n",
       "       0.52812553, 0.45425044, 0.47346234, 0.41766243, 0.41227293,\n",
       "       0.3881231 , 0.38397091, 0.40731259, 0.4670841 , 0.54891985,\n",
       "       0.49093556, 0.7003567 , 0.83120472, 0.75137484, 0.62292413,\n",
       "       0.63627187, 0.65956029, 0.55685623, 0.54175547, 0.73450179,\n",
       "       1.02267509, 0.79742207, 0.64573238, 0.49630624, 0.4888236 ,\n",
       "       0.49194717, 0.43966845, 0.54252214, 0.52643715, 0.6138858 ,\n",
       "       0.52267411, 0.43769988, 0.42407227, 0.38638405, 0.37987015,\n",
       "       0.37244794, 0.4797837 , 0.54153095, 0.56356038, 0.53803417,\n",
       "       0.44431594, 0.38427594, 0.39694155, 0.42812234, 0.47482897,\n",
       "       0.52646248, 0.77305595, 0.67014123, 1.05975725, 1.47738576,\n",
       "       0.91984409, 1.01603462, 0.58737484, 0.58132167, 0.48874494,\n",
       "       0.489367  , 0.41709537, 0.4471448 , 0.5433574 , 0.5437573 ,\n",
       "       0.65169463, 0.76776282, 0.87828713, 0.87202872, 0.64324572,\n",
       "       0.60215316, 0.58017598, 0.57200664, 0.54028208, 0.50078354,\n",
       "       0.38192828, 0.34434821, 0.35900263, 0.37318393, 0.35745612,\n",
       "       0.37631421, 0.37076057, 0.41300271, 0.36765679, 0.39050719,\n",
       "       0.4491951 , 0.42625438, 0.42398052, 0.49641855, 0.53040297,\n",
       "       0.60228495, 0.58344552, 0.64519937, 0.55025279, 0.57328063,\n",
       "       0.83463399, 1.03404399, 0.62673696, 0.64804686, 1.01841509,\n",
       "       1.12750056, 0.85414935, 0.5661151 , 0.52799746, 0.6437695 ,\n",
       "       0.56103437, 0.47994731, 0.57964239, 0.67905068, 0.6437641 ,\n",
       "       0.4866191 , 0.50508781, 0.50968603, 0.57295359, 0.57974115,\n",
       "       0.6139971 , 0.79998211, 0.88468475, 0.6138501 , 0.70570415,\n",
       "       0.59979512, 0.63803051, 0.45761986, 0.45068634, 0.51650096,\n",
       "       0.44335762, 0.40300345, 0.41444923, 0.43647076, 0.41076672,\n",
       "       0.38744345, 0.46737254, 0.48355267, 0.54655887, 0.54483867,\n",
       "       0.64717266, 0.5926102 , 0.4800279 , 0.54401074, 0.54086142,\n",
       "       0.54733173, 0.65150898, 0.61638491, 0.70421711, 0.60800786,\n",
       "       0.63789458, 0.5306405 , 0.47371013, 0.53236791, 0.50422237,\n",
       "       0.46696844, 0.49018451, 0.55827977, 0.61813045, 0.67992985,\n",
       "       0.91240742, 1.00732338, 1.077117  ])"
      ]
     },
     "execution_count": 16,
     "metadata": {},
     "output_type": "execute_result"
    }
   ],
   "source": [
    "rmsfer.rmsf"
   ]
  },
  {
   "cell_type": "code",
   "execution_count": 17,
   "metadata": {},
   "outputs": [
    {
     "data": {
      "text/plain": [
       "258"
      ]
     },
     "execution_count": 17,
     "metadata": {},
     "output_type": "execute_result"
    }
   ],
   "source": [
    "len(rmsfer.rmsf)"
   ]
  },
  {
   "cell_type": "code",
   "execution_count": 18,
   "metadata": {},
   "outputs": [],
   "source": [
    "rank1_rmsf_df = pd.DataFrame({\"residue\": calphas.resnums, \"rmsf\": rmsfer.rmsf})\n",
    "rank1_rmsf_df.head()\n",
    "rank1_rmsf_df.to_csv(\"rank1_rmsf_results.csv\")"
   ]
  },
  {
   "cell_type": "code",
   "execution_count": null,
   "metadata": {},
   "outputs": [],
   "source": []
  }
 ],
 "metadata": {
  "kernelspec": {
   "display_name": "MD",
   "language": "python",
   "name": "python3"
  },
  "language_info": {
   "codemirror_mode": {
    "name": "ipython",
    "version": 3
   },
   "file_extension": ".py",
   "mimetype": "text/x-python",
   "name": "python",
   "nbconvert_exporter": "python",
   "pygments_lexer": "ipython3",
   "version": "3.8.12"
  }
 },
 "nbformat": 4,
 "nbformat_minor": 2
}
