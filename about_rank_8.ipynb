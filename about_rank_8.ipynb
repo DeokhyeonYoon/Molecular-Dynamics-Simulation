{
 "cells": [
  {
   "cell_type": "markdown",
   "metadata": {},
   "source": [
    "# MD Simultaion "
   ]
  },
  {
   "cell_type": "code",
   "execution_count": 1,
   "metadata": {},
   "outputs": [],
   "source": [
    "import copy\n",
    "from pathlib import Path\n",
    "import sys\n",
    "\n",
    "import requests\n",
    "from IPython.display import display\n",
    "import numpy as np\n",
    "from rdkit import Chem\n",
    "from rdkit.Chem import Draw\n",
    "from rdkit.Chem import AllChem\n",
    "import mdtraj as md\n",
    "import pdbfixer\n",
    "import openmm as mm\n",
    "import openmm.app as app\n",
    "from openmm import unit\n",
    "from openff.toolkit.topology import Molecule, Topology\n",
    "from openmmforcefields.generators import GAFFTemplateGenerator"
   ]
  },
  {
   "cell_type": "code",
   "execution_count": 2,
   "metadata": {},
   "outputs": [],
   "source": [
    "#import warnings\n",
    "\n",
    "# 경고를 무시하도록 설정합니다.\n",
    "#warnings.filterwarnings(\"ignore\", message=\"PDB file is missing resid information.\")\n",
    "#warnings.filterwarnings(\"ignore\", message=\"Reload offsets from trajectory\")\n",
    "#warnings.filterwarnings(\"ignore\", message=\"duplicate atom\")\n",
    "\n",
    "# 나머지 코드 실행"
   ]
  },
  {
   "cell_type": "code",
   "execution_count": 3,
   "metadata": {},
   "outputs": [],
   "source": [
    "import warnings\n",
    "warnings.filterwarnings(\"ignore\")"
   ]
  },
  {
   "cell_type": "code",
   "execution_count": 4,
   "metadata": {},
   "outputs": [],
   "source": [
    "def prepare_protein(\n",
    "    pdb_file, ignore_missing_residues=True, ignore_terminal_missing_residues=True, ph=7.0\n",
    "):\n",
    "    \"\"\"\n",
    "    Use pdbfixer to prepare the protein from a PDB file. Hetero atoms such as ligands are\n",
    "    removed and non-standard residues replaced. Missing atoms to existing residues are added.\n",
    "    Missing residues are ignored by default, but can be included.\n",
    "\n",
    "    Parameters\n",
    "    ----------\n",
    "    pdb_file: pathlib.Path or str\n",
    "        PDB file containing the system to simulate.\n",
    "    ignore_missing_residues: bool, optional\n",
    "        If missing residues should be ignored or built.\n",
    "    ignore_terminal_missing_residues: bool, optional\n",
    "        If missing residues at the beginning and the end of a chain should be ignored or built.\n",
    "    ph: float, optional\n",
    "        pH value used to determine protonation state of residues\n",
    "\n",
    "    Returns\n",
    "    -------\n",
    "    fixer: pdbfixer.pdbfixer.PDBFixer\n",
    "        Prepared protein system.\n",
    "    \"\"\"\n",
    "    fixer = pdbfixer.PDBFixer(str(pdb_file))\n",
    "    fixer.removeHeterogens()  # co-crystallized ligands are unknown to PDBFixer\n",
    "    fixer.findMissingResidues()  # identify missing residues, needed for identification of missing atoms\n",
    "\n",
    "    # if missing terminal residues shall be ignored, remove them from the dictionary\n",
    "    if ignore_terminal_missing_residues:\n",
    "        chains = list(fixer.topology.chains())\n",
    "        keys = fixer.missingResidues.keys()\n",
    "        for key in list(keys):\n",
    "            chain = chains[key[0]]\n",
    "            if key[1] == 0 or key[1] == len(list(chain.residues())):\n",
    "                del fixer.missingResidues[key]\n",
    "\n",
    "    # if all missing residues shall be ignored ignored, clear the dictionary\n",
    "    if ignore_missing_residues:\n",
    "        fixer.missingResidues = {}\n",
    "\n",
    "    fixer.findNonstandardResidues()  # find non-standard residue\n",
    "    fixer.replaceNonstandardResidues()  # replace non-standard residues with standard one\n",
    "    fixer.findMissingAtoms()  # find missing heavy atoms\n",
    "    fixer.addMissingAtoms()  # add missing atoms and residues\n",
    "    fixer.addMissingHydrogens(ph)  # add missing hydrogens\n",
    "    return fixer"
   ]
  },
  {
   "cell_type": "code",
   "execution_count": 5,
   "metadata": {},
   "outputs": [],
   "source": [
    "prepare_protein = prepare_protein(\"./protein_rank_8_ligand_complex.pdb\", ignore_missing_residues=False)"
   ]
  },
  {
   "cell_type": "code",
   "execution_count": 6,
   "metadata": {},
   "outputs": [],
   "source": [
    "def prepare_ligand(pdb_file, resname, smiles, depict=True):\n",
    "    \"\"\"\n",
    "    Prepare a ligand from a PDB file via adding hydrogens and assigning bond orders. A depiction\n",
    "    of the ligand before and after preparation is rendered in 2D to allow an inspection of the\n",
    "    results. Huge thanks to @j-wags for the suggestion.\n",
    "\n",
    "    Parameters\n",
    "    ----------\n",
    "    pdb_file: pathlib.PosixPath\n",
    "       PDB file containing the ligand of interest.\n",
    "    resname: str\n",
    "        Three character residue name of the ligand.\n",
    "    smiles : str\n",
    "        SMILES string of the ligand informing about correct protonation and bond orders.\n",
    "    depict: bool, optional\n",
    "        show a 2D representation of the ligand\n",
    "\n",
    "    Returns\n",
    "    -------\n",
    "    prepared_ligand: rdkit.Chem.rdchem.Mol\n",
    "        Prepared ligand.\n",
    "    \"\"\"\n",
    "    # split molecule\n",
    "    rdkit_mol = Chem.MolFromPDBFile(str(pdb_file), proximityBonding=True, sanitize=False)\n",
    "    print(rdkit_mol)\n",
    "    rdkit_mol_split = Chem.rdmolops.SplitMolByPDBResidues(rdkit_mol)\n",
    "\n",
    "    # extract the ligand and remove any already present hydrogens\n",
    "    ligand = rdkit_mol_split[resname]\n",
    "    ligand = Chem.RemoveHs(ligand)\n",
    "\n",
    "    # assign bond orders from template\n",
    "    reference_mol = Chem.MolFromSmiles(smiles)\n",
    "    prepared_ligand = AllChem.AssignBondOrdersFromTemplate(reference_mol, ligand)\n",
    "    prepared_ligand.AddConformer(ligand.GetConformer(0))\n",
    "\n",
    "    # protonate ligand\n",
    "    prepared_ligand = Chem.rdmolops.AddHs(prepared_ligand, addCoords=True)\n",
    "    prepared_ligand = Chem.MolFromMolBlock(Chem.MolToMolBlock(prepared_ligand))\n",
    "\n",
    "    # 2D depiction\n",
    "    if depict:\n",
    "        ligand_2d = copy.deepcopy(ligand)\n",
    "        prepared_ligand_2d = copy.deepcopy(prepared_ligand)\n",
    "        AllChem.Compute2DCoords(ligand_2d)\n",
    "        AllChem.Compute2DCoords(prepared_ligand_2d)\n",
    "        display(\n",
    "            Draw.MolsToGridImage(\n",
    "                [ligand_2d, prepared_ligand_2d], molsPerRow=2, legends=[\"original\", \"prepared\"]\n",
    "            )\n",
    "        )\n",
    "\n",
    "    # return ligand\n",
    "    return prepared_ligand"
   ]
  },
  {
   "cell_type": "code",
   "execution_count": 7,
   "metadata": {},
   "outputs": [],
   "source": [
    "pdb_path = \"./protein_rank_8_ligand_complex.pdb\"\n",
    "ligand_name = \"UNL\"\n",
    "smiles = \"CN1CCN(CCOc2ccccc2NC(=O)N2CCCC2)CC1\""
   ]
  },
  {
   "cell_type": "code",
   "execution_count": 8,
   "metadata": {},
   "outputs": [
    {
     "name": "stdout",
     "output_type": "stream",
     "text": [
      "<rdkit.Chem.rdchem.Mol object at 0x7f8ae0679270>\n"
     ]
    },
    {
     "name": "stderr",
     "output_type": "stream",
     "text": [
      "[16:40:29] WARNING: More than one matching pattern found - picking one\n",
      "\n"
     ]
    },
    {
     "data": {
      "image/png": "[encoded data removed]",
      "text/plain": [
       "<IPython.core.display.Image object>"
      ]
     },
     "metadata": {},
     "output_type": "display_data"
    }
   ],
   "source": [
    "rdkit_ligand = prepare_ligand(pdb_path, ligand_name, smiles)"
   ]
  },
  {
   "cell_type": "code",
   "execution_count": 9,
   "metadata": {},
   "outputs": [],
   "source": [
    "def rdkit_to_openmm(rdkit_mol, name=\"LIG\"):\n",
    "    \"\"\"\n",
    "    Convert an RDKit molecule to an OpenMM molecule.\n",
    "    Inspired by @hannahbrucemcdonald and @glass-w.\n",
    "\n",
    "    Parameters\n",
    "    ----------\n",
    "    rdkit_mol: rdkit.Chem.rdchem.Mol\n",
    "        RDKit molecule to convert.\n",
    "    name: str\n",
    "        Molecule name.\n",
    "\n",
    "    Returns\n",
    "    -------\n",
    "    omm_molecule: openmm.app.Modeller\n",
    "        OpenMM modeller object holding the molecule of interest.\n",
    "    \"\"\"\n",
    "    # convert RDKit to OpenFF\n",
    "    off_mol = Molecule.from_rdkit(rdkit_mol)\n",
    "    #print(off_mol)\n",
    "\n",
    "    # add name for molecule\n",
    "    off_mol.name = name\n",
    "    #print(off_mol.name)\n",
    "\n",
    "    # add names for atoms\n",
    "    element_counter_dict = {}\n",
    "    for off_atom, rdkit_atom in zip(off_mol.atoms, rdkit_mol.GetAtoms()):\n",
    "        element = rdkit_atom.GetSymbol()\n",
    "        if element in element_counter_dict.keys():\n",
    "            element_counter_dict[element] += 1\n",
    "        else:\n",
    "            element_counter_dict[element] = 1\n",
    "        off_atom.name = element + str(element_counter_dict[element])\n",
    "    #print(element_counter_dict)\n",
    "\n",
    "    # convert from OpenFF to OpenMM\n",
    "    off_mol_topology = off_mol.to_topology()\n",
    "    mol_topology = off_mol_topology.to_openmm()\n",
    "    #print(mol_topology)\n",
    "    mol_positions = off_mol.conformers[0]\n",
    "    #print(mol_positions)\n",
    "\n",
    "    # convert units from Ångström to nanometers\n",
    "    # since OpenMM works in nm\n",
    "    mol_positions = mol_positions.to(\"nanometers\")\n",
    "    #print(mol_positions)\n",
    "\n",
    "    # combine topology and positions in modeller object\n",
    "    omm_mol = app.Modeller(mol_topology, mol_positions)\n",
    "\n",
    "    return omm_mol"
   ]
  },
  {
   "cell_type": "code",
   "execution_count": 10,
   "metadata": {},
   "outputs": [],
   "source": [
    "omm_ligand = rdkit_to_openmm(rdkit_ligand, ligand_name)"
   ]
  },
  {
   "cell_type": "code",
   "execution_count": 11,
   "metadata": {},
   "outputs": [],
   "source": [
    "def merge_protein_and_ligand(protein, ligand):\n",
    "    \"\"\"\n",
    "    Merge two OpenMM objects.\n",
    "\n",
    "    Parameters\n",
    "    ----------\n",
    "    protein: pdbfixer.pdbfixer.PDBFixer\n",
    "        Protein to merge.\n",
    "    ligand: openmm.app.Modeller\n",
    "        Ligand to merge.\n",
    "\n",
    "    Returns\n",
    "    -------\n",
    "    complex_topology: openmm.app.topology.Topology\n",
    "        The merged topology.\n",
    "    complex_positions: openmm.unit.quantity.Quantity\n",
    "        The merged positions.\n",
    "    \"\"\"\n",
    "    # combine topologies\n",
    "    md_protein_topology = md.Topology.from_openmm(protein.topology)  # using mdtraj for protein top\n",
    "    #print(md_protein_topology)\n",
    "    md_ligand_topology = md.Topology.from_openmm(ligand.topology)  # using mdtraj for ligand top\n",
    "    #print(md_ligand_topology)\n",
    "    md_complex_topology = md_protein_topology.join(md_ligand_topology)  # add them together\n",
    "    #print(md_complex_topology)\n",
    "    complex_topology = md_complex_topology.to_openmm()\n",
    "    #print(complex_topology)\n",
    "\n",
    "    # combine positions\n",
    "    total_atoms = len(protein.positions) + len(ligand.positions)\n",
    "\n",
    "    # create an array for storing all atom positions as tupels containing a value and a unit\n",
    "    # called OpenMM Quantities\n",
    "    complex_positions = unit.Quantity(np.zeros([total_atoms, 3]), unit=unit.nanometers)\n",
    "    complex_positions[: len(protein.positions)] = protein.positions  # add protein positions\n",
    "    complex_positions[len(protein.positions) :] = ligand.positions  # add ligand positions\n",
    "\n",
    "    return complex_topology, complex_positions"
   ]
  },
  {
   "cell_type": "code",
   "execution_count": 12,
   "metadata": {},
   "outputs": [],
   "source": [
    "complex_topology, complex_positions = merge_protein_and_ligand(prepare_protein, omm_ligand)"
   ]
  },
  {
   "cell_type": "code",
   "execution_count": 13,
   "metadata": {},
   "outputs": [
    {
     "name": "stdout",
     "output_type": "stream",
     "text": [
      "Complex topology has 4213 atoms.\n"
     ]
    }
   ],
   "source": [
    "print(\"Complex topology has\", complex_topology.getNumAtoms(), \"atoms.\")\n",
    "# NBVAL_CHECK_OUTPUT"
   ]
  },
  {
   "cell_type": "code",
   "execution_count": 14,
   "metadata": {},
   "outputs": [],
   "source": [
    "def generate_forcefield(\n",
    "    rdkit_mol=None, protein_ff=\"amber14-all.xml\", solvent_ff=\"amber14/tip3pfb.xml\"\n",
    "):\n",
    "    \"\"\"\n",
    "    Generate an OpenMM Forcefield object and register a small molecule.\n",
    "\n",
    "    Parameters\n",
    "    ----------\n",
    "    rdkit_mol: rdkit.Chem.rdchem.Mol\n",
    "        Small molecule to register in the force field.\n",
    "    protein_ff: string\n",
    "        Name of the force field.\n",
    "    solvent_ff: string\n",
    "        Name of the solvent force field.\n",
    "\n",
    "    Returns\n",
    "    -------\n",
    "    forcefield: openmm.app.Forcefield\n",
    "        Forcefield with registered small molecule.\n",
    "    \"\"\"\n",
    "    forcefield = app.ForceField(protein_ff, solvent_ff)\n",
    "\n",
    "    if rdkit_mol is not None:\n",
    "        gaff = GAFFTemplateGenerator(\n",
    "            molecules=Molecule.from_rdkit(rdkit_mol, allow_undefined_stereo=True)\n",
    "        )\n",
    "        forcefield.registerTemplateGenerator(gaff.generator)\n",
    "\n",
    "    return forcefield"
   ]
  },
  {
   "cell_type": "code",
   "execution_count": 15,
   "metadata": {},
   "outputs": [],
   "source": [
    "forcefield = generate_forcefield(rdkit_ligand)"
   ]
  },
  {
   "cell_type": "code",
   "execution_count": 16,
   "metadata": {},
   "outputs": [
    {
     "name": "stderr",
     "output_type": "stream",
     "text": [
      "/bin/bash: /home/media/data2/user_home/dbsejrgus226/miniconda3/envs/MD/lib/libtinfo.so.6: no version information available (required by /bin/bash)\n",
      "/bin/bash: /home/media/data2/user_home/dbsejrgus226/miniconda3/envs/MD/lib/libtinfo.so.6: no version information available (required by /bin/bash)\n",
      "/bin/bash: /home/media/data2/user_home/dbsejrgus226/miniconda3/envs/MD/lib/libtinfo.so.6: no version information available (required by /bin/bash)\n",
      "/bin/bash: /home/media/data2/user_home/dbsejrgus226/miniconda3/envs/MD/lib/libtinfo.so.6: no version information available (required by /bin/bash)\n",
      "/bin/bash: /home/media/data2/user_home/dbsejrgus226/miniconda3/envs/MD/lib/libtinfo.so.6: no version information available (required by /bin/bash)\n",
      "/bin/bash: /home/media/data2/user_home/dbsejrgus226/miniconda3/envs/MD/lib/libtinfo.so.6: no version information available (required by /bin/bash)\n"
     ]
    }
   ],
   "source": [
    "modeller = app.Modeller(complex_topology, complex_positions)\n",
    "modeller.addSolvent(forcefield, padding=1.0 * unit.nanometers, ionicStrength=0.15 * unit.molar)"
   ]
  },
  {
   "cell_type": "code",
   "execution_count": 17,
   "metadata": {},
   "outputs": [],
   "source": [
    "system = forcefield.createSystem(modeller.topology, nonbondedMethod=app.PME)\n",
    "integrator = mm.LangevinIntegrator(\n",
    "    300 * unit.kelvin, 1.0 / unit.picoseconds, 2.0 * unit.femtoseconds\n",
    ")\n",
    "simulation = app.Simulation(modeller.topology, system, integrator)\n",
    "simulation.context.setPositions(modeller.positions)"
   ]
  },
  {
   "cell_type": "code",
   "execution_count": 18,
   "metadata": {},
   "outputs": [],
   "source": [
    "simulation.minimizeEnergy()\n",
    "with open(\"topology_8.pdb\", \"w\") as pdb_file:\n",
    "    app.PDBFile.writeFile(\n",
    "        simulation.topology,\n",
    "        simulation.context.getState(getPositions=True, enforcePeriodicBox=True).getPositions(),\n",
    "        file=pdb_file,\n",
    "        keepIds=True,\n",
    "    )"
   ]
  },
  {
   "cell_type": "code",
   "execution_count": 19,
   "metadata": {},
   "outputs": [],
   "source": [
    "# output settings\n",
    "\n",
    "steps = 50000  # corresponds to 100 fs\n",
    "write_interval = 500  # write every 10 fs\n",
    "log_interval = 250  # log progress to stdout every 5 fs\n",
    "simulation.reporters.append(\n",
    "    md.reporters.XTCReporter(file=str(\"trajectory_8.xtc\"), reportInterval=write_interval)\n",
    ")\n",
    "simulation.reporters.append(\n",
    "    app.StateDataReporter(\n",
    "        sys.stdout,\n",
    "        log_interval,\n",
    "        step=True,\n",
    "        potentialEnergy=True,\n",
    "        temperature=True,\n",
    "        progress=True,\n",
    "        remainingTime=True,\n",
    "        speed=True,\n",
    "        totalSteps=steps,\n",
    "        separator=\"\\t\",\n",
    "    )\n",
    ")"
   ]
  },
  {
   "cell_type": "code",
   "execution_count": 20,
   "metadata": {},
   "outputs": [
    {
     "name": "stdout",
     "output_type": "stream",
     "text": [
      "#\"Progress (%)\"\t\"Step\"\t\"Potential Energy (kJ/mole)\"\t\"Temperature (K)\"\t\"Speed (ns/day)\"\t\"Time Remaining\"\n",
      "0.5%\t250\t-871659.4496500562\t206.1272908991317\t0\t--\n",
      "1.0%\t500\t-854481.0160563062\t242.47924581940325\t100\t1:25\n",
      "1.5%\t750\t-843639.3637125562\t262.3194644784932\t101\t1:24\n",
      "2.0%\t1000\t-836058.0707438062\t275.88420944956647\t99.8\t1:24\n",
      "2.5%\t1250\t-829900.3656656812\t282.56720497119176\t98.8\t1:25\n",
      "3.0%\t1500\t-827990.5805094312\t289.40289530942573\t98\t1:25\n",
      "3.5%\t1750\t-824430.5043375562\t293.9241597034666\t97.9\t1:25\n",
      "4.0%\t2000\t-821844.6996500562\t292.49035464677826\t97.3\t1:25\n",
      "4.5%\t2250\t-820190.2055094312\t293.4115095870816\t96.9\t1:25\n",
      "5.0%\t2500\t-819105.3617594312\t297.121595649613\t96.3\t1:25\n",
      "5.5%\t2750\t-819292.2992594312\t299.13982127256577\t96.4\t1:24\n",
      "6.0%\t3000\t-817104.9496500562\t298.5449287474688\t96\t1:24\n",
      "6.5%\t3250\t-817651.7758219312\t299.4612409665858\t95.8\t1:24\n",
      "7.0%\t3500\t-817503.7016031812\t300.5195622209749\t95.7\t1:23\n",
      "7.5%\t3750\t-817229.1937906812\t297.46720690808485\t95.6\t1:23\n",
      "8.0%\t4000\t-817108.5238688062\t296.72932306226545\t95.5\t1:23\n",
      "8.5%\t4250\t-816960.6195719312\t298.6741621162408\t95.5\t1:22\n",
      "9.0%\t4500\t-815961.3812906812\t298.21293443045926\t95.3\t1:22\n",
      "9.5%\t4750\t-816518.5062906812\t298.73673077623357\t95.3\t1:22\n",
      "10.0%\t5000\t-816674.4613688062\t300.5453945831186\t95\t1:21\n",
      "10.5%\t5250\t-815752.5902750562\t300.776837577307\t94.9\t1:21\n",
      "11.0%\t5500\t-814920.1625406812\t299.78957607308536\t94.8\t1:21\n",
      "11.5%\t5750\t-815541.7777750562\t300.65021772402196\t94.8\t1:20\n",
      "12.0%\t6000\t-814919.0785563062\t298.3584350426007\t94.7\t1:20\n",
      "12.5%\t6250\t-815486.7523844312\t299.60952909778814\t94.6\t1:19\n",
      "13.0%\t6500\t-815559.3539469312\t300.12147535165565\t94.5\t1:19\n",
      "13.5%\t6750\t-815683.3363688062\t299.8332319080248\t94.6\t1:19\n",
      "14.0%\t7000\t-816784.1859781812\t301.2040457674792\t94.4\t1:18\n",
      "14.5%\t7250\t-817003.4730875562\t298.8859859929182\t94.4\t1:18\n",
      "15.0%\t7500\t-817039.9516031812\t298.8717969173814\t94.3\t1:17\n",
      "15.5%\t7750\t-816668.2445719312\t296.62445927761553\t94.4\t1:17\n",
      "16.0%\t8000\t-817321.2504313062\t297.8846399251271\t94.4\t1:16\n",
      "16.5%\t8250\t-815857.1801188062\t299.52130595561005\t94.3\t1:16\n",
      "17.0%\t8500\t-816533.2855875562\t299.31622484347474\t94.2\t1:16\n",
      "17.5%\t8750\t-816024.7660563062\t301.0400091294687\t94.2\t1:15\n",
      "18.0%\t9000\t-816887.2875406812\t298.44683907567173\t94.1\t1:15\n",
      "18.5%\t9250\t-818101.2934000562\t300.0852618658658\t94.1\t1:14\n",
      "19.0%\t9500\t-817021.9809000562\t299.3886220804436\t94\t1:14\n",
      "19.5%\t9750\t-816023.6449625562\t298.58699495498894\t94\t1:14\n",
      "20.0%\t10000\t-815795.0805094312\t298.72795261860426\t94\t1:13\n",
      "20.5%\t10250\t-817541.8910563062\t300.06707205492785\t94\t1:13\n",
      "21.0%\t10500\t-816989.1469156812\t300.11500849427574\t93.9\t1:12\n",
      "21.5%\t10750\t-816735.0043375562\t298.2301334704316\t93.9\t1:12\n",
      "22.0%\t11000\t-816633.0453531812\t299.20755999167164\t93.8\t1:11\n",
      "22.5%\t11250\t-817162.2465250562\t300.3226916426703\t93.8\t1:11\n",
      "23.0%\t11500\t-815826.9320719312\t299.8466247845602\t93.8\t1:10\n",
      "23.5%\t11750\t-814936.9906656812\t300.27632276987595\t93.7\t1:10\n",
      "24.0%\t12000\t-815354.5551188062\t301.5933111187953\t93.7\t1:10\n",
      "24.5%\t12250\t-814735.9711344312\t297.9771265143327\t93.7\t1:09\n",
      "25.0%\t12500\t-815269.3988688062\t299.28956583476844\t93.7\t1:09\n",
      "25.5%\t12750\t-815652.9203531812\t301.5835295443199\t93.8\t1:08\n",
      "26.0%\t13000\t-815286.7445719312\t300.13356367770837\t93.8\t1:08\n",
      "26.5%\t13250\t-816221.5648844312\t301.63255845672313\t93.8\t1:07\n",
      "27.0%\t13500\t-816685.9105875562\t301.4169739618539\t93.7\t1:07\n",
      "27.5%\t13750\t-815299.2016031812\t299.2121786784433\t93.8\t1:06\n",
      "28.0%\t14000\t-817061.9828531812\t299.6293101097794\t93.7\t1:06\n",
      "28.5%\t14250\t-816973.4574625562\t299.838855044725\t93.7\t1:05\n",
      "29.0%\t14500\t-817122.8891031812\t299.3959529139849\t93.7\t1:05\n",
      "29.5%\t14750\t-817678.5062906812\t298.6559391468426\t93.7\t1:05\n",
      "30.0%\t15000\t-817324.8344156812\t297.7931592233704\t93.7\t1:04\n",
      "30.5%\t15250\t-818286.6449625562\t301.59034087119346\t93.7\t1:04\n",
      "31.0%\t15500\t-816843.5141031812\t298.9953971562622\t93.7\t1:03\n",
      "31.5%\t15750\t-818610.5746500562\t299.8442543844521\t93.7\t1:03\n",
      "32.0%\t16000\t-817680.1351969312\t299.0489206960381\t93.6\t1:02\n",
      "32.5%\t16250\t-817831.8324625562\t298.5761597230119\t93.7\t1:02\n",
      "33.0%\t16500\t-817658.7191813062\t299.1875602713389\t93.7\t1:01\n",
      "33.5%\t16750\t-817351.1879313062\t297.96568188365336\t93.7\t1:01\n",
      "34.0%\t17000\t-818386.8344156812\t298.30952458216115\t93.6\t1:00\n",
      "34.5%\t17250\t-817885.6898844312\t300.780968778601\t93.6\t1:00\n",
      "35.0%\t17500\t-817245.2621500562\t302.20633217368936\t93.6\t0:59\n",
      "35.5%\t17750\t-814945.3715250562\t300.8776314146952\t93.6\t0:59\n",
      "36.0%\t18000\t-815100.5902750562\t299.58879520181074\t93.6\t0:59\n",
      "36.5%\t18250\t-815774.9398844312\t300.9790973066578\t93.6\t0:58\n",
      "37.0%\t18500\t-816324.2758219312\t299.67425037781794\t93.6\t0:58\n",
      "37.5%\t18750\t-816546.2016031812\t300.6388632750719\t93.5\t0:57\n",
      "38.0%\t19000\t-816130.0922281812\t299.8388004180395\t93.5\t0:57\n",
      "38.5%\t19250\t-815652.6508219312\t301.1087031215087\t93.5\t0:56\n",
      "39.0%\t19500\t-816539.9711344312\t300.99020431772243\t93.4\t0:56\n",
      "39.5%\t19750\t-816545.8598063062\t300.4479087587088\t93.4\t0:55\n",
      "40.0%\t20000\t-816501.2055094312\t300.3330984945512\t93.3\t0:55\n",
      "40.5%\t20250\t-816963.6742594312\t302.6326234617499\t93.3\t0:55\n",
      "41.0%\t20500\t-817105.6976969312\t300.54819789849745\t93.3\t0:54\n",
      "41.5%\t20750\t-817497.2504313062\t298.6448482260686\t93.3\t0:54\n",
      "42.0%\t21000\t-817970.4887125562\t299.4514931005331\t93.3\t0:53\n",
      "42.5%\t21250\t-817609.3559000562\t298.37708887878705\t93.3\t0:53\n",
      "43.0%\t21500\t-818430.4027750562\t301.32912877491066\t93.2\t0:52\n",
      "43.5%\t21750\t-817664.2543375562\t297.9281242247211\t93.2\t0:52\n",
      "44.0%\t22000\t-817133.8988688062\t301.1555161796816\t93.1\t0:51\n",
      "44.5%\t22250\t-815765.3285563062\t301.867729805011\t93\t0:51\n",
      "45.0%\t22500\t-815956.5570719312\t301.55062998613516\t92.8\t0:51\n",
      "45.5%\t22750\t-815995.6195719312\t299.3484507161797\t92.7\t0:50\n",
      "46.0%\t23000\t-816749.8793375562\t300.3202512782747\t92.6\t0:50\n",
      "46.5%\t23250\t-814796.3871500562\t298.5704016716621\t92.5\t0:49\n",
      "47.0%\t23500\t-815755.1898844312\t300.5253852587099\t92.4\t0:49\n",
      "47.5%\t23750\t-816868.1332438062\t300.31507429278895\t92.4\t0:49\n",
      "48.0%\t24000\t-816265.1215250562\t298.55617109606163\t92.3\t0:48\n",
      "48.5%\t24250\t-816103.2172281812\t298.4339036119993\t92.2\t0:48\n",
      "49.0%\t24500\t-815209.6898844312\t301.05279522534676\t92.1\t0:47\n",
      "49.5%\t24750\t-816300.9535563062\t302.4662978836706\t92.1\t0:47\n",
      "50.0%\t25000\t-816269.6019938062\t299.8951314511024\t92\t0:46\n",
      "50.5%\t25250\t-816430.8734781812\t300.4900640513204\t91.9\t0:46\n",
      "51.0%\t25500\t-815896.6039469312\t299.91837806754637\t91.8\t0:46\n",
      "51.5%\t25750\t-817038.4437906812\t302.5769857218363\t91.8\t0:45\n",
      "52.0%\t26000\t-814887.8422281812\t300.6198232774479\t91.7\t0:45\n",
      "52.5%\t26250\t-815164.8168375562\t301.97200203703545\t91.6\t0:44\n",
      "53.0%\t26500\t-814754.1820719312\t301.8803601033742\t91.5\t0:44\n",
      "53.5%\t26750\t-815146.7406656812\t301.69307005047887\t91.4\t0:43\n",
      "54.0%\t27000\t-815231.3695719312\t300.23085448703404\t91.4\t0:43\n",
      "54.5%\t27250\t-816130.4144938062\t300.37847240680395\t91.4\t0:43\n",
      "55.0%\t27500\t-816433.1488688062\t299.78593168849255\t91.3\t0:42\n",
      "55.5%\t27750\t-816707.8656656812\t301.65316903534733\t91.2\t0:42\n",
      "56.0%\t28000\t-817307.0726969312\t300.07761657654424\t91.1\t0:41\n",
      "56.5%\t28250\t-816489.5707438062\t299.3166844047221\t91.1\t0:41\n",
      "57.0%\t28500\t-816706.8871500562\t301.4381232011554\t91\t0:40\n",
      "57.5%\t28750\t-817288.7328531812\t300.2225342406702\t91\t0:40\n",
      "58.0%\t29000\t-817199.5609781812\t300.29967461438093\t90.9\t0:39\n",
      "58.5%\t29250\t-816560.4047281812\t299.2260607172967\t90.9\t0:39\n",
      "59.0%\t29500\t-816321.9379313062\t298.45361744352533\t90.8\t0:39\n",
      "59.5%\t29750\t-816599.7172281812\t300.1582643608858\t90.8\t0:38\n",
      "60.0%\t30000\t-816772.1254313062\t299.73436593602065\t90.7\t0:38\n",
      "60.5%\t30250\t-816348.2680094312\t299.25456773868393\t90.7\t0:37\n",
      "61.0%\t30500\t-816677.3539469312\t300.58207174762526\t90.6\t0:37\n",
      "61.5%\t30750\t-816648.5297281812\t299.66855011962593\t90.6\t0:36\n",
      "62.0%\t31000\t-817013.1137125562\t300.8753370060858\t90.5\t0:36\n",
      "62.5%\t31250\t-816385.8129313062\t298.8140387614109\t90.5\t0:35\n",
      "63.0%\t31500\t-816725.4359781812\t301.73796882728846\t90.5\t0:35\n",
      "63.5%\t31750\t-815712.5570719312\t297.9133769729162\t90.4\t0:34\n",
      "64.0%\t32000\t-816491.4418375562\t300.35753806050826\t90.4\t0:34\n",
      "64.5%\t32250\t-816895.1098063062\t300.14724046701815\t90.4\t0:33\n",
      "65.0%\t32500\t-817423.7504313062\t301.4142043200603\t90.3\t0:33\n",
      "65.5%\t32750\t-816211.4125406812\t298.6136781607823\t90.3\t0:32\n",
      "66.0%\t33000\t-818972.7797281812\t300.39537203425175\t90.3\t0:32\n",
      "66.5%\t33250\t-817701.6488688062\t299.44601974885074\t90.2\t0:32\n",
      "67.0%\t33500\t-816462.6117594312\t297.90282563025784\t90.2\t0:31\n",
      "67.5%\t33750\t-817277.5004313062\t300.45552579552225\t90.2\t0:31\n",
      "68.0%\t34000\t-817017.7621500562\t299.98287608737166\t90.1\t0:30\n",
      "68.5%\t34250\t-817011.9379313062\t299.70671961206483\t90.1\t0:30\n",
      "69.0%\t34500\t-818545.5101969312\t301.0166118355082\t90.1\t0:29\n",
      "69.5%\t34750\t-817791.5336344312\t298.3666254553783\t90\t0:29\n",
      "70.0%\t35000\t-816508.7855875562\t299.8232667889843\t90\t0:28\n",
      "70.5%\t35250\t-817008.6332438062\t301.0475595812397\t89.9\t0:28\n",
      "71.0%\t35500\t-817289.2816813062\t301.25978101762854\t89.9\t0:27\n",
      "71.5%\t35750\t-816463.9105875562\t298.94953277859383\t89.9\t0:27\n",
      "72.0%\t36000\t-816936.4887125562\t298.74920711555734\t89.8\t0:26\n",
      "72.5%\t36250\t-816679.9476969312\t298.88737391650386\t89.8\t0:26\n",
      "73.0%\t36500\t-816931.8871500562\t298.7093339240068\t89.8\t0:25\n",
      "73.5%\t36750\t-817454.7758219312\t299.97344248593623\t89.7\t0:25\n",
      "74.0%\t37000\t-817641.5609781812\t298.7061209232234\t89.7\t0:25\n",
      "74.5%\t37250\t-817166.9379313062\t299.4761751447624\t89.7\t0:24\n",
      "75.0%\t37500\t-817459.2074625562\t298.19944725615585\t89.6\t0:24\n",
      "75.5%\t37750\t-816974.7328531812\t297.96145197155846\t89.6\t0:23\n",
      "76.0%\t38000\t-816806.0590250562\t298.4532180854849\t89.6\t0:23\n",
      "76.5%\t38250\t-816816.5551188062\t298.743117564261\t89.6\t0:22\n",
      "77.0%\t38500\t-817679.7074625562\t299.7913110428118\t89.5\t0:22\n",
      "77.5%\t38750\t-815970.0023844312\t299.39059386344326\t89.5\t0:21\n",
      "78.0%\t39000\t-817099.8637125562\t301.2064441722704\t89.5\t0:21\n",
      "78.5%\t39250\t-817600.0863688062\t299.2398315974808\t89.4\t0:20\n",
      "79.0%\t39500\t-816945.5609781812\t301.03885986366964\t89.4\t0:20\n",
      "79.5%\t39750\t-817134.4750406812\t298.30468508781803\t89.3\t0:19\n",
      "80.0%\t40000\t-817276.5707438062\t299.235134208061\t89.3\t0:19\n",
      "80.5%\t40250\t-817864.7836344312\t299.5372319914596\t89.3\t0:18\n",
      "81.0%\t40500\t-817542.0922281812\t299.8956343243174\t89.3\t0:18\n",
      "81.5%\t40750\t-817828.4535563062\t300.44054654186226\t89.2\t0:17\n",
      "82.0%\t41000\t-817669.6801188062\t298.8629261840913\t89.2\t0:17\n",
      "82.5%\t41250\t-817221.5512125562\t299.5808230458507\t89.2\t0:16\n",
      "83.0%\t41500\t-817878.8285563062\t299.2183801199381\t89.2\t0:16\n",
      "83.5%\t41750\t-817324.7152750562\t299.9362756274283\t89.1\t0:15\n",
      "84.0%\t42000\t-816339.1566813062\t299.0482050781687\t89.1\t0:15\n",
      "84.5%\t42250\t-815887.8461344312\t298.81065370515927\t89.1\t0:15\n",
      "85.0%\t42500\t-817037.8207438062\t300.2258472750514\t89.1\t0:14\n",
      "85.5%\t42750\t-815842.0082438062\t299.80213044224956\t89.1\t0:14\n",
      "86.0%\t43000\t-815640.5062906812\t300.2454410129849\t89\t0:13\n",
      "86.5%\t43250\t-814795.3012125562\t298.6878939655421\t89\t0:13\n",
      "87.0%\t43500\t-816976.5394938062\t302.4663099381376\t89\t0:12\n",
      "87.5%\t43750\t-816643.5980875562\t301.414778477528\t89\t0:12\n",
      "88.0%\t44000\t-815587.3187906812\t300.68166243543254\t88.9\t0:11\n",
      "88.5%\t44250\t-816273.0316813062\t301.9554577444365\t88.9\t0:11\n",
      "89.0%\t44500\t-816262.5863688062\t301.7091278211087\t88.9\t0:10\n",
      "89.5%\t44750\t-815827.8148844312\t301.617125844914\t88.8\t0:10\n",
      "90.0%\t45000\t-816165.4652750562\t302.7362530823918\t88.8\t0:09\n",
      "90.5%\t45250\t-814765.5258219312\t300.97381996654633\t88.8\t0:09\n",
      "91.0%\t45500\t-815477.5258219312\t301.3762074127025\t88.7\t0:08\n",
      "91.5%\t45750\t-816431.1391031812\t299.48717309414604\t88.7\t0:08\n",
      "92.0%\t46000\t-816649.4516031812\t298.90714914403117\t88.7\t0:07\n",
      "92.5%\t46250\t-817127.8832438062\t301.27336734640556\t88.7\t0:07\n",
      "93.0%\t46500\t-817513.7621500562\t301.7185405511886\t88.7\t0:06\n",
      "93.5%\t46750\t-816667.4047281812\t298.77370308193633\t88.7\t0:06\n",
      "94.0%\t47000\t-817428.1254313062\t301.09314191209523\t88.6\t0:05\n",
      "94.5%\t47250\t-816734.1078531812\t298.1309431427492\t88.8\t0:05\n",
      "95.0%\t47500\t-817707.4340250562\t300.44326400987046\t89.1\t0:04\n",
      "95.5%\t47750\t-817261.7406656812\t298.4627230250346\t89.3\t0:04\n",
      "96.0%\t48000\t-817221.6996500562\t300.45279590652575\t89.5\t0:03\n",
      "96.5%\t48250\t-816770.4789469312\t299.8527267684052\t89.7\t0:03\n",
      "97.0%\t48500\t-816835.0707438062\t299.2508691489961\t89.9\t0:02\n",
      "97.5%\t48750\t-817256.2348063062\t301.69944048588934\t90.2\t0:02\n",
      "98.0%\t49000\t-817585.2445719312\t301.94807968417376\t90.4\t0:01\n",
      "98.5%\t49250\t-817582.7797281812\t301.40270716948436\t90.6\t0:01\n",
      "99.0%\t49500\t-817481.4535563062\t299.2463129563036\t90.8\t0:00\n",
      "99.5%\t49750\t-817375.9379313062\t298.43284432068333\t91\t0:00\n",
      "100.0%\t50000\t-817035.0082438062\t300.1754368180013\t91.1\t0:00\n"
     ]
    }
   ],
   "source": [
    "simulation.context.setVelocitiesToTemperature(300 * unit.kelvin)\n",
    "simulation.step(steps)  # perform the simulation"
   ]
  },
  {
   "cell_type": "code",
   "execution_count": 21,
   "metadata": {},
   "outputs": [
    {
     "name": "stdout",
     "output_type": "stream",
     "text": [
      "os.stat_result(st_mode=33204, st_ino=235276847, st_dev=2080, st_nlink=1, st_uid=1002, st_gid=1002, st_size=19040084, st_atime=1716191061, st_mtime=1716191157, st_ctime=1716191157)\n"
     ]
    }
   ],
   "source": [
    "# Check the trajectory exists and is not empty\n",
    "import os \n",
    "result = \"./trajectory_8.xtc\"\n",
    "file_info = os.stat(result)\n",
    "print(file_info)\n",
    "#result.stat().st_size > 0\n",
    "# NBVAL_CHECK_OUTPUT"
   ]
  },
  {
   "cell_type": "markdown",
   "metadata": {},
   "source": [
    "# Analysis MD Simulation results"
   ]
  },
  {
   "cell_type": "code",
   "execution_count": 22,
   "metadata": {},
   "outputs": [
    {
     "data": {
      "application/vnd.jupyter.widget-view+json": {
       "model_id": "51750f7daaca45109afcaba77a7bdaef",
       "version_major": 2,
       "version_minor": 0
      },
      "text/plain": []
     },
     "metadata": {},
     "output_type": "display_data"
    }
   ],
   "source": [
    "from pathlib import Path\n",
    "\n",
    "import pandas as pd\n",
    "import numpy as np\n",
    "import matplotlib.pyplot as plt\n",
    "import nglview as nv\n",
    "import MDAnalysis as mda\n",
    "from MDAnalysis.analysis import rms, diffusionmap, align\n",
    "from MDAnalysis.analysis.distances import dist\n",
    "from MDAnalysis.analysis.hydrogenbonds.hbond_analysis import HydrogenBondAnalysis as HBA\n"
   ]
  },
  {
   "cell_type": "code",
   "execution_count": 23,
   "metadata": {},
   "outputs": [],
   "source": [
    "md_universe = mda.Universe(str(\"./topology_8.pdb\"), str(\"./trajectory_8.xtc\"))"
   ]
  },
  {
   "cell_type": "code",
   "execution_count": 24,
   "metadata": {},
   "outputs": [
    {
     "data": {
      "text/plain": [
       "<MDAnalysis.analysis.align.AlignTraj at 0x7f8a39b43fa0>"
      ]
     },
     "execution_count": 24,
     "metadata": {},
     "output_type": "execute_result"
    }
   ],
   "source": [
    "# Set trajectory pointer to first frame as reference\n",
    "md_universe.trajectory[0]\n",
    "\n",
    "# in_memory=True is needed to actually modify the loaded trajectory\n",
    "# if the trajectory is too big for memory, one can write out the aligned trajectory and reload it into a new universe\n",
    "alignment = align.AlignTraj(\n",
    "    mobile=md_universe, reference=md_universe, select=\"protein\", in_memory=True\n",
    ")\n",
    "alignment.run()"
   ]
  },
  {
   "cell_type": "code",
   "execution_count": 25,
   "metadata": {},
   "outputs": [],
   "source": [
    "def rmsd_for_atomgroups(universe, selection1, selection2=None):\n",
    "    \"\"\"Calulate the RMSD for selected atom groups.\n",
    "\n",
    "    Parameters\n",
    "    ----------\n",
    "    universe: MDAnalysis.core.universe.Universe\n",
    "        MDAnalysis universe.\n",
    "    selection1: str\n",
    "        Selection string for main atom group, also used during alignment.\n",
    "    selection2: list of str, optional\n",
    "        Selection strings for additional atom groups.\n",
    "\n",
    "    Returns\n",
    "    -------\n",
    "    rmsd_df: pandas.core.frame.DataFrame\n",
    "        DataFrame containing RMSD of the selected atom groups over time.\n",
    "    \"\"\"\n",
    "\n",
    "    universe.trajectory\n",
    "    ref = universe\n",
    "    rmsd_analysis = rms.RMSD(universe, ref, select=selection1, groupselections=selection2)\n",
    "    rmsd_analysis.run()\n",
    "\n",
    "    columns = [selection1, *selection2] if selection2 else [selection1]\n",
    "    #print(rmsd_analysis.results)\n",
    "    #print(rmsd_analysis)\n",
    "    rmsd_df = pd.DataFrame(np.round(rmsd_analysis.results.rmsd[:, 2:], 2), columns=columns)\n",
    "    rmsd_df.index.name = \"time\"\n",
    "    return rmsd_df"
   ]
  },
  {
   "cell_type": "code",
   "execution_count": 26,
   "metadata": {},
   "outputs": [],
   "source": [
    "rmsd = rmsd_for_atomgroups(md_universe, \"backbone\", [\"protein\", \"resname UNK\"])\n",
    "#rmsd[:20]"
   ]
  },
  {
   "cell_type": "code",
   "execution_count": 27,
   "metadata": {},
   "outputs": [
    {
     "data": {
      "text/html": [
       "<div>\n",
       "<style scoped>\n",
       "    .dataframe tbody tr th:only-of-type {\n",
       "        vertical-align: middle;\n",
       "    }\n",
       "\n",
       "    .dataframe tbody tr th {\n",
       "        vertical-align: top;\n",
       "    }\n",
       "\n",
       "    .dataframe thead th {\n",
       "        text-align: right;\n",
       "    }\n",
       "</style>\n",
       "<table border=\"1\" class=\"dataframe\">\n",
       "  <thead>\n",
       "    <tr style=\"text-align: right;\">\n",
       "      <th></th>\n",
       "      <th>backbone</th>\n",
       "      <th>protein</th>\n",
       "      <th>rank_8_ligand</th>\n",
       "    </tr>\n",
       "    <tr>\n",
       "      <th>time</th>\n",
       "      <th></th>\n",
       "      <th></th>\n",
       "      <th></th>\n",
       "    </tr>\n",
       "  </thead>\n",
       "  <tbody>\n",
       "    <tr>\n",
       "      <th>0</th>\n",
       "      <td>0.00</td>\n",
       "      <td>0.00</td>\n",
       "      <td>0.00</td>\n",
       "    </tr>\n",
       "    <tr>\n",
       "      <th>1</th>\n",
       "      <td>0.59</td>\n",
       "      <td>0.80</td>\n",
       "      <td>1.26</td>\n",
       "    </tr>\n",
       "    <tr>\n",
       "      <th>2</th>\n",
       "      <td>0.77</td>\n",
       "      <td>1.01</td>\n",
       "      <td>1.29</td>\n",
       "    </tr>\n",
       "    <tr>\n",
       "      <th>3</th>\n",
       "      <td>0.80</td>\n",
       "      <td>1.06</td>\n",
       "      <td>1.67</td>\n",
       "    </tr>\n",
       "    <tr>\n",
       "      <th>4</th>\n",
       "      <td>0.84</td>\n",
       "      <td>1.12</td>\n",
       "      <td>1.72</td>\n",
       "    </tr>\n",
       "  </tbody>\n",
       "</table>\n",
       "</div>"
      ],
      "text/plain": [
       "      backbone  protein  rank_8_ligand\n",
       "time                                  \n",
       "0         0.00     0.00           0.00\n",
       "1         0.59     0.80           1.26\n",
       "2         0.77     1.01           1.29\n",
       "3         0.80     1.06           1.67\n",
       "4         0.84     1.12           1.72"
      ]
     },
     "execution_count": 27,
     "metadata": {},
     "output_type": "execute_result"
    }
   ],
   "source": [
    "rmsd.rename(columns={\"resname UNK\": \"rank_8_ligand\"}, inplace=True)\n",
    "rmsd.head()"
   ]
  },
  {
   "cell_type": "code",
   "execution_count": 28,
   "metadata": {},
   "outputs": [
    {
     "data": {
      "image/png": "[encoded data removed]",
      "text/plain": [
       "<Figure size 640x480 with 1 Axes>"
      ]
     },
     "metadata": {},
     "output_type": "display_data"
    }
   ],
   "source": [
    "rmsd.plot(title=\"RMSD of protein and ligand\")\n",
    "plt.ylabel(\"RMSD (Å)\");"
   ]
  },
  {
   "cell_type": "code",
   "execution_count": 29,
   "metadata": {},
   "outputs": [],
   "source": [
    "#rmsd.to_csv(\"rank_8_rmsd_results.csv\")"
   ]
  },
  {
   "cell_type": "code",
   "execution_count": null,
   "metadata": {},
   "outputs": [],
   "source": []
  }
 ],
 "metadata": {
  "kernelspec": {
   "display_name": "Python 3",
   "language": "python",
   "name": "python3"
  },
  "language_info": {
   "codemirror_mode": {
    "name": "ipython",
    "version": 3
   },
   "file_extension": ".py",
   "mimetype": "text/x-python",
   "name": "python",
   "nbconvert_exporter": "python",
   "pygments_lexer": "ipython3",
   "version": "3.8.19"
  }
 },
 "nbformat": 4,
 "nbformat_minor": 2
}
