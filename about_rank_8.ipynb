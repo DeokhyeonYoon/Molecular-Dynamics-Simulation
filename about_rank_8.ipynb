{
 "cells": [
  {
   "cell_type": "markdown",
   "metadata": {},
   "source": [
    "# MD Simultaion "
   ]
  },
  {
   "cell_type": "code",
   "execution_count": 1,
   "metadata": {},
   "outputs": [],
   "source": [
    "import copy\n",
    "from pathlib import Path\n",
    "import sys\n",
    "\n",
    "import requests\n",
    "from IPython.display import display\n",
    "import numpy as np\n",
    "from rdkit import Chem\n",
    "from rdkit.Chem import Draw\n",
    "from rdkit.Chem import AllChem\n",
    "import mdtraj as md\n",
    "import pdbfixer\n",
    "import openmm as mm\n",
    "import openmm.app as app\n",
    "from openmm import unit\n",
    "from openff.toolkit.topology import Molecule, Topology\n",
    "from openmmforcefields.generators import GAFFTemplateGenerator"
   ]
  },
  {
   "cell_type": "code",
   "execution_count": 2,
   "metadata": {},
   "outputs": [],
   "source": [
    "#import warnings\n",
    "\n",
    "# 경고를 무시하도록 설정합니다.\n",
    "#warnings.filterwarnings(\"ignore\", message=\"PDB file is missing resid information.\")\n",
    "#warnings.filterwarnings(\"ignore\", message=\"Reload offsets from trajectory\")\n",
    "#warnings.filterwarnings(\"ignore\", message=\"duplicate atom\")\n",
    "\n",
    "# 나머지 코드 실행"
   ]
  },
  {
   "cell_type": "code",
   "execution_count": 3,
   "metadata": {},
   "outputs": [],
   "source": [
    "import warnings\n",
    "warnings.filterwarnings(\"ignore\")"
   ]
  },
  {
   "cell_type": "code",
   "execution_count": 4,
   "metadata": {},
   "outputs": [],
   "source": [
    "def prepare_protein(\n",
    "    pdb_file, ignore_missing_residues=True, ignore_terminal_missing_residues=True, ph=7.0\n",
    "):\n",
    "    \"\"\"\n",
    "    Use pdbfixer to prepare the protein from a PDB file. Hetero atoms such as ligands are\n",
    "    removed and non-standard residues replaced. Missing atoms to existing residues are added.\n",
    "    Missing residues are ignored by default, but can be included.\n",
    "\n",
    "    Parameters\n",
    "    ----------\n",
    "    pdb_file: pathlib.Path or str\n",
    "        PDB file containing the system to simulate.\n",
    "    ignore_missing_residues: bool, optional\n",
    "        If missing residues should be ignored or built.\n",
    "    ignore_terminal_missing_residues: bool, optional\n",
    "        If missing residues at the beginning and the end of a chain should be ignored or built.\n",
    "    ph: float, optional\n",
    "        pH value used to determine protonation state of residues\n",
    "\n",
    "    Returns\n",
    "    -------\n",
    "    fixer: pdbfixer.pdbfixer.PDBFixer\n",
    "        Prepared protein system.\n",
    "    \"\"\"\n",
    "    fixer = pdbfixer.PDBFixer(str(pdb_file))\n",
    "    fixer.removeHeterogens()  # co-crystallized ligands are unknown to PDBFixer\n",
    "    fixer.findMissingResidues()  # identify missing residues, needed for identification of missing atoms\n",
    "\n",
    "    # if missing terminal residues shall be ignored, remove them from the dictionary\n",
    "    if ignore_terminal_missing_residues:\n",
    "        chains = list(fixer.topology.chains())\n",
    "        keys = fixer.missingResidues.keys()\n",
    "        for key in list(keys):\n",
    "            chain = chains[key[0]]\n",
    "            if key[1] == 0 or key[1] == len(list(chain.residues())):\n",
    "                del fixer.missingResidues[key]\n",
    "\n",
    "    # if all missing residues shall be ignored ignored, clear the dictionary\n",
    "    if ignore_missing_residues:\n",
    "        fixer.missingResidues = {}\n",
    "\n",
    "    fixer.findNonstandardResidues()  # find non-standard residue\n",
    "    fixer.replaceNonstandardResidues()  # replace non-standard residues with standard one\n",
    "    fixer.findMissingAtoms()  # find missing heavy atoms\n",
    "    fixer.addMissingAtoms()  # add missing atoms and residues\n",
    "    fixer.addMissingHydrogens(ph)  # add missing hydrogens\n",
    "    return fixer"
   ]
  },
  {
   "cell_type": "code",
   "execution_count": 5,
   "metadata": {},
   "outputs": [],
   "source": [
    "prepare_protein = prepare_protein(\"./protein_rank_8_complex.pdb\", ignore_missing_residues=False)"
   ]
  },
  {
   "cell_type": "code",
   "execution_count": 6,
   "metadata": {},
   "outputs": [],
   "source": [
    "def prepare_ligand(pdb_file, resname, smiles, depict=True):\n",
    "    \"\"\"\n",
    "    Prepare a ligand from a PDB file via adding hydrogens and assigning bond orders. A depiction\n",
    "    of the ligand before and after preparation is rendered in 2D to allow an inspection of the\n",
    "    results. Huge thanks to @j-wags for the suggestion.\n",
    "\n",
    "    Parameters\n",
    "    ----------\n",
    "    pdb_file: pathlib.PosixPath\n",
    "       PDB file containing the ligand of interest.\n",
    "    resname: str\n",
    "        Three character residue name of the ligand.\n",
    "    smiles : str\n",
    "        SMILES string of the ligand informing about correct protonation and bond orders.\n",
    "    depict: bool, optional\n",
    "        show a 2D representation of the ligand\n",
    "\n",
    "    Returns\n",
    "    -------\n",
    "    prepared_ligand: rdkit.Chem.rdchem.Mol\n",
    "        Prepared ligand.\n",
    "    \"\"\"\n",
    "    # split molecule\n",
    "    rdkit_mol = Chem.MolFromPDBFile(str(pdb_file), proximityBonding=True, sanitize=False)\n",
    "    print(rdkit_mol)\n",
    "    rdkit_mol_split = Chem.rdmolops.SplitMolByPDBResidues(rdkit_mol)\n",
    "\n",
    "    # extract the ligand and remove any already present hydrogens\n",
    "    ligand = rdkit_mol_split[resname]\n",
    "    ligand = Chem.RemoveHs(ligand)\n",
    "\n",
    "    # assign bond orders from template\n",
    "    reference_mol = Chem.MolFromSmiles(smiles)\n",
    "    prepared_ligand = AllChem.AssignBondOrdersFromTemplate(reference_mol, ligand)\n",
    "    prepared_ligand.AddConformer(ligand.GetConformer(0))\n",
    "\n",
    "    # protonate ligand\n",
    "    prepared_ligand = Chem.rdmolops.AddHs(prepared_ligand, addCoords=True)\n",
    "    prepared_ligand = Chem.MolFromMolBlock(Chem.MolToMolBlock(prepared_ligand))\n",
    "\n",
    "    # 2D depiction\n",
    "    if depict:\n",
    "        ligand_2d = copy.deepcopy(ligand)\n",
    "        prepared_ligand_2d = copy.deepcopy(prepared_ligand)\n",
    "        AllChem.Compute2DCoords(ligand_2d)\n",
    "        AllChem.Compute2DCoords(prepared_ligand_2d)\n",
    "        display(\n",
    "            Draw.MolsToGridImage(\n",
    "                [ligand_2d, prepared_ligand_2d], molsPerRow=2, legends=[\"original\", \"prepared\"]\n",
    "            )\n",
    "        )\n",
    "\n",
    "    # return ligand\n",
    "    return prepared_ligand"
   ]
  },
  {
   "cell_type": "code",
   "execution_count": 7,
   "metadata": {},
   "outputs": [],
   "source": [
    "pdb_path = \"./protein_rank_8_complex.pdb\"\n",
    "ligand_name = \"UNL\"\n",
    "smiles = \"CCOc1ccccc1N1CCN(C(=O)Nc2ccccc2)CC1\""
   ]
  },
  {
   "cell_type": "code",
   "execution_count": 8,
   "metadata": {},
   "outputs": [
    {
     "name": "stdout",
     "output_type": "stream",
     "text": [
      "<rdkit.Chem.rdchem.Mol object at 0x7fe00cb1fa60>\n"
     ]
    },
    {
     "name": "stderr",
     "output_type": "stream",
     "text": [
      "[11:42:49] WARNING: More than one matching pattern found - picking one\n",
      "\n"
     ]
    },
    {
     "data": {
      "image/png": "[encoded data removed]",
      "text/plain": [
       "<IPython.core.display.Image object>"
      ]
     },
     "metadata": {},
     "output_type": "display_data"
    }
   ],
   "source": [
    "rdkit_ligand = prepare_ligand(pdb_path, ligand_name, smiles)"
   ]
  },
  {
   "cell_type": "code",
   "execution_count": 9,
   "metadata": {},
   "outputs": [],
   "source": [
    "def rdkit_to_openmm(rdkit_mol, name=\"LIG\"):\n",
    "    \"\"\"\n",
    "    Convert an RDKit molecule to an OpenMM molecule.\n",
    "    Inspired by @hannahbrucemcdonald and @glass-w.\n",
    "\n",
    "    Parameters\n",
    "    ----------\n",
    "    rdkit_mol: rdkit.Chem.rdchem.Mol\n",
    "        RDKit molecule to convert.\n",
    "    name: str\n",
    "        Molecule name.\n",
    "\n",
    "    Returns\n",
    "    -------\n",
    "    omm_molecule: openmm.app.Modeller\n",
    "        OpenMM modeller object holding the molecule of interest.\n",
    "    \"\"\"\n",
    "    # convert RDKit to OpenFF\n",
    "    off_mol = Molecule.from_rdkit(rdkit_mol)\n",
    "    #print(off_mol)\n",
    "\n",
    "    # add name for molecule\n",
    "    off_mol.name = name\n",
    "    #print(off_mol.name)\n",
    "\n",
    "    # add names for atoms\n",
    "    element_counter_dict = {}\n",
    "    for off_atom, rdkit_atom in zip(off_mol.atoms, rdkit_mol.GetAtoms()):\n",
    "        element = rdkit_atom.GetSymbol()\n",
    "        if element in element_counter_dict.keys():\n",
    "            element_counter_dict[element] += 1\n",
    "        else:\n",
    "            element_counter_dict[element] = 1\n",
    "        off_atom.name = element + str(element_counter_dict[element])\n",
    "    #print(element_counter_dict)\n",
    "\n",
    "    # convert from OpenFF to OpenMM\n",
    "    off_mol_topology = off_mol.to_topology()\n",
    "    mol_topology = off_mol_topology.to_openmm()\n",
    "    #print(mol_topology)\n",
    "    mol_positions = off_mol.conformers[0]\n",
    "    #print(mol_positions)\n",
    "\n",
    "    # convert units from Ångström to nanometers\n",
    "    # since OpenMM works in nm\n",
    "    mol_positions = mol_positions.to(\"nanometers\")\n",
    "    #print(mol_positions)\n",
    "\n",
    "    # combine topology and positions in modeller object\n",
    "    omm_mol = app.Modeller(mol_topology, mol_positions)\n",
    "\n",
    "    return omm_mol"
   ]
  },
  {
   "cell_type": "code",
   "execution_count": 10,
   "metadata": {},
   "outputs": [],
   "source": [
    "omm_ligand = rdkit_to_openmm(rdkit_ligand, ligand_name)"
   ]
  },
  {
   "cell_type": "code",
   "execution_count": 11,
   "metadata": {},
   "outputs": [],
   "source": [
    "def merge_protein_and_ligand(protein, ligand):\n",
    "    \"\"\"\n",
    "    Merge two OpenMM objects.\n",
    "\n",
    "    Parameters\n",
    "    ----------\n",
    "    protein: pdbfixer.pdbfixer.PDBFixer\n",
    "        Protein to merge.\n",
    "    ligand: openmm.app.Modeller\n",
    "        Ligand to merge.\n",
    "\n",
    "    Returns\n",
    "    -------\n",
    "    complex_topology: openmm.app.topology.Topology\n",
    "        The merged topology.\n",
    "    complex_positions: openmm.unit.quantity.Quantity\n",
    "        The merged positions.\n",
    "    \"\"\"\n",
    "    # combine topologies\n",
    "    md_protein_topology = md.Topology.from_openmm(protein.topology)  # using mdtraj for protein top\n",
    "    #print(md_protein_topology)\n",
    "    md_ligand_topology = md.Topology.from_openmm(ligand.topology)  # using mdtraj for ligand top\n",
    "    #print(md_ligand_topology)\n",
    "    md_complex_topology = md_protein_topology.join(md_ligand_topology)  # add them together\n",
    "    #print(md_complex_topology)\n",
    "    complex_topology = md_complex_topology.to_openmm()\n",
    "    #print(complex_topology)\n",
    "\n",
    "    # combine positions\n",
    "    total_atoms = len(protein.positions) + len(ligand.positions)\n",
    "\n",
    "    # create an array for storing all atom positions as tupels containing a value and a unit\n",
    "    # called OpenMM Quantities\n",
    "    complex_positions = unit.Quantity(np.zeros([total_atoms, 3]), unit=unit.nanometers)\n",
    "    complex_positions[: len(protein.positions)] = protein.positions  # add protein positions\n",
    "    complex_positions[len(protein.positions) :] = ligand.positions  # add ligand positions\n",
    "\n",
    "    return complex_topology, complex_positions"
   ]
  },
  {
   "cell_type": "code",
   "execution_count": 12,
   "metadata": {},
   "outputs": [],
   "source": [
    "complex_topology, complex_positions = merge_protein_and_ligand(prepare_protein, omm_ligand)"
   ]
  },
  {
   "cell_type": "code",
   "execution_count": 13,
   "metadata": {},
   "outputs": [
    {
     "name": "stdout",
     "output_type": "stream",
     "text": [
      "Complex topology has 4208 atoms.\n"
     ]
    }
   ],
   "source": [
    "print(\"Complex topology has\", complex_topology.getNumAtoms(), \"atoms.\")\n",
    "# NBVAL_CHECK_OUTPUT"
   ]
  },
  {
   "cell_type": "code",
   "execution_count": 14,
   "metadata": {},
   "outputs": [],
   "source": [
    "def generate_forcefield(\n",
    "    rdkit_mol=None, protein_ff=\"amber14-all.xml\", solvent_ff=\"amber14/tip3pfb.xml\"\n",
    "):\n",
    "    \"\"\"\n",
    "    Generate an OpenMM Forcefield object and register a small molecule.\n",
    "\n",
    "    Parameters\n",
    "    ----------\n",
    "    rdkit_mol: rdkit.Chem.rdchem.Mol\n",
    "        Small molecule to register in the force field.\n",
    "    protein_ff: string\n",
    "        Name of the force field.\n",
    "    solvent_ff: string\n",
    "        Name of the solvent force field.\n",
    "\n",
    "    Returns\n",
    "    -------\n",
    "    forcefield: openmm.app.Forcefield\n",
    "        Forcefield with registered small molecule.\n",
    "    \"\"\"\n",
    "    forcefield = app.ForceField(protein_ff, solvent_ff)\n",
    "\n",
    "    if rdkit_mol is not None:\n",
    "        gaff = GAFFTemplateGenerator(\n",
    "            molecules=Molecule.from_rdkit(rdkit_mol, allow_undefined_stereo=True)\n",
    "        )\n",
    "        forcefield.registerTemplateGenerator(gaff.generator)\n",
    "\n",
    "    return forcefield"
   ]
  },
  {
   "cell_type": "code",
   "execution_count": 15,
   "metadata": {},
   "outputs": [],
   "source": [
    "forcefield = generate_forcefield(rdkit_ligand)"
   ]
  },
  {
   "cell_type": "code",
   "execution_count": 16,
   "metadata": {},
   "outputs": [
    {
     "name": "stderr",
     "output_type": "stream",
     "text": [
      "/bin/bash: /home/media/data2/user_home/dbsejrgus226/miniconda3/envs/MD/lib/libtinfo.so.6: no version information available (required by /bin/bash)\n",
      "/bin/bash: /home/media/data2/user_home/dbsejrgus226/miniconda3/envs/MD/lib/libtinfo.so.6: no version information available (required by /bin/bash)\n",
      "/bin/bash: /home/media/data2/user_home/dbsejrgus226/miniconda3/envs/MD/lib/libtinfo.so.6: no version information available (required by /bin/bash)\n",
      "/bin/bash: /home/media/data2/user_home/dbsejrgus226/miniconda3/envs/MD/lib/libtinfo.so.6: no version information available (required by /bin/bash)\n",
      "/bin/bash: /home/media/data2/user_home/dbsejrgus226/miniconda3/envs/MD/lib/libtinfo.so.6: no version information available (required by /bin/bash)\n",
      "/bin/bash: /home/media/data2/user_home/dbsejrgus226/miniconda3/envs/MD/lib/libtinfo.so.6: no version information available (required by /bin/bash)\n",
      "Warning: importing 'simtk.openmm' is deprecated.  Import 'openmm' instead.\n"
     ]
    }
   ],
   "source": [
    "modeller = app.Modeller(complex_topology, complex_positions)\n",
    "modeller.addSolvent(forcefield, padding=1.5 * unit.nanometers, ionicStrength=0.15 * unit.molar)"
   ]
  },
  {
   "cell_type": "code",
   "execution_count": 17,
   "metadata": {},
   "outputs": [],
   "source": [
    "system = forcefield.createSystem(modeller.topology, nonbondedMethod=app.NoCutoff)\n",
    "integrator = mm.LangevinIntegrator(\n",
    "    309.65 * unit.kelvin, 1.0 / unit.picoseconds, 2.0 * unit.femtoseconds\n",
    ")\n",
    "simulation = app.Simulation(modeller.topology, system, integrator)\n",
    "simulation.context.setPositions(modeller.positions)"
   ]
  },
  {
   "cell_type": "code",
   "execution_count": 18,
   "metadata": {},
   "outputs": [],
   "source": [
    "simulation.minimizeEnergy()\n",
    "with open(\"topology_8.pdb\", \"w\") as pdb_file:\n",
    "    app.PDBFile.writeFile(\n",
    "        simulation.topology,\n",
    "        simulation.context.getState(getPositions=True, enforcePeriodicBox=True).getPositions(),\n",
    "        file=pdb_file,\n",
    "        keepIds=True,\n",
    "    )"
   ]
  },
  {
   "cell_type": "code",
   "execution_count": 19,
   "metadata": {},
   "outputs": [],
   "source": [
    "# output settings\n",
    "\n",
    "steps = 50000  # corresponds to 100 fs\n",
    "write_interval = 500  # write every 10 fs\n",
    "log_interval = 250  # log progress to stdout every 5 fs\n",
    "simulation.reporters.append(\n",
    "    md.reporters.XTCReporter(file=str(\"trajectory_8.xtc\"), reportInterval=write_interval)\n",
    ")\n",
    "simulation.reporters.append(\n",
    "    app.StateDataReporter(\n",
    "        sys.stdout,\n",
    "        log_interval,\n",
    "        step=True,\n",
    "        potentialEnergy=True,\n",
    "        temperature=True,\n",
    "        progress=True,\n",
    "        remainingTime=True,\n",
    "        speed=True,\n",
    "        totalSteps=steps,\n",
    "        separator=\"\\t\",\n",
    "    )\n",
    ")"
   ]
  },
  {
   "cell_type": "code",
   "execution_count": 20,
   "metadata": {},
   "outputs": [
    {
     "name": "stdout",
     "output_type": "stream",
     "text": [
      "#\"Progress (%)\"\t\"Step\"\t\"Potential Energy (kJ/mole)\"\t\"Temperature (K)\"\t\"Speed (ns/day)\"\t\"Time Remaining\"\n",
      "0.5%\t250\t-1026214.375\t209.92729362460156\t0\t--\n",
      "1.0%\t500\t-1002195.375\t246.47848728874297\t0.98\t2:25:30\n",
      "1.5%\t750\t-987864.375\t270.7024024350044\t0.98\t2:24:43\n",
      "2.0%\t1000\t-978128.5625\t284.87726048235646\t0.98\t2:24:00\n",
      "2.5%\t1250\t-970971.625\t293.1172515874066\t0.98\t2:23:14\n",
      "3.0%\t1500\t-965118.0\t297.19644138355994\t0.98\t2:22:31\n",
      "3.5%\t1750\t-962322.1875\t300.0739907776771\t0.98\t2:21:47\n",
      "4.0%\t2000\t-960327.0625\t303.44163468930464\t0.98\t2:21:05\n",
      "4.5%\t2250\t-957281.25\t305.3768351951128\t0.98\t2:20:20\n",
      "5.0%\t2500\t-954578.625\t306.16713610106973\t0.98\t2:19:37\n",
      "5.5%\t2750\t-953253.75\t307.05319758049484\t0.98\t2:18:53\n",
      "6.0%\t3000\t-953024.625\t306.5184255738813\t0.98\t2:18:09\n",
      "6.5%\t3250\t-953924.125\t308.36082631532474\t0.98\t2:17:24\n",
      "7.0%\t3500\t-953311.3125\t309.24438118589904\t0.98\t2:16:41\n",
      "7.5%\t3750\t-951288.625\t307.18675631576053\t0.98\t2:15:56\n",
      "8.0%\t4000\t-951690.4375\t308.9948394220463\t0.98\t2:15:13\n",
      "8.5%\t4250\t-950431.75\t310.5853043995643\t0.98\t2:14:29\n",
      "9.0%\t4500\t-951549.9375\t310.11275027652306\t0.98\t2:13:45\n",
      "9.5%\t4750\t-950683.0\t309.2268581211087\t0.98\t2:13:01\n",
      "10.0%\t5000\t-949949.75\t307.0736301304062\t0.98\t2:12:17\n",
      "10.5%\t5250\t-950505.0\t309.91077865934653\t0.98\t2:11:32\n",
      "11.0%\t5500\t-951272.25\t311.4816356962881\t0.98\t2:10:49\n",
      "11.5%\t5750\t-950180.1875\t311.4545655692812\t0.98\t2:10:05\n",
      "12.0%\t6000\t-951135.625\t312.8775479359111\t0.98\t2:09:21\n",
      "12.5%\t6250\t-951173.75\t309.4805244565419\t0.98\t2:08:37\n",
      "13.0%\t6500\t-953112.875\t311.59293130341456\t0.98\t2:07:53\n",
      "13.5%\t6750\t-952268.1875\t311.02662139472216\t0.98\t2:07:09\n",
      "14.0%\t7000\t-952448.125\t311.4366235273146\t0.98\t2:06:25\n",
      "14.5%\t7250\t-952464.25\t312.0607835711699\t0.98\t2:05:41\n",
      "15.0%\t7500\t-952430.125\t311.260006804444\t0.98\t2:04:57\n",
      "15.5%\t7750\t-952053.25\t310.2716800358913\t0.98\t2:04:13\n",
      "16.0%\t8000\t-953565.0\t311.2483705341152\t0.98\t2:03:29\n",
      "16.5%\t8250\t-952860.0\t308.50720666147254\t0.98\t2:02:44\n",
      "17.0%\t8500\t-953107.625\t307.2043623410321\t0.98\t2:02:00\n",
      "17.5%\t8750\t-953343.25\t309.8795896379076\t0.98\t2:01:16\n",
      "18.0%\t9000\t-952474.125\t310.28426077819546\t0.98\t2:00:32\n",
      "18.5%\t9250\t-952642.25\t310.9284921346708\t0.98\t1:59:48\n",
      "19.0%\t9500\t-951359.75\t311.1244485110144\t0.98\t1:59:04\n",
      "19.5%\t9750\t-951491.0\t311.045516060256\t0.98\t1:58:20\n",
      "20.0%\t10000\t-951166.25\t309.83978100750204\t0.98\t1:57:36\n",
      "20.5%\t10250\t-951326.625\t309.45173526560046\t0.98\t1:56:52\n",
      "21.0%\t10500\t-952804.25\t311.6741518546897\t0.98\t1:56:08\n",
      "21.5%\t10750\t-952151.6875\t311.49430874935604\t0.98\t1:55:24\n",
      "22.0%\t11000\t-952370.0\t309.08340301319566\t0.98\t1:54:40\n",
      "22.5%\t11250\t-951562.4375\t309.40175646867243\t0.98\t1:53:55\n",
      "23.0%\t11500\t-951071.375\t307.6647866290366\t0.983\t1:52:47\n",
      "23.5%\t11750\t-951860.875\t310.5540996954384\t0.988\t1:51:31\n",
      "24.0%\t12000\t-952925.5\t312.4632809732002\t0.992\t1:50:16\n",
      "24.5%\t12250\t-953075.0\t309.24849688216653\t0.997\t1:49:04\n",
      "25.0%\t12500\t-953258.875\t308.86949543764774\t1\t1:47:53\n",
      "25.5%\t12750\t-953454.375\t308.33212284280194\t1.01\t1:46:43\n",
      "26.0%\t13000\t-953252.25\t310.1187087378114\t1.01\t1:45:35\n",
      "26.5%\t13250\t-953580.625\t308.1555345212408\t1.01\t1:44:28\n",
      "27.0%\t13500\t-953649.625\t309.5296949209612\t1.02\t1:43:22\n",
      "27.5%\t13750\t-953659.3125\t310.21148295619065\t1.02\t1:42:18\n",
      "28.0%\t14000\t-951936.6875\t308.2880687660409\t1.02\t1:41:15\n",
      "28.5%\t14250\t-953172.875\t311.6598727107883\t1.03\t1:40:12\n",
      "29.0%\t14500\t-953986.625\t312.5295431085971\t1.03\t1:39:11\n",
      "29.5%\t14750\t-952031.0\t310.3044411669215\t1.03\t1:38:10\n",
      "30.0%\t15000\t-952387.875\t309.6653210937603\t1.04\t1:37:11\n",
      "30.5%\t15250\t-952127.625\t309.45047721835624\t1.04\t1:36:12\n",
      "31.0%\t15500\t-951841.75\t310.528936578289\t1.04\t1:35:14\n",
      "31.5%\t15750\t-950859.5\t310.6840909513892\t1.05\t1:34:17\n",
      "32.0%\t16000\t-952286.625\t311.1829364985755\t1.05\t1:33:21\n",
      "32.5%\t16250\t-952732.6875\t311.26068150701946\t1.05\t1:32:25\n",
      "33.0%\t16500\t-953090.0\t310.42930629420414\t1.05\t1:31:30\n",
      "33.5%\t16750\t-952659.3125\t310.02007696873216\t1.06\t1:30:35\n",
      "34.0%\t17000\t-952764.875\t308.89532585313475\t1.06\t1:29:41\n",
      "34.5%\t17250\t-952716.0\t309.89039728857534\t1.06\t1:28:48\n",
      "35.0%\t17500\t-953493.5\t310.9333057999284\t1.06\t1:27:55\n",
      "35.5%\t17750\t-953339.375\t309.04614425775793\t1.07\t1:27:03\n",
      "36.0%\t18000\t-953379.875\t309.9941901062544\t1.07\t1:26:11\n",
      "36.5%\t18250\t-953481.625\t307.80109924380156\t1.07\t1:25:20\n",
      "37.0%\t18500\t-953246.125\t309.3079903195259\t1.07\t1:24:29\n",
      "37.5%\t18750\t-954024.3125\t310.5009355113312\t1.08\t1:23:39\n",
      "38.0%\t19000\t-954896.4375\t310.5154483449758\t1.08\t1:22:49\n",
      "38.5%\t19250\t-954197.875\t308.2992193223889\t1.08\t1:22:00\n",
      "39.0%\t19500\t-953652.5625\t307.2179148516298\t1.08\t1:21:11\n",
      "39.5%\t19750\t-954479.75\t308.02734332337303\t1.08\t1:20:22\n",
      "40.0%\t20000\t-953958.5\t310.0527322051895\t1.09\t1:19:34\n",
      "40.5%\t20250\t-955396.875\t311.85254263906893\t1.09\t1:18:46\n",
      "41.0%\t20500\t-954624.75\t308.8364983682756\t1.09\t1:17:58\n",
      "41.5%\t20750\t-954862.0\t310.46268003946284\t1.09\t1:17:11\n",
      "42.0%\t21000\t-955353.625\t309.94221780728753\t1.09\t1:16:24\n",
      "42.5%\t21250\t-955154.6875\t309.2980164175633\t1.09\t1:15:37\n",
      "43.0%\t21500\t-954856.5\t310.65813383127943\t1.1\t1:14:51\n",
      "43.5%\t21750\t-954686.0625\t312.9496701226746\t1.1\t1:14:04\n",
      "44.0%\t22000\t-953344.25\t311.29843608444446\t1.1\t1:13:19\n",
      "44.5%\t22250\t-954390.5625\t310.21913210260243\t1.1\t1:12:33\n",
      "45.0%\t22500\t-954327.5625\t309.540151490213\t1.1\t1:11:48\n",
      "45.5%\t22750\t-955327.25\t309.745472829404\t1.1\t1:11:03\n",
      "46.0%\t23000\t-955070.0\t309.6214811782665\t1.11\t1:10:18\n",
      "46.5%\t23250\t-954282.6875\t307.5684086062957\t1.11\t1:09:33\n",
      "47.0%\t23500\t-954348.875\t309.8685765342076\t1.11\t1:08:49\n",
      "47.5%\t23750\t-953400.875\t308.3899476312132\t1.11\t1:08:05\n",
      "48.0%\t24000\t-952696.125\t309.5307787118813\t1.11\t1:07:21\n",
      "48.5%\t24250\t-953326.5625\t310.4318058594686\t1.11\t1:06:37\n",
      "49.0%\t24500\t-953874.0\t311.3071552032251\t1.11\t1:05:53\n",
      "49.5%\t24750\t-953212.25\t308.91114262361504\t1.12\t1:05:10\n",
      "50.0%\t25000\t-954237.375\t311.41986179527527\t1.12\t1:04:27\n",
      "50.5%\t25250\t-953642.75\t310.70460894428277\t1.12\t1:03:44\n",
      "51.0%\t25500\t-953985.0\t308.2711002553577\t1.12\t1:03:01\n",
      "51.5%\t25750\t-953484.5\t308.9140055007136\t1.12\t1:02:18\n",
      "52.0%\t26000\t-953705.0625\t310.6343357034794\t1.12\t1:01:36\n",
      "52.5%\t26250\t-953426.125\t310.5512527060562\t1.12\t1:00:53\n",
      "53.0%\t26500\t-954297.625\t311.7562285263876\t1.12\t1:00:11\n",
      "53.5%\t26750\t-954551.25\t310.5956373745965\t1.13\t59:29\n",
      "54.0%\t27000\t-954091.125\t308.54799660145\t1.13\t58:47\n",
      "54.5%\t27250\t-954639.0\t309.7613586858652\t1.13\t58:05\n",
      "55.0%\t27500\t-954650.25\t308.71816686699884\t1.13\t57:24\n",
      "55.5%\t27750\t-954041.3125\t310.8835225712578\t1.13\t56:42\n",
      "56.0%\t28000\t-954410.4375\t312.0617317633276\t1.13\t56:01\n",
      "56.5%\t28250\t-954178.9375\t311.53521997767047\t1.13\t55:19\n",
      "57.0%\t28500\t-955054.625\t310.03060437271574\t1.13\t54:38\n",
      "57.5%\t28750\t-954742.5625\t311.2471328339762\t1.13\t53:57\n",
      "58.0%\t29000\t-955020.0\t311.75401818420295\t1.14\t53:16\n",
      "58.5%\t29250\t-953862.25\t308.5522924156642\t1.14\t52:36\n",
      "59.0%\t29500\t-954670.3125\t308.461747291641\t1.14\t51:55\n",
      "59.5%\t29750\t-955163.1875\t311.4357207217075\t1.14\t51:14\n",
      "60.0%\t30000\t-954389.125\t311.65680062301874\t1.14\t50:34\n",
      "60.5%\t30250\t-954332.4375\t309.9751459884524\t1.14\t49:54\n",
      "61.0%\t30500\t-953820.375\t308.12378063635157\t1.14\t49:13\n",
      "61.5%\t30750\t-954786.4375\t310.97834585768476\t1.14\t48:33\n",
      "62.0%\t31000\t-955616.875\t308.8879725432765\t1.14\t47:53\n",
      "62.5%\t31250\t-956710.875\t309.72150448531596\t1.14\t47:13\n",
      "63.0%\t31500\t-956188.75\t309.16009105401895\t1.14\t46:33\n",
      "63.5%\t31750\t-955646.1875\t307.46671007155817\t1.15\t45:54\n",
      "64.0%\t32000\t-956366.1875\t308.6033157076376\t1.15\t45:14\n",
      "64.5%\t32250\t-956316.25\t309.97264485962614\t1.15\t44:34\n",
      "65.0%\t32500\t-956270.375\t310.3249700558308\t1.15\t43:55\n",
      "65.5%\t32750\t-955310.375\t309.1372258045736\t1.15\t43:15\n",
      "66.0%\t33000\t-954623.75\t308.4215710910909\t1.15\t42:36\n",
      "66.5%\t33250\t-955453.625\t311.3073356710665\t1.15\t41:57\n",
      "67.0%\t33500\t-955212.25\t310.60352766629893\t1.15\t41:18\n",
      "67.5%\t33750\t-956291.125\t311.3272969585703\t1.15\t40:38\n",
      "68.0%\t34000\t-955569.875\t309.7697977136396\t1.15\t39:59\n",
      "68.5%\t34250\t-955511.6875\t309.0801396477425\t1.15\t39:20\n",
      "69.0%\t34500\t-955915.0625\t311.5917856028386\t1.15\t38:41\n",
      "69.5%\t34750\t-954870.375\t312.86697937727047\t1.15\t38:03\n",
      "70.0%\t35000\t-955433.875\t310.8535916109357\t1.15\t37:24\n",
      "70.5%\t35250\t-956101.4375\t310.9287965743297\t1.16\t36:45\n",
      "71.0%\t35500\t-956034.0625\t309.9448772377103\t1.16\t36:06\n",
      "71.5%\t35750\t-956808.625\t310.4771820964553\t1.16\t35:28\n",
      "72.0%\t36000\t-955539.5\t309.26649118359074\t1.16\t34:49\n",
      "72.5%\t36250\t-954504.25\t311.5941669929927\t1.16\t34:11\n",
      "73.0%\t36500\t-953571.375\t310.43498073612307\t1.16\t33:32\n",
      "73.5%\t36750\t-954567.75\t310.9814672759772\t1.16\t32:54\n",
      "74.0%\t37000\t-954323.0625\t308.54681417214823\t1.16\t32:16\n",
      "74.5%\t37250\t-954607.125\t310.1633973532177\t1.16\t31:37\n",
      "75.0%\t37500\t-955341.8125\t312.07982033404494\t1.16\t30:59\n",
      "75.5%\t37750\t-954442.875\t311.10482126488364\t1.16\t30:21\n",
      "76.0%\t38000\t-955351.25\t310.52816396338056\t1.16\t29:43\n",
      "76.5%\t38250\t-956231.8125\t309.1492346194952\t1.16\t29:05\n",
      "77.0%\t38500\t-955970.75\t310.9691189525138\t1.16\t28:27\n",
      "77.5%\t38750\t-956382.5\t309.9074012084653\t1.16\t27:49\n",
      "78.0%\t39000\t-955519.0\t310.41299011814334\t1.17\t27:11\n",
      "78.5%\t39250\t-954301.1875\t307.2878997236588\t1.17\t26:33\n",
      "79.0%\t39500\t-955814.4375\t311.45638100519847\t1.17\t25:55\n",
      "79.5%\t39750\t-953573.0\t308.8864718330406\t1.17\t25:18\n",
      "80.0%\t40000\t-954541.8125\t309.8928743584796\t1.17\t24:40\n",
      "80.5%\t40250\t-955905.875\t307.93320598466164\t1.17\t24:02\n",
      "81.0%\t40500\t-956007.0\t309.4332451367264\t1.17\t23:25\n",
      "81.5%\t40750\t-956187.125\t309.1451686233036\t1.17\t22:47\n",
      "82.0%\t41000\t-956710.0\t308.2923241445108\t1.17\t22:09\n",
      "82.5%\t41250\t-954461.25\t306.8447315880929\t1.17\t21:32\n",
      "83.0%\t41500\t-955190.0625\t309.1875124681552\t1.17\t20:54\n",
      "83.5%\t41750\t-955821.1875\t310.6426693583461\t1.17\t20:17\n",
      "84.0%\t42000\t-954806.9375\t309.46636850120746\t1.17\t19:40\n",
      "84.5%\t42250\t-955085.6875\t310.1203308793354\t1.17\t19:02\n",
      "85.0%\t42500\t-954719.0\t310.2259298068226\t1.17\t18:25\n",
      "85.5%\t42750\t-954747.25\t309.490079858727\t1.17\t17:48\n",
      "86.0%\t43000\t-956184.875\t309.13547650079636\t1.17\t17:10\n",
      "86.5%\t43250\t-957164.875\t312.4111011922385\t1.17\t16:33\n",
      "87.0%\t43500\t-954834.125\t309.03053248215366\t1.17\t15:56\n",
      "87.5%\t43750\t-955017.75\t310.1772789836179\t1.17\t15:19\n",
      "88.0%\t44000\t-955023.5625\t311.6154262529293\t1.17\t14:42\n",
      "88.5%\t44250\t-954790.375\t310.85697624120195\t1.17\t14:06\n",
      "89.0%\t44500\t-954730.125\t308.7066810782401\t1.17\t13:29\n",
      "89.5%\t44750\t-954726.9375\t310.9614123438505\t1.17\t12:53\n",
      "90.0%\t45000\t-954896.0\t309.90150646799475\t1.17\t12:16\n",
      "90.5%\t45250\t-956005.625\t312.9046334345438\t1.17\t11:39\n",
      "91.0%\t45500\t-955734.125\t310.2853248888169\t1.17\t11:02\n",
      "91.5%\t45750\t-956148.0\t311.08183755654954\t1.17\t10:25\n",
      "92.0%\t46000\t-955725.9375\t308.92097279270683\t1.17\t9:48\n",
      "92.5%\t46250\t-955860.75\t309.83427266123437\t1.18\t9:10\n",
      "93.0%\t46500\t-956035.75\t311.33717911029305\t1.18\t8:33\n",
      "93.5%\t46750\t-956375.75\t309.71849416261654\t1.18\t7:56\n",
      "94.0%\t47000\t-955936.75\t308.47224854641684\t1.18\t7:19\n",
      "94.5%\t47250\t-955819.0\t310.8601017599765\t1.18\t6:41\n",
      "95.0%\t47500\t-955834.75\t308.4703606961826\t1.19\t6:04\n",
      "95.5%\t47750\t-954972.625\t307.681355108285\t1.19\t5:27\n",
      "96.0%\t48000\t-955570.125\t311.5296408351701\t1.19\t4:49\n",
      "96.5%\t48250\t-955415.75\t310.3145899584885\t1.2\t4:12\n",
      "97.0%\t48500\t-955540.4375\t309.1087063387186\t1.2\t3:35\n",
      "97.5%\t48750\t-957159.875\t310.25923161230116\t1.2\t2:59\n",
      "98.0%\t49000\t-954397.8125\t308.51336497782125\t1.21\t2:23\n",
      "98.5%\t49250\t-954777.25\t308.60250284344266\t1.21\t1:46\n",
      "99.0%\t49500\t-956121.9375\t308.54711208276046\t1.22\t1:11\n",
      "99.5%\t49750\t-955480.375\t309.07039344344855\t1.22\t0:35\n",
      "100.0%\t50000\t-956165.0\t308.32742146370117\t1.22\t0:00\n"
     ]
    }
   ],
   "source": [
    "simulation.context.setVelocitiesToTemperature(309.65 * unit.kelvin)\n",
    "simulation.step(steps)  # perform the simulation"
   ]
  },
  {
   "cell_type": "code",
   "execution_count": 21,
   "metadata": {},
   "outputs": [
    {
     "name": "stdout",
     "output_type": "stream",
     "text": [
      "os.stat_result(st_mode=33204, st_ino=235276816, st_dev=2080, st_nlink=1, st_uid=1002, st_gid=1002, st_size=22902816, st_atime=1717124540, st_mtime=1717131612, st_ctime=1717131612)\n"
     ]
    }
   ],
   "source": [
    "# Check the trajectory exists and is not empty\n",
    "import os \n",
    "result = \"./trajectory_8.xtc\"\n",
    "file_info = os.stat(result)\n",
    "print(file_info)\n",
    "#result.stat().st_size > 0\n",
    "# NBVAL_CHECK_OUTPUT"
   ]
  },
  {
   "cell_type": "markdown",
   "metadata": {},
   "source": [
    "# Analysis MD Simulation results"
   ]
  },
  {
   "cell_type": "code",
   "execution_count": 22,
   "metadata": {},
   "outputs": [
    {
     "data": {
      "application/vnd.jupyter.widget-view+json": {
       "model_id": "59e755be5b594abb8516735808226824",
       "version_major": 2,
       "version_minor": 0
      },
      "text/plain": []
     },
     "metadata": {},
     "output_type": "display_data"
    }
   ],
   "source": [
    "from pathlib import Path\n",
    "\n",
    "import pandas as pd\n",
    "import numpy as np\n",
    "import matplotlib.pyplot as plt\n",
    "import nglview as nv\n",
    "import MDAnalysis as mda\n",
    "from MDAnalysis.analysis import rms, diffusionmap, align\n",
    "from MDAnalysis.analysis.distances import dist\n",
    "from MDAnalysis.analysis.hydrogenbonds.hbond_analysis import HydrogenBondAnalysis as HBA\n"
   ]
  },
  {
   "cell_type": "code",
   "execution_count": 23,
   "metadata": {},
   "outputs": [],
   "source": [
    "md_universe = mda.Universe(str(\"./topology_8.pdb\"), str(\"./trajectory_8.xtc\"))"
   ]
  },
  {
   "cell_type": "code",
   "execution_count": 24,
   "metadata": {},
   "outputs": [
    {
     "data": {
      "text/plain": [
       "<MDAnalysis.analysis.align.AlignTraj at 0x7fdff3d5ef70>"
      ]
     },
     "execution_count": 24,
     "metadata": {},
     "output_type": "execute_result"
    }
   ],
   "source": [
    "# Set trajectory pointer to first frame as reference\n",
    "md_universe.trajectory[0]\n",
    "\n",
    "# in_memory=True is needed to actually modify the loaded trajectory\n",
    "# if the trajectory is too big for memory, one can write out the aligned trajectory and reload it into a new universe\n",
    "alignment = align.AlignTraj(\n",
    "    mobile=md_universe, reference=md_universe, select=\"protein\", in_memory=True\n",
    ")\n",
    "alignment.run()"
   ]
  },
  {
   "cell_type": "code",
   "execution_count": 25,
   "metadata": {},
   "outputs": [],
   "source": [
    "def rmsd_for_atomgroups(universe, selection1, selection2=None):\n",
    "    \"\"\"Calulate the RMSD for selected atom groups.\n",
    "\n",
    "    Parameters\n",
    "    ----------\n",
    "    universe: MDAnalysis.core.universe.Universe\n",
    "        MDAnalysis universe.\n",
    "    selection1: str\n",
    "        Selection string for main atom group, also used during alignment.\n",
    "    selection2: list of str, optional\n",
    "        Selection strings for additional atom groups.\n",
    "\n",
    "    Returns\n",
    "    -------\n",
    "    rmsd_df: pandas.core.frame.DataFrame\n",
    "        DataFrame containing RMSD of the selected atom groups over time.\n",
    "    \"\"\"\n",
    "\n",
    "    universe.trajectory\n",
    "    ref = universe\n",
    "    rmsd_analysis = rms.RMSD(universe, ref, select=selection1, groupselections=selection2)\n",
    "    rmsd_analysis.run()\n",
    "\n",
    "    columns = [selection1, *selection2] if selection2 else [selection1]\n",
    "    #print(rmsd_analysis.results)\n",
    "    #print(rmsd_analysis)\n",
    "    rmsd_df = pd.DataFrame(np.round(rmsd_analysis.results.rmsd[:, 2:], 2), columns=columns)\n",
    "    rmsd_df.index.name = \"time\"\n",
    "    return rmsd_df"
   ]
  },
  {
   "cell_type": "code",
   "execution_count": 26,
   "metadata": {},
   "outputs": [],
   "source": [
    "rmsd = rmsd_for_atomgroups(md_universe, \"backbone\", [\"protein\", \"resname UNK\"])\n",
    "#rmsd[:20]"
   ]
  },
  {
   "cell_type": "code",
   "execution_count": 27,
   "metadata": {},
   "outputs": [
    {
     "data": {
      "text/html": [
       "<div>\n",
       "<style scoped>\n",
       "    .dataframe tbody tr th:only-of-type {\n",
       "        vertical-align: middle;\n",
       "    }\n",
       "\n",
       "    .dataframe tbody tr th {\n",
       "        vertical-align: top;\n",
       "    }\n",
       "\n",
       "    .dataframe thead th {\n",
       "        text-align: right;\n",
       "    }\n",
       "</style>\n",
       "<table border=\"1\" class=\"dataframe\">\n",
       "  <thead>\n",
       "    <tr style=\"text-align: right;\">\n",
       "      <th></th>\n",
       "      <th>backbone</th>\n",
       "      <th>protein</th>\n",
       "      <th>rank_8_ligand</th>\n",
       "    </tr>\n",
       "    <tr>\n",
       "      <th>time</th>\n",
       "      <th></th>\n",
       "      <th></th>\n",
       "      <th></th>\n",
       "    </tr>\n",
       "  </thead>\n",
       "  <tbody>\n",
       "    <tr>\n",
       "      <th>0</th>\n",
       "      <td>0.00</td>\n",
       "      <td>0.00</td>\n",
       "      <td>0.00</td>\n",
       "    </tr>\n",
       "    <tr>\n",
       "      <th>1</th>\n",
       "      <td>0.59</td>\n",
       "      <td>0.79</td>\n",
       "      <td>0.83</td>\n",
       "    </tr>\n",
       "    <tr>\n",
       "      <th>2</th>\n",
       "      <td>0.73</td>\n",
       "      <td>0.97</td>\n",
       "      <td>1.01</td>\n",
       "    </tr>\n",
       "    <tr>\n",
       "      <th>3</th>\n",
       "      <td>0.78</td>\n",
       "      <td>1.02</td>\n",
       "      <td>1.33</td>\n",
       "    </tr>\n",
       "    <tr>\n",
       "      <th>4</th>\n",
       "      <td>0.81</td>\n",
       "      <td>1.10</td>\n",
       "      <td>1.19</td>\n",
       "    </tr>\n",
       "  </tbody>\n",
       "</table>\n",
       "</div>"
      ],
      "text/plain": [
       "      backbone  protein  rank_8_ligand\n",
       "time                                  \n",
       "0         0.00     0.00           0.00\n",
       "1         0.59     0.79           0.83\n",
       "2         0.73     0.97           1.01\n",
       "3         0.78     1.02           1.33\n",
       "4         0.81     1.10           1.19"
      ]
     },
     "execution_count": 27,
     "metadata": {},
     "output_type": "execute_result"
    }
   ],
   "source": [
    "rmsd.rename(columns={\"resname UNK\": \"rank_8_ligand\"}, inplace=True)\n",
    "rmsd.head()"
   ]
  },
  {
   "cell_type": "code",
   "execution_count": 28,
   "metadata": {},
   "outputs": [
    {
     "data": {
      "image/png": "[encoded data removed]",
      "text/plain": [
       "<Figure size 640x480 with 1 Axes>"
      ]
     },
     "metadata": {},
     "output_type": "display_data"
    }
   ],
   "source": [
    "rmsd.plot(title=\"RMSD of protein and ligand\")\n",
    "plt.xlabel(\"time (ps)\")\n",
    "plt.ylabel(\"RMSD (Å)\");\n",
    "plt.savefig(\"rank8_rmsd_results\")"
   ]
  },
  {
   "cell_type": "code",
   "execution_count": 30,
   "metadata": {},
   "outputs": [],
   "source": [
    "rmsd.to_csv(\"rank_8_rmsd_results.csv\")"
   ]
  },
  {
   "cell_type": "code",
   "execution_count": 1,
   "metadata": {},
   "outputs": [],
   "source": [
    "import MDAnalysis as mda\n",
    "from MDAnalysis.analysis import align\n",
    "import MDAnalysis.transformations as trans\n",
    "from MDAnalysis.analysis.rms import RMSF\n",
    "\n",
    "import matplotlib.pyplot as plt"
   ]
  },
  {
   "cell_type": "code",
   "execution_count": 2,
   "metadata": {},
   "outputs": [
    {
     "name": "stderr",
     "output_type": "stream",
     "text": [
      "Warning: importing 'simtk.openmm' is deprecated.  Import 'openmm' instead.\n",
      "/home/media/data2/user_home/dbsejrgus226/miniconda3/envs/MD/lib/python3.8/site-packages/MDAnalysis/topology/PDBParser.py:276: UserWarning: PDB file is missing resid information.  Defaulted to '1'\n",
      "  warnings.warn(\"PDB file is missing resid information.  \"\n"
     ]
    }
   ],
   "source": [
    "md_universe = mda.Universe(str(\"./topology_8.pdb\"), str(\"./trajectory_8.xtc\"))\n",
    "protein = md_universe.select_atoms(\"protein\")\n",
    "\n",
    "# 1) the current trajectory contains a protein split across\n",
    "#    periodic boundaries, so we first make the protein whole and\n",
    "#    center it in the box using on-the-fly transformations\n",
    "not_protein = md_universe.select_atoms(\"not protein\")\n",
    "transforms = [trans.unwrap(protein),\n",
    "              trans.center_in_box(protein, wrap=True),\n",
    "              trans.wrap(not_protein)]\n",
    "md_universe.trajectory.add_transformations(*transforms)\n",
    "\n",
    "# 2) fit to the initial frame to get a better average structure\n",
    "#    (the trajectory is changed in memory)\n",
    "prealigner = align.AlignTraj(md_universe, md_universe, select=\"protein and name CA\",\n",
    "                             in_memory=True).run()\n",
    "\n",
    "# 3) reference = average structure\n",
    "reference_coordinates = md_universe.trajectory.timeseries(asel=protein).mean(axis=1)\n",
    "# make a reference structure (need to reshape into a 1-frame \"trajectory\")\n",
    "reference = mda.Merge(protein).load_new(\n",
    "    reference_coordinates[:, None, :], order=\"afc\")\n",
    "\n",
    "# We created a new universe reference that contains a single frame with the averaged coordinates of the protein.\n",
    "# Now we need to fit the whole trajectory to the reference by minimizing the RMSD. \n",
    "# We use MDAnalysis.analysis.align.AlignTraj:\n",
    "aligner = align.AlignTraj(md_universe, reference, select=\"protein and name CA\", in_memory=True).run()\n"
   ]
  },
  {
   "cell_type": "code",
   "execution_count": 3,
   "metadata": {},
   "outputs": [],
   "source": [
    "# The trajectory is now fitted to the reference (the RMSD is stored as aligner.rmsd for further inspection). \n",
    "# Now we can calculate the RMSF:\n",
    "calphas = protein.select_atoms(\"name CA\")\n",
    "rmsfer = RMSF(calphas, verbose=False).run()"
   ]
  },
  {
   "cell_type": "code",
   "execution_count": 4,
   "metadata": {},
   "outputs": [
    {
     "name": "stderr",
     "output_type": "stream",
     "text": [
      "/home/media/data2/user_home/dbsejrgus226/miniconda3/envs/MD/lib/python3.8/site-packages/MDAnalysis/analysis/rms.py:877: DeprecationWarning: The `rmsf` attribute was deprecated in MDAnalysis 2.0.0 and will be removed in MDAnalysis 3.0.0. Please use `results.rmsd` instead.\n",
      "  warnings.warn(wmsg, DeprecationWarning)\n"
     ]
    },
    {
     "data": {
      "image/png": "[encoded data removed]",
      "text/plain": [
       "<Figure size 640x480 with 1 Axes>"
      ]
     },
     "metadata": {},
     "output_type": "display_data"
    }
   ],
   "source": [
    "plt.plot(calphas.resnums, rmsfer.rmsf)\n",
    "plt.xlabel(\"Residue number\")\n",
    "plt.ylabel(\"RMSF (nm)\")\n",
    "plt.savefig(\"rank8_rmsf_results.png\")"
   ]
  },
  {
   "cell_type": "code",
   "execution_count": 5,
   "metadata": {},
   "outputs": [
    {
     "name": "stdout",
     "output_type": "stream",
     "text": [
      "258\n",
      "258\n"
     ]
    }
   ],
   "source": [
    "print(len(calphas.resnums))\n",
    "print(len(rmsfer.rmsf))"
   ]
  },
  {
   "cell_type": "code",
   "execution_count": 6,
   "metadata": {},
   "outputs": [
    {
     "data": {
      "text/html": [
       "<div>\n",
       "<style scoped>\n",
       "    .dataframe tbody tr th:only-of-type {\n",
       "        vertical-align: middle;\n",
       "    }\n",
       "\n",
       "    .dataframe tbody tr th {\n",
       "        vertical-align: top;\n",
       "    }\n",
       "\n",
       "    .dataframe thead th {\n",
       "        text-align: right;\n",
       "    }\n",
       "</style>\n",
       "<table border=\"1\" class=\"dataframe\">\n",
       "  <thead>\n",
       "    <tr style=\"text-align: right;\">\n",
       "      <th></th>\n",
       "      <th>residue</th>\n",
       "      <th>rmsf</th>\n",
       "    </tr>\n",
       "  </thead>\n",
       "  <tbody>\n",
       "    <tr>\n",
       "      <th>0</th>\n",
       "      <td>414</td>\n",
       "      <td>0.884381</td>\n",
       "    </tr>\n",
       "    <tr>\n",
       "      <th>1</th>\n",
       "      <td>415</td>\n",
       "      <td>0.568236</td>\n",
       "    </tr>\n",
       "    <tr>\n",
       "      <th>2</th>\n",
       "      <td>416</td>\n",
       "      <td>0.504268</td>\n",
       "    </tr>\n",
       "    <tr>\n",
       "      <th>3</th>\n",
       "      <td>417</td>\n",
       "      <td>0.490313</td>\n",
       "    </tr>\n",
       "    <tr>\n",
       "      <th>4</th>\n",
       "      <td>418</td>\n",
       "      <td>0.562470</td>\n",
       "    </tr>\n",
       "  </tbody>\n",
       "</table>\n",
       "</div>"
      ],
      "text/plain": [
       "   residue      rmsf\n",
       "0      414  0.884381\n",
       "1      415  0.568236\n",
       "2      416  0.504268\n",
       "3      417  0.490313\n",
       "4      418  0.562470"
      ]
     },
     "execution_count": 6,
     "metadata": {},
     "output_type": "execute_result"
    }
   ],
   "source": [
    "import pandas as pd\n",
    "rank8_rmsf_df = pd.DataFrame({\"residue\": calphas.resnums, \"rmsf\": rmsfer.rmsf})\n",
    "rank8_rmsf_df.to_csv(\"rank8_rmsf_results.csv\")\n",
    "rank8_rmsf_df.head()"
   ]
  },
  {
   "cell_type": "code",
   "execution_count": null,
   "metadata": {},
   "outputs": [],
   "source": []
  }
 ],
 "metadata": {
  "kernelspec": {
   "display_name": "Python 3",
   "language": "python",
   "name": "python3"
  },
  "language_info": {
   "codemirror_mode": {
    "name": "ipython",
    "version": 3
   },
   "file_extension": ".py",
   "mimetype": "text/x-python",
   "name": "python",
   "nbconvert_exporter": "python",
   "pygments_lexer": "ipython3",
   "version": "3.8.12"
  }
 },
 "nbformat": 4,
 "nbformat_minor": 2
}
