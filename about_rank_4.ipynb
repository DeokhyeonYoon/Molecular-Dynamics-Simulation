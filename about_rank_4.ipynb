{
 "cells": [
  {
   "cell_type": "markdown",
   "metadata": {},
   "source": [
    "# MD Simultaion "
   ]
  },
  {
   "cell_type": "code",
   "execution_count": 1,
   "metadata": {},
   "outputs": [],
   "source": [
    "import copy\n",
    "from pathlib import Path\n",
    "import sys\n",
    "\n",
    "import requests\n",
    "from IPython.display import display\n",
    "import numpy as np\n",
    "from rdkit import Chem\n",
    "from rdkit.Chem import Draw\n",
    "from rdkit.Chem import AllChem\n",
    "import mdtraj as md\n",
    "import pdbfixer\n",
    "import openmm as mm\n",
    "import openmm.app as app\n",
    "from openmm import unit\n",
    "from openff.toolkit.topology import Molecule, Topology\n",
    "from openmmforcefields.generators import GAFFTemplateGenerator"
   ]
  },
  {
   "cell_type": "code",
   "execution_count": 2,
   "metadata": {},
   "outputs": [],
   "source": [
    "#import warnings\n",
    "\n",
    "# 경고를 무시하도록 설정합니다.\n",
    "#warnings.filterwarnings(\"ignore\", message=\"PDB file is missing resid information.\")\n",
    "#warnings.filterwarnings(\"ignore\", message=\"Reload offsets from trajectory\")\n",
    "#warnings.filterwarnings(\"ignore\", message=\"duplicate atom\")\n",
    "\n",
    "# 나머지 코드 실행"
   ]
  },
  {
   "cell_type": "code",
   "execution_count": 3,
   "metadata": {},
   "outputs": [],
   "source": [
    "import warnings\n",
    "warnings.filterwarnings(\"ignore\")"
   ]
  },
  {
   "cell_type": "code",
   "execution_count": 4,
   "metadata": {},
   "outputs": [],
   "source": [
    "def prepare_protein(\n",
    "    pdb_file, ignore_missing_residues=True, ignore_terminal_missing_residues=True, ph=7.0\n",
    "):\n",
    "    \"\"\"\n",
    "    Use pdbfixer to prepare the protein from a PDB file. Hetero atoms such as ligands are\n",
    "    removed and non-standard residues replaced. Missing atoms to existing residues are added.\n",
    "    Missing residues are ignored by default, but can be included.\n",
    "\n",
    "    Parameters\n",
    "    ----------\n",
    "    pdb_file: pathlib.Path or str\n",
    "        PDB file containing the system to simulate.\n",
    "    ignore_missing_residues: bool, optional\n",
    "        If missing residues should be ignored or built.\n",
    "    ignore_terminal_missing_residues: bool, optional\n",
    "        If missing residues at the beginning and the end of a chain should be ignored or built.\n",
    "    ph: float, optional\n",
    "        pH value used to determine protonation state of residues\n",
    "\n",
    "    Returns\n",
    "    -------\n",
    "    fixer: pdbfixer.pdbfixer.PDBFixer\n",
    "        Prepared protein system.\n",
    "    \"\"\"\n",
    "    fixer = pdbfixer.PDBFixer(str(pdb_file))\n",
    "    fixer.removeHeterogens()  # co-crystallized ligands are unknown to PDBFixer\n",
    "    fixer.findMissingResidues()  # identify missing residues, needed for identification of missing atoms\n",
    "\n",
    "    # if missing terminal residues shall be ignored, remove them from the dictionary\n",
    "    if ignore_terminal_missing_residues:\n",
    "        chains = list(fixer.topology.chains())\n",
    "        keys = fixer.missingResidues.keys()\n",
    "        for key in list(keys):\n",
    "            chain = chains[key[0]]\n",
    "            if key[1] == 0 or key[1] == len(list(chain.residues())):\n",
    "                del fixer.missingResidues[key]\n",
    "\n",
    "    # if all missing residues shall be ignored ignored, clear the dictionary\n",
    "    if ignore_missing_residues:\n",
    "        fixer.missingResidues = {}\n",
    "\n",
    "    fixer.findNonstandardResidues()  # find non-standard residue\n",
    "    fixer.replaceNonstandardResidues()  # replace non-standard residues with standard one\n",
    "    fixer.findMissingAtoms()  # find missing heavy atoms\n",
    "    fixer.addMissingAtoms()  # add missing atoms and residues\n",
    "    fixer.addMissingHydrogens(ph)  # add missing hydrogens\n",
    "    return fixer"
   ]
  },
  {
   "cell_type": "code",
   "execution_count": 5,
   "metadata": {},
   "outputs": [],
   "source": [
    "prepare_protein = prepare_protein(\"./protein_rank_4_ligand_complex.pdb\", ignore_missing_residues=False)"
   ]
  },
  {
   "cell_type": "code",
   "execution_count": 6,
   "metadata": {},
   "outputs": [],
   "source": [
    "def prepare_ligand(pdb_file, resname, smiles, depict=True):\n",
    "    \"\"\"\n",
    "    Prepare a ligand from a PDB file via adding hydrogens and assigning bond orders. A depiction\n",
    "    of the ligand before and after preparation is rendered in 2D to allow an inspection of the\n",
    "    results. Huge thanks to @j-wags for the suggestion.\n",
    "\n",
    "    Parameters\n",
    "    ----------\n",
    "    pdb_file: pathlib.PosixPath\n",
    "       PDB file containing the ligand of interest.\n",
    "    resname: str\n",
    "        Three character residue name of the ligand.\n",
    "    smiles : str\n",
    "        SMILES string of the ligand informing about correct protonation and bond orders.\n",
    "    depict: bool, optional\n",
    "        show a 2D representation of the ligand\n",
    "\n",
    "    Returns\n",
    "    -------\n",
    "    prepared_ligand: rdkit.Chem.rdchem.Mol\n",
    "        Prepared ligand.\n",
    "    \"\"\"\n",
    "    # split molecule\n",
    "    rdkit_mol = Chem.MolFromPDBFile(str(pdb_file), proximityBonding=True, sanitize=False)\n",
    "    print(rdkit_mol)\n",
    "    rdkit_mol_split = Chem.rdmolops.SplitMolByPDBResidues(rdkit_mol)\n",
    "\n",
    "    # extract the ligand and remove any already present hydrogens\n",
    "    ligand = rdkit_mol_split[resname]\n",
    "    ligand = Chem.RemoveHs(ligand)\n",
    "\n",
    "    # assign bond orders from template\n",
    "    reference_mol = Chem.MolFromSmiles(smiles)\n",
    "    prepared_ligand = AllChem.AssignBondOrdersFromTemplate(reference_mol, ligand)\n",
    "    prepared_ligand.AddConformer(ligand.GetConformer(0))\n",
    "\n",
    "    # protonate ligand\n",
    "    prepared_ligand = Chem.rdmolops.AddHs(prepared_ligand, addCoords=True)\n",
    "    prepared_ligand = Chem.MolFromMolBlock(Chem.MolToMolBlock(prepared_ligand))\n",
    "\n",
    "    # 2D depiction\n",
    "    if depict:\n",
    "        ligand_2d = copy.deepcopy(ligand)\n",
    "        prepared_ligand_2d = copy.deepcopy(prepared_ligand)\n",
    "        AllChem.Compute2DCoords(ligand_2d)\n",
    "        AllChem.Compute2DCoords(prepared_ligand_2d)\n",
    "        display(\n",
    "            Draw.MolsToGridImage(\n",
    "                [ligand_2d, prepared_ligand_2d], molsPerRow=2, legends=[\"original\", \"prepared\"]\n",
    "            )\n",
    "        )\n",
    "\n",
    "    # return ligand\n",
    "    return prepared_ligand"
   ]
  },
  {
   "cell_type": "code",
   "execution_count": 7,
   "metadata": {},
   "outputs": [],
   "source": [
    "pdb_path = \"./protein_rank_4_ligand_complex.pdb\"\n",
    "ligand_name = \"UNL\"\n",
    "smiles = \"COc1ccc(C)cc1NC(=O)N1CCOCC1\""
   ]
  },
  {
   "cell_type": "code",
   "execution_count": 8,
   "metadata": {},
   "outputs": [
    {
     "name": "stdout",
     "output_type": "stream",
     "text": [
      "<rdkit.Chem.rdchem.Mol object at 0x7f784967fe40>\n"
     ]
    },
    {
     "name": "stderr",
     "output_type": "stream",
     "text": [
      "[11:11:52] WARNING: More than one matching pattern found - picking one\n",
      "\n"
     ]
    },
    {
     "data": {
      "image/png": "[encoded data removed]",
      "text/plain": [
       "<IPython.core.display.Image object>"
      ]
     },
     "metadata": {},
     "output_type": "display_data"
    }
   ],
   "source": [
    "rdkit_ligand = prepare_ligand(pdb_path, ligand_name, smiles)"
   ]
  },
  {
   "cell_type": "code",
   "execution_count": 9,
   "metadata": {},
   "outputs": [],
   "source": [
    "def rdkit_to_openmm(rdkit_mol, name=\"LIG\"):\n",
    "    \"\"\"\n",
    "    Convert an RDKit molecule to an OpenMM molecule.\n",
    "    Inspired by @hannahbrucemcdonald and @glass-w.\n",
    "\n",
    "    Parameters\n",
    "    ----------\n",
    "    rdkit_mol: rdkit.Chem.rdchem.Mol\n",
    "        RDKit molecule to convert.\n",
    "    name: str\n",
    "        Molecule name.\n",
    "\n",
    "    Returns\n",
    "    -------\n",
    "    omm_molecule: openmm.app.Modeller\n",
    "        OpenMM modeller object holding the molecule of interest.\n",
    "    \"\"\"\n",
    "    # convert RDKit to OpenFF\n",
    "    off_mol = Molecule.from_rdkit(rdkit_mol)\n",
    "    #print(off_mol)\n",
    "\n",
    "    # add name for molecule\n",
    "    off_mol.name = name\n",
    "    #print(off_mol.name)\n",
    "\n",
    "    # add names for atoms\n",
    "    element_counter_dict = {}\n",
    "    for off_atom, rdkit_atom in zip(off_mol.atoms, rdkit_mol.GetAtoms()):\n",
    "        element = rdkit_atom.GetSymbol()\n",
    "        if element in element_counter_dict.keys():\n",
    "            element_counter_dict[element] += 1\n",
    "        else:\n",
    "            element_counter_dict[element] = 1\n",
    "        off_atom.name = element + str(element_counter_dict[element])\n",
    "    #print(element_counter_dict)\n",
    "\n",
    "    # convert from OpenFF to OpenMM\n",
    "    off_mol_topology = off_mol.to_topology()\n",
    "    mol_topology = off_mol_topology.to_openmm()\n",
    "    #print(mol_topology)\n",
    "    mol_positions = off_mol.conformers[0]\n",
    "    #print(mol_positions)\n",
    "\n",
    "    # convert units from Ångström to nanometers\n",
    "    # since OpenMM works in nm\n",
    "    mol_positions = mol_positions.to(\"nanometers\")\n",
    "    #print(mol_positions)\n",
    "\n",
    "    # combine topology and positions in modeller object\n",
    "    omm_mol = app.Modeller(mol_topology, mol_positions)\n",
    "\n",
    "    return omm_mol"
   ]
  },
  {
   "cell_type": "code",
   "execution_count": 10,
   "metadata": {},
   "outputs": [],
   "source": [
    "omm_ligand = rdkit_to_openmm(rdkit_ligand, ligand_name)"
   ]
  },
  {
   "cell_type": "code",
   "execution_count": 11,
   "metadata": {},
   "outputs": [],
   "source": [
    "def merge_protein_and_ligand(protein, ligand):\n",
    "    \"\"\"\n",
    "    Merge two OpenMM objects.\n",
    "\n",
    "    Parameters\n",
    "    ----------\n",
    "    protein: pdbfixer.pdbfixer.PDBFixer\n",
    "        Protein to merge.\n",
    "    ligand: openmm.app.Modeller\n",
    "        Ligand to merge.\n",
    "\n",
    "    Returns\n",
    "    -------\n",
    "    complex_topology: openmm.app.topology.Topology\n",
    "        The merged topology.\n",
    "    complex_positions: openmm.unit.quantity.Quantity\n",
    "        The merged positions.\n",
    "    \"\"\"\n",
    "    # combine topologies\n",
    "    md_protein_topology = md.Topology.from_openmm(protein.topology)  # using mdtraj for protein top\n",
    "    #print(md_protein_topology)\n",
    "    md_ligand_topology = md.Topology.from_openmm(ligand.topology)  # using mdtraj for ligand top\n",
    "    #print(md_ligand_topology)\n",
    "    md_complex_topology = md_protein_topology.join(md_ligand_topology)  # add them together\n",
    "    #print(md_complex_topology)\n",
    "    complex_topology = md_complex_topology.to_openmm()\n",
    "    #print(complex_topology)\n",
    "\n",
    "    # combine positions\n",
    "    total_atoms = len(protein.positions) + len(ligand.positions)\n",
    "\n",
    "    # create an array for storing all atom positions as tupels containing a value and a unit\n",
    "    # called OpenMM Quantities\n",
    "    complex_positions = unit.Quantity(np.zeros([total_atoms, 3]), unit=unit.nanometers)\n",
    "    complex_positions[: len(protein.positions)] = protein.positions  # add protein positions\n",
    "    complex_positions[len(protein.positions) :] = ligand.positions  # add ligand positions\n",
    "\n",
    "    return complex_topology, complex_positions"
   ]
  },
  {
   "cell_type": "code",
   "execution_count": 12,
   "metadata": {},
   "outputs": [],
   "source": [
    "complex_topology, complex_positions = merge_protein_and_ligand(prepare_protein, omm_ligand)"
   ]
  },
  {
   "cell_type": "code",
   "execution_count": 13,
   "metadata": {},
   "outputs": [
    {
     "name": "stdout",
     "output_type": "stream",
     "text": [
      "Complex topology has 4210 atoms.\n"
     ]
    }
   ],
   "source": [
    "print(\"Complex topology has\", complex_topology.getNumAtoms(), \"atoms.\")\n",
    "# NBVAL_CHECK_OUTPUT"
   ]
  },
  {
   "cell_type": "code",
   "execution_count": 14,
   "metadata": {},
   "outputs": [],
   "source": [
    "def generate_forcefield(\n",
    "    rdkit_mol=None, protein_ff=\"amber14-all.xml\", solvent_ff=\"amber14/tip3pfb.xml\"\n",
    "):\n",
    "    \"\"\"\n",
    "    Generate an OpenMM Forcefield object and register a small molecule.\n",
    "\n",
    "    Parameters\n",
    "    ----------\n",
    "    rdkit_mol: rdkit.Chem.rdchem.Mol\n",
    "        Small molecule to register in the force field.\n",
    "    protein_ff: string\n",
    "        Name of the force field.\n",
    "    solvent_ff: string\n",
    "        Name of the solvent force field.\n",
    "\n",
    "    Returns\n",
    "    -------\n",
    "    forcefield: openmm.app.Forcefield\n",
    "        Forcefield with registered small molecule.\n",
    "    \"\"\"\n",
    "    forcefield = app.ForceField(protein_ff, solvent_ff)\n",
    "\n",
    "    if rdkit_mol is not None:\n",
    "        gaff = GAFFTemplateGenerator(\n",
    "            molecules=Molecule.from_rdkit(rdkit_mol, allow_undefined_stereo=True)\n",
    "        )\n",
    "        forcefield.registerTemplateGenerator(gaff.generator)\n",
    "\n",
    "    return forcefield"
   ]
  },
  {
   "cell_type": "code",
   "execution_count": 15,
   "metadata": {},
   "outputs": [],
   "source": [
    "forcefield = generate_forcefield(rdkit_ligand)"
   ]
  },
  {
   "cell_type": "code",
   "execution_count": 16,
   "metadata": {},
   "outputs": [
    {
     "name": "stderr",
     "output_type": "stream",
     "text": [
      "/bin/bash: /home/media/data2/user_home/dbsejrgus226/miniconda3/envs/MD/lib/libtinfo.so.6: no version information available (required by /bin/bash)\n",
      "/bin/bash: /home/media/data2/user_home/dbsejrgus226/miniconda3/envs/MD/lib/libtinfo.so.6: no version information available (required by /bin/bash)\n",
      "/bin/bash: /home/media/data2/user_home/dbsejrgus226/miniconda3/envs/MD/lib/libtinfo.so.6: no version information available (required by /bin/bash)\n",
      "/bin/bash: /home/media/data2/user_home/dbsejrgus226/miniconda3/envs/MD/lib/libtinfo.so.6: no version information available (required by /bin/bash)\n",
      "/bin/bash: /home/media/data2/user_home/dbsejrgus226/miniconda3/envs/MD/lib/libtinfo.so.6: no version information available (required by /bin/bash)\n",
      "/bin/bash: /home/media/data2/user_home/dbsejrgus226/miniconda3/envs/MD/lib/libtinfo.so.6: no version information available (required by /bin/bash)\n"
     ]
    }
   ],
   "source": [
    "modeller = app.Modeller(complex_topology, complex_positions)\n",
    "modeller.addSolvent(forcefield, padding=1.0 * unit.nanometers, ionicStrength=0.15 * unit.molar)"
   ]
  },
  {
   "cell_type": "code",
   "execution_count": 17,
   "metadata": {},
   "outputs": [],
   "source": [
    "system = forcefield.createSystem(modeller.topology, nonbondedMethod=app.PME)\n",
    "integrator = mm.LangevinIntegrator(\n",
    "    300 * unit.kelvin, 1.0 / unit.picoseconds, 2.0 * unit.femtoseconds\n",
    ")\n",
    "simulation = app.Simulation(modeller.topology, system, integrator)\n",
    "simulation.context.setPositions(modeller.positions)"
   ]
  },
  {
   "cell_type": "code",
   "execution_count": 18,
   "metadata": {},
   "outputs": [],
   "source": [
    "simulation.minimizeEnergy()\n",
    "with open(\"topology_4.pdb\", \"w\") as pdb_file:\n",
    "    app.PDBFile.writeFile(\n",
    "        simulation.topology,\n",
    "        simulation.context.getState(getPositions=True, enforcePeriodicBox=True).getPositions(),\n",
    "        file=pdb_file,\n",
    "        keepIds=True,\n",
    "    )"
   ]
  },
  {
   "cell_type": "code",
   "execution_count": 19,
   "metadata": {},
   "outputs": [],
   "source": [
    "# output settings\n",
    "\n",
    "steps = 50000  # corresponds to 100 fs\n",
    "write_interval = 500  # write every 10 fs\n",
    "log_interval = 250  # log progress to stdout every 5 fs\n",
    "simulation.reporters.append(\n",
    "    md.reporters.XTCReporter(file=str(\"trajectory_4.xtc\"), reportInterval=write_interval)\n",
    ")\n",
    "simulation.reporters.append(\n",
    "    app.StateDataReporter(\n",
    "        sys.stdout,\n",
    "        log_interval,\n",
    "        step=True,\n",
    "        potentialEnergy=True,\n",
    "        temperature=True,\n",
    "        progress=True,\n",
    "        remainingTime=True,\n",
    "        speed=True,\n",
    "        totalSteps=steps,\n",
    "        separator=\"\\t\",\n",
    "    )\n",
    ")"
   ]
  },
  {
   "cell_type": "code",
   "execution_count": 20,
   "metadata": {},
   "outputs": [
    {
     "name": "stdout",
     "output_type": "stream",
     "text": [
      "#\"Progress (%)\"\t\"Step\"\t\"Potential Energy (kJ/mole)\"\t\"Temperature (K)\"\t\"Speed (ns/day)\"\t\"Time Remaining\"\n",
      "0.5%\t250\t-877331.7710088217\t205.64528268600685\t0\t--\n",
      "1.0%\t500\t-859841.7065556967\t240.39568808443863\t185\t0:46\n",
      "1.5%\t750\t-848357.8081181967\t261.79299317635537\t188\t0:45\n",
      "2.0%\t1000\t-839941.7104619467\t276.74071290445977\t188\t0:45\n",
      "2.5%\t1250\t-833514.7729619467\t283.6098706430543\t189\t0:44\n",
      "3.0%\t1500\t-828516.0561650717\t288.1620718499356\t188\t0:44\n",
      "3.5%\t1750\t-826636.1870244467\t292.0018438298249\t189\t0:44\n",
      "4.0%\t2000\t-825623.7612431967\t295.35827714362944\t189\t0:43\n",
      "4.5%\t2250\t-823684.2436650717\t296.82422709071324\t189\t0:43\n",
      "5.0%\t2500\t-823279.0893681967\t297.9716675928842\t189\t0:43\n",
      "5.5%\t2750\t-820845.8569463217\t297.70440293227375\t189\t0:43\n",
      "6.0%\t3000\t-820448.6284306967\t298.5995361891312\t189\t0:43\n",
      "6.5%\t3250\t-821321.3608525717\t299.7408831997028\t189\t0:42\n",
      "7.0%\t3500\t-819853.6635869467\t297.90888663589044\t189\t0:42\n",
      "7.5%\t3750\t-820307.8315556967\t299.2400372173684\t189\t0:42\n",
      "8.0%\t4000\t-820176.0522588217\t300.5704167038435\t189\t0:42\n",
      "8.5%\t4250\t-819593.6792119467\t299.5695820119341\t189\t0:41\n",
      "9.0%\t4500\t-820391.0034306967\t300.1529389653411\t188\t0:41\n",
      "9.5%\t4750\t-819825.6499150717\t299.3448917909635\t189\t0:41\n",
      "10.0%\t5000\t-820428.1499150717\t300.5485011498002\t188\t0:41\n",
      "10.5%\t5250\t-820781.7104619467\t301.2159393977871\t188\t0:41\n",
      "11.0%\t5500\t-821153.8237431967\t298.8296986094105\t188\t0:40\n",
      "11.5%\t5750\t-819989.2280400717\t298.2664746834139\t188\t0:40\n",
      "12.0%\t6000\t-820833.5268681967\t299.1486799295889\t188\t0:40\n",
      "12.5%\t6250\t-819909.8276494467\t300.04972445197984\t188\t0:40\n",
      "13.0%\t6500\t-820236.7905400717\t299.1550949742843\t188\t0:39\n",
      "13.5%\t6750\t-820102.7788213217\t300.65409364139447\t188\t0:39\n",
      "14.0%\t7000\t-820147.2397588217\t300.8857776426389\t188\t0:39\n",
      "14.5%\t7250\t-820795.5385869467\t302.60408615320426\t188\t0:39\n",
      "15.0%\t7500\t-820350.4702275717\t303.51237673600644\t188\t0:39\n",
      "15.5%\t7750\t-818952.3881963217\t301.10503652791795\t188\t0:38\n",
      "16.0%\t8000\t-819045.9467900717\t302.5142380226473\t188\t0:38\n",
      "16.5%\t8250\t-819073.0503056967\t302.81184720761115\t188\t0:38\n",
      "17.0%\t8500\t-818307.4565556967\t300.07770532562216\t188\t0:38\n",
      "17.5%\t8750\t-818629.9331181967\t300.90185263069696\t188\t0:37\n",
      "18.0%\t9000\t-818417.5991338217\t301.1967933570906\t188\t0:37\n",
      "18.5%\t9250\t-818993.5171025717\t300.8095628599447\t188\t0:37\n",
      "19.0%\t9500\t-819882.1733525717\t302.346498500381\t188\t0:37\n",
      "19.5%\t9750\t-819443.4624150717\t299.6188862047179\t188\t0:37\n",
      "20.0%\t10000\t-820121.9780400717\t303.3580464252582\t188\t0:36\n",
      "20.5%\t10250\t-820647.3081181967\t301.38771395297334\t188\t0:36\n",
      "21.0%\t10500\t-820508.0991338217\t301.4599818640998\t188\t0:36\n",
      "21.5%\t10750\t-821240.3354619467\t301.30154992241984\t188\t0:36\n",
      "22.0%\t11000\t-821130.5659306967\t299.15953189025686\t188\t0:35\n",
      "22.5%\t11250\t-822588.4663213217\t302.5574762734709\t188\t0:35\n",
      "23.0%\t11500\t-821802.9253056967\t300.7674015081645\t188\t0:35\n",
      "23.5%\t11750\t-821904.5424931967\t299.40486355506687\t188\t0:35\n",
      "24.0%\t12000\t-821719.8999150717\t299.9580092518938\t187\t0:35\n",
      "24.5%\t12250\t-822262.0171025717\t300.5830963174104\t188\t0:34\n",
      "25.0%\t12500\t-822471.7846806967\t299.19276019441446\t187\t0:34\n",
      "25.5%\t12750\t-822187.4878056967\t298.46890104030354\t187\t0:34\n",
      "26.0%\t13000\t-822741.2788213217\t299.2049201154279\t187\t0:34\n",
      "26.5%\t13250\t-822927.7182744467\t298.7835685294929\t187\t0:33\n",
      "27.0%\t13500\t-821579.1167119467\t297.8451285515023\t187\t0:33\n",
      "27.5%\t13750\t-821144.6030400717\t299.28085032714534\t187\t0:33\n",
      "28.0%\t14000\t-821051.1479619467\t299.77413531481113\t187\t0:33\n",
      "28.5%\t14250\t-821666.3764775717\t300.53602363820414\t187\t0:32\n",
      "29.0%\t14500\t-822055.0561650717\t300.1366283715162\t187\t0:32\n",
      "29.5%\t14750\t-822549.9799931967\t302.30202536796094\t187\t0:32\n",
      "30.0%\t15000\t-821578.4018681967\t301.3930188267568\t187\t0:32\n",
      "30.5%\t15250\t-821676.8237431967\t302.2512598168037\t187\t0:32\n",
      "31.0%\t15500\t-821852.6323369467\t299.25606740652415\t187\t0:31\n",
      "31.5%\t15750\t-821394.7788213217\t299.1122608484782\t187\t0:31\n",
      "32.0%\t16000\t-820735.2163213217\t298.191981381654\t187\t0:31\n",
      "32.5%\t16250\t-821734.6733525717\t300.0989958042875\t187\t0:31\n",
      "33.0%\t16500\t-821419.6362431967\t300.97511626071173\t187\t0:30\n",
      "33.5%\t16750\t-820161.8823369467\t301.3983589381432\t187\t0:30\n",
      "34.0%\t17000\t-820161.2358525717\t299.69900988320546\t187\t0:30\n",
      "34.5%\t17250\t-820876.8921025717\t301.9722411280294\t187\t0:30\n",
      "35.0%\t17500\t-820039.9253056967\t299.46393069962323\t187\t0:30\n",
      "35.5%\t17750\t-820766.8159306967\t298.48964633002504\t187\t0:29\n",
      "36.0%\t18000\t-821400.8667119467\t300.35128837074285\t187\t0:29\n",
      "36.5%\t18250\t-820465.1635869467\t299.8981764686201\t187\t0:29\n",
      "37.0%\t18500\t-820571.1635869467\t298.82967561491654\t187\t0:29\n",
      "37.5%\t18750\t-821340.2573369467\t299.4077480273335\t187\t0:28\n",
      "38.0%\t19000\t-821092.3647588217\t301.3475884843814\t187\t0:28\n",
      "38.5%\t19250\t-821032.9448369467\t300.40020514123376\t187\t0:28\n",
      "39.0%\t19500\t-820961.5249150717\t301.53292626899093\t187\t0:28\n",
      "39.5%\t19750\t-821149.5444463217\t299.9543317230475\t187\t0:27\n",
      "40.0%\t20000\t-821837.3823369467\t299.8458693996679\t187\t0:27\n",
      "40.5%\t20250\t-821198.7163213217\t301.3731404107125\t187\t0:27\n",
      "41.0%\t20500\t-819523.7221806967\t297.8786495096078\t187\t0:27\n",
      "41.5%\t20750\t-820592.2866338217\t299.49379590980857\t187\t0:27\n",
      "42.0%\t21000\t-821767.3901494467\t301.54670478702553\t187\t0:26\n",
      "42.5%\t21250\t-822075.4702275717\t301.35737484962135\t187\t0:26\n",
      "43.0%\t21500\t-820712.2358525717\t297.371500757129\t187\t0:26\n",
      "43.5%\t21750\t-822196.6225713217\t299.72991951213146\t187\t0:26\n",
      "44.0%\t22000\t-822013.1967900717\t301.0880354059399\t187\t0:25\n",
      "44.5%\t22250\t-823052.7163213217\t299.74014615070917\t187\t0:25\n",
      "45.0%\t22500\t-822082.3139775717\t298.817034156612\t187\t0:25\n",
      "45.5%\t22750\t-821800.4311650717\t301.4245971797428\t187\t0:25\n",
      "46.0%\t23000\t-821420.8432744467\t302.20606031909983\t187\t0:24\n",
      "46.5%\t23250\t-820500.2651494467\t300.32760359227916\t187\t0:24\n",
      "47.0%\t23500\t-820701.1850713217\t301.2920656257942\t187\t0:24\n",
      "47.5%\t23750\t-820526.3003056967\t299.64262079578253\t187\t0:24\n",
      "48.0%\t24000\t-821007.3393681967\t300.0672007262315\t187\t0:24\n",
      "48.5%\t24250\t-820903.2592900717\t301.4807043426534\t187\t0:23\n",
      "49.0%\t24500\t-820805.1421025717\t299.04693081421215\t187\t0:23\n",
      "49.5%\t24750\t-820507.3178838217\t299.0395867783767\t187\t0:23\n",
      "50.0%\t25000\t-821331.3569463217\t300.9464385735457\t187\t0:23\n",
      "50.5%\t25250\t-821124.0561650717\t301.3100090631409\t187\t0:22\n",
      "51.0%\t25500\t-820661.9565556967\t300.1010705612655\t187\t0:22\n",
      "51.5%\t25750\t-821293.5131963217\t299.3265087251674\t187\t0:22\n",
      "52.0%\t26000\t-821348.2768681967\t300.0821199108074\t187\t0:22\n",
      "52.5%\t26250\t-821117.6479619467\t300.2572125754661\t187\t0:21\n",
      "53.0%\t26500\t-820821.2163213217\t300.50985035410554\t187\t0:21\n",
      "53.5%\t26750\t-821236.0620244467\t301.90174093784816\t187\t0:21\n",
      "54.0%\t27000\t-822608.8335088217\t299.75289743091827\t187\t0:21\n",
      "54.5%\t27250\t-823129.7006963217\t301.9279078877248\t187\t0:21\n",
      "55.0%\t27500\t-822182.0503056967\t299.002120247732\t187\t0:20\n",
      "55.5%\t27750\t-822484.2592900717\t299.5474774025242\t187\t0:20\n",
      "56.0%\t28000\t-822958.5542119467\t299.64061373412983\t186\t0:20\n",
      "56.5%\t28250\t-822979.3725713217\t299.5154936621714\t186\t0:20\n",
      "57.0%\t28500\t-823054.9448369467\t300.90701116140485\t186\t0:19\n",
      "57.5%\t28750\t-822177.0190556967\t300.21356797606916\t186\t0:19\n",
      "58.0%\t29000\t-821602.9331181967\t301.2440103034561\t186\t0:19\n",
      "58.5%\t29250\t-820110.0620244467\t300.6119783428661\t186\t0:19\n",
      "59.0%\t29500\t-821052.5581181967\t301.02515316634816\t186\t0:19\n",
      "59.5%\t29750\t-820060.8608525717\t300.526029302734\t186\t0:18\n",
      "60.0%\t30000\t-819886.8510869467\t300.2750207177811\t186\t0:18\n",
      "60.5%\t30250\t-819872.0463994467\t300.32242509596057\t186\t0:18\n",
      "61.0%\t30500\t-820182.3862431967\t300.9331672714212\t186\t0:18\n",
      "61.5%\t30750\t-820553.7963994467\t297.51969792596964\t186\t0:17\n",
      "62.0%\t31000\t-821012.3667119467\t298.03650415896294\t186\t0:17\n",
      "62.5%\t31250\t-821548.3491338217\t301.3430822681084\t186\t0:17\n",
      "63.0%\t31500\t-821232.7006963217\t299.4394721891217\t186\t0:17\n",
      "63.5%\t31750\t-821242.4838994467\t301.5113609146252\t186\t0:16\n",
      "64.0%\t32000\t-821218.4858525717\t300.9924015066322\t186\t0:16\n",
      "64.5%\t32250\t-821625.1206181967\t300.1258624703274\t186\t0:16\n",
      "65.0%\t32500\t-823314.8530400717\t301.58756377535224\t186\t0:16\n",
      "65.5%\t32750\t-822400.9370244467\t299.4648470511302\t186\t0:16\n",
      "66.0%\t33000\t-822693.9878056967\t301.858543570307\t186\t0:15\n",
      "66.5%\t33250\t-822101.3471806967\t301.88450552682315\t186\t0:15\n",
      "67.0%\t33500\t-820804.0561650717\t298.8404648998756\t186\t0:15\n",
      "67.5%\t33750\t-821779.3667119467\t299.529655273608\t186\t0:15\n",
      "68.0%\t34000\t-822090.9897588217\t299.7063315723456\t186\t0:14\n",
      "68.5%\t34250\t-823334.4604619467\t300.18804251008197\t186\t0:14\n",
      "69.0%\t34500\t-822282.9233525717\t300.34250038150816\t186\t0:14\n",
      "69.5%\t34750\t-822005.4213994467\t298.9486842169027\t186\t0:14\n",
      "70.0%\t35000\t-822407.5581181967\t302.57175840773516\t186\t0:13\n",
      "70.5%\t35250\t-821013.9311650717\t298.79476631961353\t186\t0:13\n",
      "71.0%\t35500\t-821981.3725713217\t300.1453008950211\t186\t0:13\n",
      "71.5%\t35750\t-822604.2397588217\t300.04463679365296\t186\t0:13\n",
      "72.0%\t36000\t-822704.4897588217\t298.5146412599908\t186\t0:13\n",
      "72.5%\t36250\t-822563.9546025717\t300.52043683655603\t186\t0:12\n",
      "73.0%\t36500\t-821951.7885869467\t301.0566260181105\t186\t0:12\n",
      "73.5%\t36750\t-822282.4018681967\t299.58960486331455\t186\t0:12\n",
      "74.0%\t37000\t-821398.1323369467\t299.4051744750233\t186\t0:12\n",
      "74.5%\t37250\t-820916.6870244467\t303.40479928464\t186\t0:11\n",
      "75.0%\t37500\t-820765.8881963217\t300.9575805830801\t186\t0:11\n",
      "75.5%\t37750\t-820237.7866338217\t300.0129589420528\t186\t0:11\n",
      "76.0%\t38000\t-821046.4565556967\t301.2221761347126\t186\t0:11\n",
      "76.5%\t38250\t-820871.3510869467\t300.00407911438015\t186\t0:10\n",
      "77.0%\t38500\t-821478.8510869467\t299.90070569336984\t186\t0:10\n",
      "77.5%\t38750\t-820884.0991338217\t300.7305107815707\t186\t0:10\n",
      "78.0%\t39000\t-821775.3061650717\t300.60005836873984\t186\t0:10\n",
      "78.5%\t39250\t-821218.5522588217\t300.6855244119985\t186\t0:09\n",
      "79.0%\t39500\t-821760.3647588217\t300.37867551332033\t186\t0:09\n",
      "79.5%\t39750\t-821350.1225713217\t300.37670120070567\t186\t0:09\n",
      "80.0%\t40000\t-821067.5151494467\t301.6684121166168\t186\t0:09\n",
      "80.5%\t40250\t-821222.5073369467\t301.4993502919075\t186\t0:09\n",
      "81.0%\t40500\t-821354.8881963217\t300.8410823712649\t186\t0:08\n",
      "81.5%\t40750\t-821812.7983525717\t301.2898733261902\t186\t0:08\n",
      "82.0%\t41000\t-822242.1030400717\t301.7947644303114\t186\t0:08\n",
      "82.5%\t41250\t-821877.3667119467\t299.8594411946503\t186\t0:08\n",
      "83.0%\t41500\t-821560.6342900717\t298.1897883265762\t186\t0:07\n",
      "83.5%\t41750\t-821947.3432744467\t298.4171751259215\t186\t0:07\n",
      "84.0%\t42000\t-822803.0698369467\t299.40441868693415\t186\t0:07\n",
      "84.5%\t42250\t-822702.3335088217\t301.60005697456563\t186\t0:07\n",
      "85.0%\t42500\t-822015.3237431967\t299.80154635283617\t186\t0:06\n",
      "85.5%\t42750\t-821615.7124150717\t302.2464856373198\t186\t0:06\n",
      "86.0%\t43000\t-820919.9135869467\t300.620144867763\t186\t0:06\n",
      "86.5%\t43250\t-820827.7671025717\t300.0295787616842\t186\t0:06\n",
      "87.0%\t43500\t-821870.8354619467\t301.09400405946604\t186\t0:06\n",
      "87.5%\t43750\t-821974.2046025717\t302.0694806212245\t186\t0:05\n",
      "88.0%\t44000\t-821586.6694463217\t301.6675842537921\t186\t0:05\n",
      "88.5%\t44250\t-821208.3022588217\t301.10425942040007\t186\t0:05\n",
      "89.0%\t44500\t-819862.2260869467\t299.07507877253596\t186\t0:05\n",
      "89.5%\t44750\t-820648.2417119467\t299.9932371313962\t186\t0:04\n",
      "90.0%\t45000\t-821083.6401494467\t300.11011258407103\t186\t0:04\n",
      "90.5%\t45250\t-821345.2866338217\t302.16356579160765\t186\t0:04\n",
      "91.0%\t45500\t-821164.4331181967\t301.8388714346141\t186\t0:04\n",
      "91.5%\t45750\t-820729.0229619467\t299.0908613330326\t186\t0:03\n",
      "92.0%\t46000\t-821357.2846806967\t299.77824817435135\t186\t0:03\n",
      "92.5%\t46250\t-820301.3374150717\t300.3306649533436\t186\t0:03\n",
      "93.0%\t46500\t-822297.9350713217\t301.72204055608233\t185\t0:03\n",
      "93.5%\t46750\t-822327.8686650717\t300.2639832682156\t185\t0:03\n",
      "94.0%\t47000\t-822124.9741338217\t299.72960646162767\t185\t0:02\n",
      "94.5%\t47250\t-821572.8491338217\t298.3256117895472\t185\t0:02\n",
      "95.0%\t47500\t-821384.9038213217\t300.1183058746847\t185\t0:02\n",
      "95.5%\t47750\t-822522.6909306967\t300.96621677945177\t185\t0:02\n",
      "96.0%\t48000\t-822695.9721806967\t300.2410252107724\t185\t0:01\n",
      "96.5%\t48250\t-823694.2729619467\t298.6583507513812\t185\t0:01\n",
      "97.0%\t48500\t-823188.6928838217\t300.2550821989218\t185\t0:01\n",
      "97.5%\t48750\t-822866.1030400717\t297.4807528935541\t185\t0:01\n",
      "98.0%\t49000\t-824004.5112431967\t298.57177043652365\t185\t0:00\n",
      "98.5%\t49250\t-823307.8042119467\t299.78293765519305\t185\t0:00\n",
      "99.0%\t49500\t-822613.2378056967\t298.30118460725754\t185\t0:00\n",
      "99.5%\t49750\t-822249.4331181967\t297.42097466549137\t185\t0:00\n",
      "100.0%\t50000\t-821666.4077275717\t299.0162292175529\t185\t0:00\n"
     ]
    }
   ],
   "source": [
    "simulation.context.setVelocitiesToTemperature(300 * unit.kelvin)\n",
    "simulation.step(steps)  # perform the simulation"
   ]
  },
  {
   "cell_type": "code",
   "execution_count": 21,
   "metadata": {},
   "outputs": [
    {
     "name": "stdout",
     "output_type": "stream",
     "text": [
      "os.stat_result(st_mode=33204, st_ino=235276824, st_dev=2080, st_nlink=1, st_uid=1002, st_gid=1002, st_size=19130476, st_atime=1716257729, st_mtime=1716257777, st_ctime=1716257777)\n"
     ]
    }
   ],
   "source": [
    "# Check the trajectory exists and is not empty\n",
    "import os \n",
    "result = \"./trajectory_4.xtc\"\n",
    "file_info = os.stat(result)\n",
    "print(file_info)\n",
    "#result.stat().st_size > 0\n",
    "# NBVAL_CHECK_OUTPUT"
   ]
  },
  {
   "cell_type": "markdown",
   "metadata": {},
   "source": [
    "# Analysis MD Simulation results -RMSD"
   ]
  },
  {
   "cell_type": "code",
   "execution_count": 22,
   "metadata": {},
   "outputs": [
    {
     "data": {
      "application/vnd.jupyter.widget-view+json": {
       "model_id": "851e84f55dd94041b2293c8a12c83de9",
       "version_major": 2,
       "version_minor": 0
      },
      "text/plain": []
     },
     "metadata": {},
     "output_type": "display_data"
    }
   ],
   "source": [
    "from pathlib import Path\n",
    "\n",
    "import pandas as pd\n",
    "import numpy as np\n",
    "import matplotlib.pyplot as plt\n",
    "import nglview as nv\n",
    "import MDAnalysis as mda\n",
    "from MDAnalysis.analysis import rms, diffusionmap, align\n",
    "from MDAnalysis.analysis.distances import dist\n",
    "from MDAnalysis.analysis.hydrogenbonds.hbond_analysis import HydrogenBondAnalysis as HBA\n"
   ]
  },
  {
   "cell_type": "code",
   "execution_count": 23,
   "metadata": {},
   "outputs": [],
   "source": [
    "md_universe = mda.Universe(str(\"./topology_4.pdb\"), str(\"./trajectory_4.xtc\"))"
   ]
  },
  {
   "cell_type": "code",
   "execution_count": 24,
   "metadata": {},
   "outputs": [
    {
     "data": {
      "text/plain": [
       "<MDAnalysis.analysis.align.AlignTraj at 0x7f779a4a31f0>"
      ]
     },
     "execution_count": 24,
     "metadata": {},
     "output_type": "execute_result"
    }
   ],
   "source": [
    "# Set trajectory pointer to first frame as reference\n",
    "md_universe.trajectory[0]\n",
    "\n",
    "# in_memory=True is needed to actually modify the loaded trajectory\n",
    "# if the trajectory is too big for memory, one can write out the aligned trajectory and reload it into a new universe\n",
    "alignment = align.AlignTraj(\n",
    "    mobile=md_universe, reference=md_universe, select=\"protein\", in_memory=True\n",
    ")\n",
    "alignment.run()"
   ]
  },
  {
   "cell_type": "code",
   "execution_count": 25,
   "metadata": {},
   "outputs": [],
   "source": [
    "def rmsd_for_atomgroups(universe, selection1, selection2=None):\n",
    "    \"\"\"Calulate the RMSD for selected atom groups.\n",
    "\n",
    "    Parameters\n",
    "    ----------\n",
    "    universe: MDAnalysis.core.universe.Universe\n",
    "        MDAnalysis universe.\n",
    "    selection1: str\n",
    "        Selection string for main atom group, also used during alignment.\n",
    "    selection2: list of str, optional\n",
    "        Selection strings for additional atom groups.\n",
    "\n",
    "    Returns\n",
    "    -------\n",
    "    rmsd_df: pandas.core.frame.DataFrame\n",
    "        DataFrame containing RMSD of the selected atom groups over time.\n",
    "    \"\"\"\n",
    "\n",
    "    universe.trajectory\n",
    "    ref = universe\n",
    "    rmsd_analysis = rms.RMSD(universe, ref, select=selection1, groupselections=selection2)\n",
    "    rmsd_analysis.run()\n",
    "\n",
    "    columns = [selection1, *selection2] if selection2 else [selection1]\n",
    "    #print(rmsd_analysis.results)\n",
    "    #print(rmsd_analysis)\n",
    "    rmsd_df = pd.DataFrame(np.round(rmsd_analysis.results.rmsd[:, 2:], 2), columns=columns)\n",
    "    rmsd_df.index.name = \"time\"\n",
    "    return rmsd_df"
   ]
  },
  {
   "cell_type": "code",
   "execution_count": 26,
   "metadata": {},
   "outputs": [],
   "source": [
    "rmsd = rmsd_for_atomgroups(md_universe, \"backbone\", [\"protein\", \"resname UNK\"])\n",
    "#rmsd[:20]"
   ]
  },
  {
   "cell_type": "code",
   "execution_count": 27,
   "metadata": {},
   "outputs": [
    {
     "data": {
      "text/html": [
       "<div>\n",
       "<style scoped>\n",
       "    .dataframe tbody tr th:only-of-type {\n",
       "        vertical-align: middle;\n",
       "    }\n",
       "\n",
       "    .dataframe tbody tr th {\n",
       "        vertical-align: top;\n",
       "    }\n",
       "\n",
       "    .dataframe thead th {\n",
       "        text-align: right;\n",
       "    }\n",
       "</style>\n",
       "<table border=\"1\" class=\"dataframe\">\n",
       "  <thead>\n",
       "    <tr style=\"text-align: right;\">\n",
       "      <th></th>\n",
       "      <th>backbone</th>\n",
       "      <th>protein</th>\n",
       "      <th>rank_4_ligand</th>\n",
       "    </tr>\n",
       "    <tr>\n",
       "      <th>time</th>\n",
       "      <th></th>\n",
       "      <th></th>\n",
       "      <th></th>\n",
       "    </tr>\n",
       "  </thead>\n",
       "  <tbody>\n",
       "    <tr>\n",
       "      <th>0</th>\n",
       "      <td>0.00</td>\n",
       "      <td>0.00</td>\n",
       "      <td>0.00</td>\n",
       "    </tr>\n",
       "    <tr>\n",
       "      <th>1</th>\n",
       "      <td>0.59</td>\n",
       "      <td>0.77</td>\n",
       "      <td>1.01</td>\n",
       "    </tr>\n",
       "    <tr>\n",
       "      <th>2</th>\n",
       "      <td>0.69</td>\n",
       "      <td>0.95</td>\n",
       "      <td>1.96</td>\n",
       "    </tr>\n",
       "    <tr>\n",
       "      <th>3</th>\n",
       "      <td>0.72</td>\n",
       "      <td>0.99</td>\n",
       "      <td>2.16</td>\n",
       "    </tr>\n",
       "    <tr>\n",
       "      <th>4</th>\n",
       "      <td>0.78</td>\n",
       "      <td>1.11</td>\n",
       "      <td>1.87</td>\n",
       "    </tr>\n",
       "  </tbody>\n",
       "</table>\n",
       "</div>"
      ],
      "text/plain": [
       "      backbone  protein  rank_4_ligand\n",
       "time                                  \n",
       "0         0.00     0.00           0.00\n",
       "1         0.59     0.77           1.01\n",
       "2         0.69     0.95           1.96\n",
       "3         0.72     0.99           2.16\n",
       "4         0.78     1.11           1.87"
      ]
     },
     "execution_count": 27,
     "metadata": {},
     "output_type": "execute_result"
    }
   ],
   "source": [
    "rmsd.rename(columns={\"resname UNK\": \"rank_4_ligand\"}, inplace=True)\n",
    "rmsd.head()"
   ]
  },
  {
   "cell_type": "code",
   "execution_count": 28,
   "metadata": {},
   "outputs": [
    {
     "data": {
      "image/png": "[encoded data removed]",
      "text/plain": [
       "<Figure size 640x480 with 1 Axes>"
      ]
     },
     "metadata": {},
     "output_type": "display_data"
    }
   ],
   "source": [
    "rmsd.plot(title=\"RMSD of protein and ligand\")\n",
    "plt.ylabel(\"RMSD (Å)\");"
   ]
  },
  {
   "cell_type": "code",
   "execution_count": 29,
   "metadata": {},
   "outputs": [],
   "source": [
    "#rmsd.to_csv(\"rank_4_rmsd_results.csv\")"
   ]
  },
  {
   "cell_type": "markdown",
   "metadata": {},
   "source": [
    "# Analysis MD Simulation results -RMSF"
   ]
  },
  {
   "cell_type": "code",
   "execution_count": null,
   "metadata": {},
   "outputs": [],
   "source": []
  }
 ],
 "metadata": {
  "kernelspec": {
   "display_name": "Python 3",
   "language": "python",
   "name": "python3"
  },
  "language_info": {
   "codemirror_mode": {
    "name": "ipython",
    "version": 3
   },
   "file_extension": ".py",
   "mimetype": "text/x-python",
   "name": "python",
   "nbconvert_exporter": "python",
   "pygments_lexer": "ipython3",
   "version": "3.8.19"
  }
 },
 "nbformat": 4,
 "nbformat_minor": 2
}
