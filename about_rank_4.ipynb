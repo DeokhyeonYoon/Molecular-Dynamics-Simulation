{
 "cells": [
  {
   "cell_type": "markdown",
   "metadata": {},
   "source": [
    "# MD Simultaion "
   ]
  },
  {
   "cell_type": "code",
   "execution_count": 1,
   "metadata": {},
   "outputs": [],
   "source": [
    "import copy\n",
    "from pathlib import Path\n",
    "import sys\n",
    "\n",
    "import requests\n",
    "from IPython.display import display\n",
    "import numpy as np\n",
    "from rdkit import Chem\n",
    "from rdkit.Chem import Draw\n",
    "from rdkit.Chem import AllChem\n",
    "import mdtraj as md\n",
    "import pdbfixer\n",
    "import openmm as mm\n",
    "import openmm.app as app\n",
    "from openmm import unit\n",
    "from openff.toolkit.topology import Molecule, Topology\n",
    "from openmmforcefields.generators import GAFFTemplateGenerator"
   ]
  },
  {
   "cell_type": "code",
   "execution_count": 2,
   "metadata": {},
   "outputs": [],
   "source": [
    "#import warnings\n",
    "\n",
    "# 경고를 무시하도록 설정합니다.\n",
    "#warnings.filterwarnings(\"ignore\", message=\"PDB file is missing resid information.\")\n",
    "#warnings.filterwarnings(\"ignore\", message=\"Reload offsets from trajectory\")\n",
    "#warnings.filterwarnings(\"ignore\", message=\"duplicate atom\")\n",
    "\n",
    "# 나머지 코드 실행"
   ]
  },
  {
   "cell_type": "code",
   "execution_count": 3,
   "metadata": {},
   "outputs": [],
   "source": [
    "import warnings\n",
    "warnings.filterwarnings(\"ignore\")"
   ]
  },
  {
   "cell_type": "code",
   "execution_count": 4,
   "metadata": {},
   "outputs": [],
   "source": [
    "def prepare_protein(\n",
    "    pdb_file, ignore_missing_residues=True, ignore_terminal_missing_residues=True, ph=7.0\n",
    "):\n",
    "    \"\"\"\n",
    "    Use pdbfixer to prepare the protein from a PDB file. Hetero atoms such as ligands are\n",
    "    removed and non-standard residues replaced. Missing atoms to existing residues are added.\n",
    "    Missing residues are ignored by default, but can be included.\n",
    "\n",
    "    Parameters\n",
    "    ----------\n",
    "    pdb_file: pathlib.Path or str\n",
    "        PDB file containing the system to simulate.\n",
    "    ignore_missing_residues: bool, optional\n",
    "        If missing residues should be ignored or built.\n",
    "    ignore_terminal_missing_residues: bool, optional\n",
    "        If missing residues at the beginning and the end of a chain should be ignored or built.\n",
    "    ph: float, optional\n",
    "        pH value used to determine protonation state of residues\n",
    "\n",
    "    Returns\n",
    "    -------\n",
    "    fixer: pdbfixer.pdbfixer.PDBFixer\n",
    "        Prepared protein system.\n",
    "    \"\"\"\n",
    "    fixer = pdbfixer.PDBFixer(str(pdb_file))\n",
    "    fixer.removeHeterogens()  # co-crystallized ligands are unknown to PDBFixer\n",
    "    fixer.findMissingResidues()  # identify missing residues, needed for identification of missing atoms\n",
    "\n",
    "    # if missing terminal residues shall be ignored, remove them from the dictionary\n",
    "    if ignore_terminal_missing_residues:\n",
    "        chains = list(fixer.topology.chains())\n",
    "        keys = fixer.missingResidues.keys()\n",
    "        for key in list(keys):\n",
    "            chain = chains[key[0]]\n",
    "            if key[1] == 0 or key[1] == len(list(chain.residues())):\n",
    "                del fixer.missingResidues[key]\n",
    "\n",
    "    # if all missing residues shall be ignored ignored, clear the dictionary\n",
    "    if ignore_missing_residues:\n",
    "        fixer.missingResidues = {}\n",
    "\n",
    "    fixer.findNonstandardResidues()  # find non-standard residue\n",
    "    fixer.replaceNonstandardResidues()  # replace non-standard residues with standard one\n",
    "    fixer.findMissingAtoms()  # find missing heavy atoms\n",
    "    fixer.addMissingAtoms()  # add missing atoms and residues\n",
    "    fixer.addMissingHydrogens(ph)  # add missing hydrogens\n",
    "    return fixer"
   ]
  },
  {
   "cell_type": "code",
   "execution_count": 5,
   "metadata": {},
   "outputs": [],
   "source": [
    "prepare_protein = prepare_protein(\"./protein_rank_4_complex.pdb\", ignore_missing_residues=False)"
   ]
  },
  {
   "cell_type": "code",
   "execution_count": 6,
   "metadata": {},
   "outputs": [],
   "source": [
    "def prepare_ligand(pdb_file, resname, smiles, depict=True):\n",
    "    \"\"\"\n",
    "    Prepare a ligand from a PDB file via adding hydrogens and assigning bond orders. A depiction\n",
    "    of the ligand before and after preparation is rendered in 2D to allow an inspection of the\n",
    "    results. Huge thanks to @j-wags for the suggestion.\n",
    "\n",
    "    Parameters\n",
    "    ----------\n",
    "    pdb_file: pathlib.PosixPath\n",
    "       PDB file containing the ligand of interest.\n",
    "    resname: str\n",
    "        Three character residue name of the ligand.\n",
    "    smiles : str\n",
    "        SMILES string of the ligand informing about correct protonation and bond orders.\n",
    "    depict: bool, optional\n",
    "        show a 2D representation of the ligand\n",
    "\n",
    "    Returns\n",
    "    -------\n",
    "    prepared_ligand: rdkit.Chem.rdchem.Mol\n",
    "        Prepared ligand.\n",
    "    \"\"\"\n",
    "    # split molecule\n",
    "    rdkit_mol = Chem.MolFromPDBFile(str(pdb_file), proximityBonding=True, sanitize=False)\n",
    "    print(rdkit_mol)\n",
    "    rdkit_mol_split = Chem.rdmolops.SplitMolByPDBResidues(rdkit_mol)\n",
    "\n",
    "    # extract the ligand and remove any already present hydrogens\n",
    "    ligand = rdkit_mol_split[resname]\n",
    "    ligand = Chem.RemoveHs(ligand)\n",
    "\n",
    "    # assign bond orders from template\n",
    "    reference_mol = Chem.MolFromSmiles(smiles)\n",
    "    prepared_ligand = AllChem.AssignBondOrdersFromTemplate(reference_mol, ligand)\n",
    "    prepared_ligand.AddConformer(ligand.GetConformer(0))\n",
    "\n",
    "    # protonate ligand\n",
    "    prepared_ligand = Chem.rdmolops.AddHs(prepared_ligand, addCoords=True)\n",
    "    prepared_ligand = Chem.MolFromMolBlock(Chem.MolToMolBlock(prepared_ligand))\n",
    "\n",
    "    # 2D depiction\n",
    "    if depict:\n",
    "        ligand_2d = copy.deepcopy(ligand)\n",
    "        prepared_ligand_2d = copy.deepcopy(prepared_ligand)\n",
    "        AllChem.Compute2DCoords(ligand_2d)\n",
    "        AllChem.Compute2DCoords(prepared_ligand_2d)\n",
    "        display(\n",
    "            Draw.MolsToGridImage(\n",
    "                [ligand_2d, prepared_ligand_2d], molsPerRow=2, legends=[\"original\", \"prepared\"]\n",
    "            )\n",
    "        )\n",
    "\n",
    "    # return ligand\n",
    "    return prepared_ligand"
   ]
  },
  {
   "cell_type": "code",
   "execution_count": 7,
   "metadata": {},
   "outputs": [],
   "source": [
    "pdb_path = \"./protein_rank_4_complex.pdb\"\n",
    "ligand_name = \"UNL\"\n",
    "smiles = \"COc1ccc(NC(=O)N2CCOCC2)cc1F\""
   ]
  },
  {
   "cell_type": "code",
   "execution_count": 8,
   "metadata": {},
   "outputs": [
    {
     "name": "stdout",
     "output_type": "stream",
     "text": [
      "<rdkit.Chem.rdchem.Mol object at 0x7f5c53fb5460>\n"
     ]
    },
    {
     "name": "stderr",
     "output_type": "stream",
     "text": [
      "[11:42:30] WARNING: More than one matching pattern found - picking one\n",
      "\n"
     ]
    },
    {
     "data": {
      "image/png": "[encoded data removed]",
      "text/plain": [
       "<IPython.core.display.Image object>"
      ]
     },
     "metadata": {},
     "output_type": "display_data"
    }
   ],
   "source": [
    "rdkit_ligand = prepare_ligand(pdb_path, ligand_name, smiles)"
   ]
  },
  {
   "cell_type": "code",
   "execution_count": 9,
   "metadata": {},
   "outputs": [],
   "source": [
    "def rdkit_to_openmm(rdkit_mol, name=\"LIG\"):\n",
    "    \"\"\"\n",
    "    Convert an RDKit molecule to an OpenMM molecule.\n",
    "    Inspired by @hannahbrucemcdonald and @glass-w.\n",
    "\n",
    "    Parameters\n",
    "    ----------\n",
    "    rdkit_mol: rdkit.Chem.rdchem.Mol\n",
    "        RDKit molecule to convert.\n",
    "    name: str\n",
    "        Molecule name.\n",
    "\n",
    "    Returns\n",
    "    -------\n",
    "    omm_molecule: openmm.app.Modeller\n",
    "        OpenMM modeller object holding the molecule of interest.\n",
    "    \"\"\"\n",
    "    # convert RDKit to OpenFF\n",
    "    off_mol = Molecule.from_rdkit(rdkit_mol)\n",
    "    #print(off_mol)\n",
    "\n",
    "    # add name for molecule\n",
    "    off_mol.name = name\n",
    "    #print(off_mol.name)\n",
    "\n",
    "    # add names for atoms\n",
    "    element_counter_dict = {}\n",
    "    for off_atom, rdkit_atom in zip(off_mol.atoms, rdkit_mol.GetAtoms()):\n",
    "        element = rdkit_atom.GetSymbol()\n",
    "        if element in element_counter_dict.keys():\n",
    "            element_counter_dict[element] += 1\n",
    "        else:\n",
    "            element_counter_dict[element] = 1\n",
    "        off_atom.name = element + str(element_counter_dict[element])\n",
    "    #print(element_counter_dict)\n",
    "\n",
    "    # convert from OpenFF to OpenMM\n",
    "    off_mol_topology = off_mol.to_topology()\n",
    "    mol_topology = off_mol_topology.to_openmm()\n",
    "    #print(mol_topology)\n",
    "    mol_positions = off_mol.conformers[0]\n",
    "    #print(mol_positions)\n",
    "\n",
    "    # convert units from Ångström to nanometers\n",
    "    # since OpenMM works in nm\n",
    "    mol_positions = mol_positions.to(\"nanometers\")\n",
    "    #print(mol_positions)\n",
    "\n",
    "    # combine topology and positions in modeller object\n",
    "    omm_mol = app.Modeller(mol_topology, mol_positions)\n",
    "\n",
    "    return omm_mol"
   ]
  },
  {
   "cell_type": "code",
   "execution_count": 10,
   "metadata": {},
   "outputs": [],
   "source": [
    "omm_ligand = rdkit_to_openmm(rdkit_ligand, ligand_name)"
   ]
  },
  {
   "cell_type": "code",
   "execution_count": 11,
   "metadata": {},
   "outputs": [],
   "source": [
    "def merge_protein_and_ligand(protein, ligand):\n",
    "    \"\"\"\n",
    "    Merge two OpenMM objects.\n",
    "\n",
    "    Parameters\n",
    "    ----------\n",
    "    protein: pdbfixer.pdbfixer.PDBFixer\n",
    "        Protein to merge.\n",
    "    ligand: openmm.app.Modeller\n",
    "        Ligand to merge.\n",
    "\n",
    "    Returns\n",
    "    -------\n",
    "    complex_topology: openmm.app.topology.Topology\n",
    "        The merged topology.\n",
    "    complex_positions: openmm.unit.quantity.Quantity\n",
    "        The merged positions.\n",
    "    \"\"\"\n",
    "    # combine topologies\n",
    "    md_protein_topology = md.Topology.from_openmm(protein.topology)  # using mdtraj for protein top\n",
    "    #print(md_protein_topology)\n",
    "    md_ligand_topology = md.Topology.from_openmm(ligand.topology)  # using mdtraj for ligand top\n",
    "    #print(md_ligand_topology)\n",
    "    md_complex_topology = md_protein_topology.join(md_ligand_topology)  # add them together\n",
    "    #print(md_complex_topology)\n",
    "    complex_topology = md_complex_topology.to_openmm()\n",
    "    #print(complex_topology)\n",
    "\n",
    "    # combine positions\n",
    "    total_atoms = len(protein.positions) + len(ligand.positions)\n",
    "\n",
    "    # create an array for storing all atom positions as tupels containing a value and a unit\n",
    "    # called OpenMM Quantities\n",
    "    complex_positions = unit.Quantity(np.zeros([total_atoms, 3]), unit=unit.nanometers)\n",
    "    complex_positions[: len(protein.positions)] = protein.positions  # add protein positions\n",
    "    complex_positions[len(protein.positions) :] = ligand.positions  # add ligand positions\n",
    "\n",
    "    return complex_topology, complex_positions"
   ]
  },
  {
   "cell_type": "code",
   "execution_count": 12,
   "metadata": {},
   "outputs": [],
   "source": [
    "complex_topology, complex_positions = merge_protein_and_ligand(prepare_protein, omm_ligand)"
   ]
  },
  {
   "cell_type": "code",
   "execution_count": 13,
   "metadata": {},
   "outputs": [
    {
     "name": "stdout",
     "output_type": "stream",
     "text": [
      "Complex topology has 4194 atoms.\n"
     ]
    }
   ],
   "source": [
    "print(\"Complex topology has\", complex_topology.getNumAtoms(), \"atoms.\")\n",
    "# NBVAL_CHECK_OUTPUT"
   ]
  },
  {
   "cell_type": "code",
   "execution_count": 14,
   "metadata": {},
   "outputs": [],
   "source": [
    "def generate_forcefield(\n",
    "    rdkit_mol=None, protein_ff=\"amber14-all.xml\", solvent_ff=\"amber14/tip3pfb.xml\"\n",
    "):\n",
    "    \"\"\"\n",
    "    Generate an OpenMM Forcefield object and register a small molecule.\n",
    "\n",
    "    Parameters\n",
    "    ----------\n",
    "    rdkit_mol: rdkit.Chem.rdchem.Mol\n",
    "        Small molecule to register in the force field.\n",
    "    protein_ff: string\n",
    "        Name of the force field.\n",
    "    solvent_ff: string\n",
    "        Name of the solvent force field.\n",
    "\n",
    "    Returns\n",
    "    -------\n",
    "    forcefield: openmm.app.Forcefield\n",
    "        Forcefield with registered small molecule.\n",
    "    \"\"\"\n",
    "    forcefield = app.ForceField(protein_ff, solvent_ff)\n",
    "\n",
    "    if rdkit_mol is not None:\n",
    "        gaff = GAFFTemplateGenerator(\n",
    "            molecules=Molecule.from_rdkit(rdkit_mol, allow_undefined_stereo=True)\n",
    "        )\n",
    "        forcefield.registerTemplateGenerator(gaff.generator)\n",
    "\n",
    "    return forcefield"
   ]
  },
  {
   "cell_type": "code",
   "execution_count": 15,
   "metadata": {},
   "outputs": [],
   "source": [
    "forcefield = generate_forcefield(rdkit_ligand)"
   ]
  },
  {
   "cell_type": "code",
   "execution_count": 16,
   "metadata": {},
   "outputs": [
    {
     "name": "stderr",
     "output_type": "stream",
     "text": [
      "/bin/bash: /home/media/data2/user_home/dbsejrgus226/miniconda3/envs/MD/lib/libtinfo.so.6: no version information available (required by /bin/bash)\n",
      "/bin/bash: /home/media/data2/user_home/dbsejrgus226/miniconda3/envs/MD/lib/libtinfo.so.6: no version information available (required by /bin/bash)\n",
      "/bin/bash: /home/media/data2/user_home/dbsejrgus226/miniconda3/envs/MD/lib/libtinfo.so.6: no version information available (required by /bin/bash)\n",
      "/bin/bash: /home/media/data2/user_home/dbsejrgus226/miniconda3/envs/MD/lib/libtinfo.so.6: no version information available (required by /bin/bash)\n",
      "/bin/bash: /home/media/data2/user_home/dbsejrgus226/miniconda3/envs/MD/lib/libtinfo.so.6: no version information available (required by /bin/bash)\n",
      "/bin/bash: /home/media/data2/user_home/dbsejrgus226/miniconda3/envs/MD/lib/libtinfo.so.6: no version information available (required by /bin/bash)\n",
      "Warning: importing 'simtk.openmm' is deprecated.  Import 'openmm' instead.\n"
     ]
    }
   ],
   "source": [
    "modeller = app.Modeller(complex_topology, complex_positions)\n",
    "modeller.addSolvent(forcefield, padding=1.5 * unit.nanometers, ionicStrength=0.15 * unit.molar)"
   ]
  },
  {
   "cell_type": "code",
   "execution_count": 17,
   "metadata": {},
   "outputs": [],
   "source": [
    "system = forcefield.createSystem(modeller.topology, nonbondedMethod=app.NoCutoff)\n",
    "integrator = mm.LangevinIntegrator(\n",
    "    309.65 * unit.kelvin, 1.0 / unit.picoseconds, 2.0 * unit.femtoseconds\n",
    ")\n",
    "simulation = app.Simulation(modeller.topology, system, integrator)\n",
    "simulation.context.setPositions(modeller.positions)"
   ]
  },
  {
   "cell_type": "code",
   "execution_count": 18,
   "metadata": {},
   "outputs": [],
   "source": [
    "simulation.minimizeEnergy()\n",
    "with open(\"topology_4.pdb\", \"w\") as pdb_file:\n",
    "    app.PDBFile.writeFile(\n",
    "        simulation.topology,\n",
    "        simulation.context.getState(getPositions=True, enforcePeriodicBox=True).getPositions(),\n",
    "        file=pdb_file,\n",
    "        keepIds=True,\n",
    "    )"
   ]
  },
  {
   "cell_type": "code",
   "execution_count": 19,
   "metadata": {},
   "outputs": [],
   "source": [
    "# output settings\n",
    "\n",
    "steps = 50000  # corresponds to 100 fs\n",
    "write_interval = 500  # write every 10 fs\n",
    "log_interval = 250  # log progress to stdout every 5 fs\n",
    "simulation.reporters.append(\n",
    "    md.reporters.XTCReporter(file=str(\"trajectory_4.xtc\"), reportInterval=write_interval)\n",
    ")\n",
    "simulation.reporters.append(\n",
    "    app.StateDataReporter(\n",
    "        sys.stdout,\n",
    "        log_interval,\n",
    "        step=True,\n",
    "        potentialEnergy=True,\n",
    "        temperature=True,\n",
    "        progress=True,\n",
    "        remainingTime=True,\n",
    "        speed=True,\n",
    "        totalSteps=steps,\n",
    "        separator=\"\\t\",\n",
    "    )\n",
    ")"
   ]
  },
  {
   "cell_type": "code",
   "execution_count": 20,
   "metadata": {},
   "outputs": [
    {
     "name": "stdout",
     "output_type": "stream",
     "text": [
      "#\"Progress (%)\"\t\"Step\"\t\"Potential Energy (kJ/mole)\"\t\"Temperature (K)\"\t\"Speed (ns/day)\"\t\"Time Remaining\"\n",
      "0.5%\t250\t-1036461.0\t209.78411909925796\t0\t--\n",
      "1.0%\t500\t-1012575.25\t246.5018091948265\t1.03\t2:18:48\n",
      "1.5%\t750\t-997656.9375\t269.1887142466185\t1.03\t2:18:14\n",
      "2.0%\t1000\t-986912.875\t283.9158531319967\t1.03\t2:17:32\n",
      "2.5%\t1250\t-978895.5\t294.11982651541894\t1.03\t2:16:50\n",
      "3.0%\t1500\t-972797.0\t297.28445897747747\t1.02\t2:16:45\n",
      "3.5%\t1750\t-968542.875\t300.77277332806017\t1.02\t2:16:31\n",
      "4.0%\t2000\t-965143.75\t306.72692626739456\t1.02\t2:16:11\n",
      "4.5%\t2250\t-962758.4375\t305.8049538699166\t1.01\t2:15:44\n",
      "5.0%\t2500\t-961464.8125\t304.07390615922804\t1.01\t2:15:14\n",
      "5.5%\t2750\t-960821.875\t308.1485032741788\t1.01\t2:14:41\n",
      "6.0%\t3000\t-960278.625\t309.09129801743285\t1.01\t2:14:06\n",
      "6.5%\t3250\t-960088.875\t310.6509861037716\t1.01\t2:13:30\n",
      "7.0%\t3500\t-959464.0\t310.093791782131\t1.01\t2:12:59\n",
      "7.5%\t3750\t-960315.625\t312.05136501730516\t1\t2:12:32\n",
      "8.0%\t4000\t-959541.875\t309.43398731316887\t1\t2:12:05\n",
      "8.5%\t4250\t-959577.625\t310.2583566175352\t1\t2:11:36\n",
      "9.0%\t4500\t-959137.8125\t308.6076928514447\t0.999\t2:11:06\n",
      "9.5%\t4750\t-959238.0625\t309.9825609930225\t0.998\t2:10:34\n",
      "10.0%\t5000\t-959454.5\t310.4121836025519\t0.997\t2:10:01\n",
      "10.5%\t5250\t-960076.125\t310.1651647095255\t0.996\t2:09:27\n",
      "11.0%\t5500\t-960368.375\t309.985462092463\t0.995\t2:08:51\n",
      "11.5%\t5750\t-961469.8125\t310.5823057093585\t0.994\t2:08:15\n",
      "12.0%\t6000\t-959725.4375\t309.9909995953812\t0.993\t2:07:38\n",
      "12.5%\t6250\t-960090.625\t310.8691104474667\t0.992\t2:07:01\n",
      "13.0%\t6500\t-959705.75\t309.1395359215638\t0.991\t2:06:22\n",
      "13.5%\t6750\t-959614.75\t309.00838249859925\t0.991\t2:05:44\n",
      "14.0%\t7000\t-959714.375\t309.9365771714138\t0.99\t2:05:05\n",
      "14.5%\t7250\t-959178.4375\t309.766138923613\t0.989\t2:04:25\n",
      "15.0%\t7500\t-960924.625\t310.89852318395594\t0.989\t2:03:45\n",
      "15.5%\t7750\t-961697.5\t310.58490549148644\t0.988\t2:03:05\n",
      "16.0%\t8000\t-961015.0\t308.45044964962256\t0.988\t2:02:25\n",
      "16.5%\t8250\t-960666.75\t310.6929903079271\t0.988\t2:01:45\n",
      "17.0%\t8500\t-960200.1875\t308.6954987472271\t0.987\t2:01:04\n",
      "17.5%\t8750\t-960934.375\t308.65038802267475\t0.987\t2:00:23\n",
      "18.0%\t9000\t-961817.25\t309.7472351334874\t0.986\t1:59:42\n",
      "18.5%\t9250\t-961233.5\t309.5761028884387\t0.986\t1:59:01\n",
      "19.0%\t9500\t-961344.0\t309.92066093106314\t0.986\t1:58:20\n",
      "19.5%\t9750\t-962031.625\t312.60408960326674\t0.985\t1:57:38\n",
      "20.0%\t10000\t-959774.9375\t309.77268879857525\t0.985\t1:56:56\n",
      "20.5%\t10250\t-961016.625\t309.57468907715344\t0.985\t1:56:14\n",
      "21.0%\t10500\t-961071.9375\t310.81529601408266\t0.985\t1:55:32\n",
      "21.5%\t10750\t-960771.375\t313.09548439908394\t0.984\t1:54:50\n",
      "22.0%\t11000\t-960086.625\t310.3989553264936\t0.984\t1:54:07\n",
      "22.5%\t11250\t-961476.625\t310.18617524054497\t0.984\t1:53:25\n",
      "23.0%\t11500\t-960722.25\t308.65758654514593\t0.984\t1:52:43\n",
      "23.5%\t11750\t-961824.125\t308.66616420788574\t0.984\t1:52:00\n",
      "24.0%\t12000\t-960487.375\t310.3143055952397\t0.983\t1:51:17\n",
      "24.5%\t12250\t-962659.0\t309.34363590502653\t0.983\t1:50:35\n",
      "25.0%\t12500\t-962310.75\t309.47755853608305\t0.983\t1:49:52\n",
      "25.5%\t12750\t-961516.0\t308.99695731273374\t0.983\t1:49:09\n",
      "26.0%\t13000\t-961866.5625\t311.96935814300707\t0.983\t1:48:27\n",
      "26.5%\t13250\t-960671.0625\t310.37098435014747\t0.982\t1:47:44\n",
      "27.0%\t13500\t-962881.5625\t313.09852528416496\t0.982\t1:47:01\n",
      "27.5%\t13750\t-962090.125\t311.31788576887516\t0.982\t1:46:18\n",
      "28.0%\t14000\t-961484.25\t309.6188347911254\t0.982\t1:45:35\n",
      "28.5%\t14250\t-962448.125\t309.8265607827339\t0.982\t1:44:51\n",
      "29.0%\t14500\t-962920.375\t310.8402921735129\t0.982\t1:44:08\n",
      "29.5%\t14750\t-963261.125\t309.12126906813387\t0.983\t1:43:14\n",
      "30.0%\t15000\t-961535.75\t306.69842971927466\t0.987\t1:42:08\n",
      "30.5%\t15250\t-964222.0\t310.69298702756436\t0.99\t1:41:02\n",
      "31.0%\t15500\t-963951.25\t310.39356351724564\t0.994\t1:39:58\n",
      "31.5%\t15750\t-963942.5625\t308.5139494631806\t0.997\t1:38:55\n",
      "32.0%\t16000\t-965054.0\t311.00682682171936\t1\t1:37:52\n",
      "32.5%\t16250\t-963480.0\t308.4191879692486\t1\t1:36:51\n",
      "33.0%\t16500\t-963721.0625\t309.8924563350972\t1.01\t1:35:50\n",
      "33.5%\t16750\t-963660.375\t308.8811480928862\t1.01\t1:34:50\n",
      "34.0%\t17000\t-963363.125\t309.49904561937115\t1.01\t1:33:51\n",
      "34.5%\t17250\t-964223.625\t310.01755316073064\t1.02\t1:32:52\n",
      "35.0%\t17500\t-964280.75\t310.89610511449746\t1.02\t1:31:55\n",
      "35.5%\t17750\t-962472.375\t309.9229908821277\t1.02\t1:30:57\n",
      "36.0%\t18000\t-961975.875\t308.5511554218541\t1.02\t1:30:01\n",
      "36.5%\t18250\t-962761.0\t309.96467770522094\t1.03\t1:29:05\n",
      "37.0%\t18500\t-963076.5625\t309.850106095287\t1.03\t1:28:10\n",
      "37.5%\t18750\t-965033.125\t308.64341208395626\t1.03\t1:27:15\n",
      "38.0%\t19000\t-965355.875\t308.2180826503782\t1.03\t1:26:21\n",
      "38.5%\t19250\t-965045.25\t309.1100303981658\t1.04\t1:25:27\n",
      "39.0%\t19500\t-964337.25\t310.5355794298369\t1.04\t1:24:34\n",
      "39.5%\t19750\t-963329.5\t309.0728104320144\t1.04\t1:23:41\n",
      "40.0%\t20000\t-963120.625\t308.9324873222829\t1.04\t1:22:49\n",
      "40.5%\t20250\t-961978.125\t310.04883904937884\t1.05\t1:21:57\n",
      "41.0%\t20500\t-962716.625\t310.1116577349096\t1.05\t1:21:06\n",
      "41.5%\t20750\t-962068.875\t308.3230190095194\t1.05\t1:20:15\n",
      "42.0%\t21000\t-963070.9375\t311.1568210992641\t1.05\t1:19:24\n",
      "42.5%\t21250\t-961449.125\t309.56384104123043\t1.05\t1:18:34\n",
      "43.0%\t21500\t-961315.3125\t310.87761589476423\t1.06\t1:17:44\n",
      "43.5%\t21750\t-960606.125\t312.9761186164024\t1.06\t1:16:55\n",
      "44.0%\t22000\t-960917.125\t312.3495240496031\t1.06\t1:16:06\n",
      "44.5%\t22250\t-959824.625\t310.14297611225675\t1.06\t1:15:17\n",
      "45.0%\t22500\t-960205.125\t310.55168300446337\t1.06\t1:14:29\n",
      "45.5%\t22750\t-961153.875\t308.88999054530655\t1.07\t1:13:41\n",
      "46.0%\t23000\t-962269.8125\t312.2103047936101\t1.07\t1:12:53\n",
      "46.5%\t23250\t-962103.5625\t312.931768196126\t1.07\t1:12:05\n",
      "47.0%\t23500\t-960335.25\t310.88699259207283\t1.07\t1:11:18\n",
      "47.5%\t23750\t-961648.4375\t310.04955639723096\t1.07\t1:10:31\n",
      "48.0%\t24000\t-961386.6875\t308.57683406295996\t1.07\t1:09:44\n",
      "48.5%\t24250\t-962506.125\t310.75431299842535\t1.08\t1:08:58\n",
      "49.0%\t24500\t-962818.25\t309.80716804718264\t1.08\t1:08:12\n",
      "49.5%\t24750\t-963305.875\t310.15477074971307\t1.08\t1:07:26\n",
      "50.0%\t25000\t-962902.3125\t309.88112393962126\t1.08\t1:06:40\n",
      "50.5%\t25250\t-962749.4375\t309.87037172002675\t1.08\t1:05:54\n",
      "51.0%\t25500\t-964303.5\t311.13425028973955\t1.08\t1:05:09\n",
      "51.5%\t25750\t-963026.25\t309.3903379907499\t1.08\t1:04:24\n",
      "52.0%\t26000\t-963096.0\t310.75781640876204\t1.09\t1:03:39\n",
      "52.5%\t26250\t-963211.9375\t309.0697548245705\t1.09\t1:02:54\n",
      "53.0%\t26500\t-964326.125\t310.7142007979452\t1.09\t1:02:10\n",
      "53.5%\t26750\t-964089.75\t310.74399639276066\t1.09\t1:01:26\n",
      "54.0%\t27000\t-963358.25\t307.70975359575743\t1.09\t1:00:41\n",
      "54.5%\t27250\t-964562.25\t311.9642049890477\t1.09\t59:58\n",
      "55.0%\t27500\t-964431.3125\t309.5653034020723\t1.09\t59:14\n",
      "55.5%\t27750\t-963708.8125\t308.3101220292843\t1.1\t58:30\n",
      "56.0%\t28000\t-963377.5\t309.5268576860958\t1.1\t57:47\n",
      "56.5%\t28250\t-963083.25\t309.49634465961\t1.1\t57:04\n",
      "57.0%\t28500\t-962565.25\t310.5702697975272\t1.1\t56:20\n",
      "57.5%\t28750\t-962986.0\t308.23531026201607\t1.1\t55:37\n",
      "58.0%\t29000\t-963274.5\t308.35908298339234\t1.1\t54:55\n",
      "58.5%\t29250\t-963990.125\t309.94659174787284\t1.1\t54:12\n",
      "59.0%\t29500\t-962982.625\t308.9342314828828\t1.1\t53:29\n",
      "59.5%\t29750\t-965048.125\t310.8548471946717\t1.1\t52:47\n",
      "60.0%\t30000\t-965281.5\t310.00294523907144\t1.11\t52:05\n",
      "60.5%\t30250\t-963372.125\t310.41786670864354\t1.11\t51:23\n",
      "61.0%\t30500\t-963314.5625\t310.80510065448794\t1.11\t50:41\n",
      "61.5%\t30750\t-963724.5\t310.70214832604614\t1.11\t49:59\n",
      "62.0%\t31000\t-962711.25\t309.19227728213997\t1.11\t49:17\n",
      "62.5%\t31250\t-963717.25\t309.58240599881833\t1.11\t48:35\n",
      "63.0%\t31500\t-963677.625\t309.5926485287579\t1.11\t47:54\n",
      "63.5%\t31750\t-962647.6875\t308.91989215553434\t1.11\t47:13\n",
      "64.0%\t32000\t-963151.375\t310.270662404864\t1.11\t46:31\n",
      "64.5%\t32250\t-964166.6875\t310.67582390753165\t1.12\t45:50\n",
      "65.0%\t32500\t-963434.3125\t308.94879455259866\t1.12\t45:09\n",
      "65.5%\t32750\t-965611.5\t309.9423907147564\t1.12\t44:28\n",
      "66.0%\t33000\t-965233.25\t309.7201417117536\t1.12\t43:47\n",
      "66.5%\t33250\t-964549.875\t309.3155761518989\t1.12\t43:06\n",
      "67.0%\t33500\t-964565.0\t310.37094770411915\t1.12\t42:26\n",
      "67.5%\t33750\t-963658.0\t309.7840892423777\t1.12\t41:45\n",
      "68.0%\t34000\t-963270.125\t309.9695872264612\t1.12\t41:04\n",
      "68.5%\t34250\t-963774.625\t310.0159378747166\t1.12\t40:24\n",
      "69.0%\t34500\t-963989.5625\t310.18188449075984\t1.12\t39:44\n",
      "69.5%\t34750\t-962712.0\t310.65971034387826\t1.12\t39:04\n",
      "70.0%\t35000\t-962435.875\t310.72312349304786\t1.13\t38:23\n",
      "70.5%\t35250\t-962697.625\t311.99902752779957\t1.13\t37:43\n",
      "71.0%\t35500\t-962544.625\t309.0302624641768\t1.13\t37:03\n",
      "71.5%\t35750\t-962951.8125\t312.162897250177\t1.13\t36:23\n",
      "72.0%\t36000\t-962297.3125\t311.6262040853658\t1.13\t35:44\n",
      "72.5%\t36250\t-963026.0\t311.9188141509311\t1.13\t35:04\n",
      "73.0%\t36500\t-964053.1875\t311.6284967000763\t1.13\t34:24\n",
      "73.5%\t36750\t-963421.0625\t311.1480708631922\t1.13\t33:45\n",
      "74.0%\t37000\t-963545.5625\t308.3938972869655\t1.13\t33:05\n",
      "74.5%\t37250\t-963895.875\t309.47012442985846\t1.13\t32:26\n",
      "75.0%\t37500\t-963775.8125\t307.5732691289165\t1.13\t31:46\n",
      "75.5%\t37750\t-963859.25\t310.9516974854059\t1.13\t31:07\n",
      "76.0%\t38000\t-962369.375\t310.2801382264091\t1.13\t30:28\n",
      "76.5%\t38250\t-963212.9375\t311.1348674592805\t1.14\t29:48\n",
      "77.0%\t38500\t-963388.25\t309.98057648717094\t1.14\t29:09\n",
      "77.5%\t38750\t-964306.4375\t310.6384383486233\t1.14\t28:30\n",
      "78.0%\t39000\t-963425.625\t309.4207963390364\t1.14\t27:51\n",
      "78.5%\t39250\t-964554.9375\t310.0426406088173\t1.14\t27:12\n",
      "79.0%\t39500\t-965147.5625\t308.4848186827154\t1.14\t26:33\n",
      "79.5%\t39750\t-964592.4375\t308.6898164078196\t1.14\t25:54\n",
      "80.0%\t40000\t-963790.625\t308.4509646086361\t1.14\t25:15\n",
      "80.5%\t40250\t-964319.125\t310.08653501330275\t1.14\t24:37\n",
      "81.0%\t40500\t-963886.375\t311.55047662887137\t1.14\t23:58\n",
      "81.5%\t40750\t-962541.0\t312.39175459632895\t1.14\t23:19\n",
      "82.0%\t41000\t-962258.4375\t311.22430613950263\t1.14\t22:41\n",
      "82.5%\t41250\t-962195.6875\t311.2202367205614\t1.14\t22:02\n",
      "83.0%\t41500\t-962699.3125\t312.1516477478694\t1.14\t21:24\n",
      "83.5%\t41750\t-962031.625\t308.4510496881573\t1.14\t20:45\n",
      "84.0%\t42000\t-963551.3125\t310.75203695427376\t1.14\t20:07\n",
      "84.5%\t42250\t-963213.5\t309.8751019480229\t1.15\t19:29\n",
      "85.0%\t42500\t-962889.5625\t310.8654323538004\t1.15\t18:50\n",
      "85.5%\t42750\t-962306.1875\t308.4652505977152\t1.15\t18:12\n",
      "86.0%\t43000\t-963155.625\t311.20595330124604\t1.15\t17:34\n",
      "86.5%\t43250\t-963569.625\t311.8547449379091\t1.15\t16:56\n",
      "87.0%\t43500\t-962293.75\t309.4453247689767\t1.15\t16:18\n",
      "87.5%\t43750\t-964237.375\t309.4398948285477\t1.15\t15:39\n",
      "88.0%\t44000\t-965412.75\t308.3820873138615\t1.15\t15:01\n",
      "88.5%\t44250\t-965713.125\t308.78758645453735\t1.15\t14:23\n",
      "89.0%\t44500\t-965167.875\t309.2166990649878\t1.15\t13:46\n",
      "89.5%\t44750\t-964090.25\t307.25504066390175\t1.15\t13:08\n",
      "90.0%\t45000\t-964974.125\t307.6490300329542\t1.15\t12:30\n",
      "90.5%\t45250\t-964629.75\t308.47965340272617\t1.15\t11:52\n",
      "91.0%\t45500\t-964441.9375\t307.7292286844988\t1.15\t11:14\n",
      "91.5%\t45750\t-964720.0\t308.70616666774515\t1.15\t10:36\n",
      "92.0%\t46000\t-964127.9375\t308.2875734781266\t1.15\t9:59\n",
      "92.5%\t46250\t-963662.1875\t308.84836733185534\t1.15\t9:21\n",
      "93.0%\t46500\t-963123.375\t308.48395048521587\t1.15\t8:43\n",
      "93.5%\t46750\t-964387.5\t308.06897546284796\t1.16\t8:06\n",
      "94.0%\t47000\t-964744.8125\t310.56688704969093\t1.16\t7:28\n",
      "94.5%\t47250\t-964456.3125\t309.62844324585717\t1.16\t6:51\n",
      "95.0%\t47500\t-965818.875\t311.53727413063837\t1.16\t6:14\n",
      "95.5%\t47750\t-964896.75\t310.487798090661\t1.15\t5:36\n",
      "96.0%\t48000\t-963427.875\t308.4676005329126\t1.15\t4:59\n",
      "96.5%\t48250\t-964639.625\t309.84368178996334\t1.15\t4:21\n",
      "97.0%\t48500\t-963736.25\t309.3658941831784\t1.15\t3:44\n",
      "97.5%\t48750\t-964646.6875\t310.4649951313294\t1.16\t3:06\n",
      "98.0%\t49000\t-964587.875\t309.93622862399343\t1.16\t2:29\n",
      "98.5%\t49250\t-966057.75\t311.63425372947864\t1.16\t1:52\n",
      "99.0%\t49500\t-965125.625\t309.78845617057084\t1.16\t1:14\n",
      "99.5%\t49750\t-965342.875\t309.0190628950507\t1.16\t0:37\n",
      "100.0%\t50000\t-964993.6875\t310.75198140638696\t1.16\t0:00\n"
     ]
    }
   ],
   "source": [
    "simulation.context.setVelocitiesToTemperature(309.65 * unit.kelvin)\n",
    "simulation.step(steps)  # perform the simulation"
   ]
  },
  {
   "cell_type": "code",
   "execution_count": 21,
   "metadata": {},
   "outputs": [
    {
     "name": "stdout",
     "output_type": "stream",
     "text": [
      "os.stat_result(st_mode=33204, st_ino=235276807, st_dev=2080, st_nlink=1, st_uid=1002, st_gid=1002, st_size=23021928, st_atime=1717123962, st_mtime=1717131412, st_ctime=1717131412)\n"
     ]
    }
   ],
   "source": [
    "# Check the trajectory exists and is not empty\n",
    "import os \n",
    "result = \"./trajectory_4.xtc\"\n",
    "file_info = os.stat(result)\n",
    "print(file_info)\n",
    "#result.stat().st_size > 0\n",
    "# NBVAL_CHECK_OUTPUT"
   ]
  },
  {
   "cell_type": "markdown",
   "metadata": {},
   "source": [
    "# Analysis MD Simulation results -RMSD"
   ]
  },
  {
   "cell_type": "code",
   "execution_count": 22,
   "metadata": {},
   "outputs": [
    {
     "data": {
      "application/vnd.jupyter.widget-view+json": {
       "model_id": "2fb0e7d6e3a34cb5b96619651b66b678",
       "version_major": 2,
       "version_minor": 0
      },
      "text/plain": []
     },
     "metadata": {},
     "output_type": "display_data"
    }
   ],
   "source": [
    "from pathlib import Path\n",
    "\n",
    "import pandas as pd\n",
    "import numpy as np\n",
    "import matplotlib.pyplot as plt\n",
    "import nglview as nv\n",
    "import MDAnalysis as mda\n",
    "from MDAnalysis.analysis import rms, diffusionmap, align\n",
    "from MDAnalysis.analysis.distances import dist\n",
    "from MDAnalysis.analysis.hydrogenbonds.hbond_analysis import HydrogenBondAnalysis as HBA\n"
   ]
  },
  {
   "cell_type": "code",
   "execution_count": 23,
   "metadata": {},
   "outputs": [],
   "source": [
    "md_universe = mda.Universe(str(\"./topology_4.pdb\"), str(\"./trajectory_4.xtc\"))"
   ]
  },
  {
   "cell_type": "code",
   "execution_count": 24,
   "metadata": {},
   "outputs": [
    {
     "data": {
      "text/plain": [
       "<MDAnalysis.analysis.align.AlignTraj at 0x7f5c513e4fd0>"
      ]
     },
     "execution_count": 24,
     "metadata": {},
     "output_type": "execute_result"
    }
   ],
   "source": [
    "# Set trajectory pointer to first frame as reference\n",
    "md_universe.trajectory[0]\n",
    "\n",
    "# in_memory=True is needed to actually modify the loaded trajectory\n",
    "# if the trajectory is too big for memory, one can write out the aligned trajectory and reload it into a new universe\n",
    "alignment = align.AlignTraj(\n",
    "    mobile=md_universe, reference=md_universe, select=\"protein\", in_memory=True\n",
    ")\n",
    "alignment.run()"
   ]
  },
  {
   "cell_type": "code",
   "execution_count": 25,
   "metadata": {},
   "outputs": [],
   "source": [
    "def rmsd_for_atomgroups(universe, selection1, selection2=None):\n",
    "    \"\"\"Calulate the RMSD for selected atom groups.\n",
    "\n",
    "    Parameters\n",
    "    ----------\n",
    "    universe: MDAnalysis.core.universe.Universe\n",
    "        MDAnalysis universe.\n",
    "    selection1: str\n",
    "        Selection string for main atom group, also used during alignment.\n",
    "    selection2: list of str, optional\n",
    "        Selection strings for additional atom groups.\n",
    "\n",
    "    Returns\n",
    "    -------\n",
    "    rmsd_df: pandas.core.frame.DataFrame\n",
    "        DataFrame containing RMSD of the selected atom groups over time.\n",
    "    \"\"\"\n",
    "\n",
    "    universe.trajectory\n",
    "    ref = universe\n",
    "    rmsd_analysis = rms.RMSD(universe, ref, select=selection1, groupselections=selection2)\n",
    "    rmsd_analysis.run()\n",
    "\n",
    "    columns = [selection1, *selection2] if selection2 else [selection1]\n",
    "    #print(rmsd_analysis.results)\n",
    "    #print(rmsd_analysis)\n",
    "    rmsd_df = pd.DataFrame(np.round(rmsd_analysis.results.rmsd[:, 2:], 2), columns=columns)\n",
    "    rmsd_df.index.name = \"time\"\n",
    "    return rmsd_df"
   ]
  },
  {
   "cell_type": "code",
   "execution_count": 26,
   "metadata": {},
   "outputs": [],
   "source": [
    "rmsd = rmsd_for_atomgroups(md_universe, \"backbone\", [\"protein\", \"resname UNK\"])\n",
    "#rmsd[:20]"
   ]
  },
  {
   "cell_type": "code",
   "execution_count": 27,
   "metadata": {},
   "outputs": [
    {
     "data": {
      "text/html": [
       "<div>\n",
       "<style scoped>\n",
       "    .dataframe tbody tr th:only-of-type {\n",
       "        vertical-align: middle;\n",
       "    }\n",
       "\n",
       "    .dataframe tbody tr th {\n",
       "        vertical-align: top;\n",
       "    }\n",
       "\n",
       "    .dataframe thead th {\n",
       "        text-align: right;\n",
       "    }\n",
       "</style>\n",
       "<table border=\"1\" class=\"dataframe\">\n",
       "  <thead>\n",
       "    <tr style=\"text-align: right;\">\n",
       "      <th></th>\n",
       "      <th>backbone</th>\n",
       "      <th>protein</th>\n",
       "      <th>rank_4_ligand</th>\n",
       "    </tr>\n",
       "    <tr>\n",
       "      <th>time</th>\n",
       "      <th></th>\n",
       "      <th></th>\n",
       "      <th></th>\n",
       "    </tr>\n",
       "  </thead>\n",
       "  <tbody>\n",
       "    <tr>\n",
       "      <th>0</th>\n",
       "      <td>0.00</td>\n",
       "      <td>0.00</td>\n",
       "      <td>0.00</td>\n",
       "    </tr>\n",
       "    <tr>\n",
       "      <th>1</th>\n",
       "      <td>0.60</td>\n",
       "      <td>0.78</td>\n",
       "      <td>0.95</td>\n",
       "    </tr>\n",
       "    <tr>\n",
       "      <th>2</th>\n",
       "      <td>0.68</td>\n",
       "      <td>0.89</td>\n",
       "      <td>1.08</td>\n",
       "    </tr>\n",
       "    <tr>\n",
       "      <th>3</th>\n",
       "      <td>0.73</td>\n",
       "      <td>0.98</td>\n",
       "      <td>0.98</td>\n",
       "    </tr>\n",
       "    <tr>\n",
       "      <th>4</th>\n",
       "      <td>0.73</td>\n",
       "      <td>1.01</td>\n",
       "      <td>0.76</td>\n",
       "    </tr>\n",
       "  </tbody>\n",
       "</table>\n",
       "</div>"
      ],
      "text/plain": [
       "      backbone  protein  rank_4_ligand\n",
       "time                                  \n",
       "0         0.00     0.00           0.00\n",
       "1         0.60     0.78           0.95\n",
       "2         0.68     0.89           1.08\n",
       "3         0.73     0.98           0.98\n",
       "4         0.73     1.01           0.76"
      ]
     },
     "execution_count": 27,
     "metadata": {},
     "output_type": "execute_result"
    }
   ],
   "source": [
    "rmsd.rename(columns={\"resname UNK\": \"rank_4_ligand\"}, inplace=True)\n",
    "rmsd.head()"
   ]
  },
  {
   "cell_type": "code",
   "execution_count": 28,
   "metadata": {},
   "outputs": [
    {
     "data": {
      "image/png": "[encoded data removed]",
      "text/plain": [
       "<Figure size 640x480 with 1 Axes>"
      ]
     },
     "metadata": {},
     "output_type": "display_data"
    }
   ],
   "source": [
    "rmsd.plot(title=\"RMSD of protein and ligand\")\n",
    "plt.ylabel(\"RMSD (Å)\");"
   ]
  },
  {
   "cell_type": "code",
   "execution_count": 30,
   "metadata": {},
   "outputs": [],
   "source": [
    "rmsd.to_csv(\"rank_4_rmsd_results.csv\")"
   ]
  },
  {
   "cell_type": "markdown",
   "metadata": {},
   "source": [
    "# Analysis MD Simulation results -RMSF"
   ]
  },
  {
   "cell_type": "code",
   "execution_count": 1,
   "metadata": {},
   "outputs": [],
   "source": [
    "import MDAnalysis as mda\n",
    "from MDAnalysis.analysis import align\n",
    "import MDAnalysis.transformations as trans\n",
    "from MDAnalysis.analysis.rms import RMSF\n",
    "\n",
    "import matplotlib.pyplot as plt"
   ]
  },
  {
   "cell_type": "code",
   "execution_count": 2,
   "metadata": {},
   "outputs": [
    {
     "name": "stderr",
     "output_type": "stream",
     "text": [
      "Warning: importing 'simtk.openmm' is deprecated.  Import 'openmm' instead.\n",
      "/home/media/data2/user_home/dbsejrgus226/miniconda3/envs/MD/lib/python3.8/site-packages/MDAnalysis/topology/PDBParser.py:276: UserWarning: PDB file is missing resid information.  Defaulted to '1'\n",
      "  warnings.warn(\"PDB file is missing resid information.  \"\n"
     ]
    }
   ],
   "source": [
    "md_universe = mda.Universe(str(\"./topology_4.pdb\"), str(\"./trajectory_4.xtc\"))\n",
    "protein = md_universe.select_atoms(\"protein\")\n",
    "\n",
    "# 1) the current trajectory contains a protein split across\n",
    "#    periodic boundaries, so we first make the protein whole and\n",
    "#    center it in the box using on-the-fly transformations\n",
    "not_protein = md_universe.select_atoms(\"not protein\")\n",
    "transforms = [trans.unwrap(protein),\n",
    "              trans.center_in_box(protein, wrap=True),\n",
    "              trans.wrap(not_protein)]\n",
    "md_universe.trajectory.add_transformations(*transforms)\n",
    "\n",
    "# 2) fit to the initial frame to get a better average structure\n",
    "#    (the trajectory is changed in memory)\n",
    "prealigner = align.AlignTraj(md_universe, md_universe, select=\"protein and name CA\",\n",
    "                             in_memory=True).run()\n",
    "\n",
    "# 3) reference = average structure\n",
    "reference_coordinates = md_universe.trajectory.timeseries(asel=protein).mean(axis=1)\n",
    "# make a reference structure (need to reshape into a 1-frame \"trajectory\")\n",
    "reference = mda.Merge(protein).load_new(\n",
    "    reference_coordinates[:, None, :], order=\"afc\")\n",
    "\n",
    "# We created a new universe reference that contains a single frame with the averaged coordinates of the protein.\n",
    "# Now we need to fit the whole trajectory to the reference by minimizing the RMSD. \n",
    "# We use MDAnalysis.analysis.align.AlignTraj:\n",
    "aligner = align.AlignTraj(md_universe, reference, select=\"protein and name CA\", in_memory=True).run()\n"
   ]
  },
  {
   "cell_type": "code",
   "execution_count": 3,
   "metadata": {},
   "outputs": [],
   "source": [
    "# The trajectory is now fitted to the reference (the RMSD is stored as aligner.rmsd for further inspection). \n",
    "# Now we can calculate the RMSF:\n",
    "calphas = protein.select_atoms(\"name CA\")\n",
    "rmsfer = RMSF(calphas, verbose=False).run()"
   ]
  },
  {
   "cell_type": "code",
   "execution_count": 4,
   "metadata": {},
   "outputs": [
    {
     "name": "stderr",
     "output_type": "stream",
     "text": [
      "/home/media/data2/user_home/dbsejrgus226/miniconda3/envs/MD/lib/python3.8/site-packages/MDAnalysis/analysis/rms.py:877: DeprecationWarning: The `rmsf` attribute was deprecated in MDAnalysis 2.0.0 and will be removed in MDAnalysis 3.0.0. Please use `results.rmsd` instead.\n",
      "  warnings.warn(wmsg, DeprecationWarning)\n"
     ]
    },
    {
     "data": {
      "image/png": "[encoded data removed]",
      "text/plain": [
       "<Figure size 640x480 with 1 Axes>"
      ]
     },
     "metadata": {},
     "output_type": "display_data"
    }
   ],
   "source": [
    "plt.plot(calphas.resnums, rmsfer.rmsf)\n",
    "plt.xlabel(\"Residue number\")\n",
    "plt.ylabel(\"RMSD (Å)\")\n",
    "plt.savefig(\"rank4_rmsf_results.png\")"
   ]
  },
  {
   "cell_type": "code",
   "execution_count": null,
   "metadata": {},
   "outputs": [],
   "source": []
  }
 ],
 "metadata": {
  "kernelspec": {
   "display_name": "Python 3",
   "language": "python",
   "name": "python3"
  },
  "language_info": {
   "codemirror_mode": {
    "name": "ipython",
    "version": 3
   },
   "file_extension": ".py",
   "mimetype": "text/x-python",
   "name": "python",
   "nbconvert_exporter": "python",
   "pygments_lexer": "ipython3",
   "version": "3.8.12"
  }
 },
 "nbformat": 4,
 "nbformat_minor": 2
}
