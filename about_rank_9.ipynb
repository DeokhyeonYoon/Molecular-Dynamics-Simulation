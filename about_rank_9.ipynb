{
 "cells": [
  {
   "cell_type": "markdown",
   "metadata": {},
   "source": [
    "# MD Simultaion "
   ]
  },
  {
   "cell_type": "code",
   "execution_count": 22,
   "metadata": {},
   "outputs": [],
   "source": [
    "import copy\n",
    "from pathlib import Path\n",
    "import sys\n",
    "\n",
    "import requests\n",
    "from IPython.display import display\n",
    "import numpy as np\n",
    "from rdkit import Chem\n",
    "from rdkit.Chem import Draw\n",
    "from rdkit.Chem import AllChem\n",
    "import mdtraj as md\n",
    "import pdbfixer\n",
    "import openmm as mm\n",
    "import openmm.app as app\n",
    "from openmm import unit\n",
    "from openff.toolkit.topology import Molecule, Topology\n",
    "from openmmforcefields.generators import GAFFTemplateGenerator"
   ]
  },
  {
   "cell_type": "code",
   "execution_count": 23,
   "metadata": {},
   "outputs": [],
   "source": [
    "import os\n",
    "\n",
    "os.environ[\"CUDA_VISIBLE_DEVICES\"] = \"0.1.2.3\""
   ]
  },
  {
   "cell_type": "code",
   "execution_count": 24,
   "metadata": {},
   "outputs": [],
   "source": [
    "#import warnings\n",
    "\n",
    "# 경고를 무시하도록 설정합니다.\n",
    "#warnings.filterwarnings(\"ignore\", message=\"PDB file is missing resid information.\")\n",
    "#warnings.filterwarnings(\"ignore\", message=\"Reload offsets from trajectory\")\n",
    "#warnings.filterwarnings(\"ignore\", message=\"duplicate atom\")\n",
    "\n",
    "# 나머지 코드 실행"
   ]
  },
  {
   "cell_type": "code",
   "execution_count": 25,
   "metadata": {},
   "outputs": [],
   "source": [
    "import warnings\n",
    "warnings.filterwarnings(\"ignore\")"
   ]
  },
  {
   "cell_type": "code",
   "execution_count": 26,
   "metadata": {},
   "outputs": [],
   "source": [
    "def prepare_protein(\n",
    "    pdb_file, ignore_missing_residues=True, ignore_terminal_missing_residues=True, ph=7.0\n",
    "):\n",
    "    \"\"\"\n",
    "    Use pdbfixer to prepare the protein from a PDB file. Hetero atoms such as ligands are\n",
    "    removed and non-standard residues replaced. Missing atoms to existing residues are added.\n",
    "    Missing residues are ignored by default, but can be included.\n",
    "\n",
    "    Parameters\n",
    "    ----------\n",
    "    pdb_file: pathlib.Path or str\n",
    "        PDB file containing the system to simulate.\n",
    "    ignore_missing_residues: bool, optional\n",
    "        If missing residues should be ignored or built.\n",
    "    ignore_terminal_missing_residues: bool, optional\n",
    "        If missing residues at the beginning and the end of a chain should be ignored or built.\n",
    "    ph: float, optional\n",
    "        pH value used to determine protonation state of residues\n",
    "\n",
    "    Returns\n",
    "    -------\n",
    "    fixer: pdbfixer.pdbfixer.PDBFixer\n",
    "        Prepared protein system.\n",
    "    \"\"\"\n",
    "    fixer = pdbfixer.PDBFixer(str(pdb_file))\n",
    "    fixer.removeHeterogens()  # co-crystallized ligands are unknown to PDBFixer\n",
    "    fixer.findMissingResidues()  # identify missing residues, needed for identification of missing atoms\n",
    "\n",
    "    # if missing terminal residues shall be ignored, remove them from the dictionary\n",
    "    if ignore_terminal_missing_residues:\n",
    "        chains = list(fixer.topology.chains())\n",
    "        keys = fixer.missingResidues.keys()\n",
    "        for key in list(keys):\n",
    "            chain = chains[key[0]]\n",
    "            if key[1] == 0 or key[1] == len(list(chain.residues())):\n",
    "                del fixer.missingResidues[key]\n",
    "\n",
    "    # if all missing residues shall be ignored ignored, clear the dictionary\n",
    "    if ignore_missing_residues:\n",
    "        fixer.missingResidues = {}\n",
    "\n",
    "    fixer.findNonstandardResidues()  # find non-standard residue\n",
    "    fixer.replaceNonstandardResidues()  # replace non-standard residues with standard one\n",
    "    fixer.findMissingAtoms()  # find missing heavy atoms\n",
    "    fixer.addMissingAtoms()  # add missing atoms and residues\n",
    "    fixer.addMissingHydrogens(ph)  # add missing hydrogens\n",
    "    return fixer"
   ]
  },
  {
   "cell_type": "code",
   "execution_count": 27,
   "metadata": {},
   "outputs": [],
   "source": [
    "prepare_protein = prepare_protein(\"./protein_rank_9_complex.pdb\", ignore_missing_residues=False)"
   ]
  },
  {
   "cell_type": "code",
   "execution_count": 28,
   "metadata": {},
   "outputs": [],
   "source": [
    "def prepare_ligand(pdb_file, resname, smiles, depict=True):\n",
    "    \"\"\"\n",
    "    Prepare a ligand from a PDB file via adding hydrogens and assigning bond orders. A depiction\n",
    "    of the ligand before and after preparation is rendered in 2D to allow an inspection of the\n",
    "    results. Huge thanks to @j-wags for the suggestion.\n",
    "\n",
    "    Parameters\n",
    "    ----------\n",
    "    pdb_file: pathlib.PosixPath\n",
    "       PDB file containing the ligand of interest.\n",
    "    resname: str\n",
    "        Three character residue name of the ligand.\n",
    "    smiles : str\n",
    "        SMILES string of the ligand informing about correct protonation and bond orders.\n",
    "    depict: bool, optional\n",
    "        show a 2D representation of the ligand\n",
    "\n",
    "    Returns\n",
    "    -------\n",
    "    prepared_ligand: rdkit.Chem.rdchem.Mol\n",
    "        Prepared ligand.\n",
    "    \"\"\"\n",
    "    # split molecule\n",
    "    rdkit_mol = Chem.MolFromPDBFile(str(pdb_file), proximityBonding=True, sanitize=False)\n",
    "    print(rdkit_mol)\n",
    "    rdkit_mol_split = Chem.rdmolops.SplitMolByPDBResidues(rdkit_mol)\n",
    "\n",
    "    # extract the ligand and remove any already present hydrogens\n",
    "    ligand = rdkit_mol_split[resname]\n",
    "    ligand = Chem.RemoveHs(ligand)\n",
    "\n",
    "    # assign bond orders from template\n",
    "    reference_mol = Chem.MolFromSmiles(smiles)\n",
    "    prepared_ligand = AllChem.AssignBondOrdersFromTemplate(reference_mol, ligand)\n",
    "    prepared_ligand.AddConformer(ligand.GetConformer(0))\n",
    "\n",
    "    # protonate ligand\n",
    "    prepared_ligand = Chem.rdmolops.AddHs(prepared_ligand, addCoords=True)\n",
    "    prepared_ligand = Chem.MolFromMolBlock(Chem.MolToMolBlock(prepared_ligand))\n",
    "\n",
    "    # 2D depiction\n",
    "    if depict:\n",
    "        ligand_2d = copy.deepcopy(ligand)\n",
    "        prepared_ligand_2d = copy.deepcopy(prepared_ligand)\n",
    "        AllChem.Compute2DCoords(ligand_2d)\n",
    "        AllChem.Compute2DCoords(prepared_ligand_2d)\n",
    "        display(\n",
    "            Draw.MolsToGridImage(\n",
    "                [ligand_2d, prepared_ligand_2d], molsPerRow=2, legends=[\"original\", \"prepared\"]\n",
    "            )\n",
    "        )\n",
    "\n",
    "    # return ligand\n",
    "    return prepared_ligand"
   ]
  },
  {
   "cell_type": "code",
   "execution_count": 29,
   "metadata": {},
   "outputs": [],
   "source": [
    "pdb_path = \"./protein_rank_9_complex.pdb\"\n",
    "ligand_name = \"UNL\"\n",
    "smiles = \"COc1ccccc1NC(=O)N1CCN(c2ccccc2F)CC1\""
   ]
  },
  {
   "cell_type": "code",
   "execution_count": 30,
   "metadata": {},
   "outputs": [
    {
     "name": "stdout",
     "output_type": "stream",
     "text": [
      "<rdkit.Chem.rdchem.Mol object at 0x7fc2933a23a0>\n"
     ]
    },
    {
     "name": "stderr",
     "output_type": "stream",
     "text": [
      "[13:44:35] WARNING: More than one matching pattern found - picking one\n",
      "\n"
     ]
    },
    {
     "data": {
      "image/png": "[encoded data removed]",
      "text/plain": [
       "<IPython.core.display.Image object>"
      ]
     },
     "metadata": {},
     "output_type": "display_data"
    }
   ],
   "source": [
    "rdkit_ligand = prepare_ligand(pdb_path, ligand_name, smiles)"
   ]
  },
  {
   "cell_type": "code",
   "execution_count": 31,
   "metadata": {},
   "outputs": [],
   "source": [
    "def rdkit_to_openmm(rdkit_mol, name=\"LIG\"):\n",
    "    \"\"\"\n",
    "    Convert an RDKit molecule to an OpenMM molecule.\n",
    "    Inspired by @hannahbrucemcdonald and @glass-w.\n",
    "\n",
    "    Parameters\n",
    "    ----------\n",
    "    rdkit_mol: rdkit.Chem.rdchem.Mol\n",
    "        RDKit molecule to convert.\n",
    "    name: str\n",
    "        Molecule name.\n",
    "\n",
    "    Returns\n",
    "    -------\n",
    "    omm_molecule: openmm.app.Modeller\n",
    "        OpenMM modeller object holding the molecule of interest.\n",
    "    \"\"\"\n",
    "    # convert RDKit to OpenFF\n",
    "    off_mol = Molecule.from_rdkit(rdkit_mol)\n",
    "    #print(off_mol)\n",
    "\n",
    "    # add name for molecule\n",
    "    off_mol.name = name\n",
    "    #print(off_mol.name)\n",
    "\n",
    "    # add names for atoms\n",
    "    element_counter_dict = {}\n",
    "    for off_atom, rdkit_atom in zip(off_mol.atoms, rdkit_mol.GetAtoms()):\n",
    "        element = rdkit_atom.GetSymbol()\n",
    "        if element in element_counter_dict.keys():\n",
    "            element_counter_dict[element] += 1\n",
    "        else:\n",
    "            element_counter_dict[element] = 1\n",
    "        off_atom.name = element + str(element_counter_dict[element])\n",
    "    #print(element_counter_dict)\n",
    "\n",
    "    # convert from OpenFF to OpenMM\n",
    "    off_mol_topology = off_mol.to_topology()\n",
    "    mol_topology = off_mol_topology.to_openmm()\n",
    "    #print(mol_topology)\n",
    "    mol_positions = off_mol.conformers[0]\n",
    "    #print(mol_positions)\n",
    "\n",
    "    # convert units from Ångström to nanometers\n",
    "    # since OpenMM works in nm\n",
    "    mol_positions = mol_positions.to(\"nanometers\")\n",
    "    #print(mol_positions)\n",
    "\n",
    "    # combine topology and positions in modeller object\n",
    "    omm_mol = app.Modeller(mol_topology, mol_positions)\n",
    "\n",
    "    return omm_mol"
   ]
  },
  {
   "cell_type": "code",
   "execution_count": 32,
   "metadata": {},
   "outputs": [],
   "source": [
    "omm_ligand = rdkit_to_openmm(rdkit_ligand, ligand_name)"
   ]
  },
  {
   "cell_type": "code",
   "execution_count": 33,
   "metadata": {},
   "outputs": [],
   "source": [
    "def merge_protein_and_ligand(protein, ligand):\n",
    "    \"\"\"\n",
    "    Merge two OpenMM objects.\n",
    "\n",
    "    Parameters\n",
    "    ----------\n",
    "    protein: pdbfixer.pdbfixer.PDBFixer\n",
    "        Protein to merge.\n",
    "    ligand: openmm.app.Modeller\n",
    "        Ligand to merge.\n",
    "\n",
    "    Returns\n",
    "    -------\n",
    "    complex_topology: openmm.app.topology.Topology\n",
    "        The merged topology.\n",
    "    complex_positions: openmm.unit.quantity.Quantity\n",
    "        The merged positions.\n",
    "    \"\"\"\n",
    "    # combine topologies\n",
    "    md_protein_topology = md.Topology.from_openmm(protein.topology)  # using mdtraj for protein top\n",
    "    #print(md_protein_topology)\n",
    "    md_ligand_topology = md.Topology.from_openmm(ligand.topology)  # using mdtraj for ligand top\n",
    "    #print(md_ligand_topology)\n",
    "    md_complex_topology = md_protein_topology.join(md_ligand_topology)  # add them together\n",
    "    #print(md_complex_topology)\n",
    "    complex_topology = md_complex_topology.to_openmm()\n",
    "    #print(complex_topology)\n",
    "\n",
    "    # combine positions\n",
    "    total_atoms = len(protein.positions) + len(ligand.positions)\n",
    "\n",
    "    # create an array for storing all atom positions as tupels containing a value and a unit\n",
    "    # called OpenMM Quantities\n",
    "    complex_positions = unit.Quantity(np.zeros([total_atoms, 3]), unit=unit.nanometers)\n",
    "    complex_positions[: len(protein.positions)] = protein.positions  # add protein positions\n",
    "    complex_positions[len(protein.positions) :] = ligand.positions  # add ligand positions\n",
    "\n",
    "    return complex_topology, complex_positions"
   ]
  },
  {
   "cell_type": "code",
   "execution_count": 34,
   "metadata": {},
   "outputs": [],
   "source": [
    "complex_topology, complex_positions = merge_protein_and_ligand(prepare_protein, omm_ligand)"
   ]
  },
  {
   "cell_type": "code",
   "execution_count": 35,
   "metadata": {},
   "outputs": [
    {
     "name": "stdout",
     "output_type": "stream",
     "text": [
      "Complex topology has 4205 atoms.\n"
     ]
    }
   ],
   "source": [
    "print(\"Complex topology has\", complex_topology.getNumAtoms(), \"atoms.\")\n",
    "# NBVAL_CHECK_OUTPUT"
   ]
  },
  {
   "cell_type": "code",
   "execution_count": 36,
   "metadata": {},
   "outputs": [],
   "source": [
    "def generate_forcefield(\n",
    "    rdkit_mol=None, protein_ff=\"amber14-all.xml\", solvent_ff=\"amber14/tip3pfb.xml\"\n",
    "):\n",
    "    \"\"\"\n",
    "    Generate an OpenMM Forcefield object and register a small molecule.\n",
    "\n",
    "    Parameters\n",
    "    ----------\n",
    "    rdkit_mol: rdkit.Chem.rdchem.Mol\n",
    "        Small molecule to register in the force field.\n",
    "    protein_ff: string\n",
    "        Name of the force field.\n",
    "    solvent_ff: string\n",
    "        Name of the solvent force field.\n",
    "\n",
    "    Returns\n",
    "    -------\n",
    "    forcefield: openmm.app.Forcefield\n",
    "        Forcefield with registered small molecule.\n",
    "    \"\"\"\n",
    "    forcefield = app.ForceField(protein_ff, solvent_ff)\n",
    "\n",
    "    if rdkit_mol is not None:\n",
    "        gaff = GAFFTemplateGenerator(\n",
    "            molecules=Molecule.from_rdkit(rdkit_mol, allow_undefined_stereo=True)\n",
    "        )\n",
    "        forcefield.registerTemplateGenerator(gaff.generator)\n",
    "\n",
    "    return forcefield"
   ]
  },
  {
   "cell_type": "code",
   "execution_count": 37,
   "metadata": {},
   "outputs": [],
   "source": [
    "forcefield = generate_forcefield(rdkit_ligand)"
   ]
  },
  {
   "cell_type": "code",
   "execution_count": 38,
   "metadata": {},
   "outputs": [
    {
     "name": "stderr",
     "output_type": "stream",
     "text": [
      "/bin/bash: /home/media/data2/user_home/dbsejrgus226/miniconda3/envs/MD/lib/libtinfo.so.6: no version information available (required by /bin/bash)\n",
      "/bin/bash: /home/media/data2/user_home/dbsejrgus226/miniconda3/envs/MD/lib/libtinfo.so.6: no version information available (required by /bin/bash)\n",
      "/bin/bash: /home/media/data2/user_home/dbsejrgus226/miniconda3/envs/MD/lib/libtinfo.so.6: no version information available (required by /bin/bash)\n",
      "/bin/bash: /home/media/data2/user_home/dbsejrgus226/miniconda3/envs/MD/lib/libtinfo.so.6: no version information available (required by /bin/bash)\n",
      "/bin/bash: /home/media/data2/user_home/dbsejrgus226/miniconda3/envs/MD/lib/libtinfo.so.6: no version information available (required by /bin/bash)\n",
      "/bin/bash: /home/media/data2/user_home/dbsejrgus226/miniconda3/envs/MD/lib/libtinfo.so.6: no version information available (required by /bin/bash)\n"
     ]
    }
   ],
   "source": [
    "modeller = app.Modeller(complex_topology, complex_positions)\n",
    "modeller.addSolvent(forcefield, padding=3.0 * unit.nanometers, ionicStrength=0.15 * unit.molar)"
   ]
  },
  {
   "cell_type": "code",
   "execution_count": 39,
   "metadata": {},
   "outputs": [],
   "source": [
    "system = forcefield.createSystem(modeller.topology, nonbondedMethod=app.NoCutoff)\n",
    "integrator = mm.LangevinIntegrator(\n",
    "    309.65 * unit.kelvin, 1.0 / unit.picoseconds, 2.0 * unit.femtoseconds\n",
    ")\n",
    "simulation = app.Simulation(modeller.topology, system, integrator)\n",
    "simulation.context.setPositions(modeller.positions)"
   ]
  },
  {
   "cell_type": "code",
   "execution_count": 40,
   "metadata": {},
   "outputs": [],
   "source": [
    "simulation.minimizeEnergy()\n",
    "with open(\"topology_9.pdb\", \"w\") as pdb_file:\n",
    "    app.PDBFile.writeFile(\n",
    "        simulation.topology,\n",
    "        simulation.context.getState(getPositions=True, enforcePeriodicBox=True).getPositions(),\n",
    "        file=pdb_file,\n",
    "        keepIds=True,\n",
    "    )"
   ]
  },
  {
   "cell_type": "code",
   "execution_count": 41,
   "metadata": {},
   "outputs": [],
   "source": [
    "# output settings\n",
    "\n",
    "steps = 50000  # corresponds to 100 fs\n",
    "write_interval = 500  # write every 10 fs\n",
    "log_interval = 250  # log progress to stdout every 5 fs\n",
    "simulation.reporters.append(\n",
    "    md.reporters.XTCReporter(file=str(\"trajectory_9.xtc\"), reportInterval=write_interval)\n",
    ")\n",
    "simulation.reporters.append(\n",
    "    app.StateDataReporter(\n",
    "        sys.stdout,\n",
    "        log_interval,\n",
    "        step=True,\n",
    "        potentialEnergy=True,\n",
    "        temperature=True,\n",
    "        progress=True,\n",
    "        remainingTime=True,\n",
    "        speed=True,\n",
    "        totalSteps=steps,\n",
    "        separator=\"\\t\",\n",
    "    )\n",
    ")"
   ]
  },
  {
   "cell_type": "code",
   "execution_count": 42,
   "metadata": {},
   "outputs": [
    {
     "name": "stdout",
     "output_type": "stream",
     "text": [
      "#\"Progress (%)\"\t\"Step\"\t\"Potential Energy (kJ/mole)\"\t\"Temperature (K)\"\t\"Speed (ns/day)\"\t\"Time Remaining\"\n",
      "0.5%\t250\t-1742134.5\t210.68255681406882\t0\t--\n",
      "1.0%\t500\t-1704145.375\t246.924082326355\t3.56\t40:00\n",
      "1.5%\t750\t-1681134.25\t269.97051889599163\t3.56\t39:51\n",
      "2.0%\t1000\t-1663325.0\t283.1442599646354\t3.56\t39:40\n",
      "2.5%\t1250\t-1649373.0\t291.2946463950383\t3.56\t39:28\n",
      "3.0%\t1500\t-1640833.75\t298.5025222924295\t3.56\t39:16\n",
      "3.5%\t1750\t-1634185.0\t301.33025910906855\t3.56\t39:04\n",
      "4.0%\t2000\t-1630656.25\t304.62192495837064\t3.56\t38:52\n",
      "4.5%\t2250\t-1625757.25\t304.4747580997604\t3.56\t38:40\n",
      "5.0%\t2500\t-1623677.25\t305.5494616236726\t3.55\t38:28\n",
      "5.5%\t2750\t-1620619.5\t307.48750011098616\t3.55\t38:16\n",
      "6.0%\t3000\t-1618428.5\t305.99275013139516\t3.55\t38:04\n",
      "6.5%\t3250\t-1619432.125\t307.45652319624816\t3.55\t37:52\n",
      "7.0%\t3500\t-1616483.75\t307.8570043234487\t3.55\t37:40\n",
      "7.5%\t3750\t-1617630.5\t308.29149486574494\t3.56\t37:27\n",
      "8.0%\t4000\t-1619777.25\t310.8468547013299\t3.55\t37:16\n",
      "8.5%\t4250\t-1616561.875\t308.13569280464753\t3.55\t37:03\n",
      "9.0%\t4500\t-1619141.75\t310.9519680531409\t3.55\t36:51\n",
      "9.5%\t4750\t-1616763.125\t309.3704787440617\t3.55\t36:39\n",
      "10.0%\t5000\t-1614346.75\t307.93050356852103\t3.55\t36:27\n",
      "10.5%\t5250\t-1615387.125\t310.32119601501313\t3.55\t36:15\n",
      "11.0%\t5500\t-1614830.25\t309.5725938240316\t3.55\t36:03\n",
      "11.5%\t5750\t-1614567.125\t309.89483024945923\t3.55\t35:51\n",
      "12.0%\t6000\t-1614156.375\t309.2629012979678\t3.55\t35:39\n",
      "12.5%\t6250\t-1614722.625\t309.8801372417609\t3.55\t35:27\n",
      "13.0%\t6500\t-1614839.0\t309.95402986557644\t3.55\t35:15\n",
      "13.5%\t6750\t-1615411.125\t308.94384576186053\t3.55\t35:02\n",
      "14.0%\t7000\t-1616013.125\t310.37768873783295\t3.55\t34:50\n",
      "14.5%\t7250\t-1614009.625\t310.46322356091764\t3.55\t34:38\n",
      "15.0%\t7500\t-1614851.75\t311.29178480715376\t3.55\t34:26\n",
      "15.5%\t7750\t-1612529.75\t309.6684571971543\t3.55\t34:14\n",
      "16.0%\t8000\t-1615898.5\t312.1901605855876\t3.55\t34:02\n",
      "16.5%\t8250\t-1615047.75\t312.17936204210525\t3.55\t33:50\n",
      "17.0%\t8500\t-1616457.25\t312.1741482360914\t3.55\t33:37\n",
      "17.5%\t8750\t-1614849.125\t310.06715557368847\t3.55\t33:25\n",
      "18.0%\t9000\t-1616833.5\t310.9581433139848\t3.55\t33:13\n",
      "18.5%\t9250\t-1616623.25\t309.1690485780429\t3.55\t33:01\n",
      "19.0%\t9500\t-1617126.875\t310.54466375898613\t3.55\t32:49\n",
      "19.5%\t9750\t-1616711.5\t311.20513996483976\t3.55\t32:37\n",
      "20.0%\t10000\t-1616064.75\t309.2916020705292\t3.55\t32:25\n",
      "20.5%\t10250\t-1616154.75\t308.9994991459506\t3.55\t32:12\n",
      "21.0%\t10500\t-1615355.625\t306.77017460208333\t3.55\t32:00\n",
      "21.5%\t10750\t-1617326.0\t308.8937764021895\t3.55\t31:48\n",
      "22.0%\t11000\t-1616060.875\t309.45350204413796\t3.55\t31:36\n",
      "22.5%\t11250\t-1617679.0\t309.25255812967333\t3.55\t31:24\n",
      "23.0%\t11500\t-1616396.75\t309.177912081676\t3.55\t31:12\n",
      "23.5%\t11750\t-1617274.75\t310.7641076153371\t3.55\t31:00\n",
      "24.0%\t12000\t-1617212.25\t310.1456112944065\t3.55\t30:47\n",
      "24.5%\t12250\t-1617477.375\t310.6376216199884\t3.55\t30:35\n",
      "25.0%\t12500\t-1616824.25\t310.1911925547802\t3.55\t30:23\n",
      "25.5%\t12750\t-1616882.625\t309.52315107684115\t3.55\t30:11\n",
      "26.0%\t13000\t-1615724.0\t309.5278182888955\t3.55\t29:59\n",
      "26.5%\t13250\t-1615854.75\t309.7818416318744\t3.55\t29:47\n",
      "27.0%\t13500\t-1617073.0\t310.2392042075704\t3.55\t29:34\n",
      "27.5%\t13750\t-1617777.5\t310.3627536826027\t3.55\t29:22\n",
      "28.0%\t14000\t-1617734.25\t309.5734406257529\t3.55\t29:10\n",
      "28.5%\t14250\t-1618850.375\t310.0026018817325\t3.55\t28:58\n",
      "29.0%\t14500\t-1616683.0\t310.2173330607676\t3.55\t28:46\n",
      "29.5%\t14750\t-1616917.25\t310.072591205648\t3.55\t28:34\n",
      "30.0%\t15000\t-1617276.125\t309.11754563393686\t3.55\t28:21\n",
      "30.5%\t15250\t-1616968.25\t309.42955544887843\t3.55\t28:09\n",
      "31.0%\t15500\t-1618229.375\t309.4449221710015\t3.55\t27:57\n",
      "31.5%\t15750\t-1619898.375\t309.9794747738498\t3.55\t27:45\n",
      "32.0%\t16000\t-1618382.375\t310.26415906075636\t3.55\t27:33\n",
      "32.5%\t16250\t-1616956.625\t308.4723833381286\t3.55\t27:21\n",
      "33.0%\t16500\t-1617680.0\t309.0369889466823\t3.55\t27:09\n",
      "33.5%\t16750\t-1616277.75\t308.2561678104222\t3.55\t26:56\n",
      "34.0%\t17000\t-1618189.5\t309.9223787919878\t3.55\t26:44\n",
      "34.5%\t17250\t-1617905.5\t310.89491558252325\t3.55\t26:32\n",
      "35.0%\t17500\t-1618851.0\t310.50648213433686\t3.55\t26:20\n",
      "35.5%\t17750\t-1617533.0\t309.6258391974069\t3.55\t26:08\n",
      "36.0%\t18000\t-1617565.625\t308.36266192377735\t3.55\t25:55\n",
      "36.5%\t18250\t-1619416.5\t310.0001293241562\t3.55\t25:43\n",
      "37.0%\t18500\t-1618657.0\t310.2756070048581\t3.55\t25:31\n",
      "37.5%\t18750\t-1617416.0\t308.56453869534766\t3.55\t25:19\n",
      "38.0%\t19000\t-1618037.375\t309.38827263966147\t3.55\t25:07\n",
      "38.5%\t19250\t-1617746.75\t309.3057710365757\t3.55\t24:55\n",
      "39.0%\t19500\t-1618411.75\t309.39695322968316\t3.55\t24:43\n",
      "39.5%\t19750\t-1618143.0\t309.5096497099816\t3.55\t24:30\n",
      "40.0%\t20000\t-1619959.75\t310.68743888660646\t3.55\t24:18\n",
      "40.5%\t20250\t-1617970.875\t310.3125791418595\t3.55\t24:06\n",
      "41.0%\t20500\t-1618535.25\t309.83902117912055\t3.55\t23:54\n",
      "41.5%\t20750\t-1618628.125\t310.7186258694942\t3.55\t23:42\n",
      "42.0%\t21000\t-1618713.875\t310.3024647798728\t3.55\t23:30\n",
      "42.5%\t21250\t-1619194.625\t309.17128812721575\t3.55\t23:17\n",
      "43.0%\t21500\t-1621155.5\t308.8119045078959\t3.55\t23:05\n",
      "43.5%\t21750\t-1620676.0\t309.62340928748574\t3.55\t22:53\n",
      "44.0%\t22000\t-1620950.5\t308.8709321486248\t3.55\t22:41\n",
      "44.5%\t22250\t-1620946.25\t309.32887362213006\t3.55\t22:29\n",
      "45.0%\t22500\t-1618861.5\t309.48938670644145\t3.55\t22:17\n",
      "45.5%\t22750\t-1621384.125\t311.2679985748249\t3.55\t22:04\n",
      "46.0%\t23000\t-1621068.0\t310.1126122718048\t3.55\t21:52\n",
      "46.5%\t23250\t-1619270.125\t309.42131622091176\t3.55\t21:40\n",
      "47.0%\t23500\t-1618486.0\t309.8748539004\t3.55\t21:28\n",
      "47.5%\t23750\t-1618407.625\t310.59439383107366\t3.55\t21:16\n",
      "48.0%\t24000\t-1617466.25\t309.5066127090733\t3.55\t21:04\n",
      "48.5%\t24250\t-1618599.875\t309.4543864506181\t3.55\t20:52\n",
      "49.0%\t24500\t-1619115.5\t310.8437224693837\t3.55\t20:39\n",
      "49.5%\t24750\t-1618605.625\t309.9611398636997\t3.55\t20:27\n",
      "50.0%\t25000\t-1617751.5\t309.7853606322699\t3.55\t20:15\n",
      "50.5%\t25250\t-1616764.75\t308.14758009096\t3.55\t20:03\n",
      "51.0%\t25500\t-1619726.5\t310.78468698132474\t3.55\t19:51\n",
      "51.5%\t25750\t-1619738.25\t311.5725740793345\t3.55\t19:39\n",
      "52.0%\t26000\t-1617809.0\t309.58777410563613\t3.55\t19:26\n",
      "52.5%\t26250\t-1619089.75\t309.0634881959392\t3.55\t19:14\n",
      "53.0%\t26500\t-1618349.5\t310.18794912767\t3.55\t19:02\n",
      "53.5%\t26750\t-1621017.75\t309.92942891943716\t3.55\t18:50\n",
      "54.0%\t27000\t-1621224.75\t310.5700972355781\t3.55\t18:38\n",
      "54.5%\t27250\t-1620455.75\t309.6379830336755\t3.55\t18:26\n",
      "55.0%\t27500\t-1618143.875\t309.140147258983\t3.55\t18:13\n",
      "55.5%\t27750\t-1619346.0\t308.5803610062042\t3.55\t18:01\n",
      "56.0%\t28000\t-1619740.0\t309.7375930244538\t3.55\t17:49\n",
      "56.5%\t28250\t-1620070.875\t310.2647062615668\t3.55\t17:37\n",
      "57.0%\t28500\t-1620202.875\t309.7803445696471\t3.55\t17:25\n",
      "57.5%\t28750\t-1618536.25\t308.2018039310449\t3.55\t17:13\n",
      "58.0%\t29000\t-1620388.25\t310.89623859651203\t3.55\t17:01\n",
      "58.5%\t29250\t-1619938.75\t310.22427915085154\t3.55\t16:48\n",
      "59.0%\t29500\t-1620073.625\t309.46589863879257\t3.55\t16:36\n",
      "59.5%\t29750\t-1619912.875\t310.5777281202992\t3.55\t16:24\n",
      "60.0%\t30000\t-1620291.25\t311.2094373149409\t3.55\t16:12\n",
      "60.5%\t30250\t-1619347.25\t309.5517204796687\t3.55\t16:00\n",
      "61.0%\t30500\t-1619014.625\t309.44852302866275\t3.55\t15:48\n",
      "61.5%\t30750\t-1620225.375\t308.89107260829695\t3.55\t15:36\n",
      "62.0%\t31000\t-1621538.5\t310.20725264792225\t3.55\t15:23\n",
      "62.5%\t31250\t-1621342.0\t308.64911636830413\t3.55\t15:11\n",
      "63.0%\t31500\t-1621923.625\t307.7308889700903\t3.55\t14:59\n",
      "63.5%\t31750\t-1620555.0\t308.7369004082742\t3.55\t14:47\n",
      "64.0%\t32000\t-1619280.75\t308.18015393626445\t3.55\t14:35\n",
      "64.5%\t32250\t-1618165.5\t309.9386579430881\t3.55\t14:23\n",
      "65.0%\t32500\t-1617594.25\t310.0352543685078\t3.55\t14:10\n",
      "65.5%\t32750\t-1617637.75\t309.5135022110466\t3.55\t13:58\n",
      "66.0%\t33000\t-1617733.75\t309.81401285037134\t3.55\t13:46\n",
      "66.5%\t33250\t-1618963.375\t310.33465972335864\t3.55\t13:34\n",
      "67.0%\t33500\t-1620319.25\t310.6774029751813\t3.55\t13:22\n",
      "67.5%\t33750\t-1620727.625\t311.5233498552784\t3.55\t13:10\n",
      "68.0%\t34000\t-1619741.375\t311.4183700057188\t3.55\t12:57\n",
      "68.5%\t34250\t-1620492.0\t311.487472906066\t3.55\t12:45\n",
      "69.0%\t34500\t-1620035.0\t310.1584489426259\t3.55\t12:33\n",
      "69.5%\t34750\t-1618966.25\t308.9440368565834\t3.55\t12:21\n",
      "70.0%\t35000\t-1619502.125\t310.24656023525796\t3.55\t12:09\n",
      "70.5%\t35250\t-1621407.375\t311.22928638871844\t3.55\t11:57\n",
      "71.0%\t35500\t-1619891.5\t310.04845830945777\t3.55\t11:45\n",
      "71.5%\t35750\t-1622234.5\t309.66286884886546\t3.55\t11:32\n",
      "72.0%\t36000\t-1621363.5\t308.36314383024\t3.55\t11:20\n",
      "72.5%\t36250\t-1619980.5\t308.0834194827442\t3.55\t11:08\n",
      "73.0%\t36500\t-1622068.0\t308.6523308801265\t3.55\t10:56\n",
      "73.5%\t36750\t-1623154.75\t310.30041417588575\t3.55\t10:44\n",
      "74.0%\t37000\t-1621966.0\t309.4053917140099\t3.55\t10:32\n",
      "74.5%\t37250\t-1621334.0\t308.6714702332307\t3.55\t10:19\n",
      "75.0%\t37500\t-1621317.75\t309.46548431661176\t3.55\t10:07\n",
      "75.5%\t37750\t-1620156.75\t309.8406416142105\t3.55\t9:55\n",
      "76.0%\t38000\t-1619879.25\t308.72427778744606\t3.55\t9:43\n",
      "76.5%\t38250\t-1621342.625\t310.32200224342773\t3.55\t9:31\n",
      "77.0%\t38500\t-1619240.5\t308.88844824438644\t3.55\t9:19\n",
      "77.5%\t38750\t-1620207.0\t309.58409907625986\t3.55\t9:07\n",
      "78.0%\t39000\t-1620698.25\t309.61101332053903\t3.55\t8:54\n",
      "78.5%\t39250\t-1621558.75\t309.3622036078094\t3.55\t8:42\n",
      "79.0%\t39500\t-1620784.0\t310.20281594503484\t3.55\t8:30\n",
      "79.5%\t39750\t-1622485.0\t311.1831788468207\t3.55\t8:18\n",
      "80.0%\t40000\t-1619619.75\t308.62504715571475\t3.55\t8:06\n",
      "80.5%\t40250\t-1620347.25\t309.8238206364115\t3.55\t7:54\n",
      "81.0%\t40500\t-1620865.0\t310.8698183809328\t3.55\t7:41\n",
      "81.5%\t40750\t-1621012.5\t310.56912546457033\t3.55\t7:29\n",
      "82.0%\t41000\t-1621374.125\t309.7770156400772\t3.55\t7:17\n",
      "82.5%\t41250\t-1621926.375\t310.7178698531665\t3.55\t7:05\n",
      "83.0%\t41500\t-1620213.75\t310.3966549947907\t3.55\t6:53\n",
      "83.5%\t41750\t-1619205.75\t309.7720878777288\t3.55\t6:41\n",
      "84.0%\t42000\t-1620120.25\t309.2716249509857\t3.55\t6:28\n",
      "84.5%\t42250\t-1619675.5\t309.8786102876719\t3.55\t6:16\n",
      "85.0%\t42500\t-1619679.25\t310.1733331011765\t3.55\t6:04\n",
      "85.5%\t42750\t-1620062.5\t308.698724393604\t3.55\t5:52\n",
      "86.0%\t43000\t-1621642.125\t309.50809624584844\t3.55\t5:40\n",
      "86.5%\t43250\t-1619986.875\t308.75449646335045\t3.55\t5:28\n",
      "87.0%\t43500\t-1620765.25\t310.46385796671296\t3.55\t5:16\n",
      "87.5%\t43750\t-1620361.75\t310.17388839847024\t3.55\t5:03\n",
      "88.0%\t44000\t-1620608.75\t311.01083710771127\t3.55\t4:51\n",
      "88.5%\t44250\t-1620360.625\t307.89572299474275\t3.55\t4:39\n",
      "89.0%\t44500\t-1620474.75\t308.66621188988944\t3.55\t4:27\n",
      "89.5%\t44750\t-1620858.375\t309.17455759441117\t3.55\t4:15\n",
      "90.0%\t45000\t-1622133.0\t311.33319369001157\t3.55\t4:03\n",
      "90.5%\t45250\t-1621558.375\t309.43327845434146\t3.55\t3:50\n",
      "91.0%\t45500\t-1620555.5\t308.4880348127228\t3.55\t3:38\n",
      "91.5%\t45750\t-1620411.0\t309.75379944584444\t3.55\t3:26\n",
      "92.0%\t46000\t-1621474.5\t309.85736974606164\t3.55\t3:14\n",
      "92.5%\t46250\t-1620887.125\t311.40014761301364\t3.55\t3:02\n",
      "93.0%\t46500\t-1621443.0\t310.15100702647686\t3.55\t2:50\n",
      "93.5%\t46750\t-1620746.625\t307.9841824647753\t3.55\t2:38\n",
      "94.0%\t47000\t-1621903.75\t308.9188303370736\t3.55\t2:25\n",
      "94.5%\t47250\t-1621448.75\t308.0543376517124\t3.55\t2:13\n",
      "95.0%\t47500\t-1622188.625\t309.156588316612\t3.55\t2:01\n",
      "95.5%\t47750\t-1622824.5\t309.5855224547861\t3.55\t1:49\n",
      "96.0%\t48000\t-1621656.625\t308.44398394819035\t3.55\t1:37\n",
      "96.5%\t48250\t-1622110.25\t309.1137462781478\t3.55\t1:25\n",
      "97.0%\t48500\t-1622918.0\t309.3262449662399\t3.55\t1:12\n",
      "97.5%\t48750\t-1622272.125\t309.37480509125203\t3.55\t1:00\n",
      "98.0%\t49000\t-1621704.75\t311.3205830537406\t3.55\t0:48\n",
      "98.5%\t49250\t-1621822.25\t310.64001368940694\t3.55\t0:36\n",
      "99.0%\t49500\t-1620617.125\t310.004582124767\t3.55\t0:24\n",
      "99.5%\t49750\t-1620394.375\t310.03660957946636\t3.55\t0:12\n",
      "100.0%\t50000\t-1620580.5\t310.8418159288905\t3.55\t0:00\n"
     ]
    }
   ],
   "source": [
    "simulation.context.setVelocitiesToTemperature(309.65 * unit.kelvin)\n",
    "simulation.step(steps)  # perform the simulation"
   ]
  },
  {
   "cell_type": "code",
   "execution_count": 43,
   "metadata": {},
   "outputs": [
    {
     "name": "stdout",
     "output_type": "stream",
     "text": [
      "os.stat_result(st_mode=33204, st_ino=235276806, st_dev=2080, st_nlink=1, st_uid=1002, st_gid=1002, st_size=37959352, st_atime=1717131624, st_mtime=1717134056, st_ctime=1717134056)\n"
     ]
    }
   ],
   "source": [
    "# Check the trajectory exists and is not empty\n",
    "import os \n",
    "result = \"./trajectory_9.xtc\"\n",
    "file_info = os.stat(result)\n",
    "print(file_info)\n",
    "#result.stat().st_size > 0\n",
    "# NBVAL_CHECK_OUTPUT"
   ]
  },
  {
   "cell_type": "markdown",
   "metadata": {},
   "source": [
    "# Analysis MD Simulation results"
   ]
  },
  {
   "cell_type": "code",
   "execution_count": 44,
   "metadata": {},
   "outputs": [
    {
     "data": {
      "application/vnd.jupyter.widget-view+json": {
       "model_id": "a8aaf1df61c845c9ae1fbf74dec34780",
       "version_major": 2,
       "version_minor": 0
      },
      "text/plain": []
     },
     "metadata": {},
     "output_type": "display_data"
    }
   ],
   "source": [
    "from pathlib import Path\n",
    "\n",
    "import pandas as pd\n",
    "import numpy as np\n",
    "import matplotlib.pyplot as plt\n",
    "import nglview as nv\n",
    "import MDAnalysis as mda\n",
    "from MDAnalysis.analysis import rms, diffusionmap, align\n",
    "from MDAnalysis.analysis.distances import dist\n",
    "from MDAnalysis.analysis.hydrogenbonds.hbond_analysis import HydrogenBondAnalysis as HBA\n"
   ]
  },
  {
   "cell_type": "code",
   "execution_count": 45,
   "metadata": {},
   "outputs": [],
   "source": [
    "md_universe = mda.Universe(str(\"./topology_9.pdb\"), str(\"./trajectory_9.xtc\"))"
   ]
  },
  {
   "cell_type": "code",
   "execution_count": 46,
   "metadata": {},
   "outputs": [
    {
     "data": {
      "text/plain": [
       "<MDAnalysis.analysis.align.AlignTraj at 0x7fc27efe9d90>"
      ]
     },
     "execution_count": 46,
     "metadata": {},
     "output_type": "execute_result"
    }
   ],
   "source": [
    "# Set trajectory pointer to first frame as reference\n",
    "md_universe.trajectory[0]\n",
    "\n",
    "# in_memory=True is needed to actually modify the loaded trajectory\n",
    "# if the trajectory is too big for memory, one can write out the aligned trajectory and reload it into a new universe\n",
    "alignment = align.AlignTraj(\n",
    "    mobile=md_universe, reference=md_universe, select=\"protein\", in_memory=True\n",
    ")\n",
    "alignment.run()"
   ]
  },
  {
   "cell_type": "code",
   "execution_count": 47,
   "metadata": {},
   "outputs": [],
   "source": [
    "def rmsd_for_atomgroups(universe, selection1, selection2=None):\n",
    "    \"\"\"Calulate the RMSD for selected atom groups.\n",
    "\n",
    "    Parameters\n",
    "    ----------\n",
    "    universe: MDAnalysis.core.universe.Universe\n",
    "        MDAnalysis universe.\n",
    "    selection1: str\n",
    "        Selection string for main atom group, also used during alignment.\n",
    "    selection2: list of str, optional\n",
    "        Selection strings for additional atom groups.\n",
    "\n",
    "    Returns\n",
    "    -------\n",
    "    rmsd_df: pandas.core.frame.DataFrame\n",
    "        DataFrame containing RMSD of the selected atom groups over time.\n",
    "    \"\"\"\n",
    "\n",
    "    universe.trajectory\n",
    "    ref = universe\n",
    "    rmsd_analysis = rms.RMSD(universe, ref, select=selection1, groupselections=selection2)\n",
    "    rmsd_analysis.run()\n",
    "\n",
    "    columns = [selection1, *selection2] if selection2 else [selection1]\n",
    "    #print(rmsd_analysis.results)\n",
    "    #print(rmsd_analysis)\n",
    "    rmsd_df = pd.DataFrame(np.round(rmsd_analysis.results.rmsd[:, 2:], 2), columns=columns)\n",
    "    rmsd_df.index.name = \"time\"\n",
    "    return rmsd_df"
   ]
  },
  {
   "cell_type": "code",
   "execution_count": 48,
   "metadata": {},
   "outputs": [],
   "source": [
    "rmsd = rmsd_for_atomgroups(md_universe, \"backbone\", [\"protein\", \"resname UNK\"])\n",
    "#rmsd[:20]"
   ]
  },
  {
   "cell_type": "code",
   "execution_count": 49,
   "metadata": {},
   "outputs": [
    {
     "data": {
      "text/html": [
       "<div>\n",
       "<style scoped>\n",
       "    .dataframe tbody tr th:only-of-type {\n",
       "        vertical-align: middle;\n",
       "    }\n",
       "\n",
       "    .dataframe tbody tr th {\n",
       "        vertical-align: top;\n",
       "    }\n",
       "\n",
       "    .dataframe thead th {\n",
       "        text-align: right;\n",
       "    }\n",
       "</style>\n",
       "<table border=\"1\" class=\"dataframe\">\n",
       "  <thead>\n",
       "    <tr style=\"text-align: right;\">\n",
       "      <th></th>\n",
       "      <th>backbone</th>\n",
       "      <th>protein</th>\n",
       "      <th>rank_9_ligand</th>\n",
       "    </tr>\n",
       "    <tr>\n",
       "      <th>time</th>\n",
       "      <th></th>\n",
       "      <th></th>\n",
       "      <th></th>\n",
       "    </tr>\n",
       "  </thead>\n",
       "  <tbody>\n",
       "    <tr>\n",
       "      <th>0</th>\n",
       "      <td>0.00</td>\n",
       "      <td>0.00</td>\n",
       "      <td>0.00</td>\n",
       "    </tr>\n",
       "    <tr>\n",
       "      <th>1</th>\n",
       "      <td>0.73</td>\n",
       "      <td>0.92</td>\n",
       "      <td>0.81</td>\n",
       "    </tr>\n",
       "    <tr>\n",
       "      <th>2</th>\n",
       "      <td>0.83</td>\n",
       "      <td>1.00</td>\n",
       "      <td>1.19</td>\n",
       "    </tr>\n",
       "    <tr>\n",
       "      <th>3</th>\n",
       "      <td>0.90</td>\n",
       "      <td>1.11</td>\n",
       "      <td>1.70</td>\n",
       "    </tr>\n",
       "    <tr>\n",
       "      <th>4</th>\n",
       "      <td>1.00</td>\n",
       "      <td>1.24</td>\n",
       "      <td>1.88</td>\n",
       "    </tr>\n",
       "  </tbody>\n",
       "</table>\n",
       "</div>"
      ],
      "text/plain": [
       "      backbone  protein  rank_9_ligand\n",
       "time                                  \n",
       "0         0.00     0.00           0.00\n",
       "1         0.73     0.92           0.81\n",
       "2         0.83     1.00           1.19\n",
       "3         0.90     1.11           1.70\n",
       "4         1.00     1.24           1.88"
      ]
     },
     "execution_count": 49,
     "metadata": {},
     "output_type": "execute_result"
    }
   ],
   "source": [
    "rmsd.rename(columns={\"resname UNK\": \"rank_9_ligand\"}, inplace=True)\n",
    "rmsd.head()"
   ]
  },
  {
   "cell_type": "code",
   "execution_count": 50,
   "metadata": {},
   "outputs": [
    {
     "data": {
      "image/png": "[encoded data removed]",
      "text/plain": [
       "<Figure size 640x480 with 1 Axes>"
      ]
     },
     "metadata": {},
     "output_type": "display_data"
    }
   ],
   "source": [
    "rmsd.plot(title=\"RMSD of protein and ligand\")\n",
    "plt.ylabel(\"RMSD (Å)\");"
   ]
  },
  {
   "cell_type": "code",
   "execution_count": 52,
   "metadata": {},
   "outputs": [],
   "source": [
    "rmsd.to_csv(\"rank_9_rmsd_results.csv\")"
   ]
  },
  {
   "cell_type": "code",
   "execution_count": null,
   "metadata": {},
   "outputs": [],
   "source": []
  }
 ],
 "metadata": {
  "kernelspec": {
   "display_name": "Python 3",
   "language": "python",
   "name": "python3"
  },
  "language_info": {
   "codemirror_mode": {
    "name": "ipython",
    "version": 3
   },
   "file_extension": ".py",
   "mimetype": "text/x-python",
   "name": "python",
   "nbconvert_exporter": "python",
   "pygments_lexer": "ipython3",
   "version": "3.8.12"
  }
 },
 "nbformat": 4,
 "nbformat_minor": 2
}
