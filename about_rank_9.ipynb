{
 "cells": [
  {
   "cell_type": "markdown",
   "metadata": {},
   "source": [
    "# MD Simultaion "
   ]
  },
  {
   "cell_type": "code",
   "execution_count": 1,
   "metadata": {},
   "outputs": [],
   "source": [
    "import copy\n",
    "from pathlib import Path\n",
    "import sys\n",
    "\n",
    "import requests\n",
    "from IPython.display import display\n",
    "import numpy as np\n",
    "from rdkit import Chem\n",
    "from rdkit.Chem import Draw\n",
    "from rdkit.Chem import AllChem\n",
    "import mdtraj as md\n",
    "import pdbfixer\n",
    "import openmm as mm\n",
    "import openmm.app as app\n",
    "from openmm import unit\n",
    "from openff.toolkit.topology import Molecule, Topology\n",
    "from openmmforcefields.generators import GAFFTemplateGenerator"
   ]
  },
  {
   "cell_type": "code",
   "execution_count": 2,
   "metadata": {},
   "outputs": [],
   "source": [
    "#import warnings\n",
    "\n",
    "# 경고를 무시하도록 설정합니다.\n",
    "#warnings.filterwarnings(\"ignore\", message=\"PDB file is missing resid information.\")\n",
    "#warnings.filterwarnings(\"ignore\", message=\"Reload offsets from trajectory\")\n",
    "#warnings.filterwarnings(\"ignore\", message=\"duplicate atom\")\n",
    "\n",
    "# 나머지 코드 실행"
   ]
  },
  {
   "cell_type": "code",
   "execution_count": 3,
   "metadata": {},
   "outputs": [],
   "source": [
    "import warnings\n",
    "warnings.filterwarnings(\"ignore\")"
   ]
  },
  {
   "cell_type": "code",
   "execution_count": 4,
   "metadata": {},
   "outputs": [],
   "source": [
    "def prepare_protein(\n",
    "    pdb_file, ignore_missing_residues=True, ignore_terminal_missing_residues=True, ph=7.0\n",
    "):\n",
    "    \"\"\"\n",
    "    Use pdbfixer to prepare the protein from a PDB file. Hetero atoms such as ligands are\n",
    "    removed and non-standard residues replaced. Missing atoms to existing residues are added.\n",
    "    Missing residues are ignored by default, but can be included.\n",
    "\n",
    "    Parameters\n",
    "    ----------\n",
    "    pdb_file: pathlib.Path or str\n",
    "        PDB file containing the system to simulate.\n",
    "    ignore_missing_residues: bool, optional\n",
    "        If missing residues should be ignored or built.\n",
    "    ignore_terminal_missing_residues: bool, optional\n",
    "        If missing residues at the beginning and the end of a chain should be ignored or built.\n",
    "    ph: float, optional\n",
    "        pH value used to determine protonation state of residues\n",
    "\n",
    "    Returns\n",
    "    -------\n",
    "    fixer: pdbfixer.pdbfixer.PDBFixer\n",
    "        Prepared protein system.\n",
    "    \"\"\"\n",
    "    fixer = pdbfixer.PDBFixer(str(pdb_file))\n",
    "    fixer.removeHeterogens()  # co-crystallized ligands are unknown to PDBFixer\n",
    "    fixer.findMissingResidues()  # identify missing residues, needed for identification of missing atoms\n",
    "\n",
    "    # if missing terminal residues shall be ignored, remove them from the dictionary\n",
    "    if ignore_terminal_missing_residues:\n",
    "        chains = list(fixer.topology.chains())\n",
    "        keys = fixer.missingResidues.keys()\n",
    "        for key in list(keys):\n",
    "            chain = chains[key[0]]\n",
    "            if key[1] == 0 or key[1] == len(list(chain.residues())):\n",
    "                del fixer.missingResidues[key]\n",
    "\n",
    "    # if all missing residues shall be ignored ignored, clear the dictionary\n",
    "    if ignore_missing_residues:\n",
    "        fixer.missingResidues = {}\n",
    "\n",
    "    fixer.findNonstandardResidues()  # find non-standard residue\n",
    "    fixer.replaceNonstandardResidues()  # replace non-standard residues with standard one\n",
    "    fixer.findMissingAtoms()  # find missing heavy atoms\n",
    "    fixer.addMissingAtoms()  # add missing atoms and residues\n",
    "    fixer.addMissingHydrogens(ph)  # add missing hydrogens\n",
    "    return fixer"
   ]
  },
  {
   "cell_type": "code",
   "execution_count": 5,
   "metadata": {},
   "outputs": [],
   "source": [
    "prepare_protein = prepare_protein(\"./protein_rank_9_ligand_complex.pdb\", ignore_missing_residues=False)"
   ]
  },
  {
   "cell_type": "code",
   "execution_count": 6,
   "metadata": {},
   "outputs": [],
   "source": [
    "def prepare_ligand(pdb_file, resname, smiles, depict=True):\n",
    "    \"\"\"\n",
    "    Prepare a ligand from a PDB file via adding hydrogens and assigning bond orders. A depiction\n",
    "    of the ligand before and after preparation is rendered in 2D to allow an inspection of the\n",
    "    results. Huge thanks to @j-wags for the suggestion.\n",
    "\n",
    "    Parameters\n",
    "    ----------\n",
    "    pdb_file: pathlib.PosixPath\n",
    "       PDB file containing the ligand of interest.\n",
    "    resname: str\n",
    "        Three character residue name of the ligand.\n",
    "    smiles : str\n",
    "        SMILES string of the ligand informing about correct protonation and bond orders.\n",
    "    depict: bool, optional\n",
    "        show a 2D representation of the ligand\n",
    "\n",
    "    Returns\n",
    "    -------\n",
    "    prepared_ligand: rdkit.Chem.rdchem.Mol\n",
    "        Prepared ligand.\n",
    "    \"\"\"\n",
    "    # split molecule\n",
    "    rdkit_mol = Chem.MolFromPDBFile(str(pdb_file), proximityBonding=True, sanitize=False)\n",
    "    print(rdkit_mol)\n",
    "    rdkit_mol_split = Chem.rdmolops.SplitMolByPDBResidues(rdkit_mol)\n",
    "\n",
    "    # extract the ligand and remove any already present hydrogens\n",
    "    ligand = rdkit_mol_split[resname]\n",
    "    ligand = Chem.RemoveHs(ligand)\n",
    "\n",
    "    # assign bond orders from template\n",
    "    reference_mol = Chem.MolFromSmiles(smiles)\n",
    "    prepared_ligand = AllChem.AssignBondOrdersFromTemplate(reference_mol, ligand)\n",
    "    prepared_ligand.AddConformer(ligand.GetConformer(0))\n",
    "\n",
    "    # protonate ligand\n",
    "    prepared_ligand = Chem.rdmolops.AddHs(prepared_ligand, addCoords=True)\n",
    "    prepared_ligand = Chem.MolFromMolBlock(Chem.MolToMolBlock(prepared_ligand))\n",
    "\n",
    "    # 2D depiction\n",
    "    if depict:\n",
    "        ligand_2d = copy.deepcopy(ligand)\n",
    "        prepared_ligand_2d = copy.deepcopy(prepared_ligand)\n",
    "        AllChem.Compute2DCoords(ligand_2d)\n",
    "        AllChem.Compute2DCoords(prepared_ligand_2d)\n",
    "        display(\n",
    "            Draw.MolsToGridImage(\n",
    "                [ligand_2d, prepared_ligand_2d], molsPerRow=2, legends=[\"original\", \"prepared\"]\n",
    "            )\n",
    "        )\n",
    "\n",
    "    # return ligand\n",
    "    return prepared_ligand"
   ]
  },
  {
   "cell_type": "code",
   "execution_count": 7,
   "metadata": {},
   "outputs": [],
   "source": [
    "pdb_path = \"./protein_rank_9_ligand_complex.pdb\"\n",
    "ligand_name = \"UNL\"\n",
    "smiles = \"COc1ccc(S(=O)(=O)NCCCN2CCC(C)CC2)cc1C(=O)N1CCC(C)CC1\""
   ]
  },
  {
   "cell_type": "code",
   "execution_count": 8,
   "metadata": {},
   "outputs": [
    {
     "name": "stdout",
     "output_type": "stream",
     "text": [
      "<rdkit.Chem.rdchem.Mol object at 0x7eff98a37cf0>\n"
     ]
    },
    {
     "name": "stderr",
     "output_type": "stream",
     "text": [
      "[13:30:36] WARNING: More than one matching pattern found - picking one\n",
      "\n"
     ]
    },
    {
     "data": {
      "image/png": "[encoded data removed]",
      "text/plain": [
       "<IPython.core.display.Image object>"
      ]
     },
     "metadata": {},
     "output_type": "display_data"
    }
   ],
   "source": [
    "rdkit_ligand = prepare_ligand(pdb_path, ligand_name, smiles)"
   ]
  },
  {
   "cell_type": "code",
   "execution_count": 9,
   "metadata": {},
   "outputs": [],
   "source": [
    "def rdkit_to_openmm(rdkit_mol, name=\"LIG\"):\n",
    "    \"\"\"\n",
    "    Convert an RDKit molecule to an OpenMM molecule.\n",
    "    Inspired by @hannahbrucemcdonald and @glass-w.\n",
    "\n",
    "    Parameters\n",
    "    ----------\n",
    "    rdkit_mol: rdkit.Chem.rdchem.Mol\n",
    "        RDKit molecule to convert.\n",
    "    name: str\n",
    "        Molecule name.\n",
    "\n",
    "    Returns\n",
    "    -------\n",
    "    omm_molecule: openmm.app.Modeller\n",
    "        OpenMM modeller object holding the molecule of interest.\n",
    "    \"\"\"\n",
    "    # convert RDKit to OpenFF\n",
    "    off_mol = Molecule.from_rdkit(rdkit_mol)\n",
    "    #print(off_mol)\n",
    "\n",
    "    # add name for molecule\n",
    "    off_mol.name = name\n",
    "    #print(off_mol.name)\n",
    "\n",
    "    # add names for atoms\n",
    "    element_counter_dict = {}\n",
    "    for off_atom, rdkit_atom in zip(off_mol.atoms, rdkit_mol.GetAtoms()):\n",
    "        element = rdkit_atom.GetSymbol()\n",
    "        if element in element_counter_dict.keys():\n",
    "            element_counter_dict[element] += 1\n",
    "        else:\n",
    "            element_counter_dict[element] = 1\n",
    "        off_atom.name = element + str(element_counter_dict[element])\n",
    "    #print(element_counter_dict)\n",
    "\n",
    "    # convert from OpenFF to OpenMM\n",
    "    off_mol_topology = off_mol.to_topology()\n",
    "    mol_topology = off_mol_topology.to_openmm()\n",
    "    #print(mol_topology)\n",
    "    mol_positions = off_mol.conformers[0]\n",
    "    #print(mol_positions)\n",
    "\n",
    "    # convert units from Ångström to nanometers\n",
    "    # since OpenMM works in nm\n",
    "    mol_positions = mol_positions.to(\"nanometers\")\n",
    "    #print(mol_positions)\n",
    "\n",
    "    # combine topology and positions in modeller object\n",
    "    omm_mol = app.Modeller(mol_topology, mol_positions)\n",
    "\n",
    "    return omm_mol"
   ]
  },
  {
   "cell_type": "code",
   "execution_count": 10,
   "metadata": {},
   "outputs": [],
   "source": [
    "omm_ligand = rdkit_to_openmm(rdkit_ligand, ligand_name)"
   ]
  },
  {
   "cell_type": "code",
   "execution_count": 11,
   "metadata": {},
   "outputs": [],
   "source": [
    "def merge_protein_and_ligand(protein, ligand):\n",
    "    \"\"\"\n",
    "    Merge two OpenMM objects.\n",
    "\n",
    "    Parameters\n",
    "    ----------\n",
    "    protein: pdbfixer.pdbfixer.PDBFixer\n",
    "        Protein to merge.\n",
    "    ligand: openmm.app.Modeller\n",
    "        Ligand to merge.\n",
    "\n",
    "    Returns\n",
    "    -------\n",
    "    complex_topology: openmm.app.topology.Topology\n",
    "        The merged topology.\n",
    "    complex_positions: openmm.unit.quantity.Quantity\n",
    "        The merged positions.\n",
    "    \"\"\"\n",
    "    # combine topologies\n",
    "    md_protein_topology = md.Topology.from_openmm(protein.topology)  # using mdtraj for protein top\n",
    "    #print(md_protein_topology)\n",
    "    md_ligand_topology = md.Topology.from_openmm(ligand.topology)  # using mdtraj for ligand top\n",
    "    #print(md_ligand_topology)\n",
    "    md_complex_topology = md_protein_topology.join(md_ligand_topology)  # add them together\n",
    "    #print(md_complex_topology)\n",
    "    complex_topology = md_complex_topology.to_openmm()\n",
    "    #print(complex_topology)\n",
    "\n",
    "    # combine positions\n",
    "    total_atoms = len(protein.positions) + len(ligand.positions)\n",
    "\n",
    "    # create an array for storing all atom positions as tupels containing a value and a unit\n",
    "    # called OpenMM Quantities\n",
    "    complex_positions = unit.Quantity(np.zeros([total_atoms, 3]), unit=unit.nanometers)\n",
    "    complex_positions[: len(protein.positions)] = protein.positions  # add protein positions\n",
    "    complex_positions[len(protein.positions) :] = ligand.positions  # add ligand positions\n",
    "\n",
    "    return complex_topology, complex_positions"
   ]
  },
  {
   "cell_type": "code",
   "execution_count": 12,
   "metadata": {},
   "outputs": [],
   "source": [
    "complex_topology, complex_positions = merge_protein_and_ligand(prepare_protein, omm_ligand)"
   ]
  },
  {
   "cell_type": "code",
   "execution_count": 13,
   "metadata": {},
   "outputs": [
    {
     "name": "stdout",
     "output_type": "stream",
     "text": [
      "Complex topology has 4211 atoms.\n"
     ]
    }
   ],
   "source": [
    "print(\"Complex topology has\", complex_topology.getNumAtoms(), \"atoms.\")\n",
    "# NBVAL_CHECK_OUTPUT"
   ]
  },
  {
   "cell_type": "code",
   "execution_count": 14,
   "metadata": {},
   "outputs": [],
   "source": [
    "def generate_forcefield(\n",
    "    rdkit_mol=None, protein_ff=\"amber14-all.xml\", solvent_ff=\"amber14/tip3pfb.xml\"\n",
    "):\n",
    "    \"\"\"\n",
    "    Generate an OpenMM Forcefield object and register a small molecule.\n",
    "\n",
    "    Parameters\n",
    "    ----------\n",
    "    rdkit_mol: rdkit.Chem.rdchem.Mol\n",
    "        Small molecule to register in the force field.\n",
    "    protein_ff: string\n",
    "        Name of the force field.\n",
    "    solvent_ff: string\n",
    "        Name of the solvent force field.\n",
    "\n",
    "    Returns\n",
    "    -------\n",
    "    forcefield: openmm.app.Forcefield\n",
    "        Forcefield with registered small molecule.\n",
    "    \"\"\"\n",
    "    forcefield = app.ForceField(protein_ff, solvent_ff)\n",
    "\n",
    "    if rdkit_mol is not None:\n",
    "        gaff = GAFFTemplateGenerator(\n",
    "            molecules=Molecule.from_rdkit(rdkit_mol, allow_undefined_stereo=True)\n",
    "        )\n",
    "        forcefield.registerTemplateGenerator(gaff.generator)\n",
    "\n",
    "    return forcefield"
   ]
  },
  {
   "cell_type": "code",
   "execution_count": 15,
   "metadata": {},
   "outputs": [],
   "source": [
    "forcefield = generate_forcefield(rdkit_ligand)"
   ]
  },
  {
   "cell_type": "code",
   "execution_count": 16,
   "metadata": {},
   "outputs": [
    {
     "name": "stderr",
     "output_type": "stream",
     "text": [
      "/bin/bash: /home/media/data2/user_home/dbsejrgus226/miniconda3/envs/MD/lib/libtinfo.so.6: no version information available (required by /bin/bash)\n",
      "/bin/bash: /home/media/data2/user_home/dbsejrgus226/miniconda3/envs/MD/lib/libtinfo.so.6: no version information available (required by /bin/bash)\n",
      "/bin/bash: /home/media/data2/user_home/dbsejrgus226/miniconda3/envs/MD/lib/libtinfo.so.6: no version information available (required by /bin/bash)\n",
      "/bin/bash: /home/media/data2/user_home/dbsejrgus226/miniconda3/envs/MD/lib/libtinfo.so.6: no version information available (required by /bin/bash)\n",
      "/bin/bash: /home/media/data2/user_home/dbsejrgus226/miniconda3/envs/MD/lib/libtinfo.so.6: no version information available (required by /bin/bash)\n",
      "/bin/bash: /home/media/data2/user_home/dbsejrgus226/miniconda3/envs/MD/lib/libtinfo.so.6: no version information available (required by /bin/bash)\n"
     ]
    }
   ],
   "source": [
    "modeller = app.Modeller(complex_topology, complex_positions)\n",
    "modeller.addSolvent(forcefield, padding=1.0 * unit.nanometers, ionicStrength=0.15 * unit.molar)"
   ]
  },
  {
   "cell_type": "code",
   "execution_count": 17,
   "metadata": {},
   "outputs": [],
   "source": [
    "system = forcefield.createSystem(modeller.topology, nonbondedMethod=app.PME)\n",
    "integrator = mm.LangevinIntegrator(\n",
    "    300 * unit.kelvin, 1.0 / unit.picoseconds, 2.0 * unit.femtoseconds\n",
    ")\n",
    "simulation = app.Simulation(modeller.topology, system, integrator)\n",
    "simulation.context.setPositions(modeller.positions)"
   ]
  },
  {
   "cell_type": "code",
   "execution_count": 18,
   "metadata": {},
   "outputs": [],
   "source": [
    "simulation.minimizeEnergy()\n",
    "with open(\"topology_9.pdb\", \"w\") as pdb_file:\n",
    "    app.PDBFile.writeFile(\n",
    "        simulation.topology,\n",
    "        simulation.context.getState(getPositions=True, enforcePeriodicBox=True).getPositions(),\n",
    "        file=pdb_file,\n",
    "        keepIds=True,\n",
    "    )"
   ]
  },
  {
   "cell_type": "code",
   "execution_count": 19,
   "metadata": {},
   "outputs": [],
   "source": [
    "# output settings\n",
    "\n",
    "steps = 50000  # corresponds to 100 fs\n",
    "write_interval = 500  # write every 10 fs\n",
    "log_interval = 250  # log progress to stdout every 5 fs\n",
    "simulation.reporters.append(\n",
    "    md.reporters.XTCReporter(file=str(\"trajectory_9.xtc\"), reportInterval=write_interval)\n",
    ")\n",
    "simulation.reporters.append(\n",
    "    app.StateDataReporter(\n",
    "        sys.stdout,\n",
    "        log_interval,\n",
    "        step=True,\n",
    "        potentialEnergy=True,\n",
    "        temperature=True,\n",
    "        progress=True,\n",
    "        remainingTime=True,\n",
    "        speed=True,\n",
    "        totalSteps=steps,\n",
    "        separator=\"\\t\",\n",
    "    )\n",
    ")"
   ]
  },
  {
   "cell_type": "code",
   "execution_count": 20,
   "metadata": {},
   "outputs": [
    {
     "name": "stdout",
     "output_type": "stream",
     "text": [
      "#\"Progress (%)\"\t\"Step\"\t\"Potential Energy (kJ/mole)\"\t\"Temperature (K)\"\t\"Speed (ns/day)\"\t\"Time Remaining\"\n",
      "0.5%\t250\t-863960.7861397648\t204.917566880731\t0\t--\n",
      "1.0%\t500\t-847214.8349678898\t241.67569114249144\t165\t0:51\n",
      "1.5%\t750\t-836422.3642647648\t263.1646718699191\t166\t0:51\n",
      "2.0%\t1000\t-828793.6513741398\t275.20777041603293\t165\t0:51\n",
      "2.5%\t1250\t-823390.7744210148\t282.77123173129144\t166\t0:50\n",
      "3.0%\t1500\t-820202.8544991398\t290.3040611575094\t167\t0:50\n",
      "3.5%\t1750\t-818436.9482491398\t294.3072204970896\t168\t0:49\n",
      "4.0%\t2000\t-815543.4189522648\t295.19705146450315\t168\t0:49\n",
      "4.5%\t2250\t-814822.1435616398\t296.4806101951818\t169\t0:48\n",
      "5.0%\t2500\t-813769.7392647648\t295.87254627122144\t169\t0:48\n",
      "5.5%\t2750\t-812313.9209053898\t296.25483093129185\t169\t0:48\n",
      "6.0%\t3000\t-812596.0087960148\t297.70026188714064\t169\t0:48\n",
      "6.5%\t3250\t-811954.1279366398\t299.51109896887954\t169\t0:47\n",
      "7.0%\t3500\t-811372.4423897648\t299.17744137187015\t169\t0:47\n",
      "7.5%\t3750\t-812308.3369210148\t300.6976525886827\t169\t0:47\n",
      "8.0%\t4000\t-811434.5810616398\t301.4816059327175\t169\t0:46\n",
      "8.5%\t4250\t-810952.2978585148\t299.86325032057323\t169\t0:46\n",
      "9.0%\t4500\t-810286.6044991398\t299.30969619403106\t169\t0:46\n",
      "9.5%\t4750\t-810684.4658272648\t299.9586425523097\t170\t0:46\n",
      "10.0%\t5000\t-811298.1630928898\t300.2350734299366\t170\t0:45\n",
      "10.5%\t5250\t-810471.5966866398\t298.65064513167465\t170\t0:45\n",
      "11.0%\t5500\t-811839.0361397648\t301.30168940124855\t170\t0:45\n",
      "11.5%\t5750\t-810488.1064522648\t298.21000528260913\t170\t0:45\n",
      "12.0%\t6000\t-811021.5459053898\t299.61274315101826\t170\t0:44\n",
      "12.5%\t6250\t-810560.2412178898\t298.3901570995633\t170\t0:44\n",
      "13.0%\t6500\t-809929.3486397648\t297.39141857784665\t170\t0:44\n",
      "13.5%\t6750\t-811878.0869210148\t299.1902712004421\t170\t0:44\n",
      "14.0%\t7000\t-811396.3447335148\t300.19006411626555\t170\t0:43\n",
      "14.5%\t7250\t-810055.3662178898\t298.15612567823274\t170\t0:43\n",
      "15.0%\t7500\t-809234.7607491398\t298.83286292549667\t169\t0:43\n",
      "15.5%\t7750\t-811131.5947335148\t301.39165368538426\t169\t0:43\n",
      "16.0%\t8000\t-810567.5966866398\t300.7253939352843\t169\t0:42\n",
      "16.5%\t8250\t-810310.6533272648\t299.4311304652221\t169\t0:42\n",
      "17.0%\t8500\t-809656.7959053898\t299.26102992699583\t168\t0:42\n",
      "17.5%\t8750\t-810067.4462960148\t299.0119408681581\t168\t0:42\n",
      "18.0%\t9000\t-810216.3505928898\t299.00790341842895\t167\t0:42\n",
      "18.5%\t9250\t-811155.7959053898\t301.0918679806065\t167\t0:42\n",
      "19.0%\t9500\t-810069.3564522648\t299.10620507721006\t167\t0:41\n",
      "19.5%\t9750\t-809730.1943428898\t299.6336711417632\t167\t0:41\n",
      "20.0%\t10000\t-808157.8662178898\t298.1425758088016\t166\t0:41\n",
      "20.5%\t10250\t-809007.9599678898\t297.7737493417001\t166\t0:41\n",
      "21.0%\t10500\t-810221.2763741398\t299.6020965656955\t166\t0:41\n",
      "21.5%\t10750\t-809349.1806710148\t299.98301672169026\t166\t0:40\n",
      "22.0%\t11000\t-810619.1943428898\t301.7150359170923\t165\t0:40\n",
      "22.5%\t11250\t-810370.0244210148\t300.09391968219103\t165\t0:40\n",
      "23.0%\t11500\t-811394.5166085148\t299.91777610145135\t165\t0:40\n",
      "23.5%\t11750\t-811708.3310616398\t300.95872649153404\t165\t0:40\n",
      "24.0%\t12000\t-810749.2978585148\t299.5092520351765\t164\t0:39\n",
      "24.5%\t12250\t-811608.6884835148\t299.5563096581316\t164\t0:39\n",
      "25.0%\t12500\t-812812.9072335148\t300.4131067209891\t164\t0:39\n",
      "25.5%\t12750\t-812248.9716866398\t298.9906899343875\t164\t0:39\n",
      "26.0%\t13000\t-812619.9658272648\t299.3979293772386\t164\t0:39\n",
      "26.5%\t13250\t-811450.6318428898\t301.8207033039174\t164\t0:38\n",
      "27.0%\t13500\t-810472.6123116398\t302.6306449098461\t163\t0:38\n",
      "27.5%\t13750\t-809964.4033272648\t300.190603246632\t163\t0:38\n",
      "28.0%\t14000\t-810250.3916085148\t300.6314002597728\t163\t0:38\n",
      "28.5%\t14250\t-810525.1943428898\t299.16558305608675\t163\t0:37\n",
      "29.0%\t14500\t-810275.1884835148\t298.6283570185165\t163\t0:37\n",
      "29.5%\t14750\t-810578.1201241398\t298.9482162041343\t163\t0:37\n",
      "30.0%\t15000\t-810550.3291085148\t298.97957120190415\t163\t0:37\n",
      "30.5%\t15250\t-810498.6806710148\t298.430217535716\t163\t0:36\n",
      "31.0%\t15500\t-812109.8291085148\t300.90164379499583\t163\t0:36\n",
      "31.5%\t15750\t-811442.7197335148\t299.0639536863322\t163\t0:36\n",
      "32.0%\t16000\t-810749.5048897648\t296.4669159197046\t163\t0:36\n",
      "32.5%\t16250\t-810839.7685616398\t298.34876694334974\t163\t0:35\n",
      "33.0%\t16500\t-810896.3896553898\t297.95252315447163\t163\t0:35\n",
      "33.5%\t16750\t-811202.5752022648\t300.2225344486766\t162\t0:35\n",
      "34.0%\t17000\t-810403.2353585148\t299.54231553553655\t162\t0:35\n",
      "34.5%\t17250\t-810972.9502022648\t301.1374658131295\t162\t0:34\n",
      "35.0%\t17500\t-809717.2334053898\t299.5334790482012\t162\t0:34\n",
      "35.5%\t17750\t-809781.2666085148\t300.0293785751978\t162\t0:34\n",
      "36.0%\t18000\t-809871.9502022648\t300.89239409595075\t162\t0:34\n",
      "36.5%\t18250\t-808901.5712960148\t301.1362417210577\t162\t0:33\n",
      "37.0%\t18500\t-809261.4541085148\t301.583156441729\t162\t0:33\n",
      "37.5%\t18750\t-808251.3974678898\t300.4529962886376\t161\t0:33\n",
      "38.0%\t19000\t-809027.6357491398\t301.9915864921031\t161\t0:33\n",
      "38.5%\t19250\t-809511.4834053898\t302.32199745686484\t161\t0:33\n",
      "39.0%\t19500\t-808752.8447335148\t300.63146449204237\t161\t0:32\n",
      "39.5%\t19750\t-809133.0849678898\t299.6892533094045\t160\t0:32\n",
      "40.0%\t20000\t-810365.6279366398\t299.775872506368\t160\t0:32\n",
      "40.5%\t20250\t-811355.2314522648\t299.9126633199517\t160\t0:32\n",
      "41.0%\t20500\t-810854.5693428898\t300.01348237673045\t160\t0:31\n",
      "41.5%\t20750\t-810362.0224678898\t299.2999096373656\t160\t0:31\n",
      "42.0%\t21000\t-809677.2158272648\t298.88831122343703\t159\t0:31\n",
      "42.5%\t21250\t-810149.7080147648\t300.9695562920797\t159\t0:31\n",
      "43.0%\t21500\t-809461.3252022648\t300.0276582487604\t159\t0:30\n",
      "43.5%\t21750\t-809763.6162178898\t300.55469351895505\t159\t0:30\n",
      "44.0%\t22000\t-809017.8369210148\t301.9997295491549\t159\t0:30\n",
      "44.5%\t22250\t-809850.5712960148\t300.56850194383384\t159\t0:30\n",
      "45.0%\t22500\t-808973.2705147648\t297.8047465064642\t158\t0:30\n",
      "45.5%\t22750\t-810116.9541085148\t299.3771240510495\t158\t0:29\n",
      "46.0%\t23000\t-808107.2568428898\t298.29888241462515\t158\t0:29\n",
      "46.5%\t23250\t-810059.7587960148\t298.476695677358\t158\t0:29\n",
      "47.0%\t23500\t-809915.6455147648\t298.71040325438906\t158\t0:29\n",
      "47.5%\t23750\t-809766.4658272648\t298.6055000352585\t157\t0:28\n",
      "48.0%\t24000\t-811155.6103585148\t301.32914874852133\t157\t0:28\n",
      "48.5%\t24250\t-810726.2802803898\t300.8447723129667\t157\t0:28\n",
      "49.0%\t24500\t-811333.1220772648\t301.66523210291\t157\t0:28\n",
      "49.5%\t24750\t-810366.5244210148\t300.10442578480144\t157\t0:27\n",
      "50.0%\t25000\t-811247.1982491398\t301.81333047647115\t157\t0:27\n",
      "50.5%\t25250\t-809775.7900460148\t299.6667589196081\t157\t0:27\n",
      "51.0%\t25500\t-809962.5205147648\t301.2243987929416\t156\t0:27\n",
      "51.5%\t25750\t-808388.7880928898\t300.26330339103544\t156\t0:26\n",
      "52.0%\t26000\t-808204.5459053898\t302.0576231539921\t156\t0:26\n",
      "52.5%\t26250\t-809499.1865303898\t303.3064731586318\t156\t0:26\n",
      "53.0%\t26500\t-808985.5244210148\t302.2223169072829\t156\t0:26\n",
      "53.5%\t26750\t-810186.6162178898\t303.5298564192454\t156\t0:25\n",
      "54.0%\t27000\t-810049.6982491398\t299.7731090563682\t156\t0:25\n",
      "54.5%\t27250\t-810746.3212960148\t298.81074697807736\t155\t0:25\n",
      "55.0%\t27500\t-812088.0498116398\t300.11818273372575\t155\t0:25\n",
      "55.5%\t27750\t-811127.3173897648\t298.36410742996566\t155\t0:24\n",
      "56.0%\t28000\t-810303.3154366398\t298.60427037209473\t155\t0:24\n",
      "56.5%\t28250\t-811005.7138741398\t299.1538475198775\t155\t0:24\n",
      "57.0%\t28500\t-810965.0302803898\t301.13376173222935\t155\t0:24\n",
      "57.5%\t28750\t-811417.9443428898\t301.1862834781021\t155\t0:23\n",
      "58.0%\t29000\t-811787.3154366398\t299.0462400696851\t154\t0:23\n",
      "58.5%\t29250\t-810923.2119210148\t299.197031559982\t154\t0:23\n",
      "59.0%\t29500\t-811437.8701241398\t302.31477958538557\t154\t0:23\n",
      "59.5%\t29750\t-810729.0966866398\t298.7298186349471\t154\t0:22\n",
      "60.0%\t30000\t-810912.0595772648\t300.67865004691015\t153\t0:22\n",
      "60.5%\t30250\t-811010.1669991398\t302.3153210308973\t153\t0:22\n",
      "61.0%\t30500\t-811751.1982491398\t300.70702553790113\t153\t0:22\n",
      "61.5%\t30750\t-811248.3037178898\t300.13755571393233\t153\t0:21\n",
      "62.0%\t31000\t-810453.0908272648\t299.4773340408215\t153\t0:21\n",
      "62.5%\t31250\t-811006.8701241398\t300.64646572468115\t153\t0:21\n",
      "63.0%\t31500\t-810192.7060616398\t299.5734850916049\t152\t0:20\n",
      "63.5%\t31750\t-809773.0986397648\t297.90027353764543\t152\t0:20\n",
      "64.0%\t32000\t-810238.1259835148\t300.22114324254335\t152\t0:20\n",
      "64.5%\t32250\t-809564.0537178898\t300.00446314264855\t152\t0:20\n",
      "65.0%\t32500\t-810291.0459053898\t299.76880828166634\t152\t0:19\n",
      "65.5%\t32750\t-810096.4697335148\t298.39795389673066\t151\t0:19\n",
      "66.0%\t33000\t-812563.4326241398\t301.65947910618553\t151\t0:19\n",
      "66.5%\t33250\t-811558.2841866398\t297.93470932051457\t151\t0:19\n",
      "67.0%\t33500\t-812104.9931710148\t300.66981723310346\t151\t0:18\n",
      "67.5%\t33750\t-810428.0771553898\t298.1351017265332\t151\t0:18\n",
      "68.0%\t34000\t-811636.0244210148\t299.98821349870076\t151\t0:18\n",
      "68.5%\t34250\t-812162.1982491398\t302.59587648712426\t151\t0:18\n",
      "69.0%\t34500\t-811876.2939522648\t301.6645081589313\t150\t0:17\n",
      "69.5%\t34750\t-810997.9345772648\t301.63916236427536\t150\t0:17\n",
      "70.0%\t35000\t-810571.2646553898\t303.5144846079448\t150\t0:17\n",
      "70.5%\t35250\t-810586.6630928898\t301.9553298641105\t150\t0:16\n",
      "71.0%\t35500\t-810100.5361397648\t300.99639888648323\t150\t0:16\n",
      "71.5%\t35750\t-811298.6005928898\t298.98699544908675\t150\t0:16\n",
      "72.0%\t36000\t-811358.9677803898\t300.59850858360153\t150\t0:16\n",
      "72.5%\t36250\t-811885.5185616398\t302.7263707947818\t150\t0:15\n",
      "73.0%\t36500\t-811039.1220772648\t299.95339028176625\t149\t0:15\n",
      "73.5%\t36750\t-810759.9892647648\t300.9858782094505\t149\t0:15\n",
      "74.0%\t37000\t-810734.3740303898\t300.77667501016236\t149\t0:15\n",
      "74.5%\t37250\t-810877.2275460148\t301.30405578279255\t149\t0:14\n",
      "75.0%\t37500\t-811050.0673897648\t301.56896713831105\t149\t0:14\n",
      "75.5%\t37750\t-810094.7607491398\t299.6529763985284\t149\t0:14\n",
      "76.0%\t38000\t-812003.6572335148\t302.55928016041105\t149\t0:13\n",
      "76.5%\t38250\t-811985.0361397648\t301.08901865288215\t149\t0:13\n",
      "77.0%\t38500\t-810710.7880928898\t299.5644514869803\t149\t0:13\n",
      "77.5%\t38750\t-809855.5068428898\t299.2193222522404\t148\t0:13\n",
      "78.0%\t39000\t-810755.6240303898\t300.1733427738768\t148\t0:12\n",
      "78.5%\t39250\t-811524.5517647648\t301.7615477967158\t148\t0:12\n",
      "79.0%\t39500\t-809951.4267647648\t299.83820702230753\t148\t0:12\n",
      "79.5%\t39750\t-810552.7236397648\t301.7797162735087\t148\t0:11\n",
      "80.0%\t40000\t-809618.4970772648\t301.05363527358685\t148\t0:11\n",
      "80.5%\t40250\t-809837.2880928898\t302.69406917277473\t148\t0:11\n",
      "81.0%\t40500\t-809456.8310616398\t301.7485988729699\t148\t0:11\n",
      "81.5%\t40750\t-809075.9931710148\t300.7876533454866\t148\t0:10\n",
      "82.0%\t41000\t-809733.4814522648\t302.3857551093389\t148\t0:10\n",
      "82.5%\t41250\t-809289.6318428898\t300.7632366962898\t147\t0:10\n",
      "83.0%\t41500\t-809145.8427803898\t299.95032098974826\t147\t0:09\n",
      "83.5%\t41750\t-809899.2529366398\t300.1142628783417\t147\t0:09\n",
      "84.0%\t42000\t-809619.6494210148\t301.89519890060114\t147\t0:09\n",
      "84.5%\t42250\t-808740.6669991398\t303.0989044312602\t147\t0:09\n",
      "85.0%\t42500\t-807745.1064522648\t300.98534994251025\t147\t0:08\n",
      "85.5%\t42750\t-808772.3584053898\t300.999045556322\t147\t0:08\n",
      "86.0%\t43000\t-808811.0302803898\t301.2556444796779\t147\t0:08\n",
      "86.5%\t43250\t-809525.4502022648\t299.4561838264773\t147\t0:07\n",
      "87.0%\t43500\t-809639.5517647648\t301.0295021381326\t146\t0:07\n",
      "87.5%\t43750\t-809323.9560616398\t299.3525937159262\t146\t0:07\n",
      "88.0%\t44000\t-809506.0478585148\t300.16143020961\t146\t0:07\n",
      "88.5%\t44250\t-810094.9502022648\t302.1938014345326\t146\t0:06\n",
      "89.0%\t44500\t-810133.5224678898\t302.68287266873364\t146\t0:06\n",
      "89.5%\t44750\t-808964.4228585148\t300.43261197751957\t146\t0:06\n",
      "90.0%\t45000\t-809813.0087960148\t300.1305899915906\t146\t0:05\n",
      "90.5%\t45250\t-809154.9873116398\t300.7843490222145\t145\t0:05\n",
      "91.0%\t45500\t-810180.0205147648\t302.6919441209129\t145\t0:05\n",
      "91.5%\t45750\t-810094.9443428898\t300.8470221477744\t145\t0:05\n",
      "92.0%\t46000\t-810046.1865303898\t300.65299587754276\t145\t0:04\n",
      "92.5%\t46250\t-811272.0341866398\t301.17208550551857\t145\t0:04\n",
      "93.0%\t46500\t-811144.6552803898\t298.6445684600156\t145\t0:04\n",
      "93.5%\t46750\t-810503.8017647648\t299.805757691162\t145\t0:03\n",
      "94.0%\t47000\t-811377.8427803898\t300.1042578657087\t145\t0:03\n",
      "94.5%\t47250\t-810017.3916085148\t298.207337824922\t145\t0:03\n",
      "95.0%\t47500\t-811339.5439522648\t299.058255908963\t144\t0:02\n",
      "95.5%\t47750\t-810815.3408272648\t299.96308048187717\t144\t0:02\n",
      "96.0%\t48000\t-811286.6826241398\t301.15472043254346\t144\t0:02\n",
      "96.5%\t48250\t-810304.4130928898\t300.27034645920355\t144\t0:02\n",
      "97.0%\t48500\t-811093.8525460148\t301.8876761320178\t144\t0:01\n",
      "97.5%\t48750\t-809373.4892647648\t302.82157644651596\t144\t0:01\n",
      "98.0%\t49000\t-809124.5556710148\t301.7859471929957\t144\t0:01\n",
      "98.5%\t49250\t-808957.1943428898\t302.0164806451381\t144\t0:00\n",
      "99.0%\t49500\t-809294.4326241398\t300.19728293279314\t144\t0:00\n",
      "99.5%\t49750\t-810261.7158272648\t300.588882016704\t144\t0:00\n",
      "100.0%\t50000\t-810463.8877022648\t297.84348844689055\t143\t0:00\n"
     ]
    }
   ],
   "source": [
    "simulation.context.setVelocitiesToTemperature(300 * unit.kelvin)\n",
    "simulation.step(steps)  # perform the simulation"
   ]
  },
  {
   "cell_type": "code",
   "execution_count": 21,
   "metadata": {},
   "outputs": [
    {
     "name": "stdout",
     "output_type": "stream",
     "text": [
      "os.stat_result(st_mode=33204, st_ino=235276839, st_dev=2080, st_nlink=1, st_uid=1002, st_gid=1002, st_size=19048580, st_atime=1716179575, st_mtime=1716179636, st_ctime=1716179636)\n"
     ]
    }
   ],
   "source": [
    "# Check the trajectory exists and is not empty\n",
    "import os \n",
    "result = \"./trajectory_9.xtc\"\n",
    "file_info = os.stat(result)\n",
    "print(file_info)\n",
    "#result.stat().st_size > 0\n",
    "# NBVAL_CHECK_OUTPUT"
   ]
  },
  {
   "cell_type": "markdown",
   "metadata": {},
   "source": [
    "# Analysis MD Simulation results"
   ]
  },
  {
   "cell_type": "code",
   "execution_count": 22,
   "metadata": {},
   "outputs": [
    {
     "data": {
      "application/vnd.jupyter.widget-view+json": {
       "model_id": "42a4b5ec5bef47caab0ead5253006041",
       "version_major": 2,
       "version_minor": 0
      },
      "text/plain": []
     },
     "metadata": {},
     "output_type": "display_data"
    }
   ],
   "source": [
    "from pathlib import Path\n",
    "\n",
    "import pandas as pd\n",
    "import numpy as np\n",
    "import matplotlib.pyplot as plt\n",
    "import nglview as nv\n",
    "import MDAnalysis as mda\n",
    "from MDAnalysis.analysis import rms, diffusionmap, align\n",
    "from MDAnalysis.analysis.distances import dist\n",
    "from MDAnalysis.analysis.hydrogenbonds.hbond_analysis import HydrogenBondAnalysis as HBA\n"
   ]
  },
  {
   "cell_type": "code",
   "execution_count": 23,
   "metadata": {},
   "outputs": [],
   "source": [
    "md_universe = mda.Universe(str(\"./topology_9.pdb\"), str(\"./trajectory_9.xtc\"))"
   ]
  },
  {
   "cell_type": "code",
   "execution_count": 24,
   "metadata": {},
   "outputs": [
    {
     "data": {
      "text/plain": [
       "<MDAnalysis.analysis.align.AlignTraj at 0x7eff987e3f40>"
      ]
     },
     "execution_count": 24,
     "metadata": {},
     "output_type": "execute_result"
    }
   ],
   "source": [
    "# Set trajectory pointer to first frame as reference\n",
    "md_universe.trajectory[0]\n",
    "\n",
    "# in_memory=True is needed to actually modify the loaded trajectory\n",
    "# if the trajectory is too big for memory, one can write out the aligned trajectory and reload it into a new universe\n",
    "alignment = align.AlignTraj(\n",
    "    mobile=md_universe, reference=md_universe, select=\"protein\", in_memory=True\n",
    ")\n",
    "alignment.run()"
   ]
  },
  {
   "cell_type": "code",
   "execution_count": 25,
   "metadata": {},
   "outputs": [],
   "source": [
    "def rmsd_for_atomgroups(universe, selection1, selection2=None):\n",
    "    \"\"\"Calulate the RMSD for selected atom groups.\n",
    "\n",
    "    Parameters\n",
    "    ----------\n",
    "    universe: MDAnalysis.core.universe.Universe\n",
    "        MDAnalysis universe.\n",
    "    selection1: str\n",
    "        Selection string for main atom group, also used during alignment.\n",
    "    selection2: list of str, optional\n",
    "        Selection strings for additional atom groups.\n",
    "\n",
    "    Returns\n",
    "    -------\n",
    "    rmsd_df: pandas.core.frame.DataFrame\n",
    "        DataFrame containing RMSD of the selected atom groups over time.\n",
    "    \"\"\"\n",
    "\n",
    "    universe.trajectory\n",
    "    ref = universe\n",
    "    rmsd_analysis = rms.RMSD(universe, ref, select=selection1, groupselections=selection2)\n",
    "    rmsd_analysis.run()\n",
    "\n",
    "    columns = [selection1, *selection2] if selection2 else [selection1]\n",
    "    #print(rmsd_analysis.results)\n",
    "    #print(rmsd_analysis)\n",
    "    rmsd_df = pd.DataFrame(np.round(rmsd_analysis.results.rmsd[:, 2:], 2), columns=columns)\n",
    "    rmsd_df.index.name = \"time\"\n",
    "    return rmsd_df"
   ]
  },
  {
   "cell_type": "code",
   "execution_count": 26,
   "metadata": {},
   "outputs": [],
   "source": [
    "rmsd = rmsd_for_atomgroups(md_universe, \"backbone\", [\"protein\", \"resname UNK\"])\n",
    "#rmsd[:20]"
   ]
  },
  {
   "cell_type": "code",
   "execution_count": 27,
   "metadata": {},
   "outputs": [
    {
     "data": {
      "text/html": [
       "<div>\n",
       "<style scoped>\n",
       "    .dataframe tbody tr th:only-of-type {\n",
       "        vertical-align: middle;\n",
       "    }\n",
       "\n",
       "    .dataframe tbody tr th {\n",
       "        vertical-align: top;\n",
       "    }\n",
       "\n",
       "    .dataframe thead th {\n",
       "        text-align: right;\n",
       "    }\n",
       "</style>\n",
       "<table border=\"1\" class=\"dataframe\">\n",
       "  <thead>\n",
       "    <tr style=\"text-align: right;\">\n",
       "      <th></th>\n",
       "      <th>backbone</th>\n",
       "      <th>protein</th>\n",
       "      <th>rank_9_ligand</th>\n",
       "    </tr>\n",
       "    <tr>\n",
       "      <th>time</th>\n",
       "      <th></th>\n",
       "      <th></th>\n",
       "      <th></th>\n",
       "    </tr>\n",
       "  </thead>\n",
       "  <tbody>\n",
       "    <tr>\n",
       "      <th>0</th>\n",
       "      <td>0.00</td>\n",
       "      <td>0.00</td>\n",
       "      <td>0.00</td>\n",
       "    </tr>\n",
       "    <tr>\n",
       "      <th>1</th>\n",
       "      <td>0.63</td>\n",
       "      <td>0.88</td>\n",
       "      <td>1.27</td>\n",
       "    </tr>\n",
       "    <tr>\n",
       "      <th>2</th>\n",
       "      <td>0.72</td>\n",
       "      <td>0.99</td>\n",
       "      <td>1.94</td>\n",
       "    </tr>\n",
       "    <tr>\n",
       "      <th>3</th>\n",
       "      <td>0.81</td>\n",
       "      <td>1.03</td>\n",
       "      <td>1.89</td>\n",
       "    </tr>\n",
       "    <tr>\n",
       "      <th>4</th>\n",
       "      <td>0.87</td>\n",
       "      <td>1.11</td>\n",
       "      <td>1.83</td>\n",
       "    </tr>\n",
       "  </tbody>\n",
       "</table>\n",
       "</div>"
      ],
      "text/plain": [
       "      backbone  protein  rank_9_ligand\n",
       "time                                  \n",
       "0         0.00     0.00           0.00\n",
       "1         0.63     0.88           1.27\n",
       "2         0.72     0.99           1.94\n",
       "3         0.81     1.03           1.89\n",
       "4         0.87     1.11           1.83"
      ]
     },
     "execution_count": 27,
     "metadata": {},
     "output_type": "execute_result"
    }
   ],
   "source": [
    "rmsd.rename(columns={\"resname UNK\": \"rank_9_ligand\"}, inplace=True)\n",
    "rmsd.head()"
   ]
  },
  {
   "cell_type": "code",
   "execution_count": 28,
   "metadata": {},
   "outputs": [
    {
     "data": {
      "image/png": "[encoded data removed]",
      "text/plain": [
       "<Figure size 640x480 with 1 Axes>"
      ]
     },
     "metadata": {},
     "output_type": "display_data"
    }
   ],
   "source": [
    "rmsd.plot(title=\"RMSD of protein and ligand\")\n",
    "plt.ylabel(\"RMSD (Å)\");"
   ]
  },
  {
   "cell_type": "code",
   "execution_count": 29,
   "metadata": {},
   "outputs": [],
   "source": [
    "#rmsd.to_csv(\"rank_9_rmsd_results.csv\")"
   ]
  },
  {
   "cell_type": "code",
   "execution_count": null,
   "metadata": {},
   "outputs": [],
   "source": []
  }
 ],
 "metadata": {
  "kernelspec": {
   "display_name": "Python 3",
   "language": "python",
   "name": "python3"
  },
  "language_info": {
   "codemirror_mode": {
    "name": "ipython",
    "version": 3
   },
   "file_extension": ".py",
   "mimetype": "text/x-python",
   "name": "python",
   "nbconvert_exporter": "python",
   "pygments_lexer": "ipython3",
   "version": "3.8.19"
  }
 },
 "nbformat": 4,
 "nbformat_minor": 2
}
