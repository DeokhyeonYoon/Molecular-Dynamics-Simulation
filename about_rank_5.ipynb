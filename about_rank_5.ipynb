{
 "cells": [
  {
   "cell_type": "markdown",
   "metadata": {},
   "source": [
    "# MD Simultaion "
   ]
  },
  {
   "cell_type": "code",
   "execution_count": 1,
   "metadata": {},
   "outputs": [],
   "source": [
    "import copy\n",
    "from pathlib import Path\n",
    "import sys\n",
    "\n",
    "import requests\n",
    "from IPython.display import display\n",
    "import numpy as np\n",
    "from rdkit import Chem\n",
    "from rdkit.Chem import Draw\n",
    "from rdkit.Chem import AllChem\n",
    "import mdtraj as md\n",
    "import pdbfixer\n",
    "import openmm as mm\n",
    "import openmm.app as app\n",
    "from openmm import unit\n",
    "from openff.toolkit.topology import Molecule, Topology\n",
    "from openmmforcefields.generators import GAFFTemplateGenerator"
   ]
  },
  {
   "cell_type": "code",
   "execution_count": 2,
   "metadata": {},
   "outputs": [],
   "source": [
    "#import warnings\n",
    "\n",
    "# 경고를 무시하도록 설정합니다.\n",
    "#warnings.filterwarnings(\"ignore\", message=\"PDB file is missing resid information.\")\n",
    "#warnings.filterwarnings(\"ignore\", message=\"Reload offsets from trajectory\")\n",
    "#warnings.filterwarnings(\"ignore\", message=\"duplicate atom\")\n",
    "\n",
    "# 나머지 코드 실행"
   ]
  },
  {
   "cell_type": "code",
   "execution_count": 3,
   "metadata": {},
   "outputs": [],
   "source": [
    "import warnings\n",
    "warnings.filterwarnings(\"ignore\")"
   ]
  },
  {
   "cell_type": "code",
   "execution_count": 4,
   "metadata": {},
   "outputs": [],
   "source": [
    "def prepare_protein(\n",
    "    pdb_file, ignore_missing_residues=True, ignore_terminal_missing_residues=True, ph=7.0\n",
    "):\n",
    "    \"\"\"\n",
    "    Use pdbfixer to prepare the protein from a PDB file. Hetero atoms such as ligands are\n",
    "    removed and non-standard residues replaced. Missing atoms to existing residues are added.\n",
    "    Missing residues are ignored by default, but can be included.\n",
    "\n",
    "    Parameters\n",
    "    ----------\n",
    "    pdb_file: pathlib.Path or str\n",
    "        PDB file containing the system to simulate.\n",
    "    ignore_missing_residues: bool, optional\n",
    "        If missing residues should be ignored or built.\n",
    "    ignore_terminal_missing_residues: bool, optional\n",
    "        If missing residues at the beginning and the end of a chain should be ignored or built.\n",
    "    ph: float, optional\n",
    "        pH value used to determine protonation state of residues\n",
    "\n",
    "    Returns\n",
    "    -------\n",
    "    fixer: pdbfixer.pdbfixer.PDBFixer\n",
    "        Prepared protein system.\n",
    "    \"\"\"\n",
    "    fixer = pdbfixer.PDBFixer(str(pdb_file))\n",
    "    fixer.removeHeterogens()  # co-crystallized ligands are unknown to PDBFixer\n",
    "    fixer.findMissingResidues()  # identify missing residues, needed for identification of missing atoms\n",
    "\n",
    "    # if missing terminal residues shall be ignored, remove them from the dictionary\n",
    "    if ignore_terminal_missing_residues:\n",
    "        chains = list(fixer.topology.chains())\n",
    "        keys = fixer.missingResidues.keys()\n",
    "        for key in list(keys):\n",
    "            chain = chains[key[0]]\n",
    "            if key[1] == 0 or key[1] == len(list(chain.residues())):\n",
    "                del fixer.missingResidues[key]\n",
    "\n",
    "    # if all missing residues shall be ignored ignored, clear the dictionary\n",
    "    if ignore_missing_residues:\n",
    "        fixer.missingResidues = {}\n",
    "\n",
    "    fixer.findNonstandardResidues()  # find non-standard residue\n",
    "    fixer.replaceNonstandardResidues()  # replace non-standard residues with standard one\n",
    "    fixer.findMissingAtoms()  # find missing heavy atoms\n",
    "    fixer.addMissingAtoms()  # add missing atoms and residues\n",
    "    fixer.addMissingHydrogens(ph)  # add missing hydrogens\n",
    "    return fixer"
   ]
  },
  {
   "cell_type": "code",
   "execution_count": 5,
   "metadata": {},
   "outputs": [],
   "source": [
    "prepare_protein = prepare_protein(\"./protein_rank_5_complex.pdb\", ignore_missing_residues=False)"
   ]
  },
  {
   "cell_type": "code",
   "execution_count": 6,
   "metadata": {},
   "outputs": [],
   "source": [
    "def prepare_ligand(pdb_file, resname, smiles, depict=True):\n",
    "    \"\"\"\n",
    "    Prepare a ligand from a PDB file via adding hydrogens and assigning bond orders. A depiction\n",
    "    of the ligand before and after preparation is rendered in 2D to allow an inspection of the\n",
    "    results. Huge thanks to @j-wags for the suggestion.\n",
    "\n",
    "    Parameters\n",
    "    ----------\n",
    "    pdb_file: pathlib.PosixPath\n",
    "       PDB file containing the ligand of interest.\n",
    "    resname: str\n",
    "        Three character residue name of the ligand.\n",
    "    smiles : str\n",
    "        SMILES string of the ligand informing about correct protonation and bond orders.\n",
    "    depict: bool, optional\n",
    "        show a 2D representation of the ligand\n",
    "\n",
    "    Returns\n",
    "    -------\n",
    "    prepared_ligand: rdkit.Chem.rdchem.Mol\n",
    "        Prepared ligand.\n",
    "    \"\"\"\n",
    "    # split molecule\n",
    "    rdkit_mol = Chem.MolFromPDBFile(str(pdb_file), proximityBonding=True, sanitize=False)\n",
    "    print(rdkit_mol)\n",
    "    rdkit_mol_split = Chem.rdmolops.SplitMolByPDBResidues(rdkit_mol)\n",
    "\n",
    "    # extract the ligand and remove any already present hydrogens\n",
    "    ligand = rdkit_mol_split[resname]\n",
    "    ligand = Chem.RemoveHs(ligand)\n",
    "\n",
    "    # assign bond orders from template\n",
    "    reference_mol = Chem.MolFromSmiles(smiles)\n",
    "    prepared_ligand = AllChem.AssignBondOrdersFromTemplate(reference_mol, ligand)\n",
    "    prepared_ligand.AddConformer(ligand.GetConformer(0))\n",
    "\n",
    "    # protonate ligand\n",
    "    prepared_ligand = Chem.rdmolops.AddHs(prepared_ligand, addCoords=True)\n",
    "    prepared_ligand = Chem.MolFromMolBlock(Chem.MolToMolBlock(prepared_ligand))\n",
    "\n",
    "    # 2D depiction\n",
    "    if depict:\n",
    "        ligand_2d = copy.deepcopy(ligand)\n",
    "        prepared_ligand_2d = copy.deepcopy(prepared_ligand)\n",
    "        AllChem.Compute2DCoords(ligand_2d)\n",
    "        AllChem.Compute2DCoords(prepared_ligand_2d)\n",
    "        display(\n",
    "            Draw.MolsToGridImage(\n",
    "                [ligand_2d, prepared_ligand_2d], molsPerRow=2, legends=[\"original\", \"prepared\"]\n",
    "            )\n",
    "        )\n",
    "\n",
    "    # return ligand\n",
    "    return prepared_ligand"
   ]
  },
  {
   "cell_type": "code",
   "execution_count": 7,
   "metadata": {},
   "outputs": [],
   "source": [
    "pdb_path = \"./protein_rank_5_complex.pdb\"\n",
    "ligand_name = \"UNL\"\n",
    "smiles = \"COc1ccccc1NC(=O)N1CCN(c2ccccc2)CC1\""
   ]
  },
  {
   "cell_type": "code",
   "execution_count": 8,
   "metadata": {},
   "outputs": [
    {
     "name": "stdout",
     "output_type": "stream",
     "text": [
      "<rdkit.Chem.rdchem.Mol object at 0x7f7ba213c5e0>\n"
     ]
    },
    {
     "name": "stderr",
     "output_type": "stream",
     "text": [
      "[11:42:32] WARNING: More than one matching pattern found - picking one\n",
      "\n"
     ]
    },
    {
     "data": {
      "image/png": "[encoded data removed]",
      "text/plain": [
       "<IPython.core.display.Image object>"
      ]
     },
     "metadata": {},
     "output_type": "display_data"
    }
   ],
   "source": [
    "rdkit_ligand = prepare_ligand(pdb_path, ligand_name, smiles)"
   ]
  },
  {
   "cell_type": "code",
   "execution_count": 9,
   "metadata": {},
   "outputs": [],
   "source": [
    "def rdkit_to_openmm(rdkit_mol, name=\"LIG\"):\n",
    "    \"\"\"\n",
    "    Convert an RDKit molecule to an OpenMM molecule.\n",
    "    Inspired by @hannahbrucemcdonald and @glass-w.\n",
    "\n",
    "    Parameters\n",
    "    ----------\n",
    "    rdkit_mol: rdkit.Chem.rdchem.Mol\n",
    "        RDKit molecule to convert.\n",
    "    name: str\n",
    "        Molecule name.\n",
    "\n",
    "    Returns\n",
    "    -------\n",
    "    omm_molecule: openmm.app.Modeller\n",
    "        OpenMM modeller object holding the molecule of interest.\n",
    "    \"\"\"\n",
    "    # convert RDKit to OpenFF\n",
    "    off_mol = Molecule.from_rdkit(rdkit_mol)\n",
    "    #print(off_mol)\n",
    "\n",
    "    # add name for molecule\n",
    "    off_mol.name = name\n",
    "    #print(off_mol.name)\n",
    "\n",
    "    # add names for atoms\n",
    "    element_counter_dict = {}\n",
    "    for off_atom, rdkit_atom in zip(off_mol.atoms, rdkit_mol.GetAtoms()):\n",
    "        element = rdkit_atom.GetSymbol()\n",
    "        if element in element_counter_dict.keys():\n",
    "            element_counter_dict[element] += 1\n",
    "        else:\n",
    "            element_counter_dict[element] = 1\n",
    "        off_atom.name = element + str(element_counter_dict[element])\n",
    "    #print(element_counter_dict)\n",
    "\n",
    "    # convert from OpenFF to OpenMM\n",
    "    off_mol_topology = off_mol.to_topology()\n",
    "    mol_topology = off_mol_topology.to_openmm()\n",
    "    #print(mol_topology)\n",
    "    mol_positions = off_mol.conformers[0]\n",
    "    #print(mol_positions)\n",
    "\n",
    "    # convert units from Ångström to nanometers\n",
    "    # since OpenMM works in nm\n",
    "    mol_positions = mol_positions.to(\"nanometers\")\n",
    "    #print(mol_positions)\n",
    "\n",
    "    # combine topology and positions in modeller object\n",
    "    omm_mol = app.Modeller(mol_topology, mol_positions)\n",
    "\n",
    "    return omm_mol"
   ]
  },
  {
   "cell_type": "code",
   "execution_count": 10,
   "metadata": {},
   "outputs": [],
   "source": [
    "omm_ligand = rdkit_to_openmm(rdkit_ligand, ligand_name)"
   ]
  },
  {
   "cell_type": "code",
   "execution_count": 11,
   "metadata": {},
   "outputs": [],
   "source": [
    "def merge_protein_and_ligand(protein, ligand):\n",
    "    \"\"\"\n",
    "    Merge two OpenMM objects.\n",
    "\n",
    "    Parameters\n",
    "    ----------\n",
    "    protein: pdbfixer.pdbfixer.PDBFixer\n",
    "        Protein to merge.\n",
    "    ligand: openmm.app.Modeller\n",
    "        Ligand to merge.\n",
    "\n",
    "    Returns\n",
    "    -------\n",
    "    complex_topology: openmm.app.topology.Topology\n",
    "        The merged topology.\n",
    "    complex_positions: openmm.unit.quantity.Quantity\n",
    "        The merged positions.\n",
    "    \"\"\"\n",
    "    # combine topologies\n",
    "    md_protein_topology = md.Topology.from_openmm(protein.topology)  # using mdtraj for protein top\n",
    "    #print(md_protein_topology)\n",
    "    md_ligand_topology = md.Topology.from_openmm(ligand.topology)  # using mdtraj for ligand top\n",
    "    #print(md_ligand_topology)\n",
    "    md_complex_topology = md_protein_topology.join(md_ligand_topology)  # add them together\n",
    "    #print(md_complex_topology)\n",
    "    complex_topology = md_complex_topology.to_openmm()\n",
    "    #print(complex_topology)\n",
    "\n",
    "    # combine positions\n",
    "    total_atoms = len(protein.positions) + len(ligand.positions)\n",
    "\n",
    "    # create an array for storing all atom positions as tupels containing a value and a unit\n",
    "    # called OpenMM Quantities\n",
    "    complex_positions = unit.Quantity(np.zeros([total_atoms, 3]), unit=unit.nanometers)\n",
    "    complex_positions[: len(protein.positions)] = protein.positions  # add protein positions\n",
    "    complex_positions[len(protein.positions) :] = ligand.positions  # add ligand positions\n",
    "\n",
    "    return complex_topology, complex_positions"
   ]
  },
  {
   "cell_type": "code",
   "execution_count": 12,
   "metadata": {},
   "outputs": [],
   "source": [
    "complex_topology, complex_positions = merge_protein_and_ligand(prepare_protein, omm_ligand)"
   ]
  },
  {
   "cell_type": "code",
   "execution_count": 13,
   "metadata": {},
   "outputs": [
    {
     "name": "stdout",
     "output_type": "stream",
     "text": [
      "Complex topology has 4205 atoms.\n"
     ]
    }
   ],
   "source": [
    "print(\"Complex topology has\", complex_topology.getNumAtoms(), \"atoms.\")\n",
    "# NBVAL_CHECK_OUTPUT"
   ]
  },
  {
   "cell_type": "code",
   "execution_count": 14,
   "metadata": {},
   "outputs": [],
   "source": [
    "def generate_forcefield(\n",
    "    rdkit_mol=None, protein_ff=\"amber14-all.xml\", solvent_ff=\"amber14/tip3pfb.xml\"\n",
    "):\n",
    "    \"\"\"\n",
    "    Generate an OpenMM Forcefield object and register a small molecule.\n",
    "\n",
    "    Parameters\n",
    "    ----------\n",
    "    rdkit_mol: rdkit.Chem.rdchem.Mol\n",
    "        Small molecule to register in the force field.\n",
    "    protein_ff: string\n",
    "        Name of the force field.\n",
    "    solvent_ff: string\n",
    "        Name of the solvent force field.\n",
    "\n",
    "    Returns\n",
    "    -------\n",
    "    forcefield: openmm.app.Forcefield\n",
    "        Forcefield with registered small molecule.\n",
    "    \"\"\"\n",
    "    forcefield = app.ForceField(protein_ff, solvent_ff)\n",
    "\n",
    "    if rdkit_mol is not None:\n",
    "        gaff = GAFFTemplateGenerator(\n",
    "            molecules=Molecule.from_rdkit(rdkit_mol, allow_undefined_stereo=True)\n",
    "        )\n",
    "        forcefield.registerTemplateGenerator(gaff.generator)\n",
    "\n",
    "    return forcefield"
   ]
  },
  {
   "cell_type": "code",
   "execution_count": 15,
   "metadata": {},
   "outputs": [],
   "source": [
    "forcefield = generate_forcefield(rdkit_ligand)"
   ]
  },
  {
   "cell_type": "code",
   "execution_count": 16,
   "metadata": {},
   "outputs": [
    {
     "name": "stderr",
     "output_type": "stream",
     "text": [
      "/bin/bash: /home/media/data2/user_home/dbsejrgus226/miniconda3/envs/MD/lib/libtinfo.so.6: no version information available (required by /bin/bash)\n",
      "/bin/bash: /home/media/data2/user_home/dbsejrgus226/miniconda3/envs/MD/lib/libtinfo.so.6: no version information available (required by /bin/bash)\n",
      "/bin/bash: /home/media/data2/user_home/dbsejrgus226/miniconda3/envs/MD/lib/libtinfo.so.6: no version information available (required by /bin/bash)\n",
      "/bin/bash: /home/media/data2/user_home/dbsejrgus226/miniconda3/envs/MD/lib/libtinfo.so.6: no version information available (required by /bin/bash)\n",
      "/bin/bash: /home/media/data2/user_home/dbsejrgus226/miniconda3/envs/MD/lib/libtinfo.so.6: no version information available (required by /bin/bash)\n",
      "/bin/bash: /home/media/data2/user_home/dbsejrgus226/miniconda3/envs/MD/lib/libtinfo.so.6: no version information available (required by /bin/bash)\n",
      "Warning: importing 'simtk.openmm' is deprecated.  Import 'openmm' instead.\n"
     ]
    }
   ],
   "source": [
    "modeller = app.Modeller(complex_topology, complex_positions)\n",
    "modeller.addSolvent(forcefield, padding=1.5 * unit.nanometers, ionicStrength=0.15 * unit.molar)"
   ]
  },
  {
   "cell_type": "code",
   "execution_count": 17,
   "metadata": {},
   "outputs": [],
   "source": [
    "system = forcefield.createSystem(modeller.topology, nonbondedMethod=app.NoCutoff)\n",
    "integrator = mm.LangevinIntegrator(\n",
    "    309.65 * unit.kelvin, 1.0 / unit.picoseconds, 2.0 * unit.femtoseconds\n",
    ")\n",
    "simulation = app.Simulation(modeller.topology, system, integrator)\n",
    "simulation.context.setPositions(modeller.positions)"
   ]
  },
  {
   "cell_type": "code",
   "execution_count": 18,
   "metadata": {},
   "outputs": [],
   "source": [
    "simulation.minimizeEnergy()\n",
    "with open(\"topology_5.pdb\", \"w\") as pdb_file:\n",
    "    app.PDBFile.writeFile(\n",
    "        simulation.topology,\n",
    "        simulation.context.getState(getPositions=True, enforcePeriodicBox=True).getPositions(),\n",
    "        file=pdb_file,\n",
    "        keepIds=True,\n",
    "    )"
   ]
  },
  {
   "cell_type": "code",
   "execution_count": 19,
   "metadata": {},
   "outputs": [],
   "source": [
    "# output settings\n",
    "\n",
    "steps = 50000  # corresponds to 100 fs\n",
    "write_interval = 500  # write every 10 fs\n",
    "log_interval = 250  # log progress to stdout every 5 fs\n",
    "simulation.reporters.append(\n",
    "    md.reporters.XTCReporter(file=str(\"trajectory_5.xtc\"), reportInterval=write_interval)\n",
    ")\n",
    "simulation.reporters.append(\n",
    "    app.StateDataReporter(\n",
    "        sys.stdout,\n",
    "        log_interval,\n",
    "        step=True,\n",
    "        potentialEnergy=True,\n",
    "        temperature=True,\n",
    "        progress=True,\n",
    "        remainingTime=True,\n",
    "        speed=True,\n",
    "        totalSteps=steps,\n",
    "        separator=\"\\t\",\n",
    "    )\n",
    ")"
   ]
  },
  {
   "cell_type": "code",
   "execution_count": 20,
   "metadata": {},
   "outputs": [
    {
     "name": "stdout",
     "output_type": "stream",
     "text": [
      "#\"Progress (%)\"\t\"Step\"\t\"Potential Energy (kJ/mole)\"\t\"Temperature (K)\"\t\"Speed (ns/day)\"\t\"Time Remaining\"\n",
      "0.5%\t250\t-1038283.1875\t210.53837600233626\t0\t--\n",
      "1.0%\t500\t-1015046.5\t246.6987913325371\t1.02\t2:20:25\n",
      "1.5%\t750\t-1001013.75\t270.7381740564677\t1.02\t2:19:40\n",
      "2.0%\t1000\t-989397.875\t281.7472312122699\t1.02\t2:18:55\n",
      "2.5%\t1250\t-983468.1875\t291.27921962310637\t1.02\t2:18:15\n",
      "3.0%\t1500\t-978457.5\t296.3317656812981\t1.01\t2:18:06\n",
      "3.5%\t1750\t-975065.875\t303.11834405742167\t1.01\t2:17:52\n",
      "4.0%\t2000\t-970970.625\t303.03058162940476\t1.01\t2:17:30\n",
      "4.5%\t2250\t-970190.4375\t306.82364182664213\t1\t2:17:02\n",
      "5.0%\t2500\t-967595.875\t307.9584027911376\t1\t2:16:31\n",
      "5.5%\t2750\t-966983.875\t308.6961844190504\t1\t2:15:57\n",
      "6.0%\t3000\t-965538.625\t308.1238782647587\t1\t2:15:22\n",
      "6.5%\t3250\t-963535.125\t308.7084928636654\t0.999\t2:14:45\n",
      "7.0%\t3500\t-964867.25\t310.53406934128355\t0.997\t2:14:16\n",
      "7.5%\t3750\t-964064.5625\t310.46234392427226\t0.995\t2:13:49\n",
      "8.0%\t4000\t-964025.4375\t311.14331430456997\t0.993\t2:13:22\n",
      "8.5%\t4250\t-965534.375\t311.517295005619\t0.992\t2:12:52\n",
      "9.0%\t4500\t-964191.375\t307.3769414317702\t0.99\t2:12:21\n",
      "9.5%\t4750\t-964722.3125\t308.62952973428617\t0.989\t2:11:48\n",
      "10.0%\t5000\t-964679.125\t307.0067317093213\t0.987\t2:11:15\n",
      "10.5%\t5250\t-965899.75\t309.3867128523558\t0.986\t2:10:40\n",
      "11.0%\t5500\t-964601.125\t310.94414178231585\t0.985\t2:10:04\n",
      "11.5%\t5750\t-963172.25\t309.4664558244416\t0.984\t2:09:27\n",
      "12.0%\t6000\t-963269.5\t311.4622979745349\t0.984\t2:08:50\n",
      "12.5%\t6250\t-963773.3125\t309.0603044541053\t0.983\t2:08:12\n",
      "13.0%\t6500\t-963490.75\t307.9631656994215\t0.982\t2:07:33\n",
      "13.5%\t6750\t-964535.0\t310.8087886772728\t0.981\t2:06:54\n",
      "14.0%\t7000\t-964725.4375\t310.9549154390934\t0.981\t2:06:15\n",
      "14.5%\t7250\t-964103.5625\t308.36481519537165\t0.98\t2:05:35\n",
      "15.0%\t7500\t-964341.625\t309.1460579414813\t0.98\t2:04:55\n",
      "15.5%\t7750\t-966453.0\t310.60692160049325\t0.979\t2:04:15\n",
      "16.0%\t8000\t-965877.375\t309.6782078142072\t0.979\t2:03:34\n",
      "16.5%\t8250\t-966091.6875\t309.9451225805355\t0.978\t2:02:53\n",
      "17.0%\t8500\t-965279.5\t308.94555420605434\t0.978\t2:02:12\n",
      "17.5%\t8750\t-964951.875\t309.0147840574404\t0.978\t2:01:30\n",
      "18.0%\t9000\t-966175.3125\t309.00661440538556\t0.977\t2:00:49\n",
      "18.5%\t9250\t-965912.375\t308.26721954439705\t0.977\t2:00:07\n",
      "19.0%\t9500\t-966618.6875\t309.50880139490255\t0.977\t1:59:26\n",
      "19.5%\t9750\t-966792.875\t309.42643634059624\t0.976\t1:58:43\n",
      "20.0%\t10000\t-967698.0\t308.83844194301145\t0.976\t1:58:01\n",
      "20.5%\t10250\t-966047.875\t309.6358176257626\t0.976\t1:57:19\n",
      "21.0%\t10500\t-966019.8125\t308.97151149630673\t0.976\t1:56:36\n",
      "21.5%\t10750\t-965588.375\t309.2254589809324\t0.975\t1:55:54\n",
      "22.0%\t11000\t-964700.125\t309.4962242284954\t0.975\t1:55:11\n",
      "22.5%\t11250\t-965716.0\t310.7900700285865\t0.975\t1:54:28\n",
      "23.0%\t11500\t-965957.0\t310.13645951180047\t0.975\t1:53:45\n",
      "23.5%\t11750\t-965260.75\t308.9868134361984\t0.974\t1:53:02\n",
      "24.0%\t12000\t-965454.875\t310.5961249851831\t0.974\t1:52:20\n",
      "24.5%\t12250\t-964521.5\t310.70755638843207\t0.974\t1:51:36\n",
      "25.0%\t12500\t-964522.25\t310.4394114875632\t0.974\t1:50:53\n",
      "25.5%\t12750\t-964319.1875\t309.8523247767008\t0.974\t1:50:10\n",
      "26.0%\t13000\t-965575.625\t311.7971390999683\t0.974\t1:49:27\n",
      "26.5%\t13250\t-965094.5\t311.44155231512343\t0.973\t1:48:43\n",
      "27.0%\t13500\t-965592.875\t310.5829661137357\t0.973\t1:48:00\n",
      "27.5%\t13750\t-966018.3125\t310.8061859287958\t0.973\t1:47:16\n",
      "28.0%\t14000\t-965518.625\t310.19541333164574\t0.973\t1:46:33\n",
      "28.5%\t14250\t-964838.125\t308.50218889632197\t0.973\t1:45:50\n",
      "29.0%\t14500\t-965434.8125\t308.2834854409184\t0.973\t1:45:05\n",
      "29.5%\t14750\t-966025.875\t309.96936676612586\t0.976\t1:43:58\n",
      "30.0%\t15000\t-966273.875\t310.77286140762584\t0.98\t1:42:51\n",
      "30.5%\t15250\t-964622.75\t308.4941401558008\t0.983\t1:41:45\n",
      "31.0%\t15500\t-965695.1875\t310.4165270642528\t0.987\t1:40:41\n",
      "31.5%\t15750\t-966423.875\t309.19333239342194\t0.99\t1:39:37\n",
      "32.0%\t16000\t-967896.1875\t311.46134635340456\t0.993\t1:38:34\n",
      "32.5%\t16250\t-966129.75\t309.1045259470758\t0.996\t1:37:32\n",
      "33.0%\t16500\t-966127.5625\t310.72601950471795\t0.999\t1:36:31\n",
      "33.5%\t16750\t-964556.875\t309.7754275723569\t1\t1:35:31\n",
      "34.0%\t17000\t-965176.875\t311.1905040474121\t1.01\t1:34:32\n",
      "34.5%\t17250\t-963686.875\t309.267576967331\t1.01\t1:33:33\n",
      "35.0%\t17500\t-964835.875\t310.0590298397212\t1.01\t1:32:35\n",
      "35.5%\t17750\t-964496.25\t309.0636093880713\t1.01\t1:31:37\n",
      "36.0%\t18000\t-964681.0\t308.88119215610925\t1.02\t1:30:41\n",
      "36.5%\t18250\t-965687.0625\t309.71583193413375\t1.02\t1:29:44\n",
      "37.0%\t18500\t-966272.25\t311.7924921491285\t1.02\t1:28:49\n",
      "37.5%\t18750\t-965550.875\t310.5929540450722\t1.02\t1:27:54\n",
      "38.0%\t19000\t-964408.0\t309.43752690932973\t1.03\t1:26:59\n",
      "38.5%\t19250\t-965591.8125\t309.6771732135841\t1.03\t1:26:05\n",
      "39.0%\t19500\t-966477.75\t310.53215108064666\t1.03\t1:25:12\n",
      "39.5%\t19750\t-966531.125\t310.337768631172\t1.03\t1:24:19\n",
      "40.0%\t20000\t-966816.25\t308.3206977843137\t1.04\t1:23:27\n",
      "40.5%\t20250\t-967461.9375\t310.25775971999104\t1.04\t1:22:34\n",
      "41.0%\t20500\t-967568.5\t310.2257956429372\t1.04\t1:21:43\n",
      "41.5%\t20750\t-966588.0\t308.1706556477919\t1.04\t1:20:52\n",
      "42.0%\t21000\t-966022.0\t306.5695669951305\t1.04\t1:20:01\n",
      "42.5%\t21250\t-966686.25\t309.34850315489774\t1.05\t1:19:10\n",
      "43.0%\t21500\t-966802.75\t310.52681967379345\t1.05\t1:18:20\n",
      "43.5%\t21750\t-965437.875\t308.94902097148264\t1.05\t1:17:30\n",
      "44.0%\t22000\t-966401.25\t308.96015743837756\t1.05\t1:16:41\n",
      "44.5%\t22250\t-966341.25\t310.0133960303793\t1.05\t1:15:52\n",
      "45.0%\t22500\t-966385.375\t310.87172482047646\t1.06\t1:15:03\n",
      "45.5%\t22750\t-965313.125\t310.105196502474\t1.06\t1:14:15\n",
      "46.0%\t23000\t-965375.875\t310.6163203344946\t1.06\t1:13:27\n",
      "46.5%\t23250\t-965791.625\t310.5816704911351\t1.06\t1:12:39\n",
      "47.0%\t23500\t-965901.875\t312.4739331700274\t1.06\t1:11:51\n",
      "47.5%\t23750\t-965574.75\t311.02903302316895\t1.06\t1:11:04\n",
      "48.0%\t24000\t-964441.5625\t311.3355417031509\t1.07\t1:10:17\n",
      "48.5%\t24250\t-966504.625\t311.7653094058793\t1.07\t1:09:30\n",
      "49.0%\t24500\t-967343.5\t311.60858848559866\t1.07\t1:08:44\n",
      "49.5%\t24750\t-965148.3125\t308.6906964056111\t1.07\t1:07:58\n",
      "50.0%\t25000\t-965555.625\t309.83489638644227\t1.07\t1:07:12\n",
      "50.5%\t25250\t-965871.375\t310.9067530274297\t1.07\t1:06:26\n",
      "51.0%\t25500\t-965328.375\t309.6926841237742\t1.07\t1:05:40\n",
      "51.5%\t25750\t-966320.25\t309.5574073274166\t1.08\t1:04:55\n",
      "52.0%\t26000\t-966263.5625\t310.87970720387153\t1.08\t1:04:10\n",
      "52.5%\t26250\t-965915.375\t311.5172147585839\t1.08\t1:03:25\n",
      "53.0%\t26500\t-966199.125\t311.49670227234583\t1.08\t1:02:40\n",
      "53.5%\t26750\t-965779.75\t311.60481098884935\t1.08\t1:01:55\n",
      "54.0%\t27000\t-965680.5\t310.86762747813356\t1.08\t1:01:11\n",
      "54.5%\t27250\t-965489.0\t309.6072388994909\t1.08\t1:00:26\n",
      "55.0%\t27500\t-965538.5\t311.3714614306614\t1.09\t59:42\n",
      "55.5%\t27750\t-967590.6875\t312.45872262017514\t1.09\t58:59\n",
      "56.0%\t28000\t-968580.125\t311.808910270723\t1.09\t58:15\n",
      "56.5%\t28250\t-966869.125\t308.79276870392926\t1.09\t57:31\n",
      "57.0%\t28500\t-966971.375\t309.5629115407002\t1.09\t56:48\n",
      "57.5%\t28750\t-967424.0\t312.028954318468\t1.09\t56:05\n",
      "58.0%\t29000\t-966491.25\t311.0271537627333\t1.09\t55:21\n",
      "58.5%\t29250\t-966043.625\t308.3470971443035\t1.09\t54:38\n",
      "59.0%\t29500\t-967130.375\t309.1137412671782\t1.09\t53:56\n",
      "59.5%\t29750\t-966844.5625\t309.3755740723932\t1.1\t53:13\n",
      "60.0%\t30000\t-967855.75\t310.4105533383962\t1.1\t52:30\n",
      "60.5%\t30250\t-967960.375\t310.2238812573506\t1.1\t51:48\n",
      "61.0%\t30500\t-967555.8125\t308.2133955029465\t1.1\t51:06\n",
      "61.5%\t30750\t-968972.875\t309.2652152758942\t1.1\t50:23\n",
      "62.0%\t31000\t-969749.625\t309.35401667083875\t1.1\t49:41\n",
      "62.5%\t31250\t-968098.625\t309.5945491012683\t1.1\t48:59\n",
      "63.0%\t31500\t-967888.125\t310.8753010835142\t1.1\t48:18\n",
      "63.5%\t31750\t-966775.625\t309.7636276406707\t1.1\t47:36\n",
      "64.0%\t32000\t-968548.875\t311.9311374774172\t1.11\t46:54\n",
      "64.5%\t32250\t-968083.375\t308.55879804149475\t1.11\t46:13\n",
      "65.0%\t32500\t-967502.75\t311.3130057715156\t1.11\t45:31\n",
      "65.5%\t32750\t-967921.75\t309.17878473710806\t1.11\t44:50\n",
      "66.0%\t33000\t-968489.0625\t309.59401694218775\t1.11\t44:09\n",
      "66.5%\t33250\t-968388.875\t308.23754855443383\t1.11\t43:28\n",
      "67.0%\t33500\t-967051.875\t307.0945202540272\t1.11\t42:47\n",
      "67.5%\t33750\t-967946.0\t308.391984182012\t1.11\t42:06\n",
      "68.0%\t34000\t-968450.0625\t309.98081483607956\t1.11\t41:25\n",
      "68.5%\t34250\t-966015.4375\t309.4175383232865\t1.11\t40:44\n",
      "69.0%\t34500\t-967212.125\t311.4734592342832\t1.11\t40:04\n",
      "69.5%\t34750\t-966818.625\t310.6322163214065\t1.11\t39:23\n",
      "70.0%\t35000\t-966813.75\t308.9431843590546\t1.12\t38:43\n",
      "70.5%\t35250\t-968355.875\t309.7002069890457\t1.12\t38:02\n",
      "71.0%\t35500\t-968242.5\t307.6375276650526\t1.12\t37:22\n",
      "71.5%\t35750\t-968605.625\t307.6067048798904\t1.12\t36:42\n",
      "72.0%\t36000\t-967950.625\t308.8173823411883\t1.12\t36:02\n",
      "72.5%\t36250\t-968898.0\t308.4268204123044\t1.12\t35:22\n",
      "73.0%\t36500\t-968480.75\t309.30499356141144\t1.12\t34:42\n",
      "73.5%\t36750\t-967614.375\t308.8064759429043\t1.12\t34:02\n",
      "74.0%\t37000\t-968105.8125\t311.06188680775574\t1.12\t33:22\n",
      "74.5%\t37250\t-967672.3125\t309.44725475666917\t1.12\t32:42\n",
      "75.0%\t37500\t-967024.75\t308.5008616821478\t1.12\t32:02\n",
      "75.5%\t37750\t-967693.25\t310.6446340934158\t1.12\t31:23\n",
      "76.0%\t38000\t-967033.1875\t309.1261325006218\t1.12\t30:43\n",
      "76.5%\t38250\t-967573.875\t310.0701699455637\t1.13\t30:03\n",
      "77.0%\t38500\t-966985.4375\t309.42877518721167\t1.13\t29:24\n",
      "77.5%\t38750\t-968637.9375\t310.2527412284572\t1.13\t28:45\n",
      "78.0%\t39000\t-968488.75\t308.8455802239635\t1.13\t28:05\n",
      "78.5%\t39250\t-969344.625\t309.10268115565844\t1.13\t27:26\n",
      "79.0%\t39500\t-969552.5\t307.8169479912176\t1.13\t26:47\n",
      "79.5%\t39750\t-967836.875\t308.2029876196829\t1.13\t26:07\n",
      "80.0%\t40000\t-967796.8125\t309.48428129087597\t1.13\t25:28\n",
      "80.5%\t40250\t-968623.8125\t309.70400430845154\t1.13\t24:49\n",
      "81.0%\t40500\t-968123.875\t308.8382931158699\t1.13\t24:10\n",
      "81.5%\t40750\t-967811.75\t310.09799040685954\t1.13\t23:31\n",
      "82.0%\t41000\t-967019.5\t309.00378212305276\t1.13\t22:52\n",
      "82.5%\t41250\t-966403.375\t309.87550569232263\t1.13\t22:14\n",
      "83.0%\t41500\t-966593.6875\t309.45353356946606\t1.13\t21:35\n",
      "83.5%\t41750\t-965682.8125\t308.93345509505826\t1.13\t20:56\n",
      "84.0%\t42000\t-966871.1875\t310.36953793346527\t1.14\t20:17\n",
      "84.5%\t42250\t-966560.875\t310.9017378186018\t1.14\t19:39\n",
      "85.0%\t42500\t-965604.0\t311.88332343558244\t1.14\t19:00\n",
      "85.5%\t42750\t-966054.5\t312.10093334696654\t1.14\t18:21\n",
      "86.0%\t43000\t-965594.25\t309.74535270738244\t1.14\t17:43\n",
      "86.5%\t43250\t-965782.0625\t311.43174367838884\t1.14\t17:04\n",
      "87.0%\t43500\t-967318.375\t310.50159784055137\t1.14\t16:26\n",
      "87.5%\t43750\t-966741.8125\t309.64442033841993\t1.14\t15:48\n",
      "88.0%\t44000\t-966261.625\t307.69930762623295\t1.14\t15:09\n",
      "88.5%\t44250\t-968340.8125\t311.76818999695337\t1.14\t14:31\n",
      "89.0%\t44500\t-967568.75\t309.5575549614631\t1.14\t13:53\n",
      "89.5%\t44750\t-968375.875\t308.6648305176194\t1.14\t13:14\n",
      "90.0%\t45000\t-968916.875\t306.6370258115033\t1.14\t12:36\n",
      "90.5%\t45250\t-968482.25\t308.0255188243587\t1.14\t11:58\n",
      "91.0%\t45500\t-968284.8125\t308.80260701804264\t1.14\t11:20\n",
      "91.5%\t45750\t-967606.25\t307.9012500806126\t1.14\t10:42\n",
      "92.0%\t46000\t-968522.375\t310.0744742942633\t1.14\t10:04\n",
      "92.5%\t46250\t-968327.875\t308.6318059842678\t1.14\t9:26\n",
      "93.0%\t46500\t-969371.625\t309.4630449515545\t1.14\t8:48\n",
      "93.5%\t46750\t-969467.1875\t309.08985949185296\t1.14\t8:10\n",
      "94.0%\t47000\t-968833.125\t308.36125014714105\t1.14\t7:33\n",
      "94.5%\t47250\t-967714.875\t309.5856061722861\t1.14\t6:55\n",
      "95.0%\t47500\t-968140.875\t309.5301795679799\t1.14\t6:17\n",
      "95.5%\t47750\t-968094.125\t308.575913758681\t1.14\t5:39\n",
      "96.0%\t48000\t-968355.625\t309.44491455132317\t1.14\t5:02\n",
      "96.5%\t48250\t-968464.75\t310.7188226671394\t1.14\t4:24\n",
      "97.0%\t48500\t-968142.125\t308.83206154754885\t1.14\t3:46\n",
      "97.5%\t48750\t-967557.8125\t311.2084709785335\t1.15\t3:08\n",
      "98.0%\t49000\t-968411.6875\t313.5934031229093\t1.15\t2:30\n",
      "98.5%\t49250\t-967145.8125\t311.7414191239105\t1.15\t1:52\n",
      "99.0%\t49500\t-965571.625\t310.5622937365427\t1.15\t1:15\n",
      "99.5%\t49750\t-966182.0\t311.4374407250064\t1.15\t0:37\n",
      "100.0%\t50000\t-967479.9375\t310.73889364573296\t1.15\t0:00\n"
     ]
    }
   ],
   "source": [
    "simulation.context.setVelocitiesToTemperature(309.65 * unit.kelvin)\n",
    "simulation.step(steps)  # perform the simulation"
   ]
  },
  {
   "cell_type": "code",
   "execution_count": 21,
   "metadata": {},
   "outputs": [
    {
     "name": "stdout",
     "output_type": "stream",
     "text": [
      "os.stat_result(st_mode=33204, st_ino=235276813, st_dev=2080, st_nlink=1, st_uid=1002, st_gid=1002, st_size=23259292, st_atime=1717123964, st_mtime=1717131459, st_ctime=1717131459)\n"
     ]
    }
   ],
   "source": [
    "# Check the trajectory exists and is not empty\n",
    "import os \n",
    "result = \"./trajectory_5.xtc\"\n",
    "file_info = os.stat(result)\n",
    "print(file_info)\n",
    "#result.stat().st_size > 0\n",
    "# NBVAL_CHECK_OUTPUT"
   ]
  },
  {
   "cell_type": "markdown",
   "metadata": {},
   "source": [
    "# Analysis MD Simulation results"
   ]
  },
  {
   "cell_type": "code",
   "execution_count": 22,
   "metadata": {},
   "outputs": [
    {
     "data": {
      "application/vnd.jupyter.widget-view+json": {
       "model_id": "ff45581823ef4d4c856119379f6cae59",
       "version_major": 2,
       "version_minor": 0
      },
      "text/plain": []
     },
     "metadata": {},
     "output_type": "display_data"
    }
   ],
   "source": [
    "from pathlib import Path\n",
    "\n",
    "import pandas as pd\n",
    "import numpy as np\n",
    "import matplotlib.pyplot as plt\n",
    "import nglview as nv\n",
    "import MDAnalysis as mda\n",
    "from MDAnalysis.analysis import rms, diffusionmap, align\n",
    "from MDAnalysis.analysis.distances import dist\n",
    "from MDAnalysis.analysis.hydrogenbonds.hbond_analysis import HydrogenBondAnalysis as HBA\n"
   ]
  },
  {
   "cell_type": "code",
   "execution_count": 23,
   "metadata": {},
   "outputs": [],
   "source": [
    "md_universe = mda.Universe(str(\"./topology_5.pdb\"), str(\"./trajectory_5.xtc\"))"
   ]
  },
  {
   "cell_type": "code",
   "execution_count": 24,
   "metadata": {},
   "outputs": [
    {
     "data": {
      "text/plain": [
       "<MDAnalysis.analysis.align.AlignTraj at 0x7f7b63216c70>"
      ]
     },
     "execution_count": 24,
     "metadata": {},
     "output_type": "execute_result"
    }
   ],
   "source": [
    "# Set trajectory pointer to first frame as reference\n",
    "md_universe.trajectory[0]\n",
    "\n",
    "# in_memory=True is needed to actually modify the loaded trajectory\n",
    "# if the trajectory is too big for memory, one can write out the aligned trajectory and reload it into a new universe\n",
    "alignment = align.AlignTraj(\n",
    "    mobile=md_universe, reference=md_universe, select=\"protein\", in_memory=True\n",
    ")\n",
    "alignment.run()"
   ]
  },
  {
   "cell_type": "code",
   "execution_count": 25,
   "metadata": {},
   "outputs": [],
   "source": [
    "def rmsd_for_atomgroups(universe, selection1, selection2=None):\n",
    "    \"\"\"Calulate the RMSD for selected atom groups.\n",
    "\n",
    "    Parameters\n",
    "    ----------\n",
    "    universe: MDAnalysis.core.universe.Universe\n",
    "        MDAnalysis universe.\n",
    "    selection1: str\n",
    "        Selection string for main atom group, also used during alignment.\n",
    "    selection2: list of str, optional\n",
    "        Selection strings for additional atom groups.\n",
    "\n",
    "    Returns\n",
    "    -------\n",
    "    rmsd_df: pandas.core.frame.DataFrame\n",
    "        DataFrame containing RMSD of the selected atom groups over time.\n",
    "    \"\"\"\n",
    "\n",
    "    universe.trajectory\n",
    "    ref = universe\n",
    "    rmsd_analysis = rms.RMSD(universe, ref, select=selection1, groupselections=selection2)\n",
    "    rmsd_analysis.run()\n",
    "\n",
    "    columns = [selection1, *selection2] if selection2 else [selection1]\n",
    "    #print(rmsd_analysis.results)\n",
    "    #print(rmsd_analysis)\n",
    "    rmsd_df = pd.DataFrame(np.round(rmsd_analysis.results.rmsd[:, 2:], 2), columns=columns)\n",
    "    rmsd_df.index.name = \"time\"\n",
    "    return rmsd_df"
   ]
  },
  {
   "cell_type": "code",
   "execution_count": 26,
   "metadata": {},
   "outputs": [],
   "source": [
    "rmsd = rmsd_for_atomgroups(md_universe, \"backbone\", [\"protein\", \"resname UNK\"])\n",
    "#rmsd[:20]"
   ]
  },
  {
   "cell_type": "code",
   "execution_count": 27,
   "metadata": {},
   "outputs": [
    {
     "data": {
      "text/html": [
       "<div>\n",
       "<style scoped>\n",
       "    .dataframe tbody tr th:only-of-type {\n",
       "        vertical-align: middle;\n",
       "    }\n",
       "\n",
       "    .dataframe tbody tr th {\n",
       "        vertical-align: top;\n",
       "    }\n",
       "\n",
       "    .dataframe thead th {\n",
       "        text-align: right;\n",
       "    }\n",
       "</style>\n",
       "<table border=\"1\" class=\"dataframe\">\n",
       "  <thead>\n",
       "    <tr style=\"text-align: right;\">\n",
       "      <th></th>\n",
       "      <th>backbone</th>\n",
       "      <th>protein</th>\n",
       "      <th>rank_5_ligand</th>\n",
       "    </tr>\n",
       "    <tr>\n",
       "      <th>time</th>\n",
       "      <th></th>\n",
       "      <th></th>\n",
       "      <th></th>\n",
       "    </tr>\n",
       "  </thead>\n",
       "  <tbody>\n",
       "    <tr>\n",
       "      <th>0</th>\n",
       "      <td>0.00</td>\n",
       "      <td>0.00</td>\n",
       "      <td>0.00</td>\n",
       "    </tr>\n",
       "    <tr>\n",
       "      <th>1</th>\n",
       "      <td>0.54</td>\n",
       "      <td>0.77</td>\n",
       "      <td>0.97</td>\n",
       "    </tr>\n",
       "    <tr>\n",
       "      <th>2</th>\n",
       "      <td>0.71</td>\n",
       "      <td>0.98</td>\n",
       "      <td>0.66</td>\n",
       "    </tr>\n",
       "    <tr>\n",
       "      <th>3</th>\n",
       "      <td>0.83</td>\n",
       "      <td>1.08</td>\n",
       "      <td>0.81</td>\n",
       "    </tr>\n",
       "    <tr>\n",
       "      <th>4</th>\n",
       "      <td>0.87</td>\n",
       "      <td>1.12</td>\n",
       "      <td>1.10</td>\n",
       "    </tr>\n",
       "  </tbody>\n",
       "</table>\n",
       "</div>"
      ],
      "text/plain": [
       "      backbone  protein  rank_5_ligand\n",
       "time                                  \n",
       "0         0.00     0.00           0.00\n",
       "1         0.54     0.77           0.97\n",
       "2         0.71     0.98           0.66\n",
       "3         0.83     1.08           0.81\n",
       "4         0.87     1.12           1.10"
      ]
     },
     "execution_count": 27,
     "metadata": {},
     "output_type": "execute_result"
    }
   ],
   "source": [
    "rmsd.rename(columns={\"resname UNK\": \"rank_5_ligand\"}, inplace=True)\n",
    "rmsd.head()"
   ]
  },
  {
   "cell_type": "code",
   "execution_count": 28,
   "metadata": {},
   "outputs": [
    {
     "data": {
      "image/png": "[encoded data removed]",
      "text/plain": [
       "<Figure size 640x480 with 1 Axes>"
      ]
     },
     "metadata": {},
     "output_type": "display_data"
    }
   ],
   "source": [
    "rmsd.plot(title=\"RMSD of protein and ligand\")\n",
    "plt.ylabel(\"RMSD (Å)\");"
   ]
  },
  {
   "cell_type": "code",
   "execution_count": 30,
   "metadata": {},
   "outputs": [],
   "source": [
    "rmsd.to_csv(\"rank_5_rmsd_results.csv\")"
   ]
  },
  {
   "cell_type": "code",
   "execution_count": 1,
   "metadata": {},
   "outputs": [],
   "source": [
    "import MDAnalysis as mda\n",
    "from MDAnalysis.analysis import align\n",
    "import MDAnalysis.transformations as trans\n",
    "from MDAnalysis.analysis.rms import RMSF\n",
    "\n",
    "import matplotlib.pyplot as plt"
   ]
  },
  {
   "cell_type": "code",
   "execution_count": 2,
   "metadata": {},
   "outputs": [
    {
     "name": "stderr",
     "output_type": "stream",
     "text": [
      "Warning: importing 'simtk.openmm' is deprecated.  Import 'openmm' instead.\n",
      "/home/media/data2/user_home/dbsejrgus226/miniconda3/envs/MD/lib/python3.8/site-packages/MDAnalysis/topology/PDBParser.py:276: UserWarning: PDB file is missing resid information.  Defaulted to '1'\n",
      "  warnings.warn(\"PDB file is missing resid information.  \"\n"
     ]
    }
   ],
   "source": [
    "md_universe = mda.Universe(str(\"./topology_5.pdb\"), str(\"./trajectory_5.xtc\"))\n",
    "protein = md_universe.select_atoms(\"protein\")\n",
    "\n",
    "# 1) the current trajectory contains a protein split across\n",
    "#    periodic boundaries, so we first make the protein whole and\n",
    "#    center it in the box using on-the-fly transformations\n",
    "not_protein = md_universe.select_atoms(\"not protein\")\n",
    "transforms = [trans.unwrap(protein),\n",
    "              trans.center_in_box(protein, wrap=True),\n",
    "              trans.wrap(not_protein)]\n",
    "md_universe.trajectory.add_transformations(*transforms)\n",
    "\n",
    "# 2) fit to the initial frame to get a better average structure\n",
    "#    (the trajectory is changed in memory)\n",
    "prealigner = align.AlignTraj(md_universe, md_universe, select=\"protein and name CA\",\n",
    "                             in_memory=True).run()\n",
    "\n",
    "# 3) reference = average structure\n",
    "reference_coordinates = md_universe.trajectory.timeseries(asel=protein).mean(axis=1)\n",
    "# make a reference structure (need to reshape into a 1-frame \"trajectory\")\n",
    "reference = mda.Merge(protein).load_new(\n",
    "    reference_coordinates[:, None, :], order=\"afc\")\n",
    "\n",
    "# We created a new universe reference that contains a single frame with the averaged coordinates of the protein.\n",
    "# Now we need to fit the whole trajectory to the reference by minimizing the RMSD. \n",
    "# We use MDAnalysis.analysis.align.AlignTraj:\n",
    "aligner = align.AlignTraj(md_universe, reference, select=\"protein and name CA\", in_memory=True).run()\n"
   ]
  },
  {
   "cell_type": "code",
   "execution_count": 3,
   "metadata": {},
   "outputs": [],
   "source": [
    "# The trajectory is now fitted to the reference (the RMSD is stored as aligner.rmsd for further inspection). \n",
    "# Now we can calculate the RMSF:\n",
    "calphas = protein.select_atoms(\"name CA\")\n",
    "rmsfer = RMSF(calphas, verbose=False).run()"
   ]
  },
  {
   "cell_type": "code",
   "execution_count": 4,
   "metadata": {},
   "outputs": [
    {
     "name": "stderr",
     "output_type": "stream",
     "text": [
      "/home/media/data2/user_home/dbsejrgus226/miniconda3/envs/MD/lib/python3.8/site-packages/MDAnalysis/analysis/rms.py:877: DeprecationWarning: The `rmsf` attribute was deprecated in MDAnalysis 2.0.0 and will be removed in MDAnalysis 3.0.0. Please use `results.rmsd` instead.\n",
      "  warnings.warn(wmsg, DeprecationWarning)\n"
     ]
    },
    {
     "data": {
      "image/png": "[encoded data removed]",
      "text/plain": [
       "<Figure size 640x480 with 1 Axes>"
      ]
     },
     "metadata": {},
     "output_type": "display_data"
    }
   ],
   "source": [
    "plt.plot(calphas.resnums, rmsfer.rmsf)\n",
    "plt.xlabel(\"Residue number\")\n",
    "plt.ylabel(\"RMSD (Å)\")\n",
    "plt.savefig(\"rank5_rmsf_results.png\")"
   ]
  },
  {
   "cell_type": "code",
   "execution_count": null,
   "metadata": {},
   "outputs": [],
   "source": []
  }
 ],
 "metadata": {
  "kernelspec": {
   "display_name": "Python 3",
   "language": "python",
   "name": "python3"
  },
  "language_info": {
   "codemirror_mode": {
    "name": "ipython",
    "version": 3
   },
   "file_extension": ".py",
   "mimetype": "text/x-python",
   "name": "python",
   "nbconvert_exporter": "python",
   "pygments_lexer": "ipython3",
   "version": "3.8.12"
  }
 },
 "nbformat": 4,
 "nbformat_minor": 2
}
