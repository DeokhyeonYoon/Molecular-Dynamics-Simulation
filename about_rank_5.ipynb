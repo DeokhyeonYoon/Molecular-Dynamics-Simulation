{
 "cells": [
  {
   "cell_type": "markdown",
   "metadata": {},
   "source": [
    "# MD Simultaion "
   ]
  },
  {
   "cell_type": "code",
   "execution_count": 1,
   "metadata": {},
   "outputs": [],
   "source": [
    "import copy\n",
    "from pathlib import Path\n",
    "import sys\n",
    "\n",
    "import requests\n",
    "from IPython.display import display\n",
    "import numpy as np\n",
    "from rdkit import Chem\n",
    "from rdkit.Chem import Draw\n",
    "from rdkit.Chem import AllChem\n",
    "import mdtraj as md\n",
    "import pdbfixer\n",
    "import openmm as mm\n",
    "import openmm.app as app\n",
    "from openmm import unit\n",
    "from openff.toolkit.topology import Molecule, Topology\n",
    "from openmmforcefields.generators import GAFFTemplateGenerator"
   ]
  },
  {
   "cell_type": "code",
   "execution_count": 2,
   "metadata": {},
   "outputs": [],
   "source": [
    "#import warnings\n",
    "\n",
    "# 경고를 무시하도록 설정합니다.\n",
    "#warnings.filterwarnings(\"ignore\", message=\"PDB file is missing resid information.\")\n",
    "#warnings.filterwarnings(\"ignore\", message=\"Reload offsets from trajectory\")\n",
    "#warnings.filterwarnings(\"ignore\", message=\"duplicate atom\")\n",
    "\n",
    "# 나머지 코드 실행"
   ]
  },
  {
   "cell_type": "code",
   "execution_count": 3,
   "metadata": {},
   "outputs": [],
   "source": [
    "import warnings\n",
    "warnings.filterwarnings(\"ignore\")"
   ]
  },
  {
   "cell_type": "code",
   "execution_count": 4,
   "metadata": {},
   "outputs": [],
   "source": [
    "def prepare_protein(\n",
    "    pdb_file, ignore_missing_residues=True, ignore_terminal_missing_residues=True, ph=7.0\n",
    "):\n",
    "    \"\"\"\n",
    "    Use pdbfixer to prepare the protein from a PDB file. Hetero atoms such as ligands are\n",
    "    removed and non-standard residues replaced. Missing atoms to existing residues are added.\n",
    "    Missing residues are ignored by default, but can be included.\n",
    "\n",
    "    Parameters\n",
    "    ----------\n",
    "    pdb_file: pathlib.Path or str\n",
    "        PDB file containing the system to simulate.\n",
    "    ignore_missing_residues: bool, optional\n",
    "        If missing residues should be ignored or built.\n",
    "    ignore_terminal_missing_residues: bool, optional\n",
    "        If missing residues at the beginning and the end of a chain should be ignored or built.\n",
    "    ph: float, optional\n",
    "        pH value used to determine protonation state of residues\n",
    "\n",
    "    Returns\n",
    "    -------\n",
    "    fixer: pdbfixer.pdbfixer.PDBFixer\n",
    "        Prepared protein system.\n",
    "    \"\"\"\n",
    "    fixer = pdbfixer.PDBFixer(str(pdb_file))\n",
    "    fixer.removeHeterogens()  # co-crystallized ligands are unknown to PDBFixer\n",
    "    fixer.findMissingResidues()  # identify missing residues, needed for identification of missing atoms\n",
    "\n",
    "    # if missing terminal residues shall be ignored, remove them from the dictionary\n",
    "    if ignore_terminal_missing_residues:\n",
    "        chains = list(fixer.topology.chains())\n",
    "        keys = fixer.missingResidues.keys()\n",
    "        for key in list(keys):\n",
    "            chain = chains[key[0]]\n",
    "            if key[1] == 0 or key[1] == len(list(chain.residues())):\n",
    "                del fixer.missingResidues[key]\n",
    "\n",
    "    # if all missing residues shall be ignored ignored, clear the dictionary\n",
    "    if ignore_missing_residues:\n",
    "        fixer.missingResidues = {}\n",
    "\n",
    "    fixer.findNonstandardResidues()  # find non-standard residue\n",
    "    fixer.replaceNonstandardResidues()  # replace non-standard residues with standard one\n",
    "    fixer.findMissingAtoms()  # find missing heavy atoms\n",
    "    fixer.addMissingAtoms()  # add missing atoms and residues\n",
    "    fixer.addMissingHydrogens(ph)  # add missing hydrogens\n",
    "    return fixer"
   ]
  },
  {
   "cell_type": "code",
   "execution_count": 5,
   "metadata": {},
   "outputs": [],
   "source": [
    "prepare_protein = prepare_protein(\"./protein_rank_5_ligand_complex.pdb\", ignore_missing_residues=False)"
   ]
  },
  {
   "cell_type": "code",
   "execution_count": 6,
   "metadata": {},
   "outputs": [],
   "source": [
    "def prepare_ligand(pdb_file, resname, smiles, depict=True):\n",
    "    \"\"\"\n",
    "    Prepare a ligand from a PDB file via adding hydrogens and assigning bond orders. A depiction\n",
    "    of the ligand before and after preparation is rendered in 2D to allow an inspection of the\n",
    "    results. Huge thanks to @j-wags for the suggestion.\n",
    "\n",
    "    Parameters\n",
    "    ----------\n",
    "    pdb_file: pathlib.PosixPath\n",
    "       PDB file containing the ligand of interest.\n",
    "    resname: str\n",
    "        Three character residue name of the ligand.\n",
    "    smiles : str\n",
    "        SMILES string of the ligand informing about correct protonation and bond orders.\n",
    "    depict: bool, optional\n",
    "        show a 2D representation of the ligand\n",
    "\n",
    "    Returns\n",
    "    -------\n",
    "    prepared_ligand: rdkit.Chem.rdchem.Mol\n",
    "        Prepared ligand.\n",
    "    \"\"\"\n",
    "    # split molecule\n",
    "    rdkit_mol = Chem.MolFromPDBFile(str(pdb_file), proximityBonding=True, sanitize=False)\n",
    "    print(rdkit_mol)\n",
    "    rdkit_mol_split = Chem.rdmolops.SplitMolByPDBResidues(rdkit_mol)\n",
    "\n",
    "    # extract the ligand and remove any already present hydrogens\n",
    "    ligand = rdkit_mol_split[resname]\n",
    "    ligand = Chem.RemoveHs(ligand)\n",
    "\n",
    "    # assign bond orders from template\n",
    "    reference_mol = Chem.MolFromSmiles(smiles)\n",
    "    prepared_ligand = AllChem.AssignBondOrdersFromTemplate(reference_mol, ligand)\n",
    "    prepared_ligand.AddConformer(ligand.GetConformer(0))\n",
    "\n",
    "    # protonate ligand\n",
    "    prepared_ligand = Chem.rdmolops.AddHs(prepared_ligand, addCoords=True)\n",
    "    prepared_ligand = Chem.MolFromMolBlock(Chem.MolToMolBlock(prepared_ligand))\n",
    "\n",
    "    # 2D depiction\n",
    "    if depict:\n",
    "        ligand_2d = copy.deepcopy(ligand)\n",
    "        prepared_ligand_2d = copy.deepcopy(prepared_ligand)\n",
    "        AllChem.Compute2DCoords(ligand_2d)\n",
    "        AllChem.Compute2DCoords(prepared_ligand_2d)\n",
    "        display(\n",
    "            Draw.MolsToGridImage(\n",
    "                [ligand_2d, prepared_ligand_2d], molsPerRow=2, legends=[\"original\", \"prepared\"]\n",
    "            )\n",
    "        )\n",
    "\n",
    "    # return ligand\n",
    "    return prepared_ligand"
   ]
  },
  {
   "cell_type": "code",
   "execution_count": 7,
   "metadata": {},
   "outputs": [],
   "source": [
    "pdb_path = \"./protein_rank_5_ligand_complex.pdb\"\n",
    "ligand_name = \"UNL\"\n",
    "smiles = \"COc1ccc(NC(=O)N2CCOCC2)c(OC)c1\""
   ]
  },
  {
   "cell_type": "code",
   "execution_count": 8,
   "metadata": {},
   "outputs": [
    {
     "name": "stdout",
     "output_type": "stream",
     "text": [
      "<rdkit.Chem.rdchem.Mol object at 0x7f03b4d7dcf0>\n"
     ]
    },
    {
     "name": "stderr",
     "output_type": "stream",
     "text": [
      "[15:02:11] WARNING: More than one matching pattern found - picking one\n",
      "\n"
     ]
    },
    {
     "data": {
      "image/png": "[encoded data removed]",
      "text/plain": [
       "<IPython.core.display.Image object>"
      ]
     },
     "metadata": {},
     "output_type": "display_data"
    }
   ],
   "source": [
    "rdkit_ligand = prepare_ligand(pdb_path, ligand_name, smiles)"
   ]
  },
  {
   "cell_type": "code",
   "execution_count": 9,
   "metadata": {},
   "outputs": [],
   "source": [
    "def rdkit_to_openmm(rdkit_mol, name=\"LIG\"):\n",
    "    \"\"\"\n",
    "    Convert an RDKit molecule to an OpenMM molecule.\n",
    "    Inspired by @hannahbrucemcdonald and @glass-w.\n",
    "\n",
    "    Parameters\n",
    "    ----------\n",
    "    rdkit_mol: rdkit.Chem.rdchem.Mol\n",
    "        RDKit molecule to convert.\n",
    "    name: str\n",
    "        Molecule name.\n",
    "\n",
    "    Returns\n",
    "    -------\n",
    "    omm_molecule: openmm.app.Modeller\n",
    "        OpenMM modeller object holding the molecule of interest.\n",
    "    \"\"\"\n",
    "    # convert RDKit to OpenFF\n",
    "    off_mol = Molecule.from_rdkit(rdkit_mol)\n",
    "    #print(off_mol)\n",
    "\n",
    "    # add name for molecule\n",
    "    off_mol.name = name\n",
    "    #print(off_mol.name)\n",
    "\n",
    "    # add names for atoms\n",
    "    element_counter_dict = {}\n",
    "    for off_atom, rdkit_atom in zip(off_mol.atoms, rdkit_mol.GetAtoms()):\n",
    "        element = rdkit_atom.GetSymbol()\n",
    "        if element in element_counter_dict.keys():\n",
    "            element_counter_dict[element] += 1\n",
    "        else:\n",
    "            element_counter_dict[element] = 1\n",
    "        off_atom.name = element + str(element_counter_dict[element])\n",
    "    #print(element_counter_dict)\n",
    "\n",
    "    # convert from OpenFF to OpenMM\n",
    "    off_mol_topology = off_mol.to_topology()\n",
    "    mol_topology = off_mol_topology.to_openmm()\n",
    "    #print(mol_topology)\n",
    "    mol_positions = off_mol.conformers[0]\n",
    "    #print(mol_positions)\n",
    "\n",
    "    # convert units from Ångström to nanometers\n",
    "    # since OpenMM works in nm\n",
    "    mol_positions = mol_positions.to(\"nanometers\")\n",
    "    #print(mol_positions)\n",
    "\n",
    "    # combine topology and positions in modeller object\n",
    "    omm_mol = app.Modeller(mol_topology, mol_positions)\n",
    "\n",
    "    return omm_mol"
   ]
  },
  {
   "cell_type": "code",
   "execution_count": 10,
   "metadata": {},
   "outputs": [],
   "source": [
    "omm_ligand = rdkit_to_openmm(rdkit_ligand, ligand_name)"
   ]
  },
  {
   "cell_type": "code",
   "execution_count": 11,
   "metadata": {},
   "outputs": [],
   "source": [
    "def merge_protein_and_ligand(protein, ligand):\n",
    "    \"\"\"\n",
    "    Merge two OpenMM objects.\n",
    "\n",
    "    Parameters\n",
    "    ----------\n",
    "    protein: pdbfixer.pdbfixer.PDBFixer\n",
    "        Protein to merge.\n",
    "    ligand: openmm.app.Modeller\n",
    "        Ligand to merge.\n",
    "\n",
    "    Returns\n",
    "    -------\n",
    "    complex_topology: openmm.app.topology.Topology\n",
    "        The merged topology.\n",
    "    complex_positions: openmm.unit.quantity.Quantity\n",
    "        The merged positions.\n",
    "    \"\"\"\n",
    "    # combine topologies\n",
    "    md_protein_topology = md.Topology.from_openmm(protein.topology)  # using mdtraj for protein top\n",
    "    #print(md_protein_topology)\n",
    "    md_ligand_topology = md.Topology.from_openmm(ligand.topology)  # using mdtraj for ligand top\n",
    "    #print(md_ligand_topology)\n",
    "    md_complex_topology = md_protein_topology.join(md_ligand_topology)  # add them together\n",
    "    #print(md_complex_topology)\n",
    "    complex_topology = md_complex_topology.to_openmm()\n",
    "    #print(complex_topology)\n",
    "\n",
    "    # combine positions\n",
    "    total_atoms = len(protein.positions) + len(ligand.positions)\n",
    "\n",
    "    # create an array for storing all atom positions as tupels containing a value and a unit\n",
    "    # called OpenMM Quantities\n",
    "    complex_positions = unit.Quantity(np.zeros([total_atoms, 3]), unit=unit.nanometers)\n",
    "    complex_positions[: len(protein.positions)] = protein.positions  # add protein positions\n",
    "    complex_positions[len(protein.positions) :] = ligand.positions  # add ligand positions\n",
    "\n",
    "    return complex_topology, complex_positions"
   ]
  },
  {
   "cell_type": "code",
   "execution_count": 12,
   "metadata": {},
   "outputs": [],
   "source": [
    "complex_topology, complex_positions = merge_protein_and_ligand(prepare_protein, omm_ligand)"
   ]
  },
  {
   "cell_type": "code",
   "execution_count": 13,
   "metadata": {},
   "outputs": [
    {
     "name": "stdout",
     "output_type": "stream",
     "text": [
      "Complex topology has 4198 atoms.\n"
     ]
    }
   ],
   "source": [
    "print(\"Complex topology has\", complex_topology.getNumAtoms(), \"atoms.\")\n",
    "# NBVAL_CHECK_OUTPUT"
   ]
  },
  {
   "cell_type": "code",
   "execution_count": 14,
   "metadata": {},
   "outputs": [],
   "source": [
    "def generate_forcefield(\n",
    "    rdkit_mol=None, protein_ff=\"amber14-all.xml\", solvent_ff=\"amber14/tip3pfb.xml\"\n",
    "):\n",
    "    \"\"\"\n",
    "    Generate an OpenMM Forcefield object and register a small molecule.\n",
    "\n",
    "    Parameters\n",
    "    ----------\n",
    "    rdkit_mol: rdkit.Chem.rdchem.Mol\n",
    "        Small molecule to register in the force field.\n",
    "    protein_ff: string\n",
    "        Name of the force field.\n",
    "    solvent_ff: string\n",
    "        Name of the solvent force field.\n",
    "\n",
    "    Returns\n",
    "    -------\n",
    "    forcefield: openmm.app.Forcefield\n",
    "        Forcefield with registered small molecule.\n",
    "    \"\"\"\n",
    "    forcefield = app.ForceField(protein_ff, solvent_ff)\n",
    "\n",
    "    if rdkit_mol is not None:\n",
    "        gaff = GAFFTemplateGenerator(\n",
    "            molecules=Molecule.from_rdkit(rdkit_mol, allow_undefined_stereo=True)\n",
    "        )\n",
    "        forcefield.registerTemplateGenerator(gaff.generator)\n",
    "\n",
    "    return forcefield"
   ]
  },
  {
   "cell_type": "code",
   "execution_count": 15,
   "metadata": {},
   "outputs": [],
   "source": [
    "forcefield = generate_forcefield(rdkit_ligand)"
   ]
  },
  {
   "cell_type": "code",
   "execution_count": 16,
   "metadata": {},
   "outputs": [
    {
     "name": "stderr",
     "output_type": "stream",
     "text": [
      "/bin/bash: /home/media/data2/user_home/dbsejrgus226/miniconda3/envs/MD/lib/libtinfo.so.6: no version information available (required by /bin/bash)\n",
      "/bin/bash: /home/media/data2/user_home/dbsejrgus226/miniconda3/envs/MD/lib/libtinfo.so.6: no version information available (required by /bin/bash)\n",
      "/bin/bash: /home/media/data2/user_home/dbsejrgus226/miniconda3/envs/MD/lib/libtinfo.so.6: no version information available (required by /bin/bash)\n",
      "/bin/bash: /home/media/data2/user_home/dbsejrgus226/miniconda3/envs/MD/lib/libtinfo.so.6: no version information available (required by /bin/bash)\n",
      "/bin/bash: /home/media/data2/user_home/dbsejrgus226/miniconda3/envs/MD/lib/libtinfo.so.6: no version information available (required by /bin/bash)\n",
      "/bin/bash: /home/media/data2/user_home/dbsejrgus226/miniconda3/envs/MD/lib/libtinfo.so.6: no version information available (required by /bin/bash)\n"
     ]
    }
   ],
   "source": [
    "modeller = app.Modeller(complex_topology, complex_positions)\n",
    "modeller.addSolvent(forcefield, padding=1.0 * unit.nanometers, ionicStrength=0.15 * unit.molar)"
   ]
  },
  {
   "cell_type": "code",
   "execution_count": 17,
   "metadata": {},
   "outputs": [],
   "source": [
    "system = forcefield.createSystem(modeller.topology, nonbondedMethod=app.PME)\n",
    "integrator = mm.LangevinIntegrator(\n",
    "    300 * unit.kelvin, 1.0 / unit.picoseconds, 2.0 * unit.femtoseconds\n",
    ")\n",
    "simulation = app.Simulation(modeller.topology, system, integrator)\n",
    "simulation.context.setPositions(modeller.positions)"
   ]
  },
  {
   "cell_type": "code",
   "execution_count": 18,
   "metadata": {},
   "outputs": [],
   "source": [
    "simulation.minimizeEnergy()\n",
    "with open(\"topology_5.pdb\", \"w\") as pdb_file:\n",
    "    app.PDBFile.writeFile(\n",
    "        simulation.topology,\n",
    "        simulation.context.getState(getPositions=True, enforcePeriodicBox=True).getPositions(),\n",
    "        file=pdb_file,\n",
    "        keepIds=True,\n",
    "    )"
   ]
  },
  {
   "cell_type": "code",
   "execution_count": 19,
   "metadata": {},
   "outputs": [],
   "source": [
    "# output settings\n",
    "\n",
    "steps = 50000  # corresponds to 100 fs\n",
    "write_interval = 500  # write every 10 fs\n",
    "log_interval = 250  # log progress to stdout every 5 fs\n",
    "simulation.reporters.append(\n",
    "    md.reporters.XTCReporter(file=str(\"trajectory_5.xtc\"), reportInterval=write_interval)\n",
    ")\n",
    "simulation.reporters.append(\n",
    "    app.StateDataReporter(\n",
    "        sys.stdout,\n",
    "        log_interval,\n",
    "        step=True,\n",
    "        potentialEnergy=True,\n",
    "        temperature=True,\n",
    "        progress=True,\n",
    "        remainingTime=True,\n",
    "        speed=True,\n",
    "        totalSteps=steps,\n",
    "        separator=\"\\t\",\n",
    "    )\n",
    ")"
   ]
  },
  {
   "cell_type": "code",
   "execution_count": 20,
   "metadata": {},
   "outputs": [
    {
     "name": "stdout",
     "output_type": "stream",
     "text": [
      "#\"Progress (%)\"\t\"Step\"\t\"Potential Energy (kJ/mole)\"\t\"Temperature (K)\"\t\"Speed (ns/day)\"\t\"Time Remaining\"\n",
      "0.5%\t250\t-875103.088541491\t206.1908497166055\t0\t--\n",
      "1.0%\t500\t-857299.703775866\t242.9759231775684\t150\t0:56\n",
      "1.5%\t750\t-845334.611978991\t264.006403065254\t152\t0:55\n",
      "2.0%\t1000\t-839300.686197741\t278.83057125626186\t152\t0:55\n",
      "2.5%\t1250\t-832935.695963366\t285.3335862894676\t152\t0:55\n",
      "3.0%\t1500\t-829870.846353991\t291.7703319536466\t152\t0:54\n",
      "3.5%\t1750\t-826809.432291491\t292.0068482668975\t153\t0:54\n",
      "4.0%\t2000\t-825950.281900866\t295.8661418748834\t153\t0:54\n",
      "4.5%\t2250\t-824147.442057116\t295.8042469074106\t153\t0:53\n",
      "5.0%\t2500\t-824962.008463366\t297.78691181561106\t153\t0:53\n",
      "5.5%\t2750\t-823184.432291491\t298.88736692925534\t153\t0:53\n",
      "6.0%\t3000\t-822833.713541491\t296.8715302164976\t153\t0:53\n",
      "6.5%\t3250\t-822920.268228991\t297.83942562994736\t153\t0:52\n",
      "7.0%\t3500\t-822917.276041491\t298.5563717623673\t153\t0:52\n",
      "7.5%\t3750\t-821883.246744616\t298.8124896596046\t153\t0:52\n",
      "8.0%\t4000\t-820690.277994616\t298.97606928335387\t152\t0:52\n",
      "8.5%\t4250\t-821179.531900866\t300.4964331247243\t152\t0:51\n",
      "9.0%\t4500\t-820150.649088366\t299.4788184965895\t152\t0:51\n",
      "9.5%\t4750\t-821507.111978991\t302.9270649091527\t152\t0:51\n",
      "10.0%\t5000\t-819342.197916491\t298.7502362143682\t152\t0:51\n",
      "10.5%\t5250\t-818761.305338366\t299.57119250379225\t152\t0:50\n",
      "11.0%\t5500\t-819376.736978991\t301.2236914096118\t152\t0:50\n",
      "11.5%\t5750\t-820410.817057116\t300.4314029151893\t152\t0:50\n",
      "12.0%\t6000\t-821301.356119616\t301.5418563772008\t152\t0:49\n",
      "12.5%\t6250\t-819982.385416491\t298.69111134306274\t152\t0:49\n",
      "13.0%\t6500\t-821612.248697741\t302.34668795265657\t152\t0:49\n",
      "13.5%\t6750\t-820745.059244616\t299.65847539216946\t152\t0:49\n",
      "14.0%\t7000\t-820504.063150866\t298.7267339115742\t152\t0:48\n",
      "14.5%\t7250\t-821230.658853991\t300.46470425621936\t152\t0:48\n",
      "15.0%\t7500\t-820543.717447741\t298.8292888362274\t152\t0:48\n",
      "15.5%\t7750\t-820818.910807116\t299.57484853418026\t152\t0:48\n",
      "16.0%\t8000\t-820769.180338366\t301.26541179556676\t152\t0:47\n",
      "16.5%\t8250\t-821285.096353991\t302.32242724040424\t152\t0:47\n",
      "17.0%\t8500\t-819943.307291491\t300.72660091801924\t152\t0:47\n",
      "17.5%\t8750\t-818667.926432116\t298.76841157712914\t152\t0:46\n",
      "18.0%\t9000\t-819049.422525866\t301.42864162115455\t152\t0:46\n",
      "18.5%\t9250\t-820157.320963366\t301.185260352228\t152\t0:46\n",
      "19.0%\t9500\t-821052.774088366\t301.4681550538608\t152\t0:46\n",
      "19.5%\t9750\t-820620.795572741\t301.2128389313497\t152\t0:45\n",
      "20.0%\t10000\t-820076.746744616\t297.8305453592509\t152\t0:45\n",
      "20.5%\t10250\t-820932.375650866\t300.99856493312063\t152\t0:45\n",
      "21.0%\t10500\t-820541.199869616\t299.72575169869424\t152\t0:44\n",
      "21.5%\t10750\t-819752.240885241\t299.88129326222474\t152\t0:44\n",
      "22.0%\t11000\t-819998.508463366\t302.54132119263437\t152\t0:44\n",
      "22.5%\t11250\t-819937.527994616\t301.93558565058424\t152\t0:44\n",
      "23.0%\t11500\t-820609.279947741\t301.01610077073855\t152\t0:43\n",
      "23.5%\t11750\t-819507.059244616\t299.99654685322673\t152\t0:43\n",
      "24.0%\t12000\t-820391.397135241\t299.9716105347281\t152\t0:43\n",
      "24.5%\t12250\t-821001.777994616\t301.44775530119864\t152\t0:42\n",
      "25.0%\t12500\t-820989.805338366\t300.8523920276215\t152\t0:42\n",
      "25.5%\t12750\t-819945.219400866\t299.49421831716774\t152\t0:42\n",
      "26.0%\t13000\t-820393.147135241\t299.1945644576269\t150\t0:42\n",
      "26.5%\t13250\t-820685.328775866\t298.9095699299094\t150\t0:42\n",
      "27.0%\t13500\t-820096.664713366\t300.8198542509761\t150\t0:42\n",
      "27.5%\t13750\t-820048.975260241\t300.2513056479451\t147\t0:42\n",
      "28.0%\t14000\t-819868.574869616\t299.0981236505797\t145\t0:42\n",
      "28.5%\t14250\t-819478.754557116\t298.53295717463726\t143\t0:43\n",
      "29.0%\t14500\t-820323.729166491\t301.568324692662\t141\t0:43\n",
      "29.5%\t14750\t-819933.768228991\t300.3379623747917\t139\t0:43\n",
      "30.0%\t15000\t-819308.518228991\t300.9671511965572\t137\t0:44\n",
      "30.5%\t15250\t-820287.621744616\t300.7740252208434\t136\t0:44\n",
      "31.0%\t15500\t-820661.619791491\t301.41454025914584\t134\t0:44\n",
      "31.5%\t15750\t-820614.152994616\t300.31264839972516\t133\t0:44\n",
      "32.0%\t16000\t-821196.002603991\t300.449732739572\t131\t0:44\n",
      "32.5%\t16250\t-821212.848307116\t298.4613178852647\t130\t0:44\n",
      "33.0%\t16500\t-822576.322916491\t299.6099445439624\t129\t0:44\n",
      "33.5%\t16750\t-822283.610025866\t300.54210665641256\t128\t0:44\n",
      "34.0%\t17000\t-820675.559244616\t299.2084791968255\t127\t0:45\n",
      "34.5%\t17250\t-820864.781900866\t302.53980146716304\t126\t0:45\n",
      "35.0%\t17500\t-819903.520182116\t299.5495677066338\t125\t0:45\n",
      "35.5%\t17750\t-821168.432291491\t301.65924846877465\t124\t0:45\n",
      "36.0%\t18000\t-821513.828775866\t301.759981751821\t123\t0:45\n",
      "36.5%\t18250\t-820974.529947741\t301.2595337885847\t122\t0:45\n",
      "37.0%\t18500\t-820893.518228991\t298.9791351477417\t121\t0:45\n",
      "37.5%\t18750\t-820742.873697741\t299.558400059155\t120\t0:44\n",
      "38.0%\t19000\t-819857.414713366\t299.2698939894552\t119\t0:44\n",
      "38.5%\t19250\t-819307.504557116\t300.1856993670675\t118\t0:44\n",
      "39.0%\t19500\t-821274.723307116\t300.383676550689\t118\t0:44\n",
      "39.5%\t19750\t-822548.350260241\t300.23406336822154\t117\t0:44\n",
      "40.0%\t20000\t-822107.340494616\t297.95832501886076\t116\t0:44\n",
      "40.5%\t20250\t-821910.580728991\t299.3483471351578\t116\t0:44\n",
      "41.0%\t20500\t-822142.699869616\t301.4404503369552\t115\t0:44\n",
      "41.5%\t20750\t-820939.895182116\t297.82124851012276\t114\t0:44\n",
      "42.0%\t21000\t-821663.166666491\t299.6965032496924\t113\t0:44\n",
      "42.5%\t21250\t-822247.465494616\t296.86876870511037\t113\t0:44\n",
      "43.0%\t21500\t-821983.324869616\t298.024230030917\t111\t0:44\n",
      "43.5%\t21750\t-822636.840494616\t299.6397690975412\t110\t0:44\n",
      "44.0%\t22000\t-821879.619791491\t299.7208494043043\t109\t0:44\n",
      "44.5%\t22250\t-822139.490885241\t298.61847796207223\t108\t0:44\n",
      "45.0%\t22500\t-822822.074869616\t298.8153410394257\t106\t0:44\n",
      "45.5%\t22750\t-823746.131510241\t299.83018460209234\t105\t0:44\n",
      "46.0%\t23000\t-823569.022135241\t299.5024033089988\t104\t0:44\n",
      "46.5%\t23250\t-822193.432291491\t299.32559145075294\t103\t0:44\n",
      "47.0%\t23500\t-822450.152994616\t299.81371944018633\t103\t0:44\n",
      "47.5%\t23750\t-821555.537760241\t299.44026464225635\t102\t0:44\n",
      "48.0%\t24000\t-821154.000650866\t296.73885124047945\t101\t0:44\n",
      "48.5%\t24250\t-821961.486978991\t300.5668192328433\t100\t0:44\n",
      "49.0%\t24500\t-821362.910807116\t300.90263026772885\t99.2\t0:44\n",
      "49.5%\t24750\t-821755.752603991\t298.80253487467013\t98.5\t0:44\n",
      "50.0%\t25000\t-821672.043619616\t298.76326267440936\t97.8\t0:44\n",
      "50.5%\t25250\t-819960.375650866\t298.23021701233534\t97.1\t0:44\n",
      "51.0%\t25500\t-821532.944010241\t299.18013943237145\t96.4\t0:43\n",
      "51.5%\t25750\t-822465.342447741\t301.28713959093034\t95.8\t0:43\n",
      "52.0%\t26000\t-821803.238932116\t300.8177086391929\t95.2\t0:43\n",
      "52.5%\t26250\t-820385.695963366\t298.39500390020146\t94.6\t0:43\n",
      "53.0%\t26500\t-822062.949869616\t301.9802745371063\t94\t0:43\n",
      "53.5%\t26750\t-821026.160807116\t300.76392949616087\t93.4\t0:42\n",
      "54.0%\t27000\t-821435.557291491\t301.06101049728943\t92.9\t0:42\n",
      "54.5%\t27250\t-821880.908853991\t302.1608854334282\t92.3\t0:42\n",
      "55.0%\t27500\t-820886.295572741\t298.28924136509744\t91.8\t0:42\n",
      "55.5%\t27750\t-821820.151041491\t299.80921546589576\t91.3\t0:42\n",
      "56.0%\t28000\t-822660.701822741\t299.60225744120305\t90.8\t0:41\n",
      "56.5%\t28250\t-821719.908853991\t296.7690689128147\t90.3\t0:41\n",
      "57.0%\t28500\t-821660.508463366\t298.2549363707843\t89.8\t0:41\n",
      "57.5%\t28750\t-822122.436197741\t298.0184597743688\t89.4\t0:41\n",
      "58.0%\t29000\t-822551.863932116\t298.84344918327264\t88.9\t0:40\n",
      "58.5%\t29250\t-822802.119791491\t298.41382587605165\t88.5\t0:40\n",
      "59.0%\t29500\t-822389.899088366\t299.50872853617795\t88.1\t0:40\n",
      "59.5%\t29750\t-821436.238932116\t300.73140193130257\t87.6\t0:39\n",
      "60.0%\t30000\t-820205.024088366\t298.61723243150686\t87.2\t0:39\n",
      "60.5%\t30250\t-820768.205728991\t298.78732967236596\t86.8\t0:39\n",
      "61.0%\t30500\t-821042.766275866\t300.39466063351256\t86.5\t0:38\n",
      "61.5%\t30750\t-820092.143228991\t297.3098530521267\t86.1\t0:38\n",
      "62.0%\t31000\t-821071.932291491\t299.4577230543629\t85.7\t0:38\n",
      "62.5%\t31250\t-820539.219400866\t299.5899648429577\t85.4\t0:37\n",
      "63.0%\t31500\t-820687.957682116\t301.2202158956497\t85.1\t0:37\n",
      "63.5%\t31750\t-821866.375650866\t302.3925244515942\t84.7\t0:37\n",
      "64.0%\t32000\t-821003.711588366\t300.68256875789587\t84.4\t0:36\n",
      "64.5%\t32250\t-821152.635416491\t299.59442453018136\t84.1\t0:36\n",
      "65.0%\t32500\t-821047.069010241\t298.57824060320195\t83.8\t0:36\n",
      "65.5%\t32750\t-822203.600260241\t301.02426720584094\t83.5\t0:35\n",
      "66.0%\t33000\t-821019.065103991\t298.40515458331674\t83.2\t0:35\n",
      "66.5%\t33250\t-821785.033853991\t301.5145431205118\t82.9\t0:34\n",
      "67.0%\t33500\t-822085.223307116\t300.9943997022013\t82.6\t0:34\n",
      "67.5%\t33750\t-821186.580728991\t297.71527476673623\t82.4\t0:34\n",
      "68.0%\t34000\t-821781.809244616\t301.1756634477359\t82.1\t0:33\n",
      "68.5%\t34250\t-821215.291666491\t300.02853502084116\t81.8\t0:33\n",
      "69.0%\t34500\t-822276.973307116\t301.7183581801482\t81.6\t0:32\n",
      "69.5%\t34750\t-821672.694010241\t300.7634846666198\t81.3\t0:32\n",
      "70.0%\t35000\t-821942.494791491\t301.3431075848978\t81.1\t0:31\n",
      "70.5%\t35250\t-821166.279947741\t298.1210294711271\t80.8\t0:31\n",
      "71.0%\t35500\t-820550.092447741\t301.4103848984198\t80.6\t0:31\n",
      "71.5%\t35750\t-820784.223307116\t301.3651059175677\t80.3\t0:30\n",
      "72.0%\t36000\t-819783.371744616\t297.89172126887576\t80.1\t0:30\n",
      "72.5%\t36250\t-820443.371744616\t299.66843003077423\t79.9\t0:29\n",
      "73.0%\t36500\t-820537.623697741\t301.81734499585116\t79.6\t0:29\n",
      "73.5%\t36750\t-820363.180338366\t300.1589445576597\t79.4\t0:28\n",
      "74.0%\t37000\t-820308.096353991\t300.82534592107044\t79.2\t0:28\n",
      "74.5%\t37250\t-821094.010416491\t301.43191306784337\t79\t0:27\n",
      "75.0%\t37500\t-820842.492838366\t299.9477212062627\t78.8\t0:27\n",
      "75.5%\t37750\t-821231.504557116\t301.2334079291926\t78.6\t0:26\n",
      "76.0%\t38000\t-819797.182291491\t303.12525581644604\t78.3\t0:26\n",
      "76.5%\t38250\t-819951.871744616\t300.0492892950827\t78.1\t0:25\n",
      "77.0%\t38500\t-820665.774088366\t301.7049587925792\t78\t0:25\n",
      "77.5%\t38750\t-820717.916666491\t302.236761551677\t77.8\t0:24\n",
      "78.0%\t39000\t-821538.182291491\t301.90831829684583\t77.6\t0:24\n",
      "78.5%\t39250\t-820683.057291491\t300.6172534353274\t77.4\t0:23\n",
      "79.0%\t39500\t-821087.772135241\t300.14122346091835\t77.2\t0:23\n",
      "79.5%\t39750\t-819774.547525866\t299.86176773788804\t77.1\t0:22\n",
      "80.0%\t40000\t-820016.154947741\t299.97102871387557\t76.9\t0:22\n",
      "80.5%\t40250\t-820991.592447741\t299.7180244603938\t76.7\t0:21\n",
      "81.0%\t40500\t-822054.596353991\t299.6261492306153\t76.5\t0:21\n",
      "81.5%\t40750\t-822628.233072741\t300.36423348495356\t76.4\t0:20\n",
      "82.0%\t41000\t-821119.508463366\t299.7397220335345\t76.2\t0:20\n",
      "82.5%\t41250\t-821321.988932116\t299.9526229681101\t76\t0:19\n",
      "83.0%\t41500\t-821766.498697741\t299.19055075064784\t75.8\t0:19\n",
      "83.5%\t41750\t-822253.553385241\t299.8768099644278\t75.7\t0:18\n",
      "84.0%\t42000\t-822395.225260241\t300.5062566188885\t75.5\t0:18\n",
      "84.5%\t42250\t-822636.235025866\t299.93547514155074\t75.3\t0:17\n",
      "85.0%\t42500\t-822215.586588366\t299.2834459371059\t75.1\t0:17\n",
      "85.5%\t42750\t-821649.192057116\t301.27919850619776\t74.9\t0:16\n",
      "86.0%\t43000\t-820430.111978991\t299.495513814656\t74.7\t0:16\n",
      "86.5%\t43250\t-820585.090494616\t299.85226811304636\t74.6\t0:15\n",
      "87.0%\t43500\t-821562.606119616\t300.28508603560175\t74.4\t0:15\n",
      "87.5%\t43750\t-821989.426432116\t300.1921562630894\t74.2\t0:14\n",
      "88.0%\t44000\t-821434.797525866\t299.55876822341037\t74.1\t0:13\n",
      "88.5%\t44250\t-822229.690103991\t301.3194402248372\t73.9\t0:13\n",
      "89.0%\t44500\t-821512.303385241\t301.48695264554084\t73.7\t0:12\n",
      "89.5%\t44750\t-821030.334635241\t300.5655428625822\t73.6\t0:12\n",
      "90.0%\t45000\t-821543.043619616\t301.0078741347883\t73.4\t0:11\n",
      "90.5%\t45250\t-820595.235025866\t299.25962186999305\t73.3\t0:11\n",
      "91.0%\t45500\t-819784.940103991\t297.04185982909644\t73.2\t0:10\n",
      "91.5%\t45750\t-821753.860025866\t300.4927318809984\t73\t0:10\n",
      "92.0%\t46000\t-821338.377603991\t303.28647316640377\t72.9\t0:09\n",
      "92.5%\t46250\t-820754.379557116\t300.52701262194887\t72.7\t0:08\n",
      "93.0%\t46500\t-821635.983072741\t300.8211149779473\t72.6\t0:08\n",
      "93.5%\t46750\t-820509.438150866\t299.4525686441219\t72.4\t0:07\n",
      "94.0%\t47000\t-819806.510416491\t299.2013984718199\t72.3\t0:07\n",
      "94.5%\t47250\t-821151.945963366\t301.60807174292256\t72.2\t0:06\n",
      "95.0%\t47500\t-821065.569010241\t297.44119308821\t72\t0:05\n",
      "95.5%\t47750\t-820550.965494616\t299.9731068234059\t71.9\t0:05\n",
      "96.0%\t48000\t-820265.592447741\t300.5577643165425\t71.8\t0:04\n",
      "96.5%\t48250\t-818767.188150866\t301.1602067865039\t71.6\t0:04\n",
      "97.0%\t48500\t-819937.719400866\t301.26021945432433\t71.5\t0:03\n",
      "97.5%\t48750\t-820915.899088366\t299.6277121306296\t71.4\t0:03\n",
      "98.0%\t49000\t-820247.539713366\t300.22326703477256\t71.3\t0:02\n",
      "98.5%\t49250\t-821062.539713366\t300.5914457696101\t71.1\t0:01\n",
      "99.0%\t49500\t-821042.994791491\t300.1514285914024\t71\t0:01\n",
      "99.5%\t49750\t-820438.508463366\t298.8438593498011\t70.9\t0:00\n",
      "100.0%\t50000\t-819420.729166491\t300.8008539839127\t70.8\t0:00\n"
     ]
    }
   ],
   "source": [
    "simulation.context.setVelocitiesToTemperature(300 * unit.kelvin)\n",
    "simulation.step(steps)  # perform the simulation"
   ]
  },
  {
   "cell_type": "code",
   "execution_count": 21,
   "metadata": {},
   "outputs": [
    {
     "name": "stdout",
     "output_type": "stream",
     "text": [
      "os.stat_result(st_mode=33204, st_ino=235276834, st_dev=2080, st_nlink=1, st_uid=1002, st_gid=1002, st_size=19112800, st_atime=1716185052, st_mtime=1716185175, st_ctime=1716185175)\n"
     ]
    }
   ],
   "source": [
    "# Check the trajectory exists and is not empty\n",
    "import os \n",
    "result = \"./trajectory_5.xtc\"\n",
    "file_info = os.stat(result)\n",
    "print(file_info)\n",
    "#result.stat().st_size > 0\n",
    "# NBVAL_CHECK_OUTPUT"
   ]
  },
  {
   "cell_type": "markdown",
   "metadata": {},
   "source": [
    "# Analysis MD Simulation results"
   ]
  },
  {
   "cell_type": "code",
   "execution_count": 22,
   "metadata": {},
   "outputs": [
    {
     "data": {
      "application/vnd.jupyter.widget-view+json": {
       "model_id": "ba912a15bdfe4fd1ba9b2f6396b0abd5",
       "version_major": 2,
       "version_minor": 0
      },
      "text/plain": []
     },
     "metadata": {},
     "output_type": "display_data"
    }
   ],
   "source": [
    "from pathlib import Path\n",
    "\n",
    "import pandas as pd\n",
    "import numpy as np\n",
    "import matplotlib.pyplot as plt\n",
    "import nglview as nv\n",
    "import MDAnalysis as mda\n",
    "from MDAnalysis.analysis import rms, diffusionmap, align\n",
    "from MDAnalysis.analysis.distances import dist\n",
    "from MDAnalysis.analysis.hydrogenbonds.hbond_analysis import HydrogenBondAnalysis as HBA\n"
   ]
  },
  {
   "cell_type": "code",
   "execution_count": 23,
   "metadata": {},
   "outputs": [],
   "source": [
    "md_universe = mda.Universe(str(\"./topology_5.pdb\"), str(\"./trajectory_5.xtc\"))"
   ]
  },
  {
   "cell_type": "code",
   "execution_count": 24,
   "metadata": {},
   "outputs": [
    {
     "data": {
      "text/plain": [
       "<MDAnalysis.analysis.align.AlignTraj at 0x7f03b4b467c0>"
      ]
     },
     "execution_count": 24,
     "metadata": {},
     "output_type": "execute_result"
    }
   ],
   "source": [
    "# Set trajectory pointer to first frame as reference\n",
    "md_universe.trajectory[0]\n",
    "\n",
    "# in_memory=True is needed to actually modify the loaded trajectory\n",
    "# if the trajectory is too big for memory, one can write out the aligned trajectory and reload it into a new universe\n",
    "alignment = align.AlignTraj(\n",
    "    mobile=md_universe, reference=md_universe, select=\"protein\", in_memory=True\n",
    ")\n",
    "alignment.run()"
   ]
  },
  {
   "cell_type": "code",
   "execution_count": 25,
   "metadata": {},
   "outputs": [],
   "source": [
    "def rmsd_for_atomgroups(universe, selection1, selection2=None):\n",
    "    \"\"\"Calulate the RMSD for selected atom groups.\n",
    "\n",
    "    Parameters\n",
    "    ----------\n",
    "    universe: MDAnalysis.core.universe.Universe\n",
    "        MDAnalysis universe.\n",
    "    selection1: str\n",
    "        Selection string for main atom group, also used during alignment.\n",
    "    selection2: list of str, optional\n",
    "        Selection strings for additional atom groups.\n",
    "\n",
    "    Returns\n",
    "    -------\n",
    "    rmsd_df: pandas.core.frame.DataFrame\n",
    "        DataFrame containing RMSD of the selected atom groups over time.\n",
    "    \"\"\"\n",
    "\n",
    "    universe.trajectory\n",
    "    ref = universe\n",
    "    rmsd_analysis = rms.RMSD(universe, ref, select=selection1, groupselections=selection2)\n",
    "    rmsd_analysis.run()\n",
    "\n",
    "    columns = [selection1, *selection2] if selection2 else [selection1]\n",
    "    #print(rmsd_analysis.results)\n",
    "    #print(rmsd_analysis)\n",
    "    rmsd_df = pd.DataFrame(np.round(rmsd_analysis.results.rmsd[:, 2:], 2), columns=columns)\n",
    "    rmsd_df.index.name = \"time\"\n",
    "    return rmsd_df"
   ]
  },
  {
   "cell_type": "code",
   "execution_count": 26,
   "metadata": {},
   "outputs": [],
   "source": [
    "rmsd = rmsd_for_atomgroups(md_universe, \"backbone\", [\"protein\", \"resname UNK\"])\n",
    "#rmsd[:20]"
   ]
  },
  {
   "cell_type": "code",
   "execution_count": 27,
   "metadata": {},
   "outputs": [
    {
     "data": {
      "text/html": [
       "<div>\n",
       "<style scoped>\n",
       "    .dataframe tbody tr th:only-of-type {\n",
       "        vertical-align: middle;\n",
       "    }\n",
       "\n",
       "    .dataframe tbody tr th {\n",
       "        vertical-align: top;\n",
       "    }\n",
       "\n",
       "    .dataframe thead th {\n",
       "        text-align: right;\n",
       "    }\n",
       "</style>\n",
       "<table border=\"1\" class=\"dataframe\">\n",
       "  <thead>\n",
       "    <tr style=\"text-align: right;\">\n",
       "      <th></th>\n",
       "      <th>backbone</th>\n",
       "      <th>protein</th>\n",
       "      <th>rank_5_ligand</th>\n",
       "    </tr>\n",
       "    <tr>\n",
       "      <th>time</th>\n",
       "      <th></th>\n",
       "      <th></th>\n",
       "      <th></th>\n",
       "    </tr>\n",
       "  </thead>\n",
       "  <tbody>\n",
       "    <tr>\n",
       "      <th>0</th>\n",
       "      <td>0.00</td>\n",
       "      <td>0.00</td>\n",
       "      <td>0.00</td>\n",
       "    </tr>\n",
       "    <tr>\n",
       "      <th>1</th>\n",
       "      <td>0.63</td>\n",
       "      <td>0.84</td>\n",
       "      <td>1.43</td>\n",
       "    </tr>\n",
       "    <tr>\n",
       "      <th>2</th>\n",
       "      <td>0.65</td>\n",
       "      <td>0.95</td>\n",
       "      <td>2.08</td>\n",
       "    </tr>\n",
       "    <tr>\n",
       "      <th>3</th>\n",
       "      <td>0.69</td>\n",
       "      <td>1.01</td>\n",
       "      <td>2.03</td>\n",
       "    </tr>\n",
       "    <tr>\n",
       "      <th>4</th>\n",
       "      <td>0.82</td>\n",
       "      <td>1.13</td>\n",
       "      <td>2.46</td>\n",
       "    </tr>\n",
       "  </tbody>\n",
       "</table>\n",
       "</div>"
      ],
      "text/plain": [
       "      backbone  protein  rank_5_ligand\n",
       "time                                  \n",
       "0         0.00     0.00           0.00\n",
       "1         0.63     0.84           1.43\n",
       "2         0.65     0.95           2.08\n",
       "3         0.69     1.01           2.03\n",
       "4         0.82     1.13           2.46"
      ]
     },
     "execution_count": 27,
     "metadata": {},
     "output_type": "execute_result"
    }
   ],
   "source": [
    "rmsd.rename(columns={\"resname UNK\": \"rank_5_ligand\"}, inplace=True)\n",
    "rmsd.head()"
   ]
  },
  {
   "cell_type": "code",
   "execution_count": 28,
   "metadata": {},
   "outputs": [
    {
     "data": {
      "image/png": "[encoded data removed]",
      "text/plain": [
       "<Figure size 640x480 with 1 Axes>"
      ]
     },
     "metadata": {},
     "output_type": "display_data"
    }
   ],
   "source": [
    "rmsd.plot(title=\"RMSD of protein and ligand\")\n",
    "plt.ylabel(\"RMSD (Å)\");"
   ]
  },
  {
   "cell_type": "code",
   "execution_count": 29,
   "metadata": {},
   "outputs": [],
   "source": [
    "#rmsd.to_csv(\"rank_5_rmsd_results.csv\")"
   ]
  },
  {
   "cell_type": "code",
   "execution_count": null,
   "metadata": {},
   "outputs": [],
   "source": []
  }
 ],
 "metadata": {
  "kernelspec": {
   "display_name": "Python 3",
   "language": "python",
   "name": "python3"
  },
  "language_info": {
   "codemirror_mode": {
    "name": "ipython",
    "version": 3
   },
   "file_extension": ".py",
   "mimetype": "text/x-python",
   "name": "python",
   "nbconvert_exporter": "python",
   "pygments_lexer": "ipython3",
   "version": "3.8.19"
  }
 },
 "nbformat": 4,
 "nbformat_minor": 2
}
